{
  "nbformat": 4,
  "nbformat_minor": 0,
  "metadata": {
    "kernelspec": {
      "display_name": "Python 3",
      "language": "python",
      "name": "python3"
    },
    "language_info": {
      "codemirror_mode": {
        "name": "ipython",
        "version": 3
      },
      "file_extension": ".py",
      "mimetype": "text/x-python",
      "name": "python",
      "nbconvert_exporter": "python",
      "pygments_lexer": "ipython3",
      "version": "3.8.5"
    },
    "colab": {
      "name": "Data 205_Project_Part I_detention_csv.ipynb",
      "provenance": [],
      "include_colab_link": true
    }
  },
  "cells": [
    {
      "cell_type": "markdown",
      "metadata": {
        "id": "view-in-github",
        "colab_type": "text"
      },
      "source": [
        "<a href=\"https://colab.research.google.com/github/jcj217-mc/Data_205/blob/main/Data_205_Project_Part_I_detention_csv.ipynb\" target=\"_parent\"><img src=\"https://colab.research.google.com/assets/colab-badge.svg\" alt=\"Open In Colab\"/></a>"
      ]
    },
    {
      "cell_type": "code",
      "metadata": {
        "id": "ZOn7_gbFAmEw"
      },
      "source": [
        "# import packages\n",
        "import pandas as pd\n",
        "import numpy as np\n",
        "import os "
      ],
      "execution_count": 2,
      "outputs": []
    },
    {
      "cell_type": "code",
      "metadata": {
        "id": "KCUSr4GsAmEy",
        "colab": {
          "base_uri": "https://localhost:8080/",
          "height": 35
        },
        "outputId": "6eca28c1-0e4d-4bdc-b2f5-b9cf27c51312"
      },
      "source": [
        "# check working directory\n",
        "os.getcwd()"
      ],
      "execution_count": 7,
      "outputs": [
        {
          "output_type": "execute_result",
          "data": {
            "application/vnd.google.colaboratory.intrinsic+json": {
              "type": "string"
            },
            "text/plain": [
              "'/content'"
            ]
          },
          "metadata": {
            "tags": []
          },
          "execution_count": 7
        }
      ]
    },
    {
      "cell_type": "code",
      "metadata": {
        "id": "bw15yB7yAmEz",
        "colab": {
          "base_uri": "https://localhost:8080/",
          "height": 198
        },
        "outputId": "22f57968-7978-48d0-c53c-78d0c7e81c6b"
      },
      "source": [
        "# change working directory - Jupyter hard drive only\n",
        "# os.chdir('/Users/Valued Customer/Desktop/Montgomery College/DATA 205/Project')"
      ],
      "execution_count": 8,
      "outputs": [
        {
          "output_type": "error",
          "ename": "FileNotFoundError",
          "evalue": "ignored",
          "traceback": [
            "\u001b[0;31m---------------------------------------------------------------------------\u001b[0m",
            "\u001b[0;31mFileNotFoundError\u001b[0m                         Traceback (most recent call last)",
            "\u001b[0;32m<ipython-input-8-27a5b3c1a416>\u001b[0m in \u001b[0;36m<module>\u001b[0;34m()\u001b[0m\n\u001b[1;32m      1\u001b[0m \u001b[0;31m# change working directory\u001b[0m\u001b[0;34m\u001b[0m\u001b[0;34m\u001b[0m\u001b[0;34m\u001b[0m\u001b[0m\n\u001b[0;32m----> 2\u001b[0;31m \u001b[0mos\u001b[0m\u001b[0;34m.\u001b[0m\u001b[0mchdir\u001b[0m\u001b[0;34m(\u001b[0m\u001b[0;34m'/Users/Valued Customer/Desktop/Montgomery College/DATA 205/Project'\u001b[0m\u001b[0;34m)\u001b[0m\u001b[0;34m\u001b[0m\u001b[0;34m\u001b[0m\u001b[0m\n\u001b[0m",
            "\u001b[0;31mFileNotFoundError\u001b[0m: [Errno 2] No such file or directory: '/Users/Valued Customer/Desktop/Montgomery College/DATA 205/Project'"
          ]
        }
      ]
    },
    {
      "cell_type": "code",
      "metadata": {
        "id": "q2YvgDdsAmEz"
      },
      "source": [
        "# check new working directory - only for Jupyter \n",
        "# os.getcwd()"
      ],
      "execution_count": null,
      "outputs": []
    },
    {
      "cell_type": "code",
      "metadata": {
        "id": "qCzmDsj6AmE0",
        "colab": {
          "base_uri": "https://localhost:8080/"
        },
        "outputId": "17e21d9e-4399-4d6f-a4c4-23518367471c"
      },
      "source": [
        "# Jupyter: read Correctional Facility Average Daily Population dataset of from a CSV and store the results in a DataFrame\n",
        "df_1 = pd.read_csv(\"Correctional_Facility_Average_Daily_Population.csv\", index_col=False)\n",
        "head = df_1.head(10)\n",
        "print(head)"
      ],
      "execution_count": 9,
      "outputs": [
        {
          "output_type": "stream",
          "text": [
            "               Month/Year  ... Average Daily Population\n",
            "0  01/01/2016 12:00:00 AM  ...                      124\n",
            "1  02/01/2017 12:00:00 AM  ...                      508\n",
            "2  02/01/2017 12:00:00 AM  ...                      707\n",
            "3  02/01/2017 12:00:00 AM  ...                      129\n",
            "4  02/01/2017 12:00:00 AM  ...                      731\n",
            "5  09/01/2015 12:00:00 AM  ...                      703\n",
            "6  11/01/2015 12:00:00 AM  ...                      655\n",
            "7  02/01/2017 12:00:00 AM  ...                       59\n",
            "8  02/01/2017 12:00:00 AM  ...                      156\n",
            "9  03/01/2017 12:00:00 AM  ...                      563\n",
            "\n",
            "[10 rows x 5 columns]\n"
          ],
          "name": "stdout"
        }
      ]
    },
    {
      "cell_type": "code",
      "metadata": {
        "colab": {
          "base_uri": "https://localhost:8080/",
          "height": 323
        },
        "id": "izrGHpKpHhkH",
        "outputId": "f638305a-882d-4bc7-c1c3-c3db9c25a587"
      },
      "source": [
        "df_1.head()"
      ],
      "execution_count": 10,
      "outputs": [
        {
          "output_type": "execute_result",
          "data": {
            "text/html": [
              "<div>\n",
              "<style scoped>\n",
              "    .dataframe tbody tr th:only-of-type {\n",
              "        vertical-align: middle;\n",
              "    }\n",
              "\n",
              "    .dataframe tbody tr th {\n",
              "        vertical-align: top;\n",
              "    }\n",
              "\n",
              "    .dataframe thead th {\n",
              "        text-align: right;\n",
              "    }\n",
              "</style>\n",
              "<table border=\"1\" class=\"dataframe\">\n",
              "  <thead>\n",
              "    <tr style=\"text-align: right;\">\n",
              "      <th></th>\n",
              "      <th>Month/Year</th>\n",
              "      <th>Detention Services and Community Corrections</th>\n",
              "      <th>Detention Services and Community Corrections Names</th>\n",
              "      <th>Category</th>\n",
              "      <th>Average Daily Population</th>\n",
              "    </tr>\n",
              "  </thead>\n",
              "  <tbody>\n",
              "    <tr>\n",
              "      <th>0</th>\n",
              "      <td>01/01/2016 12:00:00 AM</td>\n",
              "      <td>PRRS</td>\n",
              "      <td>Pre-Release and Re-Entry Services</td>\n",
              "      <td>Inmates in DOCR Custody</td>\n",
              "      <td>124</td>\n",
              "    </tr>\n",
              "    <tr>\n",
              "      <th>1</th>\n",
              "      <td>02/01/2017 12:00:00 AM</td>\n",
              "      <td>MCCF</td>\n",
              "      <td>Montgomery County Correctional Facility</td>\n",
              "      <td>Inmates in DOCR Custody</td>\n",
              "      <td>508</td>\n",
              "    </tr>\n",
              "    <tr>\n",
              "      <th>2</th>\n",
              "      <td>02/01/2017 12:00:00 AM</td>\n",
              "      <td>PTSU</td>\n",
              "      <td>Pre-Trial Supervision Unit</td>\n",
              "      <td>Criminal Justice Clients under Pre-Trial Services</td>\n",
              "      <td>707</td>\n",
              "    </tr>\n",
              "    <tr>\n",
              "      <th>3</th>\n",
              "      <td>02/01/2017 12:00:00 AM</td>\n",
              "      <td>PRRS</td>\n",
              "      <td>Pre-Release and Re-Entry Services</td>\n",
              "      <td>Inmates in DOCR Custody</td>\n",
              "      <td>129</td>\n",
              "    </tr>\n",
              "    <tr>\n",
              "      <th>4</th>\n",
              "      <td>02/01/2017 12:00:00 AM</td>\n",
              "      <td>ACS</td>\n",
              "      <td>Alternative Community Services</td>\n",
              "      <td>Criminal Justice Clients under Pre-Trial Services</td>\n",
              "      <td>731</td>\n",
              "    </tr>\n",
              "  </tbody>\n",
              "</table>\n",
              "</div>"
            ],
            "text/plain": [
              "               Month/Year  ... Average Daily Population\n",
              "0  01/01/2016 12:00:00 AM  ...                      124\n",
              "1  02/01/2017 12:00:00 AM  ...                      508\n",
              "2  02/01/2017 12:00:00 AM  ...                      707\n",
              "3  02/01/2017 12:00:00 AM  ...                      129\n",
              "4  02/01/2017 12:00:00 AM  ...                      731\n",
              "\n",
              "[5 rows x 5 columns]"
            ]
          },
          "metadata": {
            "tags": []
          },
          "execution_count": 10
        }
      ]
    },
    {
      "cell_type": "markdown",
      "metadata": {
        "id": "m00ri5TyAmE0"
      },
      "source": [
        "Note:  Montgomery County Correctional Facility (MCFF) custody of pre-trial status or serving up to 18 months.  Montgomery County Detention Center (MCDC) is where initial intake screenings occur prior to transfer to the correctional facility."
      ]
    },
    {
      "cell_type": "code",
      "metadata": {
        "id": "5isa-N6jAmE0",
        "colab": {
          "base_uri": "https://localhost:8080/",
          "height": 596
        },
        "outputId": "f68465bf-9ed4-4ee5-ca6e-8944275e3258"
      },
      "source": [
        "# Remove \"0:00\" from Month/Year column\n",
        "df_1['Month/Year'].str.rstrip('12:00:00')"
      ],
      "execution_count": 69,
      "outputs": [
        {
          "output_type": "error",
          "ename": "KeyError",
          "evalue": "ignored",
          "traceback": [
            "\u001b[0;31m---------------------------------------------------------------------------\u001b[0m",
            "\u001b[0;31mKeyError\u001b[0m                                  Traceback (most recent call last)",
            "\u001b[0;32m/usr/local/lib/python3.7/dist-packages/pandas/core/indexes/base.py\u001b[0m in \u001b[0;36mget_loc\u001b[0;34m(self, key, method, tolerance)\u001b[0m\n\u001b[1;32m   2897\u001b[0m             \u001b[0;32mtry\u001b[0m\u001b[0;34m:\u001b[0m\u001b[0;34m\u001b[0m\u001b[0;34m\u001b[0m\u001b[0m\n\u001b[0;32m-> 2898\u001b[0;31m                 \u001b[0;32mreturn\u001b[0m \u001b[0mself\u001b[0m\u001b[0;34m.\u001b[0m\u001b[0m_engine\u001b[0m\u001b[0;34m.\u001b[0m\u001b[0mget_loc\u001b[0m\u001b[0;34m(\u001b[0m\u001b[0mcasted_key\u001b[0m\u001b[0;34m)\u001b[0m\u001b[0;34m\u001b[0m\u001b[0;34m\u001b[0m\u001b[0m\n\u001b[0m\u001b[1;32m   2899\u001b[0m             \u001b[0;32mexcept\u001b[0m \u001b[0mKeyError\u001b[0m \u001b[0;32mas\u001b[0m \u001b[0merr\u001b[0m\u001b[0;34m:\u001b[0m\u001b[0;34m\u001b[0m\u001b[0;34m\u001b[0m\u001b[0m\n",
            "\u001b[0;32mpandas/_libs/index.pyx\u001b[0m in \u001b[0;36mpandas._libs.index.IndexEngine.get_loc\u001b[0;34m()\u001b[0m\n",
            "\u001b[0;32mpandas/_libs/index.pyx\u001b[0m in \u001b[0;36mpandas._libs.index.IndexEngine.get_loc\u001b[0;34m()\u001b[0m\n",
            "\u001b[0;32mpandas/_libs/hashtable_class_helper.pxi\u001b[0m in \u001b[0;36mpandas._libs.hashtable.PyObjectHashTable.get_item\u001b[0;34m()\u001b[0m\n",
            "\u001b[0;32mpandas/_libs/hashtable_class_helper.pxi\u001b[0m in \u001b[0;36mpandas._libs.hashtable.PyObjectHashTable.get_item\u001b[0;34m()\u001b[0m\n",
            "\u001b[0;31mKeyError\u001b[0m: 'Month/Year'",
            "\nThe above exception was the direct cause of the following exception:\n",
            "\u001b[0;31mKeyError\u001b[0m                                  Traceback (most recent call last)",
            "\u001b[0;32m<ipython-input-69-ad60bf3bd354>\u001b[0m in \u001b[0;36m<module>\u001b[0;34m()\u001b[0m\n\u001b[1;32m      1\u001b[0m \u001b[0;31m# Remove \"0:00\" from Month/Year column\u001b[0m\u001b[0;34m\u001b[0m\u001b[0;34m\u001b[0m\u001b[0;34m\u001b[0m\u001b[0m\n\u001b[0;32m----> 2\u001b[0;31m \u001b[0mdf_1\u001b[0m\u001b[0;34m[\u001b[0m\u001b[0;34m'Month/Year'\u001b[0m\u001b[0;34m]\u001b[0m\u001b[0;34m.\u001b[0m\u001b[0mstr\u001b[0m\u001b[0;34m.\u001b[0m\u001b[0mrstrip\u001b[0m\u001b[0;34m(\u001b[0m\u001b[0;34m'12:00:00'\u001b[0m\u001b[0;34m)\u001b[0m\u001b[0;34m\u001b[0m\u001b[0;34m\u001b[0m\u001b[0m\n\u001b[0m",
            "\u001b[0;32m/usr/local/lib/python3.7/dist-packages/pandas/core/frame.py\u001b[0m in \u001b[0;36m__getitem__\u001b[0;34m(self, key)\u001b[0m\n\u001b[1;32m   2904\u001b[0m             \u001b[0;32mif\u001b[0m \u001b[0mself\u001b[0m\u001b[0;34m.\u001b[0m\u001b[0mcolumns\u001b[0m\u001b[0;34m.\u001b[0m\u001b[0mnlevels\u001b[0m \u001b[0;34m>\u001b[0m \u001b[0;36m1\u001b[0m\u001b[0;34m:\u001b[0m\u001b[0;34m\u001b[0m\u001b[0;34m\u001b[0m\u001b[0m\n\u001b[1;32m   2905\u001b[0m                 \u001b[0;32mreturn\u001b[0m \u001b[0mself\u001b[0m\u001b[0;34m.\u001b[0m\u001b[0m_getitem_multilevel\u001b[0m\u001b[0;34m(\u001b[0m\u001b[0mkey\u001b[0m\u001b[0;34m)\u001b[0m\u001b[0;34m\u001b[0m\u001b[0;34m\u001b[0m\u001b[0m\n\u001b[0;32m-> 2906\u001b[0;31m             \u001b[0mindexer\u001b[0m \u001b[0;34m=\u001b[0m \u001b[0mself\u001b[0m\u001b[0;34m.\u001b[0m\u001b[0mcolumns\u001b[0m\u001b[0;34m.\u001b[0m\u001b[0mget_loc\u001b[0m\u001b[0;34m(\u001b[0m\u001b[0mkey\u001b[0m\u001b[0;34m)\u001b[0m\u001b[0;34m\u001b[0m\u001b[0;34m\u001b[0m\u001b[0m\n\u001b[0m\u001b[1;32m   2907\u001b[0m             \u001b[0;32mif\u001b[0m \u001b[0mis_integer\u001b[0m\u001b[0;34m(\u001b[0m\u001b[0mindexer\u001b[0m\u001b[0;34m)\u001b[0m\u001b[0;34m:\u001b[0m\u001b[0;34m\u001b[0m\u001b[0;34m\u001b[0m\u001b[0m\n\u001b[1;32m   2908\u001b[0m                 \u001b[0mindexer\u001b[0m \u001b[0;34m=\u001b[0m \u001b[0;34m[\u001b[0m\u001b[0mindexer\u001b[0m\u001b[0;34m]\u001b[0m\u001b[0;34m\u001b[0m\u001b[0;34m\u001b[0m\u001b[0m\n",
            "\u001b[0;32m/usr/local/lib/python3.7/dist-packages/pandas/core/indexes/base.py\u001b[0m in \u001b[0;36mget_loc\u001b[0;34m(self, key, method, tolerance)\u001b[0m\n\u001b[1;32m   2898\u001b[0m                 \u001b[0;32mreturn\u001b[0m \u001b[0mself\u001b[0m\u001b[0;34m.\u001b[0m\u001b[0m_engine\u001b[0m\u001b[0;34m.\u001b[0m\u001b[0mget_loc\u001b[0m\u001b[0;34m(\u001b[0m\u001b[0mcasted_key\u001b[0m\u001b[0;34m)\u001b[0m\u001b[0;34m\u001b[0m\u001b[0;34m\u001b[0m\u001b[0m\n\u001b[1;32m   2899\u001b[0m             \u001b[0;32mexcept\u001b[0m \u001b[0mKeyError\u001b[0m \u001b[0;32mas\u001b[0m \u001b[0merr\u001b[0m\u001b[0;34m:\u001b[0m\u001b[0;34m\u001b[0m\u001b[0;34m\u001b[0m\u001b[0m\n\u001b[0;32m-> 2900\u001b[0;31m                 \u001b[0;32mraise\u001b[0m \u001b[0mKeyError\u001b[0m\u001b[0;34m(\u001b[0m\u001b[0mkey\u001b[0m\u001b[0;34m)\u001b[0m \u001b[0;32mfrom\u001b[0m \u001b[0merr\u001b[0m\u001b[0;34m\u001b[0m\u001b[0;34m\u001b[0m\u001b[0m\n\u001b[0m\u001b[1;32m   2901\u001b[0m \u001b[0;34m\u001b[0m\u001b[0m\n\u001b[1;32m   2902\u001b[0m         \u001b[0;32mif\u001b[0m \u001b[0mtolerance\u001b[0m \u001b[0;32mis\u001b[0m \u001b[0;32mnot\u001b[0m \u001b[0;32mNone\u001b[0m\u001b[0;34m:\u001b[0m\u001b[0;34m\u001b[0m\u001b[0;34m\u001b[0m\u001b[0m\n",
            "\u001b[0;31mKeyError\u001b[0m: 'Month/Year'"
          ]
        }
      ]
    },
    {
      "cell_type": "code",
      "metadata": {
        "id": "cepcNTx7AmE1",
        "colab": {
          "base_uri": "https://localhost:8080/"
        },
        "outputId": "854b2181-5b73-45ca-b904-51abdcd1e40e"
      },
      "source": [
        "# check dataframe type\n",
        "type(df_1)"
      ],
      "execution_count": 12,
      "outputs": [
        {
          "output_type": "execute_result",
          "data": {
            "text/plain": [
              "pandas.core.frame.DataFrame"
            ]
          },
          "metadata": {
            "tags": []
          },
          "execution_count": 12
        }
      ]
    },
    {
      "cell_type": "code",
      "metadata": {
        "id": "vve1w5jeAmE1"
      },
      "source": [
        "# Change column names with rename() function\n",
        "df_1 = df_1.rename(columns = {\"Month/Year\": \"Date\", \"Detention Services and Community Corrections\":\"DSCC Abbr.\", \"Detention Services and Community Corrections Names\":\"DSCC Names\", \"Average Daily Population\" : \"Avg. Daily Pop.\"})"
      ],
      "execution_count": 19,
      "outputs": []
    },
    {
      "cell_type": "code",
      "metadata": {
        "id": "-nxnhBKtAmE2",
        "colab": {
          "base_uri": "https://localhost:8080/",
          "height": 80
        },
        "outputId": "247fc190-a7fd-4c60-bc3f-8c620c496e49"
      },
      "source": [
        "# Checking column name change\n",
        "df_1.head(1)"
      ],
      "execution_count": 20,
      "outputs": [
        {
          "output_type": "execute_result",
          "data": {
            "text/html": [
              "<div>\n",
              "<style scoped>\n",
              "    .dataframe tbody tr th:only-of-type {\n",
              "        vertical-align: middle;\n",
              "    }\n",
              "\n",
              "    .dataframe tbody tr th {\n",
              "        vertical-align: top;\n",
              "    }\n",
              "\n",
              "    .dataframe thead th {\n",
              "        text-align: right;\n",
              "    }\n",
              "</style>\n",
              "<table border=\"1\" class=\"dataframe\">\n",
              "  <thead>\n",
              "    <tr style=\"text-align: right;\">\n",
              "      <th></th>\n",
              "      <th>Date</th>\n",
              "      <th>DSCC Abbr.</th>\n",
              "      <th>DSCC Names</th>\n",
              "      <th>Category</th>\n",
              "      <th>Avg. Daily Pop.</th>\n",
              "    </tr>\n",
              "  </thead>\n",
              "  <tbody>\n",
              "    <tr>\n",
              "      <th>0</th>\n",
              "      <td>01/01/2016 12:00:00 AM</td>\n",
              "      <td>PRRS</td>\n",
              "      <td>Pre-Release and Re-Entry Services</td>\n",
              "      <td>Inmates in DOCR Custody</td>\n",
              "      <td>124</td>\n",
              "    </tr>\n",
              "  </tbody>\n",
              "</table>\n",
              "</div>"
            ],
            "text/plain": [
              "                     Date DSCC Abbr.  ...                 Category Avg. Daily Pop.\n",
              "0  01/01/2016 12:00:00 AM       PRRS  ...  Inmates in DOCR Custody             124\n",
              "\n",
              "[1 rows x 5 columns]"
            ]
          },
          "metadata": {
            "tags": []
          },
          "execution_count": 20
        }
      ]
    },
    {
      "cell_type": "code",
      "metadata": {
        "id": "0j4xmI5DAmE2",
        "colab": {
          "base_uri": "https://localhost:8080/"
        },
        "outputId": "5038251b-c587-4eef-afd4-c1e37a993f56"
      },
      "source": [
        "# the 0:00 that was previously stripped was added back in.  Will try to strip again.\n",
        "df_1['Date'].str.rstrip('0:00')"
      ],
      "execution_count": 21,
      "outputs": [
        {
          "output_type": "execute_result",
          "data": {
            "text/plain": [
              "0      01/01/2016 12:00:00 AM\n",
              "1      02/01/2017 12:00:00 AM\n",
              "2      02/01/2017 12:00:00 AM\n",
              "3      02/01/2017 12:00:00 AM\n",
              "4      02/01/2017 12:00:00 AM\n",
              "                ...          \n",
              "439    02/01/2021 12:00:00 AM\n",
              "440    02/01/2021 12:00:00 AM\n",
              "441    02/01/2021 12:00:00 AM\n",
              "442    02/01/2021 12:00:00 AM\n",
              "443    02/01/2021 12:00:00 AM\n",
              "Name: Date, Length: 444, dtype: object"
            ]
          },
          "metadata": {
            "tags": []
          },
          "execution_count": 21
        }
      ]
    },
    {
      "cell_type": "code",
      "metadata": {
        "id": "uBor2aHdAmE2",
        "colab": {
          "base_uri": "https://localhost:8080/",
          "height": 80
        },
        "outputId": "c56c0afb-33f7-4140-8242-eee38401da00"
      },
      "source": [
        "# Checking second strip\n",
        "df_1.head(1)"
      ],
      "execution_count": 24,
      "outputs": [
        {
          "output_type": "execute_result",
          "data": {
            "text/html": [
              "<div>\n",
              "<style scoped>\n",
              "    .dataframe tbody tr th:only-of-type {\n",
              "        vertical-align: middle;\n",
              "    }\n",
              "\n",
              "    .dataframe tbody tr th {\n",
              "        vertical-align: top;\n",
              "    }\n",
              "\n",
              "    .dataframe thead th {\n",
              "        text-align: right;\n",
              "    }\n",
              "</style>\n",
              "<table border=\"1\" class=\"dataframe\">\n",
              "  <thead>\n",
              "    <tr style=\"text-align: right;\">\n",
              "      <th></th>\n",
              "      <th>Date</th>\n",
              "      <th>DSCC Abbr.</th>\n",
              "      <th>DSCC Names</th>\n",
              "      <th>Category</th>\n",
              "      <th>Avg. Daily Pop.</th>\n",
              "    </tr>\n",
              "  </thead>\n",
              "  <tbody>\n",
              "    <tr>\n",
              "      <th>0</th>\n",
              "      <td>01/01/2016 12:00:00 AM</td>\n",
              "      <td>PRRS</td>\n",
              "      <td>Pre-Release and Re-Entry Services</td>\n",
              "      <td>Inmates in DOCR Custody</td>\n",
              "      <td>124</td>\n",
              "    </tr>\n",
              "  </tbody>\n",
              "</table>\n",
              "</div>"
            ],
            "text/plain": [
              "                     Date DSCC Abbr.  ...                 Category Avg. Daily Pop.\n",
              "0  01/01/2016 12:00:00 AM       PRRS  ...  Inmates in DOCR Custody             124\n",
              "\n",
              "[1 rows x 5 columns]"
            ]
          },
          "metadata": {
            "tags": []
          },
          "execution_count": 24
        }
      ]
    },
    {
      "cell_type": "code",
      "metadata": {
        "id": "HdRVyn4VAmE3",
        "colab": {
          "base_uri": "https://localhost:8080/"
        },
        "outputId": "0f57098e-e3d8-4685-8404-022df4c71335"
      },
      "source": [
        "# Checking data types for each column\n",
        "print(df_1.dtypes)"
      ],
      "execution_count": 25,
      "outputs": [
        {
          "output_type": "stream",
          "text": [
            "Date               object\n",
            "DSCC Abbr.         object\n",
            "DSCC Names         object\n",
            "Category           object\n",
            "Avg. Daily Pop.     int64\n",
            "dtype: object\n"
          ],
          "name": "stdout"
        }
      ]
    },
    {
      "cell_type": "code",
      "metadata": {
        "id": "2OFO7_95AmE3",
        "colab": {
          "base_uri": "https://localhost:8080/"
        },
        "outputId": "6682acaa-d1da-4d63-fe86-311bf5261c9a"
      },
      "source": [
        "#Checking Shape\n",
        "print(df_1.shape)"
      ],
      "execution_count": 26,
      "outputs": [
        {
          "output_type": "stream",
          "text": [
            "(444, 5)\n"
          ],
          "name": "stdout"
        }
      ]
    },
    {
      "cell_type": "code",
      "metadata": {
        "id": "-ustCRS7AmE3",
        "colab": {
          "base_uri": "https://localhost:8080/",
          "height": 297
        },
        "outputId": "0338217c-b27f-4874-cdae-591639a1bfec"
      },
      "source": [
        "# Describe\n",
        "df_1.describe()"
      ],
      "execution_count": 27,
      "outputs": [
        {
          "output_type": "execute_result",
          "data": {
            "text/html": [
              "<div>\n",
              "<style scoped>\n",
              "    .dataframe tbody tr th:only-of-type {\n",
              "        vertical-align: middle;\n",
              "    }\n",
              "\n",
              "    .dataframe tbody tr th {\n",
              "        vertical-align: top;\n",
              "    }\n",
              "\n",
              "    .dataframe thead th {\n",
              "        text-align: right;\n",
              "    }\n",
              "</style>\n",
              "<table border=\"1\" class=\"dataframe\">\n",
              "  <thead>\n",
              "    <tr style=\"text-align: right;\">\n",
              "      <th></th>\n",
              "      <th>Avg. Daily Pop.</th>\n",
              "    </tr>\n",
              "  </thead>\n",
              "  <tbody>\n",
              "    <tr>\n",
              "      <th>count</th>\n",
              "      <td>444.000000</td>\n",
              "    </tr>\n",
              "    <tr>\n",
              "      <th>mean</th>\n",
              "      <td>374.328829</td>\n",
              "    </tr>\n",
              "    <tr>\n",
              "      <th>std</th>\n",
              "      <td>291.345574</td>\n",
              "    </tr>\n",
              "    <tr>\n",
              "      <th>min</th>\n",
              "      <td>0.000000</td>\n",
              "    </tr>\n",
              "    <tr>\n",
              "      <th>25%</th>\n",
              "      <td>107.000000</td>\n",
              "    </tr>\n",
              "    <tr>\n",
              "      <th>50%</th>\n",
              "      <td>247.500000</td>\n",
              "    </tr>\n",
              "    <tr>\n",
              "      <th>75%</th>\n",
              "      <td>627.250000</td>\n",
              "    </tr>\n",
              "    <tr>\n",
              "      <th>max</th>\n",
              "      <td>1025.000000</td>\n",
              "    </tr>\n",
              "  </tbody>\n",
              "</table>\n",
              "</div>"
            ],
            "text/plain": [
              "       Avg. Daily Pop.\n",
              "count       444.000000\n",
              "mean        374.328829\n",
              "std         291.345574\n",
              "min           0.000000\n",
              "25%         107.000000\n",
              "50%         247.500000\n",
              "75%         627.250000\n",
              "max        1025.000000"
            ]
          },
          "metadata": {
            "tags": []
          },
          "execution_count": 27
        }
      ]
    },
    {
      "cell_type": "code",
      "metadata": {
        "id": "Qn67X2sSAmE4",
        "colab": {
          "base_uri": "https://localhost:8080/"
        },
        "outputId": "6e354911-1798-410b-ad52-e02c158a5f1c"
      },
      "source": [
        "df_1[\"DSCC Names\"].value_counts()"
      ],
      "execution_count": 28,
      "outputs": [
        {
          "output_type": "execute_result",
          "data": {
            "text/plain": [
              "Montgomery County Detention Center            74\n",
              "Pre-Trial Supervision Unit                    74\n",
              "Intervention Program for Substance Abusers    74\n",
              "Montgomery County Correctional Facility       74\n",
              "Pre-Release and Re-Entry Services             74\n",
              "Alternative Community Services                74\n",
              "Name: DSCC Names, dtype: int64"
            ]
          },
          "metadata": {
            "tags": []
          },
          "execution_count": 28
        }
      ]
    },
    {
      "cell_type": "code",
      "metadata": {
        "id": "r8NL6usGAmE4",
        "colab": {
          "base_uri": "https://localhost:8080/",
          "height": 419
        },
        "outputId": "57126555-a1b5-4e30-f9bf-0096832f88df"
      },
      "source": [
        "# Check null \n",
        "df_1.isnull()"
      ],
      "execution_count": 29,
      "outputs": [
        {
          "output_type": "execute_result",
          "data": {
            "text/html": [
              "<div>\n",
              "<style scoped>\n",
              "    .dataframe tbody tr th:only-of-type {\n",
              "        vertical-align: middle;\n",
              "    }\n",
              "\n",
              "    .dataframe tbody tr th {\n",
              "        vertical-align: top;\n",
              "    }\n",
              "\n",
              "    .dataframe thead th {\n",
              "        text-align: right;\n",
              "    }\n",
              "</style>\n",
              "<table border=\"1\" class=\"dataframe\">\n",
              "  <thead>\n",
              "    <tr style=\"text-align: right;\">\n",
              "      <th></th>\n",
              "      <th>Date</th>\n",
              "      <th>DSCC Abbr.</th>\n",
              "      <th>DSCC Names</th>\n",
              "      <th>Category</th>\n",
              "      <th>Avg. Daily Pop.</th>\n",
              "    </tr>\n",
              "  </thead>\n",
              "  <tbody>\n",
              "    <tr>\n",
              "      <th>0</th>\n",
              "      <td>False</td>\n",
              "      <td>False</td>\n",
              "      <td>False</td>\n",
              "      <td>False</td>\n",
              "      <td>False</td>\n",
              "    </tr>\n",
              "    <tr>\n",
              "      <th>1</th>\n",
              "      <td>False</td>\n",
              "      <td>False</td>\n",
              "      <td>False</td>\n",
              "      <td>False</td>\n",
              "      <td>False</td>\n",
              "    </tr>\n",
              "    <tr>\n",
              "      <th>2</th>\n",
              "      <td>False</td>\n",
              "      <td>False</td>\n",
              "      <td>False</td>\n",
              "      <td>False</td>\n",
              "      <td>False</td>\n",
              "    </tr>\n",
              "    <tr>\n",
              "      <th>3</th>\n",
              "      <td>False</td>\n",
              "      <td>False</td>\n",
              "      <td>False</td>\n",
              "      <td>False</td>\n",
              "      <td>False</td>\n",
              "    </tr>\n",
              "    <tr>\n",
              "      <th>4</th>\n",
              "      <td>False</td>\n",
              "      <td>False</td>\n",
              "      <td>False</td>\n",
              "      <td>False</td>\n",
              "      <td>False</td>\n",
              "    </tr>\n",
              "    <tr>\n",
              "      <th>...</th>\n",
              "      <td>...</td>\n",
              "      <td>...</td>\n",
              "      <td>...</td>\n",
              "      <td>...</td>\n",
              "      <td>...</td>\n",
              "    </tr>\n",
              "    <tr>\n",
              "      <th>439</th>\n",
              "      <td>False</td>\n",
              "      <td>False</td>\n",
              "      <td>False</td>\n",
              "      <td>False</td>\n",
              "      <td>False</td>\n",
              "    </tr>\n",
              "    <tr>\n",
              "      <th>440</th>\n",
              "      <td>False</td>\n",
              "      <td>False</td>\n",
              "      <td>False</td>\n",
              "      <td>False</td>\n",
              "      <td>False</td>\n",
              "    </tr>\n",
              "    <tr>\n",
              "      <th>441</th>\n",
              "      <td>False</td>\n",
              "      <td>False</td>\n",
              "      <td>False</td>\n",
              "      <td>False</td>\n",
              "      <td>False</td>\n",
              "    </tr>\n",
              "    <tr>\n",
              "      <th>442</th>\n",
              "      <td>False</td>\n",
              "      <td>False</td>\n",
              "      <td>False</td>\n",
              "      <td>False</td>\n",
              "      <td>False</td>\n",
              "    </tr>\n",
              "    <tr>\n",
              "      <th>443</th>\n",
              "      <td>False</td>\n",
              "      <td>False</td>\n",
              "      <td>False</td>\n",
              "      <td>False</td>\n",
              "      <td>False</td>\n",
              "    </tr>\n",
              "  </tbody>\n",
              "</table>\n",
              "<p>444 rows × 5 columns</p>\n",
              "</div>"
            ],
            "text/plain": [
              "      Date  DSCC Abbr.  DSCC Names  Category  Avg. Daily Pop.\n",
              "0    False       False       False     False            False\n",
              "1    False       False       False     False            False\n",
              "2    False       False       False     False            False\n",
              "3    False       False       False     False            False\n",
              "4    False       False       False     False            False\n",
              "..     ...         ...         ...       ...              ...\n",
              "439  False       False       False     False            False\n",
              "440  False       False       False     False            False\n",
              "441  False       False       False     False            False\n",
              "442  False       False       False     False            False\n",
              "443  False       False       False     False            False\n",
              "\n",
              "[444 rows x 5 columns]"
            ]
          },
          "metadata": {
            "tags": []
          },
          "execution_count": 29
        }
      ]
    },
    {
      "cell_type": "code",
      "metadata": {
        "id": "rVUdW4atAmE4",
        "colab": {
          "base_uri": "https://localhost:8080/"
        },
        "outputId": "ee28eec5-12e0-49bd-d27f-5c6fb9bcf536"
      },
      "source": [
        "# Null sum\n",
        "df_1.isnull().sum()"
      ],
      "execution_count": 30,
      "outputs": [
        {
          "output_type": "execute_result",
          "data": {
            "text/plain": [
              "Date               0\n",
              "DSCC Abbr.         0\n",
              "DSCC Names         0\n",
              "Category           0\n",
              "Avg. Daily Pop.    0\n",
              "dtype: int64"
            ]
          },
          "metadata": {
            "tags": []
          },
          "execution_count": 30
        }
      ]
    },
    {
      "cell_type": "code",
      "metadata": {
        "id": "JxDEEF6_AmE4"
      },
      "source": [
        "# Basic Plots with Matplotlib\n",
        "import matplotlib as mpl\n",
        "import matplotlib.pyplot as plt\n",
        "plt.style.use('classic')"
      ],
      "execution_count": 91,
      "outputs": []
    },
    {
      "cell_type": "code",
      "metadata": {
        "id": "Xat_hQ5tAmE5"
      },
      "source": [
        "# group by Month/Year\n",
        "df_1_time = df_1.groupby('Date')"
      ],
      "execution_count": 33,
      "outputs": []
    },
    {
      "cell_type": "code",
      "metadata": {
        "id": "GYagdhEAAmE5",
        "colab": {
          "base_uri": "https://localhost:8080/",
          "height": 606
        },
        "outputId": "f233f009-79ab-4966-ad9e-3260736b8585"
      },
      "source": [
        "df_1_time.head(5)"
      ],
      "execution_count": 34,
      "outputs": [
        {
          "output_type": "execute_result",
          "data": {
            "text/html": [
              "<div>\n",
              "<style scoped>\n",
              "    .dataframe tbody tr th:only-of-type {\n",
              "        vertical-align: middle;\n",
              "    }\n",
              "\n",
              "    .dataframe tbody tr th {\n",
              "        vertical-align: top;\n",
              "    }\n",
              "\n",
              "    .dataframe thead th {\n",
              "        text-align: right;\n",
              "    }\n",
              "</style>\n",
              "<table border=\"1\" class=\"dataframe\">\n",
              "  <thead>\n",
              "    <tr style=\"text-align: right;\">\n",
              "      <th></th>\n",
              "      <th>Date</th>\n",
              "      <th>DSCC Abbr.</th>\n",
              "      <th>DSCC Names</th>\n",
              "      <th>Category</th>\n",
              "      <th>Avg. Daily Pop.</th>\n",
              "    </tr>\n",
              "  </thead>\n",
              "  <tbody>\n",
              "    <tr>\n",
              "      <th>0</th>\n",
              "      <td>01/01/2016 12:00:00 AM</td>\n",
              "      <td>PRRS</td>\n",
              "      <td>Pre-Release and Re-Entry Services</td>\n",
              "      <td>Inmates in DOCR Custody</td>\n",
              "      <td>124</td>\n",
              "    </tr>\n",
              "    <tr>\n",
              "      <th>1</th>\n",
              "      <td>02/01/2017 12:00:00 AM</td>\n",
              "      <td>MCCF</td>\n",
              "      <td>Montgomery County Correctional Facility</td>\n",
              "      <td>Inmates in DOCR Custody</td>\n",
              "      <td>508</td>\n",
              "    </tr>\n",
              "    <tr>\n",
              "      <th>2</th>\n",
              "      <td>02/01/2017 12:00:00 AM</td>\n",
              "      <td>PTSU</td>\n",
              "      <td>Pre-Trial Supervision Unit</td>\n",
              "      <td>Criminal Justice Clients under Pre-Trial Services</td>\n",
              "      <td>707</td>\n",
              "    </tr>\n",
              "    <tr>\n",
              "      <th>3</th>\n",
              "      <td>02/01/2017 12:00:00 AM</td>\n",
              "      <td>PRRS</td>\n",
              "      <td>Pre-Release and Re-Entry Services</td>\n",
              "      <td>Inmates in DOCR Custody</td>\n",
              "      <td>129</td>\n",
              "    </tr>\n",
              "    <tr>\n",
              "      <th>4</th>\n",
              "      <td>02/01/2017 12:00:00 AM</td>\n",
              "      <td>ACS</td>\n",
              "      <td>Alternative Community Services</td>\n",
              "      <td>Criminal Justice Clients under Pre-Trial Services</td>\n",
              "      <td>731</td>\n",
              "    </tr>\n",
              "    <tr>\n",
              "      <th>...</th>\n",
              "      <td>...</td>\n",
              "      <td>...</td>\n",
              "      <td>...</td>\n",
              "      <td>...</td>\n",
              "      <td>...</td>\n",
              "    </tr>\n",
              "    <tr>\n",
              "      <th>438</th>\n",
              "      <td>02/01/2021 12:00:00 AM</td>\n",
              "      <td>MCDC</td>\n",
              "      <td>Montgomery County Detention Center</td>\n",
              "      <td>Inmates in DOCR Custody</td>\n",
              "      <td>50</td>\n",
              "    </tr>\n",
              "    <tr>\n",
              "      <th>439</th>\n",
              "      <td>02/01/2021 12:00:00 AM</td>\n",
              "      <td>PRRS</td>\n",
              "      <td>Pre-Release and Re-Entry Services</td>\n",
              "      <td>Inmates in DOCR Custody</td>\n",
              "      <td>0</td>\n",
              "    </tr>\n",
              "    <tr>\n",
              "      <th>440</th>\n",
              "      <td>02/01/2021 12:00:00 AM</td>\n",
              "      <td>ACS</td>\n",
              "      <td>Alternative Community Services</td>\n",
              "      <td>Criminal Justice Clients under Pre-Trial Services</td>\n",
              "      <td>325</td>\n",
              "    </tr>\n",
              "    <tr>\n",
              "      <th>441</th>\n",
              "      <td>02/01/2021 12:00:00 AM</td>\n",
              "      <td>IPSA</td>\n",
              "      <td>Intervention Program for Substance Abusers</td>\n",
              "      <td>Criminal Justice Clients under Pre-Trial Services</td>\n",
              "      <td>68</td>\n",
              "    </tr>\n",
              "    <tr>\n",
              "      <th>442</th>\n",
              "      <td>02/01/2021 12:00:00 AM</td>\n",
              "      <td>MCCF</td>\n",
              "      <td>Montgomery County Correctional Facility</td>\n",
              "      <td>Inmates in DOCR Custody</td>\n",
              "      <td>485</td>\n",
              "    </tr>\n",
              "  </tbody>\n",
              "</table>\n",
              "<p>370 rows × 5 columns</p>\n",
              "</div>"
            ],
            "text/plain": [
              "                       Date  ... Avg. Daily Pop.\n",
              "0    01/01/2016 12:00:00 AM  ...             124\n",
              "1    02/01/2017 12:00:00 AM  ...             508\n",
              "2    02/01/2017 12:00:00 AM  ...             707\n",
              "3    02/01/2017 12:00:00 AM  ...             129\n",
              "4    02/01/2017 12:00:00 AM  ...             731\n",
              "..                      ...  ...             ...\n",
              "438  02/01/2021 12:00:00 AM  ...              50\n",
              "439  02/01/2021 12:00:00 AM  ...               0\n",
              "440  02/01/2021 12:00:00 AM  ...             325\n",
              "441  02/01/2021 12:00:00 AM  ...              68\n",
              "442  02/01/2021 12:00:00 AM  ...             485\n",
              "\n",
              "[370 rows x 5 columns]"
            ]
          },
          "metadata": {
            "tags": []
          },
          "execution_count": 34
        }
      ]
    },
    {
      "cell_type": "code",
      "metadata": {
        "id": "q75G7xI2AmE5"
      },
      "source": [
        "# Arrange by DSCC Abbreviation\n",
        "df_1_abbr = df_1.groupby('DSCC Abbr.')"
      ],
      "execution_count": 37,
      "outputs": []
    },
    {
      "cell_type": "code",
      "metadata": {
        "id": "OblICX-DAmE5",
        "colab": {
          "base_uri": "https://localhost:8080/",
          "height": 1000
        },
        "outputId": "7e00cb2d-de0d-4570-d0f9-df99b19905ed"
      },
      "source": [
        "# \n",
        "df_1_abbr.head()"
      ],
      "execution_count": 38,
      "outputs": [
        {
          "output_type": "execute_result",
          "data": {
            "text/html": [
              "<div>\n",
              "<style scoped>\n",
              "    .dataframe tbody tr th:only-of-type {\n",
              "        vertical-align: middle;\n",
              "    }\n",
              "\n",
              "    .dataframe tbody tr th {\n",
              "        vertical-align: top;\n",
              "    }\n",
              "\n",
              "    .dataframe thead th {\n",
              "        text-align: right;\n",
              "    }\n",
              "</style>\n",
              "<table border=\"1\" class=\"dataframe\">\n",
              "  <thead>\n",
              "    <tr style=\"text-align: right;\">\n",
              "      <th></th>\n",
              "      <th>Date</th>\n",
              "      <th>DSCC Abbr.</th>\n",
              "      <th>DSCC Names</th>\n",
              "      <th>Category</th>\n",
              "      <th>Avg. Daily Pop.</th>\n",
              "    </tr>\n",
              "  </thead>\n",
              "  <tbody>\n",
              "    <tr>\n",
              "      <th>0</th>\n",
              "      <td>01/01/2016 12:00:00 AM</td>\n",
              "      <td>PRRS</td>\n",
              "      <td>Pre-Release and Re-Entry Services</td>\n",
              "      <td>Inmates in DOCR Custody</td>\n",
              "      <td>124</td>\n",
              "    </tr>\n",
              "    <tr>\n",
              "      <th>1</th>\n",
              "      <td>02/01/2017 12:00:00 AM</td>\n",
              "      <td>MCCF</td>\n",
              "      <td>Montgomery County Correctional Facility</td>\n",
              "      <td>Inmates in DOCR Custody</td>\n",
              "      <td>508</td>\n",
              "    </tr>\n",
              "    <tr>\n",
              "      <th>2</th>\n",
              "      <td>02/01/2017 12:00:00 AM</td>\n",
              "      <td>PTSU</td>\n",
              "      <td>Pre-Trial Supervision Unit</td>\n",
              "      <td>Criminal Justice Clients under Pre-Trial Services</td>\n",
              "      <td>707</td>\n",
              "    </tr>\n",
              "    <tr>\n",
              "      <th>3</th>\n",
              "      <td>02/01/2017 12:00:00 AM</td>\n",
              "      <td>PRRS</td>\n",
              "      <td>Pre-Release and Re-Entry Services</td>\n",
              "      <td>Inmates in DOCR Custody</td>\n",
              "      <td>129</td>\n",
              "    </tr>\n",
              "    <tr>\n",
              "      <th>4</th>\n",
              "      <td>02/01/2017 12:00:00 AM</td>\n",
              "      <td>ACS</td>\n",
              "      <td>Alternative Community Services</td>\n",
              "      <td>Criminal Justice Clients under Pre-Trial Services</td>\n",
              "      <td>731</td>\n",
              "    </tr>\n",
              "    <tr>\n",
              "      <th>5</th>\n",
              "      <td>09/01/2015 12:00:00 AM</td>\n",
              "      <td>ACS</td>\n",
              "      <td>Alternative Community Services</td>\n",
              "      <td>Criminal Justice Clients under Pre-Trial Services</td>\n",
              "      <td>703</td>\n",
              "    </tr>\n",
              "    <tr>\n",
              "      <th>6</th>\n",
              "      <td>11/01/2015 12:00:00 AM</td>\n",
              "      <td>PTSU</td>\n",
              "      <td>Pre-Trial Supervision Unit</td>\n",
              "      <td>Criminal Justice Clients under Pre-Trial Services</td>\n",
              "      <td>655</td>\n",
              "    </tr>\n",
              "    <tr>\n",
              "      <th>7</th>\n",
              "      <td>02/01/2017 12:00:00 AM</td>\n",
              "      <td>MCDC</td>\n",
              "      <td>Montgomery County Detention Center</td>\n",
              "      <td>Inmates in DOCR Custody</td>\n",
              "      <td>59</td>\n",
              "    </tr>\n",
              "    <tr>\n",
              "      <th>8</th>\n",
              "      <td>02/01/2017 12:00:00 AM</td>\n",
              "      <td>IPSA</td>\n",
              "      <td>Intervention Program for Substance Abusers</td>\n",
              "      <td>Criminal Justice Clients under Pre-Trial Services</td>\n",
              "      <td>156</td>\n",
              "    </tr>\n",
              "    <tr>\n",
              "      <th>9</th>\n",
              "      <td>03/01/2017 12:00:00 AM</td>\n",
              "      <td>MCCF</td>\n",
              "      <td>Montgomery County Correctional Facility</td>\n",
              "      <td>Inmates in DOCR Custody</td>\n",
              "      <td>563</td>\n",
              "    </tr>\n",
              "    <tr>\n",
              "      <th>10</th>\n",
              "      <td>03/01/2017 12:00:00 AM</td>\n",
              "      <td>PRRS</td>\n",
              "      <td>Pre-Release and Re-Entry Services</td>\n",
              "      <td>Inmates in DOCR Custody</td>\n",
              "      <td>124</td>\n",
              "    </tr>\n",
              "    <tr>\n",
              "      <th>11</th>\n",
              "      <td>03/01/2017 12:00:00 AM</td>\n",
              "      <td>PTSU</td>\n",
              "      <td>Pre-Trial Supervision Unit</td>\n",
              "      <td>Criminal Justice Clients under Pre-Trial Services</td>\n",
              "      <td>721</td>\n",
              "    </tr>\n",
              "    <tr>\n",
              "      <th>12</th>\n",
              "      <td>03/01/2017 12:00:00 AM</td>\n",
              "      <td>MCDC</td>\n",
              "      <td>Montgomery County Detention Center</td>\n",
              "      <td>Inmates in DOCR Custody</td>\n",
              "      <td>71</td>\n",
              "    </tr>\n",
              "    <tr>\n",
              "      <th>13</th>\n",
              "      <td>03/01/2017 12:00:00 AM</td>\n",
              "      <td>IPSA</td>\n",
              "      <td>Intervention Program for Substance Abusers</td>\n",
              "      <td>Criminal Justice Clients under Pre-Trial Services</td>\n",
              "      <td>151</td>\n",
              "    </tr>\n",
              "    <tr>\n",
              "      <th>14</th>\n",
              "      <td>03/01/2017 12:00:00 AM</td>\n",
              "      <td>ACS</td>\n",
              "      <td>Alternative Community Services</td>\n",
              "      <td>Criminal Justice Clients under Pre-Trial Services</td>\n",
              "      <td>703</td>\n",
              "    </tr>\n",
              "    <tr>\n",
              "      <th>15</th>\n",
              "      <td>04/01/2017 12:00:00 AM</td>\n",
              "      <td>IPSA</td>\n",
              "      <td>Intervention Program for Substance Abusers</td>\n",
              "      <td>Criminal Justice Clients under Pre-Trial Services</td>\n",
              "      <td>155</td>\n",
              "    </tr>\n",
              "    <tr>\n",
              "      <th>16</th>\n",
              "      <td>04/01/2017 12:00:00 AM</td>\n",
              "      <td>MCDC</td>\n",
              "      <td>Montgomery County Detention Center</td>\n",
              "      <td>Inmates in DOCR Custody</td>\n",
              "      <td>66</td>\n",
              "    </tr>\n",
              "    <tr>\n",
              "      <th>17</th>\n",
              "      <td>04/01/2017 12:00:00 AM</td>\n",
              "      <td>ACS</td>\n",
              "      <td>Alternative Community Services</td>\n",
              "      <td>Criminal Justice Clients under Pre-Trial Services</td>\n",
              "      <td>649</td>\n",
              "    </tr>\n",
              "    <tr>\n",
              "      <th>18</th>\n",
              "      <td>04/01/2015 12:00:00 AM</td>\n",
              "      <td>IPSA</td>\n",
              "      <td>Intervention Program for Substance Abusers</td>\n",
              "      <td>Criminal Justice Clients under Pre-Trial Services</td>\n",
              "      <td>146</td>\n",
              "    </tr>\n",
              "    <tr>\n",
              "      <th>19</th>\n",
              "      <td>01/01/2015 12:00:00 AM</td>\n",
              "      <td>ACS</td>\n",
              "      <td>Alternative Community Services</td>\n",
              "      <td>Criminal Justice Clients under Pre-Trial Services</td>\n",
              "      <td>721</td>\n",
              "    </tr>\n",
              "    <tr>\n",
              "      <th>20</th>\n",
              "      <td>04/01/2017 12:00:00 AM</td>\n",
              "      <td>PTSU</td>\n",
              "      <td>Pre-Trial Supervision Unit</td>\n",
              "      <td>Criminal Justice Clients under Pre-Trial Services</td>\n",
              "      <td>682</td>\n",
              "    </tr>\n",
              "    <tr>\n",
              "      <th>21</th>\n",
              "      <td>04/01/2017 12:00:00 AM</td>\n",
              "      <td>PRRS</td>\n",
              "      <td>Pre-Release and Re-Entry Services</td>\n",
              "      <td>Inmates in DOCR Custody</td>\n",
              "      <td>121</td>\n",
              "    </tr>\n",
              "    <tr>\n",
              "      <th>22</th>\n",
              "      <td>04/01/2017 12:00:00 AM</td>\n",
              "      <td>MCCF</td>\n",
              "      <td>Montgomery County Correctional Facility</td>\n",
              "      <td>Inmates in DOCR Custody</td>\n",
              "      <td>509</td>\n",
              "    </tr>\n",
              "    <tr>\n",
              "      <th>23</th>\n",
              "      <td>05/01/2017 12:00:00 AM</td>\n",
              "      <td>PTSU</td>\n",
              "      <td>Pre-Trial Supervision Unit</td>\n",
              "      <td>Criminal Justice Clients under Pre-Trial Services</td>\n",
              "      <td>674</td>\n",
              "    </tr>\n",
              "    <tr>\n",
              "      <th>24</th>\n",
              "      <td>04/01/2016 12:00:00 AM</td>\n",
              "      <td>MCCF</td>\n",
              "      <td>Montgomery County Correctional Facility</td>\n",
              "      <td>Inmates in DOCR Custody</td>\n",
              "      <td>574</td>\n",
              "    </tr>\n",
              "    <tr>\n",
              "      <th>25</th>\n",
              "      <td>04/01/2015 12:00:00 AM</td>\n",
              "      <td>MCCF</td>\n",
              "      <td>Montgomery County Correctional Facility</td>\n",
              "      <td>Inmates in DOCR Custody</td>\n",
              "      <td>518</td>\n",
              "    </tr>\n",
              "    <tr>\n",
              "      <th>26</th>\n",
              "      <td>05/01/2017 12:00:00 AM</td>\n",
              "      <td>PRRS</td>\n",
              "      <td>Pre-Release and Re-Entry Services</td>\n",
              "      <td>Inmates in DOCR Custody</td>\n",
              "      <td>116</td>\n",
              "    </tr>\n",
              "    <tr>\n",
              "      <th>29</th>\n",
              "      <td>05/01/2017 12:00:00 AM</td>\n",
              "      <td>MCDC</td>\n",
              "      <td>Montgomery County Detention Center</td>\n",
              "      <td>Inmates in DOCR Custody</td>\n",
              "      <td>63</td>\n",
              "    </tr>\n",
              "    <tr>\n",
              "      <th>32</th>\n",
              "      <td>01/01/2016 12:00:00 AM</td>\n",
              "      <td>IPSA</td>\n",
              "      <td>Intervention Program for Substance Abusers</td>\n",
              "      <td>Criminal Justice Clients under Pre-Trial Services</td>\n",
              "      <td>140</td>\n",
              "    </tr>\n",
              "    <tr>\n",
              "      <th>42</th>\n",
              "      <td>06/01/2017 12:00:00 AM</td>\n",
              "      <td>MCDC</td>\n",
              "      <td>Montgomery County Detention Center</td>\n",
              "      <td>Inmates in DOCR Custody</td>\n",
              "      <td>61</td>\n",
              "    </tr>\n",
              "  </tbody>\n",
              "</table>\n",
              "</div>"
            ],
            "text/plain": [
              "                      Date  ... Avg. Daily Pop.\n",
              "0   01/01/2016 12:00:00 AM  ...             124\n",
              "1   02/01/2017 12:00:00 AM  ...             508\n",
              "2   02/01/2017 12:00:00 AM  ...             707\n",
              "3   02/01/2017 12:00:00 AM  ...             129\n",
              "4   02/01/2017 12:00:00 AM  ...             731\n",
              "5   09/01/2015 12:00:00 AM  ...             703\n",
              "6   11/01/2015 12:00:00 AM  ...             655\n",
              "7   02/01/2017 12:00:00 AM  ...              59\n",
              "8   02/01/2017 12:00:00 AM  ...             156\n",
              "9   03/01/2017 12:00:00 AM  ...             563\n",
              "10  03/01/2017 12:00:00 AM  ...             124\n",
              "11  03/01/2017 12:00:00 AM  ...             721\n",
              "12  03/01/2017 12:00:00 AM  ...              71\n",
              "13  03/01/2017 12:00:00 AM  ...             151\n",
              "14  03/01/2017 12:00:00 AM  ...             703\n",
              "15  04/01/2017 12:00:00 AM  ...             155\n",
              "16  04/01/2017 12:00:00 AM  ...              66\n",
              "17  04/01/2017 12:00:00 AM  ...             649\n",
              "18  04/01/2015 12:00:00 AM  ...             146\n",
              "19  01/01/2015 12:00:00 AM  ...             721\n",
              "20  04/01/2017 12:00:00 AM  ...             682\n",
              "21  04/01/2017 12:00:00 AM  ...             121\n",
              "22  04/01/2017 12:00:00 AM  ...             509\n",
              "23  05/01/2017 12:00:00 AM  ...             674\n",
              "24  04/01/2016 12:00:00 AM  ...             574\n",
              "25  04/01/2015 12:00:00 AM  ...             518\n",
              "26  05/01/2017 12:00:00 AM  ...             116\n",
              "29  05/01/2017 12:00:00 AM  ...              63\n",
              "32  01/01/2016 12:00:00 AM  ...             140\n",
              "42  06/01/2017 12:00:00 AM  ...              61\n",
              "\n",
              "[30 rows x 5 columns]"
            ]
          },
          "metadata": {
            "tags": []
          },
          "execution_count": 38
        }
      ]
    },
    {
      "cell_type": "code",
      "metadata": {
        "id": "bhmPKqxAAmE6"
      },
      "source": [
        "# Arrange by DSCC Abbreviation then by sort by Date\n",
        "df_1_abbr2 = df_1.groupby('DSCC Abbr.').apply(lambda x: x.sort_values('Date'))"
      ],
      "execution_count": 39,
      "outputs": []
    },
    {
      "cell_type": "code",
      "metadata": {
        "id": "vrGfsjm_AmE6",
        "colab": {
          "base_uri": "https://localhost:8080/",
          "height": 1000
        },
        "outputId": "8bdd92e7-5011-42cf-dc72-24ec21a8dadb"
      },
      "source": [
        "df_1_abbr2.head(30)"
      ],
      "execution_count": 40,
      "outputs": [
        {
          "output_type": "execute_result",
          "data": {
            "text/html": [
              "<div>\n",
              "<style scoped>\n",
              "    .dataframe tbody tr th:only-of-type {\n",
              "        vertical-align: middle;\n",
              "    }\n",
              "\n",
              "    .dataframe tbody tr th {\n",
              "        vertical-align: top;\n",
              "    }\n",
              "\n",
              "    .dataframe thead th {\n",
              "        text-align: right;\n",
              "    }\n",
              "</style>\n",
              "<table border=\"1\" class=\"dataframe\">\n",
              "  <thead>\n",
              "    <tr style=\"text-align: right;\">\n",
              "      <th></th>\n",
              "      <th></th>\n",
              "      <th>Date</th>\n",
              "      <th>DSCC Abbr.</th>\n",
              "      <th>DSCC Names</th>\n",
              "      <th>Category</th>\n",
              "      <th>Avg. Daily Pop.</th>\n",
              "    </tr>\n",
              "    <tr>\n",
              "      <th>DSCC Abbr.</th>\n",
              "      <th></th>\n",
              "      <th></th>\n",
              "      <th></th>\n",
              "      <th></th>\n",
              "      <th></th>\n",
              "      <th></th>\n",
              "    </tr>\n",
              "  </thead>\n",
              "  <tbody>\n",
              "    <tr>\n",
              "      <th rowspan=\"30\" valign=\"top\">ACS</th>\n",
              "      <th>19</th>\n",
              "      <td>01/01/2015 12:00:00 AM</td>\n",
              "      <td>ACS</td>\n",
              "      <td>Alternative Community Services</td>\n",
              "      <td>Criminal Justice Clients under Pre-Trial Services</td>\n",
              "      <td>721</td>\n",
              "    </tr>\n",
              "    <tr>\n",
              "      <th>209</th>\n",
              "      <td>01/01/2016 12:00:00 AM</td>\n",
              "      <td>ACS</td>\n",
              "      <td>Alternative Community Services</td>\n",
              "      <td>Criminal Justice Clients under Pre-Trial Services</td>\n",
              "      <td>814</td>\n",
              "    </tr>\n",
              "    <tr>\n",
              "      <th>388</th>\n",
              "      <td>01/01/2017 12:00:00 AM</td>\n",
              "      <td>ACS</td>\n",
              "      <td>Alternative Community Services</td>\n",
              "      <td>Criminal Justice Clients under Pre-Trial Services</td>\n",
              "      <td>700</td>\n",
              "    </tr>\n",
              "    <tr>\n",
              "      <th>155</th>\n",
              "      <td>01/01/2018 12:00:00 AM</td>\n",
              "      <td>ACS</td>\n",
              "      <td>Alternative Community Services</td>\n",
              "      <td>Criminal Justice Clients under Pre-Trial Services</td>\n",
              "      <td>655</td>\n",
              "    </tr>\n",
              "    <tr>\n",
              "      <th>82</th>\n",
              "      <td>01/01/2019 12:00:00 AM</td>\n",
              "      <td>ACS</td>\n",
              "      <td>Alternative Community Services</td>\n",
              "      <td>Criminal Justice Clients under Pre-Trial Services</td>\n",
              "      <td>564</td>\n",
              "    </tr>\n",
              "    <tr>\n",
              "      <th>188</th>\n",
              "      <td>01/01/2020 12:00:00 AM</td>\n",
              "      <td>ACS</td>\n",
              "      <td>Alternative Community Services</td>\n",
              "      <td>Criminal Justice Clients under Pre-Trial Services</td>\n",
              "      <td>620</td>\n",
              "    </tr>\n",
              "    <tr>\n",
              "      <th>437</th>\n",
              "      <td>01/01/2021 12:00:00 AM</td>\n",
              "      <td>ACS</td>\n",
              "      <td>Alternative Community Services</td>\n",
              "      <td>Criminal Justice Clients under Pre-Trial Services</td>\n",
              "      <td>335</td>\n",
              "    </tr>\n",
              "    <tr>\n",
              "      <th>149</th>\n",
              "      <td>02/01/2015 12:00:00 AM</td>\n",
              "      <td>ACS</td>\n",
              "      <td>Alternative Community Services</td>\n",
              "      <td>Criminal Justice Clients under Pre-Trial Services</td>\n",
              "      <td>738</td>\n",
              "    </tr>\n",
              "    <tr>\n",
              "      <th>357</th>\n",
              "      <td>02/01/2016 12:00:00 AM</td>\n",
              "      <td>ACS</td>\n",
              "      <td>Alternative Community Services</td>\n",
              "      <td>Criminal Justice Clients under Pre-Trial Services</td>\n",
              "      <td>838</td>\n",
              "    </tr>\n",
              "    <tr>\n",
              "      <th>4</th>\n",
              "      <td>02/01/2017 12:00:00 AM</td>\n",
              "      <td>ACS</td>\n",
              "      <td>Alternative Community Services</td>\n",
              "      <td>Criminal Justice Clients under Pre-Trial Services</td>\n",
              "      <td>731</td>\n",
              "    </tr>\n",
              "    <tr>\n",
              "      <th>148</th>\n",
              "      <td>02/01/2018 12:00:00 AM</td>\n",
              "      <td>ACS</td>\n",
              "      <td>Alternative Community Services</td>\n",
              "      <td>Criminal Justice Clients under Pre-Trial Services</td>\n",
              "      <td>653</td>\n",
              "    </tr>\n",
              "    <tr>\n",
              "      <th>90</th>\n",
              "      <td>02/01/2019 12:00:00 AM</td>\n",
              "      <td>ACS</td>\n",
              "      <td>Alternative Community Services</td>\n",
              "      <td>Criminal Justice Clients under Pre-Trial Services</td>\n",
              "      <td>625</td>\n",
              "    </tr>\n",
              "    <tr>\n",
              "      <th>199</th>\n",
              "      <td>02/01/2020 12:00:00 AM</td>\n",
              "      <td>ACS</td>\n",
              "      <td>Alternative Community Services</td>\n",
              "      <td>Criminal Justice Clients under Pre-Trial Services</td>\n",
              "      <td>634</td>\n",
              "    </tr>\n",
              "    <tr>\n",
              "      <th>440</th>\n",
              "      <td>02/01/2021 12:00:00 AM</td>\n",
              "      <td>ACS</td>\n",
              "      <td>Alternative Community Services</td>\n",
              "      <td>Criminal Justice Clients under Pre-Trial Services</td>\n",
              "      <td>325</td>\n",
              "    </tr>\n",
              "    <tr>\n",
              "      <th>226</th>\n",
              "      <td>03/01/2015 12:00:00 AM</td>\n",
              "      <td>ACS</td>\n",
              "      <td>Alternative Community Services</td>\n",
              "      <td>Criminal Justice Clients under Pre-Trial Services</td>\n",
              "      <td>749</td>\n",
              "    </tr>\n",
              "    <tr>\n",
              "      <th>236</th>\n",
              "      <td>03/01/2016 12:00:00 AM</td>\n",
              "      <td>ACS</td>\n",
              "      <td>Alternative Community Services</td>\n",
              "      <td>Criminal Justice Clients under Pre-Trial Services</td>\n",
              "      <td>885</td>\n",
              "    </tr>\n",
              "    <tr>\n",
              "      <th>14</th>\n",
              "      <td>03/01/2017 12:00:00 AM</td>\n",
              "      <td>ACS</td>\n",
              "      <td>Alternative Community Services</td>\n",
              "      <td>Criminal Justice Clients under Pre-Trial Services</td>\n",
              "      <td>703</td>\n",
              "    </tr>\n",
              "    <tr>\n",
              "      <th>220</th>\n",
              "      <td>03/01/2018 12:00:00 AM</td>\n",
              "      <td>ACS</td>\n",
              "      <td>Alternative Community Services</td>\n",
              "      <td>Criminal Justice Clients under Pre-Trial Services</td>\n",
              "      <td>688</td>\n",
              "    </tr>\n",
              "    <tr>\n",
              "      <th>102</th>\n",
              "      <td>03/01/2019 12:00:00 AM</td>\n",
              "      <td>ACS</td>\n",
              "      <td>Alternative Community Services</td>\n",
              "      <td>Criminal Justice Clients under Pre-Trial Services</td>\n",
              "      <td>655</td>\n",
              "    </tr>\n",
              "    <tr>\n",
              "      <th>302</th>\n",
              "      <td>03/01/2020 12:00:00 AM</td>\n",
              "      <td>ACS</td>\n",
              "      <td>Alternative Community Services</td>\n",
              "      <td>Criminal Justice Clients under Pre-Trial Services</td>\n",
              "      <td>576</td>\n",
              "    </tr>\n",
              "    <tr>\n",
              "      <th>296</th>\n",
              "      <td>04/01/2015 12:00:00 AM</td>\n",
              "      <td>ACS</td>\n",
              "      <td>Alternative Community Services</td>\n",
              "      <td>Criminal Justice Clients under Pre-Trial Services</td>\n",
              "      <td>780</td>\n",
              "    </tr>\n",
              "    <tr>\n",
              "      <th>224</th>\n",
              "      <td>04/01/2016 12:00:00 AM</td>\n",
              "      <td>ACS</td>\n",
              "      <td>Alternative Community Services</td>\n",
              "      <td>Criminal Justice Clients under Pre-Trial Services</td>\n",
              "      <td>962</td>\n",
              "    </tr>\n",
              "    <tr>\n",
              "      <th>17</th>\n",
              "      <td>04/01/2017 12:00:00 AM</td>\n",
              "      <td>ACS</td>\n",
              "      <td>Alternative Community Services</td>\n",
              "      <td>Criminal Justice Clients under Pre-Trial Services</td>\n",
              "      <td>649</td>\n",
              "    </tr>\n",
              "    <tr>\n",
              "      <th>230</th>\n",
              "      <td>04/01/2018 12:00:00 AM</td>\n",
              "      <td>ACS</td>\n",
              "      <td>Alternative Community Services</td>\n",
              "      <td>Criminal Justice Clients under Pre-Trial Services</td>\n",
              "      <td>707</td>\n",
              "    </tr>\n",
              "    <tr>\n",
              "      <th>153</th>\n",
              "      <td>04/01/2019 12:00:00 AM</td>\n",
              "      <td>ACS</td>\n",
              "      <td>Alternative Community Services</td>\n",
              "      <td>Criminal Justice Clients under Pre-Trial Services</td>\n",
              "      <td>637</td>\n",
              "    </tr>\n",
              "    <tr>\n",
              "      <th>210</th>\n",
              "      <td>04/01/2020 12:00:00 AM</td>\n",
              "      <td>ACS</td>\n",
              "      <td>Alternative Community Services</td>\n",
              "      <td>Criminal Justice Clients under Pre-Trial Services</td>\n",
              "      <td>521</td>\n",
              "    </tr>\n",
              "    <tr>\n",
              "      <th>303</th>\n",
              "      <td>05/01/2015 12:00:00 AM</td>\n",
              "      <td>ACS</td>\n",
              "      <td>Alternative Community Services</td>\n",
              "      <td>Criminal Justice Clients under Pre-Trial Services</td>\n",
              "      <td>751</td>\n",
              "    </tr>\n",
              "    <tr>\n",
              "      <th>219</th>\n",
              "      <td>05/01/2016 12:00:00 AM</td>\n",
              "      <td>ACS</td>\n",
              "      <td>Alternative Community Services</td>\n",
              "      <td>Criminal Justice Clients under Pre-Trial Services</td>\n",
              "      <td>1025</td>\n",
              "    </tr>\n",
              "    <tr>\n",
              "      <th>27</th>\n",
              "      <td>05/01/2017 12:00:00 AM</td>\n",
              "      <td>ACS</td>\n",
              "      <td>Alternative Community Services</td>\n",
              "      <td>Criminal Justice Clients under Pre-Trial Services</td>\n",
              "      <td>644</td>\n",
              "    </tr>\n",
              "    <tr>\n",
              "      <th>235</th>\n",
              "      <td>05/01/2018 12:00:00 AM</td>\n",
              "      <td>ACS</td>\n",
              "      <td>Alternative Community Services</td>\n",
              "      <td>Criminal Justice Clients under Pre-Trial Services</td>\n",
              "      <td>681</td>\n",
              "    </tr>\n",
              "  </tbody>\n",
              "</table>\n",
              "</div>"
            ],
            "text/plain": [
              "                                  Date  ... Avg. Daily Pop.\n",
              "DSCC Abbr.                              ...                \n",
              "ACS        19   01/01/2015 12:00:00 AM  ...             721\n",
              "           209  01/01/2016 12:00:00 AM  ...             814\n",
              "           388  01/01/2017 12:00:00 AM  ...             700\n",
              "           155  01/01/2018 12:00:00 AM  ...             655\n",
              "           82   01/01/2019 12:00:00 AM  ...             564\n",
              "           188  01/01/2020 12:00:00 AM  ...             620\n",
              "           437  01/01/2021 12:00:00 AM  ...             335\n",
              "           149  02/01/2015 12:00:00 AM  ...             738\n",
              "           357  02/01/2016 12:00:00 AM  ...             838\n",
              "           4    02/01/2017 12:00:00 AM  ...             731\n",
              "           148  02/01/2018 12:00:00 AM  ...             653\n",
              "           90   02/01/2019 12:00:00 AM  ...             625\n",
              "           199  02/01/2020 12:00:00 AM  ...             634\n",
              "           440  02/01/2021 12:00:00 AM  ...             325\n",
              "           226  03/01/2015 12:00:00 AM  ...             749\n",
              "           236  03/01/2016 12:00:00 AM  ...             885\n",
              "           14   03/01/2017 12:00:00 AM  ...             703\n",
              "           220  03/01/2018 12:00:00 AM  ...             688\n",
              "           102  03/01/2019 12:00:00 AM  ...             655\n",
              "           302  03/01/2020 12:00:00 AM  ...             576\n",
              "           296  04/01/2015 12:00:00 AM  ...             780\n",
              "           224  04/01/2016 12:00:00 AM  ...             962\n",
              "           17   04/01/2017 12:00:00 AM  ...             649\n",
              "           230  04/01/2018 12:00:00 AM  ...             707\n",
              "           153  04/01/2019 12:00:00 AM  ...             637\n",
              "           210  04/01/2020 12:00:00 AM  ...             521\n",
              "           303  05/01/2015 12:00:00 AM  ...             751\n",
              "           219  05/01/2016 12:00:00 AM  ...            1025\n",
              "           27   05/01/2017 12:00:00 AM  ...             644\n",
              "           235  05/01/2018 12:00:00 AM  ...             681\n",
              "\n",
              "[30 rows x 5 columns]"
            ]
          },
          "metadata": {
            "tags": []
          },
          "execution_count": 40
        }
      ]
    },
    {
      "cell_type": "code",
      "metadata": {
        "id": "ej3nIwJxAmE6"
      },
      "source": [
        "# Simplify name\n",
        "df_2 = df_1_abbr2"
      ],
      "execution_count": 41,
      "outputs": []
    },
    {
      "cell_type": "code",
      "metadata": {
        "id": "fBaQ4xkjAmE6"
      },
      "source": [
        "# Dates\n",
        "# GB = df_1_abbr2.groupby([(df_1_abbr2.index.year), (df_1_abbr2.index.month)]).sum()"
      ],
      "execution_count": 43,
      "outputs": []
    },
    {
      "cell_type": "code",
      "metadata": {
        "id": "JGxu-02NAmE6"
      },
      "source": [
        "# Dates attempt 2\n",
        "#df_2['Year']= df_2['Date'].apply(lambda x: getYear(x))\n",
        "#df_2['Month']= df_2['Date'].apply(lambda x: getMonth(x))\n",
        "#df_2['Day']= df_2['Date'].apply(lambda x: getDay(x))\n",
        "#df_2['YearMonth']= df_2['Date'].apply(lambda x: getYearMonth(x))"
      ],
      "execution_count": null,
      "outputs": []
    },
    {
      "cell_type": "code",
      "metadata": {
        "id": "GcajFe8DAmE7"
      },
      "source": [
        "# Create separate columns for month day and year \n",
        "df_2.Date = pd.to_datetime(df_2.Date)\n"
      ],
      "execution_count": 92,
      "outputs": []
    },
    {
      "cell_type": "code",
      "metadata": {
        "id": "BIwVTfwwAmE7",
        "colab": {
          "base_uri": "https://localhost:8080/",
          "height": 654
        },
        "outputId": "5a9c421c-cba5-4c21-ea4b-49c325564e8b"
      },
      "source": [
        "df_2[['month', 'year']] = df_2.Date.apply(lambda x: pd.Series(x.strftime(\"%m, %Y\").split(\",\")))\n",
        "df_2"
      ],
      "execution_count": 45,
      "outputs": [
        {
          "output_type": "execute_result",
          "data": {
            "text/html": [
              "<div>\n",
              "<style scoped>\n",
              "    .dataframe tbody tr th:only-of-type {\n",
              "        vertical-align: middle;\n",
              "    }\n",
              "\n",
              "    .dataframe tbody tr th {\n",
              "        vertical-align: top;\n",
              "    }\n",
              "\n",
              "    .dataframe thead th {\n",
              "        text-align: right;\n",
              "    }\n",
              "</style>\n",
              "<table border=\"1\" class=\"dataframe\">\n",
              "  <thead>\n",
              "    <tr style=\"text-align: right;\">\n",
              "      <th></th>\n",
              "      <th></th>\n",
              "      <th>Date</th>\n",
              "      <th>DSCC Abbr.</th>\n",
              "      <th>DSCC Names</th>\n",
              "      <th>Category</th>\n",
              "      <th>Avg. Daily Pop.</th>\n",
              "      <th>month</th>\n",
              "      <th>year</th>\n",
              "    </tr>\n",
              "    <tr>\n",
              "      <th>DSCC Abbr.</th>\n",
              "      <th></th>\n",
              "      <th></th>\n",
              "      <th></th>\n",
              "      <th></th>\n",
              "      <th></th>\n",
              "      <th></th>\n",
              "      <th></th>\n",
              "      <th></th>\n",
              "    </tr>\n",
              "  </thead>\n",
              "  <tbody>\n",
              "    <tr>\n",
              "      <th rowspan=\"5\" valign=\"top\">ACS</th>\n",
              "      <th>19</th>\n",
              "      <td>2015-01-01</td>\n",
              "      <td>ACS</td>\n",
              "      <td>Alternative Community Services</td>\n",
              "      <td>Criminal Justice Clients under Pre-Trial Services</td>\n",
              "      <td>721</td>\n",
              "      <td>01</td>\n",
              "      <td>2015</td>\n",
              "    </tr>\n",
              "    <tr>\n",
              "      <th>209</th>\n",
              "      <td>2016-01-01</td>\n",
              "      <td>ACS</td>\n",
              "      <td>Alternative Community Services</td>\n",
              "      <td>Criminal Justice Clients under Pre-Trial Services</td>\n",
              "      <td>814</td>\n",
              "      <td>01</td>\n",
              "      <td>2016</td>\n",
              "    </tr>\n",
              "    <tr>\n",
              "      <th>388</th>\n",
              "      <td>2017-01-01</td>\n",
              "      <td>ACS</td>\n",
              "      <td>Alternative Community Services</td>\n",
              "      <td>Criminal Justice Clients under Pre-Trial Services</td>\n",
              "      <td>700</td>\n",
              "      <td>01</td>\n",
              "      <td>2017</td>\n",
              "    </tr>\n",
              "    <tr>\n",
              "      <th>155</th>\n",
              "      <td>2018-01-01</td>\n",
              "      <td>ACS</td>\n",
              "      <td>Alternative Community Services</td>\n",
              "      <td>Criminal Justice Clients under Pre-Trial Services</td>\n",
              "      <td>655</td>\n",
              "      <td>01</td>\n",
              "      <td>2018</td>\n",
              "    </tr>\n",
              "    <tr>\n",
              "      <th>82</th>\n",
              "      <td>2019-01-01</td>\n",
              "      <td>ACS</td>\n",
              "      <td>Alternative Community Services</td>\n",
              "      <td>Criminal Justice Clients under Pre-Trial Services</td>\n",
              "      <td>564</td>\n",
              "      <td>01</td>\n",
              "      <td>2019</td>\n",
              "    </tr>\n",
              "    <tr>\n",
              "      <th>...</th>\n",
              "      <th>...</th>\n",
              "      <td>...</td>\n",
              "      <td>...</td>\n",
              "      <td>...</td>\n",
              "      <td>...</td>\n",
              "      <td>...</td>\n",
              "      <td>...</td>\n",
              "      <td>...</td>\n",
              "    </tr>\n",
              "    <tr>\n",
              "      <th rowspan=\"5\" valign=\"top\">PTSU</th>\n",
              "      <th>161</th>\n",
              "      <td>2016-12-01</td>\n",
              "      <td>PTSU</td>\n",
              "      <td>Pre-Trial Supervision Unit</td>\n",
              "      <td>Criminal Justice Clients under Pre-Trial Services</td>\n",
              "      <td>707</td>\n",
              "      <td>12</td>\n",
              "      <td>2016</td>\n",
              "    </tr>\n",
              "    <tr>\n",
              "      <th>137</th>\n",
              "      <td>2017-12-01</td>\n",
              "      <td>PTSU</td>\n",
              "      <td>Pre-Trial Supervision Unit</td>\n",
              "      <td>Criminal Justice Clients under Pre-Trial Services</td>\n",
              "      <td>762</td>\n",
              "      <td>12</td>\n",
              "      <td>2017</td>\n",
              "    </tr>\n",
              "    <tr>\n",
              "      <th>70</th>\n",
              "      <td>2018-12-01</td>\n",
              "      <td>PTSU</td>\n",
              "      <td>Pre-Trial Supervision Unit</td>\n",
              "      <td>Criminal Justice Clients under Pre-Trial Services</td>\n",
              "      <td>757</td>\n",
              "      <td>12</td>\n",
              "      <td>2018</td>\n",
              "    </tr>\n",
              "    <tr>\n",
              "      <th>179</th>\n",
              "      <td>2019-12-01</td>\n",
              "      <td>PTSU</td>\n",
              "      <td>Pre-Trial Supervision Unit</td>\n",
              "      <td>Criminal Justice Clients under Pre-Trial Services</td>\n",
              "      <td>589</td>\n",
              "      <td>12</td>\n",
              "      <td>2019</td>\n",
              "    </tr>\n",
              "    <tr>\n",
              "      <th>431</th>\n",
              "      <td>2020-12-01</td>\n",
              "      <td>PTSU</td>\n",
              "      <td>Pre-Trial Supervision Unit</td>\n",
              "      <td>Criminal Justice Clients under Pre-Trial Services</td>\n",
              "      <td>867</td>\n",
              "      <td>12</td>\n",
              "      <td>2020</td>\n",
              "    </tr>\n",
              "  </tbody>\n",
              "</table>\n",
              "<p>444 rows × 7 columns</p>\n",
              "</div>"
            ],
            "text/plain": [
              "                     Date DSCC Abbr.  ... month   year\n",
              "DSCC Abbr.                            ...             \n",
              "ACS        19  2015-01-01        ACS  ...    01   2015\n",
              "           209 2016-01-01        ACS  ...    01   2016\n",
              "           388 2017-01-01        ACS  ...    01   2017\n",
              "           155 2018-01-01        ACS  ...    01   2018\n",
              "           82  2019-01-01        ACS  ...    01   2019\n",
              "...                   ...        ...  ...   ...    ...\n",
              "PTSU       161 2016-12-01       PTSU  ...    12   2016\n",
              "           137 2017-12-01       PTSU  ...    12   2017\n",
              "           70  2018-12-01       PTSU  ...    12   2018\n",
              "           179 2019-12-01       PTSU  ...    12   2019\n",
              "           431 2020-12-01       PTSU  ...    12   2020\n",
              "\n",
              "[444 rows x 7 columns]"
            ]
          },
          "metadata": {
            "tags": []
          },
          "execution_count": 45
        }
      ]
    },
    {
      "cell_type": "code",
      "metadata": {
        "id": "FxEeqdlrAmE7"
      },
      "source": [
        "#df_2['month'], df_2['day'], df_2['year'] = df_2.Date.dt.month, df_2.Date.dt.day, df_2.Date.dt.year\n",
        "#df_"
      ],
      "execution_count": null,
      "outputs": []
    },
    {
      "cell_type": "code",
      "metadata": {
        "id": "betoh_LRAmE7",
        "colab": {
          "base_uri": "https://localhost:8080/",
          "height": 594
        },
        "outputId": "5990098e-26bf-4e43-9d73-301e8093f66a"
      },
      "source": [
        "df_2.groupby(df_2['year'])\n",
        "df_2.head(10)"
      ],
      "execution_count": 46,
      "outputs": [
        {
          "output_type": "execute_result",
          "data": {
            "text/html": [
              "<div>\n",
              "<style scoped>\n",
              "    .dataframe tbody tr th:only-of-type {\n",
              "        vertical-align: middle;\n",
              "    }\n",
              "\n",
              "    .dataframe tbody tr th {\n",
              "        vertical-align: top;\n",
              "    }\n",
              "\n",
              "    .dataframe thead th {\n",
              "        text-align: right;\n",
              "    }\n",
              "</style>\n",
              "<table border=\"1\" class=\"dataframe\">\n",
              "  <thead>\n",
              "    <tr style=\"text-align: right;\">\n",
              "      <th></th>\n",
              "      <th></th>\n",
              "      <th>Date</th>\n",
              "      <th>DSCC Abbr.</th>\n",
              "      <th>DSCC Names</th>\n",
              "      <th>Category</th>\n",
              "      <th>Avg. Daily Pop.</th>\n",
              "      <th>month</th>\n",
              "      <th>year</th>\n",
              "    </tr>\n",
              "    <tr>\n",
              "      <th>DSCC Abbr.</th>\n",
              "      <th></th>\n",
              "      <th></th>\n",
              "      <th></th>\n",
              "      <th></th>\n",
              "      <th></th>\n",
              "      <th></th>\n",
              "      <th></th>\n",
              "      <th></th>\n",
              "    </tr>\n",
              "  </thead>\n",
              "  <tbody>\n",
              "    <tr>\n",
              "      <th rowspan=\"10\" valign=\"top\">ACS</th>\n",
              "      <th>19</th>\n",
              "      <td>2015-01-01</td>\n",
              "      <td>ACS</td>\n",
              "      <td>Alternative Community Services</td>\n",
              "      <td>Criminal Justice Clients under Pre-Trial Services</td>\n",
              "      <td>721</td>\n",
              "      <td>01</td>\n",
              "      <td>2015</td>\n",
              "    </tr>\n",
              "    <tr>\n",
              "      <th>209</th>\n",
              "      <td>2016-01-01</td>\n",
              "      <td>ACS</td>\n",
              "      <td>Alternative Community Services</td>\n",
              "      <td>Criminal Justice Clients under Pre-Trial Services</td>\n",
              "      <td>814</td>\n",
              "      <td>01</td>\n",
              "      <td>2016</td>\n",
              "    </tr>\n",
              "    <tr>\n",
              "      <th>388</th>\n",
              "      <td>2017-01-01</td>\n",
              "      <td>ACS</td>\n",
              "      <td>Alternative Community Services</td>\n",
              "      <td>Criminal Justice Clients under Pre-Trial Services</td>\n",
              "      <td>700</td>\n",
              "      <td>01</td>\n",
              "      <td>2017</td>\n",
              "    </tr>\n",
              "    <tr>\n",
              "      <th>155</th>\n",
              "      <td>2018-01-01</td>\n",
              "      <td>ACS</td>\n",
              "      <td>Alternative Community Services</td>\n",
              "      <td>Criminal Justice Clients under Pre-Trial Services</td>\n",
              "      <td>655</td>\n",
              "      <td>01</td>\n",
              "      <td>2018</td>\n",
              "    </tr>\n",
              "    <tr>\n",
              "      <th>82</th>\n",
              "      <td>2019-01-01</td>\n",
              "      <td>ACS</td>\n",
              "      <td>Alternative Community Services</td>\n",
              "      <td>Criminal Justice Clients under Pre-Trial Services</td>\n",
              "      <td>564</td>\n",
              "      <td>01</td>\n",
              "      <td>2019</td>\n",
              "    </tr>\n",
              "    <tr>\n",
              "      <th>188</th>\n",
              "      <td>2020-01-01</td>\n",
              "      <td>ACS</td>\n",
              "      <td>Alternative Community Services</td>\n",
              "      <td>Criminal Justice Clients under Pre-Trial Services</td>\n",
              "      <td>620</td>\n",
              "      <td>01</td>\n",
              "      <td>2020</td>\n",
              "    </tr>\n",
              "    <tr>\n",
              "      <th>437</th>\n",
              "      <td>2021-01-01</td>\n",
              "      <td>ACS</td>\n",
              "      <td>Alternative Community Services</td>\n",
              "      <td>Criminal Justice Clients under Pre-Trial Services</td>\n",
              "      <td>335</td>\n",
              "      <td>01</td>\n",
              "      <td>2021</td>\n",
              "    </tr>\n",
              "    <tr>\n",
              "      <th>149</th>\n",
              "      <td>2015-02-01</td>\n",
              "      <td>ACS</td>\n",
              "      <td>Alternative Community Services</td>\n",
              "      <td>Criminal Justice Clients under Pre-Trial Services</td>\n",
              "      <td>738</td>\n",
              "      <td>02</td>\n",
              "      <td>2015</td>\n",
              "    </tr>\n",
              "    <tr>\n",
              "      <th>357</th>\n",
              "      <td>2016-02-01</td>\n",
              "      <td>ACS</td>\n",
              "      <td>Alternative Community Services</td>\n",
              "      <td>Criminal Justice Clients under Pre-Trial Services</td>\n",
              "      <td>838</td>\n",
              "      <td>02</td>\n",
              "      <td>2016</td>\n",
              "    </tr>\n",
              "    <tr>\n",
              "      <th>4</th>\n",
              "      <td>2017-02-01</td>\n",
              "      <td>ACS</td>\n",
              "      <td>Alternative Community Services</td>\n",
              "      <td>Criminal Justice Clients under Pre-Trial Services</td>\n",
              "      <td>731</td>\n",
              "      <td>02</td>\n",
              "      <td>2017</td>\n",
              "    </tr>\n",
              "  </tbody>\n",
              "</table>\n",
              "</div>"
            ],
            "text/plain": [
              "                     Date DSCC Abbr.  ... month   year\n",
              "DSCC Abbr.                            ...             \n",
              "ACS        19  2015-01-01        ACS  ...    01   2015\n",
              "           209 2016-01-01        ACS  ...    01   2016\n",
              "           388 2017-01-01        ACS  ...    01   2017\n",
              "           155 2018-01-01        ACS  ...    01   2018\n",
              "           82  2019-01-01        ACS  ...    01   2019\n",
              "           188 2020-01-01        ACS  ...    01   2020\n",
              "           437 2021-01-01        ACS  ...    01   2021\n",
              "           149 2015-02-01        ACS  ...    02   2015\n",
              "           357 2016-02-01        ACS  ...    02   2016\n",
              "           4   2017-02-01        ACS  ...    02   2017\n",
              "\n",
              "[10 rows x 7 columns]"
            ]
          },
          "metadata": {
            "tags": []
          },
          "execution_count": 46
        }
      ]
    },
    {
      "cell_type": "code",
      "metadata": {
        "id": "SUJDELblAmE7",
        "colab": {
          "base_uri": "https://localhost:8080/",
          "height": 235
        },
        "outputId": "fca17775-437a-4b6c-a391-11f3d081b4c4"
      },
      "source": [
        "# Remove DSCC Name Column\n",
        "df_2.drop(df_2.columns[[2]], axis=1, inplace=True,)\n",
        "df_2.head(5)"
      ],
      "execution_count": 48,
      "outputs": [
        {
          "output_type": "execute_result",
          "data": {
            "text/html": [
              "<div>\n",
              "<style scoped>\n",
              "    .dataframe tbody tr th:only-of-type {\n",
              "        vertical-align: middle;\n",
              "    }\n",
              "\n",
              "    .dataframe tbody tr th {\n",
              "        vertical-align: top;\n",
              "    }\n",
              "\n",
              "    .dataframe thead th {\n",
              "        text-align: right;\n",
              "    }\n",
              "</style>\n",
              "<table border=\"1\" class=\"dataframe\">\n",
              "  <thead>\n",
              "    <tr style=\"text-align: right;\">\n",
              "      <th></th>\n",
              "      <th></th>\n",
              "      <th>Date</th>\n",
              "      <th>DSCC Abbr.</th>\n",
              "      <th>Avg. Daily Pop.</th>\n",
              "      <th>month</th>\n",
              "      <th>year</th>\n",
              "    </tr>\n",
              "    <tr>\n",
              "      <th>DSCC Abbr.</th>\n",
              "      <th></th>\n",
              "      <th></th>\n",
              "      <th></th>\n",
              "      <th></th>\n",
              "      <th></th>\n",
              "      <th></th>\n",
              "    </tr>\n",
              "  </thead>\n",
              "  <tbody>\n",
              "    <tr>\n",
              "      <th rowspan=\"5\" valign=\"top\">ACS</th>\n",
              "      <th>19</th>\n",
              "      <td>2015-01-01</td>\n",
              "      <td>ACS</td>\n",
              "      <td>721</td>\n",
              "      <td>01</td>\n",
              "      <td>2015</td>\n",
              "    </tr>\n",
              "    <tr>\n",
              "      <th>209</th>\n",
              "      <td>2016-01-01</td>\n",
              "      <td>ACS</td>\n",
              "      <td>814</td>\n",
              "      <td>01</td>\n",
              "      <td>2016</td>\n",
              "    </tr>\n",
              "    <tr>\n",
              "      <th>388</th>\n",
              "      <td>2017-01-01</td>\n",
              "      <td>ACS</td>\n",
              "      <td>700</td>\n",
              "      <td>01</td>\n",
              "      <td>2017</td>\n",
              "    </tr>\n",
              "    <tr>\n",
              "      <th>155</th>\n",
              "      <td>2018-01-01</td>\n",
              "      <td>ACS</td>\n",
              "      <td>655</td>\n",
              "      <td>01</td>\n",
              "      <td>2018</td>\n",
              "    </tr>\n",
              "    <tr>\n",
              "      <th>82</th>\n",
              "      <td>2019-01-01</td>\n",
              "      <td>ACS</td>\n",
              "      <td>564</td>\n",
              "      <td>01</td>\n",
              "      <td>2019</td>\n",
              "    </tr>\n",
              "  </tbody>\n",
              "</table>\n",
              "</div>"
            ],
            "text/plain": [
              "                     Date DSCC Abbr.  Avg. Daily Pop. month   year\n",
              "DSCC Abbr.                                                        \n",
              "ACS        19  2015-01-01        ACS              721    01   2015\n",
              "           209 2016-01-01        ACS              814    01   2016\n",
              "           388 2017-01-01        ACS              700    01   2017\n",
              "           155 2018-01-01        ACS              655    01   2018\n",
              "           82  2019-01-01        ACS              564    01   2019"
            ]
          },
          "metadata": {
            "tags": []
          },
          "execution_count": 48
        }
      ]
    },
    {
      "cell_type": "code",
      "metadata": {
        "id": "XBN-8mAsAmE8"
      },
      "source": [
        "# Create separate columns for month day and year \n",
        "df_1.Date = pd.to_datetime(df_1.Date)"
      ],
      "execution_count": 49,
      "outputs": []
    },
    {
      "cell_type": "code",
      "metadata": {
        "id": "ASwQA714AmE8",
        "colab": {
          "base_uri": "https://localhost:8080/",
          "height": 606
        },
        "outputId": "f2ca0eb0-2f62-45e6-c16c-55dcbd133d9e"
      },
      "source": [
        "df_1[['month', 'year']] = df_1.Date.apply(lambda x: pd.Series(x.strftime(\"%m, %Y\").split(\",\")))\n",
        "df_1"
      ],
      "execution_count": 50,
      "outputs": [
        {
          "output_type": "execute_result",
          "data": {
            "text/html": [
              "<div>\n",
              "<style scoped>\n",
              "    .dataframe tbody tr th:only-of-type {\n",
              "        vertical-align: middle;\n",
              "    }\n",
              "\n",
              "    .dataframe tbody tr th {\n",
              "        vertical-align: top;\n",
              "    }\n",
              "\n",
              "    .dataframe thead th {\n",
              "        text-align: right;\n",
              "    }\n",
              "</style>\n",
              "<table border=\"1\" class=\"dataframe\">\n",
              "  <thead>\n",
              "    <tr style=\"text-align: right;\">\n",
              "      <th></th>\n",
              "      <th>Date</th>\n",
              "      <th>DSCC Abbr.</th>\n",
              "      <th>DSCC Names</th>\n",
              "      <th>Category</th>\n",
              "      <th>Avg. Daily Pop.</th>\n",
              "      <th>month</th>\n",
              "      <th>year</th>\n",
              "    </tr>\n",
              "  </thead>\n",
              "  <tbody>\n",
              "    <tr>\n",
              "      <th>0</th>\n",
              "      <td>2016-01-01</td>\n",
              "      <td>PRRS</td>\n",
              "      <td>Pre-Release and Re-Entry Services</td>\n",
              "      <td>Inmates in DOCR Custody</td>\n",
              "      <td>124</td>\n",
              "      <td>01</td>\n",
              "      <td>2016</td>\n",
              "    </tr>\n",
              "    <tr>\n",
              "      <th>1</th>\n",
              "      <td>2017-02-01</td>\n",
              "      <td>MCCF</td>\n",
              "      <td>Montgomery County Correctional Facility</td>\n",
              "      <td>Inmates in DOCR Custody</td>\n",
              "      <td>508</td>\n",
              "      <td>02</td>\n",
              "      <td>2017</td>\n",
              "    </tr>\n",
              "    <tr>\n",
              "      <th>2</th>\n",
              "      <td>2017-02-01</td>\n",
              "      <td>PTSU</td>\n",
              "      <td>Pre-Trial Supervision Unit</td>\n",
              "      <td>Criminal Justice Clients under Pre-Trial Services</td>\n",
              "      <td>707</td>\n",
              "      <td>02</td>\n",
              "      <td>2017</td>\n",
              "    </tr>\n",
              "    <tr>\n",
              "      <th>3</th>\n",
              "      <td>2017-02-01</td>\n",
              "      <td>PRRS</td>\n",
              "      <td>Pre-Release and Re-Entry Services</td>\n",
              "      <td>Inmates in DOCR Custody</td>\n",
              "      <td>129</td>\n",
              "      <td>02</td>\n",
              "      <td>2017</td>\n",
              "    </tr>\n",
              "    <tr>\n",
              "      <th>4</th>\n",
              "      <td>2017-02-01</td>\n",
              "      <td>ACS</td>\n",
              "      <td>Alternative Community Services</td>\n",
              "      <td>Criminal Justice Clients under Pre-Trial Services</td>\n",
              "      <td>731</td>\n",
              "      <td>02</td>\n",
              "      <td>2017</td>\n",
              "    </tr>\n",
              "    <tr>\n",
              "      <th>...</th>\n",
              "      <td>...</td>\n",
              "      <td>...</td>\n",
              "      <td>...</td>\n",
              "      <td>...</td>\n",
              "      <td>...</td>\n",
              "      <td>...</td>\n",
              "      <td>...</td>\n",
              "    </tr>\n",
              "    <tr>\n",
              "      <th>439</th>\n",
              "      <td>2021-02-01</td>\n",
              "      <td>PRRS</td>\n",
              "      <td>Pre-Release and Re-Entry Services</td>\n",
              "      <td>Inmates in DOCR Custody</td>\n",
              "      <td>0</td>\n",
              "      <td>02</td>\n",
              "      <td>2021</td>\n",
              "    </tr>\n",
              "    <tr>\n",
              "      <th>440</th>\n",
              "      <td>2021-02-01</td>\n",
              "      <td>ACS</td>\n",
              "      <td>Alternative Community Services</td>\n",
              "      <td>Criminal Justice Clients under Pre-Trial Services</td>\n",
              "      <td>325</td>\n",
              "      <td>02</td>\n",
              "      <td>2021</td>\n",
              "    </tr>\n",
              "    <tr>\n",
              "      <th>441</th>\n",
              "      <td>2021-02-01</td>\n",
              "      <td>IPSA</td>\n",
              "      <td>Intervention Program for Substance Abusers</td>\n",
              "      <td>Criminal Justice Clients under Pre-Trial Services</td>\n",
              "      <td>68</td>\n",
              "      <td>02</td>\n",
              "      <td>2021</td>\n",
              "    </tr>\n",
              "    <tr>\n",
              "      <th>442</th>\n",
              "      <td>2021-02-01</td>\n",
              "      <td>MCCF</td>\n",
              "      <td>Montgomery County Correctional Facility</td>\n",
              "      <td>Inmates in DOCR Custody</td>\n",
              "      <td>485</td>\n",
              "      <td>02</td>\n",
              "      <td>2021</td>\n",
              "    </tr>\n",
              "    <tr>\n",
              "      <th>443</th>\n",
              "      <td>2021-02-01</td>\n",
              "      <td>PTSU</td>\n",
              "      <td>Pre-Trial Supervision Unit</td>\n",
              "      <td>Criminal Justice Clients under Pre-Trial Services</td>\n",
              "      <td>918</td>\n",
              "      <td>02</td>\n",
              "      <td>2021</td>\n",
              "    </tr>\n",
              "  </tbody>\n",
              "</table>\n",
              "<p>444 rows × 7 columns</p>\n",
              "</div>"
            ],
            "text/plain": [
              "          Date DSCC Abbr.  ... month   year\n",
              "0   2016-01-01       PRRS  ...    01   2016\n",
              "1   2017-02-01       MCCF  ...    02   2017\n",
              "2   2017-02-01       PTSU  ...    02   2017\n",
              "3   2017-02-01       PRRS  ...    02   2017\n",
              "4   2017-02-01        ACS  ...    02   2017\n",
              "..         ...        ...  ...   ...    ...\n",
              "439 2021-02-01       PRRS  ...    02   2021\n",
              "440 2021-02-01        ACS  ...    02   2021\n",
              "441 2021-02-01       IPSA  ...    02   2021\n",
              "442 2021-02-01       MCCF  ...    02   2021\n",
              "443 2021-02-01       PTSU  ...    02   2021\n",
              "\n",
              "[444 rows x 7 columns]"
            ]
          },
          "metadata": {
            "tags": []
          },
          "execution_count": 50
        }
      ]
    },
    {
      "cell_type": "code",
      "metadata": {
        "id": "wGOuEDYUAmE8"
      },
      "source": [
        "# drop date column\n",
        "df_1a = df_1.drop(df_1.columns[0:1], axis=1)"
      ],
      "execution_count": 53,
      "outputs": []
    },
    {
      "cell_type": "code",
      "metadata": {
        "id": "606SLH2oAmE8",
        "colab": {
          "base_uri": "https://localhost:8080/",
          "height": 306
        },
        "outputId": "cebab7b0-76e6-431e-d892-daf8eea4f585"
      },
      "source": [
        "df_1a.head(5)"
      ],
      "execution_count": 52,
      "outputs": [
        {
          "output_type": "execute_result",
          "data": {
            "text/html": [
              "<div>\n",
              "<style scoped>\n",
              "    .dataframe tbody tr th:only-of-type {\n",
              "        vertical-align: middle;\n",
              "    }\n",
              "\n",
              "    .dataframe tbody tr th {\n",
              "        vertical-align: top;\n",
              "    }\n",
              "\n",
              "    .dataframe thead th {\n",
              "        text-align: right;\n",
              "    }\n",
              "</style>\n",
              "<table border=\"1\" class=\"dataframe\">\n",
              "  <thead>\n",
              "    <tr style=\"text-align: right;\">\n",
              "      <th></th>\n",
              "      <th>DSCC Abbr.</th>\n",
              "      <th>DSCC Names</th>\n",
              "      <th>Category</th>\n",
              "      <th>Avg. Daily Pop.</th>\n",
              "      <th>month</th>\n",
              "      <th>year</th>\n",
              "    </tr>\n",
              "  </thead>\n",
              "  <tbody>\n",
              "    <tr>\n",
              "      <th>0</th>\n",
              "      <td>PRRS</td>\n",
              "      <td>Pre-Release and Re-Entry Services</td>\n",
              "      <td>Inmates in DOCR Custody</td>\n",
              "      <td>124</td>\n",
              "      <td>01</td>\n",
              "      <td>2016</td>\n",
              "    </tr>\n",
              "    <tr>\n",
              "      <th>1</th>\n",
              "      <td>MCCF</td>\n",
              "      <td>Montgomery County Correctional Facility</td>\n",
              "      <td>Inmates in DOCR Custody</td>\n",
              "      <td>508</td>\n",
              "      <td>02</td>\n",
              "      <td>2017</td>\n",
              "    </tr>\n",
              "    <tr>\n",
              "      <th>2</th>\n",
              "      <td>PTSU</td>\n",
              "      <td>Pre-Trial Supervision Unit</td>\n",
              "      <td>Criminal Justice Clients under Pre-Trial Services</td>\n",
              "      <td>707</td>\n",
              "      <td>02</td>\n",
              "      <td>2017</td>\n",
              "    </tr>\n",
              "    <tr>\n",
              "      <th>3</th>\n",
              "      <td>PRRS</td>\n",
              "      <td>Pre-Release and Re-Entry Services</td>\n",
              "      <td>Inmates in DOCR Custody</td>\n",
              "      <td>129</td>\n",
              "      <td>02</td>\n",
              "      <td>2017</td>\n",
              "    </tr>\n",
              "    <tr>\n",
              "      <th>4</th>\n",
              "      <td>ACS</td>\n",
              "      <td>Alternative Community Services</td>\n",
              "      <td>Criminal Justice Clients under Pre-Trial Services</td>\n",
              "      <td>731</td>\n",
              "      <td>02</td>\n",
              "      <td>2017</td>\n",
              "    </tr>\n",
              "  </tbody>\n",
              "</table>\n",
              "</div>"
            ],
            "text/plain": [
              "  DSCC Abbr.                               DSCC Names  ... month   year\n",
              "0       PRRS        Pre-Release and Re-Entry Services  ...    01   2016\n",
              "1       MCCF  Montgomery County Correctional Facility  ...    02   2017\n",
              "2       PTSU               Pre-Trial Supervision Unit  ...    02   2017\n",
              "3       PRRS        Pre-Release and Re-Entry Services  ...    02   2017\n",
              "4        ACS           Alternative Community Services  ...    02   2017\n",
              "\n",
              "[5 rows x 6 columns]"
            ]
          },
          "metadata": {
            "tags": []
          },
          "execution_count": 52
        }
      ]
    },
    {
      "cell_type": "code",
      "metadata": {
        "id": "DpE7uWc6AmE8",
        "colab": {
          "base_uri": "https://localhost:8080/",
          "height": 306
        },
        "outputId": "0d609b4b-a8d7-43ca-f8fe-dd13b4a33a6b"
      },
      "source": [
        "#Trying to remove index column\n",
        "df_1a.reset_index(drop=True, inplace=True)\n",
        "df_1a.head(5)"
      ],
      "execution_count": 54,
      "outputs": [
        {
          "output_type": "execute_result",
          "data": {
            "text/html": [
              "<div>\n",
              "<style scoped>\n",
              "    .dataframe tbody tr th:only-of-type {\n",
              "        vertical-align: middle;\n",
              "    }\n",
              "\n",
              "    .dataframe tbody tr th {\n",
              "        vertical-align: top;\n",
              "    }\n",
              "\n",
              "    .dataframe thead th {\n",
              "        text-align: right;\n",
              "    }\n",
              "</style>\n",
              "<table border=\"1\" class=\"dataframe\">\n",
              "  <thead>\n",
              "    <tr style=\"text-align: right;\">\n",
              "      <th></th>\n",
              "      <th>DSCC Abbr.</th>\n",
              "      <th>DSCC Names</th>\n",
              "      <th>Category</th>\n",
              "      <th>Avg. Daily Pop.</th>\n",
              "      <th>month</th>\n",
              "      <th>year</th>\n",
              "    </tr>\n",
              "  </thead>\n",
              "  <tbody>\n",
              "    <tr>\n",
              "      <th>0</th>\n",
              "      <td>PRRS</td>\n",
              "      <td>Pre-Release and Re-Entry Services</td>\n",
              "      <td>Inmates in DOCR Custody</td>\n",
              "      <td>124</td>\n",
              "      <td>01</td>\n",
              "      <td>2016</td>\n",
              "    </tr>\n",
              "    <tr>\n",
              "      <th>1</th>\n",
              "      <td>MCCF</td>\n",
              "      <td>Montgomery County Correctional Facility</td>\n",
              "      <td>Inmates in DOCR Custody</td>\n",
              "      <td>508</td>\n",
              "      <td>02</td>\n",
              "      <td>2017</td>\n",
              "    </tr>\n",
              "    <tr>\n",
              "      <th>2</th>\n",
              "      <td>PTSU</td>\n",
              "      <td>Pre-Trial Supervision Unit</td>\n",
              "      <td>Criminal Justice Clients under Pre-Trial Services</td>\n",
              "      <td>707</td>\n",
              "      <td>02</td>\n",
              "      <td>2017</td>\n",
              "    </tr>\n",
              "    <tr>\n",
              "      <th>3</th>\n",
              "      <td>PRRS</td>\n",
              "      <td>Pre-Release and Re-Entry Services</td>\n",
              "      <td>Inmates in DOCR Custody</td>\n",
              "      <td>129</td>\n",
              "      <td>02</td>\n",
              "      <td>2017</td>\n",
              "    </tr>\n",
              "    <tr>\n",
              "      <th>4</th>\n",
              "      <td>ACS</td>\n",
              "      <td>Alternative Community Services</td>\n",
              "      <td>Criminal Justice Clients under Pre-Trial Services</td>\n",
              "      <td>731</td>\n",
              "      <td>02</td>\n",
              "      <td>2017</td>\n",
              "    </tr>\n",
              "  </tbody>\n",
              "</table>\n",
              "</div>"
            ],
            "text/plain": [
              "  DSCC Abbr.                               DSCC Names  ... month   year\n",
              "0       PRRS        Pre-Release and Re-Entry Services  ...    01   2016\n",
              "1       MCCF  Montgomery County Correctional Facility  ...    02   2017\n",
              "2       PTSU               Pre-Trial Supervision Unit  ...    02   2017\n",
              "3       PRRS        Pre-Release and Re-Entry Services  ...    02   2017\n",
              "4        ACS           Alternative Community Services  ...    02   2017\n",
              "\n",
              "[5 rows x 6 columns]"
            ]
          },
          "metadata": {
            "tags": []
          },
          "execution_count": 54
        }
      ]
    },
    {
      "cell_type": "code",
      "metadata": {
        "id": "ZGk2InsvAmE9",
        "colab": {
          "base_uri": "https://localhost:8080/",
          "height": 204
        },
        "outputId": "453d29c8-a19d-46d5-d90d-9f3929092a03"
      },
      "source": [
        "# Group by Year Sum\n",
        "df_year = df_1a.groupby(['year'], as_index=False).agg({'Avg. Daily Pop.': sum})\n",
        "df_year.head()"
      ],
      "execution_count": 55,
      "outputs": [
        {
          "output_type": "execute_result",
          "data": {
            "text/html": [
              "<div>\n",
              "<style scoped>\n",
              "    .dataframe tbody tr th:only-of-type {\n",
              "        vertical-align: middle;\n",
              "    }\n",
              "\n",
              "    .dataframe tbody tr th {\n",
              "        vertical-align: top;\n",
              "    }\n",
              "\n",
              "    .dataframe thead th {\n",
              "        text-align: right;\n",
              "    }\n",
              "</style>\n",
              "<table border=\"1\" class=\"dataframe\">\n",
              "  <thead>\n",
              "    <tr style=\"text-align: right;\">\n",
              "      <th></th>\n",
              "      <th>year</th>\n",
              "      <th>Avg. Daily Pop.</th>\n",
              "    </tr>\n",
              "  </thead>\n",
              "  <tbody>\n",
              "    <tr>\n",
              "      <th>0</th>\n",
              "      <td>2015</td>\n",
              "      <td>27811</td>\n",
              "    </tr>\n",
              "    <tr>\n",
              "      <th>1</th>\n",
              "      <td>2016</td>\n",
              "      <td>30138</td>\n",
              "    </tr>\n",
              "    <tr>\n",
              "      <th>2</th>\n",
              "      <td>2017</td>\n",
              "      <td>27102</td>\n",
              "    </tr>\n",
              "    <tr>\n",
              "      <th>3</th>\n",
              "      <td>2018</td>\n",
              "      <td>27464</td>\n",
              "    </tr>\n",
              "    <tr>\n",
              "      <th>4</th>\n",
              "      <td>2019</td>\n",
              "      <td>25649</td>\n",
              "    </tr>\n",
              "  </tbody>\n",
              "</table>\n",
              "</div>"
            ],
            "text/plain": [
              "    year  Avg. Daily Pop.\n",
              "0   2015            27811\n",
              "1   2016            30138\n",
              "2   2017            27102\n",
              "3   2018            27464\n",
              "4   2019            25649"
            ]
          },
          "metadata": {
            "tags": []
          },
          "execution_count": 55
        }
      ]
    },
    {
      "cell_type": "code",
      "metadata": {
        "id": "lapxY6UvAmE9",
        "colab": {
          "base_uri": "https://localhost:8080/",
          "height": 476
        },
        "outputId": "b5156e50-2b27-49b9-e66b-c62ddf9c1084"
      },
      "source": [
        "# matplotlib plot\n",
        "import matplotlib.pyplot as plt\n",
        "df_year.plot(x = 'year', grid=True)\n",
        "plt.xlabel('year')\n",
        "plt.ylabel('Avg. Daily Pop.')"
      ],
      "execution_count": 56,
      "outputs": [
        {
          "output_type": "execute_result",
          "data": {
            "text/plain": [
              "Text(0, 0.5, 'Avg. Daily Pop.')"
            ]
          },
          "metadata": {
            "tags": []
          },
          "execution_count": 56
        },
        {
          "output_type": "display_data",
          "data": {
            "image/png": "[encoded data removed]",
            "text/plain": [
              "<Figure size 640x480 with 1 Axes>"
            ]
          },
          "metadata": {
            "tags": []
          }
        }
      ]
    },
    {
      "cell_type": "code",
      "metadata": {
        "id": "s1n0jIprAmE9",
        "colab": {
          "base_uri": "https://localhost:8080/",
          "height": 459
        },
        "outputId": "cd73aa4a-91f2-4a76-91f1-d03d5784c610"
      },
      "source": [
        "# matplotlib barplot\n",
        "import matplotlib.pyplot as plt\n",
        "x = df_year['year']\n",
        "y = df_year['Avg. Daily Pop.']\n",
        "plt.bar(x, y)\n",
        "plt.xlabel('Year')\n",
        "plt.ylabel('Avg. Daily Pop.')\n",
        "plt.show()"
      ],
      "execution_count": 67,
      "outputs": [
        {
          "output_type": "display_data",
          "data": {
            "image/png": "[encoded data removed]",
            "text/plain": [
              "<Figure size 640x480 with 1 Axes>"
            ]
          },
          "metadata": {
            "tags": []
          }
        }
      ]
    },
    {
      "cell_type": "code",
      "metadata": {
        "id": "QF8z8PJfAmE-",
        "colab": {
          "base_uri": "https://localhost:8080/",
          "height": 669
        },
        "outputId": "fe7ca570-5c18-4c11-e01d-dd2ea5136ffd"
      },
      "source": [
        "# Sum of avg. daily pop by month and year\n",
        "df_monthyear = df_1a.groupby(['year', 'month'], as_index=False).agg({'Avg. Daily Pop.': sum})\n",
        "df_monthyear.head(20)"
      ],
      "execution_count": 58,
      "outputs": [
        {
          "output_type": "execute_result",
          "data": {
            "text/html": [
              "<div>\n",
              "<style scoped>\n",
              "    .dataframe tbody tr th:only-of-type {\n",
              "        vertical-align: middle;\n",
              "    }\n",
              "\n",
              "    .dataframe tbody tr th {\n",
              "        vertical-align: top;\n",
              "    }\n",
              "\n",
              "    .dataframe thead th {\n",
              "        text-align: right;\n",
              "    }\n",
              "</style>\n",
              "<table border=\"1\" class=\"dataframe\">\n",
              "  <thead>\n",
              "    <tr style=\"text-align: right;\">\n",
              "      <th></th>\n",
              "      <th>year</th>\n",
              "      <th>month</th>\n",
              "      <th>Avg. Daily Pop.</th>\n",
              "    </tr>\n",
              "  </thead>\n",
              "  <tbody>\n",
              "    <tr>\n",
              "      <th>0</th>\n",
              "      <td>2015</td>\n",
              "      <td>01</td>\n",
              "      <td>2284</td>\n",
              "    </tr>\n",
              "    <tr>\n",
              "      <th>1</th>\n",
              "      <td>2015</td>\n",
              "      <td>02</td>\n",
              "      <td>2277</td>\n",
              "    </tr>\n",
              "    <tr>\n",
              "      <th>2</th>\n",
              "      <td>2015</td>\n",
              "      <td>03</td>\n",
              "      <td>2273</td>\n",
              "    </tr>\n",
              "    <tr>\n",
              "      <th>3</th>\n",
              "      <td>2015</td>\n",
              "      <td>04</td>\n",
              "      <td>2343</td>\n",
              "    </tr>\n",
              "    <tr>\n",
              "      <th>4</th>\n",
              "      <td>2015</td>\n",
              "      <td>05</td>\n",
              "      <td>2310</td>\n",
              "    </tr>\n",
              "    <tr>\n",
              "      <th>5</th>\n",
              "      <td>2015</td>\n",
              "      <td>06</td>\n",
              "      <td>2228</td>\n",
              "    </tr>\n",
              "    <tr>\n",
              "      <th>6</th>\n",
              "      <td>2015</td>\n",
              "      <td>07</td>\n",
              "      <td>2215</td>\n",
              "    </tr>\n",
              "    <tr>\n",
              "      <th>7</th>\n",
              "      <td>2015</td>\n",
              "      <td>08</td>\n",
              "      <td>2311</td>\n",
              "    </tr>\n",
              "    <tr>\n",
              "      <th>8</th>\n",
              "      <td>2015</td>\n",
              "      <td>09</td>\n",
              "      <td>2320</td>\n",
              "    </tr>\n",
              "    <tr>\n",
              "      <th>9</th>\n",
              "      <td>2015</td>\n",
              "      <td>10</td>\n",
              "      <td>2347</td>\n",
              "    </tr>\n",
              "    <tr>\n",
              "      <th>10</th>\n",
              "      <td>2015</td>\n",
              "      <td>11</td>\n",
              "      <td>2459</td>\n",
              "    </tr>\n",
              "    <tr>\n",
              "      <th>11</th>\n",
              "      <td>2015</td>\n",
              "      <td>12</td>\n",
              "      <td>2444</td>\n",
              "    </tr>\n",
              "    <tr>\n",
              "      <th>12</th>\n",
              "      <td>2016</td>\n",
              "      <td>01</td>\n",
              "      <td>2410</td>\n",
              "    </tr>\n",
              "    <tr>\n",
              "      <th>13</th>\n",
              "      <td>2016</td>\n",
              "      <td>02</td>\n",
              "      <td>2446</td>\n",
              "    </tr>\n",
              "    <tr>\n",
              "      <th>14</th>\n",
              "      <td>2016</td>\n",
              "      <td>03</td>\n",
              "      <td>2526</td>\n",
              "    </tr>\n",
              "    <tr>\n",
              "      <th>15</th>\n",
              "      <td>2016</td>\n",
              "      <td>04</td>\n",
              "      <td>2645</td>\n",
              "    </tr>\n",
              "    <tr>\n",
              "      <th>16</th>\n",
              "      <td>2016</td>\n",
              "      <td>05</td>\n",
              "      <td>2684</td>\n",
              "    </tr>\n",
              "    <tr>\n",
              "      <th>17</th>\n",
              "      <td>2016</td>\n",
              "      <td>06</td>\n",
              "      <td>2598</td>\n",
              "    </tr>\n",
              "    <tr>\n",
              "      <th>18</th>\n",
              "      <td>2016</td>\n",
              "      <td>07</td>\n",
              "      <td>2574</td>\n",
              "    </tr>\n",
              "    <tr>\n",
              "      <th>19</th>\n",
              "      <td>2016</td>\n",
              "      <td>08</td>\n",
              "      <td>2558</td>\n",
              "    </tr>\n",
              "  </tbody>\n",
              "</table>\n",
              "</div>"
            ],
            "text/plain": [
              "     year month  Avg. Daily Pop.\n",
              "0    2015    01             2284\n",
              "1    2015    02             2277\n",
              "2    2015    03             2273\n",
              "3    2015    04             2343\n",
              "4    2015    05             2310\n",
              "5    2015    06             2228\n",
              "6    2015    07             2215\n",
              "7    2015    08             2311\n",
              "8    2015    09             2320\n",
              "9    2015    10             2347\n",
              "10   2015    11             2459\n",
              "11   2015    12             2444\n",
              "12   2016    01             2410\n",
              "13   2016    02             2446\n",
              "14   2016    03             2526\n",
              "15   2016    04             2645\n",
              "16   2016    05             2684\n",
              "17   2016    06             2598\n",
              "18   2016    07             2574\n",
              "19   2016    08             2558"
            ]
          },
          "metadata": {
            "tags": []
          },
          "execution_count": 58
        }
      ]
    },
    {
      "cell_type": "code",
      "metadata": {
        "id": "lv7gRdIQAmE-",
        "colab": {
          "base_uri": "https://localhost:8080/",
          "height": 476
        },
        "outputId": "0a47a3c9-4e03-48e4-f521-9d6a39719884"
      },
      "source": [
        "# matplotlib plot\n",
        "df_monthyear.plot(x = 'year', grid=True)\n",
        "plt.xlabel('year')\n",
        "plt.ylabel('Avg. Daily Pop.')\n",
        "# not sure why there were double 2015s and 2020s"
      ],
      "execution_count": 59,
      "outputs": [
        {
          "output_type": "execute_result",
          "data": {
            "text/plain": [
              "Text(0, 0.5, 'Avg. Daily Pop.')"
            ]
          },
          "metadata": {
            "tags": []
          },
          "execution_count": 59
        },
        {
          "output_type": "display_data",
          "data": {
            "image/png": "[encoded data removed]",
            "text/plain": [
              "<Figure size 640x480 with 1 Axes>"
            ]
          },
          "metadata": {
            "tags": []
          }
        }
      ]
    },
    {
      "cell_type": "code",
      "metadata": {
        "id": "Z_Jb0eQuAmE-",
        "colab": {
          "base_uri": "https://localhost:8080/",
          "height": 459
        },
        "outputId": "78616876-d393-44b4-83b9-53e18ba56a6c"
      },
      "source": [
        "x = df_monthyear['month']\n",
        "y = df_monthyear['Avg. Daily Pop.']\n",
        "plt.bar(x, y)\n",
        "plt.xlabel('month')\n",
        "plt.ylabel('Avg. Daily Pop.')\n",
        "plt.show()"
      ],
      "execution_count": 60,
      "outputs": [
        {
          "output_type": "display_data",
          "data": {
            "image/png": "[encoded data removed]",
            "text/plain": [
              "<Figure size 640x480 with 1 Axes>"
            ]
          },
          "metadata": {
            "tags": []
          }
        }
      ]
    },
    {
      "cell_type": "code",
      "metadata": {
        "colab": {
          "base_uri": "https://localhost:8080/",
          "height": 300
        },
        "id": "jG4JxTahTfSn",
        "outputId": "263832eb-547a-43a0-c835-f52b56f13f78"
      },
      "source": [
        "# trying to isolate entries by year\n",
        "# df_monthyear.groupby('year').get_group(2015)"
      ],
      "execution_count": 87,
      "outputs": [
        {
          "output_type": "error",
          "ename": "KeyError",
          "evalue": "ignored",
          "traceback": [
            "\u001b[0;31m---------------------------------------------------------------------------\u001b[0m",
            "\u001b[0;31mKeyError\u001b[0m                                  Traceback (most recent call last)",
            "\u001b[0;32m<ipython-input-87-f0decbdd0f2c>\u001b[0m in \u001b[0;36m<module>\u001b[0;34m()\u001b[0m\n\u001b[1;32m      1\u001b[0m \u001b[0;31m# trying to isolate entries by year\u001b[0m\u001b[0;34m\u001b[0m\u001b[0;34m\u001b[0m\u001b[0;34m\u001b[0m\u001b[0m\n\u001b[0;32m----> 2\u001b[0;31m \u001b[0mdf_monthyear\u001b[0m\u001b[0;34m.\u001b[0m\u001b[0mgroupby\u001b[0m\u001b[0;34m(\u001b[0m\u001b[0;34m'year'\u001b[0m\u001b[0;34m)\u001b[0m\u001b[0;34m.\u001b[0m\u001b[0mget_group\u001b[0m\u001b[0;34m(\u001b[0m\u001b[0;36m2015\u001b[0m\u001b[0;34m)\u001b[0m\u001b[0;34m\u001b[0m\u001b[0;34m\u001b[0m\u001b[0m\n\u001b[0m",
            "\u001b[0;32m/usr/local/lib/python3.7/dist-packages/pandas/core/groupby/groupby.py\u001b[0m in \u001b[0;36mget_group\u001b[0;34m(self, name, obj)\u001b[0m\n\u001b[1;32m    808\u001b[0m         \u001b[0minds\u001b[0m \u001b[0;34m=\u001b[0m \u001b[0mself\u001b[0m\u001b[0;34m.\u001b[0m\u001b[0m_get_index\u001b[0m\u001b[0;34m(\u001b[0m\u001b[0mname\u001b[0m\u001b[0;34m)\u001b[0m\u001b[0;34m\u001b[0m\u001b[0;34m\u001b[0m\u001b[0m\n\u001b[1;32m    809\u001b[0m         \u001b[0;32mif\u001b[0m \u001b[0;32mnot\u001b[0m \u001b[0mlen\u001b[0m\u001b[0;34m(\u001b[0m\u001b[0minds\u001b[0m\u001b[0;34m)\u001b[0m\u001b[0;34m:\u001b[0m\u001b[0;34m\u001b[0m\u001b[0;34m\u001b[0m\u001b[0m\n\u001b[0;32m--> 810\u001b[0;31m             \u001b[0;32mraise\u001b[0m \u001b[0mKeyError\u001b[0m\u001b[0;34m(\u001b[0m\u001b[0mname\u001b[0m\u001b[0;34m)\u001b[0m\u001b[0;34m\u001b[0m\u001b[0;34m\u001b[0m\u001b[0m\n\u001b[0m\u001b[1;32m    811\u001b[0m \u001b[0;34m\u001b[0m\u001b[0m\n\u001b[1;32m    812\u001b[0m         \u001b[0;32mreturn\u001b[0m \u001b[0mobj\u001b[0m\u001b[0;34m.\u001b[0m\u001b[0m_take_with_is_copy\u001b[0m\u001b[0;34m(\u001b[0m\u001b[0minds\u001b[0m\u001b[0;34m,\u001b[0m \u001b[0maxis\u001b[0m\u001b[0;34m=\u001b[0m\u001b[0mself\u001b[0m\u001b[0;34m.\u001b[0m\u001b[0maxis\u001b[0m\u001b[0;34m)\u001b[0m\u001b[0;34m\u001b[0m\u001b[0;34m\u001b[0m\u001b[0m\n",
            "\u001b[0;31mKeyError\u001b[0m: 2015"
          ]
        }
      ]
    },
    {
      "cell_type": "code",
      "metadata": {
        "colab": {
          "base_uri": "https://localhost:8080/",
          "height": 49
        },
        "id": "UN9VJt5BEi0l",
        "outputId": "456447ad-dac0-4857-f948-6223d07cae8e"
      },
      "source": [
        "# trying to get rid of the lines and select only months for 2015\n",
        "df_2015 = df_monthyear[df_monthyear['year'] == '2015']\n",
        "df_2015.head()"
      ],
      "execution_count": 82,
      "outputs": [
        {
          "output_type": "execute_result",
          "data": {
            "text/html": [
              "<div>\n",
              "<style scoped>\n",
              "    .dataframe tbody tr th:only-of-type {\n",
              "        vertical-align: middle;\n",
              "    }\n",
              "\n",
              "    .dataframe tbody tr th {\n",
              "        vertical-align: top;\n",
              "    }\n",
              "\n",
              "    .dataframe thead th {\n",
              "        text-align: right;\n",
              "    }\n",
              "</style>\n",
              "<table border=\"1\" class=\"dataframe\">\n",
              "  <thead>\n",
              "    <tr style=\"text-align: right;\">\n",
              "      <th></th>\n",
              "      <th>year</th>\n",
              "      <th>month</th>\n",
              "      <th>Avg. Daily Pop.</th>\n",
              "    </tr>\n",
              "  </thead>\n",
              "  <tbody>\n",
              "  </tbody>\n",
              "</table>\n",
              "</div>"
            ],
            "text/plain": [
              "Empty DataFrame\n",
              "Columns: [year, month, Avg. Daily Pop.]\n",
              "Index: []"
            ]
          },
          "metadata": {
            "tags": []
          },
          "execution_count": 82
        }
      ]
    },
    {
      "cell_type": "code",
      "metadata": {
        "colab": {
          "base_uri": "https://localhost:8080/",
          "height": 459
        },
        "id": "U-CHjZc9SpU7",
        "outputId": "972d943e-277f-46de-83eb-170d8b07a9b7"
      },
      "source": [
        "# Trying to Plot only 2015\n",
        "x = df_2015['month']\n",
        "y = df_2015['Avg. Daily Pop.']\n",
        "plt.bar(x, y)\n",
        "plt.xlabel('month')\n",
        "plt.ylabel('Avg. Daily Pop.')\n",
        "plt.show()"
      ],
      "execution_count": 76,
      "outputs": [
        {
          "output_type": "display_data",
          "data": {
            "image/png": "[encoded data removed]",
            "text/plain": [
              "<Figure size 640x480 with 1 Axes>"
            ]
          },
          "metadata": {
            "tags": []
          }
        }
      ]
    },
    {
      "cell_type": "code",
      "metadata": {
        "colab": {
          "base_uri": "https://localhost:8080/",
          "height": 49
        },
        "id": "uXPt9b-fWZXL",
        "outputId": "5a27fafb-889f-41eb-e2a8-208f1a1039d8"
      },
      "source": [
        "# example code:  df[(df['age'] > 28) & (df['grade'] == 'A')]\n",
        "df_monthyear[(df_monthyear['year'] == '2016')]"
      ],
      "execution_count": 89,
      "outputs": [
        {
          "output_type": "execute_result",
          "data": {
            "text/html": [
              "<div>\n",
              "<style scoped>\n",
              "    .dataframe tbody tr th:only-of-type {\n",
              "        vertical-align: middle;\n",
              "    }\n",
              "\n",
              "    .dataframe tbody tr th {\n",
              "        vertical-align: top;\n",
              "    }\n",
              "\n",
              "    .dataframe thead th {\n",
              "        text-align: right;\n",
              "    }\n",
              "</style>\n",
              "<table border=\"1\" class=\"dataframe\">\n",
              "  <thead>\n",
              "    <tr style=\"text-align: right;\">\n",
              "      <th></th>\n",
              "      <th>year</th>\n",
              "      <th>month</th>\n",
              "      <th>Avg. Daily Pop.</th>\n",
              "    </tr>\n",
              "  </thead>\n",
              "  <tbody>\n",
              "  </tbody>\n",
              "</table>\n",
              "</div>"
            ],
            "text/plain": [
              "Empty DataFrame\n",
              "Columns: [year, month, Avg. Daily Pop.]\n",
              "Index: []"
            ]
          },
          "metadata": {
            "tags": []
          },
          "execution_count": 89
        }
      ]
    },
    {
      "cell_type": "code",
      "metadata": {
        "colab": {
          "base_uri": "https://localhost:8080/",
          "height": 459
        },
        "id": "dJE-MK6yK1-o",
        "outputId": "83a76003-6a85-424e-cc12-0fa242be12a3"
      },
      "source": [
        "x = df_m_adp['date']\n",
        "y = df_m_adp['Avg. Daily Pop.']\n",
        "plt.bar(x, y)\n",
        "plt.xlabel('month')\n",
        "plt.ylabel('Avg. Daily Pop.')\n",
        "plt.show()\n",
        "# in plot below the separate lines in each bar are for each year. Will try to add color coded stacking."
      ],
      "execution_count": 63,
      "outputs": [
        {
          "output_type": "display_data",
          "data": {
            "image/png": "[encoded data removed]",
            "text/plain": [
              "<Figure size 640x480 with 1 Axes>"
            ]
          },
          "metadata": {
            "tags": []
          }
        }
      ]
    },
    {
      "cell_type": "code",
      "metadata": {
        "id": "G2EKhawiQM1F"
      },
      "source": [
        ""
      ],
      "execution_count": null,
      "outputs": []
    },
    {
      "cell_type": "code",
      "metadata": {
        "id": "G0Kk5P7FAmE-",
        "colab": {
          "base_uri": "https://localhost:8080/",
          "height": 654
        },
        "outputId": "81f7a74a-8aba-4ba9-a3d9-b9e53fc57b9f"
      },
      "source": [
        "df_dscc = df_1.groupby('DSCC Names').apply(lambda x: x.sort_values('year'))\n",
        "df_dscc.head(100)"
      ],
      "execution_count": 93,
      "outputs": [
        {
          "output_type": "execute_result",
          "data": {
            "text/html": [
              "<div>\n",
              "<style scoped>\n",
              "    .dataframe tbody tr th:only-of-type {\n",
              "        vertical-align: middle;\n",
              "    }\n",
              "\n",
              "    .dataframe tbody tr th {\n",
              "        vertical-align: top;\n",
              "    }\n",
              "\n",
              "    .dataframe thead th {\n",
              "        text-align: right;\n",
              "    }\n",
              "</style>\n",
              "<table border=\"1\" class=\"dataframe\">\n",
              "  <thead>\n",
              "    <tr style=\"text-align: right;\">\n",
              "      <th></th>\n",
              "      <th></th>\n",
              "      <th>Date</th>\n",
              "      <th>DSCC Abbr.</th>\n",
              "      <th>DSCC Names</th>\n",
              "      <th>Category</th>\n",
              "      <th>Avg. Daily Pop.</th>\n",
              "      <th>month</th>\n",
              "      <th>year</th>\n",
              "    </tr>\n",
              "    <tr>\n",
              "      <th>DSCC Names</th>\n",
              "      <th></th>\n",
              "      <th></th>\n",
              "      <th></th>\n",
              "      <th></th>\n",
              "      <th></th>\n",
              "      <th></th>\n",
              "      <th></th>\n",
              "      <th></th>\n",
              "    </tr>\n",
              "  </thead>\n",
              "  <tbody>\n",
              "    <tr>\n",
              "      <th rowspan=\"5\" valign=\"top\">Alternative Community Services</th>\n",
              "      <th>163</th>\n",
              "      <td>2015-12-01</td>\n",
              "      <td>ACS</td>\n",
              "      <td>Alternative Community Services</td>\n",
              "      <td>Criminal Justice Clients under Pre-Trial Services</td>\n",
              "      <td>882</td>\n",
              "      <td>12</td>\n",
              "      <td>2015</td>\n",
              "    </tr>\n",
              "    <tr>\n",
              "      <th>5</th>\n",
              "      <td>2015-09-01</td>\n",
              "      <td>ACS</td>\n",
              "      <td>Alternative Community Services</td>\n",
              "      <td>Criminal Justice Clients under Pre-Trial Services</td>\n",
              "      <td>703</td>\n",
              "      <td>09</td>\n",
              "      <td>2015</td>\n",
              "    </tr>\n",
              "    <tr>\n",
              "      <th>149</th>\n",
              "      <td>2015-02-01</td>\n",
              "      <td>ACS</td>\n",
              "      <td>Alternative Community Services</td>\n",
              "      <td>Criminal Justice Clients under Pre-Trial Services</td>\n",
              "      <td>738</td>\n",
              "      <td>02</td>\n",
              "      <td>2015</td>\n",
              "    </tr>\n",
              "    <tr>\n",
              "      <th>19</th>\n",
              "      <td>2015-01-01</td>\n",
              "      <td>ACS</td>\n",
              "      <td>Alternative Community Services</td>\n",
              "      <td>Criminal Justice Clients under Pre-Trial Services</td>\n",
              "      <td>721</td>\n",
              "      <td>01</td>\n",
              "      <td>2015</td>\n",
              "    </tr>\n",
              "    <tr>\n",
              "      <th>142</th>\n",
              "      <td>2015-11-01</td>\n",
              "      <td>ACS</td>\n",
              "      <td>Alternative Community Services</td>\n",
              "      <td>Criminal Justice Clients under Pre-Trial Services</td>\n",
              "      <td>879</td>\n",
              "      <td>11</td>\n",
              "      <td>2015</td>\n",
              "    </tr>\n",
              "    <tr>\n",
              "      <th>...</th>\n",
              "      <th>...</th>\n",
              "      <td>...</td>\n",
              "      <td>...</td>\n",
              "      <td>...</td>\n",
              "      <td>...</td>\n",
              "      <td>...</td>\n",
              "      <td>...</td>\n",
              "      <td>...</td>\n",
              "    </tr>\n",
              "    <tr>\n",
              "      <th rowspan=\"5\" valign=\"top\">Intervention Program for Substance Abusers</th>\n",
              "      <th>227</th>\n",
              "      <td>2016-04-01</td>\n",
              "      <td>IPSA</td>\n",
              "      <td>Intervention Program for Substance Abusers</td>\n",
              "      <td>Criminal Justice Clients under Pre-Trial Services</td>\n",
              "      <td>163</td>\n",
              "      <td>04</td>\n",
              "      <td>2016</td>\n",
              "    </tr>\n",
              "    <tr>\n",
              "      <th>183</th>\n",
              "      <td>2016-08-01</td>\n",
              "      <td>IPSA</td>\n",
              "      <td>Intervention Program for Substance Abusers</td>\n",
              "      <td>Criminal Justice Clients under Pre-Trial Services</td>\n",
              "      <td>146</td>\n",
              "      <td>08</td>\n",
              "      <td>2016</td>\n",
              "    </tr>\n",
              "    <tr>\n",
              "      <th>63</th>\n",
              "      <td>2016-10-01</td>\n",
              "      <td>IPSA</td>\n",
              "      <td>Intervention Program for Substance Abusers</td>\n",
              "      <td>Criminal Justice Clients under Pre-Trial Services</td>\n",
              "      <td>142</td>\n",
              "      <td>10</td>\n",
              "      <td>2016</td>\n",
              "    </tr>\n",
              "    <tr>\n",
              "      <th>8</th>\n",
              "      <td>2017-02-01</td>\n",
              "      <td>IPSA</td>\n",
              "      <td>Intervention Program for Substance Abusers</td>\n",
              "      <td>Criminal Justice Clients under Pre-Trial Services</td>\n",
              "      <td>156</td>\n",
              "      <td>02</td>\n",
              "      <td>2017</td>\n",
              "    </tr>\n",
              "    <tr>\n",
              "      <th>129</th>\n",
              "      <td>2017-11-01</td>\n",
              "      <td>IPSA</td>\n",
              "      <td>Intervention Program for Substance Abusers</td>\n",
              "      <td>Criminal Justice Clients under Pre-Trial Services</td>\n",
              "      <td>166</td>\n",
              "      <td>11</td>\n",
              "      <td>2017</td>\n",
              "    </tr>\n",
              "  </tbody>\n",
              "</table>\n",
              "<p>100 rows × 7 columns</p>\n",
              "</div>"
            ],
            "text/plain": [
              "                                                     Date  ...   year\n",
              "DSCC Names                                                 ...       \n",
              "Alternative Community Services             163 2015-12-01  ...   2015\n",
              "                                           5   2015-09-01  ...   2015\n",
              "                                           149 2015-02-01  ...   2015\n",
              "                                           19  2015-01-01  ...   2015\n",
              "                                           142 2015-11-01  ...   2015\n",
              "...                                                   ...  ...    ...\n",
              "Intervention Program for Substance Abusers 227 2016-04-01  ...   2016\n",
              "                                           183 2016-08-01  ...   2016\n",
              "                                           63  2016-10-01  ...   2016\n",
              "                                           8   2017-02-01  ...   2017\n",
              "                                           129 2017-11-01  ...   2017\n",
              "\n",
              "[100 rows x 7 columns]"
            ]
          },
          "metadata": {
            "tags": []
          },
          "execution_count": 93
        }
      ]
    },
    {
      "cell_type": "code",
      "metadata": {
        "id": "qAXkDO7LAmE_",
        "colab": {
          "base_uri": "https://localhost:8080/",
          "height": 459
        },
        "outputId": "33fbde41-c215-42c7-b986-81b1ac586e91"
      },
      "source": [
        "x = df_dscc['DSCC Abbr.']\n",
        "y = df_dscc['Avg. Daily Pop.']\n",
        "plt.bar(x, y)\n",
        "plt.xlabel('DSCC Abbreviations')\n",
        "plt.ylabel('Avg. Daily Pop.')\n",
        "plt.show()\n",
        "# not sure what lines represent, could be month/year.  "
      ],
      "execution_count": 66,
      "outputs": [
        {
          "output_type": "display_data",
          "data": {
            "image/png": "[encoded data removed]",
            "text/plain": [
              "<Figure size 640x480 with 1 Axes>"
            ]
          },
          "metadata": {
            "tags": []
          }
        }
      ]
    },
    {
      "cell_type": "markdown",
      "metadata": {
        "id": "xM6w2m_KAmE_"
      },
      "source": [
        "ACS - Alternative Community Service\n",
        "IPSA - Intervention Program for Substance Abusers\n",
        "MCFF - Montgomery County Correctional Facility\n",
        "MCDC - Montgomery County Detention Center\n",
        "PRRS - Pre-Release and Re-Entry Services\n",
        "PTSU - Pre-Trial Supervision Unit"
      ]
    },
    {
      "cell_type": "code",
      "metadata": {
        "id": "ek_QRE40CYCe"
      },
      "source": [
        "# remove entries for PRRS"
      ],
      "execution_count": 98,
      "outputs": []
    },
    {
      "cell_type": "code",
      "metadata": {
        "id": "8A2lI4gUCU0v"
      },
      "source": [
        ""
      ],
      "execution_count": null,
      "outputs": []
    }
  ]
}