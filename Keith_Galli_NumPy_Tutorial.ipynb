{
  "nbformat": 4,
  "nbformat_minor": 0,
  "metadata": {
    "colab": {
      "name": "Keith_Galli_NumPy_Tutorial.ipynb",
      "provenance": [],
      "collapsed_sections": [],
      "authorship_tag": "ABX9TyMtmXZd3NXRV2axSmd1VeHK",
      "include_colab_link": true
    },
    "kernelspec": {
      "name": "python3",
      "display_name": "Python 3"
    },
    "language_info": {
      "name": "python"
    }
  },
  "cells": [
    {
      "cell_type": "markdown",
      "metadata": {
        "id": "view-in-github",
        "colab_type": "text"
      },
      "source": [
        "<a href=\"https://colab.research.google.com/github/jcj217-mc/Data_205/blob/main/Keith_Galli_NumPy_Tutorial.ipynb\" target=\"_parent\"><img src=\"https://colab.research.google.com/assets/colab-badge.svg\" alt=\"Open In Colab\"/></a>"
      ]
    },
    {
      "cell_type": "markdown",
      "metadata": {
        "id": "kEBWcsx-Mb6r"
      },
      "source": [
        "##**Load in NumPy (remember to pip install numpy first)**"
      ]
    },
    {
      "cell_type": "code",
      "metadata": {
        "id": "lhAEQC09MnS6"
      },
      "source": [
        "import numpy as np"
      ],
      "execution_count": null,
      "outputs": []
    },
    {
      "cell_type": "markdown",
      "metadata": {
        "id": "jVMj3OFlMp4D"
      },
      "source": [
        "## **The Basics**"
      ]
    },
    {
      "cell_type": "code",
      "metadata": {
        "colab": {
          "base_uri": "https://localhost:8080/"
        },
        "id": "BOlWff-lMuEZ",
        "outputId": "3ff79aad-f2be-41dc-eee0-b1a62025a45f"
      },
      "source": [
        "a = np.array ([1,2,3], dtype = 'int32')\n",
        "print(a)"
      ],
      "execution_count": null,
      "outputs": [
        {
          "output_type": "stream",
          "text": [
            "[1 2 3]\n"
          ],
          "name": "stdout"
        }
      ]
    },
    {
      "cell_type": "code",
      "metadata": {
        "colab": {
          "base_uri": "https://localhost:8080/"
        },
        "id": "YR3dEMa1M2gc",
        "outputId": "789bdfcf-a5c6-4f4a-ad00-406544336b70"
      },
      "source": [
        "b = np.array([[9, 8, 7], [6, 5, 4]])\n",
        "print(b)"
      ],
      "execution_count": null,
      "outputs": [
        {
          "output_type": "stream",
          "text": [
            "[[9 8 7]\n",
            " [6 5 4]]\n"
          ],
          "name": "stdout"
        }
      ]
    },
    {
      "cell_type": "code",
      "metadata": {
        "colab": {
          "base_uri": "https://localhost:8080/"
        },
        "id": "n5efbtD6M8rS",
        "outputId": "b92ee4fe-6839-4299-f7cb-6a9dbf709d77"
      },
      "source": [
        "# Get Dimension\n",
        "a.ndim"
      ],
      "execution_count": null,
      "outputs": [
        {
          "output_type": "execute_result",
          "data": {
            "text/plain": [
              "1"
            ]
          },
          "metadata": {
            "tags": []
          },
          "execution_count": 130
        }
      ]
    },
    {
      "cell_type": "code",
      "metadata": {
        "colab": {
          "base_uri": "https://localhost:8080/"
        },
        "id": "e3Z3MxVWM_TM",
        "outputId": "d72edf34-6ef7-471b-9bf2-53060d78986d"
      },
      "source": [
        "# Get Shape\n",
        "b.shape"
      ],
      "execution_count": null,
      "outputs": [
        {
          "output_type": "execute_result",
          "data": {
            "text/plain": [
              "(2, 3)"
            ]
          },
          "metadata": {
            "tags": []
          },
          "execution_count": 131
        }
      ]
    },
    {
      "cell_type": "code",
      "metadata": {
        "colab": {
          "base_uri": "https://localhost:8080/"
        },
        "id": "KSMv_aPINBxQ",
        "outputId": "84bf3dc8-1515-41eb-e222-9694eaa801eb"
      },
      "source": [
        "# Get Type\n",
        "a.dtype"
      ],
      "execution_count": null,
      "outputs": [
        {
          "output_type": "execute_result",
          "data": {
            "text/plain": [
              "dtype('int32')"
            ]
          },
          "metadata": {
            "tags": []
          },
          "execution_count": 132
        }
      ]
    },
    {
      "cell_type": "code",
      "metadata": {
        "colab": {
          "base_uri": "https://localhost:8080/"
        },
        "id": "VXn03bhhNFJB",
        "outputId": "d20703b6-02d6-4f97-c191-01e7ad0477e6"
      },
      "source": [
        "# Get Size\n",
        "a.itemsize"
      ],
      "execution_count": null,
      "outputs": [
        {
          "output_type": "execute_result",
          "data": {
            "text/plain": [
              "4"
            ]
          },
          "metadata": {
            "tags": []
          },
          "execution_count": 133
        }
      ]
    },
    {
      "cell_type": "code",
      "metadata": {
        "colab": {
          "base_uri": "https://localhost:8080/"
        },
        "id": "r2H6s5zbNH8i",
        "outputId": "24f90c71-48af-4d92-e09f-2e9d1875cef0"
      },
      "source": [
        "# Get Total size\n",
        "a.nbytes"
      ],
      "execution_count": null,
      "outputs": [
        {
          "output_type": "execute_result",
          "data": {
            "text/plain": [
              "12"
            ]
          },
          "metadata": {
            "tags": []
          },
          "execution_count": 134
        }
      ]
    },
    {
      "cell_type": "code",
      "metadata": {
        "colab": {
          "base_uri": "https://localhost:8080/"
        },
        "id": "iJmY9meLNKfi",
        "outputId": "2f5d4e32-d83c-4222-cd79-79b0ca4d0b60"
      },
      "source": [
        "# get number of elements\n",
        "a.size"
      ],
      "execution_count": null,
      "outputs": [
        {
          "output_type": "execute_result",
          "data": {
            "text/plain": [
              "3"
            ]
          },
          "metadata": {
            "tags": []
          },
          "execution_count": 135
        }
      ]
    },
    {
      "cell_type": "markdown",
      "metadata": {
        "id": "czw8tr1sNWHA"
      },
      "source": [
        "## **Accessing/Changing specific elements, rows, columns, etc.**"
      ]
    },
    {
      "cell_type": "code",
      "metadata": {
        "colab": {
          "base_uri": "https://localhost:8080/"
        },
        "id": "bILIPL_tNbsW",
        "outputId": "db1ef29d-b342-43cd-c8ab-c71fe0bcabed"
      },
      "source": [
        "a = np.array([[1,2,3,4,5,6,7], [8,9,10,11,12,13,14]])\n",
        "print(a)"
      ],
      "execution_count": null,
      "outputs": [
        {
          "output_type": "stream",
          "text": [
            "[[ 1  2  3  4  5  6  7]\n",
            " [ 8  9 10 11 12 13 14]]\n"
          ],
          "name": "stdout"
        }
      ]
    },
    {
      "cell_type": "code",
      "metadata": {
        "colab": {
          "base_uri": "https://localhost:8080/"
        },
        "id": "Psuc5FQwNjAr",
        "outputId": "d56c3cba-ff6d-4a0c-8ebd-68b34cbadbde"
      },
      "source": [
        "# Get a specific element [r, c] - row, column\n",
        "a[1,5]"
      ],
      "execution_count": null,
      "outputs": [
        {
          "output_type": "execute_result",
          "data": {
            "text/plain": [
              "13"
            ]
          },
          "metadata": {
            "tags": []
          },
          "execution_count": 137
        }
      ]
    },
    {
      "cell_type": "code",
      "metadata": {
        "colab": {
          "base_uri": "https://localhost:8080/"
        },
        "id": "B9zguFYINsTy",
        "outputId": "ef9832e0-e70f-4f4b-c807-b176fb5d5624"
      },
      "source": [
        "# get a specific row - row listed, column \":\" for all columns\n",
        "a[0, :]"
      ],
      "execution_count": null,
      "outputs": [
        {
          "output_type": "execute_result",
          "data": {
            "text/plain": [
              "array([1, 2, 3, 4, 5, 6, 7])"
            ]
          },
          "metadata": {
            "tags": []
          },
          "execution_count": 138
        }
      ]
    },
    {
      "cell_type": "code",
      "metadata": {
        "colab": {
          "base_uri": "https://localhost:8080/"
        },
        "id": "-hghVZejN4SZ",
        "outputId": "e6c60786-63bd-4431-d6f6-85b4664459c9"
      },
      "source": [
        "# Get a specific column - row \":\" for all rows, column listed\n",
        "a[:, 2]"
      ],
      "execution_count": null,
      "outputs": [
        {
          "output_type": "execute_result",
          "data": {
            "text/plain": [
              "array([ 3, 10])"
            ]
          },
          "metadata": {
            "tags": []
          },
          "execution_count": 139
        }
      ]
    },
    {
      "cell_type": "code",
      "metadata": {
        "colab": {
          "base_uri": "https://localhost:8080/"
        },
        "id": "d5cX5-mKOIfC",
        "outputId": "4c79222a-2c50-40f6-ffb2-6d4b377d013d"
      },
      "source": [
        "# Getting a little more fancy [startindex:endindex:step size]\n",
        "# 0,1 - start index, -1 end index, 2 step size\n",
        "a[0,1 :-1 :2]"
      ],
      "execution_count": null,
      "outputs": [
        {
          "output_type": "execute_result",
          "data": {
            "text/plain": [
              "array([2, 4, 6])"
            ]
          },
          "metadata": {
            "tags": []
          },
          "execution_count": 140
        }
      ]
    },
    {
      "cell_type": "code",
      "metadata": {
        "colab": {
          "base_uri": "https://localhost:8080/"
        },
        "id": "LNDTQ5C2PAbI",
        "outputId": "6964db1e-e0a0-4910-e1a5-1459e44a32fa"
      },
      "source": [
        "# Changing item by index\n",
        "a[1,5] = 20\n",
        "a[:,2] = [1,2]\n",
        "print(a)"
      ],
      "execution_count": null,
      "outputs": [
        {
          "output_type": "stream",
          "text": [
            "[[ 1  2  1  4  5  6  7]\n",
            " [ 8  9  2 11 12 20 14]]\n"
          ],
          "name": "stdout"
        }
      ]
    },
    {
      "cell_type": "code",
      "metadata": {
        "colab": {
          "base_uri": "https://localhost:8080/"
        },
        "id": "0-z1kjZxPMbx",
        "outputId": "31e98729-fda1-4ad4-c8e2-780f5945496f"
      },
      "source": [
        "#3D example\n",
        "b = np.array([[[1,2],[3,4]],[[5,6], [7,8]]])\n",
        "print(b)"
      ],
      "execution_count": null,
      "outputs": [
        {
          "output_type": "stream",
          "text": [
            "[[[1 2]\n",
            "  [3 4]]\n",
            "\n",
            " [[5 6]\n",
            "  [7 8]]]\n"
          ],
          "name": "stdout"
        }
      ]
    },
    {
      "cell_type": "code",
      "metadata": {
        "colab": {
          "base_uri": "https://localhost:8080/"
        },
        "id": "R-XENQLSPewl",
        "outputId": "5e10eb77-5444-4df8-90c8-ecf491b92740"
      },
      "source": [
        "# Get specific element (work outside in)\n",
        "# b[set, row, column]\n",
        "b[0,1,1]"
      ],
      "execution_count": null,
      "outputs": [
        {
          "output_type": "execute_result",
          "data": {
            "text/plain": [
              "4"
            ]
          },
          "metadata": {
            "tags": []
          },
          "execution_count": 143
        }
      ]
    },
    {
      "cell_type": "code",
      "metadata": {
        "colab": {
          "base_uri": "https://localhost:8080/"
        },
        "id": "HS-eBlHVPtux",
        "outputId": "9fed50fa-39f1-489a-96e5-c6b8b6f0b86c"
      },
      "source": [
        "# replace\n",
        "# b[set, row, column] - all sets, second row, all columns\n",
        "b[:,1,:] = [[9,9], [8,8]]\n",
        "print(b)"
      ],
      "execution_count": null,
      "outputs": [
        {
          "output_type": "stream",
          "text": [
            "[[[1 2]\n",
            "  [9 9]]\n",
            "\n",
            " [[5 6]\n",
            "  [8 8]]]\n"
          ],
          "name": "stdout"
        }
      ]
    },
    {
      "cell_type": "markdown",
      "metadata": {
        "id": "7e7twnEPQHeE"
      },
      "source": [
        "##**Initializing Different Types of Arrays**"
      ]
    },
    {
      "cell_type": "code",
      "metadata": {
        "colab": {
          "base_uri": "https://localhost:8080/"
        },
        "id": "S8Ff6jSdQFIH",
        "outputId": "18cb1b60-5e12-4e6e-fce0-8934fccb797f"
      },
      "source": [
        "# All 0s matrix\n",
        "np.zeros((2,3))"
      ],
      "execution_count": null,
      "outputs": [
        {
          "output_type": "execute_result",
          "data": {
            "text/plain": [
              "array([[0., 0., 0.],\n",
              "       [0., 0., 0.]])"
            ]
          },
          "metadata": {
            "tags": []
          },
          "execution_count": 145
        }
      ]
    },
    {
      "cell_type": "code",
      "metadata": {
        "colab": {
          "base_uri": "https://localhost:8080/"
        },
        "id": "YlsRx77lQRa3",
        "outputId": "a55b812d-b30a-4f6f-95f9-12cefda4a8e3"
      },
      "source": [
        "# All 1s matrix - set, row, column - can specify data type but do not have to\n",
        "np.ones((4,2,2), dtype='int32')"
      ],
      "execution_count": null,
      "outputs": [
        {
          "output_type": "execute_result",
          "data": {
            "text/plain": [
              "array([[[1, 1],\n",
              "        [1, 1]],\n",
              "\n",
              "       [[1, 1],\n",
              "        [1, 1]],\n",
              "\n",
              "       [[1, 1],\n",
              "        [1, 1]],\n",
              "\n",
              "       [[1, 1],\n",
              "        [1, 1]]], dtype=int32)"
            ]
          },
          "metadata": {
            "tags": []
          },
          "execution_count": 146
        }
      ]
    },
    {
      "cell_type": "code",
      "metadata": {
        "colab": {
          "base_uri": "https://localhost:8080/"
        },
        "id": "fRPnFLSbRu4j",
        "outputId": "536deb98-3258-4beb-cea4-a0f3a761fba3"
      },
      "source": [
        "# 4D example - two mega sets, 3 sets within the megasets, 3 rows and 2 columns within each set\n",
        "np.zeros((2,3,3,2))"
      ],
      "execution_count": null,
      "outputs": [
        {
          "output_type": "execute_result",
          "data": {
            "text/plain": [
              "array([[[[0., 0.],\n",
              "         [0., 0.],\n",
              "         [0., 0.]],\n",
              "\n",
              "        [[0., 0.],\n",
              "         [0., 0.],\n",
              "         [0., 0.]],\n",
              "\n",
              "        [[0., 0.],\n",
              "         [0., 0.],\n",
              "         [0., 0.]]],\n",
              "\n",
              "\n",
              "       [[[0., 0.],\n",
              "         [0., 0.],\n",
              "         [0., 0.]],\n",
              "\n",
              "        [[0., 0.],\n",
              "         [0., 0.],\n",
              "         [0., 0.]],\n",
              "\n",
              "        [[0., 0.],\n",
              "         [0., 0.],\n",
              "         [0., 0.]]]])"
            ]
          },
          "metadata": {
            "tags": []
          },
          "execution_count": 147
        }
      ]
    },
    {
      "cell_type": "code",
      "metadata": {
        "colab": {
          "base_uri": "https://localhost:8080/"
        },
        "id": "BgilDuz3Qs3g",
        "outputId": "828c2ebb-e304-4cbe-d181-0dea41a507ab"
      },
      "source": [
        "# Any other number - np.full((# rows, # columns), number)\n",
        "# shape is (2,2), value is 99\n",
        "np.full((2,2), 99)"
      ],
      "execution_count": null,
      "outputs": [
        {
          "output_type": "execute_result",
          "data": {
            "text/plain": [
              "array([[99, 99],\n",
              "       [99, 99]])"
            ]
          },
          "metadata": {
            "tags": []
          },
          "execution_count": 148
        }
      ]
    },
    {
      "cell_type": "code",
      "metadata": {
        "colab": {
          "base_uri": "https://localhost:8080/"
        },
        "id": "z-wN-h8FSFfs",
        "outputId": "1a157183-f631-431c-9f71-e66ba6f029a9"
      },
      "source": [
        "# Any other number - np.full((# rows, # columns), number)\n",
        "# shape is (2,2), value is 99\n",
        "# can add datatype\n",
        "np.full((2,2), 99, dtype='float32')"
      ],
      "execution_count": null,
      "outputs": [
        {
          "output_type": "execute_result",
          "data": {
            "text/plain": [
              "array([[99., 99.],\n",
              "       [99., 99.]], dtype=float32)"
            ]
          },
          "metadata": {
            "tags": []
          },
          "execution_count": 149
        }
      ]
    },
    {
      "cell_type": "code",
      "metadata": {
        "colab": {
          "base_uri": "https://localhost:8080/"
        },
        "id": "OHxeLjykQ8Dr",
        "outputId": "c03e86d6-20ad-4c12-b90a-ea2ae3180970"
      },
      "source": [
        "# Any other number (full_like)\n",
        "# take a shape that is already built and reuse it with a differet value or set of values but that has the same size\n",
        "np.full_like(a, 4)"
      ],
      "execution_count": null,
      "outputs": [
        {
          "output_type": "execute_result",
          "data": {
            "text/plain": [
              "array([[4, 4, 4, 4, 4, 4, 4],\n",
              "       [4, 4, 4, 4, 4, 4, 4]])"
            ]
          },
          "metadata": {
            "tags": []
          },
          "execution_count": 150
        }
      ]
    },
    {
      "cell_type": "code",
      "metadata": {
        "colab": {
          "base_uri": "https://localhost:8080/"
        },
        "id": "F8rIVFfbSPNY",
        "outputId": "53ab8f2d-16d6-435c-cc21-c83996bb5869"
      },
      "source": [
        "# another way to do full_like is \n",
        "# take a shape that is already built and reuse it with a differet value or set of values but that has the same size\n",
        "np.full(a.shape, 4)"
      ],
      "execution_count": null,
      "outputs": [
        {
          "output_type": "execute_result",
          "data": {
            "text/plain": [
              "array([[4, 4, 4, 4, 4, 4, 4],\n",
              "       [4, 4, 4, 4, 4, 4, 4]])"
            ]
          },
          "metadata": {
            "tags": []
          },
          "execution_count": 151
        }
      ]
    },
    {
      "cell_type": "code",
      "metadata": {
        "colab": {
          "base_uri": "https://localhost:8080/"
        },
        "id": "IEopjMLsSPWJ",
        "outputId": "af876006-ef10-42fd-9972-67ae71a08126"
      },
      "source": [
        "# Random decimal numbers\n",
        "# specify shape, here it is (4,2) - 4 rows, 2 columns\n",
        "np.random.rand(4,2)"
      ],
      "execution_count": null,
      "outputs": [
        {
          "output_type": "execute_result",
          "data": {
            "text/plain": [
              "array([[0.75469474, 0.23563662],\n",
              "       [0.37027973, 0.39785099],\n",
              "       [0.37904512, 0.64479033],\n",
              "       [0.36950958, 0.95473785]])"
            ]
          },
          "metadata": {
            "tags": []
          },
          "execution_count": 152
        }
      ]
    },
    {
      "cell_type": "code",
      "metadata": {
        "colab": {
          "base_uri": "https://localhost:8080/"
        },
        "id": "EVKcqzTLSPeK",
        "outputId": "3f5a5efe-bd29-407f-b59b-d06d9531f636"
      },
      "source": [
        "# Random decimal numbers\n",
        "# specify shape, here it is (4,2,3) - 4 sets, 2 rows, 3 columns\n",
        "np.random.rand(4,2,3)"
      ],
      "execution_count": null,
      "outputs": [
        {
          "output_type": "execute_result",
          "data": {
            "text/plain": [
              "array([[[0.34077278, 0.71269508, 0.1685989 ],\n",
              "        [0.22785658, 0.53640656, 0.70288547]],\n",
              "\n",
              "       [[0.38079988, 0.69862417, 0.38090779],\n",
              "        [0.57276743, 0.37626459, 0.54925895]],\n",
              "\n",
              "       [[0.17604417, 0.78772835, 0.63174787],\n",
              "        [0.42091555, 0.37403931, 0.93184304]],\n",
              "\n",
              "       [[0.91917539, 0.22270216, 0.81313671],\n",
              "        [0.1214064 , 0.47188935, 0.84414728]]])"
            ]
          },
          "metadata": {
            "tags": []
          },
          "execution_count": 153
        }
      ]
    },
    {
      "cell_type": "code",
      "metadata": {
        "colab": {
          "base_uri": "https://localhost:8080/"
        },
        "id": "GdNSQzS_SPhp",
        "outputId": "7aa083a6-7df8-485f-e31f-57690f6e7d4d"
      },
      "source": [
        "# random sample same shape as above\n",
        "np.random.random_sample(a.shape)"
      ],
      "execution_count": null,
      "outputs": [
        {
          "output_type": "execute_result",
          "data": {
            "text/plain": [
              "array([[0.83644894, 0.45021779, 0.69764201, 0.29000583, 0.815465  ,\n",
              "        0.7005419 , 0.74032195],\n",
              "       [0.17447898, 0.20967075, 0.4808016 , 0.58570006, 0.4084753 ,\n",
              "        0.9460554 , 0.96211279]])"
            ]
          },
          "metadata": {
            "tags": []
          },
          "execution_count": 154
        }
      ]
    },
    {
      "cell_type": "code",
      "metadata": {
        "colab": {
          "base_uri": "https://localhost:8080/"
        },
        "id": "WCzyYqCKSPk0",
        "outputId": "c26cf19c-56d9-426d-86d6-f47182e88e8c"
      },
      "source": [
        "# Random integers - no decimals\n",
        "# specify start value\n",
        "# 7 numbers up to 7, shape listed as \"size\" - 3 rows, 3 columns\n",
        "np.random.randint(7, size=(3,3))"
      ],
      "execution_count": null,
      "outputs": [
        {
          "output_type": "execute_result",
          "data": {
            "text/plain": [
              "array([[5, 6, 0],\n",
              "       [1, 0, 6],\n",
              "       [5, 5, 2]])"
            ]
          },
          "metadata": {
            "tags": []
          },
          "execution_count": 155
        }
      ]
    },
    {
      "cell_type": "code",
      "metadata": {
        "colab": {
          "base_uri": "https://localhost:8080/"
        },
        "id": "EWZU0K7DTcHs",
        "outputId": "eae1b36b-0e46-41b4-9da0-548c5c0f9242"
      },
      "source": [
        "# more examples\n",
        "# from 4 to 7 with 3 rows and 3 columns\n",
        "# 7 is exclusive\n",
        "# can include negative numbers\n",
        "np.random.randint(4,7, size=(3,3))"
      ],
      "execution_count": null,
      "outputs": [
        {
          "output_type": "execute_result",
          "data": {
            "text/plain": [
              "array([[6, 6, 5],\n",
              "       [4, 4, 4],\n",
              "       [5, 5, 6]])"
            ]
          },
          "metadata": {
            "tags": []
          },
          "execution_count": 156
        }
      ]
    },
    {
      "cell_type": "code",
      "metadata": {
        "colab": {
          "base_uri": "https://localhost:8080/"
        },
        "id": "-1dxbS4YTcKS",
        "outputId": "aba5c565-50c9-4406-c013-395637f1828b"
      },
      "source": [
        "# can include negative numbers\n",
        "np.random.randint(-4,8, size=(3,3))"
      ],
      "execution_count": null,
      "outputs": [
        {
          "output_type": "execute_result",
          "data": {
            "text/plain": [
              "array([[-4,  2,  7],\n",
              "       [ 0,  2,  4],\n",
              "       [-4,  6,  1]])"
            ]
          },
          "metadata": {
            "tags": []
          },
          "execution_count": 157
        }
      ]
    },
    {
      "cell_type": "code",
      "metadata": {
        "colab": {
          "base_uri": "https://localhost:8080/"
        },
        "id": "KMBrsvaaTcOM",
        "outputId": "4433b267-fb64-4ee1-afc3-592f8dfbce8e"
      },
      "source": [
        "# Identity Matrix\n",
        "# 3 rows, 3 columns\n",
        "np.identity(3)"
      ],
      "execution_count": null,
      "outputs": [
        {
          "output_type": "execute_result",
          "data": {
            "text/plain": [
              "array([[1., 0., 0.],\n",
              "       [0., 1., 0.],\n",
              "       [0., 0., 1.]])"
            ]
          },
          "metadata": {
            "tags": []
          },
          "execution_count": 158
        }
      ]
    },
    {
      "cell_type": "code",
      "metadata": {
        "colab": {
          "base_uri": "https://localhost:8080/"
        },
        "id": "XVMr8Ck7SPsC",
        "outputId": "228664c3-54b9-4e7c-97e0-4e08e3118f7a"
      },
      "source": [
        "# Identity Matrix\n",
        "# Identity Matrix must be same number of R and C - Square Matrix by it's nature\n",
        "# 3 rows, 3 columns\n",
        "np.identity(4)"
      ],
      "execution_count": null,
      "outputs": [
        {
          "output_type": "execute_result",
          "data": {
            "text/plain": [
              "array([[1., 0., 0., 0.],\n",
              "       [0., 1., 0., 0.],\n",
              "       [0., 0., 1., 0.],\n",
              "       [0., 0., 0., 1.]])"
            ]
          },
          "metadata": {
            "tags": []
          },
          "execution_count": 159
        }
      ]
    },
    {
      "cell_type": "code",
      "metadata": {
        "colab": {
          "base_uri": "https://localhost:8080/"
        },
        "id": "lGx3ZmX-Ub1w",
        "outputId": "8bb66c49-32aa-4078-afc9-d384db85b614"
      },
      "source": [
        "# Repeat an array a few times\n",
        "arr = np.array([1,2,3])\n",
        "# repeat array 3 times\n",
        "r1 = np.repeat(arr, 3)\n",
        "print(r1)"
      ],
      "execution_count": null,
      "outputs": [
        {
          "output_type": "stream",
          "text": [
            "[1 1 1 2 2 2 3 3 3]\n"
          ],
          "name": "stdout"
        }
      ]
    },
    {
      "cell_type": "code",
      "metadata": {
        "colab": {
          "base_uri": "https://localhost:8080/"
        },
        "id": "qc5m0OGDUb_h",
        "outputId": "d57192ad-7164-40f4-d3b3-33556bcb3702"
      },
      "source": [
        "# Repeat an array a few times\n",
        "# Make it two dimensional\n",
        "arr = np.array([[1,2,3]])\n",
        "# repeat array 3 times, the axis = 0 makes separate rows for each set\n",
        "r1 = np.repeat(arr, 3, axis = 0)\n",
        "print(r1)"
      ],
      "execution_count": null,
      "outputs": [
        {
          "output_type": "stream",
          "text": [
            "[[1 2 3]\n",
            " [1 2 3]\n",
            " [1 2 3]]\n"
          ],
          "name": "stdout"
        }
      ]
    },
    {
      "cell_type": "code",
      "metadata": {
        "colab": {
          "base_uri": "https://localhost:8080/"
        },
        "id": "9EOF-bEIUcIH",
        "outputId": "101199f1-d472-4338-9118-0ed9e471503e"
      },
      "source": [
        "# Repeat an array a few times\n",
        "# Make it two dimensional\n",
        "arr = np.array([[1,2,3]])\n",
        "# repeat array 3 times, the axis = 1 makes it all in one row\n",
        "r1 = np.repeat(arr, 3, axis = 1)\n",
        "print(r1)"
      ],
      "execution_count": null,
      "outputs": [
        {
          "output_type": "stream",
          "text": [
            "[[1 1 1 2 2 2 3 3 3]]\n"
          ],
          "name": "stdout"
        }
      ]
    },
    {
      "cell_type": "code",
      "metadata": {
        "id": "j7I93dqgUcQV"
      },
      "source": [
        "# Try to recreate picture that looks like\n",
        "# 11111\n",
        "# 10001\n",
        "# 10901\n",
        "# 10001\n",
        "# 11111\n"
      ],
      "execution_count": null,
      "outputs": []
    },
    {
      "cell_type": "code",
      "metadata": {
        "colab": {
          "base_uri": "https://localhost:8080/"
        },
        "id": "Js5A8_PxWEMU",
        "outputId": "a1a01f70-5136-465b-c98f-d1e65306e082"
      },
      "source": [
        "# exercise my solution\n",
        "array = np.ones((5,5))\n",
        "print(array)"
      ],
      "execution_count": null,
      "outputs": [
        {
          "output_type": "stream",
          "text": [
            "[[1. 1. 1. 1. 1.]\n",
            " [1. 1. 1. 1. 1.]\n",
            " [1. 1. 1. 1. 1.]\n",
            " [1. 1. 1. 1. 1.]\n",
            " [1. 1. 1. 1. 1.]]\n"
          ],
          "name": "stdout"
        }
      ]
    },
    {
      "cell_type": "code",
      "metadata": {
        "colab": {
          "base_uri": "https://localhost:8080/"
        },
        "id": "XoeI_yHyWTKK",
        "outputId": "f6c3dbf7-68e9-4743-8033-f9482f15f5d8"
      },
      "source": [
        "# changing center position to 9\n",
        "array[2,2] = 9\n",
        "print(array)"
      ],
      "execution_count": null,
      "outputs": [
        {
          "output_type": "stream",
          "text": [
            "[[1. 1. 1. 1. 1.]\n",
            " [1. 1. 1. 1. 1.]\n",
            " [1. 1. 9. 1. 1.]\n",
            " [1. 1. 1. 1. 1.]\n",
            " [1. 1. 1. 1. 1.]]\n"
          ],
          "name": "stdout"
        }
      ]
    },
    {
      "cell_type": "code",
      "metadata": {
        "colab": {
          "base_uri": "https://localhost:8080/"
        },
        "id": "ufKhGhqkWfcB",
        "outputId": "fa0b5ac0-7760-4dbe-d35b-dae6005161fa"
      },
      "source": [
        "# changing square positions to 0\n",
        "array[1,1:4] = 0\n",
        "array[2,1] = 0\n",
        "array[2,3] = 0\n",
        "array[3, 1:4]=0\n",
        "print(array)"
      ],
      "execution_count": null,
      "outputs": [
        {
          "output_type": "stream",
          "text": [
            "[[1. 1. 1. 1. 1.]\n",
            " [1. 0. 0. 0. 1.]\n",
            " [1. 0. 9. 0. 1.]\n",
            " [1. 0. 0. 0. 1.]\n",
            " [1. 1. 1. 1. 1.]]\n"
          ],
          "name": "stdout"
        }
      ]
    },
    {
      "cell_type": "code",
      "metadata": {
        "colab": {
          "base_uri": "https://localhost:8080/"
        },
        "id": "WbErAyrcXGbg",
        "outputId": "097c3ab7-8a58-45ed-9de7-431307ec1143"
      },
      "source": [
        "# exercise his solution\n",
        "output = np.ones((5,5))\n",
        "print(output)"
      ],
      "execution_count": null,
      "outputs": [
        {
          "output_type": "stream",
          "text": [
            "[[1. 1. 1. 1. 1.]\n",
            " [1. 1. 1. 1. 1.]\n",
            " [1. 1. 1. 1. 1.]\n",
            " [1. 1. 1. 1. 1.]\n",
            " [1. 1. 1. 1. 1.]]\n"
          ],
          "name": "stdout"
        }
      ]
    },
    {
      "cell_type": "code",
      "metadata": {
        "colab": {
          "base_uri": "https://localhost:8080/"
        },
        "id": "8dwaO6KnXOEJ",
        "outputId": "14e5d28b-8ffa-49f2-fc35-c1c08ec8b13e"
      },
      "source": [
        "z = np.zeros((3,3))\n",
        "print(z)"
      ],
      "execution_count": null,
      "outputs": [
        {
          "output_type": "stream",
          "text": [
            "[[0. 0. 0.]\n",
            " [0. 0. 0.]\n",
            " [0. 0. 0.]]\n"
          ],
          "name": "stdout"
        }
      ]
    },
    {
      "cell_type": "code",
      "metadata": {
        "colab": {
          "base_uri": "https://localhost:8080/"
        },
        "id": "XoOEkqCvXUuv",
        "outputId": "75b6686c-54a8-4b1c-dc0b-a51fdfc3ec03"
      },
      "source": [
        "z[1,1]=9\n",
        "print(z)"
      ],
      "execution_count": null,
      "outputs": [
        {
          "output_type": "stream",
          "text": [
            "[[0. 0. 0.]\n",
            " [0. 9. 0.]\n",
            " [0. 0. 0.]]\n"
          ],
          "name": "stdout"
        }
      ]
    },
    {
      "cell_type": "code",
      "metadata": {
        "colab": {
          "base_uri": "https://localhost:8080/"
        },
        "id": "D8om6uBLXY4I",
        "outputId": "81f60d67-6656-4314-fabc-09e97cac6e3e"
      },
      "source": [
        "# replace middle part with z\n",
        "output[1:4, 1:4] = z\n",
        "print(output)"
      ],
      "execution_count": null,
      "outputs": [
        {
          "output_type": "stream",
          "text": [
            "[[1. 1. 1. 1. 1.]\n",
            " [1. 0. 0. 0. 1.]\n",
            " [1. 0. 9. 0. 1.]\n",
            " [1. 0. 0. 0. 1.]\n",
            " [1. 1. 1. 1. 1.]]\n"
          ],
          "name": "stdout"
        }
      ]
    },
    {
      "cell_type": "markdown",
      "metadata": {
        "id": "ld3lhWR7Xvqo"
      },
      "source": [
        "## **Be careful when copying arrays!!**"
      ]
    },
    {
      "cell_type": "code",
      "metadata": {
        "colab": {
          "base_uri": "https://localhost:8080/"
        },
        "id": "AEznY9ySXq3c",
        "outputId": "9470ff54-9265-42e9-f4ae-79afdb726603"
      },
      "source": [
        "a = np.array([1,2,3])\n",
        "b = a\n",
        "b[0] = 100\n",
        "print(b)\n",
        "print(a)\n",
        "# a changed as well when b was changed!!!\n",
        "\n",
        "# it is the if change a, b changes\n",
        "a[2] = 5\n",
        "print(a)\n",
        "print(b)"
      ],
      "execution_count": null,
      "outputs": [
        {
          "output_type": "stream",
          "text": [
            "[100   2   3]\n",
            "[100   2   3]\n",
            "[100   2   5]\n",
            "[100   2   5]\n"
          ],
          "name": "stdout"
        }
      ]
    },
    {
      "cell_type": "code",
      "metadata": {
        "colab": {
          "base_uri": "https://localhost:8080/"
        },
        "id": "Z5ZIcGsAYIeN",
        "outputId": "069efb05-59a6-446c-ec9e-08efad25aef7"
      },
      "source": [
        "# Instead use copy() - it copies the content to make b\n",
        "a = np.array([1,2,3])\n",
        "b = a.copy()\n",
        "b[0] = 100\n",
        "print(a)\n",
        "print(b)"
      ],
      "execution_count": null,
      "outputs": [
        {
          "output_type": "stream",
          "text": [
            "[1 2 3]\n",
            "[100   2   3]\n"
          ],
          "name": "stdout"
        }
      ]
    },
    {
      "cell_type": "markdown",
      "metadata": {
        "id": "zO1BwyA6Yeq2"
      },
      "source": [
        "##**Mathematics**"
      ]
    },
    {
      "cell_type": "code",
      "metadata": {
        "colab": {
          "base_uri": "https://localhost:8080/"
        },
        "id": "MDLKZIKzYeDm",
        "outputId": "09158665-536e-44fd-d918-06eabe64c18d"
      },
      "source": [
        "a = np.array([1,2,3,4])\n",
        "print(a)"
      ],
      "execution_count": null,
      "outputs": [
        {
          "output_type": "stream",
          "text": [
            "[1 2 3 4]\n"
          ],
          "name": "stdout"
        }
      ]
    },
    {
      "cell_type": "code",
      "metadata": {
        "colab": {
          "base_uri": "https://localhost:8080/"
        },
        "id": "0vP93ROlY7Ex",
        "outputId": "358c55eb-6c48-492f-b731-a2aa13370198"
      },
      "source": [
        "# 2 plus everything\n",
        "a += 2\n",
        "print(a)"
      ],
      "execution_count": null,
      "outputs": [
        {
          "output_type": "stream",
          "text": [
            "[3 4 5 6]\n"
          ],
          "name": "stdout"
        }
      ]
    },
    {
      "cell_type": "code",
      "metadata": {
        "colab": {
          "base_uri": "https://localhost:8080/"
        },
        "id": "G19yCvXlYYpw",
        "outputId": "33885f40-29d6-486b-86ae-10f62c0cbccb"
      },
      "source": [
        "a = np.array([1,2,3,4])\n",
        "a + 2"
      ],
      "execution_count": null,
      "outputs": [
        {
          "output_type": "execute_result",
          "data": {
            "text/plain": [
              "array([3, 4, 5, 6])"
            ]
          },
          "metadata": {
            "tags": []
          },
          "execution_count": 176
        }
      ]
    },
    {
      "cell_type": "code",
      "metadata": {
        "colab": {
          "base_uri": "https://localhost:8080/"
        },
        "id": "EXSNvlDNYYtD",
        "outputId": "e0fe563c-471c-4785-c876-363d49c811a8"
      },
      "source": [
        "a - 2"
      ],
      "execution_count": null,
      "outputs": [
        {
          "output_type": "execute_result",
          "data": {
            "text/plain": [
              "array([-1,  0,  1,  2])"
            ]
          },
          "metadata": {
            "tags": []
          },
          "execution_count": 177
        }
      ]
    },
    {
      "cell_type": "code",
      "metadata": {
        "colab": {
          "base_uri": "https://localhost:8080/"
        },
        "id": "zD26xFcYYYu-",
        "outputId": "6f274c17-0531-44cf-b7f0-ae992ba3c47b"
      },
      "source": [
        "a * 2"
      ],
      "execution_count": null,
      "outputs": [
        {
          "output_type": "execute_result",
          "data": {
            "text/plain": [
              "array([2, 4, 6, 8])"
            ]
          },
          "metadata": {
            "tags": []
          },
          "execution_count": 178
        }
      ]
    },
    {
      "cell_type": "code",
      "metadata": {
        "colab": {
          "base_uri": "https://localhost:8080/"
        },
        "id": "dp40-_WDYnwH",
        "outputId": "5d667fbf-6b38-42b3-b0ca-3090c9315329"
      },
      "source": [
        "a / 2"
      ],
      "execution_count": null,
      "outputs": [
        {
          "output_type": "execute_result",
          "data": {
            "text/plain": [
              "array([0.5, 1. , 1.5, 2. ])"
            ]
          },
          "metadata": {
            "tags": []
          },
          "execution_count": 179
        }
      ]
    },
    {
      "cell_type": "code",
      "metadata": {
        "colab": {
          "base_uri": "https://localhost:8080/"
        },
        "id": "AtP3xzAzYrgW",
        "outputId": "651d6807-2dc0-4bc5-bf90-6270426d0644"
      },
      "source": [
        "b = np.array([1,0,1,0])\n",
        "a + b"
      ],
      "execution_count": null,
      "outputs": [
        {
          "output_type": "execute_result",
          "data": {
            "text/plain": [
              "array([2, 2, 4, 4])"
            ]
          },
          "metadata": {
            "tags": []
          },
          "execution_count": 180
        }
      ]
    },
    {
      "cell_type": "code",
      "metadata": {
        "colab": {
          "base_uri": "https://localhost:8080/"
        },
        "id": "kGxhrpTFZQMh",
        "outputId": "fffdec7e-ce86-49ba-b952-c2c3f134a032"
      },
      "source": [
        "a ** 2"
      ],
      "execution_count": null,
      "outputs": [
        {
          "output_type": "execute_result",
          "data": {
            "text/plain": [
              "array([ 1,  4,  9, 16])"
            ]
          },
          "metadata": {
            "tags": []
          },
          "execution_count": 181
        }
      ]
    },
    {
      "cell_type": "code",
      "metadata": {
        "colab": {
          "base_uri": "https://localhost:8080/"
        },
        "id": "PvZDcUlsZTEm",
        "outputId": "384e65fc-92f4-4dce-b316-04235d8a2a9e"
      },
      "source": [
        "# Take the sin\n",
        "np.sin(a)"
      ],
      "execution_count": null,
      "outputs": [
        {
          "output_type": "execute_result",
          "data": {
            "text/plain": [
              "array([ 0.84147098,  0.90929743,  0.14112001, -0.7568025 ])"
            ]
          },
          "metadata": {
            "tags": []
          },
          "execution_count": 182
        }
      ]
    },
    {
      "cell_type": "code",
      "metadata": {
        "colab": {
          "base_uri": "https://localhost:8080/"
        },
        "id": "538RpY4QZXcz",
        "outputId": "67147c9e-1d94-4d9f-faa2-9cb0aa008caa"
      },
      "source": [
        "np.cos(a)"
      ],
      "execution_count": null,
      "outputs": [
        {
          "output_type": "execute_result",
          "data": {
            "text/plain": [
              "array([ 0.54030231, -0.41614684, -0.9899925 , -0.65364362])"
            ]
          },
          "metadata": {
            "tags": []
          },
          "execution_count": 183
        }
      ]
    },
    {
      "cell_type": "markdown",
      "metadata": {
        "id": "_GldyrlwZjXx"
      },
      "source": [
        "## **Linear Algebra - often Matlab**"
      ]
    },
    {
      "cell_type": "code",
      "metadata": {
        "id": "tSylH9dlZZqu"
      },
      "source": [
        "# element wise computation \n",
        "# a * b"
      ],
      "execution_count": null,
      "outputs": []
    },
    {
      "cell_type": "code",
      "metadata": {
        "colab": {
          "base_uri": "https://localhost:8080/"
        },
        "id": "K7Z39GudZt_u",
        "outputId": "12d401bf-4b1c-4a96-bcf2-e5a01f3306fd"
      },
      "source": [
        "# 2 by 3 matrix of ones\n",
        "a = np.full((2,3), 1)\n",
        "print(a)\n",
        "\n",
        "b = np.full((3,2), 2)\n",
        "print(b)\n",
        "\n",
        "# Linear alebra must have columns of first matrix equal to rows of second one"
      ],
      "execution_count": null,
      "outputs": [
        {
          "output_type": "stream",
          "text": [
            "[[1 1 1]\n",
            " [1 1 1]]\n",
            "[[2 2]\n",
            " [2 2]\n",
            " [2 2]]\n"
          ],
          "name": "stdout"
        }
      ]
    },
    {
      "cell_type": "code",
      "metadata": {
        "colab": {
          "base_uri": "https://localhost:8080/"
        },
        "id": "Q7jHxYMCaGNL",
        "outputId": "4e5feadc-17e9-4fd8-9a63-c8cc3e872c71"
      },
      "source": [
        "# should end up with 2 x 2 with multiplication\n",
        "# matrix multiplication function \n",
        "np.matmul(a,b)"
      ],
      "execution_count": null,
      "outputs": [
        {
          "output_type": "execute_result",
          "data": {
            "text/plain": [
              "array([[6, 6],\n",
              "       [6, 6]])"
            ]
          },
          "metadata": {
            "tags": []
          },
          "execution_count": 186
        }
      ]
    },
    {
      "cell_type": "code",
      "metadata": {
        "colab": {
          "base_uri": "https://localhost:8080/"
        },
        "id": "-HiYoaYMaRUi",
        "outputId": "238565d9-e81c-4924-c914-9ed6317386cb"
      },
      "source": [
        "# determinant of a matrix\n",
        "# identity matrix has a determinant of 1\n",
        "c = np.identity(3)\n",
        "np.linalg.det(c)\n"
      ],
      "execution_count": null,
      "outputs": [
        {
          "output_type": "execute_result",
          "data": {
            "text/plain": [
              "1.0"
            ]
          },
          "metadata": {
            "tags": []
          },
          "execution_count": 187
        }
      ]
    },
    {
      "cell_type": "code",
      "metadata": {
        "id": "9YyO2H5Zad1Q"
      },
      "source": [
        "# https://docs.scipy.org/doc/numpy/reference/routines.linalg.html"
      ],
      "execution_count": null,
      "outputs": []
    },
    {
      "cell_type": "markdown",
      "metadata": {
        "id": "9pEJE616awig"
      },
      "source": [
        "## **Statistics**"
      ]
    },
    {
      "cell_type": "code",
      "metadata": {
        "colab": {
          "base_uri": "https://localhost:8080/"
        },
        "id": "iARMF6-5apff",
        "outputId": "19d7ad69-e020-4c51-9026-e7b94ce4471d"
      },
      "source": [
        "stats = np.array([[1,2,3],[4,5,6]])\n",
        "stats"
      ],
      "execution_count": null,
      "outputs": [
        {
          "output_type": "execute_result",
          "data": {
            "text/plain": [
              "array([[1, 2, 3],\n",
              "       [4, 5, 6]])"
            ]
          },
          "metadata": {
            "tags": []
          },
          "execution_count": 189
        }
      ]
    },
    {
      "cell_type": "code",
      "metadata": {
        "colab": {
          "base_uri": "https://localhost:8080/"
        },
        "id": "ogrk6aXia7Xg",
        "outputId": "5d985591-ed0a-4ff1-c7c7-20cf16859b3f"
      },
      "source": [
        "np.min(stats)"
      ],
      "execution_count": null,
      "outputs": [
        {
          "output_type": "execute_result",
          "data": {
            "text/plain": [
              "1"
            ]
          },
          "metadata": {
            "tags": []
          },
          "execution_count": 190
        }
      ]
    },
    {
      "cell_type": "code",
      "metadata": {
        "colab": {
          "base_uri": "https://localhost:8080/"
        },
        "id": "-JYf3L-ma7fg",
        "outputId": "6f25f9f5-2d0c-44f7-9d53-870ecc9018b2"
      },
      "source": [
        "np.max(stats)"
      ],
      "execution_count": null,
      "outputs": [
        {
          "output_type": "execute_result",
          "data": {
            "text/plain": [
              "6"
            ]
          },
          "metadata": {
            "tags": []
          },
          "execution_count": 191
        }
      ]
    },
    {
      "cell_type": "code",
      "metadata": {
        "colab": {
          "base_uri": "https://localhost:8080/"
        },
        "id": "sINqJYfma7ig",
        "outputId": "02833892-3e6e-489b-e7f9-3cefeffac0b1"
      },
      "source": [
        "# min of first and second row - min by row is axis = 1\n",
        "np.min(stats, axis = 1)"
      ],
      "execution_count": null,
      "outputs": [
        {
          "output_type": "execute_result",
          "data": {
            "text/plain": [
              "array([1, 4])"
            ]
          },
          "metadata": {
            "tags": []
          },
          "execution_count": 193
        }
      ]
    },
    {
      "cell_type": "code",
      "metadata": {
        "colab": {
          "base_uri": "https://localhost:8080/"
        },
        "id": "dGtJ_bSFbI70",
        "outputId": "b67ed2da-1215-469d-9508-6c97fdacab32"
      },
      "source": [
        "# min of each column, axis = 0\n",
        "np.min(stats, axis = 0)"
      ],
      "execution_count": null,
      "outputs": [
        {
          "output_type": "execute_result",
          "data": {
            "text/plain": [
              "array([1, 2, 3])"
            ]
          },
          "metadata": {
            "tags": []
          },
          "execution_count": 195
        }
      ]
    },
    {
      "cell_type": "code",
      "metadata": {
        "colab": {
          "base_uri": "https://localhost:8080/"
        },
        "id": "RswM8LaKbSoU",
        "outputId": "651154fc-30de-4299-9901-ec3766ee0c28"
      },
      "source": [
        "np.max(stats, axis = 0)"
      ],
      "execution_count": null,
      "outputs": [
        {
          "output_type": "execute_result",
          "data": {
            "text/plain": [
              "array([4, 5, 6])"
            ]
          },
          "metadata": {
            "tags": []
          },
          "execution_count": 196
        }
      ]
    },
    {
      "cell_type": "code",
      "metadata": {
        "colab": {
          "base_uri": "https://localhost:8080/"
        },
        "id": "0OZYOeR5bV6j",
        "outputId": "2264135c-38bc-4547-800a-6e3931b4cc8f"
      },
      "source": [
        "np.max(stats, axis = 1)"
      ],
      "execution_count": null,
      "outputs": [
        {
          "output_type": "execute_result",
          "data": {
            "text/plain": [
              "array([3, 6])"
            ]
          },
          "metadata": {
            "tags": []
          },
          "execution_count": 197
        }
      ]
    },
    {
      "cell_type": "code",
      "metadata": {
        "colab": {
          "base_uri": "https://localhost:8080/"
        },
        "id": "IwoRPfo0bZca",
        "outputId": "7f269d06-f1e5-47cf-a591-5409af8de100"
      },
      "source": [
        "# sums all items in matrix\n",
        "np.sum(stats)"
      ],
      "execution_count": null,
      "outputs": [
        {
          "output_type": "execute_result",
          "data": {
            "text/plain": [
              "21"
            ]
          },
          "metadata": {
            "tags": []
          },
          "execution_count": 198
        }
      ]
    },
    {
      "cell_type": "code",
      "metadata": {
        "colab": {
          "base_uri": "https://localhost:8080/"
        },
        "id": "_NVcjmwTbeOW",
        "outputId": "833c265a-aa8f-4074-e12f-8df72da36bda"
      },
      "source": [
        "# sums all items in each row\n",
        "np.sum(stats, axis = 1)"
      ],
      "execution_count": null,
      "outputs": [
        {
          "output_type": "execute_result",
          "data": {
            "text/plain": [
              "array([ 6, 15])"
            ]
          },
          "metadata": {
            "tags": []
          },
          "execution_count": 199
        }
      ]
    },
    {
      "cell_type": "code",
      "metadata": {
        "colab": {
          "base_uri": "https://localhost:8080/"
        },
        "id": "x098YLktbeXd",
        "outputId": "ad9bac09-388c-4b0f-9363-3dc4d27804c5"
      },
      "source": [
        "# sums all items in each column\n",
        "np.sum(stats, axis = 0)"
      ],
      "execution_count": null,
      "outputs": [
        {
          "output_type": "execute_result",
          "data": {
            "text/plain": [
              "array([5, 7, 9])"
            ]
          },
          "metadata": {
            "tags": []
          },
          "execution_count": 200
        }
      ]
    },
    {
      "cell_type": "markdown",
      "metadata": {
        "id": "iDlsnnoxbulD"
      },
      "source": [
        "## **Reorganizing Arrays**"
      ]
    },
    {
      "cell_type": "code",
      "metadata": {
        "colab": {
          "base_uri": "https://localhost:8080/"
        },
        "id": "Z9ci2dH1btdE",
        "outputId": "14391cd0-53f0-4c0d-854c-f3292fec1168"
      },
      "source": [
        "before = np.array([[1,2,3,4], [5,6,7,8]])\n",
        "before"
      ],
      "execution_count": null,
      "outputs": [
        {
          "output_type": "execute_result",
          "data": {
            "text/plain": [
              "array([[1, 2, 3, 4],\n",
              "       [5, 6, 7, 8]])"
            ]
          },
          "metadata": {
            "tags": []
          },
          "execution_count": 201
        }
      ]
    },
    {
      "cell_type": "code",
      "metadata": {
        "colab": {
          "base_uri": "https://localhost:8080/"
        },
        "id": "xfWNVr0bb-3X",
        "outputId": "be73075f-97ec-4213-a9db-312524fc1e78"
      },
      "source": [
        "print(before.shape)"
      ],
      "execution_count": null,
      "outputs": [
        {
          "output_type": "stream",
          "text": [
            "(2, 4)\n"
          ],
          "name": "stdout"
        }
      ]
    },
    {
      "cell_type": "code",
      "metadata": {
        "colab": {
          "base_uri": "https://localhost:8080/"
        },
        "id": "kczmAXErb-6C",
        "outputId": "3653f9a3-59d8-4eda-e06f-77b604143616"
      },
      "source": [
        "# make it a 8 x 1\n",
        "after = before.reshape((8,1))\n",
        "print(after)"
      ],
      "execution_count": null,
      "outputs": [
        {
          "output_type": "stream",
          "text": [
            "[[1]\n",
            " [2]\n",
            " [3]\n",
            " [4]\n",
            " [5]\n",
            " [6]\n",
            " [7]\n",
            " [8]]\n"
          ],
          "name": "stdout"
        }
      ]
    },
    {
      "cell_type": "code",
      "metadata": {
        "colab": {
          "base_uri": "https://localhost:8080/"
        },
        "id": "umvJvYkNb-9I",
        "outputId": "2de335f9-b3d3-4506-f993-5dddbe0966ba"
      },
      "source": [
        "# make it 4 x 2\n",
        "after = before.reshape((4,2))\n",
        "after"
      ],
      "execution_count": null,
      "outputs": [
        {
          "output_type": "execute_result",
          "data": {
            "text/plain": [
              "array([[1, 2],\n",
              "       [3, 4],\n",
              "       [5, 6],\n",
              "       [7, 8]])"
            ]
          },
          "metadata": {
            "tags": []
          },
          "execution_count": 205
        }
      ]
    },
    {
      "cell_type": "code",
      "metadata": {
        "colab": {
          "base_uri": "https://localhost:8080/"
        },
        "id": "3VB5CRjRb-_Q",
        "outputId": "c5bb91d9-f69a-436f-fb1b-818151922f4e"
      },
      "source": [
        "# make it 2 x 2 x 2\n",
        "after = before.reshape((2,2,2))\n",
        "after"
      ],
      "execution_count": null,
      "outputs": [
        {
          "output_type": "execute_result",
          "data": {
            "text/plain": [
              "array([[[1, 2],\n",
              "        [3, 4]],\n",
              "\n",
              "       [[5, 6],\n",
              "        [7, 8]]])"
            ]
          },
          "metadata": {
            "tags": []
          },
          "execution_count": 206
        }
      ]
    },
    {
      "cell_type": "code",
      "metadata": {
        "colab": {
          "base_uri": "https://localhost:8080/"
        },
        "id": "36IwLo67b_Cg",
        "outputId": "d6bcae39-9982-4052-dd37-5b7d6f17d7e1"
      },
      "source": [
        "# vertically stacking vectors or matrices\n",
        "# dimensions important\n",
        "v1 = np.array([1,2,3,4,])\n",
        "v2 = np.array([5,6,7,8])\n",
        "\n",
        "# stack v1 on top of v2 as part of same matrix\n",
        "np.vstack([v1,v2])"
      ],
      "execution_count": null,
      "outputs": [
        {
          "output_type": "execute_result",
          "data": {
            "text/plain": [
              "array([[1, 2, 3, 4],\n",
              "       [5, 6, 7, 8]])"
            ]
          },
          "metadata": {
            "tags": []
          },
          "execution_count": 207
        }
      ]
    },
    {
      "cell_type": "code",
      "metadata": {
        "colab": {
          "base_uri": "https://localhost:8080/"
        },
        "id": "wR68AMttb_FW",
        "outputId": "bf725651-dae3-4e2c-8452-2cfb8528617e"
      },
      "source": [
        "# can keep passing in - can weave in different orders\n",
        "# sizes must be the same\n",
        "np.vstack([v1, v2, v2, v1])"
      ],
      "execution_count": null,
      "outputs": [
        {
          "output_type": "execute_result",
          "data": {
            "text/plain": [
              "array([[1, 2, 3, 4],\n",
              "       [5, 6, 7, 8],\n",
              "       [5, 6, 7, 8],\n",
              "       [1, 2, 3, 4]])"
            ]
          },
          "metadata": {
            "tags": []
          },
          "execution_count": 209
        }
      ]
    },
    {
      "cell_type": "code",
      "metadata": {
        "colab": {
          "base_uri": "https://localhost:8080/"
        },
        "id": "KJSLV82jdFCv",
        "outputId": "13b4ef59-8e07-4eaf-9327-e092bc6178c2"
      },
      "source": [
        "# horizontal stacks\n",
        "h1 = np.ones((2,4))\n",
        "h2 = np.zeros((2,2))\n",
        "print(h1)\n",
        "print(h2)"
      ],
      "execution_count": null,
      "outputs": [
        {
          "output_type": "stream",
          "text": [
            "[[1. 1. 1. 1.]\n",
            " [1. 1. 1. 1.]]\n",
            "[[0. 0.]\n",
            " [0. 0.]]\n"
          ],
          "name": "stdout"
        }
      ]
    },
    {
      "cell_type": "code",
      "metadata": {
        "id": "9fLH26drdFIl"
      },
      "source": [
        "# horizonatl stack\n",
        "# stacked the h2 to the right of h1\n",
        "np.hstack((h1,h2))"
      ],
      "execution_count": null,
      "outputs": []
    },
    {
      "cell_type": "markdown",
      "metadata": {
        "id": "6XIvPDa2dkj1"
      },
      "source": [
        "##**Miscellaneous**\n",
        "####*Load Data from File*"
      ]
    },
    {
      "cell_type": "code",
      "metadata": {
        "id": "qA0n9n4pdFL3"
      },
      "source": [
        "# load with numpy array instead of pandas\n",
        "# delimiter is a separator meaning separate with a comma\n",
        "# np.genfromtext('name of file.txt', delimiter=',')"
      ],
      "execution_count": null,
      "outputs": []
    },
    {
      "cell_type": "markdown",
      "metadata": {
        "id": "cSbj5LiieYwe"
      },
      "source": [
        "#### **Boolean Masking and Advanced Indexing**"
      ]
    },
    {
      "cell_type": "code",
      "metadata": {
        "id": "HAKyPwe9dunC"
      },
      "source": [
        "# where in filedata are entries > 50\n",
        "# Gives T, F boolean outcome"
      ],
      "execution_count": null,
      "outputs": []
    },
    {
      "cell_type": "code",
      "metadata": {
        "id": "ks3pSiw6dup2"
      },
      "source": [
        "# grab only values with value >50\n",
        "data[data > 50]"
      ],
      "execution_count": null,
      "outputs": []
    },
    {
      "cell_type": "code",
      "metadata": {
        "colab": {
          "base_uri": "https://localhost:8080/"
        },
        "id": "QgDev_2ZdusQ",
        "outputId": "332b1b63-4726-4b25-e9e2-6054231b6ec7"
      },
      "source": [
        "# You can index with a list in NumPy\n",
        "a = np.array([1,2,3,4,5,6,7,8,9])\n",
        "a[[1,2,8]]"
      ],
      "execution_count": null,
      "outputs": [
        {
          "output_type": "execute_result",
          "data": {
            "text/plain": [
              "array([2, 3, 9])"
            ]
          },
          "metadata": {
            "tags": []
          },
          "execution_count": 216
        }
      ]
    },
    {
      "cell_type": "code",
      "metadata": {
        "id": "SQliak2kduvZ"
      },
      "source": [
        "# a[[True]]"
      ],
      "execution_count": null,
      "outputs": []
    },
    {
      "cell_type": "code",
      "metadata": {
        "id": "OMZCp88GdFOz"
      },
      "source": [
        "# If any value > 50\n",
        "# np.any(filedata > 50, axis=0)\n",
        "# if look downward are any of the values >50"
      ],
      "execution_count": null,
      "outputs": []
    },
    {
      "cell_type": "code",
      "metadata": {
        "id": "yGf_dapqfPzd"
      },
      "source": [
        "# Column entries > 50\n",
        "# np.all(filedata > 50, axis=0)"
      ],
      "execution_count": null,
      "outputs": []
    },
    {
      "cell_type": "code",
      "metadata": {
        "id": "3l7uhtg5fP3G"
      },
      "source": [
        "# Row entries > 50\n",
        "# np.all(filedata > 50, axis=1)"
      ],
      "execution_count": null,
      "outputs": []
    },
    {
      "cell_type": "code",
      "metadata": {
        "id": "w5Hq_iupfP9F"
      },
      "source": [
        "# multiple conditions\n",
        "# greater than 50 and less than 100\n",
        "# ((filedata > 50 & filedata < 100))"
      ],
      "execution_count": null,
      "outputs": []
    },
    {
      "cell_type": "code",
      "metadata": {
        "id": "dpTaFYnbfswl"
      },
      "source": [
        "# not (greater than 50 and less than 100)\n",
        "# inverse of above\n",
        "# (~((file>50) & (file<100)))"
      ],
      "execution_count": null,
      "outputs": []
    },
    {
      "cell_type": "code",
      "metadata": {
        "colab": {
          "base_uri": "https://localhost:8080/"
        },
        "id": "cccBvs9VgRjn",
        "outputId": "1621e28a-2c48-4abc-de84-c23ad1a9178b"
      },
      "source": [
        "m = np.array([[1,2,3,4,5], [6,7,8,9,10], [11,12,13,14,15], [16,17,18,19,20], [21,22,23,24,25], [26,27,28,29,30]])\n",
        "m"
      ],
      "execution_count": null,
      "outputs": [
        {
          "output_type": "execute_result",
          "data": {
            "text/plain": [
              "array([[ 1,  2,  3,  4,  5],\n",
              "       [ 6,  7,  8,  9, 10],\n",
              "       [11, 12, 13, 14, 15],\n",
              "       [16, 17, 18, 19, 20],\n",
              "       [21, 22, 23, 24, 25],\n",
              "       [26, 27, 28, 29, 30]])"
            ]
          },
          "metadata": {
            "tags": []
          },
          "execution_count": 219
        }
      ]
    },
    {
      "cell_type": "code",
      "metadata": {
        "colab": {
          "base_uri": "https://localhost:8080/"
        },
        "id": "g7Fdyrw-fs4Y",
        "outputId": "e77f36a7-7466-4fc9-c0ec-369e8793c001"
      },
      "source": [
        "# choose 11, 12, 16, 17"
      ],
      "execution_count": null,
      "outputs": [
        {
          "output_type": "execute_result",
          "data": {
            "text/plain": [
              "array([11])"
            ]
          },
          "metadata": {
            "tags": []
          },
          "execution_count": 222
        }
      ]
    },
    {
      "cell_type": "code",
      "metadata": {
        "colab": {
          "base_uri": "https://localhost:8080/"
        },
        "id": "IvZ6FqMwhUZy",
        "outputId": "afc06e99-6de4-4ec4-df18-6b3a4979ac59"
      },
      "source": [
        "m[2:4, 0:2]"
      ],
      "execution_count": null,
      "outputs": [
        {
          "output_type": "execute_result",
          "data": {
            "text/plain": [
              "array([[11, 12],\n",
              "       [16, 17]])"
            ]
          },
          "metadata": {
            "tags": []
          },
          "execution_count": 223
        }
      ]
    },
    {
      "cell_type": "code",
      "metadata": {
        "colab": {
          "base_uri": "https://localhost:8080/"
        },
        "id": "ddnxdFbbhgQs",
        "outputId": "6bed45ee-009a-41c5-81ce-78558c552080"
      },
      "source": [
        "# choose 2, 8, 14, and 20\n",
        "# need to use two different lists within your indexing\n",
        "m[[0,1,2,3], [1,2,3,4]]"
      ],
      "execution_count": null,
      "outputs": [
        {
          "output_type": "execute_result",
          "data": {
            "text/plain": [
              "array([ 2,  8, 14, 20])"
            ]
          },
          "metadata": {
            "tags": []
          },
          "execution_count": 225
        }
      ]
    },
    {
      "cell_type": "code",
      "metadata": {
        "colab": {
          "base_uri": "https://localhost:8080/"
        },
        "id": "USiFAOyaiAgc",
        "outputId": "326169b7-ae57-4649-b66f-45c004989484"
      },
      "source": [
        "# index 4,5,24,25,29,30\n",
        "# my try: m[[1,3:5],[4:6,3:5]]\n",
        "# answer:\n",
        "m[[0,4,5], 3:]"
      ],
      "execution_count": null,
      "outputs": [
        {
          "output_type": "execute_result",
          "data": {
            "text/plain": [
              "array([[ 4,  5],\n",
              "       [24, 25],\n",
              "       [29, 30]])"
            ]
          },
          "metadata": {
            "tags": []
          },
          "execution_count": 228
        }
      ]
    }
  ]
}