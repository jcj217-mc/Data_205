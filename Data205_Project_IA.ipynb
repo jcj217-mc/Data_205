{
  "nbformat": 4,
  "nbformat_minor": 0,
  "metadata": {
    "colab": {
      "name": "Data205_Project_IA.ipynb",
      "provenance": [],
      "collapsed_sections": [],
      "authorship_tag": "ABX9TyPUsfG/F0CGXZ887mf5VJuh",
      "include_colab_link": true
    },
    "kernelspec": {
      "name": "python3",
      "display_name": "Python 3"
    },
    "language_info": {
      "name": "python"
    }
  },
  "cells": [
    {
      "cell_type": "markdown",
      "metadata": {
        "id": "view-in-github",
        "colab_type": "text"
      },
      "source": [
        "<a href=\"https://colab.research.google.com/github/jcj217-mc/Data_205/blob/main/Data205_Project_IA.ipynb\" target=\"_parent\"><img src=\"https://colab.research.google.com/assets/colab-badge.svg\" alt=\"Open In Colab\"/></a>"
      ]
    },
    {
      "cell_type": "code",
      "metadata": {
        "id": "G0eAdFfT4KmP"
      },
      "source": [
        "# import packages\n",
        "import pandas as pd\n",
        "import numpy as np\n",
        "import os \n",
        "import json"
      ],
      "execution_count": null,
      "outputs": []
    },
    {
      "cell_type": "code",
      "metadata": {
        "id": "vjyb6LzH4Ufh"
      },
      "source": [
        "# .json file data imported as pandas data frame\n",
        "df = pd.read_json('https://data.montgomerycountymd.gov/resource/usip-62e2.json')"
      ],
      "execution_count": null,
      "outputs": []
    },
    {
      "cell_type": "code",
      "metadata": {
        "colab": {
          "base_uri": "https://localhost:8080/",
          "height": 640
        },
        "id": "WoxDkjYP4pwl",
        "outputId": "5b40c98b-ee71-4034-9910-b373380c74a2"
      },
      "source": [
        "# Evaluating initial data \n",
        "df"
      ],
      "execution_count": null,
      "outputs": [
        {
          "output_type": "execute_result",
          "data": {
            "text/html": [
              "<div>\n",
              "<style scoped>\n",
              "    .dataframe tbody tr th:only-of-type {\n",
              "        vertical-align: middle;\n",
              "    }\n",
              "\n",
              "    .dataframe tbody tr th {\n",
              "        vertical-align: top;\n",
              "    }\n",
              "\n",
              "    .dataframe thead th {\n",
              "        text-align: right;\n",
              "    }\n",
              "</style>\n",
              "<table border=\"1\" class=\"dataframe\">\n",
              "  <thead>\n",
              "    <tr style=\"text-align: right;\">\n",
              "      <th></th>\n",
              "      <th>filenum</th>\n",
              "      <th>created_dt</th>\n",
              "      <th>source</th>\n",
              "      <th>allegation</th>\n",
              "      <th>incident_status</th>\n",
              "      <th>finding</th>\n",
              "    </tr>\n",
              "  </thead>\n",
              "  <tbody>\n",
              "    <tr>\n",
              "      <th>0</th>\n",
              "      <td>15-0200</td>\n",
              "      <td>2015-11-09T00:00:00.000</td>\n",
              "      <td>External</td>\n",
              "      <td>Neglect of Duty/Unsatisfactory Performance</td>\n",
              "      <td>Active</td>\n",
              "      <td>NaN</td>\n",
              "    </tr>\n",
              "    <tr>\n",
              "      <th>1</th>\n",
              "      <td>16-0101</td>\n",
              "      <td>2016-05-10T00:00:00.000</td>\n",
              "      <td>Internal</td>\n",
              "      <td>Use of Force</td>\n",
              "      <td>Active</td>\n",
              "      <td>NaN</td>\n",
              "    </tr>\n",
              "    <tr>\n",
              "      <th>2</th>\n",
              "      <td>16-0101</td>\n",
              "      <td>2016-05-10T00:00:00.000</td>\n",
              "      <td>Internal</td>\n",
              "      <td>Abuse of Authority</td>\n",
              "      <td>Active</td>\n",
              "      <td>NaN</td>\n",
              "    </tr>\n",
              "    <tr>\n",
              "      <th>3</th>\n",
              "      <td>16-0101</td>\n",
              "      <td>2016-05-10T00:00:00.000</td>\n",
              "      <td>Internal</td>\n",
              "      <td>Conformance to Law</td>\n",
              "      <td>Active</td>\n",
              "      <td>NaN</td>\n",
              "    </tr>\n",
              "    <tr>\n",
              "      <th>4</th>\n",
              "      <td>15-0200</td>\n",
              "      <td>2015-11-09T00:00:00.000</td>\n",
              "      <td>External</td>\n",
              "      <td>Courtesy</td>\n",
              "      <td>Active</td>\n",
              "      <td>NaN</td>\n",
              "    </tr>\n",
              "    <tr>\n",
              "      <th>...</th>\n",
              "      <td>...</td>\n",
              "      <td>...</td>\n",
              "      <td>...</td>\n",
              "      <td>...</td>\n",
              "      <td>...</td>\n",
              "      <td>...</td>\n",
              "    </tr>\n",
              "    <tr>\n",
              "      <th>995</th>\n",
              "      <td>19-0192</td>\n",
              "      <td>2019-10-14T00:00:00.000</td>\n",
              "      <td>Internal</td>\n",
              "      <td>Neglect of Duty/Unsatisfactory Performance</td>\n",
              "      <td>Completed</td>\n",
              "      <td>Administrative Closure</td>\n",
              "    </tr>\n",
              "    <tr>\n",
              "      <th>996</th>\n",
              "      <td>14-0029</td>\n",
              "      <td>2014-02-10T00:00:00.000</td>\n",
              "      <td>Internal</td>\n",
              "      <td>Conduct Unbecoming</td>\n",
              "      <td>Completed</td>\n",
              "      <td>Administrative Closure</td>\n",
              "    </tr>\n",
              "    <tr>\n",
              "      <th>997</th>\n",
              "      <td>14-0226</td>\n",
              "      <td>2014-11-26T00:00:00.000</td>\n",
              "      <td>Internal</td>\n",
              "      <td>Maintenance of Property</td>\n",
              "      <td>Completed</td>\n",
              "      <td>Sustained</td>\n",
              "    </tr>\n",
              "    <tr>\n",
              "      <th>998</th>\n",
              "      <td>16-0040</td>\n",
              "      <td>2016-02-26T00:00:00.000</td>\n",
              "      <td>External</td>\n",
              "      <td>Neglect of Duty/Unsatisfactory Performance</td>\n",
              "      <td>Completed</td>\n",
              "      <td>No Corrective Action Tak</td>\n",
              "    </tr>\n",
              "    <tr>\n",
              "      <th>999</th>\n",
              "      <td>16-0038</td>\n",
              "      <td>2016-02-22T00:00:00.000</td>\n",
              "      <td>External</td>\n",
              "      <td>Courtesy</td>\n",
              "      <td>Completed</td>\n",
              "      <td>No Corrective Action Tak</td>\n",
              "    </tr>\n",
              "  </tbody>\n",
              "</table>\n",
              "<p>1000 rows × 6 columns</p>\n",
              "</div>"
            ],
            "text/plain": [
              "     filenum               created_dt  ... incident_status                   finding\n",
              "0    15-0200  2015-11-09T00:00:00.000  ...          Active                       NaN\n",
              "1    16-0101  2016-05-10T00:00:00.000  ...          Active                       NaN\n",
              "2    16-0101  2016-05-10T00:00:00.000  ...          Active                       NaN\n",
              "3    16-0101  2016-05-10T00:00:00.000  ...          Active                       NaN\n",
              "4    15-0200  2015-11-09T00:00:00.000  ...          Active                       NaN\n",
              "..       ...                      ...  ...             ...                       ...\n",
              "995  19-0192  2019-10-14T00:00:00.000  ...       Completed    Administrative Closure\n",
              "996  14-0029  2014-02-10T00:00:00.000  ...       Completed    Administrative Closure\n",
              "997  14-0226  2014-11-26T00:00:00.000  ...       Completed                 Sustained\n",
              "998  16-0040  2016-02-26T00:00:00.000  ...       Completed  No Corrective Action Tak\n",
              "999  16-0038  2016-02-22T00:00:00.000  ...       Completed  No Corrective Action Tak\n",
              "\n",
              "[1000 rows x 6 columns]"
            ]
          },
          "metadata": {
            "tags": []
          },
          "execution_count": 19
        }
      ]
    },
    {
      "cell_type": "code",
      "metadata": {
        "id": "IuCyoRrKSd-F"
      },
      "source": [
        "# Changing Date to datetime\n",
        "df.created_dt = pd.to_datetime(df.created_dt)"
      ],
      "execution_count": null,
      "outputs": []
    },
    {
      "cell_type": "code",
      "metadata": {
        "colab": {
          "base_uri": "https://localhost:8080/"
        },
        "id": "-uEeP6SI41VT",
        "outputId": "f3da2b73-21e9-4404-c392-0b196780f2e6"
      },
      "source": [
        "df.info()"
      ],
      "execution_count": null,
      "outputs": [
        {
          "output_type": "stream",
          "text": [
            "<class 'pandas.core.frame.DataFrame'>\n",
            "RangeIndex: 1000 entries, 0 to 999\n",
            "Data columns (total 6 columns):\n",
            " #   Column           Non-Null Count  Dtype         \n",
            "---  ------           --------------  -----         \n",
            " 0   filenum          1000 non-null   object        \n",
            " 1   created_dt       1000 non-null   datetime64[ns]\n",
            " 2   source           1000 non-null   object        \n",
            " 3   allegation       997 non-null    object        \n",
            " 4   incident_status  1000 non-null   object        \n",
            " 5   finding          830 non-null    object        \n",
            "dtypes: datetime64[ns](1), object(5)\n",
            "memory usage: 47.0+ KB\n"
          ],
          "name": "stdout"
        }
      ]
    },
    {
      "cell_type": "code",
      "metadata": {
        "colab": {
          "base_uri": "https://localhost:8080/",
          "height": 114
        },
        "id": "eqIxsxwvSq3Y",
        "outputId": "f707e831-40be-4e00-e1d3-3766844e46ba"
      },
      "source": [
        "# add a column for Year\n",
        "df['Year'] = df['created_dt'].dt.year\n",
        "df.head(1)"
      ],
      "execution_count": null,
      "outputs": [
        {
          "output_type": "execute_result",
          "data": {
            "text/html": [
              "<div>\n",
              "<style scoped>\n",
              "    .dataframe tbody tr th:only-of-type {\n",
              "        vertical-align: middle;\n",
              "    }\n",
              "\n",
              "    .dataframe tbody tr th {\n",
              "        vertical-align: top;\n",
              "    }\n",
              "\n",
              "    .dataframe thead th {\n",
              "        text-align: right;\n",
              "    }\n",
              "</style>\n",
              "<table border=\"1\" class=\"dataframe\">\n",
              "  <thead>\n",
              "    <tr style=\"text-align: right;\">\n",
              "      <th></th>\n",
              "      <th>filenum</th>\n",
              "      <th>created_dt</th>\n",
              "      <th>source</th>\n",
              "      <th>allegation</th>\n",
              "      <th>incident_status</th>\n",
              "      <th>finding</th>\n",
              "      <th>Year</th>\n",
              "    </tr>\n",
              "  </thead>\n",
              "  <tbody>\n",
              "    <tr>\n",
              "      <th>0</th>\n",
              "      <td>15-0200</td>\n",
              "      <td>2015-11-09</td>\n",
              "      <td>External</td>\n",
              "      <td>Neglect of Duty/Unsatisfactory Performance</td>\n",
              "      <td>Active</td>\n",
              "      <td>NaN</td>\n",
              "      <td>2015</td>\n",
              "    </tr>\n",
              "  </tbody>\n",
              "</table>\n",
              "</div>"
            ],
            "text/plain": [
              "   filenum created_dt    source  ... incident_status finding  Year\n",
              "0  15-0200 2015-11-09  External  ...          Active     NaN  2015\n",
              "\n",
              "[1 rows x 7 columns]"
            ]
          },
          "metadata": {
            "tags": []
          },
          "execution_count": 22
        }
      ]
    },
    {
      "cell_type": "code",
      "metadata": {
        "colab": {
          "base_uri": "https://localhost:8080/"
        },
        "id": "yS_oG08V5OdZ",
        "outputId": "8d53c797-96d5-43f7-e4d4-90cc9d68bafd"
      },
      "source": [
        "df.incident_status.unique()"
      ],
      "execution_count": null,
      "outputs": [
        {
          "output_type": "execute_result",
          "data": {
            "text/plain": [
              "array(['Active', 'Completed'], dtype=object)"
            ]
          },
          "metadata": {
            "tags": []
          },
          "execution_count": 23
        }
      ]
    },
    {
      "cell_type": "code",
      "metadata": {
        "colab": {
          "base_uri": "https://localhost:8080/"
        },
        "id": "w3sz_Xpq5SDp",
        "outputId": "9f8a67a3-4d1a-4cd2-a93a-b5fd8c5201e8"
      },
      "source": [
        "df.finding.unique()"
      ],
      "execution_count": null,
      "outputs": [
        {
          "output_type": "execute_result",
          "data": {
            "text/plain": [
              "array([nan, 'Administrative Closure', 'Declined', 'Unfounded',\n",
              "       'Exonerated', 'No Corrective Action Tak',\n",
              "       'Corrective Action Taken', 'Sustained', 'Insufficent Evidence',\n",
              "       'Policy Failure'], dtype=object)"
            ]
          },
          "metadata": {
            "tags": []
          },
          "execution_count": 24
        }
      ]
    },
    {
      "cell_type": "code",
      "metadata": {
        "colab": {
          "base_uri": "https://localhost:8080/",
          "height": 297
        },
        "id": "kUa8gYAU43IL",
        "outputId": "0475919a-e528-43e9-cc66-1a25f091ec42"
      },
      "source": [
        "df.describe()"
      ],
      "execution_count": null,
      "outputs": [
        {
          "output_type": "execute_result",
          "data": {
            "text/html": [
              "<div>\n",
              "<style scoped>\n",
              "    .dataframe tbody tr th:only-of-type {\n",
              "        vertical-align: middle;\n",
              "    }\n",
              "\n",
              "    .dataframe tbody tr th {\n",
              "        vertical-align: top;\n",
              "    }\n",
              "\n",
              "    .dataframe thead th {\n",
              "        text-align: right;\n",
              "    }\n",
              "</style>\n",
              "<table border=\"1\" class=\"dataframe\">\n",
              "  <thead>\n",
              "    <tr style=\"text-align: right;\">\n",
              "      <th></th>\n",
              "      <th>Year</th>\n",
              "    </tr>\n",
              "  </thead>\n",
              "  <tbody>\n",
              "    <tr>\n",
              "      <th>count</th>\n",
              "      <td>1000.000000</td>\n",
              "    </tr>\n",
              "    <tr>\n",
              "      <th>mean</th>\n",
              "      <td>2015.221000</td>\n",
              "    </tr>\n",
              "    <tr>\n",
              "      <th>std</th>\n",
              "      <td>2.345989</td>\n",
              "    </tr>\n",
              "    <tr>\n",
              "      <th>min</th>\n",
              "      <td>2013.000000</td>\n",
              "    </tr>\n",
              "    <tr>\n",
              "      <th>25%</th>\n",
              "      <td>2014.000000</td>\n",
              "    </tr>\n",
              "    <tr>\n",
              "      <th>50%</th>\n",
              "      <td>2014.000000</td>\n",
              "    </tr>\n",
              "    <tr>\n",
              "      <th>75%</th>\n",
              "      <td>2015.000000</td>\n",
              "    </tr>\n",
              "    <tr>\n",
              "      <th>max</th>\n",
              "      <td>2021.000000</td>\n",
              "    </tr>\n",
              "  </tbody>\n",
              "</table>\n",
              "</div>"
            ],
            "text/plain": [
              "              Year\n",
              "count  1000.000000\n",
              "mean   2015.221000\n",
              "std       2.345989\n",
              "min    2013.000000\n",
              "25%    2014.000000\n",
              "50%    2014.000000\n",
              "75%    2015.000000\n",
              "max    2021.000000"
            ]
          },
          "metadata": {
            "tags": []
          },
          "execution_count": 25
        }
      ]
    },
    {
      "cell_type": "code",
      "metadata": {
        "colab": {
          "base_uri": "https://localhost:8080/"
        },
        "id": "W_4rTa9n4_Dm",
        "outputId": "79e8de6d-6dd7-49be-facc-9bec4b1fa610"
      },
      "source": [
        "df.allegation.unique()"
      ],
      "execution_count": null,
      "outputs": [
        {
          "output_type": "execute_result",
          "data": {
            "text/plain": [
              "array(['Neglect of Duty/Unsatisfactory Performance', 'Use of Force',\n",
              "       'Abuse of Authority', 'Conformance to Law', 'Courtesy',\n",
              "       'Conduct Unbecoming', 'Att to Duty/Use Alch-Drugs',\n",
              "       'Discrimination/Harassment', 'Discrim/Race/Sex',\n",
              "       'Abuse of Process', 'Ineffective Police Action',\n",
              "       'Carry Credent/Identification', 'Untruthful Statements',\n",
              "       'Secondary Employment', 'Property', 'Punctuality',\n",
              "       'Compliance with Orders', 'Maintenance of Property',\n",
              "       'Conf T/L Traffic', 'Absent W/O Leave', 'courtesy',\n",
              "       'Use of Force (Count two)', 'Conformance to Law (Count two)', nan,\n",
              "       'Neglect of Duty', 'Conformance to Law Re: Criminal',\n",
              "       'Conformance to Law Deadly Force', 'conduct unbecoming',\n",
              "       'Neglect of Duty/Unsatisfactory Performance (Count three)',\n",
              "       'Carry ID on Duty&OD While Armed',\n",
              "       'Neglect of Duty/Unsatisfactory Performance (Count two)',\n",
              "       'Use of Force (Count three)'], dtype=object)"
            ]
          },
          "metadata": {
            "tags": []
          },
          "execution_count": 26
        }
      ]
    },
    {
      "cell_type": "code",
      "metadata": {
        "colab": {
          "base_uri": "https://localhost:8080/",
          "height": 204
        },
        "id": "z72hiN_C66RP",
        "outputId": "047038e6-45a5-4a7f-d8ee-1cbbb19ca867"
      },
      "source": [
        "df_allegation = pd.DataFrame(df.allegation.value_counts())\n",
        "df_allegation.head()"
      ],
      "execution_count": null,
      "outputs": [
        {
          "output_type": "execute_result",
          "data": {
            "text/html": [
              "<div>\n",
              "<style scoped>\n",
              "    .dataframe tbody tr th:only-of-type {\n",
              "        vertical-align: middle;\n",
              "    }\n",
              "\n",
              "    .dataframe tbody tr th {\n",
              "        vertical-align: top;\n",
              "    }\n",
              "\n",
              "    .dataframe thead th {\n",
              "        text-align: right;\n",
              "    }\n",
              "</style>\n",
              "<table border=\"1\" class=\"dataframe\">\n",
              "  <thead>\n",
              "    <tr style=\"text-align: right;\">\n",
              "      <th></th>\n",
              "      <th>allegation</th>\n",
              "    </tr>\n",
              "  </thead>\n",
              "  <tbody>\n",
              "    <tr>\n",
              "      <th>Neglect of Duty/Unsatisfactory Performance</th>\n",
              "      <td>317</td>\n",
              "    </tr>\n",
              "    <tr>\n",
              "      <th>Courtesy</th>\n",
              "      <td>170</td>\n",
              "    </tr>\n",
              "    <tr>\n",
              "      <th>Conformance to Law</th>\n",
              "      <td>155</td>\n",
              "    </tr>\n",
              "    <tr>\n",
              "      <th>Conduct Unbecoming</th>\n",
              "      <td>96</td>\n",
              "    </tr>\n",
              "    <tr>\n",
              "      <th>Use of Force</th>\n",
              "      <td>56</td>\n",
              "    </tr>\n",
              "  </tbody>\n",
              "</table>\n",
              "</div>"
            ],
            "text/plain": [
              "                                            allegation\n",
              "Neglect of Duty/Unsatisfactory Performance         317\n",
              "Courtesy                                           170\n",
              "Conformance to Law                                 155\n",
              "Conduct Unbecoming                                  96\n",
              "Use of Force                                        56"
            ]
          },
          "metadata": {
            "tags": []
          },
          "execution_count": 27
        }
      ]
    },
    {
      "cell_type": "code",
      "metadata": {
        "id": "bVxtkuRg9O2u"
      },
      "source": [
        "# Successfully creating excel sheet with cell output\n",
        "df_allegation.to_excel(\"./allegationdf.xlsx\")"
      ],
      "execution_count": null,
      "outputs": []
    },
    {
      "cell_type": "code",
      "metadata": {
        "colab": {
          "base_uri": "https://localhost:8080/",
          "height": 328
        },
        "id": "DaUbJNbA7B-p",
        "outputId": "faa615dc-eb97-487e-c5da-43fc3a26c723"
      },
      "source": [
        "df_findings = pd.DataFrame(df.finding.value_counts())\n",
        "df_findings"
      ],
      "execution_count": null,
      "outputs": [
        {
          "output_type": "execute_result",
          "data": {
            "text/html": [
              "<div>\n",
              "<style scoped>\n",
              "    .dataframe tbody tr th:only-of-type {\n",
              "        vertical-align: middle;\n",
              "    }\n",
              "\n",
              "    .dataframe tbody tr th {\n",
              "        vertical-align: top;\n",
              "    }\n",
              "\n",
              "    .dataframe thead th {\n",
              "        text-align: right;\n",
              "    }\n",
              "</style>\n",
              "<table border=\"1\" class=\"dataframe\">\n",
              "  <thead>\n",
              "    <tr style=\"text-align: right;\">\n",
              "      <th></th>\n",
              "      <th>finding</th>\n",
              "    </tr>\n",
              "  </thead>\n",
              "  <tbody>\n",
              "    <tr>\n",
              "      <th>No Corrective Action Tak</th>\n",
              "      <td>279</td>\n",
              "    </tr>\n",
              "    <tr>\n",
              "      <th>Corrective Action Taken</th>\n",
              "      <td>170</td>\n",
              "    </tr>\n",
              "    <tr>\n",
              "      <th>Administrative Closure</th>\n",
              "      <td>127</td>\n",
              "    </tr>\n",
              "    <tr>\n",
              "      <th>Exonerated</th>\n",
              "      <td>77</td>\n",
              "    </tr>\n",
              "    <tr>\n",
              "      <th>Sustained</th>\n",
              "      <td>65</td>\n",
              "    </tr>\n",
              "    <tr>\n",
              "      <th>Declined</th>\n",
              "      <td>47</td>\n",
              "    </tr>\n",
              "    <tr>\n",
              "      <th>Unfounded</th>\n",
              "      <td>41</td>\n",
              "    </tr>\n",
              "    <tr>\n",
              "      <th>Insufficent Evidence</th>\n",
              "      <td>22</td>\n",
              "    </tr>\n",
              "    <tr>\n",
              "      <th>Policy Failure</th>\n",
              "      <td>2</td>\n",
              "    </tr>\n",
              "  </tbody>\n",
              "</table>\n",
              "</div>"
            ],
            "text/plain": [
              "                          finding\n",
              "No Corrective Action Tak      279\n",
              "Corrective Action Taken       170\n",
              "Administrative Closure        127\n",
              "Exonerated                     77\n",
              "Sustained                      65\n",
              "Declined                       47\n",
              "Unfounded                      41\n",
              "Insufficent Evidence           22\n",
              "Policy Failure                  2"
            ]
          },
          "metadata": {
            "tags": []
          },
          "execution_count": 29
        }
      ]
    },
    {
      "cell_type": "code",
      "metadata": {
        "id": "E7TVyn1FEZ2t"
      },
      "source": [
        "# Successfully creating excel sheet with cell output\n",
        "df_findings.to_excel(\"./findingsdf.xlsx\")"
      ],
      "execution_count": null,
      "outputs": []
    },
    {
      "cell_type": "code",
      "metadata": {
        "id": "rZyJWsTeD6rt"
      },
      "source": [
        "findingsdf = pd.read_csv('findingsdf.csv')"
      ],
      "execution_count": null,
      "outputs": []
    },
    {
      "cell_type": "code",
      "metadata": {
        "colab": {
          "base_uri": "https://localhost:8080/",
          "height": 204
        },
        "id": "cWI1JCcFBWVr",
        "outputId": "19a148dd-968f-4a12-b404-729de18e494a"
      },
      "source": [
        "findingsdf.head()"
      ],
      "execution_count": null,
      "outputs": [
        {
          "output_type": "execute_result",
          "data": {
            "text/html": [
              "<div>\n",
              "<style scoped>\n",
              "    .dataframe tbody tr th:only-of-type {\n",
              "        vertical-align: middle;\n",
              "    }\n",
              "\n",
              "    .dataframe tbody tr th {\n",
              "        vertical-align: top;\n",
              "    }\n",
              "\n",
              "    .dataframe thead th {\n",
              "        text-align: right;\n",
              "    }\n",
              "</style>\n",
              "<table border=\"1\" class=\"dataframe\">\n",
              "  <thead>\n",
              "    <tr style=\"text-align: right;\">\n",
              "      <th></th>\n",
              "      <th>Finding</th>\n",
              "      <th>Count</th>\n",
              "    </tr>\n",
              "  </thead>\n",
              "  <tbody>\n",
              "    <tr>\n",
              "      <th>0</th>\n",
              "      <td>No Corrective Action Tak</td>\n",
              "      <td>279</td>\n",
              "    </tr>\n",
              "    <tr>\n",
              "      <th>1</th>\n",
              "      <td>Corrective Action Taken</td>\n",
              "      <td>170</td>\n",
              "    </tr>\n",
              "    <tr>\n",
              "      <th>2</th>\n",
              "      <td>Administrative Closure</td>\n",
              "      <td>127</td>\n",
              "    </tr>\n",
              "    <tr>\n",
              "      <th>3</th>\n",
              "      <td>Exonerated</td>\n",
              "      <td>77</td>\n",
              "    </tr>\n",
              "    <tr>\n",
              "      <th>4</th>\n",
              "      <td>Sustained</td>\n",
              "      <td>65</td>\n",
              "    </tr>\n",
              "  </tbody>\n",
              "</table>\n",
              "</div>"
            ],
            "text/plain": [
              "                    Finding  Count\n",
              "0  No Corrective Action Tak    279\n",
              "1   Corrective Action Taken    170\n",
              "2    Administrative Closure    127\n",
              "3                Exonerated     77\n",
              "4                 Sustained     65"
            ]
          },
          "metadata": {
            "tags": []
          },
          "execution_count": 32
        }
      ]
    },
    {
      "cell_type": "code",
      "metadata": {
        "colab": {
          "base_uri": "https://localhost:8080/",
          "height": 407
        },
        "id": "VwZVBstC5hkG",
        "outputId": "f6d5fd05-6a1c-46c2-f242-9c90b7ddcc43"
      },
      "source": [
        "import numpy as np\n",
        "import pandas as pd\n",
        "from pandas import Series, DataFrame\n",
        "import matplotlib.pyplot as plt\n",
        "\n",
        "plt.bar(df_findings.index, df_findings.finding, facecolor='navy', alpha=0.5, )\n",
        "plt.title('IA Investigation Findings')\n",
        "plt.xlabel('Finding')\n",
        "plt.ylabel('Frequency')\n",
        "plt.xticks(rotation=90)\n",
        "plt.show()"
      ],
      "execution_count": null,
      "outputs": [
        {
          "output_type": "display_data",
          "data": {
            "image/png": "[encoded data removed]",
            "text/plain": [
              "<Figure size 432x288 with 1 Axes>"
            ]
          },
          "metadata": {
            "tags": [],
            "needs_background": "light"
          }
        }
      ]
    },
    {
      "cell_type": "code",
      "metadata": {
        "colab": {
          "base_uri": "https://localhost:8080/",
          "height": 575
        },
        "id": "6Ckrnofk8JwG",
        "outputId": "093553d6-85e4-4347-8cfc-55eb55ab4cf9"
      },
      "source": [
        "plt.bar(df_allegation.index, df_allegation.allegation, facecolor='green', alpha=0.5, )\n",
        "plt.title('Allegation Barplot for IA Investigation Findings')\n",
        "plt.xlabel('Allegation')\n",
        "plt.ylabel('Frequency')\n",
        "plt.xticks(rotation=90)\n",
        "plt.show()"
      ],
      "execution_count": null,
      "outputs": [
        {
          "output_type": "display_data",
          "data": {
            "image/png": "[encoded data removed]",
            "text/plain": [
              "<Figure size 432x288 with 1 Axes>"
            ]
          },
          "metadata": {
            "tags": [],
            "needs_background": "light"
          }
        }
      ]
    },
    {
      "cell_type": "code",
      "metadata": {
        "colab": {
          "base_uri": "https://localhost:8080/",
          "height": 297
        },
        "id": "TYsu5l7pOKSw",
        "outputId": "2161b704-0362-4df3-ca14-dc70368ed6fb"
      },
      "source": [
        "plt.hist(df.source, facecolor='green', color = 'black', alpha=0.5, bins = 3 )\n",
        "plt.title('IA Investigation Allegation Source')\n",
        "plt.xlabel('Source')\n",
        "plt.ylabel('Frequency')\n",
        "plt.tight_layout()\n",
        "plt.show()"
      ],
      "execution_count": null,
      "outputs": [
        {
          "output_type": "display_data",
          "data": {
            "image/png": "[encoded data removed]",
            "text/plain": [
              "<Figure size 432x288 with 1 Axes>"
            ]
          },
          "metadata": {
            "tags": [],
            "needs_background": "light"
          }
        }
      ]
    },
    {
      "cell_type": "code",
      "metadata": {
        "colab": {
          "base_uri": "https://localhost:8080/"
        },
        "id": "DJQr-smC-10_",
        "outputId": "5a2adf87-3fed-436c-aa6d-734ae76904db"
      },
      "source": [
        "df.source.value_counts()"
      ],
      "execution_count": null,
      "outputs": [
        {
          "output_type": "execute_result",
          "data": {
            "text/plain": [
              "External    682\n",
              "Internal    318\n",
              "Name: source, dtype: int64"
            ]
          },
          "metadata": {
            "tags": []
          },
          "execution_count": 41
        }
      ]
    },
    {
      "cell_type": "code",
      "metadata": {
        "colab": {
          "base_uri": "https://localhost:8080/"
        },
        "id": "bSSt_Jzb-6Ho",
        "outputId": "8acb6464-b31f-466c-c670-61f628d02c13"
      },
      "source": [
        "318+682"
      ],
      "execution_count": null,
      "outputs": [
        {
          "output_type": "execute_result",
          "data": {
            "text/plain": [
              "1000"
            ]
          },
          "metadata": {
            "tags": []
          },
          "execution_count": 42
        }
      ]
    },
    {
      "cell_type": "code",
      "metadata": {
        "colab": {
          "base_uri": "https://localhost:8080/"
        },
        "id": "WpQfc_9I--Ey",
        "outputId": "d51da61f-93ae-44f9-f113-bbdee4b9c37a"
      },
      "source": [
        "318/1000 * 100\n",
        "682/1000 * 100"
      ],
      "execution_count": null,
      "outputs": [
        {
          "output_type": "execute_result",
          "data": {
            "text/plain": [
              "68.2"
            ]
          },
          "metadata": {
            "tags": []
          },
          "execution_count": 43
        }
      ]
    },
    {
      "cell_type": "code",
      "metadata": {
        "colab": {
          "base_uri": "https://localhost:8080/",
          "height": 427
        },
        "id": "F7S8Oe0aUOCw",
        "outputId": "8ed3421c-4e75-43c8-b393-575eda1d4f85"
      },
      "source": [
        "df.head(10)"
      ],
      "execution_count": null,
      "outputs": [
        {
          "output_type": "execute_result",
          "data": {
            "text/html": [
              "<div>\n",
              "<style scoped>\n",
              "    .dataframe tbody tr th:only-of-type {\n",
              "        vertical-align: middle;\n",
              "    }\n",
              "\n",
              "    .dataframe tbody tr th {\n",
              "        vertical-align: top;\n",
              "    }\n",
              "\n",
              "    .dataframe thead th {\n",
              "        text-align: right;\n",
              "    }\n",
              "</style>\n",
              "<table border=\"1\" class=\"dataframe\">\n",
              "  <thead>\n",
              "    <tr style=\"text-align: right;\">\n",
              "      <th></th>\n",
              "      <th>filenum</th>\n",
              "      <th>created_dt</th>\n",
              "      <th>source</th>\n",
              "      <th>allegation</th>\n",
              "      <th>incident_status</th>\n",
              "      <th>finding</th>\n",
              "      <th>Year</th>\n",
              "    </tr>\n",
              "  </thead>\n",
              "  <tbody>\n",
              "    <tr>\n",
              "      <th>0</th>\n",
              "      <td>15-0200</td>\n",
              "      <td>2015-11-09</td>\n",
              "      <td>External</td>\n",
              "      <td>Neglect of Duty/Unsatisfactory Performance</td>\n",
              "      <td>Active</td>\n",
              "      <td>NaN</td>\n",
              "      <td>2015</td>\n",
              "    </tr>\n",
              "    <tr>\n",
              "      <th>1</th>\n",
              "      <td>16-0101</td>\n",
              "      <td>2016-05-10</td>\n",
              "      <td>Internal</td>\n",
              "      <td>Use of Force</td>\n",
              "      <td>Active</td>\n",
              "      <td>NaN</td>\n",
              "      <td>2016</td>\n",
              "    </tr>\n",
              "    <tr>\n",
              "      <th>2</th>\n",
              "      <td>16-0101</td>\n",
              "      <td>2016-05-10</td>\n",
              "      <td>Internal</td>\n",
              "      <td>Abuse of Authority</td>\n",
              "      <td>Active</td>\n",
              "      <td>NaN</td>\n",
              "      <td>2016</td>\n",
              "    </tr>\n",
              "    <tr>\n",
              "      <th>3</th>\n",
              "      <td>16-0101</td>\n",
              "      <td>2016-05-10</td>\n",
              "      <td>Internal</td>\n",
              "      <td>Conformance to Law</td>\n",
              "      <td>Active</td>\n",
              "      <td>NaN</td>\n",
              "      <td>2016</td>\n",
              "    </tr>\n",
              "    <tr>\n",
              "      <th>4</th>\n",
              "      <td>15-0200</td>\n",
              "      <td>2015-11-09</td>\n",
              "      <td>External</td>\n",
              "      <td>Courtesy</td>\n",
              "      <td>Active</td>\n",
              "      <td>NaN</td>\n",
              "      <td>2015</td>\n",
              "    </tr>\n",
              "    <tr>\n",
              "      <th>5</th>\n",
              "      <td>15-0200</td>\n",
              "      <td>2015-11-09</td>\n",
              "      <td>External</td>\n",
              "      <td>Conduct Unbecoming</td>\n",
              "      <td>Active</td>\n",
              "      <td>NaN</td>\n",
              "      <td>2015</td>\n",
              "    </tr>\n",
              "    <tr>\n",
              "      <th>6</th>\n",
              "      <td>16-0101</td>\n",
              "      <td>2016-05-10</td>\n",
              "      <td>Internal</td>\n",
              "      <td>Att to Duty/Use Alch-Drugs</td>\n",
              "      <td>Active</td>\n",
              "      <td>NaN</td>\n",
              "      <td>2016</td>\n",
              "    </tr>\n",
              "    <tr>\n",
              "      <th>7</th>\n",
              "      <td>16-0196</td>\n",
              "      <td>2016-08-17</td>\n",
              "      <td>Internal</td>\n",
              "      <td>Conformance to Law</td>\n",
              "      <td>Active</td>\n",
              "      <td>NaN</td>\n",
              "      <td>2016</td>\n",
              "    </tr>\n",
              "    <tr>\n",
              "      <th>8</th>\n",
              "      <td>16-0196</td>\n",
              "      <td>2016-08-17</td>\n",
              "      <td>Internal</td>\n",
              "      <td>Conduct Unbecoming</td>\n",
              "      <td>Active</td>\n",
              "      <td>NaN</td>\n",
              "      <td>2016</td>\n",
              "    </tr>\n",
              "    <tr>\n",
              "      <th>9</th>\n",
              "      <td>19-0093</td>\n",
              "      <td>2019-06-10</td>\n",
              "      <td>External</td>\n",
              "      <td>Courtesy</td>\n",
              "      <td>Active</td>\n",
              "      <td>Administrative Closure</td>\n",
              "      <td>2019</td>\n",
              "    </tr>\n",
              "  </tbody>\n",
              "</table>\n",
              "</div>"
            ],
            "text/plain": [
              "   filenum created_dt    source  ... incident_status                 finding  Year\n",
              "0  15-0200 2015-11-09  External  ...          Active                     NaN  2015\n",
              "1  16-0101 2016-05-10  Internal  ...          Active                     NaN  2016\n",
              "2  16-0101 2016-05-10  Internal  ...          Active                     NaN  2016\n",
              "3  16-0101 2016-05-10  Internal  ...          Active                     NaN  2016\n",
              "4  15-0200 2015-11-09  External  ...          Active                     NaN  2015\n",
              "5  15-0200 2015-11-09  External  ...          Active                     NaN  2015\n",
              "6  16-0101 2016-05-10  Internal  ...          Active                     NaN  2016\n",
              "7  16-0196 2016-08-17  Internal  ...          Active                     NaN  2016\n",
              "8  16-0196 2016-08-17  Internal  ...          Active                     NaN  2016\n",
              "9  19-0093 2019-06-10  External  ...          Active  Administrative Closure  2019\n",
              "\n",
              "[10 rows x 7 columns]"
            ]
          },
          "metadata": {
            "tags": []
          },
          "execution_count": 36
        }
      ]
    },
    {
      "cell_type": "code",
      "metadata": {
        "colab": {
          "base_uri": "https://localhost:8080/"
        },
        "id": "a7PaNJ9s9Ow1",
        "outputId": "3b7a2890-c48b-44be-f8a3-18995e4eff25"
      },
      "source": [
        "df.allegation.value_counts()"
      ],
      "execution_count": null,
      "outputs": [
        {
          "output_type": "execute_result",
          "data": {
            "text/plain": [
              "Neglect of Duty/Unsatisfactory Performance                  317\n",
              "Courtesy                                                    170\n",
              "Conformance to Law                                          155\n",
              "Conduct Unbecoming                                           96\n",
              "Use of Force                                                 56\n",
              "Conf T/L Traffic                                             38\n",
              "Abuse of Authority                                           31\n",
              "Untruthful Statements                                        19\n",
              "Discrimination/Harassment                                    17\n",
              "Maintenance of Property                                      13\n",
              "Punctuality                                                  10\n",
              "Abuse of Process                                             10\n",
              "Carry Credent/Identification                                  9\n",
              "Conformance to Law Re: Criminal                               8\n",
              "Discrim/Race/Sex                                              8\n",
              "Secondary Employment                                          6\n",
              "Property                                                      6\n",
              "Att to Duty/Use Alch-Drugs                                    5\n",
              "Compliance with Orders                                        5\n",
              "Conformance to Law Deadly Force                               4\n",
              "courtesy                                                      2\n",
              "Absent W/O Leave                                              2\n",
              "Carry ID on Duty&OD While Armed                               2\n",
              "Neglect of Duty/Unsatisfactory Performance (Count three)      1\n",
              "Use of Force (Count three)                                    1\n",
              "Neglect of Duty/Unsatisfactory Performance (Count two)        1\n",
              "Conformance to Law (Count two)                                1\n",
              "Ineffective Police Action                                     1\n",
              "Neglect of Duty                                               1\n",
              "conduct unbecoming                                            1\n",
              "Use of Force (Count two)                                      1\n",
              "Name: allegation, dtype: int64"
            ]
          },
          "metadata": {
            "tags": []
          },
          "execution_count": 39
        }
      ]
    },
    {
      "cell_type": "code",
      "metadata": {
        "id": "-WEhmwf0U5ry"
      },
      "source": [
        "#year and corrective\n",
        "df_corrective = df.groupby(\"Year\")['finding']\n",
        "df_corrective.head()"
      ],
      "execution_count": null,
      "outputs": []
    },
    {
      "cell_type": "code",
      "metadata": {
        "id": "N0momZocV7Dq"
      },
      "source": [
        "df_corrective=df[(df['finding']==\"Corrective Action Taken\")]\n",
        "df_corrective.head()"
      ],
      "execution_count": null,
      "outputs": []
    },
    {
      "cell_type": "code",
      "metadata": {
        "id": "Sur0EnQuYflp"
      },
      "source": [
        "df_no_corrective=df[(df['finding']==\"No Corrective Action Tak\")]\n",
        "df_no_corrective.head()"
      ],
      "execution_count": null,
      "outputs": []
    },
    {
      "cell_type": "code",
      "metadata": {
        "id": "QCyKbEWKS2Pj"
      },
      "source": [
        "#PLOT 1 Average Bond Amount between race & gender\n",
        "\n",
        "labels = df.Year\n",
        "No_Corrective = df_no_corrective.finding.count()\n",
        "Corrective = df_corrective.finding.count()\n",
        "\n",
        "x = np.arange(len(labels))  # the label locations\n",
        "width = 0.35  # the width of the bars\n",
        "\n",
        "fig, ax = plt.subplots()\n",
        "rects1 =ax.bar(x - width/2, No_Corrective, width, label='No Corrective',color='green', alpha = 0.5)\n",
        "rects2= ax.bar(x + width/2, Corrective, width, label='Corrective', color='lightblue')\n",
        "\n",
        "# Add some text for labels, title and custom x-axis tick labels, etc.\n",
        "ax.set_ylabel('Total Processed')\n",
        "ax.set_title('Comparing Release versus Committment')\n",
        "ax.set_xticks(x)\n",
        "ax.set_xticklabels(labels)\n",
        "ax.legend()\n",
        "\n",
        "\n",
        "plt.xticks(rotation=90)\n",
        "plt.show()"
      ],
      "execution_count": null,
      "outputs": []
    },
    {
      "cell_type": "code",
      "metadata": {
        "id": "Ytfw-Ew7Zu8R"
      },
      "source": [
        "plt.hist(df.Year, facecolor='green', color = 'black', alpha=0.5, bins = 18 )\n",
        "plt.title('IA Investigation Allegations by Year')\n",
        "plt.xlabel('Year')\n",
        "plt.ylabel('Frequency')\n",
        "plt.tight_layout()\n",
        "plt.show()"
      ],
      "execution_count": null,
      "outputs": []
    },
    {
      "cell_type": "code",
      "metadata": {
        "id": "WHWIIbgUaJnQ"
      },
      "source": [
        "plt.hist(df_corrective.Year, facecolor='green', color = 'black', alpha=0.5, bins = 18 )\n",
        "plt.title('IA Investigation Corrective Action by Year')\n",
        "plt.xlabel('Year')\n",
        "plt.ylabel('Frequency')\n",
        "plt.ylim (top = 350)\n",
        "plt.tight_layout()\n",
        "plt.show()"
      ],
      "execution_count": null,
      "outputs": []
    },
    {
      "cell_type": "code",
      "metadata": {
        "id": "WKQN7pF4af-v"
      },
      "source": [
        "plt.hist(df_no_corrective.Year, facecolor='green', color = 'black', alpha=0.5, bins = 18 )\n",
        "plt.title('IA Investigation No Corrective Action by Year')\n",
        "plt.xlabel('Year')\n",
        "plt.ylabel('Frequency')\n",
        "plt.ylim (top = 350)\n",
        "plt.tight_layout()\n",
        "plt.show()"
      ],
      "execution_count": null,
      "outputs": []
    },
    {
      "cell_type": "code",
      "metadata": {
        "id": "8DcPUwvTa0Me"
      },
      "source": [
        "df.count()"
      ],
      "execution_count": null,
      "outputs": []
    },
    {
      "cell_type": "code",
      "metadata": {
        "id": "HErRZGbMa3Y-"
      },
      "source": [
        "df_corrective.count()"
      ],
      "execution_count": null,
      "outputs": []
    },
    {
      "cell_type": "code",
      "metadata": {
        "id": "93uWGbala6BI"
      },
      "source": [
        "df_no_corrective.count()"
      ],
      "execution_count": null,
      "outputs": []
    },
    {
      "cell_type": "code",
      "metadata": {
        "id": "SQXhaUDhbMbd"
      },
      "source": [
        "df_active=df[(df['incident_status']==\"Active\")]\n",
        "df_active.head()"
      ],
      "execution_count": null,
      "outputs": []
    },
    {
      "cell_type": "code",
      "metadata": {
        "id": "SXyVAto9bTlG"
      },
      "source": [
        "df_active.count()"
      ],
      "execution_count": null,
      "outputs": []
    },
    {
      "cell_type": "code",
      "metadata": {
        "id": "o0uXNSPpbXfc"
      },
      "source": [
        "plt.hist(df_active.Year, facecolor='green', color = 'black', alpha=0.5, bins = 18 )\n",
        "plt.title('IA Active Investigations by Year')\n",
        "plt.xlabel('Year')\n",
        "plt.ylabel('Frequency')\n",
        "plt.ylim (top = 350)\n",
        "plt.tight_layout()\n",
        "plt.show()"
      ],
      "execution_count": null,
      "outputs": []
    },
    {
      "cell_type": "code",
      "metadata": {
        "id": "ke0_dTjzbmUS"
      },
      "source": [
        "df_completed=df[(df['incident_status']==\"Completed\")]\n",
        "df_completed.head()"
      ],
      "execution_count": null,
      "outputs": []
    },
    {
      "cell_type": "code",
      "metadata": {
        "id": "twQnSz16b9MQ"
      },
      "source": [
        "df_completed.count()"
      ],
      "execution_count": null,
      "outputs": []
    },
    {
      "cell_type": "code",
      "metadata": {
        "id": "mvMqO8BUbxku"
      },
      "source": [
        "plt.hist(df_completed.Year, facecolor='green', color = 'black', alpha=0.5, bins = 18 )\n",
        "plt.title('IA Active Investigations by Year')\n",
        "plt.xlabel('Year')\n",
        "plt.ylabel('Frequency')\n",
        "plt.ylim (top = 350)\n",
        "plt.tight_layout()\n",
        "plt.show()"
      ],
      "execution_count": null,
      "outputs": []
    },
    {
      "cell_type": "code",
      "metadata": {
        "id": "GioZg-b1c0JG"
      },
      "source": [
        "# percent corrective action\n",
        "df.count()\n",
        "#df_release_1['percent_RPR'] = (df_release.RPR / df_release.total) * 100"
      ],
      "execution_count": null,
      "outputs": []
    },
    {
      "cell_type": "code",
      "metadata": {
        "id": "Ts9IjrBtc_a6"
      },
      "source": [
        "df_corrective.count()\n"
      ],
      "execution_count": null,
      "outputs": []
    },
    {
      "cell_type": "code",
      "metadata": {
        "colab": {
          "base_uri": "https://localhost:8080/"
        },
        "id": "34zJCQASdHuS",
        "outputId": "6973929c-3981-4b43-b180-9e059a58a04a"
      },
      "source": [
        "170/1000 * 100"
      ],
      "execution_count": null,
      "outputs": [
        {
          "output_type": "execute_result",
          "data": {
            "text/plain": [
              "17.0"
            ]
          },
          "metadata": {
            "tags": []
          },
          "execution_count": 40
        }
      ]
    }
  ]
}