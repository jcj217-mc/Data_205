{
  "nbformat": 4,
  "nbformat_minor": 0,
  "metadata": {
    "colab": {
      "name": "Data 205_Project_Part I_detention_json.ipynb",
      "provenance": [],
      "collapsed_sections": [],
      "authorship_tag": "ABX9TyPJ9j0u65V+yUwLjUMXs2B+",
      "include_colab_link": true
    },
    "kernelspec": {
      "name": "python3",
      "display_name": "Python 3"
    },
    "language_info": {
      "name": "python"
    }
  },
  "cells": [
    {
      "cell_type": "markdown",
      "metadata": {
        "id": "view-in-github",
        "colab_type": "text"
      },
      "source": [
        "<a href=\"https://colab.research.google.com/github/jcj217-mc/Data_205/blob/main/Data_205_Project_Part_I_detention_json.ipynb\" target=\"_parent\"><img src=\"https://colab.research.google.com/assets/colab-badge.svg\" alt=\"Open In Colab\"/></a>"
      ]
    },
    {
      "cell_type": "code",
      "metadata": {
        "id": "1d9jbuI7Ht3c"
      },
      "source": [
        "# import packages\n",
        "import pandas as pd\n",
        "import numpy as np\n",
        "import os \n",
        "import json"
      ],
      "execution_count": 188,
      "outputs": []
    },
    {
      "cell_type": "code",
      "metadata": {
        "id": "oXBQBLhYH6gw"
      },
      "source": [
        "# tab-separated data into pandas data frame.\n",
        "df = pd.read_json('https://data.montgomerycountymd.gov/resource/gknn-vrfa.json')"
      ],
      "execution_count": 189,
      "outputs": []
    },
    {
      "cell_type": "code",
      "metadata": {
        "colab": {
          "base_uri": "https://localhost:8080/",
          "height": 534
        },
        "id": "heDbJO3WXhKc",
        "outputId": "b86bec7e-b43f-4a0b-8cf6-c937a0243a83"
      },
      "source": [
        "df.head()"
      ],
      "execution_count": 190,
      "outputs": [
        {
          "output_type": "execute_result",
          "data": {
            "text/html": [
              "<div>\n",
              "<style scoped>\n",
              "    .dataframe tbody tr th:only-of-type {\n",
              "        vertical-align: middle;\n",
              "    }\n",
              "\n",
              "    .dataframe tbody tr th {\n",
              "        vertical-align: top;\n",
              "    }\n",
              "\n",
              "    .dataframe thead th {\n",
              "        text-align: right;\n",
              "    }\n",
              "</style>\n",
              "<table border=\"1\" class=\"dataframe\">\n",
              "  <thead>\n",
              "    <tr style=\"text-align: right;\">\n",
              "      <th></th>\n",
              "      <th>month_year</th>\n",
              "      <th>detention_services</th>\n",
              "      <th>detention_services_and_community_corrections_names</th>\n",
              "      <th>category</th>\n",
              "      <th>average_daily_population</th>\n",
              "    </tr>\n",
              "  </thead>\n",
              "  <tbody>\n",
              "    <tr>\n",
              "      <th>0</th>\n",
              "      <td>2021-03-01T00:00:00.000</td>\n",
              "      <td>PTSU</td>\n",
              "      <td>Pre-Trial Supervision Unit</td>\n",
              "      <td>Criminal Justice Clients under Pre-Trial Services</td>\n",
              "      <td>946</td>\n",
              "    </tr>\n",
              "    <tr>\n",
              "      <th>1</th>\n",
              "      <td>2021-03-01T00:00:00.000</td>\n",
              "      <td>MCCF</td>\n",
              "      <td>Montgomery County Correctional Facility</td>\n",
              "      <td>Inmates in DOCR Custody</td>\n",
              "      <td>505</td>\n",
              "    </tr>\n",
              "    <tr>\n",
              "      <th>2</th>\n",
              "      <td>2021-03-01T00:00:00.000</td>\n",
              "      <td>PRRS</td>\n",
              "      <td>Pre-Release and Re-Entry Services</td>\n",
              "      <td>Inmates in DOCR Custody</td>\n",
              "      <td>0</td>\n",
              "    </tr>\n",
              "    <tr>\n",
              "      <th>3</th>\n",
              "      <td>2021-03-01T00:00:00.000</td>\n",
              "      <td>ACS</td>\n",
              "      <td>Alternative Community Services</td>\n",
              "      <td>Criminal Justice Clients under Pre-Trial Services</td>\n",
              "      <td>301</td>\n",
              "    </tr>\n",
              "    <tr>\n",
              "      <th>4</th>\n",
              "      <td>2021-03-01T00:00:00.000</td>\n",
              "      <td>IPSA</td>\n",
              "      <td>Intervention Program for Substance Abusers</td>\n",
              "      <td>Criminal Justice Clients under Pre-Trial Services</td>\n",
              "      <td>67</td>\n",
              "    </tr>\n",
              "  </tbody>\n",
              "</table>\n",
              "</div>"
            ],
            "text/plain": [
              "                month_year  ... average_daily_population\n",
              "0  2021-03-01T00:00:00.000  ...                      946\n",
              "1  2021-03-01T00:00:00.000  ...                      505\n",
              "2  2021-03-01T00:00:00.000  ...                        0\n",
              "3  2021-03-01T00:00:00.000  ...                      301\n",
              "4  2021-03-01T00:00:00.000  ...                       67\n",
              "\n",
              "[5 rows x 5 columns]"
            ]
          },
          "metadata": {
            "tags": []
          },
          "execution_count": 190
        }
      ]
    },
    {
      "cell_type": "code",
      "metadata": {
        "colab": {
          "base_uri": "https://localhost:8080/"
        },
        "id": "R5kbamhzZNOw",
        "outputId": "b695f3b0-68e9-4804-8913-7cd95ee6bca7"
      },
      "source": [
        "# check dataframe type\n",
        "type(df)"
      ],
      "execution_count": 191,
      "outputs": [
        {
          "output_type": "execute_result",
          "data": {
            "text/plain": [
              "pandas.core.frame.DataFrame"
            ]
          },
          "metadata": {
            "tags": []
          },
          "execution_count": 191
        }
      ]
    },
    {
      "cell_type": "code",
      "metadata": {
        "colab": {
          "base_uri": "https://localhost:8080/",
          "height": 296
        },
        "id": "xqHcdNY0YKnx",
        "outputId": "6c51b835-5273-4610-cbfe-23bce8ca79b7"
      },
      "source": [
        "# change column names\n",
        "df_1 = df.rename(columns = {\"month_year\": \"Date\", \"detention_services\":\"DSCC Abbr.\", \"detention_services_and_community_corrections_names\":\"DSCC Names\", \"average_daily_population\" : \"Avg. Daily Pop.\"})\n",
        "df_1.head()"
      ],
      "execution_count": 192,
      "outputs": [
        {
          "output_type": "execute_result",
          "data": {
            "text/html": [
              "<div>\n",
              "<style scoped>\n",
              "    .dataframe tbody tr th:only-of-type {\n",
              "        vertical-align: middle;\n",
              "    }\n",
              "\n",
              "    .dataframe tbody tr th {\n",
              "        vertical-align: top;\n",
              "    }\n",
              "\n",
              "    .dataframe thead th {\n",
              "        text-align: right;\n",
              "    }\n",
              "</style>\n",
              "<table border=\"1\" class=\"dataframe\">\n",
              "  <thead>\n",
              "    <tr style=\"text-align: right;\">\n",
              "      <th></th>\n",
              "      <th>Date</th>\n",
              "      <th>DSCC Abbr.</th>\n",
              "      <th>DSCC Names</th>\n",
              "      <th>category</th>\n",
              "      <th>Avg. Daily Pop.</th>\n",
              "    </tr>\n",
              "  </thead>\n",
              "  <tbody>\n",
              "    <tr>\n",
              "      <th>0</th>\n",
              "      <td>2021-03-01T00:00:00.000</td>\n",
              "      <td>PTSU</td>\n",
              "      <td>Pre-Trial Supervision Unit</td>\n",
              "      <td>Criminal Justice Clients under Pre-Trial Services</td>\n",
              "      <td>946</td>\n",
              "    </tr>\n",
              "    <tr>\n",
              "      <th>1</th>\n",
              "      <td>2021-03-01T00:00:00.000</td>\n",
              "      <td>MCCF</td>\n",
              "      <td>Montgomery County Correctional Facility</td>\n",
              "      <td>Inmates in DOCR Custody</td>\n",
              "      <td>505</td>\n",
              "    </tr>\n",
              "    <tr>\n",
              "      <th>2</th>\n",
              "      <td>2021-03-01T00:00:00.000</td>\n",
              "      <td>PRRS</td>\n",
              "      <td>Pre-Release and Re-Entry Services</td>\n",
              "      <td>Inmates in DOCR Custody</td>\n",
              "      <td>0</td>\n",
              "    </tr>\n",
              "    <tr>\n",
              "      <th>3</th>\n",
              "      <td>2021-03-01T00:00:00.000</td>\n",
              "      <td>ACS</td>\n",
              "      <td>Alternative Community Services</td>\n",
              "      <td>Criminal Justice Clients under Pre-Trial Services</td>\n",
              "      <td>301</td>\n",
              "    </tr>\n",
              "    <tr>\n",
              "      <th>4</th>\n",
              "      <td>2021-03-01T00:00:00.000</td>\n",
              "      <td>IPSA</td>\n",
              "      <td>Intervention Program for Substance Abusers</td>\n",
              "      <td>Criminal Justice Clients under Pre-Trial Services</td>\n",
              "      <td>67</td>\n",
              "    </tr>\n",
              "  </tbody>\n",
              "</table>\n",
              "</div>"
            ],
            "text/plain": [
              "                      Date  ... Avg. Daily Pop.\n",
              "0  2021-03-01T00:00:00.000  ...             946\n",
              "1  2021-03-01T00:00:00.000  ...             505\n",
              "2  2021-03-01T00:00:00.000  ...               0\n",
              "3  2021-03-01T00:00:00.000  ...             301\n",
              "4  2021-03-01T00:00:00.000  ...              67\n",
              "\n",
              "[5 rows x 5 columns]"
            ]
          },
          "metadata": {
            "tags": []
          },
          "execution_count": 192
        }
      ]
    },
    {
      "cell_type": "code",
      "metadata": {
        "colab": {
          "base_uri": "https://localhost:8080/"
        },
        "id": "AjL-HLvKaEY_",
        "outputId": "d54ed64b-dd4c-4f8e-957d-f322419102be"
      },
      "source": [
        "# Stripping time but this strip does not remain in further code\n",
        "df_1['Date'].str.rstrip('T00:00:00.000')"
      ],
      "execution_count": 193,
      "outputs": [
        {
          "output_type": "execute_result",
          "data": {
            "text/plain": [
              "0      2021-03-01\n",
              "1      2021-03-01\n",
              "2      2021-03-01\n",
              "3      2021-03-01\n",
              "4      2021-03-01\n",
              "          ...    \n",
              "445    2015-01-01\n",
              "446    2015-01-01\n",
              "447    2015-01-01\n",
              "448    2015-01-01\n",
              "449    2015-01-01\n",
              "Name: Date, Length: 450, dtype: object"
            ]
          },
          "metadata": {
            "tags": []
          },
          "execution_count": 193
        }
      ]
    },
    {
      "cell_type": "code",
      "metadata": {
        "colab": {
          "base_uri": "https://localhost:8080/"
        },
        "id": "eH0gD6p8aT7m",
        "outputId": "bb2e2105-251c-4873-db3d-6ed2d0af4898"
      },
      "source": [
        "# Checking data types for each column\n",
        "print(df_1.dtypes)"
      ],
      "execution_count": 194,
      "outputs": [
        {
          "output_type": "stream",
          "text": [
            "Date               object\n",
            "DSCC Abbr.         object\n",
            "DSCC Names         object\n",
            "category           object\n",
            "Avg. Daily Pop.     int64\n",
            "dtype: object\n"
          ],
          "name": "stdout"
        }
      ]
    },
    {
      "cell_type": "code",
      "metadata": {
        "colab": {
          "base_uri": "https://localhost:8080/"
        },
        "id": "qFXF_8z1aV-K",
        "outputId": "96d609df-7bb8-485b-ac6b-ad0cff2dd39b"
      },
      "source": [
        "#Checking Shape\n",
        "print(df_1.shape)"
      ],
      "execution_count": 195,
      "outputs": [
        {
          "output_type": "stream",
          "text": [
            "(450, 5)\n"
          ],
          "name": "stdout"
        }
      ]
    },
    {
      "cell_type": "code",
      "metadata": {
        "colab": {
          "base_uri": "https://localhost:8080/",
          "height": 284
        },
        "id": "R7uGn81cacFo",
        "outputId": "83ee8059-f9c7-49c7-e6f3-3faddd4690f9"
      },
      "source": [
        "# Describe\n",
        "df_1.describe()"
      ],
      "execution_count": 196,
      "outputs": [
        {
          "output_type": "execute_result",
          "data": {
            "text/html": [
              "<div>\n",
              "<style scoped>\n",
              "    .dataframe tbody tr th:only-of-type {\n",
              "        vertical-align: middle;\n",
              "    }\n",
              "\n",
              "    .dataframe tbody tr th {\n",
              "        vertical-align: top;\n",
              "    }\n",
              "\n",
              "    .dataframe thead th {\n",
              "        text-align: right;\n",
              "    }\n",
              "</style>\n",
              "<table border=\"1\" class=\"dataframe\">\n",
              "  <thead>\n",
              "    <tr style=\"text-align: right;\">\n",
              "      <th></th>\n",
              "      <th>Avg. Daily Pop.</th>\n",
              "    </tr>\n",
              "  </thead>\n",
              "  <tbody>\n",
              "    <tr>\n",
              "      <th>count</th>\n",
              "      <td>450.000000</td>\n",
              "    </tr>\n",
              "    <tr>\n",
              "      <th>mean</th>\n",
              "      <td>373.493333</td>\n",
              "    </tr>\n",
              "    <tr>\n",
              "      <th>std</th>\n",
              "      <td>292.028061</td>\n",
              "    </tr>\n",
              "    <tr>\n",
              "      <th>min</th>\n",
              "      <td>0.000000</td>\n",
              "    </tr>\n",
              "    <tr>\n",
              "      <th>25%</th>\n",
              "      <td>107.000000</td>\n",
              "    </tr>\n",
              "    <tr>\n",
              "      <th>50%</th>\n",
              "      <td>235.500000</td>\n",
              "    </tr>\n",
              "    <tr>\n",
              "      <th>75%</th>\n",
              "      <td>626.750000</td>\n",
              "    </tr>\n",
              "    <tr>\n",
              "      <th>max</th>\n",
              "      <td>1025.000000</td>\n",
              "    </tr>\n",
              "  </tbody>\n",
              "</table>\n",
              "</div>"
            ],
            "text/plain": [
              "       Avg. Daily Pop.\n",
              "count       450.000000\n",
              "mean        373.493333\n",
              "std         292.028061\n",
              "min           0.000000\n",
              "25%         107.000000\n",
              "50%         235.500000\n",
              "75%         626.750000\n",
              "max        1025.000000"
            ]
          },
          "metadata": {
            "tags": []
          },
          "execution_count": 196
        }
      ]
    },
    {
      "cell_type": "code",
      "metadata": {
        "colab": {
          "base_uri": "https://localhost:8080/",
          "height": 402
        },
        "id": "hjuhsY6dagMx",
        "outputId": "51e9dd83-1fe6-4d04-edc7-7cdafa690894"
      },
      "source": [
        "# Check null \n",
        "df_1.isnull()"
      ],
      "execution_count": 197,
      "outputs": [
        {
          "output_type": "execute_result",
          "data": {
            "text/html": [
              "<div>\n",
              "<style scoped>\n",
              "    .dataframe tbody tr th:only-of-type {\n",
              "        vertical-align: middle;\n",
              "    }\n",
              "\n",
              "    .dataframe tbody tr th {\n",
              "        vertical-align: top;\n",
              "    }\n",
              "\n",
              "    .dataframe thead th {\n",
              "        text-align: right;\n",
              "    }\n",
              "</style>\n",
              "<table border=\"1\" class=\"dataframe\">\n",
              "  <thead>\n",
              "    <tr style=\"text-align: right;\">\n",
              "      <th></th>\n",
              "      <th>Date</th>\n",
              "      <th>DSCC Abbr.</th>\n",
              "      <th>DSCC Names</th>\n",
              "      <th>category</th>\n",
              "      <th>Avg. Daily Pop.</th>\n",
              "    </tr>\n",
              "  </thead>\n",
              "  <tbody>\n",
              "    <tr>\n",
              "      <th>0</th>\n",
              "      <td>False</td>\n",
              "      <td>False</td>\n",
              "      <td>False</td>\n",
              "      <td>False</td>\n",
              "      <td>False</td>\n",
              "    </tr>\n",
              "    <tr>\n",
              "      <th>1</th>\n",
              "      <td>False</td>\n",
              "      <td>False</td>\n",
              "      <td>False</td>\n",
              "      <td>False</td>\n",
              "      <td>False</td>\n",
              "    </tr>\n",
              "    <tr>\n",
              "      <th>2</th>\n",
              "      <td>False</td>\n",
              "      <td>False</td>\n",
              "      <td>False</td>\n",
              "      <td>False</td>\n",
              "      <td>False</td>\n",
              "    </tr>\n",
              "    <tr>\n",
              "      <th>3</th>\n",
              "      <td>False</td>\n",
              "      <td>False</td>\n",
              "      <td>False</td>\n",
              "      <td>False</td>\n",
              "      <td>False</td>\n",
              "    </tr>\n",
              "    <tr>\n",
              "      <th>4</th>\n",
              "      <td>False</td>\n",
              "      <td>False</td>\n",
              "      <td>False</td>\n",
              "      <td>False</td>\n",
              "      <td>False</td>\n",
              "    </tr>\n",
              "    <tr>\n",
              "      <th>...</th>\n",
              "      <td>...</td>\n",
              "      <td>...</td>\n",
              "      <td>...</td>\n",
              "      <td>...</td>\n",
              "      <td>...</td>\n",
              "    </tr>\n",
              "    <tr>\n",
              "      <th>445</th>\n",
              "      <td>False</td>\n",
              "      <td>False</td>\n",
              "      <td>False</td>\n",
              "      <td>False</td>\n",
              "      <td>False</td>\n",
              "    </tr>\n",
              "    <tr>\n",
              "      <th>446</th>\n",
              "      <td>False</td>\n",
              "      <td>False</td>\n",
              "      <td>False</td>\n",
              "      <td>False</td>\n",
              "      <td>False</td>\n",
              "    </tr>\n",
              "    <tr>\n",
              "      <th>447</th>\n",
              "      <td>False</td>\n",
              "      <td>False</td>\n",
              "      <td>False</td>\n",
              "      <td>False</td>\n",
              "      <td>False</td>\n",
              "    </tr>\n",
              "    <tr>\n",
              "      <th>448</th>\n",
              "      <td>False</td>\n",
              "      <td>False</td>\n",
              "      <td>False</td>\n",
              "      <td>False</td>\n",
              "      <td>False</td>\n",
              "    </tr>\n",
              "    <tr>\n",
              "      <th>449</th>\n",
              "      <td>False</td>\n",
              "      <td>False</td>\n",
              "      <td>False</td>\n",
              "      <td>False</td>\n",
              "      <td>False</td>\n",
              "    </tr>\n",
              "  </tbody>\n",
              "</table>\n",
              "<p>450 rows × 5 columns</p>\n",
              "</div>"
            ],
            "text/plain": [
              "      Date  DSCC Abbr.  DSCC Names  category  Avg. Daily Pop.\n",
              "0    False       False       False     False            False\n",
              "1    False       False       False     False            False\n",
              "2    False       False       False     False            False\n",
              "3    False       False       False     False            False\n",
              "4    False       False       False     False            False\n",
              "..     ...         ...         ...       ...              ...\n",
              "445  False       False       False     False            False\n",
              "446  False       False       False     False            False\n",
              "447  False       False       False     False            False\n",
              "448  False       False       False     False            False\n",
              "449  False       False       False     False            False\n",
              "\n",
              "[450 rows x 5 columns]"
            ]
          },
          "metadata": {
            "tags": []
          },
          "execution_count": 197
        }
      ]
    },
    {
      "cell_type": "code",
      "metadata": {
        "colab": {
          "base_uri": "https://localhost:8080/"
        },
        "id": "CwE8KqiRajLu",
        "outputId": "d5d7905d-64a4-41d1-ba9a-e708b1e5a9a4"
      },
      "source": [
        "# Null sum\n",
        "df_1.isnull().sum()"
      ],
      "execution_count": 198,
      "outputs": [
        {
          "output_type": "execute_result",
          "data": {
            "text/plain": [
              "Date               0\n",
              "DSCC Abbr.         0\n",
              "DSCC Names         0\n",
              "category           0\n",
              "Avg. Daily Pop.    0\n",
              "dtype: int64"
            ]
          },
          "metadata": {
            "tags": []
          },
          "execution_count": 198
        }
      ]
    },
    {
      "cell_type": "code",
      "metadata": {
        "id": "rEeEaDoqapqS"
      },
      "source": [
        "# Basic Plots with Matplotlib\n",
        "import matplotlib as mpl\n",
        "import matplotlib.pyplot as plt\n",
        "plt.style.use('classic')"
      ],
      "execution_count": 199,
      "outputs": []
    },
    {
      "cell_type": "code",
      "metadata": {
        "id": "Bg4g8VpJn1W0"
      },
      "source": [
        "# Changing Date to datetime\n",
        "df_1.Date = pd.to_datetime(df_1.Date)"
      ],
      "execution_count": 200,
      "outputs": []
    },
    {
      "cell_type": "code",
      "metadata": {
        "colab": {
          "base_uri": "https://localhost:8080/",
          "height": 586
        },
        "id": "4lB_Wq_vas8g",
        "outputId": "9cbee12b-605d-4b83-ebce-ee5712cb0e10"
      },
      "source": [
        "# group by Month/Year\n",
        "df_1_time = df_1.groupby('Date')\n",
        "df_1_time.head()"
      ],
      "execution_count": 201,
      "outputs": [
        {
          "output_type": "execute_result",
          "data": {
            "text/html": [
              "<div>\n",
              "<style scoped>\n",
              "    .dataframe tbody tr th:only-of-type {\n",
              "        vertical-align: middle;\n",
              "    }\n",
              "\n",
              "    .dataframe tbody tr th {\n",
              "        vertical-align: top;\n",
              "    }\n",
              "\n",
              "    .dataframe thead th {\n",
              "        text-align: right;\n",
              "    }\n",
              "</style>\n",
              "<table border=\"1\" class=\"dataframe\">\n",
              "  <thead>\n",
              "    <tr style=\"text-align: right;\">\n",
              "      <th></th>\n",
              "      <th>Date</th>\n",
              "      <th>DSCC Abbr.</th>\n",
              "      <th>DSCC Names</th>\n",
              "      <th>category</th>\n",
              "      <th>Avg. Daily Pop.</th>\n",
              "    </tr>\n",
              "  </thead>\n",
              "  <tbody>\n",
              "    <tr>\n",
              "      <th>0</th>\n",
              "      <td>2021-03-01</td>\n",
              "      <td>PTSU</td>\n",
              "      <td>Pre-Trial Supervision Unit</td>\n",
              "      <td>Criminal Justice Clients under Pre-Trial Services</td>\n",
              "      <td>946</td>\n",
              "    </tr>\n",
              "    <tr>\n",
              "      <th>1</th>\n",
              "      <td>2021-03-01</td>\n",
              "      <td>MCCF</td>\n",
              "      <td>Montgomery County Correctional Facility</td>\n",
              "      <td>Inmates in DOCR Custody</td>\n",
              "      <td>505</td>\n",
              "    </tr>\n",
              "    <tr>\n",
              "      <th>2</th>\n",
              "      <td>2021-03-01</td>\n",
              "      <td>PRRS</td>\n",
              "      <td>Pre-Release and Re-Entry Services</td>\n",
              "      <td>Inmates in DOCR Custody</td>\n",
              "      <td>0</td>\n",
              "    </tr>\n",
              "    <tr>\n",
              "      <th>3</th>\n",
              "      <td>2021-03-01</td>\n",
              "      <td>ACS</td>\n",
              "      <td>Alternative Community Services</td>\n",
              "      <td>Criminal Justice Clients under Pre-Trial Services</td>\n",
              "      <td>301</td>\n",
              "    </tr>\n",
              "    <tr>\n",
              "      <th>4</th>\n",
              "      <td>2021-03-01</td>\n",
              "      <td>IPSA</td>\n",
              "      <td>Intervention Program for Substance Abusers</td>\n",
              "      <td>Criminal Justice Clients under Pre-Trial Services</td>\n",
              "      <td>67</td>\n",
              "    </tr>\n",
              "    <tr>\n",
              "      <th>...</th>\n",
              "      <td>...</td>\n",
              "      <td>...</td>\n",
              "      <td>...</td>\n",
              "      <td>...</td>\n",
              "      <td>...</td>\n",
              "    </tr>\n",
              "    <tr>\n",
              "      <th>444</th>\n",
              "      <td>2015-01-01</td>\n",
              "      <td>PRRS</td>\n",
              "      <td>Pre-Release and Re-Entry Services</td>\n",
              "      <td>Inmates in DOCR Custody</td>\n",
              "      <td>162</td>\n",
              "    </tr>\n",
              "    <tr>\n",
              "      <th>445</th>\n",
              "      <td>2015-01-01</td>\n",
              "      <td>PTSU</td>\n",
              "      <td>Pre-Trial Supervision Unit</td>\n",
              "      <td>Criminal Justice Clients under Pre-Trial Services</td>\n",
              "      <td>718</td>\n",
              "    </tr>\n",
              "    <tr>\n",
              "      <th>446</th>\n",
              "      <td>2015-01-01</td>\n",
              "      <td>MCDC</td>\n",
              "      <td>Montgomery County Detention Center</td>\n",
              "      <td>Inmates in DOCR Custody</td>\n",
              "      <td>77</td>\n",
              "    </tr>\n",
              "    <tr>\n",
              "      <th>447</th>\n",
              "      <td>2015-01-01</td>\n",
              "      <td>MCCF</td>\n",
              "      <td>Montgomery County Correctional Facility</td>\n",
              "      <td>Inmates in DOCR Custody</td>\n",
              "      <td>505</td>\n",
              "    </tr>\n",
              "    <tr>\n",
              "      <th>448</th>\n",
              "      <td>2015-01-01</td>\n",
              "      <td>ACS</td>\n",
              "      <td>Alternative Community Services</td>\n",
              "      <td>Criminal Justice Clients under Pre-Trial Services</td>\n",
              "      <td>721</td>\n",
              "    </tr>\n",
              "  </tbody>\n",
              "</table>\n",
              "<p>375 rows × 5 columns</p>\n",
              "</div>"
            ],
            "text/plain": [
              "          Date  ... Avg. Daily Pop.\n",
              "0   2021-03-01  ...             946\n",
              "1   2021-03-01  ...             505\n",
              "2   2021-03-01  ...               0\n",
              "3   2021-03-01  ...             301\n",
              "4   2021-03-01  ...              67\n",
              "..         ...  ...             ...\n",
              "444 2015-01-01  ...             162\n",
              "445 2015-01-01  ...             718\n",
              "446 2015-01-01  ...              77\n",
              "447 2015-01-01  ...             505\n",
              "448 2015-01-01  ...             721\n",
              "\n",
              "[375 rows x 5 columns]"
            ]
          },
          "metadata": {
            "tags": []
          },
          "execution_count": 201
        }
      ]
    },
    {
      "cell_type": "code",
      "metadata": {
        "colab": {
          "base_uri": "https://localhost:8080/",
          "height": 1000
        },
        "id": "EjcJHvxDbKwT",
        "outputId": "4e14ba7a-d544-4d28-b2fc-a6c01a249b3c"
      },
      "source": [
        "# Arrange by DSCC Abbreviation - did not work\n",
        "df_1_abbr = df_1.groupby('DSCC Abbr.')\n",
        "df_1_abbr.head()"
      ],
      "execution_count": 202,
      "outputs": [
        {
          "output_type": "execute_result",
          "data": {
            "text/html": [
              "<div>\n",
              "<style scoped>\n",
              "    .dataframe tbody tr th:only-of-type {\n",
              "        vertical-align: middle;\n",
              "    }\n",
              "\n",
              "    .dataframe tbody tr th {\n",
              "        vertical-align: top;\n",
              "    }\n",
              "\n",
              "    .dataframe thead th {\n",
              "        text-align: right;\n",
              "    }\n",
              "</style>\n",
              "<table border=\"1\" class=\"dataframe\">\n",
              "  <thead>\n",
              "    <tr style=\"text-align: right;\">\n",
              "      <th></th>\n",
              "      <th>Date</th>\n",
              "      <th>DSCC Abbr.</th>\n",
              "      <th>DSCC Names</th>\n",
              "      <th>category</th>\n",
              "      <th>Avg. Daily Pop.</th>\n",
              "    </tr>\n",
              "  </thead>\n",
              "  <tbody>\n",
              "    <tr>\n",
              "      <th>0</th>\n",
              "      <td>2021-03-01</td>\n",
              "      <td>PTSU</td>\n",
              "      <td>Pre-Trial Supervision Unit</td>\n",
              "      <td>Criminal Justice Clients under Pre-Trial Services</td>\n",
              "      <td>946</td>\n",
              "    </tr>\n",
              "    <tr>\n",
              "      <th>1</th>\n",
              "      <td>2021-03-01</td>\n",
              "      <td>MCCF</td>\n",
              "      <td>Montgomery County Correctional Facility</td>\n",
              "      <td>Inmates in DOCR Custody</td>\n",
              "      <td>505</td>\n",
              "    </tr>\n",
              "    <tr>\n",
              "      <th>2</th>\n",
              "      <td>2021-03-01</td>\n",
              "      <td>PRRS</td>\n",
              "      <td>Pre-Release and Re-Entry Services</td>\n",
              "      <td>Inmates in DOCR Custody</td>\n",
              "      <td>0</td>\n",
              "    </tr>\n",
              "    <tr>\n",
              "      <th>3</th>\n",
              "      <td>2021-03-01</td>\n",
              "      <td>ACS</td>\n",
              "      <td>Alternative Community Services</td>\n",
              "      <td>Criminal Justice Clients under Pre-Trial Services</td>\n",
              "      <td>301</td>\n",
              "    </tr>\n",
              "    <tr>\n",
              "      <th>4</th>\n",
              "      <td>2021-03-01</td>\n",
              "      <td>IPSA</td>\n",
              "      <td>Intervention Program for Substance Abusers</td>\n",
              "      <td>Criminal Justice Clients under Pre-Trial Services</td>\n",
              "      <td>67</td>\n",
              "    </tr>\n",
              "    <tr>\n",
              "      <th>5</th>\n",
              "      <td>2021-03-01</td>\n",
              "      <td>MCDC</td>\n",
              "      <td>Montgomery County Detention Center</td>\n",
              "      <td>Inmates in DOCR Custody</td>\n",
              "      <td>51</td>\n",
              "    </tr>\n",
              "    <tr>\n",
              "      <th>6</th>\n",
              "      <td>2021-02-01</td>\n",
              "      <td>MCDC</td>\n",
              "      <td>Montgomery County Detention Center</td>\n",
              "      <td>Inmates in DOCR Custody</td>\n",
              "      <td>50</td>\n",
              "    </tr>\n",
              "    <tr>\n",
              "      <th>7</th>\n",
              "      <td>2021-02-01</td>\n",
              "      <td>PTSU</td>\n",
              "      <td>Pre-Trial Supervision Unit</td>\n",
              "      <td>Criminal Justice Clients under Pre-Trial Services</td>\n",
              "      <td>918</td>\n",
              "    </tr>\n",
              "    <tr>\n",
              "      <th>8</th>\n",
              "      <td>2021-02-01</td>\n",
              "      <td>MCCF</td>\n",
              "      <td>Montgomery County Correctional Facility</td>\n",
              "      <td>Inmates in DOCR Custody</td>\n",
              "      <td>485</td>\n",
              "    </tr>\n",
              "    <tr>\n",
              "      <th>9</th>\n",
              "      <td>2021-02-01</td>\n",
              "      <td>IPSA</td>\n",
              "      <td>Intervention Program for Substance Abusers</td>\n",
              "      <td>Criminal Justice Clients under Pre-Trial Services</td>\n",
              "      <td>68</td>\n",
              "    </tr>\n",
              "    <tr>\n",
              "      <th>10</th>\n",
              "      <td>2021-02-01</td>\n",
              "      <td>ACS</td>\n",
              "      <td>Alternative Community Services</td>\n",
              "      <td>Criminal Justice Clients under Pre-Trial Services</td>\n",
              "      <td>325</td>\n",
              "    </tr>\n",
              "    <tr>\n",
              "      <th>11</th>\n",
              "      <td>2021-02-01</td>\n",
              "      <td>PRRS</td>\n",
              "      <td>Pre-Release and Re-Entry Services</td>\n",
              "      <td>Inmates in DOCR Custody</td>\n",
              "      <td>0</td>\n",
              "    </tr>\n",
              "    <tr>\n",
              "      <th>12</th>\n",
              "      <td>2021-01-01</td>\n",
              "      <td>PTSU</td>\n",
              "      <td>Pre-Trial Supervision Unit</td>\n",
              "      <td>Criminal Justice Clients under Pre-Trial Services</td>\n",
              "      <td>909</td>\n",
              "    </tr>\n",
              "    <tr>\n",
              "      <th>13</th>\n",
              "      <td>2021-01-01</td>\n",
              "      <td>MCDC</td>\n",
              "      <td>Montgomery County Detention Center</td>\n",
              "      <td>Inmates in DOCR Custody</td>\n",
              "      <td>53</td>\n",
              "    </tr>\n",
              "    <tr>\n",
              "      <th>14</th>\n",
              "      <td>2021-01-01</td>\n",
              "      <td>MCCF</td>\n",
              "      <td>Montgomery County Correctional Facility</td>\n",
              "      <td>Inmates in DOCR Custody</td>\n",
              "      <td>481</td>\n",
              "    </tr>\n",
              "    <tr>\n",
              "      <th>15</th>\n",
              "      <td>2021-01-01</td>\n",
              "      <td>ACS</td>\n",
              "      <td>Alternative Community Services</td>\n",
              "      <td>Criminal Justice Clients under Pre-Trial Services</td>\n",
              "      <td>335</td>\n",
              "    </tr>\n",
              "    <tr>\n",
              "      <th>16</th>\n",
              "      <td>2021-01-01</td>\n",
              "      <td>PRRS</td>\n",
              "      <td>Pre-Release and Re-Entry Services</td>\n",
              "      <td>Inmates in DOCR Custody</td>\n",
              "      <td>0</td>\n",
              "    </tr>\n",
              "    <tr>\n",
              "      <th>17</th>\n",
              "      <td>2021-01-01</td>\n",
              "      <td>IPSA</td>\n",
              "      <td>Intervention Program for Substance Abusers</td>\n",
              "      <td>Criminal Justice Clients under Pre-Trial Services</td>\n",
              "      <td>69</td>\n",
              "    </tr>\n",
              "    <tr>\n",
              "      <th>18</th>\n",
              "      <td>2020-12-01</td>\n",
              "      <td>PRRS</td>\n",
              "      <td>Pre-Release and Re-Entry Services</td>\n",
              "      <td>Inmates in DOCR Custody</td>\n",
              "      <td>0</td>\n",
              "    </tr>\n",
              "    <tr>\n",
              "      <th>19</th>\n",
              "      <td>2020-12-01</td>\n",
              "      <td>IPSA</td>\n",
              "      <td>Intervention Program for Substance Abusers</td>\n",
              "      <td>Criminal Justice Clients under Pre-Trial Services</td>\n",
              "      <td>69</td>\n",
              "    </tr>\n",
              "    <tr>\n",
              "      <th>20</th>\n",
              "      <td>2020-12-01</td>\n",
              "      <td>PTSU</td>\n",
              "      <td>Pre-Trial Supervision Unit</td>\n",
              "      <td>Criminal Justice Clients under Pre-Trial Services</td>\n",
              "      <td>867</td>\n",
              "    </tr>\n",
              "    <tr>\n",
              "      <th>21</th>\n",
              "      <td>2020-12-01</td>\n",
              "      <td>MCDC</td>\n",
              "      <td>Montgomery County Detention Center</td>\n",
              "      <td>Inmates in DOCR Custody</td>\n",
              "      <td>47</td>\n",
              "    </tr>\n",
              "    <tr>\n",
              "      <th>22</th>\n",
              "      <td>2020-12-01</td>\n",
              "      <td>MCCF</td>\n",
              "      <td>Montgomery County Correctional Facility</td>\n",
              "      <td>Inmates in DOCR Custody</td>\n",
              "      <td>514</td>\n",
              "    </tr>\n",
              "    <tr>\n",
              "      <th>23</th>\n",
              "      <td>2020-12-01</td>\n",
              "      <td>ACS</td>\n",
              "      <td>Alternative Community Services</td>\n",
              "      <td>Criminal Justice Clients under Pre-Trial Services</td>\n",
              "      <td>343</td>\n",
              "    </tr>\n",
              "    <tr>\n",
              "      <th>24</th>\n",
              "      <td>2020-11-01</td>\n",
              "      <td>IPSA</td>\n",
              "      <td>Intervention Program for Substance Abusers</td>\n",
              "      <td>Criminal Justice Clients under Pre-Trial Services</td>\n",
              "      <td>70</td>\n",
              "    </tr>\n",
              "    <tr>\n",
              "      <th>25</th>\n",
              "      <td>2020-11-01</td>\n",
              "      <td>MCDC</td>\n",
              "      <td>Montgomery County Detention Center</td>\n",
              "      <td>Inmates in DOCR Custody</td>\n",
              "      <td>65</td>\n",
              "    </tr>\n",
              "    <tr>\n",
              "      <th>26</th>\n",
              "      <td>2020-11-01</td>\n",
              "      <td>MCCF</td>\n",
              "      <td>Montgomery County Correctional Facility</td>\n",
              "      <td>Inmates in DOCR Custody</td>\n",
              "      <td>530</td>\n",
              "    </tr>\n",
              "    <tr>\n",
              "      <th>27</th>\n",
              "      <td>2020-11-01</td>\n",
              "      <td>PRRS</td>\n",
              "      <td>Pre-Release and Re-Entry Services</td>\n",
              "      <td>Inmates in DOCR Custody</td>\n",
              "      <td>0</td>\n",
              "    </tr>\n",
              "    <tr>\n",
              "      <th>28</th>\n",
              "      <td>2020-11-01</td>\n",
              "      <td>PTSU</td>\n",
              "      <td>Pre-Trial Supervision Unit</td>\n",
              "      <td>Criminal Justice Clients under Pre-Trial Services</td>\n",
              "      <td>838</td>\n",
              "    </tr>\n",
              "    <tr>\n",
              "      <th>29</th>\n",
              "      <td>2020-11-01</td>\n",
              "      <td>ACS</td>\n",
              "      <td>Alternative Community Services</td>\n",
              "      <td>Criminal Justice Clients under Pre-Trial Services</td>\n",
              "      <td>361</td>\n",
              "    </tr>\n",
              "  </tbody>\n",
              "</table>\n",
              "</div>"
            ],
            "text/plain": [
              "         Date  ... Avg. Daily Pop.\n",
              "0  2021-03-01  ...             946\n",
              "1  2021-03-01  ...             505\n",
              "2  2021-03-01  ...               0\n",
              "3  2021-03-01  ...             301\n",
              "4  2021-03-01  ...              67\n",
              "5  2021-03-01  ...              51\n",
              "6  2021-02-01  ...              50\n",
              "7  2021-02-01  ...             918\n",
              "8  2021-02-01  ...             485\n",
              "9  2021-02-01  ...              68\n",
              "10 2021-02-01  ...             325\n",
              "11 2021-02-01  ...               0\n",
              "12 2021-01-01  ...             909\n",
              "13 2021-01-01  ...              53\n",
              "14 2021-01-01  ...             481\n",
              "15 2021-01-01  ...             335\n",
              "16 2021-01-01  ...               0\n",
              "17 2021-01-01  ...              69\n",
              "18 2020-12-01  ...               0\n",
              "19 2020-12-01  ...              69\n",
              "20 2020-12-01  ...             867\n",
              "21 2020-12-01  ...              47\n",
              "22 2020-12-01  ...             514\n",
              "23 2020-12-01  ...             343\n",
              "24 2020-11-01  ...              70\n",
              "25 2020-11-01  ...              65\n",
              "26 2020-11-01  ...             530\n",
              "27 2020-11-01  ...               0\n",
              "28 2020-11-01  ...             838\n",
              "29 2020-11-01  ...             361\n",
              "\n",
              "[30 rows x 5 columns]"
            ]
          },
          "metadata": {
            "tags": []
          },
          "execution_count": 202
        }
      ]
    },
    {
      "cell_type": "code",
      "metadata": {
        "colab": {
          "base_uri": "https://localhost:8080/",
          "height": 1000
        },
        "id": "4b6OdX8jbkLx",
        "outputId": "840e4f50-9d96-4f7b-ed0d-c6daac285fab"
      },
      "source": [
        "# Arrange by DSCC Abbreviation then by sort by Date\n",
        "df_1_abbr2 = df_1.groupby('DSCC Abbr.').apply(lambda x: x.sort_values('Date'))\n",
        "df_1_abbr2.head(30)"
      ],
      "execution_count": 203,
      "outputs": [
        {
          "output_type": "execute_result",
          "data": {
            "text/html": [
              "<div>\n",
              "<style scoped>\n",
              "    .dataframe tbody tr th:only-of-type {\n",
              "        vertical-align: middle;\n",
              "    }\n",
              "\n",
              "    .dataframe tbody tr th {\n",
              "        vertical-align: top;\n",
              "    }\n",
              "\n",
              "    .dataframe thead th {\n",
              "        text-align: right;\n",
              "    }\n",
              "</style>\n",
              "<table border=\"1\" class=\"dataframe\">\n",
              "  <thead>\n",
              "    <tr style=\"text-align: right;\">\n",
              "      <th></th>\n",
              "      <th></th>\n",
              "      <th>Date</th>\n",
              "      <th>DSCC Abbr.</th>\n",
              "      <th>DSCC Names</th>\n",
              "      <th>category</th>\n",
              "      <th>Avg. Daily Pop.</th>\n",
              "    </tr>\n",
              "    <tr>\n",
              "      <th>DSCC Abbr.</th>\n",
              "      <th></th>\n",
              "      <th></th>\n",
              "      <th></th>\n",
              "      <th></th>\n",
              "      <th></th>\n",
              "      <th></th>\n",
              "    </tr>\n",
              "  </thead>\n",
              "  <tbody>\n",
              "    <tr>\n",
              "      <th rowspan=\"30\" valign=\"top\">ACS</th>\n",
              "      <th>448</th>\n",
              "      <td>2015-01-01</td>\n",
              "      <td>ACS</td>\n",
              "      <td>Alternative Community Services</td>\n",
              "      <td>Criminal Justice Clients under Pre-Trial Services</td>\n",
              "      <td>721</td>\n",
              "    </tr>\n",
              "    <tr>\n",
              "      <th>443</th>\n",
              "      <td>2015-02-01</td>\n",
              "      <td>ACS</td>\n",
              "      <td>Alternative Community Services</td>\n",
              "      <td>Criminal Justice Clients under Pre-Trial Services</td>\n",
              "      <td>738</td>\n",
              "    </tr>\n",
              "    <tr>\n",
              "      <th>437</th>\n",
              "      <td>2015-03-01</td>\n",
              "      <td>ACS</td>\n",
              "      <td>Alternative Community Services</td>\n",
              "      <td>Criminal Justice Clients under Pre-Trial Services</td>\n",
              "      <td>749</td>\n",
              "    </tr>\n",
              "    <tr>\n",
              "      <th>431</th>\n",
              "      <td>2015-04-01</td>\n",
              "      <td>ACS</td>\n",
              "      <td>Alternative Community Services</td>\n",
              "      <td>Criminal Justice Clients under Pre-Trial Services</td>\n",
              "      <td>780</td>\n",
              "    </tr>\n",
              "    <tr>\n",
              "      <th>423</th>\n",
              "      <td>2015-05-01</td>\n",
              "      <td>ACS</td>\n",
              "      <td>Alternative Community Services</td>\n",
              "      <td>Criminal Justice Clients under Pre-Trial Services</td>\n",
              "      <td>751</td>\n",
              "    </tr>\n",
              "    <tr>\n",
              "      <th>416</th>\n",
              "      <td>2015-06-01</td>\n",
              "      <td>ACS</td>\n",
              "      <td>Alternative Community Services</td>\n",
              "      <td>Criminal Justice Clients under Pre-Trial Services</td>\n",
              "      <td>699</td>\n",
              "    </tr>\n",
              "    <tr>\n",
              "      <th>411</th>\n",
              "      <td>2015-07-01</td>\n",
              "      <td>ACS</td>\n",
              "      <td>Alternative Community Services</td>\n",
              "      <td>Criminal Justice Clients under Pre-Trial Services</td>\n",
              "      <td>705</td>\n",
              "    </tr>\n",
              "    <tr>\n",
              "      <th>405</th>\n",
              "      <td>2015-08-01</td>\n",
              "      <td>ACS</td>\n",
              "      <td>Alternative Community Services</td>\n",
              "      <td>Criminal Justice Clients under Pre-Trial Services</td>\n",
              "      <td>739</td>\n",
              "    </tr>\n",
              "    <tr>\n",
              "      <th>401</th>\n",
              "      <td>2015-09-01</td>\n",
              "      <td>ACS</td>\n",
              "      <td>Alternative Community Services</td>\n",
              "      <td>Criminal Justice Clients under Pre-Trial Services</td>\n",
              "      <td>703</td>\n",
              "    </tr>\n",
              "    <tr>\n",
              "      <th>392</th>\n",
              "      <td>2015-10-01</td>\n",
              "      <td>ACS</td>\n",
              "      <td>Alternative Community Services</td>\n",
              "      <td>Criminal Justice Clients under Pre-Trial Services</td>\n",
              "      <td>758</td>\n",
              "    </tr>\n",
              "    <tr>\n",
              "      <th>385</th>\n",
              "      <td>2015-11-01</td>\n",
              "      <td>ACS</td>\n",
              "      <td>Alternative Community Services</td>\n",
              "      <td>Criminal Justice Clients under Pre-Trial Services</td>\n",
              "      <td>879</td>\n",
              "    </tr>\n",
              "    <tr>\n",
              "      <th>382</th>\n",
              "      <td>2015-12-01</td>\n",
              "      <td>ACS</td>\n",
              "      <td>Alternative Community Services</td>\n",
              "      <td>Criminal Justice Clients under Pre-Trial Services</td>\n",
              "      <td>882</td>\n",
              "    </tr>\n",
              "    <tr>\n",
              "      <th>377</th>\n",
              "      <td>2016-01-01</td>\n",
              "      <td>ACS</td>\n",
              "      <td>Alternative Community Services</td>\n",
              "      <td>Criminal Justice Clients under Pre-Trial Services</td>\n",
              "      <td>814</td>\n",
              "    </tr>\n",
              "    <tr>\n",
              "      <th>367</th>\n",
              "      <td>2016-02-01</td>\n",
              "      <td>ACS</td>\n",
              "      <td>Alternative Community Services</td>\n",
              "      <td>Criminal Justice Clients under Pre-Trial Services</td>\n",
              "      <td>838</td>\n",
              "    </tr>\n",
              "    <tr>\n",
              "      <th>361</th>\n",
              "      <td>2016-03-01</td>\n",
              "      <td>ACS</td>\n",
              "      <td>Alternative Community Services</td>\n",
              "      <td>Criminal Justice Clients under Pre-Trial Services</td>\n",
              "      <td>885</td>\n",
              "    </tr>\n",
              "    <tr>\n",
              "      <th>355</th>\n",
              "      <td>2016-04-01</td>\n",
              "      <td>ACS</td>\n",
              "      <td>Alternative Community Services</td>\n",
              "      <td>Criminal Justice Clients under Pre-Trial Services</td>\n",
              "      <td>962</td>\n",
              "    </tr>\n",
              "    <tr>\n",
              "      <th>350</th>\n",
              "      <td>2016-05-01</td>\n",
              "      <td>ACS</td>\n",
              "      <td>Alternative Community Services</td>\n",
              "      <td>Criminal Justice Clients under Pre-Trial Services</td>\n",
              "      <td>1025</td>\n",
              "    </tr>\n",
              "    <tr>\n",
              "      <th>346</th>\n",
              "      <td>2016-06-01</td>\n",
              "      <td>ACS</td>\n",
              "      <td>Alternative Community Services</td>\n",
              "      <td>Criminal Justice Clients under Pre-Trial Services</td>\n",
              "      <td>945</td>\n",
              "    </tr>\n",
              "    <tr>\n",
              "      <th>336</th>\n",
              "      <td>2016-07-01</td>\n",
              "      <td>ACS</td>\n",
              "      <td>Alternative Community Services</td>\n",
              "      <td>Criminal Justice Clients under Pre-Trial Services</td>\n",
              "      <td>933</td>\n",
              "    </tr>\n",
              "    <tr>\n",
              "      <th>332</th>\n",
              "      <td>2016-08-01</td>\n",
              "      <td>ACS</td>\n",
              "      <td>Alternative Community Services</td>\n",
              "      <td>Criminal Justice Clients under Pre-Trial Services</td>\n",
              "      <td>948</td>\n",
              "    </tr>\n",
              "    <tr>\n",
              "      <th>326</th>\n",
              "      <td>2016-09-01</td>\n",
              "      <td>ACS</td>\n",
              "      <td>Alternative Community Services</td>\n",
              "      <td>Criminal Justice Clients under Pre-Trial Services</td>\n",
              "      <td>955</td>\n",
              "    </tr>\n",
              "    <tr>\n",
              "      <th>320</th>\n",
              "      <td>2016-10-01</td>\n",
              "      <td>ACS</td>\n",
              "      <td>Alternative Community Services</td>\n",
              "      <td>Criminal Justice Clients under Pre-Trial Services</td>\n",
              "      <td>894</td>\n",
              "    </tr>\n",
              "    <tr>\n",
              "      <th>317</th>\n",
              "      <td>2016-11-01</td>\n",
              "      <td>ACS</td>\n",
              "      <td>Alternative Community Services</td>\n",
              "      <td>Criminal Justice Clients under Pre-Trial Services</td>\n",
              "      <td>804</td>\n",
              "    </tr>\n",
              "    <tr>\n",
              "      <th>310</th>\n",
              "      <td>2016-12-01</td>\n",
              "      <td>ACS</td>\n",
              "      <td>Alternative Community Services</td>\n",
              "      <td>Criminal Justice Clients under Pre-Trial Services</td>\n",
              "      <td>729</td>\n",
              "    </tr>\n",
              "    <tr>\n",
              "      <th>301</th>\n",
              "      <td>2017-01-01</td>\n",
              "      <td>ACS</td>\n",
              "      <td>Alternative Community Services</td>\n",
              "      <td>Criminal Justice Clients under Pre-Trial Services</td>\n",
              "      <td>700</td>\n",
              "    </tr>\n",
              "    <tr>\n",
              "      <th>294</th>\n",
              "      <td>2017-02-01</td>\n",
              "      <td>ACS</td>\n",
              "      <td>Alternative Community Services</td>\n",
              "      <td>Criminal Justice Clients under Pre-Trial Services</td>\n",
              "      <td>731</td>\n",
              "    </tr>\n",
              "    <tr>\n",
              "      <th>291</th>\n",
              "      <td>2017-03-01</td>\n",
              "      <td>ACS</td>\n",
              "      <td>Alternative Community Services</td>\n",
              "      <td>Criminal Justice Clients under Pre-Trial Services</td>\n",
              "      <td>703</td>\n",
              "    </tr>\n",
              "    <tr>\n",
              "      <th>286</th>\n",
              "      <td>2017-04-01</td>\n",
              "      <td>ACS</td>\n",
              "      <td>Alternative Community Services</td>\n",
              "      <td>Criminal Justice Clients under Pre-Trial Services</td>\n",
              "      <td>649</td>\n",
              "    </tr>\n",
              "    <tr>\n",
              "      <th>281</th>\n",
              "      <td>2017-05-01</td>\n",
              "      <td>ACS</td>\n",
              "      <td>Alternative Community Services</td>\n",
              "      <td>Criminal Justice Clients under Pre-Trial Services</td>\n",
              "      <td>644</td>\n",
              "    </tr>\n",
              "    <tr>\n",
              "      <th>272</th>\n",
              "      <td>2017-06-01</td>\n",
              "      <td>ACS</td>\n",
              "      <td>Alternative Community Services</td>\n",
              "      <td>Criminal Justice Clients under Pre-Trial Services</td>\n",
              "      <td>645</td>\n",
              "    </tr>\n",
              "  </tbody>\n",
              "</table>\n",
              "</div>"
            ],
            "text/plain": [
              "                     Date  ... Avg. Daily Pop.\n",
              "DSCC Abbr.                 ...                \n",
              "ACS        448 2015-01-01  ...             721\n",
              "           443 2015-02-01  ...             738\n",
              "           437 2015-03-01  ...             749\n",
              "           431 2015-04-01  ...             780\n",
              "           423 2015-05-01  ...             751\n",
              "           416 2015-06-01  ...             699\n",
              "           411 2015-07-01  ...             705\n",
              "           405 2015-08-01  ...             739\n",
              "           401 2015-09-01  ...             703\n",
              "           392 2015-10-01  ...             758\n",
              "           385 2015-11-01  ...             879\n",
              "           382 2015-12-01  ...             882\n",
              "           377 2016-01-01  ...             814\n",
              "           367 2016-02-01  ...             838\n",
              "           361 2016-03-01  ...             885\n",
              "           355 2016-04-01  ...             962\n",
              "           350 2016-05-01  ...            1025\n",
              "           346 2016-06-01  ...             945\n",
              "           336 2016-07-01  ...             933\n",
              "           332 2016-08-01  ...             948\n",
              "           326 2016-09-01  ...             955\n",
              "           320 2016-10-01  ...             894\n",
              "           317 2016-11-01  ...             804\n",
              "           310 2016-12-01  ...             729\n",
              "           301 2017-01-01  ...             700\n",
              "           294 2017-02-01  ...             731\n",
              "           291 2017-03-01  ...             703\n",
              "           286 2017-04-01  ...             649\n",
              "           281 2017-05-01  ...             644\n",
              "           272 2017-06-01  ...             645\n",
              "\n",
              "[30 rows x 5 columns]"
            ]
          },
          "metadata": {
            "tags": []
          },
          "execution_count": 203
        }
      ]
    },
    {
      "cell_type": "code",
      "metadata": {
        "colab": {
          "base_uri": "https://localhost:8080/"
        },
        "id": "RHBis25GfN3e",
        "outputId": "a2e53a12-74ca-4ce8-c0f4-29f8f86c9426"
      },
      "source": [
        "df_1_abbr2.info()"
      ],
      "execution_count": 204,
      "outputs": [
        {
          "output_type": "stream",
          "text": [
            "<class 'pandas.core.frame.DataFrame'>\n",
            "MultiIndex: 450 entries, ('ACS', 448) to ('PTSU', 0)\n",
            "Data columns (total 5 columns):\n",
            " #   Column           Non-Null Count  Dtype         \n",
            "---  ------           --------------  -----         \n",
            " 0   Date             450 non-null    datetime64[ns]\n",
            " 1   DSCC Abbr.       450 non-null    object        \n",
            " 2   DSCC Names       450 non-null    object        \n",
            " 3   category         450 non-null    object        \n",
            " 4   Avg. Daily Pop.  450 non-null    int64         \n",
            "dtypes: datetime64[ns](1), int64(1), object(3)\n",
            "memory usage: 42.5+ KB\n"
          ],
          "name": "stdout"
        }
      ]
    },
    {
      "cell_type": "code",
      "metadata": {
        "colab": {
          "base_uri": "https://localhost:8080/",
          "height": 157
        },
        "id": "b9MHVOWZff_O",
        "outputId": "7f0a3b8f-f80b-41b1-a10d-99603e9ba415"
      },
      "source": [
        "# make datetime - can also do it at dataframe level, put datetime in dictionary \n",
        "df_1_abbr2.Date = pd.to_datetime(df_1_abbr2.Date)\n",
        "df_1_abbr2.head(1)"
      ],
      "execution_count": 205,
      "outputs": [
        {
          "output_type": "execute_result",
          "data": {
            "text/html": [
              "<div>\n",
              "<style scoped>\n",
              "    .dataframe tbody tr th:only-of-type {\n",
              "        vertical-align: middle;\n",
              "    }\n",
              "\n",
              "    .dataframe tbody tr th {\n",
              "        vertical-align: top;\n",
              "    }\n",
              "\n",
              "    .dataframe thead th {\n",
              "        text-align: right;\n",
              "    }\n",
              "</style>\n",
              "<table border=\"1\" class=\"dataframe\">\n",
              "  <thead>\n",
              "    <tr style=\"text-align: right;\">\n",
              "      <th></th>\n",
              "      <th></th>\n",
              "      <th>Date</th>\n",
              "      <th>DSCC Abbr.</th>\n",
              "      <th>DSCC Names</th>\n",
              "      <th>category</th>\n",
              "      <th>Avg. Daily Pop.</th>\n",
              "    </tr>\n",
              "    <tr>\n",
              "      <th>DSCC Abbr.</th>\n",
              "      <th></th>\n",
              "      <th></th>\n",
              "      <th></th>\n",
              "      <th></th>\n",
              "      <th></th>\n",
              "      <th></th>\n",
              "    </tr>\n",
              "  </thead>\n",
              "  <tbody>\n",
              "    <tr>\n",
              "      <th>ACS</th>\n",
              "      <th>448</th>\n",
              "      <td>2015-01-01</td>\n",
              "      <td>ACS</td>\n",
              "      <td>Alternative Community Services</td>\n",
              "      <td>Criminal Justice Clients under Pre-Trial Services</td>\n",
              "      <td>721</td>\n",
              "    </tr>\n",
              "  </tbody>\n",
              "</table>\n",
              "</div>"
            ],
            "text/plain": [
              "                     Date  ... Avg. Daily Pop.\n",
              "DSCC Abbr.                 ...                \n",
              "ACS        448 2015-01-01  ...             721\n",
              "\n",
              "[1 rows x 5 columns]"
            ]
          },
          "metadata": {
            "tags": []
          },
          "execution_count": 205
        }
      ]
    },
    {
      "cell_type": "code",
      "metadata": {
        "id": "RxauttAEgsg3"
      },
      "source": [
        "# index changing code\n"
      ],
      "execution_count": 206,
      "outputs": []
    },
    {
      "cell_type": "code",
      "metadata": {
        "colab": {
          "base_uri": "https://localhost:8080/"
        },
        "id": "zA1KZH1Lf8IY",
        "outputId": "f10499ce-e9e3-4de9-eef9-7e9a482c632e"
      },
      "source": [
        "df_1_abbr2.info()"
      ],
      "execution_count": 207,
      "outputs": [
        {
          "output_type": "stream",
          "text": [
            "<class 'pandas.core.frame.DataFrame'>\n",
            "MultiIndex: 450 entries, ('ACS', 448) to ('PTSU', 0)\n",
            "Data columns (total 5 columns):\n",
            " #   Column           Non-Null Count  Dtype         \n",
            "---  ------           --------------  -----         \n",
            " 0   Date             450 non-null    datetime64[ns]\n",
            " 1   DSCC Abbr.       450 non-null    object        \n",
            " 2   DSCC Names       450 non-null    object        \n",
            " 3   category         450 non-null    object        \n",
            " 4   Avg. Daily Pop.  450 non-null    int64         \n",
            "dtypes: datetime64[ns](1), int64(1), object(3)\n",
            "memory usage: 42.5+ KB\n"
          ],
          "name": "stdout"
        }
      ]
    },
    {
      "cell_type": "code",
      "metadata": {
        "id": "T64bWLm7bxGA"
      },
      "source": [
        "# Simplify name\n",
        "df_2 = df_1_abbr2"
      ],
      "execution_count": 208,
      "outputs": []
    },
    {
      "cell_type": "code",
      "metadata": {
        "id": "riuedJ5Ob4tO"
      },
      "source": [
        "# Create separate columns for month day and year \n",
        "df_2.Date = pd.to_datetime(df_2.Date)"
      ],
      "execution_count": 209,
      "outputs": []
    },
    {
      "cell_type": "code",
      "metadata": {
        "colab": {
          "base_uri": "https://localhost:8080/",
          "height": 633
        },
        "id": "BywLU5c7b7Jj",
        "outputId": "d22b8252-1bd7-483d-d761-b86b791affab"
      },
      "source": [
        "df_2[['month', 'year']] = df_2.Date.apply(lambda x: pd.Series(x.strftime(\"%m, %Y\").split(\",\")))\n",
        "df_2"
      ],
      "execution_count": 210,
      "outputs": [
        {
          "output_type": "execute_result",
          "data": {
            "text/html": [
              "<div>\n",
              "<style scoped>\n",
              "    .dataframe tbody tr th:only-of-type {\n",
              "        vertical-align: middle;\n",
              "    }\n",
              "\n",
              "    .dataframe tbody tr th {\n",
              "        vertical-align: top;\n",
              "    }\n",
              "\n",
              "    .dataframe thead th {\n",
              "        text-align: right;\n",
              "    }\n",
              "</style>\n",
              "<table border=\"1\" class=\"dataframe\">\n",
              "  <thead>\n",
              "    <tr style=\"text-align: right;\">\n",
              "      <th></th>\n",
              "      <th></th>\n",
              "      <th>Date</th>\n",
              "      <th>DSCC Abbr.</th>\n",
              "      <th>DSCC Names</th>\n",
              "      <th>category</th>\n",
              "      <th>Avg. Daily Pop.</th>\n",
              "      <th>month</th>\n",
              "      <th>year</th>\n",
              "    </tr>\n",
              "    <tr>\n",
              "      <th>DSCC Abbr.</th>\n",
              "      <th></th>\n",
              "      <th></th>\n",
              "      <th></th>\n",
              "      <th></th>\n",
              "      <th></th>\n",
              "      <th></th>\n",
              "      <th></th>\n",
              "      <th></th>\n",
              "    </tr>\n",
              "  </thead>\n",
              "  <tbody>\n",
              "    <tr>\n",
              "      <th rowspan=\"5\" valign=\"top\">ACS</th>\n",
              "      <th>448</th>\n",
              "      <td>2015-01-01</td>\n",
              "      <td>ACS</td>\n",
              "      <td>Alternative Community Services</td>\n",
              "      <td>Criminal Justice Clients under Pre-Trial Services</td>\n",
              "      <td>721</td>\n",
              "      <td>01</td>\n",
              "      <td>2015</td>\n",
              "    </tr>\n",
              "    <tr>\n",
              "      <th>443</th>\n",
              "      <td>2015-02-01</td>\n",
              "      <td>ACS</td>\n",
              "      <td>Alternative Community Services</td>\n",
              "      <td>Criminal Justice Clients under Pre-Trial Services</td>\n",
              "      <td>738</td>\n",
              "      <td>02</td>\n",
              "      <td>2015</td>\n",
              "    </tr>\n",
              "    <tr>\n",
              "      <th>437</th>\n",
              "      <td>2015-03-01</td>\n",
              "      <td>ACS</td>\n",
              "      <td>Alternative Community Services</td>\n",
              "      <td>Criminal Justice Clients under Pre-Trial Services</td>\n",
              "      <td>749</td>\n",
              "      <td>03</td>\n",
              "      <td>2015</td>\n",
              "    </tr>\n",
              "    <tr>\n",
              "      <th>431</th>\n",
              "      <td>2015-04-01</td>\n",
              "      <td>ACS</td>\n",
              "      <td>Alternative Community Services</td>\n",
              "      <td>Criminal Justice Clients under Pre-Trial Services</td>\n",
              "      <td>780</td>\n",
              "      <td>04</td>\n",
              "      <td>2015</td>\n",
              "    </tr>\n",
              "    <tr>\n",
              "      <th>423</th>\n",
              "      <td>2015-05-01</td>\n",
              "      <td>ACS</td>\n",
              "      <td>Alternative Community Services</td>\n",
              "      <td>Criminal Justice Clients under Pre-Trial Services</td>\n",
              "      <td>751</td>\n",
              "      <td>05</td>\n",
              "      <td>2015</td>\n",
              "    </tr>\n",
              "    <tr>\n",
              "      <th>...</th>\n",
              "      <th>...</th>\n",
              "      <td>...</td>\n",
              "      <td>...</td>\n",
              "      <td>...</td>\n",
              "      <td>...</td>\n",
              "      <td>...</td>\n",
              "      <td>...</td>\n",
              "      <td>...</td>\n",
              "    </tr>\n",
              "    <tr>\n",
              "      <th rowspan=\"5\" valign=\"top\">PTSU</th>\n",
              "      <th>28</th>\n",
              "      <td>2020-11-01</td>\n",
              "      <td>PTSU</td>\n",
              "      <td>Pre-Trial Supervision Unit</td>\n",
              "      <td>Criminal Justice Clients under Pre-Trial Services</td>\n",
              "      <td>838</td>\n",
              "      <td>11</td>\n",
              "      <td>2020</td>\n",
              "    </tr>\n",
              "    <tr>\n",
              "      <th>20</th>\n",
              "      <td>2020-12-01</td>\n",
              "      <td>PTSU</td>\n",
              "      <td>Pre-Trial Supervision Unit</td>\n",
              "      <td>Criminal Justice Clients under Pre-Trial Services</td>\n",
              "      <td>867</td>\n",
              "      <td>12</td>\n",
              "      <td>2020</td>\n",
              "    </tr>\n",
              "    <tr>\n",
              "      <th>12</th>\n",
              "      <td>2021-01-01</td>\n",
              "      <td>PTSU</td>\n",
              "      <td>Pre-Trial Supervision Unit</td>\n",
              "      <td>Criminal Justice Clients under Pre-Trial Services</td>\n",
              "      <td>909</td>\n",
              "      <td>01</td>\n",
              "      <td>2021</td>\n",
              "    </tr>\n",
              "    <tr>\n",
              "      <th>7</th>\n",
              "      <td>2021-02-01</td>\n",
              "      <td>PTSU</td>\n",
              "      <td>Pre-Trial Supervision Unit</td>\n",
              "      <td>Criminal Justice Clients under Pre-Trial Services</td>\n",
              "      <td>918</td>\n",
              "      <td>02</td>\n",
              "      <td>2021</td>\n",
              "    </tr>\n",
              "    <tr>\n",
              "      <th>0</th>\n",
              "      <td>2021-03-01</td>\n",
              "      <td>PTSU</td>\n",
              "      <td>Pre-Trial Supervision Unit</td>\n",
              "      <td>Criminal Justice Clients under Pre-Trial Services</td>\n",
              "      <td>946</td>\n",
              "      <td>03</td>\n",
              "      <td>2021</td>\n",
              "    </tr>\n",
              "  </tbody>\n",
              "</table>\n",
              "<p>450 rows × 7 columns</p>\n",
              "</div>"
            ],
            "text/plain": [
              "                     Date DSCC Abbr.  ... month   year\n",
              "DSCC Abbr.                            ...             \n",
              "ACS        448 2015-01-01        ACS  ...    01   2015\n",
              "           443 2015-02-01        ACS  ...    02   2015\n",
              "           437 2015-03-01        ACS  ...    03   2015\n",
              "           431 2015-04-01        ACS  ...    04   2015\n",
              "           423 2015-05-01        ACS  ...    05   2015\n",
              "...                   ...        ...  ...   ...    ...\n",
              "PTSU       28  2020-11-01       PTSU  ...    11   2020\n",
              "           20  2020-12-01       PTSU  ...    12   2020\n",
              "           12  2021-01-01       PTSU  ...    01   2021\n",
              "           7   2021-02-01       PTSU  ...    02   2021\n",
              "           0   2021-03-01       PTSU  ...    03   2021\n",
              "\n",
              "[450 rows x 7 columns]"
            ]
          },
          "metadata": {
            "tags": []
          },
          "execution_count": 210
        }
      ]
    },
    {
      "cell_type": "code",
      "metadata": {
        "colab": {
          "base_uri": "https://localhost:8080/",
          "height": 574
        },
        "id": "zUjbAfr5cAa7",
        "outputId": "f8d34693-47ad-4575-823a-307604458d9a"
      },
      "source": [
        "# month and year separate columns created\n",
        "df_2.groupby(df_2['year'])\n",
        "df_2.head(10)"
      ],
      "execution_count": 211,
      "outputs": [
        {
          "output_type": "execute_result",
          "data": {
            "text/html": [
              "<div>\n",
              "<style scoped>\n",
              "    .dataframe tbody tr th:only-of-type {\n",
              "        vertical-align: middle;\n",
              "    }\n",
              "\n",
              "    .dataframe tbody tr th {\n",
              "        vertical-align: top;\n",
              "    }\n",
              "\n",
              "    .dataframe thead th {\n",
              "        text-align: right;\n",
              "    }\n",
              "</style>\n",
              "<table border=\"1\" class=\"dataframe\">\n",
              "  <thead>\n",
              "    <tr style=\"text-align: right;\">\n",
              "      <th></th>\n",
              "      <th></th>\n",
              "      <th>Date</th>\n",
              "      <th>DSCC Abbr.</th>\n",
              "      <th>DSCC Names</th>\n",
              "      <th>category</th>\n",
              "      <th>Avg. Daily Pop.</th>\n",
              "      <th>month</th>\n",
              "      <th>year</th>\n",
              "    </tr>\n",
              "    <tr>\n",
              "      <th>DSCC Abbr.</th>\n",
              "      <th></th>\n",
              "      <th></th>\n",
              "      <th></th>\n",
              "      <th></th>\n",
              "      <th></th>\n",
              "      <th></th>\n",
              "      <th></th>\n",
              "      <th></th>\n",
              "    </tr>\n",
              "  </thead>\n",
              "  <tbody>\n",
              "    <tr>\n",
              "      <th rowspan=\"10\" valign=\"top\">ACS</th>\n",
              "      <th>448</th>\n",
              "      <td>2015-01-01</td>\n",
              "      <td>ACS</td>\n",
              "      <td>Alternative Community Services</td>\n",
              "      <td>Criminal Justice Clients under Pre-Trial Services</td>\n",
              "      <td>721</td>\n",
              "      <td>01</td>\n",
              "      <td>2015</td>\n",
              "    </tr>\n",
              "    <tr>\n",
              "      <th>443</th>\n",
              "      <td>2015-02-01</td>\n",
              "      <td>ACS</td>\n",
              "      <td>Alternative Community Services</td>\n",
              "      <td>Criminal Justice Clients under Pre-Trial Services</td>\n",
              "      <td>738</td>\n",
              "      <td>02</td>\n",
              "      <td>2015</td>\n",
              "    </tr>\n",
              "    <tr>\n",
              "      <th>437</th>\n",
              "      <td>2015-03-01</td>\n",
              "      <td>ACS</td>\n",
              "      <td>Alternative Community Services</td>\n",
              "      <td>Criminal Justice Clients under Pre-Trial Services</td>\n",
              "      <td>749</td>\n",
              "      <td>03</td>\n",
              "      <td>2015</td>\n",
              "    </tr>\n",
              "    <tr>\n",
              "      <th>431</th>\n",
              "      <td>2015-04-01</td>\n",
              "      <td>ACS</td>\n",
              "      <td>Alternative Community Services</td>\n",
              "      <td>Criminal Justice Clients under Pre-Trial Services</td>\n",
              "      <td>780</td>\n",
              "      <td>04</td>\n",
              "      <td>2015</td>\n",
              "    </tr>\n",
              "    <tr>\n",
              "      <th>423</th>\n",
              "      <td>2015-05-01</td>\n",
              "      <td>ACS</td>\n",
              "      <td>Alternative Community Services</td>\n",
              "      <td>Criminal Justice Clients under Pre-Trial Services</td>\n",
              "      <td>751</td>\n",
              "      <td>05</td>\n",
              "      <td>2015</td>\n",
              "    </tr>\n",
              "    <tr>\n",
              "      <th>416</th>\n",
              "      <td>2015-06-01</td>\n",
              "      <td>ACS</td>\n",
              "      <td>Alternative Community Services</td>\n",
              "      <td>Criminal Justice Clients under Pre-Trial Services</td>\n",
              "      <td>699</td>\n",
              "      <td>06</td>\n",
              "      <td>2015</td>\n",
              "    </tr>\n",
              "    <tr>\n",
              "      <th>411</th>\n",
              "      <td>2015-07-01</td>\n",
              "      <td>ACS</td>\n",
              "      <td>Alternative Community Services</td>\n",
              "      <td>Criminal Justice Clients under Pre-Trial Services</td>\n",
              "      <td>705</td>\n",
              "      <td>07</td>\n",
              "      <td>2015</td>\n",
              "    </tr>\n",
              "    <tr>\n",
              "      <th>405</th>\n",
              "      <td>2015-08-01</td>\n",
              "      <td>ACS</td>\n",
              "      <td>Alternative Community Services</td>\n",
              "      <td>Criminal Justice Clients under Pre-Trial Services</td>\n",
              "      <td>739</td>\n",
              "      <td>08</td>\n",
              "      <td>2015</td>\n",
              "    </tr>\n",
              "    <tr>\n",
              "      <th>401</th>\n",
              "      <td>2015-09-01</td>\n",
              "      <td>ACS</td>\n",
              "      <td>Alternative Community Services</td>\n",
              "      <td>Criminal Justice Clients under Pre-Trial Services</td>\n",
              "      <td>703</td>\n",
              "      <td>09</td>\n",
              "      <td>2015</td>\n",
              "    </tr>\n",
              "    <tr>\n",
              "      <th>392</th>\n",
              "      <td>2015-10-01</td>\n",
              "      <td>ACS</td>\n",
              "      <td>Alternative Community Services</td>\n",
              "      <td>Criminal Justice Clients under Pre-Trial Services</td>\n",
              "      <td>758</td>\n",
              "      <td>10</td>\n",
              "      <td>2015</td>\n",
              "    </tr>\n",
              "  </tbody>\n",
              "</table>\n",
              "</div>"
            ],
            "text/plain": [
              "                     Date DSCC Abbr.  ... month   year\n",
              "DSCC Abbr.                            ...             \n",
              "ACS        448 2015-01-01        ACS  ...    01   2015\n",
              "           443 2015-02-01        ACS  ...    02   2015\n",
              "           437 2015-03-01        ACS  ...    03   2015\n",
              "           431 2015-04-01        ACS  ...    04   2015\n",
              "           423 2015-05-01        ACS  ...    05   2015\n",
              "           416 2015-06-01        ACS  ...    06   2015\n",
              "           411 2015-07-01        ACS  ...    07   2015\n",
              "           405 2015-08-01        ACS  ...    08   2015\n",
              "           401 2015-09-01        ACS  ...    09   2015\n",
              "           392 2015-10-01        ACS  ...    10   2015\n",
              "\n",
              "[10 rows x 7 columns]"
            ]
          },
          "metadata": {
            "tags": []
          },
          "execution_count": 211
        }
      ]
    },
    {
      "cell_type": "code",
      "metadata": {
        "colab": {
          "base_uri": "https://localhost:8080/",
          "height": 342
        },
        "id": "K_Ceh1IZcHa-",
        "outputId": "27baea0d-e362-4e4e-c660-aaf57151a13f"
      },
      "source": [
        "# Remove DSCC Name Column\n",
        "df_2.drop(df_2.columns[[2]], axis=1, inplace=True,)\n",
        "df_2.head(5)"
      ],
      "execution_count": 212,
      "outputs": [
        {
          "output_type": "execute_result",
          "data": {
            "text/html": [
              "<div>\n",
              "<style scoped>\n",
              "    .dataframe tbody tr th:only-of-type {\n",
              "        vertical-align: middle;\n",
              "    }\n",
              "\n",
              "    .dataframe tbody tr th {\n",
              "        vertical-align: top;\n",
              "    }\n",
              "\n",
              "    .dataframe thead th {\n",
              "        text-align: right;\n",
              "    }\n",
              "</style>\n",
              "<table border=\"1\" class=\"dataframe\">\n",
              "  <thead>\n",
              "    <tr style=\"text-align: right;\">\n",
              "      <th></th>\n",
              "      <th></th>\n",
              "      <th>Date</th>\n",
              "      <th>DSCC Abbr.</th>\n",
              "      <th>category</th>\n",
              "      <th>Avg. Daily Pop.</th>\n",
              "      <th>month</th>\n",
              "      <th>year</th>\n",
              "    </tr>\n",
              "    <tr>\n",
              "      <th>DSCC Abbr.</th>\n",
              "      <th></th>\n",
              "      <th></th>\n",
              "      <th></th>\n",
              "      <th></th>\n",
              "      <th></th>\n",
              "      <th></th>\n",
              "      <th></th>\n",
              "    </tr>\n",
              "  </thead>\n",
              "  <tbody>\n",
              "    <tr>\n",
              "      <th rowspan=\"5\" valign=\"top\">ACS</th>\n",
              "      <th>448</th>\n",
              "      <td>2015-01-01</td>\n",
              "      <td>ACS</td>\n",
              "      <td>Criminal Justice Clients under Pre-Trial Services</td>\n",
              "      <td>721</td>\n",
              "      <td>01</td>\n",
              "      <td>2015</td>\n",
              "    </tr>\n",
              "    <tr>\n",
              "      <th>443</th>\n",
              "      <td>2015-02-01</td>\n",
              "      <td>ACS</td>\n",
              "      <td>Criminal Justice Clients under Pre-Trial Services</td>\n",
              "      <td>738</td>\n",
              "      <td>02</td>\n",
              "      <td>2015</td>\n",
              "    </tr>\n",
              "    <tr>\n",
              "      <th>437</th>\n",
              "      <td>2015-03-01</td>\n",
              "      <td>ACS</td>\n",
              "      <td>Criminal Justice Clients under Pre-Trial Services</td>\n",
              "      <td>749</td>\n",
              "      <td>03</td>\n",
              "      <td>2015</td>\n",
              "    </tr>\n",
              "    <tr>\n",
              "      <th>431</th>\n",
              "      <td>2015-04-01</td>\n",
              "      <td>ACS</td>\n",
              "      <td>Criminal Justice Clients under Pre-Trial Services</td>\n",
              "      <td>780</td>\n",
              "      <td>04</td>\n",
              "      <td>2015</td>\n",
              "    </tr>\n",
              "    <tr>\n",
              "      <th>423</th>\n",
              "      <td>2015-05-01</td>\n",
              "      <td>ACS</td>\n",
              "      <td>Criminal Justice Clients under Pre-Trial Services</td>\n",
              "      <td>751</td>\n",
              "      <td>05</td>\n",
              "      <td>2015</td>\n",
              "    </tr>\n",
              "  </tbody>\n",
              "</table>\n",
              "</div>"
            ],
            "text/plain": [
              "                     Date DSCC Abbr.  ... month   year\n",
              "DSCC Abbr.                            ...             \n",
              "ACS        448 2015-01-01        ACS  ...    01   2015\n",
              "           443 2015-02-01        ACS  ...    02   2015\n",
              "           437 2015-03-01        ACS  ...    03   2015\n",
              "           431 2015-04-01        ACS  ...    04   2015\n",
              "           423 2015-05-01        ACS  ...    05   2015\n",
              "\n",
              "[5 rows x 6 columns]"
            ]
          },
          "metadata": {
            "tags": []
          },
          "execution_count": 212
        }
      ]
    },
    {
      "cell_type": "code",
      "metadata": {
        "id": "4UOGLK4zcPdr"
      },
      "source": [
        "# Create separate columns for month day and year \n",
        "df_1.Date = pd.to_datetime(df_1.Date)"
      ],
      "execution_count": 213,
      "outputs": []
    },
    {
      "cell_type": "code",
      "metadata": {
        "colab": {
          "base_uri": "https://localhost:8080/",
          "height": 586
        },
        "id": "QR425E0YcSMl",
        "outputId": "efd66ed1-2290-4a88-8bb8-fd46b2633f2b"
      },
      "source": [
        "df_1[['month', 'year']] = df_1.Date.apply(lambda x: pd.Series(x.strftime(\"%m, %Y\").split(\",\")))\n",
        "df_1"
      ],
      "execution_count": 214,
      "outputs": [
        {
          "output_type": "execute_result",
          "data": {
            "text/html": [
              "<div>\n",
              "<style scoped>\n",
              "    .dataframe tbody tr th:only-of-type {\n",
              "        vertical-align: middle;\n",
              "    }\n",
              "\n",
              "    .dataframe tbody tr th {\n",
              "        vertical-align: top;\n",
              "    }\n",
              "\n",
              "    .dataframe thead th {\n",
              "        text-align: right;\n",
              "    }\n",
              "</style>\n",
              "<table border=\"1\" class=\"dataframe\">\n",
              "  <thead>\n",
              "    <tr style=\"text-align: right;\">\n",
              "      <th></th>\n",
              "      <th>Date</th>\n",
              "      <th>DSCC Abbr.</th>\n",
              "      <th>DSCC Names</th>\n",
              "      <th>category</th>\n",
              "      <th>Avg. Daily Pop.</th>\n",
              "      <th>month</th>\n",
              "      <th>year</th>\n",
              "    </tr>\n",
              "  </thead>\n",
              "  <tbody>\n",
              "    <tr>\n",
              "      <th>0</th>\n",
              "      <td>2021-03-01</td>\n",
              "      <td>PTSU</td>\n",
              "      <td>Pre-Trial Supervision Unit</td>\n",
              "      <td>Criminal Justice Clients under Pre-Trial Services</td>\n",
              "      <td>946</td>\n",
              "      <td>03</td>\n",
              "      <td>2021</td>\n",
              "    </tr>\n",
              "    <tr>\n",
              "      <th>1</th>\n",
              "      <td>2021-03-01</td>\n",
              "      <td>MCCF</td>\n",
              "      <td>Montgomery County Correctional Facility</td>\n",
              "      <td>Inmates in DOCR Custody</td>\n",
              "      <td>505</td>\n",
              "      <td>03</td>\n",
              "      <td>2021</td>\n",
              "    </tr>\n",
              "    <tr>\n",
              "      <th>2</th>\n",
              "      <td>2021-03-01</td>\n",
              "      <td>PRRS</td>\n",
              "      <td>Pre-Release and Re-Entry Services</td>\n",
              "      <td>Inmates in DOCR Custody</td>\n",
              "      <td>0</td>\n",
              "      <td>03</td>\n",
              "      <td>2021</td>\n",
              "    </tr>\n",
              "    <tr>\n",
              "      <th>3</th>\n",
              "      <td>2021-03-01</td>\n",
              "      <td>ACS</td>\n",
              "      <td>Alternative Community Services</td>\n",
              "      <td>Criminal Justice Clients under Pre-Trial Services</td>\n",
              "      <td>301</td>\n",
              "      <td>03</td>\n",
              "      <td>2021</td>\n",
              "    </tr>\n",
              "    <tr>\n",
              "      <th>4</th>\n",
              "      <td>2021-03-01</td>\n",
              "      <td>IPSA</td>\n",
              "      <td>Intervention Program for Substance Abusers</td>\n",
              "      <td>Criminal Justice Clients under Pre-Trial Services</td>\n",
              "      <td>67</td>\n",
              "      <td>03</td>\n",
              "      <td>2021</td>\n",
              "    </tr>\n",
              "    <tr>\n",
              "      <th>...</th>\n",
              "      <td>...</td>\n",
              "      <td>...</td>\n",
              "      <td>...</td>\n",
              "      <td>...</td>\n",
              "      <td>...</td>\n",
              "      <td>...</td>\n",
              "      <td>...</td>\n",
              "    </tr>\n",
              "    <tr>\n",
              "      <th>445</th>\n",
              "      <td>2015-01-01</td>\n",
              "      <td>PTSU</td>\n",
              "      <td>Pre-Trial Supervision Unit</td>\n",
              "      <td>Criminal Justice Clients under Pre-Trial Services</td>\n",
              "      <td>718</td>\n",
              "      <td>01</td>\n",
              "      <td>2015</td>\n",
              "    </tr>\n",
              "    <tr>\n",
              "      <th>446</th>\n",
              "      <td>2015-01-01</td>\n",
              "      <td>MCDC</td>\n",
              "      <td>Montgomery County Detention Center</td>\n",
              "      <td>Inmates in DOCR Custody</td>\n",
              "      <td>77</td>\n",
              "      <td>01</td>\n",
              "      <td>2015</td>\n",
              "    </tr>\n",
              "    <tr>\n",
              "      <th>447</th>\n",
              "      <td>2015-01-01</td>\n",
              "      <td>MCCF</td>\n",
              "      <td>Montgomery County Correctional Facility</td>\n",
              "      <td>Inmates in DOCR Custody</td>\n",
              "      <td>505</td>\n",
              "      <td>01</td>\n",
              "      <td>2015</td>\n",
              "    </tr>\n",
              "    <tr>\n",
              "      <th>448</th>\n",
              "      <td>2015-01-01</td>\n",
              "      <td>ACS</td>\n",
              "      <td>Alternative Community Services</td>\n",
              "      <td>Criminal Justice Clients under Pre-Trial Services</td>\n",
              "      <td>721</td>\n",
              "      <td>01</td>\n",
              "      <td>2015</td>\n",
              "    </tr>\n",
              "    <tr>\n",
              "      <th>449</th>\n",
              "      <td>2015-01-01</td>\n",
              "      <td>IPSA</td>\n",
              "      <td>Intervention Program for Substance Abusers</td>\n",
              "      <td>Criminal Justice Clients under Pre-Trial Services</td>\n",
              "      <td>101</td>\n",
              "      <td>01</td>\n",
              "      <td>2015</td>\n",
              "    </tr>\n",
              "  </tbody>\n",
              "</table>\n",
              "<p>450 rows × 7 columns</p>\n",
              "</div>"
            ],
            "text/plain": [
              "          Date DSCC Abbr.  ... month   year\n",
              "0   2021-03-01       PTSU  ...    03   2021\n",
              "1   2021-03-01       MCCF  ...    03   2021\n",
              "2   2021-03-01       PRRS  ...    03   2021\n",
              "3   2021-03-01        ACS  ...    03   2021\n",
              "4   2021-03-01       IPSA  ...    03   2021\n",
              "..         ...        ...  ...   ...    ...\n",
              "445 2015-01-01       PTSU  ...    01   2015\n",
              "446 2015-01-01       MCDC  ...    01   2015\n",
              "447 2015-01-01       MCCF  ...    01   2015\n",
              "448 2015-01-01        ACS  ...    01   2015\n",
              "449 2015-01-01       IPSA  ...    01   2015\n",
              "\n",
              "[450 rows x 7 columns]"
            ]
          },
          "metadata": {
            "tags": []
          },
          "execution_count": 214
        }
      ]
    },
    {
      "cell_type": "code",
      "metadata": {
        "id": "NVDJFqiuct8l"
      },
      "source": [
        "# drop date column\n",
        "df_1a = df_1.drop(df_1.columns[0:1], axis=1)"
      ],
      "execution_count": 215,
      "outputs": []
    },
    {
      "cell_type": "code",
      "metadata": {
        "colab": {
          "base_uri": "https://localhost:8080/",
          "height": 279
        },
        "id": "--LJU76PcxI1",
        "outputId": "de82341e-6686-43e5-c2fb-ed645bbd02ee"
      },
      "source": [
        "df_1a.head(5)"
      ],
      "execution_count": 216,
      "outputs": [
        {
          "output_type": "execute_result",
          "data": {
            "text/html": [
              "<div>\n",
              "<style scoped>\n",
              "    .dataframe tbody tr th:only-of-type {\n",
              "        vertical-align: middle;\n",
              "    }\n",
              "\n",
              "    .dataframe tbody tr th {\n",
              "        vertical-align: top;\n",
              "    }\n",
              "\n",
              "    .dataframe thead th {\n",
              "        text-align: right;\n",
              "    }\n",
              "</style>\n",
              "<table border=\"1\" class=\"dataframe\">\n",
              "  <thead>\n",
              "    <tr style=\"text-align: right;\">\n",
              "      <th></th>\n",
              "      <th>DSCC Abbr.</th>\n",
              "      <th>DSCC Names</th>\n",
              "      <th>category</th>\n",
              "      <th>Avg. Daily Pop.</th>\n",
              "      <th>month</th>\n",
              "      <th>year</th>\n",
              "    </tr>\n",
              "  </thead>\n",
              "  <tbody>\n",
              "    <tr>\n",
              "      <th>0</th>\n",
              "      <td>PTSU</td>\n",
              "      <td>Pre-Trial Supervision Unit</td>\n",
              "      <td>Criminal Justice Clients under Pre-Trial Services</td>\n",
              "      <td>946</td>\n",
              "      <td>03</td>\n",
              "      <td>2021</td>\n",
              "    </tr>\n",
              "    <tr>\n",
              "      <th>1</th>\n",
              "      <td>MCCF</td>\n",
              "      <td>Montgomery County Correctional Facility</td>\n",
              "      <td>Inmates in DOCR Custody</td>\n",
              "      <td>505</td>\n",
              "      <td>03</td>\n",
              "      <td>2021</td>\n",
              "    </tr>\n",
              "    <tr>\n",
              "      <th>2</th>\n",
              "      <td>PRRS</td>\n",
              "      <td>Pre-Release and Re-Entry Services</td>\n",
              "      <td>Inmates in DOCR Custody</td>\n",
              "      <td>0</td>\n",
              "      <td>03</td>\n",
              "      <td>2021</td>\n",
              "    </tr>\n",
              "    <tr>\n",
              "      <th>3</th>\n",
              "      <td>ACS</td>\n",
              "      <td>Alternative Community Services</td>\n",
              "      <td>Criminal Justice Clients under Pre-Trial Services</td>\n",
              "      <td>301</td>\n",
              "      <td>03</td>\n",
              "      <td>2021</td>\n",
              "    </tr>\n",
              "    <tr>\n",
              "      <th>4</th>\n",
              "      <td>IPSA</td>\n",
              "      <td>Intervention Program for Substance Abusers</td>\n",
              "      <td>Criminal Justice Clients under Pre-Trial Services</td>\n",
              "      <td>67</td>\n",
              "      <td>03</td>\n",
              "      <td>2021</td>\n",
              "    </tr>\n",
              "  </tbody>\n",
              "</table>\n",
              "</div>"
            ],
            "text/plain": [
              "  DSCC Abbr.                                  DSCC Names  ... month   year\n",
              "0       PTSU                  Pre-Trial Supervision Unit  ...    03   2021\n",
              "1       MCCF     Montgomery County Correctional Facility  ...    03   2021\n",
              "2       PRRS           Pre-Release and Re-Entry Services  ...    03   2021\n",
              "3        ACS              Alternative Community Services  ...    03   2021\n",
              "4       IPSA  Intervention Program for Substance Abusers  ...    03   2021\n",
              "\n",
              "[5 rows x 6 columns]"
            ]
          },
          "metadata": {
            "tags": []
          },
          "execution_count": 216
        }
      ]
    },
    {
      "cell_type": "code",
      "metadata": {
        "colab": {
          "base_uri": "https://localhost:8080/",
          "height": 279
        },
        "id": "D7EVSYKlc1H5",
        "outputId": "19f4d344-c477-4f37-f6c9-6b2a1c7a0aa5"
      },
      "source": [
        "# Trying to remove index column\n",
        "df_1a.reset_index(drop=True, inplace=True)\n",
        "df_1a.head(5)"
      ],
      "execution_count": 217,
      "outputs": [
        {
          "output_type": "execute_result",
          "data": {
            "text/html": [
              "<div>\n",
              "<style scoped>\n",
              "    .dataframe tbody tr th:only-of-type {\n",
              "        vertical-align: middle;\n",
              "    }\n",
              "\n",
              "    .dataframe tbody tr th {\n",
              "        vertical-align: top;\n",
              "    }\n",
              "\n",
              "    .dataframe thead th {\n",
              "        text-align: right;\n",
              "    }\n",
              "</style>\n",
              "<table border=\"1\" class=\"dataframe\">\n",
              "  <thead>\n",
              "    <tr style=\"text-align: right;\">\n",
              "      <th></th>\n",
              "      <th>DSCC Abbr.</th>\n",
              "      <th>DSCC Names</th>\n",
              "      <th>category</th>\n",
              "      <th>Avg. Daily Pop.</th>\n",
              "      <th>month</th>\n",
              "      <th>year</th>\n",
              "    </tr>\n",
              "  </thead>\n",
              "  <tbody>\n",
              "    <tr>\n",
              "      <th>0</th>\n",
              "      <td>PTSU</td>\n",
              "      <td>Pre-Trial Supervision Unit</td>\n",
              "      <td>Criminal Justice Clients under Pre-Trial Services</td>\n",
              "      <td>946</td>\n",
              "      <td>03</td>\n",
              "      <td>2021</td>\n",
              "    </tr>\n",
              "    <tr>\n",
              "      <th>1</th>\n",
              "      <td>MCCF</td>\n",
              "      <td>Montgomery County Correctional Facility</td>\n",
              "      <td>Inmates in DOCR Custody</td>\n",
              "      <td>505</td>\n",
              "      <td>03</td>\n",
              "      <td>2021</td>\n",
              "    </tr>\n",
              "    <tr>\n",
              "      <th>2</th>\n",
              "      <td>PRRS</td>\n",
              "      <td>Pre-Release and Re-Entry Services</td>\n",
              "      <td>Inmates in DOCR Custody</td>\n",
              "      <td>0</td>\n",
              "      <td>03</td>\n",
              "      <td>2021</td>\n",
              "    </tr>\n",
              "    <tr>\n",
              "      <th>3</th>\n",
              "      <td>ACS</td>\n",
              "      <td>Alternative Community Services</td>\n",
              "      <td>Criminal Justice Clients under Pre-Trial Services</td>\n",
              "      <td>301</td>\n",
              "      <td>03</td>\n",
              "      <td>2021</td>\n",
              "    </tr>\n",
              "    <tr>\n",
              "      <th>4</th>\n",
              "      <td>IPSA</td>\n",
              "      <td>Intervention Program for Substance Abusers</td>\n",
              "      <td>Criminal Justice Clients under Pre-Trial Services</td>\n",
              "      <td>67</td>\n",
              "      <td>03</td>\n",
              "      <td>2021</td>\n",
              "    </tr>\n",
              "  </tbody>\n",
              "</table>\n",
              "</div>"
            ],
            "text/plain": [
              "  DSCC Abbr.                                  DSCC Names  ... month   year\n",
              "0       PTSU                  Pre-Trial Supervision Unit  ...    03   2021\n",
              "1       MCCF     Montgomery County Correctional Facility  ...    03   2021\n",
              "2       PRRS           Pre-Release and Re-Entry Services  ...    03   2021\n",
              "3        ACS              Alternative Community Services  ...    03   2021\n",
              "4       IPSA  Intervention Program for Substance Abusers  ...    03   2021\n",
              "\n",
              "[5 rows x 6 columns]"
            ]
          },
          "metadata": {
            "tags": []
          },
          "execution_count": 217
        }
      ]
    },
    {
      "cell_type": "code",
      "metadata": {
        "colab": {
          "base_uri": "https://localhost:8080/",
          "height": 195
        },
        "id": "RymYiEnhc9c_",
        "outputId": "aaae5ca8-700f-4ab2-8414-02074f1a9bff"
      },
      "source": [
        "# Group by Year Sum\n",
        "df_year = df_1a.groupby(['year'], as_index=False).agg({'Avg. Daily Pop.': sum})\n",
        "df_year.head()"
      ],
      "execution_count": 218,
      "outputs": [
        {
          "output_type": "execute_result",
          "data": {
            "text/html": [
              "<div>\n",
              "<style scoped>\n",
              "    .dataframe tbody tr th:only-of-type {\n",
              "        vertical-align: middle;\n",
              "    }\n",
              "\n",
              "    .dataframe tbody tr th {\n",
              "        vertical-align: top;\n",
              "    }\n",
              "\n",
              "    .dataframe thead th {\n",
              "        text-align: right;\n",
              "    }\n",
              "</style>\n",
              "<table border=\"1\" class=\"dataframe\">\n",
              "  <thead>\n",
              "    <tr style=\"text-align: right;\">\n",
              "      <th></th>\n",
              "      <th>year</th>\n",
              "      <th>Avg. Daily Pop.</th>\n",
              "    </tr>\n",
              "  </thead>\n",
              "  <tbody>\n",
              "    <tr>\n",
              "      <th>0</th>\n",
              "      <td>2015</td>\n",
              "      <td>27811</td>\n",
              "    </tr>\n",
              "    <tr>\n",
              "      <th>1</th>\n",
              "      <td>2016</td>\n",
              "      <td>30138</td>\n",
              "    </tr>\n",
              "    <tr>\n",
              "      <th>2</th>\n",
              "      <td>2017</td>\n",
              "      <td>27102</td>\n",
              "    </tr>\n",
              "    <tr>\n",
              "      <th>3</th>\n",
              "      <td>2018</td>\n",
              "      <td>27464</td>\n",
              "    </tr>\n",
              "    <tr>\n",
              "      <th>4</th>\n",
              "      <td>2019</td>\n",
              "      <td>25649</td>\n",
              "    </tr>\n",
              "  </tbody>\n",
              "</table>\n",
              "</div>"
            ],
            "text/plain": [
              "    year  Avg. Daily Pop.\n",
              "0   2015            27811\n",
              "1   2016            30138\n",
              "2   2017            27102\n",
              "3   2018            27464\n",
              "4   2019            25649"
            ]
          },
          "metadata": {
            "tags": []
          },
          "execution_count": 218
        }
      ]
    },
    {
      "cell_type": "code",
      "metadata": {
        "colab": {
          "base_uri": "https://localhost:8080/"
        },
        "id": "WGtzziQkh2yM",
        "outputId": "5d09f3d1-73b1-4115-8a3a-6232c98431d5"
      },
      "source": [
        "# Checking data types for each column\n",
        "print(df_1.dtypes)"
      ],
      "execution_count": 219,
      "outputs": [
        {
          "output_type": "stream",
          "text": [
            "Date               datetime64[ns]\n",
            "DSCC Abbr.                 object\n",
            "DSCC Names                 object\n",
            "category                   object\n",
            "Avg. Daily Pop.             int64\n",
            "month                      object\n",
            "year                       object\n",
            "dtype: object\n"
          ],
          "name": "stdout"
        }
      ]
    },
    {
      "cell_type": "code",
      "metadata": {
        "colab": {
          "base_uri": "https://localhost:8080/",
          "height": 476
        },
        "id": "k3iTCfSCdAzY",
        "outputId": "de814600-14d0-43f3-e054-8eb259584342"
      },
      "source": [
        "# matplotlib plot\n",
        "import matplotlib.pyplot as plt\n",
        "df_year.plot(x = 'year', grid=True)\n",
        "plt.xlabel('year')\n",
        "plt.ylabel('Avg. Daily Pop.')"
      ],
      "execution_count": 220,
      "outputs": [
        {
          "output_type": "execute_result",
          "data": {
            "text/plain": [
              "Text(0, 0.5, 'Avg. Daily Pop.')"
            ]
          },
          "metadata": {
            "tags": []
          },
          "execution_count": 220
        },
        {
          "output_type": "display_data",
          "data": {
            "image/png": "[encoded data removed]",
            "text/plain": [
              "<Figure size 640x480 with 1 Axes>"
            ]
          },
          "metadata": {
            "tags": []
          }
        }
      ]
    },
    {
      "cell_type": "code",
      "metadata": {
        "colab": {
          "base_uri": "https://localhost:8080/",
          "height": 459
        },
        "id": "T0Jj9axedEFm",
        "outputId": "6d72cf77-a2ee-4a72-f81f-b976fb42df58"
      },
      "source": [
        "# matplotlib barplot\n",
        "import matplotlib.pyplot as plt\n",
        "x = df_year['year']\n",
        "y = df_year['Avg. Daily Pop.']\n",
        "plt.bar(x, y)\n",
        "plt.xlabel('Year')\n",
        "plt.ylabel('Avg. Daily Pop.')\n",
        "plt.show()"
      ],
      "execution_count": 221,
      "outputs": [
        {
          "output_type": "display_data",
          "data": {
            "image/png": "[encoded data removed]",
            "text/plain": [
              "<Figure size 640x480 with 1 Axes>"
            ]
          },
          "metadata": {
            "tags": []
          }
        }
      ]
    },
    {
      "cell_type": "code",
      "metadata": {
        "colab": {
          "base_uri": "https://localhost:8080/",
          "height": 639
        },
        "id": "DMOV4BtQdHxZ",
        "outputId": "1e7194cd-6915-4b0f-af9a-68a9aed52ad9"
      },
      "source": [
        "# Sum of avg. daily pop by month and year\n",
        "df_monthyear = df_1a.groupby(['year', 'month'], as_index=False).agg({'Avg. Daily Pop.': sum})\n",
        "df_monthyear.head(20)"
      ],
      "execution_count": 222,
      "outputs": [
        {
          "output_type": "execute_result",
          "data": {
            "text/html": [
              "<div>\n",
              "<style scoped>\n",
              "    .dataframe tbody tr th:only-of-type {\n",
              "        vertical-align: middle;\n",
              "    }\n",
              "\n",
              "    .dataframe tbody tr th {\n",
              "        vertical-align: top;\n",
              "    }\n",
              "\n",
              "    .dataframe thead th {\n",
              "        text-align: right;\n",
              "    }\n",
              "</style>\n",
              "<table border=\"1\" class=\"dataframe\">\n",
              "  <thead>\n",
              "    <tr style=\"text-align: right;\">\n",
              "      <th></th>\n",
              "      <th>year</th>\n",
              "      <th>month</th>\n",
              "      <th>Avg. Daily Pop.</th>\n",
              "    </tr>\n",
              "  </thead>\n",
              "  <tbody>\n",
              "    <tr>\n",
              "      <th>0</th>\n",
              "      <td>2015</td>\n",
              "      <td>01</td>\n",
              "      <td>2284</td>\n",
              "    </tr>\n",
              "    <tr>\n",
              "      <th>1</th>\n",
              "      <td>2015</td>\n",
              "      <td>02</td>\n",
              "      <td>2277</td>\n",
              "    </tr>\n",
              "    <tr>\n",
              "      <th>2</th>\n",
              "      <td>2015</td>\n",
              "      <td>03</td>\n",
              "      <td>2273</td>\n",
              "    </tr>\n",
              "    <tr>\n",
              "      <th>3</th>\n",
              "      <td>2015</td>\n",
              "      <td>04</td>\n",
              "      <td>2343</td>\n",
              "    </tr>\n",
              "    <tr>\n",
              "      <th>4</th>\n",
              "      <td>2015</td>\n",
              "      <td>05</td>\n",
              "      <td>2310</td>\n",
              "    </tr>\n",
              "    <tr>\n",
              "      <th>5</th>\n",
              "      <td>2015</td>\n",
              "      <td>06</td>\n",
              "      <td>2228</td>\n",
              "    </tr>\n",
              "    <tr>\n",
              "      <th>6</th>\n",
              "      <td>2015</td>\n",
              "      <td>07</td>\n",
              "      <td>2215</td>\n",
              "    </tr>\n",
              "    <tr>\n",
              "      <th>7</th>\n",
              "      <td>2015</td>\n",
              "      <td>08</td>\n",
              "      <td>2311</td>\n",
              "    </tr>\n",
              "    <tr>\n",
              "      <th>8</th>\n",
              "      <td>2015</td>\n",
              "      <td>09</td>\n",
              "      <td>2320</td>\n",
              "    </tr>\n",
              "    <tr>\n",
              "      <th>9</th>\n",
              "      <td>2015</td>\n",
              "      <td>10</td>\n",
              "      <td>2347</td>\n",
              "    </tr>\n",
              "    <tr>\n",
              "      <th>10</th>\n",
              "      <td>2015</td>\n",
              "      <td>11</td>\n",
              "      <td>2459</td>\n",
              "    </tr>\n",
              "    <tr>\n",
              "      <th>11</th>\n",
              "      <td>2015</td>\n",
              "      <td>12</td>\n",
              "      <td>2444</td>\n",
              "    </tr>\n",
              "    <tr>\n",
              "      <th>12</th>\n",
              "      <td>2016</td>\n",
              "      <td>01</td>\n",
              "      <td>2410</td>\n",
              "    </tr>\n",
              "    <tr>\n",
              "      <th>13</th>\n",
              "      <td>2016</td>\n",
              "      <td>02</td>\n",
              "      <td>2446</td>\n",
              "    </tr>\n",
              "    <tr>\n",
              "      <th>14</th>\n",
              "      <td>2016</td>\n",
              "      <td>03</td>\n",
              "      <td>2526</td>\n",
              "    </tr>\n",
              "    <tr>\n",
              "      <th>15</th>\n",
              "      <td>2016</td>\n",
              "      <td>04</td>\n",
              "      <td>2645</td>\n",
              "    </tr>\n",
              "    <tr>\n",
              "      <th>16</th>\n",
              "      <td>2016</td>\n",
              "      <td>05</td>\n",
              "      <td>2684</td>\n",
              "    </tr>\n",
              "    <tr>\n",
              "      <th>17</th>\n",
              "      <td>2016</td>\n",
              "      <td>06</td>\n",
              "      <td>2598</td>\n",
              "    </tr>\n",
              "    <tr>\n",
              "      <th>18</th>\n",
              "      <td>2016</td>\n",
              "      <td>07</td>\n",
              "      <td>2574</td>\n",
              "    </tr>\n",
              "    <tr>\n",
              "      <th>19</th>\n",
              "      <td>2016</td>\n",
              "      <td>08</td>\n",
              "      <td>2558</td>\n",
              "    </tr>\n",
              "  </tbody>\n",
              "</table>\n",
              "</div>"
            ],
            "text/plain": [
              "     year month  Avg. Daily Pop.\n",
              "0    2015    01             2284\n",
              "1    2015    02             2277\n",
              "2    2015    03             2273\n",
              "3    2015    04             2343\n",
              "4    2015    05             2310\n",
              "5    2015    06             2228\n",
              "6    2015    07             2215\n",
              "7    2015    08             2311\n",
              "8    2015    09             2320\n",
              "9    2015    10             2347\n",
              "10   2015    11             2459\n",
              "11   2015    12             2444\n",
              "12   2016    01             2410\n",
              "13   2016    02             2446\n",
              "14   2016    03             2526\n",
              "15   2016    04             2645\n",
              "16   2016    05             2684\n",
              "17   2016    06             2598\n",
              "18   2016    07             2574\n",
              "19   2016    08             2558"
            ]
          },
          "metadata": {
            "tags": []
          },
          "execution_count": 222
        }
      ]
    },
    {
      "cell_type": "code",
      "metadata": {
        "colab": {
          "base_uri": "https://localhost:8080/",
          "height": 476
        },
        "id": "E2NW4wIIdMb4",
        "outputId": "a02c998f-a1ef-49fc-b9b4-cde11a4dc32a"
      },
      "source": [
        "# matplotlib plot\n",
        "df_monthyear.plot(x = 'year', grid=True)\n",
        "plt.xlabel('year')\n",
        "plt.ylabel('Avg. Daily Pop.')"
      ],
      "execution_count": 223,
      "outputs": [
        {
          "output_type": "execute_result",
          "data": {
            "text/plain": [
              "Text(0, 0.5, 'Avg. Daily Pop.')"
            ]
          },
          "metadata": {
            "tags": []
          },
          "execution_count": 223
        },
        {
          "output_type": "display_data",
          "data": {
            "image/png": "[encoded data removed]",
            "text/plain": [
              "<Figure size 640x480 with 1 Axes>"
            ]
          },
          "metadata": {
            "tags": []
          }
        }
      ]
    },
    {
      "cell_type": "code",
      "metadata": {
        "colab": {
          "base_uri": "https://localhost:8080/",
          "height": 459
        },
        "id": "O9Gsazc-dQNq",
        "outputId": "e9d58c29-9cdd-4cfa-b6bf-2ff010229d45"
      },
      "source": [
        "x = df_monthyear['month']\n",
        "y = df_monthyear['Avg. Daily Pop.']\n",
        "plt.bar(x, y)\n",
        "plt.xlabel('month')\n",
        "plt.ylabel('Avg. Daily Pop.')\n",
        "plt.show()"
      ],
      "execution_count": 224,
      "outputs": [
        {
          "output_type": "display_data",
          "data": {
            "image/png": "[encoded data removed]",
            "text/plain": [
              "<Figure size 640x480 with 1 Axes>"
            ]
          },
          "metadata": {
            "tags": []
          }
        }
      ]
    },
    {
      "cell_type": "code",
      "metadata": {
        "id": "Ti1C7tx7dUVE"
      },
      "source": [
        "# trying to isolate entries by year\n",
        "# df_monthyear.groupby('year').get_group(2015)"
      ],
      "execution_count": 225,
      "outputs": []
    },
    {
      "cell_type": "code",
      "metadata": {
        "colab": {
          "base_uri": "https://localhost:8080/"
        },
        "id": "L4IHG3oVpCVS",
        "outputId": "3bfe2ce8-b81d-4e23-d41b-9c27a0330c03"
      },
      "source": [
        "df_monthyear.info()"
      ],
      "execution_count": 226,
      "outputs": [
        {
          "output_type": "stream",
          "text": [
            "<class 'pandas.core.frame.DataFrame'>\n",
            "Int64Index: 75 entries, 0 to 74\n",
            "Data columns (total 3 columns):\n",
            " #   Column           Non-Null Count  Dtype \n",
            "---  ------           --------------  ----- \n",
            " 0   year             75 non-null     object\n",
            " 1   month            75 non-null     object\n",
            " 2   Avg. Daily Pop.  75 non-null     int64 \n",
            "dtypes: int64(1), object(2)\n",
            "memory usage: 2.3+ KB\n"
          ],
          "name": "stdout"
        }
      ]
    },
    {
      "cell_type": "code",
      "metadata": {
        "colab": {
          "base_uri": "https://localhost:8080/"
        },
        "id": "xrpr6944pXCd",
        "outputId": "4a3413c6-40ae-4792-8c90-3bf4f4221a3e"
      },
      "source": [
        "# turning \"year\" column into integer instead of object\n",
        "df_monthyear['year'].astype(int)"
      ],
      "execution_count": 227,
      "outputs": [
        {
          "output_type": "execute_result",
          "data": {
            "text/plain": [
              "0     2015\n",
              "1     2015\n",
              "2     2015\n",
              "3     2015\n",
              "4     2015\n",
              "      ... \n",
              "70    2020\n",
              "71    2020\n",
              "72    2021\n",
              "73    2021\n",
              "74    2021\n",
              "Name: year, Length: 75, dtype: int64"
            ]
          },
          "metadata": {
            "tags": []
          },
          "execution_count": 227
        }
      ]
    },
    {
      "cell_type": "code",
      "metadata": {
        "colab": {
          "base_uri": "https://localhost:8080/"
        },
        "id": "LLGzDD20peC-",
        "outputId": "9c1deb1a-170f-4e67-eee9-c23e21084f4b"
      },
      "source": [
        "# turning \"month\" column into integer instead of object\n",
        "df_monthyear['month'].astype(int)"
      ],
      "execution_count": 228,
      "outputs": [
        {
          "output_type": "execute_result",
          "data": {
            "text/plain": [
              "0      1\n",
              "1      2\n",
              "2      3\n",
              "3      4\n",
              "4      5\n",
              "      ..\n",
              "70    11\n",
              "71    12\n",
              "72     1\n",
              "73     2\n",
              "74     3\n",
              "Name: month, Length: 75, dtype: int64"
            ]
          },
          "metadata": {
            "tags": []
          },
          "execution_count": 228
        }
      ]
    },
    {
      "cell_type": "code",
      "metadata": {
        "colab": {
          "base_uri": "https://localhost:8080/",
          "height": 343
        },
        "id": "UXRr0BW3dW3E",
        "outputId": "edfaa6ae-a778-4672-f000-cbab2fa49d80"
      },
      "source": [
        "# trying to get rid of the lines and select only months for 2015\n",
        "df_2015 = df_monthyear\n",
        "df_2015['year'] != 2016\n",
        "df_2015.iloc[10:20]"
      ],
      "execution_count": 229,
      "outputs": [
        {
          "output_type": "execute_result",
          "data": {
            "text/html": [
              "<div>\n",
              "<style scoped>\n",
              "    .dataframe tbody tr th:only-of-type {\n",
              "        vertical-align: middle;\n",
              "    }\n",
              "\n",
              "    .dataframe tbody tr th {\n",
              "        vertical-align: top;\n",
              "    }\n",
              "\n",
              "    .dataframe thead th {\n",
              "        text-align: right;\n",
              "    }\n",
              "</style>\n",
              "<table border=\"1\" class=\"dataframe\">\n",
              "  <thead>\n",
              "    <tr style=\"text-align: right;\">\n",
              "      <th></th>\n",
              "      <th>year</th>\n",
              "      <th>month</th>\n",
              "      <th>Avg. Daily Pop.</th>\n",
              "    </tr>\n",
              "  </thead>\n",
              "  <tbody>\n",
              "    <tr>\n",
              "      <th>10</th>\n",
              "      <td>2015</td>\n",
              "      <td>11</td>\n",
              "      <td>2459</td>\n",
              "    </tr>\n",
              "    <tr>\n",
              "      <th>11</th>\n",
              "      <td>2015</td>\n",
              "      <td>12</td>\n",
              "      <td>2444</td>\n",
              "    </tr>\n",
              "    <tr>\n",
              "      <th>12</th>\n",
              "      <td>2016</td>\n",
              "      <td>01</td>\n",
              "      <td>2410</td>\n",
              "    </tr>\n",
              "    <tr>\n",
              "      <th>13</th>\n",
              "      <td>2016</td>\n",
              "      <td>02</td>\n",
              "      <td>2446</td>\n",
              "    </tr>\n",
              "    <tr>\n",
              "      <th>14</th>\n",
              "      <td>2016</td>\n",
              "      <td>03</td>\n",
              "      <td>2526</td>\n",
              "    </tr>\n",
              "    <tr>\n",
              "      <th>15</th>\n",
              "      <td>2016</td>\n",
              "      <td>04</td>\n",
              "      <td>2645</td>\n",
              "    </tr>\n",
              "    <tr>\n",
              "      <th>16</th>\n",
              "      <td>2016</td>\n",
              "      <td>05</td>\n",
              "      <td>2684</td>\n",
              "    </tr>\n",
              "    <tr>\n",
              "      <th>17</th>\n",
              "      <td>2016</td>\n",
              "      <td>06</td>\n",
              "      <td>2598</td>\n",
              "    </tr>\n",
              "    <tr>\n",
              "      <th>18</th>\n",
              "      <td>2016</td>\n",
              "      <td>07</td>\n",
              "      <td>2574</td>\n",
              "    </tr>\n",
              "    <tr>\n",
              "      <th>19</th>\n",
              "      <td>2016</td>\n",
              "      <td>08</td>\n",
              "      <td>2558</td>\n",
              "    </tr>\n",
              "  </tbody>\n",
              "</table>\n",
              "</div>"
            ],
            "text/plain": [
              "     year month  Avg. Daily Pop.\n",
              "10   2015    11             2459\n",
              "11   2015    12             2444\n",
              "12   2016    01             2410\n",
              "13   2016    02             2446\n",
              "14   2016    03             2526\n",
              "15   2016    04             2645\n",
              "16   2016    05             2684\n",
              "17   2016    06             2598\n",
              "18   2016    07             2574\n",
              "19   2016    08             2558"
            ]
          },
          "metadata": {
            "tags": []
          },
          "execution_count": 229
        }
      ]
    },
    {
      "cell_type": "code",
      "metadata": {
        "colab": {
          "base_uri": "https://localhost:8080/"
        },
        "id": "S8yRM3kVp_zO",
        "outputId": "08c79178-15a8-4a41-85ae-5590a0570ecf"
      },
      "source": [
        "df_2015.info()"
      ],
      "execution_count": 230,
      "outputs": [
        {
          "output_type": "stream",
          "text": [
            "<class 'pandas.core.frame.DataFrame'>\n",
            "Int64Index: 75 entries, 0 to 74\n",
            "Data columns (total 3 columns):\n",
            " #   Column           Non-Null Count  Dtype \n",
            "---  ------           --------------  ----- \n",
            " 0   year             75 non-null     object\n",
            " 1   month            75 non-null     object\n",
            " 2   Avg. Daily Pop.  75 non-null     int64 \n",
            "dtypes: int64(1), object(2)\n",
            "memory usage: 2.3+ KB\n"
          ],
          "name": "stdout"
        }
      ]
    },
    {
      "cell_type": "code",
      "metadata": {
        "colab": {
          "base_uri": "https://localhost:8080/",
          "height": 459
        },
        "id": "YlTNMP5EdZ2i",
        "outputId": "6d91af92-cfca-41d1-f355-6f3dcf0559d4"
      },
      "source": [
        "# Trying to Plot only 2015\n",
        "x = df_2015['month']\n",
        "y = df_2015['Avg. Daily Pop.']\n",
        "plt.bar(x, y)\n",
        "plt.xlabel('month')\n",
        "plt.ylabel('Avg. Daily Pop.')\n",
        "plt.show()"
      ],
      "execution_count": 231,
      "outputs": [
        {
          "output_type": "display_data",
          "data": {
            "image/png": "[encoded data removed]",
            "text/plain": [
              "<Figure size 640x480 with 1 Axes>"
            ]
          },
          "metadata": {
            "tags": []
          }
        }
      ]
    },
    {
      "cell_type": "code",
      "metadata": {
        "colab": {
          "base_uri": "https://localhost:8080/",
          "height": 47
        },
        "id": "pt1mdCa_ddNf",
        "outputId": "74cc9d76-4aca-44ee-ccd6-2a4641a259c7"
      },
      "source": [
        "# example code:  df[(df['age'] > 28) & (df['grade'] == 'A')]\n",
        "df_monthyear[(df_monthyear['year'] == '2016')]"
      ],
      "execution_count": 232,
      "outputs": [
        {
          "output_type": "execute_result",
          "data": {
            "text/html": [
              "<div>\n",
              "<style scoped>\n",
              "    .dataframe tbody tr th:only-of-type {\n",
              "        vertical-align: middle;\n",
              "    }\n",
              "\n",
              "    .dataframe tbody tr th {\n",
              "        vertical-align: top;\n",
              "    }\n",
              "\n",
              "    .dataframe thead th {\n",
              "        text-align: right;\n",
              "    }\n",
              "</style>\n",
              "<table border=\"1\" class=\"dataframe\">\n",
              "  <thead>\n",
              "    <tr style=\"text-align: right;\">\n",
              "      <th></th>\n",
              "      <th>year</th>\n",
              "      <th>month</th>\n",
              "      <th>Avg. Daily Pop.</th>\n",
              "    </tr>\n",
              "  </thead>\n",
              "  <tbody>\n",
              "  </tbody>\n",
              "</table>\n",
              "</div>"
            ],
            "text/plain": [
              "Empty DataFrame\n",
              "Columns: [year, month, Avg. Daily Pop.]\n",
              "Index: []"
            ]
          },
          "metadata": {
            "tags": []
          },
          "execution_count": 232
        }
      ]
    },
    {
      "cell_type": "code",
      "metadata": {
        "colab": {
          "base_uri": "https://localhost:8080/",
          "height": 459
        },
        "id": "2YrbCk8LdiQm",
        "outputId": "2b3857ee-dd4c-4ee8-981a-a51ef09d8e44"
      },
      "source": [
        "x = df_monthyear['month']\n",
        "y = df_monthyear['Avg. Daily Pop.']\n",
        "plt.bar(x, y)\n",
        "plt.xlabel('month')\n",
        "plt.ylabel('Avg. Daily Pop.')\n",
        "plt.show()\n",
        "# in plot below the separate lines in each bar are for each year. Will try to add color coded stacking."
      ],
      "execution_count": 233,
      "outputs": [
        {
          "output_type": "display_data",
          "data": {
            "image/png": "[encoded data removed]",
            "text/plain": [
              "<Figure size 640x480 with 1 Axes>"
            ]
          },
          "metadata": {
            "tags": []
          }
        }
      ]
    },
    {
      "cell_type": "code",
      "metadata": {
        "colab": {
          "base_uri": "https://localhost:8080/",
          "height": 1000
        },
        "id": "Sa9mkCjQdluu",
        "outputId": "d08fbebb-0c2e-4d8e-adbd-cf76bf40eeac"
      },
      "source": [
        "df_dscc = df_1.groupby('DSCC Names').apply(lambda x: x.sort_values('year'))\n",
        "df_dscc.head(20)"
      ],
      "execution_count": 234,
      "outputs": [
        {
          "output_type": "execute_result",
          "data": {
            "text/html": [
              "<div>\n",
              "<style scoped>\n",
              "    .dataframe tbody tr th:only-of-type {\n",
              "        vertical-align: middle;\n",
              "    }\n",
              "\n",
              "    .dataframe tbody tr th {\n",
              "        vertical-align: top;\n",
              "    }\n",
              "\n",
              "    .dataframe thead th {\n",
              "        text-align: right;\n",
              "    }\n",
              "</style>\n",
              "<table border=\"1\" class=\"dataframe\">\n",
              "  <thead>\n",
              "    <tr style=\"text-align: right;\">\n",
              "      <th></th>\n",
              "      <th></th>\n",
              "      <th>Date</th>\n",
              "      <th>DSCC Abbr.</th>\n",
              "      <th>DSCC Names</th>\n",
              "      <th>category</th>\n",
              "      <th>Avg. Daily Pop.</th>\n",
              "      <th>month</th>\n",
              "      <th>year</th>\n",
              "    </tr>\n",
              "    <tr>\n",
              "      <th>DSCC Names</th>\n",
              "      <th></th>\n",
              "      <th></th>\n",
              "      <th></th>\n",
              "      <th></th>\n",
              "      <th></th>\n",
              "      <th></th>\n",
              "      <th></th>\n",
              "      <th></th>\n",
              "    </tr>\n",
              "  </thead>\n",
              "  <tbody>\n",
              "    <tr>\n",
              "      <th rowspan=\"20\" valign=\"top\">Alternative Community Services</th>\n",
              "      <th>448</th>\n",
              "      <td>2015-01-01</td>\n",
              "      <td>ACS</td>\n",
              "      <td>Alternative Community Services</td>\n",
              "      <td>Criminal Justice Clients under Pre-Trial Services</td>\n",
              "      <td>721</td>\n",
              "      <td>01</td>\n",
              "      <td>2015</td>\n",
              "    </tr>\n",
              "    <tr>\n",
              "      <th>382</th>\n",
              "      <td>2015-12-01</td>\n",
              "      <td>ACS</td>\n",
              "      <td>Alternative Community Services</td>\n",
              "      <td>Criminal Justice Clients under Pre-Trial Services</td>\n",
              "      <td>882</td>\n",
              "      <td>12</td>\n",
              "      <td>2015</td>\n",
              "    </tr>\n",
              "    <tr>\n",
              "      <th>385</th>\n",
              "      <td>2015-11-01</td>\n",
              "      <td>ACS</td>\n",
              "      <td>Alternative Community Services</td>\n",
              "      <td>Criminal Justice Clients under Pre-Trial Services</td>\n",
              "      <td>879</td>\n",
              "      <td>11</td>\n",
              "      <td>2015</td>\n",
              "    </tr>\n",
              "    <tr>\n",
              "      <th>392</th>\n",
              "      <td>2015-10-01</td>\n",
              "      <td>ACS</td>\n",
              "      <td>Alternative Community Services</td>\n",
              "      <td>Criminal Justice Clients under Pre-Trial Services</td>\n",
              "      <td>758</td>\n",
              "      <td>10</td>\n",
              "      <td>2015</td>\n",
              "    </tr>\n",
              "    <tr>\n",
              "      <th>401</th>\n",
              "      <td>2015-09-01</td>\n",
              "      <td>ACS</td>\n",
              "      <td>Alternative Community Services</td>\n",
              "      <td>Criminal Justice Clients under Pre-Trial Services</td>\n",
              "      <td>703</td>\n",
              "      <td>09</td>\n",
              "      <td>2015</td>\n",
              "    </tr>\n",
              "    <tr>\n",
              "      <th>405</th>\n",
              "      <td>2015-08-01</td>\n",
              "      <td>ACS</td>\n",
              "      <td>Alternative Community Services</td>\n",
              "      <td>Criminal Justice Clients under Pre-Trial Services</td>\n",
              "      <td>739</td>\n",
              "      <td>08</td>\n",
              "      <td>2015</td>\n",
              "    </tr>\n",
              "    <tr>\n",
              "      <th>443</th>\n",
              "      <td>2015-02-01</td>\n",
              "      <td>ACS</td>\n",
              "      <td>Alternative Community Services</td>\n",
              "      <td>Criminal Justice Clients under Pre-Trial Services</td>\n",
              "      <td>738</td>\n",
              "      <td>02</td>\n",
              "      <td>2015</td>\n",
              "    </tr>\n",
              "    <tr>\n",
              "      <th>416</th>\n",
              "      <td>2015-06-01</td>\n",
              "      <td>ACS</td>\n",
              "      <td>Alternative Community Services</td>\n",
              "      <td>Criminal Justice Clients under Pre-Trial Services</td>\n",
              "      <td>699</td>\n",
              "      <td>06</td>\n",
              "      <td>2015</td>\n",
              "    </tr>\n",
              "    <tr>\n",
              "      <th>423</th>\n",
              "      <td>2015-05-01</td>\n",
              "      <td>ACS</td>\n",
              "      <td>Alternative Community Services</td>\n",
              "      <td>Criminal Justice Clients under Pre-Trial Services</td>\n",
              "      <td>751</td>\n",
              "      <td>05</td>\n",
              "      <td>2015</td>\n",
              "    </tr>\n",
              "    <tr>\n",
              "      <th>431</th>\n",
              "      <td>2015-04-01</td>\n",
              "      <td>ACS</td>\n",
              "      <td>Alternative Community Services</td>\n",
              "      <td>Criminal Justice Clients under Pre-Trial Services</td>\n",
              "      <td>780</td>\n",
              "      <td>04</td>\n",
              "      <td>2015</td>\n",
              "    </tr>\n",
              "    <tr>\n",
              "      <th>437</th>\n",
              "      <td>2015-03-01</td>\n",
              "      <td>ACS</td>\n",
              "      <td>Alternative Community Services</td>\n",
              "      <td>Criminal Justice Clients under Pre-Trial Services</td>\n",
              "      <td>749</td>\n",
              "      <td>03</td>\n",
              "      <td>2015</td>\n",
              "    </tr>\n",
              "    <tr>\n",
              "      <th>411</th>\n",
              "      <td>2015-07-01</td>\n",
              "      <td>ACS</td>\n",
              "      <td>Alternative Community Services</td>\n",
              "      <td>Criminal Justice Clients under Pre-Trial Services</td>\n",
              "      <td>705</td>\n",
              "      <td>07</td>\n",
              "      <td>2015</td>\n",
              "    </tr>\n",
              "    <tr>\n",
              "      <th>310</th>\n",
              "      <td>2016-12-01</td>\n",
              "      <td>ACS</td>\n",
              "      <td>Alternative Community Services</td>\n",
              "      <td>Criminal Justice Clients under Pre-Trial Services</td>\n",
              "      <td>729</td>\n",
              "      <td>12</td>\n",
              "      <td>2016</td>\n",
              "    </tr>\n",
              "    <tr>\n",
              "      <th>320</th>\n",
              "      <td>2016-10-01</td>\n",
              "      <td>ACS</td>\n",
              "      <td>Alternative Community Services</td>\n",
              "      <td>Criminal Justice Clients under Pre-Trial Services</td>\n",
              "      <td>894</td>\n",
              "      <td>10</td>\n",
              "      <td>2016</td>\n",
              "    </tr>\n",
              "    <tr>\n",
              "      <th>326</th>\n",
              "      <td>2016-09-01</td>\n",
              "      <td>ACS</td>\n",
              "      <td>Alternative Community Services</td>\n",
              "      <td>Criminal Justice Clients under Pre-Trial Services</td>\n",
              "      <td>955</td>\n",
              "      <td>09</td>\n",
              "      <td>2016</td>\n",
              "    </tr>\n",
              "    <tr>\n",
              "      <th>336</th>\n",
              "      <td>2016-07-01</td>\n",
              "      <td>ACS</td>\n",
              "      <td>Alternative Community Services</td>\n",
              "      <td>Criminal Justice Clients under Pre-Trial Services</td>\n",
              "      <td>933</td>\n",
              "      <td>07</td>\n",
              "      <td>2016</td>\n",
              "    </tr>\n",
              "    <tr>\n",
              "      <th>317</th>\n",
              "      <td>2016-11-01</td>\n",
              "      <td>ACS</td>\n",
              "      <td>Alternative Community Services</td>\n",
              "      <td>Criminal Justice Clients under Pre-Trial Services</td>\n",
              "      <td>804</td>\n",
              "      <td>11</td>\n",
              "      <td>2016</td>\n",
              "    </tr>\n",
              "    <tr>\n",
              "      <th>350</th>\n",
              "      <td>2016-05-01</td>\n",
              "      <td>ACS</td>\n",
              "      <td>Alternative Community Services</td>\n",
              "      <td>Criminal Justice Clients under Pre-Trial Services</td>\n",
              "      <td>1025</td>\n",
              "      <td>05</td>\n",
              "      <td>2016</td>\n",
              "    </tr>\n",
              "    <tr>\n",
              "      <th>346</th>\n",
              "      <td>2016-06-01</td>\n",
              "      <td>ACS</td>\n",
              "      <td>Alternative Community Services</td>\n",
              "      <td>Criminal Justice Clients under Pre-Trial Services</td>\n",
              "      <td>945</td>\n",
              "      <td>06</td>\n",
              "      <td>2016</td>\n",
              "    </tr>\n",
              "    <tr>\n",
              "      <th>377</th>\n",
              "      <td>2016-01-01</td>\n",
              "      <td>ACS</td>\n",
              "      <td>Alternative Community Services</td>\n",
              "      <td>Criminal Justice Clients under Pre-Trial Services</td>\n",
              "      <td>814</td>\n",
              "      <td>01</td>\n",
              "      <td>2016</td>\n",
              "    </tr>\n",
              "  </tbody>\n",
              "</table>\n",
              "</div>"
            ],
            "text/plain": [
              "                                         Date DSCC Abbr.  ... month   year\n",
              "DSCC Names                                                ...             \n",
              "Alternative Community Services 448 2015-01-01        ACS  ...    01   2015\n",
              "                               382 2015-12-01        ACS  ...    12   2015\n",
              "                               385 2015-11-01        ACS  ...    11   2015\n",
              "                               392 2015-10-01        ACS  ...    10   2015\n",
              "                               401 2015-09-01        ACS  ...    09   2015\n",
              "                               405 2015-08-01        ACS  ...    08   2015\n",
              "                               443 2015-02-01        ACS  ...    02   2015\n",
              "                               416 2015-06-01        ACS  ...    06   2015\n",
              "                               423 2015-05-01        ACS  ...    05   2015\n",
              "                               431 2015-04-01        ACS  ...    04   2015\n",
              "                               437 2015-03-01        ACS  ...    03   2015\n",
              "                               411 2015-07-01        ACS  ...    07   2015\n",
              "                               310 2016-12-01        ACS  ...    12   2016\n",
              "                               320 2016-10-01        ACS  ...    10   2016\n",
              "                               326 2016-09-01        ACS  ...    09   2016\n",
              "                               336 2016-07-01        ACS  ...    07   2016\n",
              "                               317 2016-11-01        ACS  ...    11   2016\n",
              "                               350 2016-05-01        ACS  ...    05   2016\n",
              "                               346 2016-06-01        ACS  ...    06   2016\n",
              "                               377 2016-01-01        ACS  ...    01   2016\n",
              "\n",
              "[20 rows x 7 columns]"
            ]
          },
          "metadata": {
            "tags": []
          },
          "execution_count": 234
        }
      ]
    },
    {
      "cell_type": "code",
      "metadata": {
        "colab": {
          "base_uri": "https://localhost:8080/",
          "height": 459
        },
        "id": "f_DUk0U2dqM2",
        "outputId": "3de5bea8-6ad0-451e-a3cb-a1b30b25603e"
      },
      "source": [
        "x = df_dscc['DSCC Abbr.']\n",
        "y = df_dscc['Avg. Daily Pop.']\n",
        "plt.bar(x, y)\n",
        "plt.xlabel('DSCC Abbreviations')\n",
        "plt.ylabel('Avg. Daily Pop.')\n",
        "plt.show()\n",
        "# not sure what lines represent, could be month/year. "
      ],
      "execution_count": 235,
      "outputs": [
        {
          "output_type": "display_data",
          "data": {
            "image/png": "[encoded data removed]",
            "text/plain": [
              "<Figure size 640x480 with 1 Axes>"
            ]
          },
          "metadata": {
            "tags": []
          }
        }
      ]
    },
    {
      "cell_type": "code",
      "metadata": {
        "colab": {
          "base_uri": "https://localhost:8080/"
        },
        "id": "Eoxf5sWsfZi7",
        "outputId": "cb40eb2e-f989-496f-8613-d57139562cdc"
      },
      "source": [
        "df_2020 = [(df_monthyear['year'] == 2020)]\n",
        "df_2020[:]"
      ],
      "execution_count": 236,
      "outputs": [
        {
          "output_type": "execute_result",
          "data": {
            "text/plain": [
              "[0     False\n",
              " 1     False\n",
              " 2     False\n",
              " 3     False\n",
              " 4     False\n",
              "       ...  \n",
              " 70    False\n",
              " 71    False\n",
              " 72    False\n",
              " 73    False\n",
              " 74    False\n",
              " Name: year, Length: 75, dtype: bool]"
            ]
          },
          "metadata": {
            "tags": []
          },
          "execution_count": 236
        }
      ]
    },
    {
      "cell_type": "code",
      "metadata": {
        "colab": {
          "base_uri": "https://localhost:8080/",
          "height": 296
        },
        "id": "XtONDs0c6t8h",
        "outputId": "14a0501c-96ed-47c9-d83a-d9c1b7172df3"
      },
      "source": [
        "df_1.head()"
      ],
      "execution_count": 237,
      "outputs": [
        {
          "output_type": "execute_result",
          "data": {
            "text/html": [
              "<div>\n",
              "<style scoped>\n",
              "    .dataframe tbody tr th:only-of-type {\n",
              "        vertical-align: middle;\n",
              "    }\n",
              "\n",
              "    .dataframe tbody tr th {\n",
              "        vertical-align: top;\n",
              "    }\n",
              "\n",
              "    .dataframe thead th {\n",
              "        text-align: right;\n",
              "    }\n",
              "</style>\n",
              "<table border=\"1\" class=\"dataframe\">\n",
              "  <thead>\n",
              "    <tr style=\"text-align: right;\">\n",
              "      <th></th>\n",
              "      <th>Date</th>\n",
              "      <th>DSCC Abbr.</th>\n",
              "      <th>DSCC Names</th>\n",
              "      <th>category</th>\n",
              "      <th>Avg. Daily Pop.</th>\n",
              "      <th>month</th>\n",
              "      <th>year</th>\n",
              "    </tr>\n",
              "  </thead>\n",
              "  <tbody>\n",
              "    <tr>\n",
              "      <th>0</th>\n",
              "      <td>2021-03-01</td>\n",
              "      <td>PTSU</td>\n",
              "      <td>Pre-Trial Supervision Unit</td>\n",
              "      <td>Criminal Justice Clients under Pre-Trial Services</td>\n",
              "      <td>946</td>\n",
              "      <td>03</td>\n",
              "      <td>2021</td>\n",
              "    </tr>\n",
              "    <tr>\n",
              "      <th>1</th>\n",
              "      <td>2021-03-01</td>\n",
              "      <td>MCCF</td>\n",
              "      <td>Montgomery County Correctional Facility</td>\n",
              "      <td>Inmates in DOCR Custody</td>\n",
              "      <td>505</td>\n",
              "      <td>03</td>\n",
              "      <td>2021</td>\n",
              "    </tr>\n",
              "    <tr>\n",
              "      <th>2</th>\n",
              "      <td>2021-03-01</td>\n",
              "      <td>PRRS</td>\n",
              "      <td>Pre-Release and Re-Entry Services</td>\n",
              "      <td>Inmates in DOCR Custody</td>\n",
              "      <td>0</td>\n",
              "      <td>03</td>\n",
              "      <td>2021</td>\n",
              "    </tr>\n",
              "    <tr>\n",
              "      <th>3</th>\n",
              "      <td>2021-03-01</td>\n",
              "      <td>ACS</td>\n",
              "      <td>Alternative Community Services</td>\n",
              "      <td>Criminal Justice Clients under Pre-Trial Services</td>\n",
              "      <td>301</td>\n",
              "      <td>03</td>\n",
              "      <td>2021</td>\n",
              "    </tr>\n",
              "    <tr>\n",
              "      <th>4</th>\n",
              "      <td>2021-03-01</td>\n",
              "      <td>IPSA</td>\n",
              "      <td>Intervention Program for Substance Abusers</td>\n",
              "      <td>Criminal Justice Clients under Pre-Trial Services</td>\n",
              "      <td>67</td>\n",
              "      <td>03</td>\n",
              "      <td>2021</td>\n",
              "    </tr>\n",
              "  </tbody>\n",
              "</table>\n",
              "</div>"
            ],
            "text/plain": [
              "        Date DSCC Abbr.  ... month   year\n",
              "0 2021-03-01       PTSU  ...    03   2021\n",
              "1 2021-03-01       MCCF  ...    03   2021\n",
              "2 2021-03-01       PRRS  ...    03   2021\n",
              "3 2021-03-01        ACS  ...    03   2021\n",
              "4 2021-03-01       IPSA  ...    03   2021\n",
              "\n",
              "[5 rows x 7 columns]"
            ]
          },
          "metadata": {
            "tags": []
          },
          "execution_count": 237
        }
      ]
    },
    {
      "cell_type": "code",
      "metadata": {
        "colab": {
          "base_uri": "https://localhost:8080/",
          "height": 279
        },
        "id": "v1OImPpA7Hug",
        "outputId": "fb8f8bb8-cafb-4033-893e-6ac7af3c5949"
      },
      "source": [
        "# Rename columns\n",
        "df_1 = df_1.rename(columns = {\"DSCC Abbr.\": \"DSCC_Abbr.\", \"DSCC Names\" : \"DSCC_Names\", \"Avg. Daily Pop.\": \"ADP\"})\n",
        "df_1.head()"
      ],
      "execution_count": 238,
      "outputs": [
        {
          "output_type": "execute_result",
          "data": {
            "text/html": [
              "<div>\n",
              "<style scoped>\n",
              "    .dataframe tbody tr th:only-of-type {\n",
              "        vertical-align: middle;\n",
              "    }\n",
              "\n",
              "    .dataframe tbody tr th {\n",
              "        vertical-align: top;\n",
              "    }\n",
              "\n",
              "    .dataframe thead th {\n",
              "        text-align: right;\n",
              "    }\n",
              "</style>\n",
              "<table border=\"1\" class=\"dataframe\">\n",
              "  <thead>\n",
              "    <tr style=\"text-align: right;\">\n",
              "      <th></th>\n",
              "      <th>Date</th>\n",
              "      <th>DSCC_Abbr.</th>\n",
              "      <th>DSCC_Names</th>\n",
              "      <th>category</th>\n",
              "      <th>ADP</th>\n",
              "      <th>month</th>\n",
              "      <th>year</th>\n",
              "    </tr>\n",
              "  </thead>\n",
              "  <tbody>\n",
              "    <tr>\n",
              "      <th>0</th>\n",
              "      <td>2021-03-01</td>\n",
              "      <td>PTSU</td>\n",
              "      <td>Pre-Trial Supervision Unit</td>\n",
              "      <td>Criminal Justice Clients under Pre-Trial Services</td>\n",
              "      <td>946</td>\n",
              "      <td>03</td>\n",
              "      <td>2021</td>\n",
              "    </tr>\n",
              "    <tr>\n",
              "      <th>1</th>\n",
              "      <td>2021-03-01</td>\n",
              "      <td>MCCF</td>\n",
              "      <td>Montgomery County Correctional Facility</td>\n",
              "      <td>Inmates in DOCR Custody</td>\n",
              "      <td>505</td>\n",
              "      <td>03</td>\n",
              "      <td>2021</td>\n",
              "    </tr>\n",
              "    <tr>\n",
              "      <th>2</th>\n",
              "      <td>2021-03-01</td>\n",
              "      <td>PRRS</td>\n",
              "      <td>Pre-Release and Re-Entry Services</td>\n",
              "      <td>Inmates in DOCR Custody</td>\n",
              "      <td>0</td>\n",
              "      <td>03</td>\n",
              "      <td>2021</td>\n",
              "    </tr>\n",
              "    <tr>\n",
              "      <th>3</th>\n",
              "      <td>2021-03-01</td>\n",
              "      <td>ACS</td>\n",
              "      <td>Alternative Community Services</td>\n",
              "      <td>Criminal Justice Clients under Pre-Trial Services</td>\n",
              "      <td>301</td>\n",
              "      <td>03</td>\n",
              "      <td>2021</td>\n",
              "    </tr>\n",
              "    <tr>\n",
              "      <th>4</th>\n",
              "      <td>2021-03-01</td>\n",
              "      <td>IPSA</td>\n",
              "      <td>Intervention Program for Substance Abusers</td>\n",
              "      <td>Criminal Justice Clients under Pre-Trial Services</td>\n",
              "      <td>67</td>\n",
              "      <td>03</td>\n",
              "      <td>2021</td>\n",
              "    </tr>\n",
              "  </tbody>\n",
              "</table>\n",
              "</div>"
            ],
            "text/plain": [
              "        Date DSCC_Abbr.  ... month   year\n",
              "0 2021-03-01       PTSU  ...    03   2021\n",
              "1 2021-03-01       MCCF  ...    03   2021\n",
              "2 2021-03-01       PRRS  ...    03   2021\n",
              "3 2021-03-01        ACS  ...    03   2021\n",
              "4 2021-03-01       IPSA  ...    03   2021\n",
              "\n",
              "[5 rows x 7 columns]"
            ]
          },
          "metadata": {
            "tags": []
          },
          "execution_count": 238
        }
      ]
    },
    {
      "cell_type": "code",
      "metadata": {
        "colab": {
          "base_uri": "https://localhost:8080/"
        },
        "id": "giWhxrza6xqa",
        "outputId": "394b83ac-2aeb-4b57-de1b-dcdbd48c76c2"
      },
      "source": [
        "# examine unique categories to try to isolate pre-trial from sentenced\n",
        "df_1.category.unique()"
      ],
      "execution_count": 239,
      "outputs": [
        {
          "output_type": "execute_result",
          "data": {
            "text/plain": [
              "array(['Criminal Justice Clients under Pre-Trial Services',\n",
              "       'Inmates in DOCR Custody'], dtype=object)"
            ]
          },
          "metadata": {
            "tags": []
          },
          "execution_count": 239
        }
      ]
    },
    {
      "cell_type": "code",
      "metadata": {
        "colab": {
          "base_uri": "https://localhost:8080/"
        },
        "id": "RzrE5aNE7Aio",
        "outputId": "d4c9e654-52be-426e-e889-754c2b598998"
      },
      "source": [
        "# examine uinque DSCC names to try to isolate pre-trial from sentenced\n",
        "df_1.DSCC_Names.unique()"
      ],
      "execution_count": 240,
      "outputs": [
        {
          "output_type": "execute_result",
          "data": {
            "text/plain": [
              "array(['Pre-Trial Supervision Unit',\n",
              "       'Montgomery County Correctional Facility',\n",
              "       'Pre-Release and Re-Entry Services',\n",
              "       'Alternative Community Services',\n",
              "       'Intervention Program for Substance Abusers',\n",
              "       'Montgomery County Detention Center'], dtype=object)"
            ]
          },
          "metadata": {
            "tags": []
          },
          "execution_count": 240
        }
      ]
    },
    {
      "cell_type": "code",
      "metadata": {
        "colab": {
          "base_uri": "https://localhost:8080/",
          "height": 279
        },
        "id": "ElvFHV168DvN",
        "outputId": "b0280d40-68e0-4392-9976-fc9789dbf526"
      },
      "source": [
        "# Drop all row entries with \"Pre-Release and Re-Entry Services\" since that is post-conviction\n",
        "df_1_pretrial = df_1[df_1.DSCC_Names != 'Pre-Release and Re-Entry Services']\n",
        "df_1_pretrial.head()"
      ],
      "execution_count": 241,
      "outputs": [
        {
          "output_type": "execute_result",
          "data": {
            "text/html": [
              "<div>\n",
              "<style scoped>\n",
              "    .dataframe tbody tr th:only-of-type {\n",
              "        vertical-align: middle;\n",
              "    }\n",
              "\n",
              "    .dataframe tbody tr th {\n",
              "        vertical-align: top;\n",
              "    }\n",
              "\n",
              "    .dataframe thead th {\n",
              "        text-align: right;\n",
              "    }\n",
              "</style>\n",
              "<table border=\"1\" class=\"dataframe\">\n",
              "  <thead>\n",
              "    <tr style=\"text-align: right;\">\n",
              "      <th></th>\n",
              "      <th>Date</th>\n",
              "      <th>DSCC_Abbr.</th>\n",
              "      <th>DSCC_Names</th>\n",
              "      <th>category</th>\n",
              "      <th>ADP</th>\n",
              "      <th>month</th>\n",
              "      <th>year</th>\n",
              "    </tr>\n",
              "  </thead>\n",
              "  <tbody>\n",
              "    <tr>\n",
              "      <th>0</th>\n",
              "      <td>2021-03-01</td>\n",
              "      <td>PTSU</td>\n",
              "      <td>Pre-Trial Supervision Unit</td>\n",
              "      <td>Criminal Justice Clients under Pre-Trial Services</td>\n",
              "      <td>946</td>\n",
              "      <td>03</td>\n",
              "      <td>2021</td>\n",
              "    </tr>\n",
              "    <tr>\n",
              "      <th>1</th>\n",
              "      <td>2021-03-01</td>\n",
              "      <td>MCCF</td>\n",
              "      <td>Montgomery County Correctional Facility</td>\n",
              "      <td>Inmates in DOCR Custody</td>\n",
              "      <td>505</td>\n",
              "      <td>03</td>\n",
              "      <td>2021</td>\n",
              "    </tr>\n",
              "    <tr>\n",
              "      <th>3</th>\n",
              "      <td>2021-03-01</td>\n",
              "      <td>ACS</td>\n",
              "      <td>Alternative Community Services</td>\n",
              "      <td>Criminal Justice Clients under Pre-Trial Services</td>\n",
              "      <td>301</td>\n",
              "      <td>03</td>\n",
              "      <td>2021</td>\n",
              "    </tr>\n",
              "    <tr>\n",
              "      <th>4</th>\n",
              "      <td>2021-03-01</td>\n",
              "      <td>IPSA</td>\n",
              "      <td>Intervention Program for Substance Abusers</td>\n",
              "      <td>Criminal Justice Clients under Pre-Trial Services</td>\n",
              "      <td>67</td>\n",
              "      <td>03</td>\n",
              "      <td>2021</td>\n",
              "    </tr>\n",
              "    <tr>\n",
              "      <th>5</th>\n",
              "      <td>2021-03-01</td>\n",
              "      <td>MCDC</td>\n",
              "      <td>Montgomery County Detention Center</td>\n",
              "      <td>Inmates in DOCR Custody</td>\n",
              "      <td>51</td>\n",
              "      <td>03</td>\n",
              "      <td>2021</td>\n",
              "    </tr>\n",
              "  </tbody>\n",
              "</table>\n",
              "</div>"
            ],
            "text/plain": [
              "        Date DSCC_Abbr.  ... month   year\n",
              "0 2021-03-01       PTSU  ...    03   2021\n",
              "1 2021-03-01       MCCF  ...    03   2021\n",
              "3 2021-03-01        ACS  ...    03   2021\n",
              "4 2021-03-01       IPSA  ...    03   2021\n",
              "5 2021-03-01       MCDC  ...    03   2021\n",
              "\n",
              "[5 rows x 7 columns]"
            ]
          },
          "metadata": {
            "tags": []
          },
          "execution_count": 241
        }
      ]
    },
    {
      "cell_type": "code",
      "metadata": {
        "colab": {
          "base_uri": "https://localhost:8080/",
          "height": 195
        },
        "id": "uzDKvkVt8p5p",
        "outputId": "da829728-d29b-4266-f4f0-a67fb4aa1902"
      },
      "source": [
        "df_1_inmates = df_1_pretrial[df_1_pretrial.category != 'Criminal Justice Clients under Pre-Trial Services']\n",
        "df_1_inmates.head()"
      ],
      "execution_count": 242,
      "outputs": [
        {
          "output_type": "execute_result",
          "data": {
            "text/html": [
              "<div>\n",
              "<style scoped>\n",
              "    .dataframe tbody tr th:only-of-type {\n",
              "        vertical-align: middle;\n",
              "    }\n",
              "\n",
              "    .dataframe tbody tr th {\n",
              "        vertical-align: top;\n",
              "    }\n",
              "\n",
              "    .dataframe thead th {\n",
              "        text-align: right;\n",
              "    }\n",
              "</style>\n",
              "<table border=\"1\" class=\"dataframe\">\n",
              "  <thead>\n",
              "    <tr style=\"text-align: right;\">\n",
              "      <th></th>\n",
              "      <th>Date</th>\n",
              "      <th>DSCC_Abbr.</th>\n",
              "      <th>DSCC_Names</th>\n",
              "      <th>category</th>\n",
              "      <th>ADP</th>\n",
              "      <th>month</th>\n",
              "      <th>year</th>\n",
              "    </tr>\n",
              "  </thead>\n",
              "  <tbody>\n",
              "    <tr>\n",
              "      <th>1</th>\n",
              "      <td>2021-03-01</td>\n",
              "      <td>MCCF</td>\n",
              "      <td>Montgomery County Correctional Facility</td>\n",
              "      <td>Inmates in DOCR Custody</td>\n",
              "      <td>505</td>\n",
              "      <td>03</td>\n",
              "      <td>2021</td>\n",
              "    </tr>\n",
              "    <tr>\n",
              "      <th>5</th>\n",
              "      <td>2021-03-01</td>\n",
              "      <td>MCDC</td>\n",
              "      <td>Montgomery County Detention Center</td>\n",
              "      <td>Inmates in DOCR Custody</td>\n",
              "      <td>51</td>\n",
              "      <td>03</td>\n",
              "      <td>2021</td>\n",
              "    </tr>\n",
              "    <tr>\n",
              "      <th>6</th>\n",
              "      <td>2021-02-01</td>\n",
              "      <td>MCDC</td>\n",
              "      <td>Montgomery County Detention Center</td>\n",
              "      <td>Inmates in DOCR Custody</td>\n",
              "      <td>50</td>\n",
              "      <td>02</td>\n",
              "      <td>2021</td>\n",
              "    </tr>\n",
              "    <tr>\n",
              "      <th>8</th>\n",
              "      <td>2021-02-01</td>\n",
              "      <td>MCCF</td>\n",
              "      <td>Montgomery County Correctional Facility</td>\n",
              "      <td>Inmates in DOCR Custody</td>\n",
              "      <td>485</td>\n",
              "      <td>02</td>\n",
              "      <td>2021</td>\n",
              "    </tr>\n",
              "    <tr>\n",
              "      <th>13</th>\n",
              "      <td>2021-01-01</td>\n",
              "      <td>MCDC</td>\n",
              "      <td>Montgomery County Detention Center</td>\n",
              "      <td>Inmates in DOCR Custody</td>\n",
              "      <td>53</td>\n",
              "      <td>01</td>\n",
              "      <td>2021</td>\n",
              "    </tr>\n",
              "  </tbody>\n",
              "</table>\n",
              "</div>"
            ],
            "text/plain": [
              "         Date DSCC_Abbr.  ... month   year\n",
              "1  2021-03-01       MCCF  ...    03   2021\n",
              "5  2021-03-01       MCDC  ...    03   2021\n",
              "6  2021-02-01       MCDC  ...    02   2021\n",
              "8  2021-02-01       MCCF  ...    02   2021\n",
              "13 2021-01-01       MCDC  ...    01   2021\n",
              "\n",
              "[5 rows x 7 columns]"
            ]
          },
          "metadata": {
            "tags": []
          },
          "execution_count": 242
        }
      ]
    },
    {
      "cell_type": "code",
      "metadata": {
        "colab": {
          "base_uri": "https://localhost:8080/"
        },
        "id": "OMXyaxun9VUB",
        "outputId": "3a961713-6ca3-4d7e-ea51-5697ee34be0f"
      },
      "source": [
        "df_1_inmates.count()"
      ],
      "execution_count": 243,
      "outputs": [
        {
          "output_type": "execute_result",
          "data": {
            "text/plain": [
              "Date          150\n",
              "DSCC_Abbr.    150\n",
              "DSCC_Names    150\n",
              "category      150\n",
              "ADP           150\n",
              "month         150\n",
              "year          150\n",
              "dtype: int64"
            ]
          },
          "metadata": {
            "tags": []
          },
          "execution_count": 243
        }
      ]
    },
    {
      "cell_type": "code",
      "metadata": {
        "colab": {
          "base_uri": "https://localhost:8080/",
          "height": 279
        },
        "id": "Ox63D6UD9cZB",
        "outputId": "a0423957-523d-4c6e-bc61-1d914d40b098"
      },
      "source": [
        "df_1_pts = df_1[df_1.category == 'Criminal Justice Clients under Pre-Trial Services']\n",
        "df_1_pts.head()"
      ],
      "execution_count": 244,
      "outputs": [
        {
          "output_type": "execute_result",
          "data": {
            "text/html": [
              "<div>\n",
              "<style scoped>\n",
              "    .dataframe tbody tr th:only-of-type {\n",
              "        vertical-align: middle;\n",
              "    }\n",
              "\n",
              "    .dataframe tbody tr th {\n",
              "        vertical-align: top;\n",
              "    }\n",
              "\n",
              "    .dataframe thead th {\n",
              "        text-align: right;\n",
              "    }\n",
              "</style>\n",
              "<table border=\"1\" class=\"dataframe\">\n",
              "  <thead>\n",
              "    <tr style=\"text-align: right;\">\n",
              "      <th></th>\n",
              "      <th>Date</th>\n",
              "      <th>DSCC_Abbr.</th>\n",
              "      <th>DSCC_Names</th>\n",
              "      <th>category</th>\n",
              "      <th>ADP</th>\n",
              "      <th>month</th>\n",
              "      <th>year</th>\n",
              "    </tr>\n",
              "  </thead>\n",
              "  <tbody>\n",
              "    <tr>\n",
              "      <th>0</th>\n",
              "      <td>2021-03-01</td>\n",
              "      <td>PTSU</td>\n",
              "      <td>Pre-Trial Supervision Unit</td>\n",
              "      <td>Criminal Justice Clients under Pre-Trial Services</td>\n",
              "      <td>946</td>\n",
              "      <td>03</td>\n",
              "      <td>2021</td>\n",
              "    </tr>\n",
              "    <tr>\n",
              "      <th>3</th>\n",
              "      <td>2021-03-01</td>\n",
              "      <td>ACS</td>\n",
              "      <td>Alternative Community Services</td>\n",
              "      <td>Criminal Justice Clients under Pre-Trial Services</td>\n",
              "      <td>301</td>\n",
              "      <td>03</td>\n",
              "      <td>2021</td>\n",
              "    </tr>\n",
              "    <tr>\n",
              "      <th>4</th>\n",
              "      <td>2021-03-01</td>\n",
              "      <td>IPSA</td>\n",
              "      <td>Intervention Program for Substance Abusers</td>\n",
              "      <td>Criminal Justice Clients under Pre-Trial Services</td>\n",
              "      <td>67</td>\n",
              "      <td>03</td>\n",
              "      <td>2021</td>\n",
              "    </tr>\n",
              "    <tr>\n",
              "      <th>7</th>\n",
              "      <td>2021-02-01</td>\n",
              "      <td>PTSU</td>\n",
              "      <td>Pre-Trial Supervision Unit</td>\n",
              "      <td>Criminal Justice Clients under Pre-Trial Services</td>\n",
              "      <td>918</td>\n",
              "      <td>02</td>\n",
              "      <td>2021</td>\n",
              "    </tr>\n",
              "    <tr>\n",
              "      <th>9</th>\n",
              "      <td>2021-02-01</td>\n",
              "      <td>IPSA</td>\n",
              "      <td>Intervention Program for Substance Abusers</td>\n",
              "      <td>Criminal Justice Clients under Pre-Trial Services</td>\n",
              "      <td>68</td>\n",
              "      <td>02</td>\n",
              "      <td>2021</td>\n",
              "    </tr>\n",
              "  </tbody>\n",
              "</table>\n",
              "</div>"
            ],
            "text/plain": [
              "        Date DSCC_Abbr.  ... month   year\n",
              "0 2021-03-01       PTSU  ...    03   2021\n",
              "3 2021-03-01        ACS  ...    03   2021\n",
              "4 2021-03-01       IPSA  ...    03   2021\n",
              "7 2021-02-01       PTSU  ...    02   2021\n",
              "9 2021-02-01       IPSA  ...    02   2021\n",
              "\n",
              "[5 rows x 7 columns]"
            ]
          },
          "metadata": {
            "tags": []
          },
          "execution_count": 244
        }
      ]
    },
    {
      "cell_type": "code",
      "metadata": {
        "colab": {
          "base_uri": "https://localhost:8080/"
        },
        "id": "4ExrXxkS92iV",
        "outputId": "28944b32-a145-4ebc-ab11-ffc51e4ba401"
      },
      "source": [
        "df_1_pts.value_counts()"
      ],
      "execution_count": 245,
      "outputs": [
        {
          "output_type": "execute_result",
          "data": {
            "text/plain": [
              "Date        DSCC_Abbr.  DSCC_Names                                  category                                           ADP  month  year \n",
              "2021-03-01  PTSU        Pre-Trial Supervision Unit                  Criminal Justice Clients under Pre-Trial Services  946  03      2021    1\n",
              "2018-02-01  ACS         Alternative Community Services              Criminal Justice Clients under Pre-Trial Services  653  02      2018    1\n",
              "2017-04-01  ACS         Alternative Community Services              Criminal Justice Clients under Pre-Trial Services  649  04      2017    1\n",
              "2017-03-01  PTSU        Pre-Trial Supervision Unit                  Criminal Justice Clients under Pre-Trial Services  721  03      2017    1\n",
              "            IPSA        Intervention Program for Substance Abusers  Criminal Justice Clients under Pre-Trial Services  151  03      2017    1\n",
              "                                                                                                                                           ..\n",
              "2019-01-01  IPSA        Intervention Program for Substance Abusers  Criminal Justice Clients under Pre-Trial Services  114  01      2019    1\n",
              "            ACS         Alternative Community Services              Criminal Justice Clients under Pre-Trial Services  564  01      2019    1\n",
              "2018-12-01  PTSU        Pre-Trial Supervision Unit                  Criminal Justice Clients under Pre-Trial Services  757  12      2018    1\n",
              "            IPSA        Intervention Program for Substance Abusers  Criminal Justice Clients under Pre-Trial Services  133  12      2018    1\n",
              "2015-01-01  ACS         Alternative Community Services              Criminal Justice Clients under Pre-Trial Services  721  01      2015    1\n",
              "Length: 225, dtype: int64"
            ]
          },
          "metadata": {
            "tags": []
          },
          "execution_count": 245
        }
      ]
    },
    {
      "cell_type": "code",
      "metadata": {
        "colab": {
          "base_uri": "https://localhost:8080/"
        },
        "id": "UUYKzc17-VU-",
        "outputId": "a519f405-6d09-437f-a919-7d63bb4b1cba"
      },
      "source": [
        "df_1_pretrial.groupby(\"category\")[\"ADP\"].mean()"
      ],
      "execution_count": 246,
      "outputs": [
        {
          "output_type": "execute_result",
          "data": {
            "text/plain": [
              "category\n",
              "Criminal Justice Clients under Pre-Trial Services    507.080000\n",
              "Inmates in DOCR Custody                              307.953333\n",
              "Name: ADP, dtype: float64"
            ]
          },
          "metadata": {
            "tags": []
          },
          "execution_count": 246
        }
      ]
    },
    {
      "cell_type": "code",
      "metadata": {
        "colab": {
          "base_uri": "https://localhost:8080/"
        },
        "id": "j4ub-X8J__YQ",
        "outputId": "06e6b16b-f993-49ee-cb9a-0ca9e8ac0da6"
      },
      "source": [
        "df_1.groupby(\"category\")[\"ADP\"].mean()"
      ],
      "execution_count": 247,
      "outputs": [
        {
          "output_type": "execute_result",
          "data": {
            "text/plain": [
              "category\n",
              "Criminal Justice Clients under Pre-Trial Services    507.080000\n",
              "Inmates in DOCR Custody                              239.906667\n",
              "Name: ADP, dtype: float64"
            ]
          },
          "metadata": {
            "tags": []
          },
          "execution_count": 247
        }
      ]
    },
    {
      "cell_type": "code",
      "metadata": {
        "colab": {
          "base_uri": "https://localhost:8080/"
        },
        "id": "AA4T6jgp-upq",
        "outputId": "734d5f06-6016-4505-a621-cbbee44b1bff"
      },
      "source": [
        "df_1.groupby(\"category\")[\"ADP\"].sum()"
      ],
      "execution_count": 248,
      "outputs": [
        {
          "output_type": "execute_result",
          "data": {
            "text/plain": [
              "category\n",
              "Criminal Justice Clients under Pre-Trial Services    114093\n",
              "Inmates in DOCR Custody                               53979\n",
              "Name: ADP, dtype: int64"
            ]
          },
          "metadata": {
            "tags": []
          },
          "execution_count": 248
        }
      ]
    },
    {
      "cell_type": "code",
      "metadata": {
        "colab": {
          "base_uri": "https://localhost:8080/"
        },
        "id": "Tv1ONkTmAO7u",
        "outputId": "05f198a1-d931-437e-bd61-3c8cf044ce8b"
      },
      "source": [
        "df_1_pretrial.groupby(\"category\")[\"ADP\"].sum()"
      ],
      "execution_count": 249,
      "outputs": [
        {
          "output_type": "execute_result",
          "data": {
            "text/plain": [
              "category\n",
              "Criminal Justice Clients under Pre-Trial Services    114093\n",
              "Inmates in DOCR Custody                               46193\n",
              "Name: ADP, dtype: int64"
            ]
          },
          "metadata": {
            "tags": []
          },
          "execution_count": 249
        }
      ]
    },
    {
      "cell_type": "code",
      "metadata": {
        "colab": {
          "base_uri": "https://localhost:8080/",
          "height": 492
        },
        "id": "WvSc1mpmABm8",
        "outputId": "5e8141ab-44c5-4eaa-baf6-2b1a9e7b2e77"
      },
      "source": [
        "#PLOT 1 Average Daily Population \n",
        "import numpy as np\n",
        "import pandas as pd\n",
        "from pandas import Series, DataFrame\n",
        "import matplotlib.pyplot as plt\n",
        "\n",
        "plt.figure(figsize=(9,6)) \n",
        "plt.bar(x=df_1_pretrial['year'], \n",
        "        height=df_1_pretrial['ADP'], \n",
        "        color='blue') \n",
        "plt.xticks(rotation=45)\n",
        "plt.title('ADP by Year')"
      ],
      "execution_count": 250,
      "outputs": [
        {
          "output_type": "execute_result",
          "data": {
            "text/plain": [
              "Text(0.5, 1.0, 'ADP by Year')"
            ]
          },
          "metadata": {
            "tags": []
          },
          "execution_count": 250
        },
        {
          "output_type": "display_data",
          "data": {
            "image/png": "[encoded data removed]",
            "text/plain": [
              "<Figure size 720x480 with 1 Axes>"
            ]
          },
          "metadata": {
            "tags": []
          }
        }
      ]
    },
    {
      "cell_type": "code",
      "metadata": {
        "colab": {
          "base_uri": "https://localhost:8080/",
          "height": 514
        },
        "id": "2wsHMbAJDRax",
        "outputId": "c5066dd0-d058-46ed-f033-716d1bb48733"
      },
      "source": [
        "# Plot Comparing Pretrial services versus detention\n",
        "import numpy as np\n",
        "import pandas as pd\n",
        "from matplotlib import pyplot as plt\n",
        "import seaborn as sns\n",
        "sns.set()\n",
        "\n",
        "ax = df_1_pretrial.groupby(['year', 'category'])['ADP'].mean().unstack().plot.bar(colormap='PRGn', alpha = 0.7)\n",
        "ax.set_facecolor('white')\n",
        "plt.grid(True, linewidth=0.5, color='grey', linestyle='-')\n",
        "ax.legend(bbox_to_anchor = [1, 1])\n",
        "plt.title(\"Pre-Trial Status by Year\")\n",
        "plt.xlabel(\"Year\")\n",
        "plt.ylabel(\"Average Daily Population\")\n"
      ],
      "execution_count": 251,
      "outputs": [
        {
          "output_type": "execute_result",
          "data": {
            "text/plain": [
              "Text(0, 0.5, 'Average Daily Population')"
            ]
          },
          "metadata": {
            "tags": []
          },
          "execution_count": 251
        },
        {
          "output_type": "display_data",
          "data": {
            "image/png": "[encoded data removed]",
            "text/plain": [
              "<Figure size 640x480 with 1 Axes>"
            ]
          },
          "metadata": {
            "tags": []
          }
        }
      ]
    },
    {
      "cell_type": "code",
      "metadata": {
        "colab": {
          "base_uri": "https://localhost:8080/",
          "height": 514
        },
        "id": "c4-47oOpinAg",
        "outputId": "783fd4be-ed78-4277-b4ae-ec20e4cde095"
      },
      "source": [
        "sns.set_style(\"whitegrid\")\n",
        "\n",
        "ax = df_1_pretrial.groupby(['year', 'category'])['ADP'].mean().unstack().plot.bar(colormap='PRGn', alpha = 0.5)\n",
        "ax.legend(bbox_to_anchor = [1, 1])\n",
        "plt.title(\"Pre-Trial Status by Year\")\n",
        "plt.xlabel(\"Year\")\n",
        "plt.ylabel(\"Average Daily Population\")"
      ],
      "execution_count": 252,
      "outputs": [
        {
          "output_type": "execute_result",
          "data": {
            "text/plain": [
              "Text(0, 0.5, 'Average Daily Population')"
            ]
          },
          "metadata": {
            "tags": []
          },
          "execution_count": 252
        },
        {
          "output_type": "display_data",
          "data": {
            "image/png": "[encoded data removed]",
            "text/plain": [
              "<Figure size 640x480 with 1 Axes>"
            ]
          },
          "metadata": {
            "tags": []
          }
        }
      ]
    },
    {
      "cell_type": "code",
      "metadata": {
        "colab": {
          "base_uri": "https://localhost:8080/",
          "height": 279
        },
        "id": "NVEvW6U5gKLQ",
        "outputId": "35577648-10ac-4c59-afb4-24f734645c50"
      },
      "source": [
        "df_1.head()"
      ],
      "execution_count": 253,
      "outputs": [
        {
          "output_type": "execute_result",
          "data": {
            "text/html": [
              "<div>\n",
              "<style scoped>\n",
              "    .dataframe tbody tr th:only-of-type {\n",
              "        vertical-align: middle;\n",
              "    }\n",
              "\n",
              "    .dataframe tbody tr th {\n",
              "        vertical-align: top;\n",
              "    }\n",
              "\n",
              "    .dataframe thead th {\n",
              "        text-align: right;\n",
              "    }\n",
              "</style>\n",
              "<table border=\"1\" class=\"dataframe\">\n",
              "  <thead>\n",
              "    <tr style=\"text-align: right;\">\n",
              "      <th></th>\n",
              "      <th>Date</th>\n",
              "      <th>DSCC_Abbr.</th>\n",
              "      <th>DSCC_Names</th>\n",
              "      <th>category</th>\n",
              "      <th>ADP</th>\n",
              "      <th>month</th>\n",
              "      <th>year</th>\n",
              "    </tr>\n",
              "  </thead>\n",
              "  <tbody>\n",
              "    <tr>\n",
              "      <th>0</th>\n",
              "      <td>2021-03-01</td>\n",
              "      <td>PTSU</td>\n",
              "      <td>Pre-Trial Supervision Unit</td>\n",
              "      <td>Criminal Justice Clients under Pre-Trial Services</td>\n",
              "      <td>946</td>\n",
              "      <td>03</td>\n",
              "      <td>2021</td>\n",
              "    </tr>\n",
              "    <tr>\n",
              "      <th>1</th>\n",
              "      <td>2021-03-01</td>\n",
              "      <td>MCCF</td>\n",
              "      <td>Montgomery County Correctional Facility</td>\n",
              "      <td>Inmates in DOCR Custody</td>\n",
              "      <td>505</td>\n",
              "      <td>03</td>\n",
              "      <td>2021</td>\n",
              "    </tr>\n",
              "    <tr>\n",
              "      <th>2</th>\n",
              "      <td>2021-03-01</td>\n",
              "      <td>PRRS</td>\n",
              "      <td>Pre-Release and Re-Entry Services</td>\n",
              "      <td>Inmates in DOCR Custody</td>\n",
              "      <td>0</td>\n",
              "      <td>03</td>\n",
              "      <td>2021</td>\n",
              "    </tr>\n",
              "    <tr>\n",
              "      <th>3</th>\n",
              "      <td>2021-03-01</td>\n",
              "      <td>ACS</td>\n",
              "      <td>Alternative Community Services</td>\n",
              "      <td>Criminal Justice Clients under Pre-Trial Services</td>\n",
              "      <td>301</td>\n",
              "      <td>03</td>\n",
              "      <td>2021</td>\n",
              "    </tr>\n",
              "    <tr>\n",
              "      <th>4</th>\n",
              "      <td>2021-03-01</td>\n",
              "      <td>IPSA</td>\n",
              "      <td>Intervention Program for Substance Abusers</td>\n",
              "      <td>Criminal Justice Clients under Pre-Trial Services</td>\n",
              "      <td>67</td>\n",
              "      <td>03</td>\n",
              "      <td>2021</td>\n",
              "    </tr>\n",
              "  </tbody>\n",
              "</table>\n",
              "</div>"
            ],
            "text/plain": [
              "        Date DSCC_Abbr.  ... month   year\n",
              "0 2021-03-01       PTSU  ...    03   2021\n",
              "1 2021-03-01       MCCF  ...    03   2021\n",
              "2 2021-03-01       PRRS  ...    03   2021\n",
              "3 2021-03-01        ACS  ...    03   2021\n",
              "4 2021-03-01       IPSA  ...    03   2021\n",
              "\n",
              "[5 rows x 7 columns]"
            ]
          },
          "metadata": {
            "tags": []
          },
          "execution_count": 253
        }
      ]
    },
    {
      "cell_type": "code",
      "metadata": {
        "colab": {
          "base_uri": "https://localhost:8080/",
          "height": 514
        },
        "id": "iAbtH4ZhH24n",
        "outputId": "e98a3e8a-23d2-4c41-9378-bfd50f308c6e"
      },
      "source": [
        "# Table of total daily population of people in pretrial services versus detention by year\n",
        "ax = df_1_pretrial.groupby(['year', 'category'])['ADP'].mean().unstack().plot.bar(colormap='PRGn', alpha = 0.5)\n",
        "ax.set_facecolor('white')\n",
        "ax.legend(bbox_to_anchor = [1, 1])\n",
        "\n",
        "plt.title('Inmates Released versus Pre-Trial Services')\n",
        "plt.xlabel('Year')\n",
        "plt.ylabel('Total')"
      ],
      "execution_count": 254,
      "outputs": [
        {
          "output_type": "execute_result",
          "data": {
            "text/plain": [
              "Text(0, 0.5, 'Total')"
            ]
          },
          "metadata": {
            "tags": []
          },
          "execution_count": 254
        },
        {
          "output_type": "display_data",
          "data": {
            "image/png": "[encoded data removed]",
            "text/plain": [
              "<Figure size 640x480 with 1 Axes>"
            ]
          },
          "metadata": {
            "tags": []
          }
        }
      ]
    },
    {
      "cell_type": "code",
      "metadata": {
        "id": "4yQC-6SsjXFb"
      },
      "source": [
        "# Table of average total daily population of people in pretrial services versus detention by year\n",
        "df_categoryyear = pd.DataFrame(df_1_pretrial.groupby(['year', 'category'])['ADP'].mean())\n",
        "df_catyearplot = pd.DataFrame(round(df_categoryyear.ADP, 1))"
      ],
      "execution_count": 255,
      "outputs": []
    },
    {
      "cell_type": "code",
      "metadata": {
        "colab": {
          "base_uri": "https://localhost:8080/",
          "height": 491
        },
        "id": "2UESy4OQjr4x",
        "outputId": "96afda93-ecd5-4844-c506-fe1f102fafc8"
      },
      "source": [
        "df_catyearplot"
      ],
      "execution_count": 256,
      "outputs": [
        {
          "output_type": "execute_result",
          "data": {
            "text/html": [
              "<div>\n",
              "<style scoped>\n",
              "    .dataframe tbody tr th:only-of-type {\n",
              "        vertical-align: middle;\n",
              "    }\n",
              "\n",
              "    .dataframe tbody tr th {\n",
              "        vertical-align: top;\n",
              "    }\n",
              "\n",
              "    .dataframe thead th {\n",
              "        text-align: right;\n",
              "    }\n",
              "</style>\n",
              "<table border=\"1\" class=\"dataframe\">\n",
              "  <thead>\n",
              "    <tr style=\"text-align: right;\">\n",
              "      <th></th>\n",
              "      <th></th>\n",
              "      <th>ADP</th>\n",
              "    </tr>\n",
              "    <tr>\n",
              "      <th>year</th>\n",
              "      <th>category</th>\n",
              "      <th></th>\n",
              "    </tr>\n",
              "  </thead>\n",
              "  <tbody>\n",
              "    <tr>\n",
              "      <th rowspan=\"2\" valign=\"top\">2015</th>\n",
              "      <th>Criminal Justice Clients under Pre-Trial Services</th>\n",
              "      <td>518.9</td>\n",
              "    </tr>\n",
              "    <tr>\n",
              "      <th>Inmates in DOCR Custody</th>\n",
              "      <td>303.9</td>\n",
              "    </tr>\n",
              "    <tr>\n",
              "      <th rowspan=\"2\" valign=\"top\">2016</th>\n",
              "      <th>Criminal Justice Clients under Pre-Trial Services</th>\n",
              "      <td>583.3</td>\n",
              "    </tr>\n",
              "    <tr>\n",
              "      <th>Inmates in DOCR Custody</th>\n",
              "      <td>318.0</td>\n",
              "    </tr>\n",
              "    <tr>\n",
              "      <th rowspan=\"2\" valign=\"top\">2017</th>\n",
              "      <th>Criminal Justice Clients under Pre-Trial Services</th>\n",
              "      <td>506.9</td>\n",
              "    </tr>\n",
              "    <tr>\n",
              "      <th>Inmates in DOCR Custody</th>\n",
              "      <td>309.7</td>\n",
              "    </tr>\n",
              "    <tr>\n",
              "      <th rowspan=\"2\" valign=\"top\">2018</th>\n",
              "      <th>Criminal Justice Clients under Pre-Trial Services</th>\n",
              "      <td>505.4</td>\n",
              "    </tr>\n",
              "    <tr>\n",
              "      <th>Inmates in DOCR Custody</th>\n",
              "      <td>329.4</td>\n",
              "    </tr>\n",
              "    <tr>\n",
              "      <th rowspan=\"2\" valign=\"top\">2019</th>\n",
              "      <th>Criminal Justice Clients under Pre-Trial Services</th>\n",
              "      <td>470.3</td>\n",
              "    </tr>\n",
              "    <tr>\n",
              "      <th>Inmates in DOCR Custody</th>\n",
              "      <td>312.0</td>\n",
              "    </tr>\n",
              "    <tr>\n",
              "      <th rowspan=\"2\" valign=\"top\">2020</th>\n",
              "      <th>Criminal Justice Clients under Pre-Trial Services</th>\n",
              "      <td>475.0</td>\n",
              "    </tr>\n",
              "    <tr>\n",
              "      <th>Inmates in DOCR Custody</th>\n",
              "      <td>284.0</td>\n",
              "    </tr>\n",
              "    <tr>\n",
              "      <th rowspan=\"2\" valign=\"top\">2021</th>\n",
              "      <th>Criminal Justice Clients under Pre-Trial Services</th>\n",
              "      <td>437.6</td>\n",
              "    </tr>\n",
              "    <tr>\n",
              "      <th>Inmates in DOCR Custody</th>\n",
              "      <td>270.8</td>\n",
              "    </tr>\n",
              "  </tbody>\n",
              "</table>\n",
              "</div>"
            ],
            "text/plain": [
              "                                                           ADP\n",
              "year  category                                                \n",
              " 2015 Criminal Justice Clients under Pre-Trial Services  518.9\n",
              "      Inmates in DOCR Custody                            303.9\n",
              " 2016 Criminal Justice Clients under Pre-Trial Services  583.3\n",
              "      Inmates in DOCR Custody                            318.0\n",
              " 2017 Criminal Justice Clients under Pre-Trial Services  506.9\n",
              "      Inmates in DOCR Custody                            309.7\n",
              " 2018 Criminal Justice Clients under Pre-Trial Services  505.4\n",
              "      Inmates in DOCR Custody                            329.4\n",
              " 2019 Criminal Justice Clients under Pre-Trial Services  470.3\n",
              "      Inmates in DOCR Custody                            312.0\n",
              " 2020 Criminal Justice Clients under Pre-Trial Services  475.0\n",
              "      Inmates in DOCR Custody                            284.0\n",
              " 2021 Criminal Justice Clients under Pre-Trial Services  437.6\n",
              "      Inmates in DOCR Custody                            270.8"
            ]
          },
          "metadata": {
            "tags": []
          },
          "execution_count": 256
        }
      ]
    },
    {
      "cell_type": "code",
      "metadata": {
        "colab": {
          "base_uri": "https://localhost:8080/",
          "height": 225
        },
        "id": "aRo9e1ogEhrd",
        "outputId": "9cf97352-f976-4ba9-fa5e-e1fa22992682"
      },
      "source": [
        "df_categoryyear.head()"
      ],
      "execution_count": 259,
      "outputs": [
        {
          "output_type": "execute_result",
          "data": {
            "text/html": [
              "<div>\n",
              "<style scoped>\n",
              "    .dataframe tbody tr th:only-of-type {\n",
              "        vertical-align: middle;\n",
              "    }\n",
              "\n",
              "    .dataframe tbody tr th {\n",
              "        vertical-align: top;\n",
              "    }\n",
              "\n",
              "    .dataframe thead th {\n",
              "        text-align: right;\n",
              "    }\n",
              "</style>\n",
              "<table border=\"1\" class=\"dataframe\">\n",
              "  <thead>\n",
              "    <tr style=\"text-align: right;\">\n",
              "      <th></th>\n",
              "      <th></th>\n",
              "      <th>ADP</th>\n",
              "    </tr>\n",
              "    <tr>\n",
              "      <th>year</th>\n",
              "      <th>category</th>\n",
              "      <th></th>\n",
              "    </tr>\n",
              "  </thead>\n",
              "  <tbody>\n",
              "    <tr>\n",
              "      <th rowspan=\"2\" valign=\"top\">2015</th>\n",
              "      <th>Criminal Justice Clients under Pre-Trial Services</th>\n",
              "      <td>518.944444</td>\n",
              "    </tr>\n",
              "    <tr>\n",
              "      <th>Inmates in DOCR Custody</th>\n",
              "      <td>303.875000</td>\n",
              "    </tr>\n",
              "    <tr>\n",
              "      <th rowspan=\"2\" valign=\"top\">2016</th>\n",
              "      <th>Criminal Justice Clients under Pre-Trial Services</th>\n",
              "      <td>583.305556</td>\n",
              "    </tr>\n",
              "    <tr>\n",
              "      <th>Inmates in DOCR Custody</th>\n",
              "      <td>318.000000</td>\n",
              "    </tr>\n",
              "    <tr>\n",
              "      <th>2017</th>\n",
              "      <th>Criminal Justice Clients under Pre-Trial Services</th>\n",
              "      <td>506.944444</td>\n",
              "    </tr>\n",
              "  </tbody>\n",
              "</table>\n",
              "</div>"
            ],
            "text/plain": [
              "                                                                ADP\n",
              "year  category                                                     \n",
              " 2015 Criminal Justice Clients under Pre-Trial Services  518.944444\n",
              "      Inmates in DOCR Custody                            303.875000\n",
              " 2016 Criminal Justice Clients under Pre-Trial Services  583.305556\n",
              "      Inmates in DOCR Custody                            318.000000\n",
              " 2017 Criminal Justice Clients under Pre-Trial Services  506.944444"
            ]
          },
          "metadata": {
            "tags": []
          },
          "execution_count": 259
        }
      ]
    },
    {
      "cell_type": "code",
      "metadata": {
        "colab": {
          "base_uri": "https://localhost:8080/"
        },
        "id": "ulvnQxq9-TT6",
        "outputId": "e2a60ddb-83b6-4654-bb3a-7f69898f7661"
      },
      "source": [
        "# Sum of each group to determine percentage\n",
        "df_1_pretrial['ptsum'] = (df_1_pretrial.loc[df_1_pretrial['category'] == \"Inmates in DOCR Custody\"] / df_1_pretrial.loc[df_1_pretrial['category'] == \"Criminal Justice Clients under Pre-Trial Services\"].total) * 100\n",
        "df_1_pretrial['ptsum'] = .sum()\n",
        "dtsum = df_1_pretrial.loc[df_1_pretrial['category'] == \"Inmates in DOCR Custody\"].sum()"
      ],
      "execution_count": 273,
      "outputs": [
        {
          "output_type": "stream",
          "text": [
            "/usr/local/lib/python3.7/dist-packages/ipykernel_launcher.py:2: SettingWithCopyWarning: \n",
            "A value is trying to be set on a copy of a slice from a DataFrame.\n",
            "Try using .loc[row_indexer,col_indexer] = value instead\n",
            "\n",
            "See the caveats in the documentation: https://pandas.pydata.org/pandas-docs/stable/user_guide/indexing.html#returning-a-view-versus-a-copy\n",
            "  \n"
          ],
          "name": "stderr"
        }
      ]
    },
    {
      "cell_type": "code",
      "metadata": {
        "id": "x1zRQBD8FJFR"
      },
      "source": [
        "# for cumulative percentages: df_catyear['percent_PT'] = (df_release.RPR.sum() / df_release.total.cumsum()) * 100\n",
        "df_release_1['percent_RPR'] = (df_release.RPR / df_release.total) * 100\n",
        "df_release_1['percent_bond'] = (df_release_1.released_bond / df_release_1.total ) * 100"
      ],
      "execution_count": null,
      "outputs": []
    },
    {
      "cell_type": "code",
      "metadata": {
        "colab": {
          "base_uri": "https://localhost:8080/",
          "height": 534
        },
        "id": "XnQNwnYP0sHn",
        "outputId": "3d69cb2a-8182-4e4c-8a71-11dd2e19e85d"
      },
      "source": [
        "# Plotting Bar Chart Comparing the types of pre-trial supervision and detention\n",
        "ax = df_1_pretrial.groupby(['year', 'DSCC_Names'])['ADP'].mean().unstack().plot.bar(colormap='Paired', alpha = 0.5)\n",
        "ax.set_facecolor('white')\n",
        "ax.legend(bbox_to_anchor = [1.67, 1.018])\n",
        "\n",
        "plt.title('Comparing Various Pre-Trial Categories of Supervision and Detention')\n",
        "plt.xlabel('Year')\n",
        "plt.ylabel('Total')\n"
      ],
      "execution_count": 183,
      "outputs": [
        {
          "output_type": "execute_result",
          "data": {
            "text/plain": [
              "Text(0, 0.5, 'Total')"
            ]
          },
          "metadata": {
            "tags": []
          },
          "execution_count": 183
        },
        {
          "output_type": "display_data",
          "data": {
            "image/png": "[encoded data removed]",
            "text/plain": [
              "<Figure size 640x480 with 1 Axes>"
            ]
          },
          "metadata": {
            "tags": []
          }
        }
      ]
    },
    {
      "cell_type": "markdown",
      "metadata": {
        "id": "mCRr9K6T8Yvq"
      },
      "source": [
        "It makes sense that the MCDC figures are low.  the MCDC is where the CPU processing (initial arrest booking) takes place.  The MCDC is a temporary dentention center with a capacity only up to 200 people.\n",
        "\n",
        "What is interesting on this chart is how much Pre-trial Supervision has increased in the past six years, while alternative community services and intervention programs for substance abusers have both decreased since 2017, with alternative community services decreasing quite sharply, especially between 2016 and 2017.  The number of people detained seems to have decreased slightly since 2018."
      ]
    },
    {
      "cell_type": "code",
      "metadata": {
        "id": "zipn0jNE8Bm6"
      },
      "source": [
        "# for cumulative percentages: df_release_1['percent_RPR'] = (df_release.RPR.sum() / df_release.total.cumsum()) * 100\n",
        "df_release_1['percent_RPR'] = (df_release.RPR / df_release.total) * 100\n",
        "df_release_1['percent_bond'] = (df_release_1.released_bond / df_release_1.total ) * 100\n",
        "df_release_1['percent_committed'] = (df_release_1.Committed / df_release_1.total ) * 100\n",
        "df_release_1['percent_released'] = ((df_release_1.released_bond + df_release_1.RPR) / df_release_1.total ) * 100\n",
        "df_release_1\n",
        "df_release_1.head(1)"
      ],
      "execution_count": null,
      "outputs": []
    }
  ]
}