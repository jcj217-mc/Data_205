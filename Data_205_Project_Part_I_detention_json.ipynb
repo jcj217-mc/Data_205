{
  "nbformat": 4,
  "nbformat_minor": 0,
  "metadata": {
    "colab": {
      "name": "Data 205_Project_Part I_detention_json.ipynb",
      "provenance": [],
      "collapsed_sections": [],
      "authorship_tag": "ABX9TyN7+EDrHLxtMiLLIyLHIWsp",
      "include_colab_link": true
    },
    "kernelspec": {
      "name": "python3",
      "display_name": "Python 3"
    },
    "language_info": {
      "name": "python"
    }
  },
  "cells": [
    {
      "cell_type": "markdown",
      "metadata": {
        "id": "view-in-github",
        "colab_type": "text"
      },
      "source": [
        "<a href=\"https://colab.research.google.com/github/jcj217-mc/Data_205/blob/main/Data_205_Project_Part_I_detention_json.ipynb\" target=\"_parent\"><img src=\"https://colab.research.google.com/assets/colab-badge.svg\" alt=\"Open In Colab\"/></a>"
      ]
    },
    {
      "cell_type": "code",
      "metadata": {
        "id": "1d9jbuI7Ht3c"
      },
      "source": [
        "# import packages\n",
        "import pandas as pd\n",
        "import numpy as np\n",
        "import os \n",
        "import json"
      ],
      "execution_count": null,
      "outputs": []
    },
    {
      "cell_type": "code",
      "metadata": {
        "id": "oXBQBLhYH6gw"
      },
      "source": [
        "# tab-separated data into pandas data frame.\n",
        "df = pd.read_json('https://data.montgomerycountymd.gov/resource/gknn-vrfa.json')"
      ],
      "execution_count": null,
      "outputs": []
    },
    {
      "cell_type": "code",
      "metadata": {
        "colab": {
          "base_uri": "https://localhost:8080/",
          "height": 496
        },
        "id": "heDbJO3WXhKc",
        "outputId": "a9515bdf-f80a-4b74-d0d6-3c4f81d865cc"
      },
      "source": [
        "df.head()"
      ],
      "execution_count": null,
      "outputs": [
        {
          "output_type": "execute_result",
          "data": {
            "text/html": [
              "<div>\n",
              "<style scoped>\n",
              "    .dataframe tbody tr th:only-of-type {\n",
              "        vertical-align: middle;\n",
              "    }\n",
              "\n",
              "    .dataframe tbody tr th {\n",
              "        vertical-align: top;\n",
              "    }\n",
              "\n",
              "    .dataframe thead th {\n",
              "        text-align: right;\n",
              "    }\n",
              "</style>\n",
              "<table border=\"1\" class=\"dataframe\">\n",
              "  <thead>\n",
              "    <tr style=\"text-align: right;\">\n",
              "      <th></th>\n",
              "      <th>month_year</th>\n",
              "      <th>detention_services</th>\n",
              "      <th>detention_services_and_community_corrections_names</th>\n",
              "      <th>category</th>\n",
              "      <th>average_daily_population</th>\n",
              "    </tr>\n",
              "  </thead>\n",
              "  <tbody>\n",
              "    <tr>\n",
              "      <th>0</th>\n",
              "      <td>2021-02-01T00:00:00.000</td>\n",
              "      <td>ACS</td>\n",
              "      <td>Alternative Community Services</td>\n",
              "      <td>Criminal Justice Clients under Pre-Trial Services</td>\n",
              "      <td>325</td>\n",
              "    </tr>\n",
              "    <tr>\n",
              "      <th>1</th>\n",
              "      <td>2021-02-01T00:00:00.000</td>\n",
              "      <td>PTSU</td>\n",
              "      <td>Pre-Trial Supervision Unit</td>\n",
              "      <td>Criminal Justice Clients under Pre-Trial Services</td>\n",
              "      <td>918</td>\n",
              "    </tr>\n",
              "    <tr>\n",
              "      <th>2</th>\n",
              "      <td>2021-02-01T00:00:00.000</td>\n",
              "      <td>MCCF</td>\n",
              "      <td>Montgomery County Correctional Facility</td>\n",
              "      <td>Inmates in DOCR Custody</td>\n",
              "      <td>485</td>\n",
              "    </tr>\n",
              "    <tr>\n",
              "      <th>3</th>\n",
              "      <td>2021-02-01T00:00:00.000</td>\n",
              "      <td>MCDC</td>\n",
              "      <td>Montgomery County Detention Center</td>\n",
              "      <td>Inmates in DOCR Custody</td>\n",
              "      <td>50</td>\n",
              "    </tr>\n",
              "    <tr>\n",
              "      <th>4</th>\n",
              "      <td>2021-02-01T00:00:00.000</td>\n",
              "      <td>PRRS</td>\n",
              "      <td>Pre-Release and Re-Entry Services</td>\n",
              "      <td>Inmates in DOCR Custody</td>\n",
              "      <td>0</td>\n",
              "    </tr>\n",
              "  </tbody>\n",
              "</table>\n",
              "</div>"
            ],
            "text/plain": [
              "                month_year  ... average_daily_population\n",
              "0  2021-02-01T00:00:00.000  ...                      325\n",
              "1  2021-02-01T00:00:00.000  ...                      918\n",
              "2  2021-02-01T00:00:00.000  ...                      485\n",
              "3  2021-02-01T00:00:00.000  ...                       50\n",
              "4  2021-02-01T00:00:00.000  ...                        0\n",
              "\n",
              "[5 rows x 5 columns]"
            ]
          },
          "metadata": {
            "tags": []
          },
          "execution_count": 55
        }
      ]
    },
    {
      "cell_type": "code",
      "metadata": {
        "colab": {
          "base_uri": "https://localhost:8080/"
        },
        "id": "R5kbamhzZNOw",
        "outputId": "91457d52-c5d8-44d9-abbc-4844f3305801"
      },
      "source": [
        "# check dataframe type\n",
        "type(df)"
      ],
      "execution_count": null,
      "outputs": [
        {
          "output_type": "execute_result",
          "data": {
            "text/plain": [
              "pandas.core.frame.DataFrame"
            ]
          },
          "metadata": {
            "tags": []
          },
          "execution_count": 56
        }
      ]
    },
    {
      "cell_type": "code",
      "metadata": {
        "colab": {
          "base_uri": "https://localhost:8080/",
          "height": 306
        },
        "id": "xqHcdNY0YKnx",
        "outputId": "a67cec13-be08-4d03-bebb-a962e0df8894"
      },
      "source": [
        "# change column names\n",
        "df_1 = df.rename(columns = {\"month_year\": \"Date\", \"detention_services\":\"DSCC Abbr.\", \"detention_services_and_community_corrections_names\":\"DSCC Names\", \"average_daily_population\" : \"Avg. Daily Pop.\"})\n",
        "df_1.head()"
      ],
      "execution_count": null,
      "outputs": [
        {
          "output_type": "execute_result",
          "data": {
            "text/html": [
              "<div>\n",
              "<style scoped>\n",
              "    .dataframe tbody tr th:only-of-type {\n",
              "        vertical-align: middle;\n",
              "    }\n",
              "\n",
              "    .dataframe tbody tr th {\n",
              "        vertical-align: top;\n",
              "    }\n",
              "\n",
              "    .dataframe thead th {\n",
              "        text-align: right;\n",
              "    }\n",
              "</style>\n",
              "<table border=\"1\" class=\"dataframe\">\n",
              "  <thead>\n",
              "    <tr style=\"text-align: right;\">\n",
              "      <th></th>\n",
              "      <th>Date</th>\n",
              "      <th>DSCC Abbr.</th>\n",
              "      <th>DSCC Names</th>\n",
              "      <th>category</th>\n",
              "      <th>Avg. Daily Pop.</th>\n",
              "    </tr>\n",
              "  </thead>\n",
              "  <tbody>\n",
              "    <tr>\n",
              "      <th>0</th>\n",
              "      <td>2021-02-01T00:00:00.000</td>\n",
              "      <td>ACS</td>\n",
              "      <td>Alternative Community Services</td>\n",
              "      <td>Criminal Justice Clients under Pre-Trial Services</td>\n",
              "      <td>325</td>\n",
              "    </tr>\n",
              "    <tr>\n",
              "      <th>1</th>\n",
              "      <td>2021-02-01T00:00:00.000</td>\n",
              "      <td>PTSU</td>\n",
              "      <td>Pre-Trial Supervision Unit</td>\n",
              "      <td>Criminal Justice Clients under Pre-Trial Services</td>\n",
              "      <td>918</td>\n",
              "    </tr>\n",
              "    <tr>\n",
              "      <th>2</th>\n",
              "      <td>2021-02-01T00:00:00.000</td>\n",
              "      <td>MCCF</td>\n",
              "      <td>Montgomery County Correctional Facility</td>\n",
              "      <td>Inmates in DOCR Custody</td>\n",
              "      <td>485</td>\n",
              "    </tr>\n",
              "    <tr>\n",
              "      <th>3</th>\n",
              "      <td>2021-02-01T00:00:00.000</td>\n",
              "      <td>MCDC</td>\n",
              "      <td>Montgomery County Detention Center</td>\n",
              "      <td>Inmates in DOCR Custody</td>\n",
              "      <td>50</td>\n",
              "    </tr>\n",
              "    <tr>\n",
              "      <th>4</th>\n",
              "      <td>2021-02-01T00:00:00.000</td>\n",
              "      <td>PRRS</td>\n",
              "      <td>Pre-Release and Re-Entry Services</td>\n",
              "      <td>Inmates in DOCR Custody</td>\n",
              "      <td>0</td>\n",
              "    </tr>\n",
              "  </tbody>\n",
              "</table>\n",
              "</div>"
            ],
            "text/plain": [
              "                      Date  ... Avg. Daily Pop.\n",
              "0  2021-02-01T00:00:00.000  ...             325\n",
              "1  2021-02-01T00:00:00.000  ...             918\n",
              "2  2021-02-01T00:00:00.000  ...             485\n",
              "3  2021-02-01T00:00:00.000  ...              50\n",
              "4  2021-02-01T00:00:00.000  ...               0\n",
              "\n",
              "[5 rows x 5 columns]"
            ]
          },
          "metadata": {
            "tags": []
          },
          "execution_count": 57
        }
      ]
    },
    {
      "cell_type": "code",
      "metadata": {
        "colab": {
          "base_uri": "https://localhost:8080/"
        },
        "id": "AjL-HLvKaEY_",
        "outputId": "e27518cf-f95e-4c33-cc72-9c869adf788c"
      },
      "source": [
        "# Stripping time but this strip does not remain in further code\n",
        "df_1['Date'].str.rstrip('T00:00:00.000')"
      ],
      "execution_count": null,
      "outputs": [
        {
          "output_type": "execute_result",
          "data": {
            "text/plain": [
              "0      2021-02-01\n",
              "1      2021-02-01\n",
              "2      2021-02-01\n",
              "3      2021-02-01\n",
              "4      2021-02-01\n",
              "          ...    \n",
              "439    2015-01-01\n",
              "440    2015-01-01\n",
              "441    2015-01-01\n",
              "442    2015-01-01\n",
              "443    2015-01-01\n",
              "Name: Date, Length: 444, dtype: object"
            ]
          },
          "metadata": {
            "tags": []
          },
          "execution_count": 58
        }
      ]
    },
    {
      "cell_type": "code",
      "metadata": {
        "colab": {
          "base_uri": "https://localhost:8080/"
        },
        "id": "eH0gD6p8aT7m",
        "outputId": "4eb0c32c-1a08-40ea-fbd6-dd4f7a57316f"
      },
      "source": [
        "# Checking data types for each column\n",
        "print(df_1.dtypes)"
      ],
      "execution_count": null,
      "outputs": [
        {
          "output_type": "stream",
          "text": [
            "Date               object\n",
            "DSCC Abbr.         object\n",
            "DSCC Names         object\n",
            "category           object\n",
            "Avg. Daily Pop.     int64\n",
            "dtype: object\n"
          ],
          "name": "stdout"
        }
      ]
    },
    {
      "cell_type": "code",
      "metadata": {
        "colab": {
          "base_uri": "https://localhost:8080/"
        },
        "id": "qFXF_8z1aV-K",
        "outputId": "6a85406a-5e2b-4f32-9e91-37aa3be2eaf7"
      },
      "source": [
        "#Checking Shape\n",
        "print(df_1.shape)"
      ],
      "execution_count": null,
      "outputs": [
        {
          "output_type": "stream",
          "text": [
            "(444, 5)\n"
          ],
          "name": "stdout"
        }
      ]
    },
    {
      "cell_type": "code",
      "metadata": {
        "colab": {
          "base_uri": "https://localhost:8080/",
          "height": 297
        },
        "id": "R7uGn81cacFo",
        "outputId": "36bd1020-7981-47b7-f47d-440093781b46"
      },
      "source": [
        "# Describe\n",
        "df_1.describe()"
      ],
      "execution_count": null,
      "outputs": [
        {
          "output_type": "execute_result",
          "data": {
            "text/html": [
              "<div>\n",
              "<style scoped>\n",
              "    .dataframe tbody tr th:only-of-type {\n",
              "        vertical-align: middle;\n",
              "    }\n",
              "\n",
              "    .dataframe tbody tr th {\n",
              "        vertical-align: top;\n",
              "    }\n",
              "\n",
              "    .dataframe thead th {\n",
              "        text-align: right;\n",
              "    }\n",
              "</style>\n",
              "<table border=\"1\" class=\"dataframe\">\n",
              "  <thead>\n",
              "    <tr style=\"text-align: right;\">\n",
              "      <th></th>\n",
              "      <th>Avg. Daily Pop.</th>\n",
              "    </tr>\n",
              "  </thead>\n",
              "  <tbody>\n",
              "    <tr>\n",
              "      <th>count</th>\n",
              "      <td>444.000000</td>\n",
              "    </tr>\n",
              "    <tr>\n",
              "      <th>mean</th>\n",
              "      <td>374.328829</td>\n",
              "    </tr>\n",
              "    <tr>\n",
              "      <th>std</th>\n",
              "      <td>291.345574</td>\n",
              "    </tr>\n",
              "    <tr>\n",
              "      <th>min</th>\n",
              "      <td>0.000000</td>\n",
              "    </tr>\n",
              "    <tr>\n",
              "      <th>25%</th>\n",
              "      <td>107.000000</td>\n",
              "    </tr>\n",
              "    <tr>\n",
              "      <th>50%</th>\n",
              "      <td>247.500000</td>\n",
              "    </tr>\n",
              "    <tr>\n",
              "      <th>75%</th>\n",
              "      <td>627.250000</td>\n",
              "    </tr>\n",
              "    <tr>\n",
              "      <th>max</th>\n",
              "      <td>1025.000000</td>\n",
              "    </tr>\n",
              "  </tbody>\n",
              "</table>\n",
              "</div>"
            ],
            "text/plain": [
              "       Avg. Daily Pop.\n",
              "count       444.000000\n",
              "mean        374.328829\n",
              "std         291.345574\n",
              "min           0.000000\n",
              "25%         107.000000\n",
              "50%         247.500000\n",
              "75%         627.250000\n",
              "max        1025.000000"
            ]
          },
          "metadata": {
            "tags": []
          },
          "execution_count": 61
        }
      ]
    },
    {
      "cell_type": "code",
      "metadata": {
        "colab": {
          "base_uri": "https://localhost:8080/",
          "height": 419
        },
        "id": "hjuhsY6dagMx",
        "outputId": "daa905c5-9c40-44d4-b6ad-cae3a9f6d9df"
      },
      "source": [
        "# Check null \n",
        "df_1.isnull()"
      ],
      "execution_count": null,
      "outputs": [
        {
          "output_type": "execute_result",
          "data": {
            "text/html": [
              "<div>\n",
              "<style scoped>\n",
              "    .dataframe tbody tr th:only-of-type {\n",
              "        vertical-align: middle;\n",
              "    }\n",
              "\n",
              "    .dataframe tbody tr th {\n",
              "        vertical-align: top;\n",
              "    }\n",
              "\n",
              "    .dataframe thead th {\n",
              "        text-align: right;\n",
              "    }\n",
              "</style>\n",
              "<table border=\"1\" class=\"dataframe\">\n",
              "  <thead>\n",
              "    <tr style=\"text-align: right;\">\n",
              "      <th></th>\n",
              "      <th>Date</th>\n",
              "      <th>DSCC Abbr.</th>\n",
              "      <th>DSCC Names</th>\n",
              "      <th>category</th>\n",
              "      <th>Avg. Daily Pop.</th>\n",
              "    </tr>\n",
              "  </thead>\n",
              "  <tbody>\n",
              "    <tr>\n",
              "      <th>0</th>\n",
              "      <td>False</td>\n",
              "      <td>False</td>\n",
              "      <td>False</td>\n",
              "      <td>False</td>\n",
              "      <td>False</td>\n",
              "    </tr>\n",
              "    <tr>\n",
              "      <th>1</th>\n",
              "      <td>False</td>\n",
              "      <td>False</td>\n",
              "      <td>False</td>\n",
              "      <td>False</td>\n",
              "      <td>False</td>\n",
              "    </tr>\n",
              "    <tr>\n",
              "      <th>2</th>\n",
              "      <td>False</td>\n",
              "      <td>False</td>\n",
              "      <td>False</td>\n",
              "      <td>False</td>\n",
              "      <td>False</td>\n",
              "    </tr>\n",
              "    <tr>\n",
              "      <th>3</th>\n",
              "      <td>False</td>\n",
              "      <td>False</td>\n",
              "      <td>False</td>\n",
              "      <td>False</td>\n",
              "      <td>False</td>\n",
              "    </tr>\n",
              "    <tr>\n",
              "      <th>4</th>\n",
              "      <td>False</td>\n",
              "      <td>False</td>\n",
              "      <td>False</td>\n",
              "      <td>False</td>\n",
              "      <td>False</td>\n",
              "    </tr>\n",
              "    <tr>\n",
              "      <th>...</th>\n",
              "      <td>...</td>\n",
              "      <td>...</td>\n",
              "      <td>...</td>\n",
              "      <td>...</td>\n",
              "      <td>...</td>\n",
              "    </tr>\n",
              "    <tr>\n",
              "      <th>439</th>\n",
              "      <td>False</td>\n",
              "      <td>False</td>\n",
              "      <td>False</td>\n",
              "      <td>False</td>\n",
              "      <td>False</td>\n",
              "    </tr>\n",
              "    <tr>\n",
              "      <th>440</th>\n",
              "      <td>False</td>\n",
              "      <td>False</td>\n",
              "      <td>False</td>\n",
              "      <td>False</td>\n",
              "      <td>False</td>\n",
              "    </tr>\n",
              "    <tr>\n",
              "      <th>441</th>\n",
              "      <td>False</td>\n",
              "      <td>False</td>\n",
              "      <td>False</td>\n",
              "      <td>False</td>\n",
              "      <td>False</td>\n",
              "    </tr>\n",
              "    <tr>\n",
              "      <th>442</th>\n",
              "      <td>False</td>\n",
              "      <td>False</td>\n",
              "      <td>False</td>\n",
              "      <td>False</td>\n",
              "      <td>False</td>\n",
              "    </tr>\n",
              "    <tr>\n",
              "      <th>443</th>\n",
              "      <td>False</td>\n",
              "      <td>False</td>\n",
              "      <td>False</td>\n",
              "      <td>False</td>\n",
              "      <td>False</td>\n",
              "    </tr>\n",
              "  </tbody>\n",
              "</table>\n",
              "<p>444 rows × 5 columns</p>\n",
              "</div>"
            ],
            "text/plain": [
              "      Date  DSCC Abbr.  DSCC Names  category  Avg. Daily Pop.\n",
              "0    False       False       False     False            False\n",
              "1    False       False       False     False            False\n",
              "2    False       False       False     False            False\n",
              "3    False       False       False     False            False\n",
              "4    False       False       False     False            False\n",
              "..     ...         ...         ...       ...              ...\n",
              "439  False       False       False     False            False\n",
              "440  False       False       False     False            False\n",
              "441  False       False       False     False            False\n",
              "442  False       False       False     False            False\n",
              "443  False       False       False     False            False\n",
              "\n",
              "[444 rows x 5 columns]"
            ]
          },
          "metadata": {
            "tags": []
          },
          "execution_count": 62
        }
      ]
    },
    {
      "cell_type": "code",
      "metadata": {
        "colab": {
          "base_uri": "https://localhost:8080/"
        },
        "id": "CwE8KqiRajLu",
        "outputId": "9b6ec42d-b6d8-466b-f6df-473466779ec7"
      },
      "source": [
        "# Null sum\n",
        "df_1.isnull().sum()"
      ],
      "execution_count": null,
      "outputs": [
        {
          "output_type": "execute_result",
          "data": {
            "text/plain": [
              "Date               0\n",
              "DSCC Abbr.         0\n",
              "DSCC Names         0\n",
              "category           0\n",
              "Avg. Daily Pop.    0\n",
              "dtype: int64"
            ]
          },
          "metadata": {
            "tags": []
          },
          "execution_count": 63
        }
      ]
    },
    {
      "cell_type": "code",
      "metadata": {
        "id": "rEeEaDoqapqS"
      },
      "source": [
        "# Basic Plots with Matplotlib\n",
        "import matplotlib as mpl\n",
        "import matplotlib.pyplot as plt\n",
        "plt.style.use('classic')"
      ],
      "execution_count": null,
      "outputs": []
    },
    {
      "cell_type": "code",
      "metadata": {
        "id": "Bg4g8VpJn1W0"
      },
      "source": [
        "# Changing Date to datetime\n",
        "df_1.Date = pd.to_datetime(df_1.Date)"
      ],
      "execution_count": null,
      "outputs": []
    },
    {
      "cell_type": "code",
      "metadata": {
        "colab": {
          "base_uri": "https://localhost:8080/",
          "height": 419
        },
        "id": "4lB_Wq_vas8g",
        "outputId": "f8443a5e-82b4-4de2-bec0-af7a5e9edc7e"
      },
      "source": [
        "# group by Month/Year\n",
        "df_1_time = df_1.groupby('Date')\n",
        "df_1_time.head()"
      ],
      "execution_count": null,
      "outputs": [
        {
          "output_type": "execute_result",
          "data": {
            "text/html": [
              "<div>\n",
              "<style scoped>\n",
              "    .dataframe tbody tr th:only-of-type {\n",
              "        vertical-align: middle;\n",
              "    }\n",
              "\n",
              "    .dataframe tbody tr th {\n",
              "        vertical-align: top;\n",
              "    }\n",
              "\n",
              "    .dataframe thead th {\n",
              "        text-align: right;\n",
              "    }\n",
              "</style>\n",
              "<table border=\"1\" class=\"dataframe\">\n",
              "  <thead>\n",
              "    <tr style=\"text-align: right;\">\n",
              "      <th></th>\n",
              "      <th>Date</th>\n",
              "      <th>DSCC Abbr.</th>\n",
              "      <th>DSCC Names</th>\n",
              "      <th>category</th>\n",
              "      <th>Avg. Daily Pop.</th>\n",
              "    </tr>\n",
              "  </thead>\n",
              "  <tbody>\n",
              "    <tr>\n",
              "      <th>0</th>\n",
              "      <td>2021-02-01</td>\n",
              "      <td>ACS</td>\n",
              "      <td>Alternative Community Services</td>\n",
              "      <td>Criminal Justice Clients under Pre-Trial Services</td>\n",
              "      <td>325</td>\n",
              "    </tr>\n",
              "    <tr>\n",
              "      <th>1</th>\n",
              "      <td>2021-02-01</td>\n",
              "      <td>PTSU</td>\n",
              "      <td>Pre-Trial Supervision Unit</td>\n",
              "      <td>Criminal Justice Clients under Pre-Trial Services</td>\n",
              "      <td>918</td>\n",
              "    </tr>\n",
              "    <tr>\n",
              "      <th>2</th>\n",
              "      <td>2021-02-01</td>\n",
              "      <td>MCCF</td>\n",
              "      <td>Montgomery County Correctional Facility</td>\n",
              "      <td>Inmates in DOCR Custody</td>\n",
              "      <td>485</td>\n",
              "    </tr>\n",
              "    <tr>\n",
              "      <th>3</th>\n",
              "      <td>2021-02-01</td>\n",
              "      <td>MCDC</td>\n",
              "      <td>Montgomery County Detention Center</td>\n",
              "      <td>Inmates in DOCR Custody</td>\n",
              "      <td>50</td>\n",
              "    </tr>\n",
              "    <tr>\n",
              "      <th>4</th>\n",
              "      <td>2021-02-01</td>\n",
              "      <td>PRRS</td>\n",
              "      <td>Pre-Release and Re-Entry Services</td>\n",
              "      <td>Inmates in DOCR Custody</td>\n",
              "      <td>0</td>\n",
              "    </tr>\n",
              "    <tr>\n",
              "      <th>...</th>\n",
              "      <td>...</td>\n",
              "      <td>...</td>\n",
              "      <td>...</td>\n",
              "      <td>...</td>\n",
              "      <td>...</td>\n",
              "    </tr>\n",
              "    <tr>\n",
              "      <th>438</th>\n",
              "      <td>2015-01-01</td>\n",
              "      <td>MCCF</td>\n",
              "      <td>Montgomery County Correctional Facility</td>\n",
              "      <td>Inmates in DOCR Custody</td>\n",
              "      <td>505</td>\n",
              "    </tr>\n",
              "    <tr>\n",
              "      <th>439</th>\n",
              "      <td>2015-01-01</td>\n",
              "      <td>IPSA</td>\n",
              "      <td>Intervention Program for Substance Abusers</td>\n",
              "      <td>Criminal Justice Clients under Pre-Trial Services</td>\n",
              "      <td>101</td>\n",
              "    </tr>\n",
              "    <tr>\n",
              "      <th>440</th>\n",
              "      <td>2015-01-01</td>\n",
              "      <td>MCDC</td>\n",
              "      <td>Montgomery County Detention Center</td>\n",
              "      <td>Inmates in DOCR Custody</td>\n",
              "      <td>77</td>\n",
              "    </tr>\n",
              "    <tr>\n",
              "      <th>441</th>\n",
              "      <td>2015-01-01</td>\n",
              "      <td>ACS</td>\n",
              "      <td>Alternative Community Services</td>\n",
              "      <td>Criminal Justice Clients under Pre-Trial Services</td>\n",
              "      <td>721</td>\n",
              "    </tr>\n",
              "    <tr>\n",
              "      <th>442</th>\n",
              "      <td>2015-01-01</td>\n",
              "      <td>PRRS</td>\n",
              "      <td>Pre-Release and Re-Entry Services</td>\n",
              "      <td>Inmates in DOCR Custody</td>\n",
              "      <td>162</td>\n",
              "    </tr>\n",
              "  </tbody>\n",
              "</table>\n",
              "<p>370 rows × 5 columns</p>\n",
              "</div>"
            ],
            "text/plain": [
              "          Date  ... Avg. Daily Pop.\n",
              "0   2021-02-01  ...             325\n",
              "1   2021-02-01  ...             918\n",
              "2   2021-02-01  ...             485\n",
              "3   2021-02-01  ...              50\n",
              "4   2021-02-01  ...               0\n",
              "..         ...  ...             ...\n",
              "438 2015-01-01  ...             505\n",
              "439 2015-01-01  ...             101\n",
              "440 2015-01-01  ...              77\n",
              "441 2015-01-01  ...             721\n",
              "442 2015-01-01  ...             162\n",
              "\n",
              "[370 rows x 5 columns]"
            ]
          },
          "metadata": {
            "tags": []
          },
          "execution_count": 66
        }
      ]
    },
    {
      "cell_type": "code",
      "metadata": {
        "colab": {
          "base_uri": "https://localhost:8080/",
          "height": 979
        },
        "id": "EjcJHvxDbKwT",
        "outputId": "a5de472d-1154-4f2c-b0fd-dd5a3465287e"
      },
      "source": [
        "# Arrange by DSCC Abbreviation - did not work\n",
        "df_1_abbr = df_1.groupby('DSCC Abbr.')\n",
        "df_1_abbr.head()"
      ],
      "execution_count": null,
      "outputs": [
        {
          "output_type": "execute_result",
          "data": {
            "text/html": [
              "<div>\n",
              "<style scoped>\n",
              "    .dataframe tbody tr th:only-of-type {\n",
              "        vertical-align: middle;\n",
              "    }\n",
              "\n",
              "    .dataframe tbody tr th {\n",
              "        vertical-align: top;\n",
              "    }\n",
              "\n",
              "    .dataframe thead th {\n",
              "        text-align: right;\n",
              "    }\n",
              "</style>\n",
              "<table border=\"1\" class=\"dataframe\">\n",
              "  <thead>\n",
              "    <tr style=\"text-align: right;\">\n",
              "      <th></th>\n",
              "      <th>Date</th>\n",
              "      <th>DSCC Abbr.</th>\n",
              "      <th>DSCC Names</th>\n",
              "      <th>category</th>\n",
              "      <th>Avg. Daily Pop.</th>\n",
              "    </tr>\n",
              "  </thead>\n",
              "  <tbody>\n",
              "    <tr>\n",
              "      <th>0</th>\n",
              "      <td>2021-02-01</td>\n",
              "      <td>ACS</td>\n",
              "      <td>Alternative Community Services</td>\n",
              "      <td>Criminal Justice Clients under Pre-Trial Services</td>\n",
              "      <td>325</td>\n",
              "    </tr>\n",
              "    <tr>\n",
              "      <th>1</th>\n",
              "      <td>2021-02-01</td>\n",
              "      <td>PTSU</td>\n",
              "      <td>Pre-Trial Supervision Unit</td>\n",
              "      <td>Criminal Justice Clients under Pre-Trial Services</td>\n",
              "      <td>918</td>\n",
              "    </tr>\n",
              "    <tr>\n",
              "      <th>2</th>\n",
              "      <td>2021-02-01</td>\n",
              "      <td>MCCF</td>\n",
              "      <td>Montgomery County Correctional Facility</td>\n",
              "      <td>Inmates in DOCR Custody</td>\n",
              "      <td>485</td>\n",
              "    </tr>\n",
              "    <tr>\n",
              "      <th>3</th>\n",
              "      <td>2021-02-01</td>\n",
              "      <td>MCDC</td>\n",
              "      <td>Montgomery County Detention Center</td>\n",
              "      <td>Inmates in DOCR Custody</td>\n",
              "      <td>50</td>\n",
              "    </tr>\n",
              "    <tr>\n",
              "      <th>4</th>\n",
              "      <td>2021-02-01</td>\n",
              "      <td>PRRS</td>\n",
              "      <td>Pre-Release and Re-Entry Services</td>\n",
              "      <td>Inmates in DOCR Custody</td>\n",
              "      <td>0</td>\n",
              "    </tr>\n",
              "    <tr>\n",
              "      <th>5</th>\n",
              "      <td>2021-02-01</td>\n",
              "      <td>IPSA</td>\n",
              "      <td>Intervention Program for Substance Abusers</td>\n",
              "      <td>Criminal Justice Clients under Pre-Trial Services</td>\n",
              "      <td>68</td>\n",
              "    </tr>\n",
              "    <tr>\n",
              "      <th>6</th>\n",
              "      <td>2021-01-01</td>\n",
              "      <td>ACS</td>\n",
              "      <td>Alternative Community Services</td>\n",
              "      <td>Criminal Justice Clients under Pre-Trial Services</td>\n",
              "      <td>335</td>\n",
              "    </tr>\n",
              "    <tr>\n",
              "      <th>7</th>\n",
              "      <td>2021-01-01</td>\n",
              "      <td>PTSU</td>\n",
              "      <td>Pre-Trial Supervision Unit</td>\n",
              "      <td>Criminal Justice Clients under Pre-Trial Services</td>\n",
              "      <td>909</td>\n",
              "    </tr>\n",
              "    <tr>\n",
              "      <th>8</th>\n",
              "      <td>2021-01-01</td>\n",
              "      <td>IPSA</td>\n",
              "      <td>Intervention Program for Substance Abusers</td>\n",
              "      <td>Criminal Justice Clients under Pre-Trial Services</td>\n",
              "      <td>69</td>\n",
              "    </tr>\n",
              "    <tr>\n",
              "      <th>9</th>\n",
              "      <td>2021-01-01</td>\n",
              "      <td>PRRS</td>\n",
              "      <td>Pre-Release and Re-Entry Services</td>\n",
              "      <td>Inmates in DOCR Custody</td>\n",
              "      <td>0</td>\n",
              "    </tr>\n",
              "    <tr>\n",
              "      <th>10</th>\n",
              "      <td>2021-01-01</td>\n",
              "      <td>MCDC</td>\n",
              "      <td>Montgomery County Detention Center</td>\n",
              "      <td>Inmates in DOCR Custody</td>\n",
              "      <td>53</td>\n",
              "    </tr>\n",
              "    <tr>\n",
              "      <th>11</th>\n",
              "      <td>2021-01-01</td>\n",
              "      <td>MCCF</td>\n",
              "      <td>Montgomery County Correctional Facility</td>\n",
              "      <td>Inmates in DOCR Custody</td>\n",
              "      <td>481</td>\n",
              "    </tr>\n",
              "    <tr>\n",
              "      <th>12</th>\n",
              "      <td>2020-12-01</td>\n",
              "      <td>ACS</td>\n",
              "      <td>Alternative Community Services</td>\n",
              "      <td>Criminal Justice Clients under Pre-Trial Services</td>\n",
              "      <td>343</td>\n",
              "    </tr>\n",
              "    <tr>\n",
              "      <th>13</th>\n",
              "      <td>2020-12-01</td>\n",
              "      <td>MCDC</td>\n",
              "      <td>Montgomery County Detention Center</td>\n",
              "      <td>Inmates in DOCR Custody</td>\n",
              "      <td>47</td>\n",
              "    </tr>\n",
              "    <tr>\n",
              "      <th>14</th>\n",
              "      <td>2020-12-01</td>\n",
              "      <td>PRRS</td>\n",
              "      <td>Pre-Release and Re-Entry Services</td>\n",
              "      <td>Inmates in DOCR Custody</td>\n",
              "      <td>0</td>\n",
              "    </tr>\n",
              "    <tr>\n",
              "      <th>15</th>\n",
              "      <td>2020-12-01</td>\n",
              "      <td>IPSA</td>\n",
              "      <td>Intervention Program for Substance Abusers</td>\n",
              "      <td>Criminal Justice Clients under Pre-Trial Services</td>\n",
              "      <td>69</td>\n",
              "    </tr>\n",
              "    <tr>\n",
              "      <th>16</th>\n",
              "      <td>2020-12-01</td>\n",
              "      <td>MCCF</td>\n",
              "      <td>Montgomery County Correctional Facility</td>\n",
              "      <td>Inmates in DOCR Custody</td>\n",
              "      <td>514</td>\n",
              "    </tr>\n",
              "    <tr>\n",
              "      <th>17</th>\n",
              "      <td>2020-12-01</td>\n",
              "      <td>PTSU</td>\n",
              "      <td>Pre-Trial Supervision Unit</td>\n",
              "      <td>Criminal Justice Clients under Pre-Trial Services</td>\n",
              "      <td>867</td>\n",
              "    </tr>\n",
              "    <tr>\n",
              "      <th>18</th>\n",
              "      <td>2020-11-01</td>\n",
              "      <td>PRRS</td>\n",
              "      <td>Pre-Release and Re-Entry Services</td>\n",
              "      <td>Inmates in DOCR Custody</td>\n",
              "      <td>0</td>\n",
              "    </tr>\n",
              "    <tr>\n",
              "      <th>19</th>\n",
              "      <td>2020-11-01</td>\n",
              "      <td>ACS</td>\n",
              "      <td>Alternative Community Services</td>\n",
              "      <td>Criminal Justice Clients under Pre-Trial Services</td>\n",
              "      <td>361</td>\n",
              "    </tr>\n",
              "    <tr>\n",
              "      <th>20</th>\n",
              "      <td>2020-11-01</td>\n",
              "      <td>PTSU</td>\n",
              "      <td>Pre-Trial Supervision Unit</td>\n",
              "      <td>Criminal Justice Clients under Pre-Trial Services</td>\n",
              "      <td>838</td>\n",
              "    </tr>\n",
              "    <tr>\n",
              "      <th>21</th>\n",
              "      <td>2020-11-01</td>\n",
              "      <td>IPSA</td>\n",
              "      <td>Intervention Program for Substance Abusers</td>\n",
              "      <td>Criminal Justice Clients under Pre-Trial Services</td>\n",
              "      <td>70</td>\n",
              "    </tr>\n",
              "    <tr>\n",
              "      <th>22</th>\n",
              "      <td>2020-11-01</td>\n",
              "      <td>MCCF</td>\n",
              "      <td>Montgomery County Correctional Facility</td>\n",
              "      <td>Inmates in DOCR Custody</td>\n",
              "      <td>530</td>\n",
              "    </tr>\n",
              "    <tr>\n",
              "      <th>23</th>\n",
              "      <td>2020-11-01</td>\n",
              "      <td>MCDC</td>\n",
              "      <td>Montgomery County Detention Center</td>\n",
              "      <td>Inmates in DOCR Custody</td>\n",
              "      <td>65</td>\n",
              "    </tr>\n",
              "    <tr>\n",
              "      <th>24</th>\n",
              "      <td>2020-10-01</td>\n",
              "      <td>PRRS</td>\n",
              "      <td>Pre-Release and Re-Entry Services</td>\n",
              "      <td>Inmates in DOCR Custody</td>\n",
              "      <td>0</td>\n",
              "    </tr>\n",
              "    <tr>\n",
              "      <th>25</th>\n",
              "      <td>2020-10-01</td>\n",
              "      <td>IPSA</td>\n",
              "      <td>Intervention Program for Substance Abusers</td>\n",
              "      <td>Criminal Justice Clients under Pre-Trial Services</td>\n",
              "      <td>72</td>\n",
              "    </tr>\n",
              "    <tr>\n",
              "      <th>26</th>\n",
              "      <td>2020-10-01</td>\n",
              "      <td>MCCF</td>\n",
              "      <td>Montgomery County Correctional Facility</td>\n",
              "      <td>Inmates in DOCR Custody</td>\n",
              "      <td>522</td>\n",
              "    </tr>\n",
              "    <tr>\n",
              "      <th>27</th>\n",
              "      <td>2020-10-01</td>\n",
              "      <td>ACS</td>\n",
              "      <td>Alternative Community Services</td>\n",
              "      <td>Criminal Justice Clients under Pre-Trial Services</td>\n",
              "      <td>399</td>\n",
              "    </tr>\n",
              "    <tr>\n",
              "      <th>28</th>\n",
              "      <td>2020-10-01</td>\n",
              "      <td>MCDC</td>\n",
              "      <td>Montgomery County Detention Center</td>\n",
              "      <td>Inmates in DOCR Custody</td>\n",
              "      <td>70</td>\n",
              "    </tr>\n",
              "    <tr>\n",
              "      <th>29</th>\n",
              "      <td>2020-10-01</td>\n",
              "      <td>PTSU</td>\n",
              "      <td>Pre-Trial Supervision Unit</td>\n",
              "      <td>Criminal Justice Clients under Pre-Trial Services</td>\n",
              "      <td>863</td>\n",
              "    </tr>\n",
              "  </tbody>\n",
              "</table>\n",
              "</div>"
            ],
            "text/plain": [
              "         Date  ... Avg. Daily Pop.\n",
              "0  2021-02-01  ...             325\n",
              "1  2021-02-01  ...             918\n",
              "2  2021-02-01  ...             485\n",
              "3  2021-02-01  ...              50\n",
              "4  2021-02-01  ...               0\n",
              "5  2021-02-01  ...              68\n",
              "6  2021-01-01  ...             335\n",
              "7  2021-01-01  ...             909\n",
              "8  2021-01-01  ...              69\n",
              "9  2021-01-01  ...               0\n",
              "10 2021-01-01  ...              53\n",
              "11 2021-01-01  ...             481\n",
              "12 2020-12-01  ...             343\n",
              "13 2020-12-01  ...              47\n",
              "14 2020-12-01  ...               0\n",
              "15 2020-12-01  ...              69\n",
              "16 2020-12-01  ...             514\n",
              "17 2020-12-01  ...             867\n",
              "18 2020-11-01  ...               0\n",
              "19 2020-11-01  ...             361\n",
              "20 2020-11-01  ...             838\n",
              "21 2020-11-01  ...              70\n",
              "22 2020-11-01  ...             530\n",
              "23 2020-11-01  ...              65\n",
              "24 2020-10-01  ...               0\n",
              "25 2020-10-01  ...              72\n",
              "26 2020-10-01  ...             522\n",
              "27 2020-10-01  ...             399\n",
              "28 2020-10-01  ...              70\n",
              "29 2020-10-01  ...             863\n",
              "\n",
              "[30 rows x 5 columns]"
            ]
          },
          "metadata": {
            "tags": []
          },
          "execution_count": 67
        }
      ]
    },
    {
      "cell_type": "code",
      "metadata": {
        "colab": {
          "base_uri": "https://localhost:8080/",
          "height": 1000
        },
        "id": "4b6OdX8jbkLx",
        "outputId": "f0395fed-5863-4c05-ea60-2a6d169f5e0f"
      },
      "source": [
        "# Arrange by DSCC Abbreviation then by sort by Date\n",
        "df_1_abbr2 = df_1.groupby('DSCC Abbr.').apply(lambda x: x.sort_values('Date'))\n",
        "df_1_abbr2.head(30)"
      ],
      "execution_count": null,
      "outputs": [
        {
          "output_type": "execute_result",
          "data": {
            "text/html": [
              "<div>\n",
              "<style scoped>\n",
              "    .dataframe tbody tr th:only-of-type {\n",
              "        vertical-align: middle;\n",
              "    }\n",
              "\n",
              "    .dataframe tbody tr th {\n",
              "        vertical-align: top;\n",
              "    }\n",
              "\n",
              "    .dataframe thead th {\n",
              "        text-align: right;\n",
              "    }\n",
              "</style>\n",
              "<table border=\"1\" class=\"dataframe\">\n",
              "  <thead>\n",
              "    <tr style=\"text-align: right;\">\n",
              "      <th></th>\n",
              "      <th></th>\n",
              "      <th>Date</th>\n",
              "      <th>DSCC Abbr.</th>\n",
              "      <th>DSCC Names</th>\n",
              "      <th>category</th>\n",
              "      <th>Avg. Daily Pop.</th>\n",
              "    </tr>\n",
              "    <tr>\n",
              "      <th>DSCC Abbr.</th>\n",
              "      <th></th>\n",
              "      <th></th>\n",
              "      <th></th>\n",
              "      <th></th>\n",
              "      <th></th>\n",
              "      <th></th>\n",
              "    </tr>\n",
              "  </thead>\n",
              "  <tbody>\n",
              "    <tr>\n",
              "      <th rowspan=\"30\" valign=\"top\">ACS</th>\n",
              "      <th>441</th>\n",
              "      <td>2015-01-01</td>\n",
              "      <td>ACS</td>\n",
              "      <td>Alternative Community Services</td>\n",
              "      <td>Criminal Justice Clients under Pre-Trial Services</td>\n",
              "      <td>721</td>\n",
              "    </tr>\n",
              "    <tr>\n",
              "      <th>434</th>\n",
              "      <td>2015-02-01</td>\n",
              "      <td>ACS</td>\n",
              "      <td>Alternative Community Services</td>\n",
              "      <td>Criminal Justice Clients under Pre-Trial Services</td>\n",
              "      <td>738</td>\n",
              "    </tr>\n",
              "    <tr>\n",
              "      <th>429</th>\n",
              "      <td>2015-03-01</td>\n",
              "      <td>ACS</td>\n",
              "      <td>Alternative Community Services</td>\n",
              "      <td>Criminal Justice Clients under Pre-Trial Services</td>\n",
              "      <td>749</td>\n",
              "    </tr>\n",
              "    <tr>\n",
              "      <th>420</th>\n",
              "      <td>2015-04-01</td>\n",
              "      <td>ACS</td>\n",
              "      <td>Alternative Community Services</td>\n",
              "      <td>Criminal Justice Clients under Pre-Trial Services</td>\n",
              "      <td>780</td>\n",
              "    </tr>\n",
              "    <tr>\n",
              "      <th>419</th>\n",
              "      <td>2015-05-01</td>\n",
              "      <td>ACS</td>\n",
              "      <td>Alternative Community Services</td>\n",
              "      <td>Criminal Justice Clients under Pre-Trial Services</td>\n",
              "      <td>751</td>\n",
              "    </tr>\n",
              "    <tr>\n",
              "      <th>413</th>\n",
              "      <td>2015-06-01</td>\n",
              "      <td>ACS</td>\n",
              "      <td>Alternative Community Services</td>\n",
              "      <td>Criminal Justice Clients under Pre-Trial Services</td>\n",
              "      <td>699</td>\n",
              "    </tr>\n",
              "    <tr>\n",
              "      <th>405</th>\n",
              "      <td>2015-07-01</td>\n",
              "      <td>ACS</td>\n",
              "      <td>Alternative Community Services</td>\n",
              "      <td>Criminal Justice Clients under Pre-Trial Services</td>\n",
              "      <td>705</td>\n",
              "    </tr>\n",
              "    <tr>\n",
              "      <th>400</th>\n",
              "      <td>2015-08-01</td>\n",
              "      <td>ACS</td>\n",
              "      <td>Alternative Community Services</td>\n",
              "      <td>Criminal Justice Clients under Pre-Trial Services</td>\n",
              "      <td>739</td>\n",
              "    </tr>\n",
              "    <tr>\n",
              "      <th>390</th>\n",
              "      <td>2015-09-01</td>\n",
              "      <td>ACS</td>\n",
              "      <td>Alternative Community Services</td>\n",
              "      <td>Criminal Justice Clients under Pre-Trial Services</td>\n",
              "      <td>703</td>\n",
              "    </tr>\n",
              "    <tr>\n",
              "      <th>384</th>\n",
              "      <td>2015-10-01</td>\n",
              "      <td>ACS</td>\n",
              "      <td>Alternative Community Services</td>\n",
              "      <td>Criminal Justice Clients under Pre-Trial Services</td>\n",
              "      <td>758</td>\n",
              "    </tr>\n",
              "    <tr>\n",
              "      <th>382</th>\n",
              "      <td>2015-11-01</td>\n",
              "      <td>ACS</td>\n",
              "      <td>Alternative Community Services</td>\n",
              "      <td>Criminal Justice Clients under Pre-Trial Services</td>\n",
              "      <td>879</td>\n",
              "    </tr>\n",
              "    <tr>\n",
              "      <th>376</th>\n",
              "      <td>2015-12-01</td>\n",
              "      <td>ACS</td>\n",
              "      <td>Alternative Community Services</td>\n",
              "      <td>Criminal Justice Clients under Pre-Trial Services</td>\n",
              "      <td>882</td>\n",
              "    </tr>\n",
              "    <tr>\n",
              "      <th>366</th>\n",
              "      <td>2016-01-01</td>\n",
              "      <td>ACS</td>\n",
              "      <td>Alternative Community Services</td>\n",
              "      <td>Criminal Justice Clients under Pre-Trial Services</td>\n",
              "      <td>814</td>\n",
              "    </tr>\n",
              "    <tr>\n",
              "      <th>363</th>\n",
              "      <td>2016-02-01</td>\n",
              "      <td>ACS</td>\n",
              "      <td>Alternative Community Services</td>\n",
              "      <td>Criminal Justice Clients under Pre-Trial Services</td>\n",
              "      <td>838</td>\n",
              "    </tr>\n",
              "    <tr>\n",
              "      <th>355</th>\n",
              "      <td>2016-03-01</td>\n",
              "      <td>ACS</td>\n",
              "      <td>Alternative Community Services</td>\n",
              "      <td>Criminal Justice Clients under Pre-Trial Services</td>\n",
              "      <td>885</td>\n",
              "    </tr>\n",
              "    <tr>\n",
              "      <th>352</th>\n",
              "      <td>2016-04-01</td>\n",
              "      <td>ACS</td>\n",
              "      <td>Alternative Community Services</td>\n",
              "      <td>Criminal Justice Clients under Pre-Trial Services</td>\n",
              "      <td>962</td>\n",
              "    </tr>\n",
              "    <tr>\n",
              "      <th>344</th>\n",
              "      <td>2016-05-01</td>\n",
              "      <td>ACS</td>\n",
              "      <td>Alternative Community Services</td>\n",
              "      <td>Criminal Justice Clients under Pre-Trial Services</td>\n",
              "      <td>1025</td>\n",
              "    </tr>\n",
              "    <tr>\n",
              "      <th>340</th>\n",
              "      <td>2016-06-01</td>\n",
              "      <td>ACS</td>\n",
              "      <td>Alternative Community Services</td>\n",
              "      <td>Criminal Justice Clients under Pre-Trial Services</td>\n",
              "      <td>945</td>\n",
              "    </tr>\n",
              "    <tr>\n",
              "      <th>331</th>\n",
              "      <td>2016-07-01</td>\n",
              "      <td>ACS</td>\n",
              "      <td>Alternative Community Services</td>\n",
              "      <td>Criminal Justice Clients under Pre-Trial Services</td>\n",
              "      <td>933</td>\n",
              "    </tr>\n",
              "    <tr>\n",
              "      <th>325</th>\n",
              "      <td>2016-08-01</td>\n",
              "      <td>ACS</td>\n",
              "      <td>Alternative Community Services</td>\n",
              "      <td>Criminal Justice Clients under Pre-Trial Services</td>\n",
              "      <td>948</td>\n",
              "    </tr>\n",
              "    <tr>\n",
              "      <th>320</th>\n",
              "      <td>2016-09-01</td>\n",
              "      <td>ACS</td>\n",
              "      <td>Alternative Community Services</td>\n",
              "      <td>Criminal Justice Clients under Pre-Trial Services</td>\n",
              "      <td>955</td>\n",
              "    </tr>\n",
              "    <tr>\n",
              "      <th>316</th>\n",
              "      <td>2016-10-01</td>\n",
              "      <td>ACS</td>\n",
              "      <td>Alternative Community Services</td>\n",
              "      <td>Criminal Justice Clients under Pre-Trial Services</td>\n",
              "      <td>894</td>\n",
              "    </tr>\n",
              "    <tr>\n",
              "      <th>311</th>\n",
              "      <td>2016-11-01</td>\n",
              "      <td>ACS</td>\n",
              "      <td>Alternative Community Services</td>\n",
              "      <td>Criminal Justice Clients under Pre-Trial Services</td>\n",
              "      <td>804</td>\n",
              "    </tr>\n",
              "    <tr>\n",
              "      <th>300</th>\n",
              "      <td>2016-12-01</td>\n",
              "      <td>ACS</td>\n",
              "      <td>Alternative Community Services</td>\n",
              "      <td>Criminal Justice Clients under Pre-Trial Services</td>\n",
              "      <td>729</td>\n",
              "    </tr>\n",
              "    <tr>\n",
              "      <th>294</th>\n",
              "      <td>2017-01-01</td>\n",
              "      <td>ACS</td>\n",
              "      <td>Alternative Community Services</td>\n",
              "      <td>Criminal Justice Clients under Pre-Trial Services</td>\n",
              "      <td>700</td>\n",
              "    </tr>\n",
              "    <tr>\n",
              "      <th>290</th>\n",
              "      <td>2017-02-01</td>\n",
              "      <td>ACS</td>\n",
              "      <td>Alternative Community Services</td>\n",
              "      <td>Criminal Justice Clients under Pre-Trial Services</td>\n",
              "      <td>731</td>\n",
              "    </tr>\n",
              "    <tr>\n",
              "      <th>282</th>\n",
              "      <td>2017-03-01</td>\n",
              "      <td>ACS</td>\n",
              "      <td>Alternative Community Services</td>\n",
              "      <td>Criminal Justice Clients under Pre-Trial Services</td>\n",
              "      <td>703</td>\n",
              "    </tr>\n",
              "    <tr>\n",
              "      <th>279</th>\n",
              "      <td>2017-04-01</td>\n",
              "      <td>ACS</td>\n",
              "      <td>Alternative Community Services</td>\n",
              "      <td>Criminal Justice Clients under Pre-Trial Services</td>\n",
              "      <td>649</td>\n",
              "    </tr>\n",
              "    <tr>\n",
              "      <th>273</th>\n",
              "      <td>2017-05-01</td>\n",
              "      <td>ACS</td>\n",
              "      <td>Alternative Community Services</td>\n",
              "      <td>Criminal Justice Clients under Pre-Trial Services</td>\n",
              "      <td>644</td>\n",
              "    </tr>\n",
              "    <tr>\n",
              "      <th>264</th>\n",
              "      <td>2017-06-01</td>\n",
              "      <td>ACS</td>\n",
              "      <td>Alternative Community Services</td>\n",
              "      <td>Criminal Justice Clients under Pre-Trial Services</td>\n",
              "      <td>645</td>\n",
              "    </tr>\n",
              "  </tbody>\n",
              "</table>\n",
              "</div>"
            ],
            "text/plain": [
              "                     Date  ... Avg. Daily Pop.\n",
              "DSCC Abbr.                 ...                \n",
              "ACS        441 2015-01-01  ...             721\n",
              "           434 2015-02-01  ...             738\n",
              "           429 2015-03-01  ...             749\n",
              "           420 2015-04-01  ...             780\n",
              "           419 2015-05-01  ...             751\n",
              "           413 2015-06-01  ...             699\n",
              "           405 2015-07-01  ...             705\n",
              "           400 2015-08-01  ...             739\n",
              "           390 2015-09-01  ...             703\n",
              "           384 2015-10-01  ...             758\n",
              "           382 2015-11-01  ...             879\n",
              "           376 2015-12-01  ...             882\n",
              "           366 2016-01-01  ...             814\n",
              "           363 2016-02-01  ...             838\n",
              "           355 2016-03-01  ...             885\n",
              "           352 2016-04-01  ...             962\n",
              "           344 2016-05-01  ...            1025\n",
              "           340 2016-06-01  ...             945\n",
              "           331 2016-07-01  ...             933\n",
              "           325 2016-08-01  ...             948\n",
              "           320 2016-09-01  ...             955\n",
              "           316 2016-10-01  ...             894\n",
              "           311 2016-11-01  ...             804\n",
              "           300 2016-12-01  ...             729\n",
              "           294 2017-01-01  ...             700\n",
              "           290 2017-02-01  ...             731\n",
              "           282 2017-03-01  ...             703\n",
              "           279 2017-04-01  ...             649\n",
              "           273 2017-05-01  ...             644\n",
              "           264 2017-06-01  ...             645\n",
              "\n",
              "[30 rows x 5 columns]"
            ]
          },
          "metadata": {
            "tags": []
          },
          "execution_count": 68
        }
      ]
    },
    {
      "cell_type": "code",
      "metadata": {
        "colab": {
          "base_uri": "https://localhost:8080/"
        },
        "id": "RHBis25GfN3e",
        "outputId": "146d1b65-202c-46bd-8343-126034203e91"
      },
      "source": [
        "df_1_abbr2.info()"
      ],
      "execution_count": null,
      "outputs": [
        {
          "output_type": "stream",
          "text": [
            "<class 'pandas.core.frame.DataFrame'>\n",
            "MultiIndex: 444 entries, ('ACS', 441) to ('PTSU', 1)\n",
            "Data columns (total 5 columns):\n",
            " #   Column           Non-Null Count  Dtype         \n",
            "---  ------           --------------  -----         \n",
            " 0   Date             444 non-null    datetime64[ns]\n",
            " 1   DSCC Abbr.       444 non-null    object        \n",
            " 2   DSCC Names       444 non-null    object        \n",
            " 3   category         444 non-null    object        \n",
            " 4   Avg. Daily Pop.  444 non-null    int64         \n",
            "dtypes: datetime64[ns](1), int64(1), object(3)\n",
            "memory usage: 42.2+ KB\n"
          ],
          "name": "stdout"
        }
      ]
    },
    {
      "cell_type": "code",
      "metadata": {
        "colab": {
          "base_uri": "https://localhost:8080/",
          "height": 111
        },
        "id": "b9MHVOWZff_O",
        "outputId": "5d34dcec-e120-44b7-9a32-e685275a19a5"
      },
      "source": [
        "# make datetime - can also do it at dataframe level, put datetime in dictionary \n",
        "df_1_abbr2.Date = pd.to_datetime(df_1_abbr2.Date)\n",
        "df_1_abbr2.head(1)"
      ],
      "execution_count": null,
      "outputs": [
        {
          "output_type": "execute_result",
          "data": {
            "text/html": [
              "<div>\n",
              "<style scoped>\n",
              "    .dataframe tbody tr th:only-of-type {\n",
              "        vertical-align: middle;\n",
              "    }\n",
              "\n",
              "    .dataframe tbody tr th {\n",
              "        vertical-align: top;\n",
              "    }\n",
              "\n",
              "    .dataframe thead th {\n",
              "        text-align: right;\n",
              "    }\n",
              "</style>\n",
              "<table border=\"1\" class=\"dataframe\">\n",
              "  <thead>\n",
              "    <tr style=\"text-align: right;\">\n",
              "      <th></th>\n",
              "      <th></th>\n",
              "      <th>Date</th>\n",
              "      <th>DSCC Abbr.</th>\n",
              "      <th>DSCC Names</th>\n",
              "      <th>category</th>\n",
              "      <th>Avg. Daily Pop.</th>\n",
              "    </tr>\n",
              "    <tr>\n",
              "      <th>DSCC Abbr.</th>\n",
              "      <th></th>\n",
              "      <th></th>\n",
              "      <th></th>\n",
              "      <th></th>\n",
              "      <th></th>\n",
              "      <th></th>\n",
              "    </tr>\n",
              "  </thead>\n",
              "  <tbody>\n",
              "    <tr>\n",
              "      <th>ACS</th>\n",
              "      <th>441</th>\n",
              "      <td>2015-01-01</td>\n",
              "      <td>ACS</td>\n",
              "      <td>Alternative Community Services</td>\n",
              "      <td>Criminal Justice Clients under Pre-Trial Services</td>\n",
              "      <td>721</td>\n",
              "    </tr>\n",
              "  </tbody>\n",
              "</table>\n",
              "</div>"
            ],
            "text/plain": [
              "                     Date  ... Avg. Daily Pop.\n",
              "DSCC Abbr.                 ...                \n",
              "ACS        441 2015-01-01  ...             721\n",
              "\n",
              "[1 rows x 5 columns]"
            ]
          },
          "metadata": {
            "tags": []
          },
          "execution_count": 70
        }
      ]
    },
    {
      "cell_type": "code",
      "metadata": {
        "id": "RxauttAEgsg3"
      },
      "source": [
        "# index changing code\n"
      ],
      "execution_count": null,
      "outputs": []
    },
    {
      "cell_type": "code",
      "metadata": {
        "colab": {
          "base_uri": "https://localhost:8080/"
        },
        "id": "zA1KZH1Lf8IY",
        "outputId": "86254e5b-d86f-4f38-d425-7d5a58274fce"
      },
      "source": [
        "df_1_abbr2.info()"
      ],
      "execution_count": null,
      "outputs": [
        {
          "output_type": "stream",
          "text": [
            "<class 'pandas.core.frame.DataFrame'>\n",
            "MultiIndex: 444 entries, ('ACS', 441) to ('PTSU', 1)\n",
            "Data columns (total 5 columns):\n",
            " #   Column           Non-Null Count  Dtype         \n",
            "---  ------           --------------  -----         \n",
            " 0   Date             444 non-null    datetime64[ns]\n",
            " 1   DSCC Abbr.       444 non-null    object        \n",
            " 2   DSCC Names       444 non-null    object        \n",
            " 3   category         444 non-null    object        \n",
            " 4   Avg. Daily Pop.  444 non-null    int64         \n",
            "dtypes: datetime64[ns](1), int64(1), object(3)\n",
            "memory usage: 42.2+ KB\n"
          ],
          "name": "stdout"
        }
      ]
    },
    {
      "cell_type": "code",
      "metadata": {
        "id": "T64bWLm7bxGA"
      },
      "source": [
        "# Simplify name\n",
        "df_2 = df_1_abbr2"
      ],
      "execution_count": null,
      "outputs": []
    },
    {
      "cell_type": "code",
      "metadata": {
        "id": "riuedJ5Ob4tO"
      },
      "source": [
        "# Create separate columns for month day and year \n",
        "df_2.Date = pd.to_datetime(df_2.Date)"
      ],
      "execution_count": null,
      "outputs": []
    },
    {
      "cell_type": "code",
      "metadata": {
        "colab": {
          "base_uri": "https://localhost:8080/",
          "height": 654
        },
        "id": "BywLU5c7b7Jj",
        "outputId": "30d188dd-19b4-41f4-c5fe-a3fb2b175df2"
      },
      "source": [
        "df_2[['month', 'year']] = df_2.Date.apply(lambda x: pd.Series(x.strftime(\"%m, %Y\").split(\",\")))\n",
        "df_2"
      ],
      "execution_count": null,
      "outputs": [
        {
          "output_type": "execute_result",
          "data": {
            "text/html": [
              "<div>\n",
              "<style scoped>\n",
              "    .dataframe tbody tr th:only-of-type {\n",
              "        vertical-align: middle;\n",
              "    }\n",
              "\n",
              "    .dataframe tbody tr th {\n",
              "        vertical-align: top;\n",
              "    }\n",
              "\n",
              "    .dataframe thead th {\n",
              "        text-align: right;\n",
              "    }\n",
              "</style>\n",
              "<table border=\"1\" class=\"dataframe\">\n",
              "  <thead>\n",
              "    <tr style=\"text-align: right;\">\n",
              "      <th></th>\n",
              "      <th></th>\n",
              "      <th>Date</th>\n",
              "      <th>DSCC Abbr.</th>\n",
              "      <th>DSCC Names</th>\n",
              "      <th>category</th>\n",
              "      <th>Avg. Daily Pop.</th>\n",
              "      <th>month</th>\n",
              "      <th>year</th>\n",
              "    </tr>\n",
              "    <tr>\n",
              "      <th>DSCC Abbr.</th>\n",
              "      <th></th>\n",
              "      <th></th>\n",
              "      <th></th>\n",
              "      <th></th>\n",
              "      <th></th>\n",
              "      <th></th>\n",
              "      <th></th>\n",
              "      <th></th>\n",
              "    </tr>\n",
              "  </thead>\n",
              "  <tbody>\n",
              "    <tr>\n",
              "      <th rowspan=\"5\" valign=\"top\">ACS</th>\n",
              "      <th>441</th>\n",
              "      <td>2015-01-01</td>\n",
              "      <td>ACS</td>\n",
              "      <td>Alternative Community Services</td>\n",
              "      <td>Criminal Justice Clients under Pre-Trial Services</td>\n",
              "      <td>721</td>\n",
              "      <td>01</td>\n",
              "      <td>2015</td>\n",
              "    </tr>\n",
              "    <tr>\n",
              "      <th>434</th>\n",
              "      <td>2015-02-01</td>\n",
              "      <td>ACS</td>\n",
              "      <td>Alternative Community Services</td>\n",
              "      <td>Criminal Justice Clients under Pre-Trial Services</td>\n",
              "      <td>738</td>\n",
              "      <td>02</td>\n",
              "      <td>2015</td>\n",
              "    </tr>\n",
              "    <tr>\n",
              "      <th>429</th>\n",
              "      <td>2015-03-01</td>\n",
              "      <td>ACS</td>\n",
              "      <td>Alternative Community Services</td>\n",
              "      <td>Criminal Justice Clients under Pre-Trial Services</td>\n",
              "      <td>749</td>\n",
              "      <td>03</td>\n",
              "      <td>2015</td>\n",
              "    </tr>\n",
              "    <tr>\n",
              "      <th>420</th>\n",
              "      <td>2015-04-01</td>\n",
              "      <td>ACS</td>\n",
              "      <td>Alternative Community Services</td>\n",
              "      <td>Criminal Justice Clients under Pre-Trial Services</td>\n",
              "      <td>780</td>\n",
              "      <td>04</td>\n",
              "      <td>2015</td>\n",
              "    </tr>\n",
              "    <tr>\n",
              "      <th>419</th>\n",
              "      <td>2015-05-01</td>\n",
              "      <td>ACS</td>\n",
              "      <td>Alternative Community Services</td>\n",
              "      <td>Criminal Justice Clients under Pre-Trial Services</td>\n",
              "      <td>751</td>\n",
              "      <td>05</td>\n",
              "      <td>2015</td>\n",
              "    </tr>\n",
              "    <tr>\n",
              "      <th>...</th>\n",
              "      <th>...</th>\n",
              "      <td>...</td>\n",
              "      <td>...</td>\n",
              "      <td>...</td>\n",
              "      <td>...</td>\n",
              "      <td>...</td>\n",
              "      <td>...</td>\n",
              "      <td>...</td>\n",
              "    </tr>\n",
              "    <tr>\n",
              "      <th rowspan=\"5\" valign=\"top\">PTSU</th>\n",
              "      <th>29</th>\n",
              "      <td>2020-10-01</td>\n",
              "      <td>PTSU</td>\n",
              "      <td>Pre-Trial Supervision Unit</td>\n",
              "      <td>Criminal Justice Clients under Pre-Trial Services</td>\n",
              "      <td>863</td>\n",
              "      <td>10</td>\n",
              "      <td>2020</td>\n",
              "    </tr>\n",
              "    <tr>\n",
              "      <th>20</th>\n",
              "      <td>2020-11-01</td>\n",
              "      <td>PTSU</td>\n",
              "      <td>Pre-Trial Supervision Unit</td>\n",
              "      <td>Criminal Justice Clients under Pre-Trial Services</td>\n",
              "      <td>838</td>\n",
              "      <td>11</td>\n",
              "      <td>2020</td>\n",
              "    </tr>\n",
              "    <tr>\n",
              "      <th>17</th>\n",
              "      <td>2020-12-01</td>\n",
              "      <td>PTSU</td>\n",
              "      <td>Pre-Trial Supervision Unit</td>\n",
              "      <td>Criminal Justice Clients under Pre-Trial Services</td>\n",
              "      <td>867</td>\n",
              "      <td>12</td>\n",
              "      <td>2020</td>\n",
              "    </tr>\n",
              "    <tr>\n",
              "      <th>7</th>\n",
              "      <td>2021-01-01</td>\n",
              "      <td>PTSU</td>\n",
              "      <td>Pre-Trial Supervision Unit</td>\n",
              "      <td>Criminal Justice Clients under Pre-Trial Services</td>\n",
              "      <td>909</td>\n",
              "      <td>01</td>\n",
              "      <td>2021</td>\n",
              "    </tr>\n",
              "    <tr>\n",
              "      <th>1</th>\n",
              "      <td>2021-02-01</td>\n",
              "      <td>PTSU</td>\n",
              "      <td>Pre-Trial Supervision Unit</td>\n",
              "      <td>Criminal Justice Clients under Pre-Trial Services</td>\n",
              "      <td>918</td>\n",
              "      <td>02</td>\n",
              "      <td>2021</td>\n",
              "    </tr>\n",
              "  </tbody>\n",
              "</table>\n",
              "<p>444 rows × 7 columns</p>\n",
              "</div>"
            ],
            "text/plain": [
              "                     Date DSCC Abbr.  ... month   year\n",
              "DSCC Abbr.                            ...             \n",
              "ACS        441 2015-01-01        ACS  ...    01   2015\n",
              "           434 2015-02-01        ACS  ...    02   2015\n",
              "           429 2015-03-01        ACS  ...    03   2015\n",
              "           420 2015-04-01        ACS  ...    04   2015\n",
              "           419 2015-05-01        ACS  ...    05   2015\n",
              "...                   ...        ...  ...   ...    ...\n",
              "PTSU       29  2020-10-01       PTSU  ...    10   2020\n",
              "           20  2020-11-01       PTSU  ...    11   2020\n",
              "           17  2020-12-01       PTSU  ...    12   2020\n",
              "           7   2021-01-01       PTSU  ...    01   2021\n",
              "           1   2021-02-01       PTSU  ...    02   2021\n",
              "\n",
              "[444 rows x 7 columns]"
            ]
          },
          "metadata": {
            "tags": []
          },
          "execution_count": 75
        }
      ]
    },
    {
      "cell_type": "code",
      "metadata": {
        "colab": {
          "base_uri": "https://localhost:8080/",
          "height": 594
        },
        "id": "zUjbAfr5cAa7",
        "outputId": "d917336f-9bb5-4684-cec8-d63095367e38"
      },
      "source": [
        "# month and year separate columns created\n",
        "df_2.groupby(df_2['year'])\n",
        "df_2.head(10)"
      ],
      "execution_count": null,
      "outputs": [
        {
          "output_type": "execute_result",
          "data": {
            "text/html": [
              "<div>\n",
              "<style scoped>\n",
              "    .dataframe tbody tr th:only-of-type {\n",
              "        vertical-align: middle;\n",
              "    }\n",
              "\n",
              "    .dataframe tbody tr th {\n",
              "        vertical-align: top;\n",
              "    }\n",
              "\n",
              "    .dataframe thead th {\n",
              "        text-align: right;\n",
              "    }\n",
              "</style>\n",
              "<table border=\"1\" class=\"dataframe\">\n",
              "  <thead>\n",
              "    <tr style=\"text-align: right;\">\n",
              "      <th></th>\n",
              "      <th></th>\n",
              "      <th>Date</th>\n",
              "      <th>DSCC Abbr.</th>\n",
              "      <th>DSCC Names</th>\n",
              "      <th>category</th>\n",
              "      <th>Avg. Daily Pop.</th>\n",
              "      <th>month</th>\n",
              "      <th>year</th>\n",
              "    </tr>\n",
              "    <tr>\n",
              "      <th>DSCC Abbr.</th>\n",
              "      <th></th>\n",
              "      <th></th>\n",
              "      <th></th>\n",
              "      <th></th>\n",
              "      <th></th>\n",
              "      <th></th>\n",
              "      <th></th>\n",
              "      <th></th>\n",
              "    </tr>\n",
              "  </thead>\n",
              "  <tbody>\n",
              "    <tr>\n",
              "      <th rowspan=\"10\" valign=\"top\">ACS</th>\n",
              "      <th>441</th>\n",
              "      <td>2015-01-01</td>\n",
              "      <td>ACS</td>\n",
              "      <td>Alternative Community Services</td>\n",
              "      <td>Criminal Justice Clients under Pre-Trial Services</td>\n",
              "      <td>721</td>\n",
              "      <td>01</td>\n",
              "      <td>2015</td>\n",
              "    </tr>\n",
              "    <tr>\n",
              "      <th>434</th>\n",
              "      <td>2015-02-01</td>\n",
              "      <td>ACS</td>\n",
              "      <td>Alternative Community Services</td>\n",
              "      <td>Criminal Justice Clients under Pre-Trial Services</td>\n",
              "      <td>738</td>\n",
              "      <td>02</td>\n",
              "      <td>2015</td>\n",
              "    </tr>\n",
              "    <tr>\n",
              "      <th>429</th>\n",
              "      <td>2015-03-01</td>\n",
              "      <td>ACS</td>\n",
              "      <td>Alternative Community Services</td>\n",
              "      <td>Criminal Justice Clients under Pre-Trial Services</td>\n",
              "      <td>749</td>\n",
              "      <td>03</td>\n",
              "      <td>2015</td>\n",
              "    </tr>\n",
              "    <tr>\n",
              "      <th>420</th>\n",
              "      <td>2015-04-01</td>\n",
              "      <td>ACS</td>\n",
              "      <td>Alternative Community Services</td>\n",
              "      <td>Criminal Justice Clients under Pre-Trial Services</td>\n",
              "      <td>780</td>\n",
              "      <td>04</td>\n",
              "      <td>2015</td>\n",
              "    </tr>\n",
              "    <tr>\n",
              "      <th>419</th>\n",
              "      <td>2015-05-01</td>\n",
              "      <td>ACS</td>\n",
              "      <td>Alternative Community Services</td>\n",
              "      <td>Criminal Justice Clients under Pre-Trial Services</td>\n",
              "      <td>751</td>\n",
              "      <td>05</td>\n",
              "      <td>2015</td>\n",
              "    </tr>\n",
              "    <tr>\n",
              "      <th>413</th>\n",
              "      <td>2015-06-01</td>\n",
              "      <td>ACS</td>\n",
              "      <td>Alternative Community Services</td>\n",
              "      <td>Criminal Justice Clients under Pre-Trial Services</td>\n",
              "      <td>699</td>\n",
              "      <td>06</td>\n",
              "      <td>2015</td>\n",
              "    </tr>\n",
              "    <tr>\n",
              "      <th>405</th>\n",
              "      <td>2015-07-01</td>\n",
              "      <td>ACS</td>\n",
              "      <td>Alternative Community Services</td>\n",
              "      <td>Criminal Justice Clients under Pre-Trial Services</td>\n",
              "      <td>705</td>\n",
              "      <td>07</td>\n",
              "      <td>2015</td>\n",
              "    </tr>\n",
              "    <tr>\n",
              "      <th>400</th>\n",
              "      <td>2015-08-01</td>\n",
              "      <td>ACS</td>\n",
              "      <td>Alternative Community Services</td>\n",
              "      <td>Criminal Justice Clients under Pre-Trial Services</td>\n",
              "      <td>739</td>\n",
              "      <td>08</td>\n",
              "      <td>2015</td>\n",
              "    </tr>\n",
              "    <tr>\n",
              "      <th>390</th>\n",
              "      <td>2015-09-01</td>\n",
              "      <td>ACS</td>\n",
              "      <td>Alternative Community Services</td>\n",
              "      <td>Criminal Justice Clients under Pre-Trial Services</td>\n",
              "      <td>703</td>\n",
              "      <td>09</td>\n",
              "      <td>2015</td>\n",
              "    </tr>\n",
              "    <tr>\n",
              "      <th>384</th>\n",
              "      <td>2015-10-01</td>\n",
              "      <td>ACS</td>\n",
              "      <td>Alternative Community Services</td>\n",
              "      <td>Criminal Justice Clients under Pre-Trial Services</td>\n",
              "      <td>758</td>\n",
              "      <td>10</td>\n",
              "      <td>2015</td>\n",
              "    </tr>\n",
              "  </tbody>\n",
              "</table>\n",
              "</div>"
            ],
            "text/plain": [
              "                     Date DSCC Abbr.  ... month   year\n",
              "DSCC Abbr.                            ...             \n",
              "ACS        441 2015-01-01        ACS  ...    01   2015\n",
              "           434 2015-02-01        ACS  ...    02   2015\n",
              "           429 2015-03-01        ACS  ...    03   2015\n",
              "           420 2015-04-01        ACS  ...    04   2015\n",
              "           419 2015-05-01        ACS  ...    05   2015\n",
              "           413 2015-06-01        ACS  ...    06   2015\n",
              "           405 2015-07-01        ACS  ...    07   2015\n",
              "           400 2015-08-01        ACS  ...    08   2015\n",
              "           390 2015-09-01        ACS  ...    09   2015\n",
              "           384 2015-10-01        ACS  ...    10   2015\n",
              "\n",
              "[10 rows x 7 columns]"
            ]
          },
          "metadata": {
            "tags": []
          },
          "execution_count": 76
        }
      ]
    },
    {
      "cell_type": "code",
      "metadata": {
        "colab": {
          "base_uri": "https://localhost:8080/",
          "height": 235
        },
        "id": "K_Ceh1IZcHa-",
        "outputId": "11a1096d-41d1-41eb-ab43-b9366c2d5b49"
      },
      "source": [
        "# Remove DSCC Name Column\n",
        "df_2.drop(df_2.columns[[2]], axis=1, inplace=True,)\n",
        "df_2.head(5)"
      ],
      "execution_count": null,
      "outputs": [
        {
          "output_type": "execute_result",
          "data": {
            "text/html": [
              "<div>\n",
              "<style scoped>\n",
              "    .dataframe tbody tr th:only-of-type {\n",
              "        vertical-align: middle;\n",
              "    }\n",
              "\n",
              "    .dataframe tbody tr th {\n",
              "        vertical-align: top;\n",
              "    }\n",
              "\n",
              "    .dataframe thead th {\n",
              "        text-align: right;\n",
              "    }\n",
              "</style>\n",
              "<table border=\"1\" class=\"dataframe\">\n",
              "  <thead>\n",
              "    <tr style=\"text-align: right;\">\n",
              "      <th></th>\n",
              "      <th></th>\n",
              "      <th>Date</th>\n",
              "      <th>DSCC Abbr.</th>\n",
              "      <th>category</th>\n",
              "      <th>Avg. Daily Pop.</th>\n",
              "      <th>month</th>\n",
              "      <th>year</th>\n",
              "    </tr>\n",
              "    <tr>\n",
              "      <th>DSCC Abbr.</th>\n",
              "      <th></th>\n",
              "      <th></th>\n",
              "      <th></th>\n",
              "      <th></th>\n",
              "      <th></th>\n",
              "      <th></th>\n",
              "      <th></th>\n",
              "    </tr>\n",
              "  </thead>\n",
              "  <tbody>\n",
              "    <tr>\n",
              "      <th rowspan=\"5\" valign=\"top\">ACS</th>\n",
              "      <th>441</th>\n",
              "      <td>2015-01-01</td>\n",
              "      <td>ACS</td>\n",
              "      <td>Criminal Justice Clients under Pre-Trial Services</td>\n",
              "      <td>721</td>\n",
              "      <td>01</td>\n",
              "      <td>2015</td>\n",
              "    </tr>\n",
              "    <tr>\n",
              "      <th>434</th>\n",
              "      <td>2015-02-01</td>\n",
              "      <td>ACS</td>\n",
              "      <td>Criminal Justice Clients under Pre-Trial Services</td>\n",
              "      <td>738</td>\n",
              "      <td>02</td>\n",
              "      <td>2015</td>\n",
              "    </tr>\n",
              "    <tr>\n",
              "      <th>429</th>\n",
              "      <td>2015-03-01</td>\n",
              "      <td>ACS</td>\n",
              "      <td>Criminal Justice Clients under Pre-Trial Services</td>\n",
              "      <td>749</td>\n",
              "      <td>03</td>\n",
              "      <td>2015</td>\n",
              "    </tr>\n",
              "    <tr>\n",
              "      <th>420</th>\n",
              "      <td>2015-04-01</td>\n",
              "      <td>ACS</td>\n",
              "      <td>Criminal Justice Clients under Pre-Trial Services</td>\n",
              "      <td>780</td>\n",
              "      <td>04</td>\n",
              "      <td>2015</td>\n",
              "    </tr>\n",
              "    <tr>\n",
              "      <th>419</th>\n",
              "      <td>2015-05-01</td>\n",
              "      <td>ACS</td>\n",
              "      <td>Criminal Justice Clients under Pre-Trial Services</td>\n",
              "      <td>751</td>\n",
              "      <td>05</td>\n",
              "      <td>2015</td>\n",
              "    </tr>\n",
              "  </tbody>\n",
              "</table>\n",
              "</div>"
            ],
            "text/plain": [
              "                     Date DSCC Abbr.  ... month   year\n",
              "DSCC Abbr.                            ...             \n",
              "ACS        441 2015-01-01        ACS  ...    01   2015\n",
              "           434 2015-02-01        ACS  ...    02   2015\n",
              "           429 2015-03-01        ACS  ...    03   2015\n",
              "           420 2015-04-01        ACS  ...    04   2015\n",
              "           419 2015-05-01        ACS  ...    05   2015\n",
              "\n",
              "[5 rows x 6 columns]"
            ]
          },
          "metadata": {
            "tags": []
          },
          "execution_count": 77
        }
      ]
    },
    {
      "cell_type": "code",
      "metadata": {
        "id": "4UOGLK4zcPdr"
      },
      "source": [
        "# Create separate columns for month day and year \n",
        "df_1.Date = pd.to_datetime(df_1.Date)"
      ],
      "execution_count": null,
      "outputs": []
    },
    {
      "cell_type": "code",
      "metadata": {
        "colab": {
          "base_uri": "https://localhost:8080/",
          "height": 606
        },
        "id": "QR425E0YcSMl",
        "outputId": "6bcdf3c9-fc2a-4cc5-faae-b5cda973af1a"
      },
      "source": [
        "df_1[['month', 'year']] = df_1.Date.apply(lambda x: pd.Series(x.strftime(\"%m, %Y\").split(\",\")))\n",
        "df_1"
      ],
      "execution_count": null,
      "outputs": [
        {
          "output_type": "execute_result",
          "data": {
            "text/html": [
              "<div>\n",
              "<style scoped>\n",
              "    .dataframe tbody tr th:only-of-type {\n",
              "        vertical-align: middle;\n",
              "    }\n",
              "\n",
              "    .dataframe tbody tr th {\n",
              "        vertical-align: top;\n",
              "    }\n",
              "\n",
              "    .dataframe thead th {\n",
              "        text-align: right;\n",
              "    }\n",
              "</style>\n",
              "<table border=\"1\" class=\"dataframe\">\n",
              "  <thead>\n",
              "    <tr style=\"text-align: right;\">\n",
              "      <th></th>\n",
              "      <th>Date</th>\n",
              "      <th>DSCC Abbr.</th>\n",
              "      <th>DSCC Names</th>\n",
              "      <th>category</th>\n",
              "      <th>Avg. Daily Pop.</th>\n",
              "      <th>month</th>\n",
              "      <th>year</th>\n",
              "    </tr>\n",
              "  </thead>\n",
              "  <tbody>\n",
              "    <tr>\n",
              "      <th>0</th>\n",
              "      <td>2021-02-01</td>\n",
              "      <td>ACS</td>\n",
              "      <td>Alternative Community Services</td>\n",
              "      <td>Criminal Justice Clients under Pre-Trial Services</td>\n",
              "      <td>325</td>\n",
              "      <td>02</td>\n",
              "      <td>2021</td>\n",
              "    </tr>\n",
              "    <tr>\n",
              "      <th>1</th>\n",
              "      <td>2021-02-01</td>\n",
              "      <td>PTSU</td>\n",
              "      <td>Pre-Trial Supervision Unit</td>\n",
              "      <td>Criminal Justice Clients under Pre-Trial Services</td>\n",
              "      <td>918</td>\n",
              "      <td>02</td>\n",
              "      <td>2021</td>\n",
              "    </tr>\n",
              "    <tr>\n",
              "      <th>2</th>\n",
              "      <td>2021-02-01</td>\n",
              "      <td>MCCF</td>\n",
              "      <td>Montgomery County Correctional Facility</td>\n",
              "      <td>Inmates in DOCR Custody</td>\n",
              "      <td>485</td>\n",
              "      <td>02</td>\n",
              "      <td>2021</td>\n",
              "    </tr>\n",
              "    <tr>\n",
              "      <th>3</th>\n",
              "      <td>2021-02-01</td>\n",
              "      <td>MCDC</td>\n",
              "      <td>Montgomery County Detention Center</td>\n",
              "      <td>Inmates in DOCR Custody</td>\n",
              "      <td>50</td>\n",
              "      <td>02</td>\n",
              "      <td>2021</td>\n",
              "    </tr>\n",
              "    <tr>\n",
              "      <th>4</th>\n",
              "      <td>2021-02-01</td>\n",
              "      <td>PRRS</td>\n",
              "      <td>Pre-Release and Re-Entry Services</td>\n",
              "      <td>Inmates in DOCR Custody</td>\n",
              "      <td>0</td>\n",
              "      <td>02</td>\n",
              "      <td>2021</td>\n",
              "    </tr>\n",
              "    <tr>\n",
              "      <th>...</th>\n",
              "      <td>...</td>\n",
              "      <td>...</td>\n",
              "      <td>...</td>\n",
              "      <td>...</td>\n",
              "      <td>...</td>\n",
              "      <td>...</td>\n",
              "      <td>...</td>\n",
              "    </tr>\n",
              "    <tr>\n",
              "      <th>439</th>\n",
              "      <td>2015-01-01</td>\n",
              "      <td>IPSA</td>\n",
              "      <td>Intervention Program for Substance Abusers</td>\n",
              "      <td>Criminal Justice Clients under Pre-Trial Services</td>\n",
              "      <td>101</td>\n",
              "      <td>01</td>\n",
              "      <td>2015</td>\n",
              "    </tr>\n",
              "    <tr>\n",
              "      <th>440</th>\n",
              "      <td>2015-01-01</td>\n",
              "      <td>MCDC</td>\n",
              "      <td>Montgomery County Detention Center</td>\n",
              "      <td>Inmates in DOCR Custody</td>\n",
              "      <td>77</td>\n",
              "      <td>01</td>\n",
              "      <td>2015</td>\n",
              "    </tr>\n",
              "    <tr>\n",
              "      <th>441</th>\n",
              "      <td>2015-01-01</td>\n",
              "      <td>ACS</td>\n",
              "      <td>Alternative Community Services</td>\n",
              "      <td>Criminal Justice Clients under Pre-Trial Services</td>\n",
              "      <td>721</td>\n",
              "      <td>01</td>\n",
              "      <td>2015</td>\n",
              "    </tr>\n",
              "    <tr>\n",
              "      <th>442</th>\n",
              "      <td>2015-01-01</td>\n",
              "      <td>PRRS</td>\n",
              "      <td>Pre-Release and Re-Entry Services</td>\n",
              "      <td>Inmates in DOCR Custody</td>\n",
              "      <td>162</td>\n",
              "      <td>01</td>\n",
              "      <td>2015</td>\n",
              "    </tr>\n",
              "    <tr>\n",
              "      <th>443</th>\n",
              "      <td>2015-01-01</td>\n",
              "      <td>PTSU</td>\n",
              "      <td>Pre-Trial Supervision Unit</td>\n",
              "      <td>Criminal Justice Clients under Pre-Trial Services</td>\n",
              "      <td>718</td>\n",
              "      <td>01</td>\n",
              "      <td>2015</td>\n",
              "    </tr>\n",
              "  </tbody>\n",
              "</table>\n",
              "<p>444 rows × 7 columns</p>\n",
              "</div>"
            ],
            "text/plain": [
              "          Date DSCC Abbr.  ... month   year\n",
              "0   2021-02-01        ACS  ...    02   2021\n",
              "1   2021-02-01       PTSU  ...    02   2021\n",
              "2   2021-02-01       MCCF  ...    02   2021\n",
              "3   2021-02-01       MCDC  ...    02   2021\n",
              "4   2021-02-01       PRRS  ...    02   2021\n",
              "..         ...        ...  ...   ...    ...\n",
              "439 2015-01-01       IPSA  ...    01   2015\n",
              "440 2015-01-01       MCDC  ...    01   2015\n",
              "441 2015-01-01        ACS  ...    01   2015\n",
              "442 2015-01-01       PRRS  ...    01   2015\n",
              "443 2015-01-01       PTSU  ...    01   2015\n",
              "\n",
              "[444 rows x 7 columns]"
            ]
          },
          "metadata": {
            "tags": []
          },
          "execution_count": 79
        }
      ]
    },
    {
      "cell_type": "code",
      "metadata": {
        "id": "NVDJFqiuct8l"
      },
      "source": [
        "# drop date column\n",
        "df_1a = df_1.drop(df_1.columns[0:1], axis=1)"
      ],
      "execution_count": null,
      "outputs": []
    },
    {
      "cell_type": "code",
      "metadata": {
        "colab": {
          "base_uri": "https://localhost:8080/",
          "height": 204
        },
        "id": "--LJU76PcxI1",
        "outputId": "5e8a210a-cb83-4731-c484-c7fa0b96f38a"
      },
      "source": [
        "df_1a.head(5)"
      ],
      "execution_count": null,
      "outputs": [
        {
          "output_type": "execute_result",
          "data": {
            "text/html": [
              "<div>\n",
              "<style scoped>\n",
              "    .dataframe tbody tr th:only-of-type {\n",
              "        vertical-align: middle;\n",
              "    }\n",
              "\n",
              "    .dataframe tbody tr th {\n",
              "        vertical-align: top;\n",
              "    }\n",
              "\n",
              "    .dataframe thead th {\n",
              "        text-align: right;\n",
              "    }\n",
              "</style>\n",
              "<table border=\"1\" class=\"dataframe\">\n",
              "  <thead>\n",
              "    <tr style=\"text-align: right;\">\n",
              "      <th></th>\n",
              "      <th>DSCC Abbr.</th>\n",
              "      <th>DSCC Names</th>\n",
              "      <th>category</th>\n",
              "      <th>Avg. Daily Pop.</th>\n",
              "      <th>month</th>\n",
              "      <th>year</th>\n",
              "    </tr>\n",
              "  </thead>\n",
              "  <tbody>\n",
              "    <tr>\n",
              "      <th>0</th>\n",
              "      <td>ACS</td>\n",
              "      <td>Alternative Community Services</td>\n",
              "      <td>Criminal Justice Clients under Pre-Trial Services</td>\n",
              "      <td>325</td>\n",
              "      <td>02</td>\n",
              "      <td>2021</td>\n",
              "    </tr>\n",
              "    <tr>\n",
              "      <th>1</th>\n",
              "      <td>PTSU</td>\n",
              "      <td>Pre-Trial Supervision Unit</td>\n",
              "      <td>Criminal Justice Clients under Pre-Trial Services</td>\n",
              "      <td>918</td>\n",
              "      <td>02</td>\n",
              "      <td>2021</td>\n",
              "    </tr>\n",
              "    <tr>\n",
              "      <th>2</th>\n",
              "      <td>MCCF</td>\n",
              "      <td>Montgomery County Correctional Facility</td>\n",
              "      <td>Inmates in DOCR Custody</td>\n",
              "      <td>485</td>\n",
              "      <td>02</td>\n",
              "      <td>2021</td>\n",
              "    </tr>\n",
              "    <tr>\n",
              "      <th>3</th>\n",
              "      <td>MCDC</td>\n",
              "      <td>Montgomery County Detention Center</td>\n",
              "      <td>Inmates in DOCR Custody</td>\n",
              "      <td>50</td>\n",
              "      <td>02</td>\n",
              "      <td>2021</td>\n",
              "    </tr>\n",
              "    <tr>\n",
              "      <th>4</th>\n",
              "      <td>PRRS</td>\n",
              "      <td>Pre-Release and Re-Entry Services</td>\n",
              "      <td>Inmates in DOCR Custody</td>\n",
              "      <td>0</td>\n",
              "      <td>02</td>\n",
              "      <td>2021</td>\n",
              "    </tr>\n",
              "  </tbody>\n",
              "</table>\n",
              "</div>"
            ],
            "text/plain": [
              "  DSCC Abbr.                               DSCC Names  ... month   year\n",
              "0        ACS           Alternative Community Services  ...    02   2021\n",
              "1       PTSU               Pre-Trial Supervision Unit  ...    02   2021\n",
              "2       MCCF  Montgomery County Correctional Facility  ...    02   2021\n",
              "3       MCDC       Montgomery County Detention Center  ...    02   2021\n",
              "4       PRRS        Pre-Release and Re-Entry Services  ...    02   2021\n",
              "\n",
              "[5 rows x 6 columns]"
            ]
          },
          "metadata": {
            "tags": []
          },
          "execution_count": 81
        }
      ]
    },
    {
      "cell_type": "code",
      "metadata": {
        "colab": {
          "base_uri": "https://localhost:8080/",
          "height": 204
        },
        "id": "D7EVSYKlc1H5",
        "outputId": "8da40cbc-c393-4c68-81e7-5077287fd990"
      },
      "source": [
        "# Trying to remove index column\n",
        "df_1a.reset_index(drop=True, inplace=True)\n",
        "df_1a.head(5)"
      ],
      "execution_count": null,
      "outputs": [
        {
          "output_type": "execute_result",
          "data": {
            "text/html": [
              "<div>\n",
              "<style scoped>\n",
              "    .dataframe tbody tr th:only-of-type {\n",
              "        vertical-align: middle;\n",
              "    }\n",
              "\n",
              "    .dataframe tbody tr th {\n",
              "        vertical-align: top;\n",
              "    }\n",
              "\n",
              "    .dataframe thead th {\n",
              "        text-align: right;\n",
              "    }\n",
              "</style>\n",
              "<table border=\"1\" class=\"dataframe\">\n",
              "  <thead>\n",
              "    <tr style=\"text-align: right;\">\n",
              "      <th></th>\n",
              "      <th>DSCC Abbr.</th>\n",
              "      <th>DSCC Names</th>\n",
              "      <th>category</th>\n",
              "      <th>Avg. Daily Pop.</th>\n",
              "      <th>month</th>\n",
              "      <th>year</th>\n",
              "    </tr>\n",
              "  </thead>\n",
              "  <tbody>\n",
              "    <tr>\n",
              "      <th>0</th>\n",
              "      <td>ACS</td>\n",
              "      <td>Alternative Community Services</td>\n",
              "      <td>Criminal Justice Clients under Pre-Trial Services</td>\n",
              "      <td>325</td>\n",
              "      <td>02</td>\n",
              "      <td>2021</td>\n",
              "    </tr>\n",
              "    <tr>\n",
              "      <th>1</th>\n",
              "      <td>PTSU</td>\n",
              "      <td>Pre-Trial Supervision Unit</td>\n",
              "      <td>Criminal Justice Clients under Pre-Trial Services</td>\n",
              "      <td>918</td>\n",
              "      <td>02</td>\n",
              "      <td>2021</td>\n",
              "    </tr>\n",
              "    <tr>\n",
              "      <th>2</th>\n",
              "      <td>MCCF</td>\n",
              "      <td>Montgomery County Correctional Facility</td>\n",
              "      <td>Inmates in DOCR Custody</td>\n",
              "      <td>485</td>\n",
              "      <td>02</td>\n",
              "      <td>2021</td>\n",
              "    </tr>\n",
              "    <tr>\n",
              "      <th>3</th>\n",
              "      <td>MCDC</td>\n",
              "      <td>Montgomery County Detention Center</td>\n",
              "      <td>Inmates in DOCR Custody</td>\n",
              "      <td>50</td>\n",
              "      <td>02</td>\n",
              "      <td>2021</td>\n",
              "    </tr>\n",
              "    <tr>\n",
              "      <th>4</th>\n",
              "      <td>PRRS</td>\n",
              "      <td>Pre-Release and Re-Entry Services</td>\n",
              "      <td>Inmates in DOCR Custody</td>\n",
              "      <td>0</td>\n",
              "      <td>02</td>\n",
              "      <td>2021</td>\n",
              "    </tr>\n",
              "  </tbody>\n",
              "</table>\n",
              "</div>"
            ],
            "text/plain": [
              "  DSCC Abbr.                               DSCC Names  ... month   year\n",
              "0        ACS           Alternative Community Services  ...    02   2021\n",
              "1       PTSU               Pre-Trial Supervision Unit  ...    02   2021\n",
              "2       MCCF  Montgomery County Correctional Facility  ...    02   2021\n",
              "3       MCDC       Montgomery County Detention Center  ...    02   2021\n",
              "4       PRRS        Pre-Release and Re-Entry Services  ...    02   2021\n",
              "\n",
              "[5 rows x 6 columns]"
            ]
          },
          "metadata": {
            "tags": []
          },
          "execution_count": 82
        }
      ]
    },
    {
      "cell_type": "code",
      "metadata": {
        "colab": {
          "base_uri": "https://localhost:8080/",
          "height": 204
        },
        "id": "RymYiEnhc9c_",
        "outputId": "24c71da7-4679-42d0-f76e-81d35b10fc92"
      },
      "source": [
        "# Group by Year Sum\n",
        "df_year = df_1a.groupby(['year'], as_index=False).agg({'Avg. Daily Pop.': sum})\n",
        "df_year.head()"
      ],
      "execution_count": null,
      "outputs": [
        {
          "output_type": "execute_result",
          "data": {
            "text/html": [
              "<div>\n",
              "<style scoped>\n",
              "    .dataframe tbody tr th:only-of-type {\n",
              "        vertical-align: middle;\n",
              "    }\n",
              "\n",
              "    .dataframe tbody tr th {\n",
              "        vertical-align: top;\n",
              "    }\n",
              "\n",
              "    .dataframe thead th {\n",
              "        text-align: right;\n",
              "    }\n",
              "</style>\n",
              "<table border=\"1\" class=\"dataframe\">\n",
              "  <thead>\n",
              "    <tr style=\"text-align: right;\">\n",
              "      <th></th>\n",
              "      <th>year</th>\n",
              "      <th>Avg. Daily Pop.</th>\n",
              "    </tr>\n",
              "  </thead>\n",
              "  <tbody>\n",
              "    <tr>\n",
              "      <th>0</th>\n",
              "      <td>2015</td>\n",
              "      <td>27811</td>\n",
              "    </tr>\n",
              "    <tr>\n",
              "      <th>1</th>\n",
              "      <td>2016</td>\n",
              "      <td>30138</td>\n",
              "    </tr>\n",
              "    <tr>\n",
              "      <th>2</th>\n",
              "      <td>2017</td>\n",
              "      <td>27102</td>\n",
              "    </tr>\n",
              "    <tr>\n",
              "      <th>3</th>\n",
              "      <td>2018</td>\n",
              "      <td>27464</td>\n",
              "    </tr>\n",
              "    <tr>\n",
              "      <th>4</th>\n",
              "      <td>2019</td>\n",
              "      <td>25649</td>\n",
              "    </tr>\n",
              "  </tbody>\n",
              "</table>\n",
              "</div>"
            ],
            "text/plain": [
              "    year  Avg. Daily Pop.\n",
              "0   2015            27811\n",
              "1   2016            30138\n",
              "2   2017            27102\n",
              "3   2018            27464\n",
              "4   2019            25649"
            ]
          },
          "metadata": {
            "tags": []
          },
          "execution_count": 83
        }
      ]
    },
    {
      "cell_type": "code",
      "metadata": {
        "colab": {
          "base_uri": "https://localhost:8080/"
        },
        "id": "WGtzziQkh2yM",
        "outputId": "e79c6bc2-a83f-424b-9e99-76e32db0ea88"
      },
      "source": [
        "# Checking data types for each column\n",
        "print(df_1.dtypes)"
      ],
      "execution_count": null,
      "outputs": [
        {
          "output_type": "stream",
          "text": [
            "Date               datetime64[ns]\n",
            "DSCC Abbr.                 object\n",
            "DSCC Names                 object\n",
            "category                   object\n",
            "Avg. Daily Pop.             int64\n",
            "month                      object\n",
            "year                       object\n",
            "dtype: object\n"
          ],
          "name": "stdout"
        }
      ]
    },
    {
      "cell_type": "code",
      "metadata": {
        "colab": {
          "base_uri": "https://localhost:8080/",
          "height": 232
        },
        "id": "k3iTCfSCdAzY",
        "outputId": "0f2ceb21-f6ca-473b-d935-40a71cd6b97b"
      },
      "source": [
        "# matplotlib plot\n",
        "import matplotlib.pyplot as plt\n",
        "df_year.plot(x = 'year', grid=True)\n",
        "plt.xlabel('year')\n",
        "plt.ylabel('Avg. Daily Pop.')"
      ],
      "execution_count": null,
      "outputs": [
        {
          "output_type": "error",
          "ename": "NameError",
          "evalue": "ignored",
          "traceback": [
            "\u001b[0;31m---------------------------------------------------------------------------\u001b[0m",
            "\u001b[0;31mNameError\u001b[0m                                 Traceback (most recent call last)",
            "\u001b[0;32m<ipython-input-1-c83f6671387c>\u001b[0m in \u001b[0;36m<module>\u001b[0;34m()\u001b[0m\n\u001b[1;32m      1\u001b[0m \u001b[0;31m# matplotlib plot\u001b[0m\u001b[0;34m\u001b[0m\u001b[0;34m\u001b[0m\u001b[0;34m\u001b[0m\u001b[0m\n\u001b[1;32m      2\u001b[0m \u001b[0;32mimport\u001b[0m \u001b[0mmatplotlib\u001b[0m\u001b[0;34m.\u001b[0m\u001b[0mpyplot\u001b[0m \u001b[0;32mas\u001b[0m \u001b[0mplt\u001b[0m\u001b[0;34m\u001b[0m\u001b[0;34m\u001b[0m\u001b[0m\n\u001b[0;32m----> 3\u001b[0;31m \u001b[0mdf_year\u001b[0m\u001b[0;34m.\u001b[0m\u001b[0mplot\u001b[0m\u001b[0;34m(\u001b[0m\u001b[0mx\u001b[0m \u001b[0;34m=\u001b[0m \u001b[0;34m'year'\u001b[0m\u001b[0;34m,\u001b[0m \u001b[0mgrid\u001b[0m\u001b[0;34m=\u001b[0m\u001b[0;32mTrue\u001b[0m\u001b[0;34m)\u001b[0m\u001b[0;34m\u001b[0m\u001b[0;34m\u001b[0m\u001b[0m\n\u001b[0m\u001b[1;32m      4\u001b[0m \u001b[0mplt\u001b[0m\u001b[0;34m.\u001b[0m\u001b[0mxlabel\u001b[0m\u001b[0;34m(\u001b[0m\u001b[0;34m'year'\u001b[0m\u001b[0;34m)\u001b[0m\u001b[0;34m\u001b[0m\u001b[0;34m\u001b[0m\u001b[0m\n\u001b[1;32m      5\u001b[0m \u001b[0mplt\u001b[0m\u001b[0;34m.\u001b[0m\u001b[0mylabel\u001b[0m\u001b[0;34m(\u001b[0m\u001b[0;34m'Avg. Daily Pop.'\u001b[0m\u001b[0;34m)\u001b[0m\u001b[0;34m\u001b[0m\u001b[0;34m\u001b[0m\u001b[0m\n",
            "\u001b[0;31mNameError\u001b[0m: name 'df_year' is not defined"
          ]
        }
      ]
    },
    {
      "cell_type": "code",
      "metadata": {
        "colab": {
          "base_uri": "https://localhost:8080/",
          "height": 459
        },
        "id": "T0Jj9axedEFm",
        "outputId": "5baf4e79-342b-4ac7-c544-f42848301b83"
      },
      "source": [
        "# matplotlib barplot\n",
        "import matplotlib.pyplot as plt\n",
        "x = df_year['year']\n",
        "y = df_year['Avg. Daily Pop.']\n",
        "plt.bar(x, y)\n",
        "plt.xlabel('Year')\n",
        "plt.ylabel('Avg. Daily Pop.')\n",
        "plt.show()"
      ],
      "execution_count": null,
      "outputs": [
        {
          "output_type": "display_data",
          "data": {
            "image/png": "[encoded data removed]",
            "text/plain": [
              "<Figure size 640x480 with 1 Axes>"
            ]
          },
          "metadata": {
            "tags": []
          }
        }
      ]
    },
    {
      "cell_type": "code",
      "metadata": {
        "colab": {
          "base_uri": "https://localhost:8080/",
          "height": 669
        },
        "id": "DMOV4BtQdHxZ",
        "outputId": "086ede31-ea9a-4df6-8628-a0b4ec52de0a"
      },
      "source": [
        "# Sum of avg. daily pop by month and year\n",
        "df_monthyear = df_1a.groupby(['year', 'month'], as_index=False).agg({'Avg. Daily Pop.': sum})\n",
        "df_monthyear.head(20)"
      ],
      "execution_count": null,
      "outputs": [
        {
          "output_type": "execute_result",
          "data": {
            "text/html": [
              "<div>\n",
              "<style scoped>\n",
              "    .dataframe tbody tr th:only-of-type {\n",
              "        vertical-align: middle;\n",
              "    }\n",
              "\n",
              "    .dataframe tbody tr th {\n",
              "        vertical-align: top;\n",
              "    }\n",
              "\n",
              "    .dataframe thead th {\n",
              "        text-align: right;\n",
              "    }\n",
              "</style>\n",
              "<table border=\"1\" class=\"dataframe\">\n",
              "  <thead>\n",
              "    <tr style=\"text-align: right;\">\n",
              "      <th></th>\n",
              "      <th>year</th>\n",
              "      <th>month</th>\n",
              "      <th>Avg. Daily Pop.</th>\n",
              "    </tr>\n",
              "  </thead>\n",
              "  <tbody>\n",
              "    <tr>\n",
              "      <th>0</th>\n",
              "      <td>2015</td>\n",
              "      <td>01</td>\n",
              "      <td>2284</td>\n",
              "    </tr>\n",
              "    <tr>\n",
              "      <th>1</th>\n",
              "      <td>2015</td>\n",
              "      <td>02</td>\n",
              "      <td>2277</td>\n",
              "    </tr>\n",
              "    <tr>\n",
              "      <th>2</th>\n",
              "      <td>2015</td>\n",
              "      <td>03</td>\n",
              "      <td>2273</td>\n",
              "    </tr>\n",
              "    <tr>\n",
              "      <th>3</th>\n",
              "      <td>2015</td>\n",
              "      <td>04</td>\n",
              "      <td>2343</td>\n",
              "    </tr>\n",
              "    <tr>\n",
              "      <th>4</th>\n",
              "      <td>2015</td>\n",
              "      <td>05</td>\n",
              "      <td>2310</td>\n",
              "    </tr>\n",
              "    <tr>\n",
              "      <th>5</th>\n",
              "      <td>2015</td>\n",
              "      <td>06</td>\n",
              "      <td>2228</td>\n",
              "    </tr>\n",
              "    <tr>\n",
              "      <th>6</th>\n",
              "      <td>2015</td>\n",
              "      <td>07</td>\n",
              "      <td>2215</td>\n",
              "    </tr>\n",
              "    <tr>\n",
              "      <th>7</th>\n",
              "      <td>2015</td>\n",
              "      <td>08</td>\n",
              "      <td>2311</td>\n",
              "    </tr>\n",
              "    <tr>\n",
              "      <th>8</th>\n",
              "      <td>2015</td>\n",
              "      <td>09</td>\n",
              "      <td>2320</td>\n",
              "    </tr>\n",
              "    <tr>\n",
              "      <th>9</th>\n",
              "      <td>2015</td>\n",
              "      <td>10</td>\n",
              "      <td>2347</td>\n",
              "    </tr>\n",
              "    <tr>\n",
              "      <th>10</th>\n",
              "      <td>2015</td>\n",
              "      <td>11</td>\n",
              "      <td>2459</td>\n",
              "    </tr>\n",
              "    <tr>\n",
              "      <th>11</th>\n",
              "      <td>2015</td>\n",
              "      <td>12</td>\n",
              "      <td>2444</td>\n",
              "    </tr>\n",
              "    <tr>\n",
              "      <th>12</th>\n",
              "      <td>2016</td>\n",
              "      <td>01</td>\n",
              "      <td>2410</td>\n",
              "    </tr>\n",
              "    <tr>\n",
              "      <th>13</th>\n",
              "      <td>2016</td>\n",
              "      <td>02</td>\n",
              "      <td>2446</td>\n",
              "    </tr>\n",
              "    <tr>\n",
              "      <th>14</th>\n",
              "      <td>2016</td>\n",
              "      <td>03</td>\n",
              "      <td>2526</td>\n",
              "    </tr>\n",
              "    <tr>\n",
              "      <th>15</th>\n",
              "      <td>2016</td>\n",
              "      <td>04</td>\n",
              "      <td>2645</td>\n",
              "    </tr>\n",
              "    <tr>\n",
              "      <th>16</th>\n",
              "      <td>2016</td>\n",
              "      <td>05</td>\n",
              "      <td>2684</td>\n",
              "    </tr>\n",
              "    <tr>\n",
              "      <th>17</th>\n",
              "      <td>2016</td>\n",
              "      <td>06</td>\n",
              "      <td>2598</td>\n",
              "    </tr>\n",
              "    <tr>\n",
              "      <th>18</th>\n",
              "      <td>2016</td>\n",
              "      <td>07</td>\n",
              "      <td>2574</td>\n",
              "    </tr>\n",
              "    <tr>\n",
              "      <th>19</th>\n",
              "      <td>2016</td>\n",
              "      <td>08</td>\n",
              "      <td>2558</td>\n",
              "    </tr>\n",
              "  </tbody>\n",
              "</table>\n",
              "</div>"
            ],
            "text/plain": [
              "     year month  Avg. Daily Pop.\n",
              "0    2015    01             2284\n",
              "1    2015    02             2277\n",
              "2    2015    03             2273\n",
              "3    2015    04             2343\n",
              "4    2015    05             2310\n",
              "5    2015    06             2228\n",
              "6    2015    07             2215\n",
              "7    2015    08             2311\n",
              "8    2015    09             2320\n",
              "9    2015    10             2347\n",
              "10   2015    11             2459\n",
              "11   2015    12             2444\n",
              "12   2016    01             2410\n",
              "13   2016    02             2446\n",
              "14   2016    03             2526\n",
              "15   2016    04             2645\n",
              "16   2016    05             2684\n",
              "17   2016    06             2598\n",
              "18   2016    07             2574\n",
              "19   2016    08             2558"
            ]
          },
          "metadata": {
            "tags": []
          },
          "execution_count": 87
        }
      ]
    },
    {
      "cell_type": "code",
      "metadata": {
        "colab": {
          "base_uri": "https://localhost:8080/",
          "height": 476
        },
        "id": "E2NW4wIIdMb4",
        "outputId": "de492083-1865-4e5e-d55a-44e4613ed6d0"
      },
      "source": [
        "# matplotlib plot\n",
        "df_monthyear.plot(x = 'year', grid=True)\n",
        "plt.xlabel('year')\n",
        "plt.ylabel('Avg. Daily Pop.')"
      ],
      "execution_count": null,
      "outputs": [
        {
          "output_type": "execute_result",
          "data": {
            "text/plain": [
              "Text(0, 0.5, 'Avg. Daily Pop.')"
            ]
          },
          "metadata": {
            "tags": []
          },
          "execution_count": 88
        },
        {
          "output_type": "display_data",
          "data": {
            "image/png": "[encoded data removed]",
            "text/plain": [
              "<Figure size 640x480 with 1 Axes>"
            ]
          },
          "metadata": {
            "tags": []
          }
        }
      ]
    },
    {
      "cell_type": "code",
      "metadata": {
        "colab": {
          "base_uri": "https://localhost:8080/",
          "height": 459
        },
        "id": "O9Gsazc-dQNq",
        "outputId": "3a5ea09c-798c-4f8d-8928-b9c46b09d0b5"
      },
      "source": [
        "x = df_monthyear['month']\n",
        "y = df_monthyear['Avg. Daily Pop.']\n",
        "plt.bar(x, y)\n",
        "plt.xlabel('month')\n",
        "plt.ylabel('Avg. Daily Pop.')\n",
        "plt.show()"
      ],
      "execution_count": null,
      "outputs": [
        {
          "output_type": "display_data",
          "data": {
            "image/png": "[encoded data removed]",
            "text/plain": [
              "<Figure size 640x480 with 1 Axes>"
            ]
          },
          "metadata": {
            "tags": []
          }
        }
      ]
    },
    {
      "cell_type": "code",
      "metadata": {
        "id": "Ti1C7tx7dUVE"
      },
      "source": [
        "# trying to isolate entries by year\n",
        "# df_monthyear.groupby('year').get_group(2015)"
      ],
      "execution_count": null,
      "outputs": []
    },
    {
      "cell_type": "code",
      "metadata": {
        "colab": {
          "base_uri": "https://localhost:8080/"
        },
        "id": "L4IHG3oVpCVS",
        "outputId": "e74621fa-417e-4d23-85fa-239f07f96f80"
      },
      "source": [
        "df_monthyear.info()"
      ],
      "execution_count": null,
      "outputs": [
        {
          "output_type": "stream",
          "text": [
            "<class 'pandas.core.frame.DataFrame'>\n",
            "Int64Index: 74 entries, 0 to 73\n",
            "Data columns (total 3 columns):\n",
            " #   Column           Non-Null Count  Dtype \n",
            "---  ------           --------------  ----- \n",
            " 0   year             74 non-null     object\n",
            " 1   month            74 non-null     object\n",
            " 2   Avg. Daily Pop.  74 non-null     int64 \n",
            "dtypes: int64(1), object(2)\n",
            "memory usage: 2.3+ KB\n"
          ],
          "name": "stdout"
        }
      ]
    },
    {
      "cell_type": "code",
      "metadata": {
        "colab": {
          "base_uri": "https://localhost:8080/"
        },
        "id": "xrpr6944pXCd",
        "outputId": "bd9bac25-f5f8-41c9-b224-60cd111f9eea"
      },
      "source": [
        "# turning \"year\" column into integer instead of object\n",
        "df_monthyear['year'].astype(int)"
      ],
      "execution_count": null,
      "outputs": [
        {
          "output_type": "execute_result",
          "data": {
            "text/plain": [
              "0     2015\n",
              "1     2015\n",
              "2     2015\n",
              "3     2015\n",
              "4     2015\n",
              "      ... \n",
              "69    2020\n",
              "70    2020\n",
              "71    2020\n",
              "72    2021\n",
              "73    2021\n",
              "Name: year, Length: 74, dtype: int64"
            ]
          },
          "metadata": {
            "tags": []
          },
          "execution_count": 92
        }
      ]
    },
    {
      "cell_type": "code",
      "metadata": {
        "colab": {
          "base_uri": "https://localhost:8080/"
        },
        "id": "LLGzDD20peC-",
        "outputId": "c4bbef7c-484b-417a-f5e1-e74796414d35"
      },
      "source": [
        "# turning \"month\" column into integer instead of object\n",
        "df_monthyear['month'].astype(int)"
      ],
      "execution_count": null,
      "outputs": [
        {
          "output_type": "execute_result",
          "data": {
            "text/plain": [
              "0      1\n",
              "1      2\n",
              "2      3\n",
              "3      4\n",
              "4      5\n",
              "      ..\n",
              "69    10\n",
              "70    11\n",
              "71    12\n",
              "72     1\n",
              "73     2\n",
              "Name: month, Length: 74, dtype: int64"
            ]
          },
          "metadata": {
            "tags": []
          },
          "execution_count": 93
        }
      ]
    },
    {
      "cell_type": "code",
      "metadata": {
        "colab": {
          "base_uri": "https://localhost:8080/",
          "height": 359
        },
        "id": "UXRr0BW3dW3E",
        "outputId": "3537497a-26aa-4970-f0c7-53ea3d2019ae"
      },
      "source": [
        "# trying to get rid of the lines and select only months for 2015\n",
        "df_2015 = df_monthyear\n",
        "df_2015['year'] != 2016\n",
        "df_2015.iloc[10:20]"
      ],
      "execution_count": null,
      "outputs": [
        {
          "output_type": "execute_result",
          "data": {
            "text/html": [
              "<div>\n",
              "<style scoped>\n",
              "    .dataframe tbody tr th:only-of-type {\n",
              "        vertical-align: middle;\n",
              "    }\n",
              "\n",
              "    .dataframe tbody tr th {\n",
              "        vertical-align: top;\n",
              "    }\n",
              "\n",
              "    .dataframe thead th {\n",
              "        text-align: right;\n",
              "    }\n",
              "</style>\n",
              "<table border=\"1\" class=\"dataframe\">\n",
              "  <thead>\n",
              "    <tr style=\"text-align: right;\">\n",
              "      <th></th>\n",
              "      <th>year</th>\n",
              "      <th>month</th>\n",
              "      <th>Avg. Daily Pop.</th>\n",
              "    </tr>\n",
              "  </thead>\n",
              "  <tbody>\n",
              "    <tr>\n",
              "      <th>10</th>\n",
              "      <td>2015</td>\n",
              "      <td>11</td>\n",
              "      <td>2459</td>\n",
              "    </tr>\n",
              "    <tr>\n",
              "      <th>11</th>\n",
              "      <td>2015</td>\n",
              "      <td>12</td>\n",
              "      <td>2444</td>\n",
              "    </tr>\n",
              "    <tr>\n",
              "      <th>12</th>\n",
              "      <td>2016</td>\n",
              "      <td>01</td>\n",
              "      <td>2410</td>\n",
              "    </tr>\n",
              "    <tr>\n",
              "      <th>13</th>\n",
              "      <td>2016</td>\n",
              "      <td>02</td>\n",
              "      <td>2446</td>\n",
              "    </tr>\n",
              "    <tr>\n",
              "      <th>14</th>\n",
              "      <td>2016</td>\n",
              "      <td>03</td>\n",
              "      <td>2526</td>\n",
              "    </tr>\n",
              "    <tr>\n",
              "      <th>15</th>\n",
              "      <td>2016</td>\n",
              "      <td>04</td>\n",
              "      <td>2645</td>\n",
              "    </tr>\n",
              "    <tr>\n",
              "      <th>16</th>\n",
              "      <td>2016</td>\n",
              "      <td>05</td>\n",
              "      <td>2684</td>\n",
              "    </tr>\n",
              "    <tr>\n",
              "      <th>17</th>\n",
              "      <td>2016</td>\n",
              "      <td>06</td>\n",
              "      <td>2598</td>\n",
              "    </tr>\n",
              "    <tr>\n",
              "      <th>18</th>\n",
              "      <td>2016</td>\n",
              "      <td>07</td>\n",
              "      <td>2574</td>\n",
              "    </tr>\n",
              "    <tr>\n",
              "      <th>19</th>\n",
              "      <td>2016</td>\n",
              "      <td>08</td>\n",
              "      <td>2558</td>\n",
              "    </tr>\n",
              "  </tbody>\n",
              "</table>\n",
              "</div>"
            ],
            "text/plain": [
              "     year month  Avg. Daily Pop.\n",
              "10   2015    11             2459\n",
              "11   2015    12             2444\n",
              "12   2016    01             2410\n",
              "13   2016    02             2446\n",
              "14   2016    03             2526\n",
              "15   2016    04             2645\n",
              "16   2016    05             2684\n",
              "17   2016    06             2598\n",
              "18   2016    07             2574\n",
              "19   2016    08             2558"
            ]
          },
          "metadata": {
            "tags": []
          },
          "execution_count": 94
        }
      ]
    },
    {
      "cell_type": "code",
      "metadata": {
        "colab": {
          "base_uri": "https://localhost:8080/"
        },
        "id": "S8yRM3kVp_zO",
        "outputId": "8cce88ef-2919-45b3-b802-795a3634e504"
      },
      "source": [
        "df_2015.info()"
      ],
      "execution_count": null,
      "outputs": [
        {
          "output_type": "stream",
          "text": [
            "<class 'pandas.core.frame.DataFrame'>\n",
            "Int64Index: 74 entries, 0 to 73\n",
            "Data columns (total 3 columns):\n",
            " #   Column           Non-Null Count  Dtype \n",
            "---  ------           --------------  ----- \n",
            " 0   year             74 non-null     object\n",
            " 1   month            74 non-null     object\n",
            " 2   Avg. Daily Pop.  74 non-null     int64 \n",
            "dtypes: int64(1), object(2)\n",
            "memory usage: 2.3+ KB\n"
          ],
          "name": "stdout"
        }
      ]
    },
    {
      "cell_type": "code",
      "metadata": {
        "colab": {
          "base_uri": "https://localhost:8080/",
          "height": 459
        },
        "id": "YlTNMP5EdZ2i",
        "outputId": "e5f5aeb6-dad8-44eb-d454-17ca288f6086"
      },
      "source": [
        "# Trying to Plot only 2015\n",
        "x = df_2015['month']\n",
        "y = df_2015['Avg. Daily Pop.']\n",
        "plt.bar(x, y)\n",
        "plt.xlabel('month')\n",
        "plt.ylabel('Avg. Daily Pop.')\n",
        "plt.show()"
      ],
      "execution_count": null,
      "outputs": [
        {
          "output_type": "display_data",
          "data": {
            "image/png": "[encoded data removed]",
            "text/plain": [
              "<Figure size 640x480 with 1 Axes>"
            ]
          },
          "metadata": {
            "tags": []
          }
        }
      ]
    },
    {
      "cell_type": "code",
      "metadata": {
        "colab": {
          "base_uri": "https://localhost:8080/",
          "height": 49
        },
        "id": "pt1mdCa_ddNf",
        "outputId": "745c60b2-679b-457e-8715-89d3ad6d8a6b"
      },
      "source": [
        "# example code:  df[(df['age'] > 28) & (df['grade'] == 'A')]\n",
        "df_monthyear[(df_monthyear['year'] == '2016')]"
      ],
      "execution_count": null,
      "outputs": [
        {
          "output_type": "execute_result",
          "data": {
            "text/html": [
              "<div>\n",
              "<style scoped>\n",
              "    .dataframe tbody tr th:only-of-type {\n",
              "        vertical-align: middle;\n",
              "    }\n",
              "\n",
              "    .dataframe tbody tr th {\n",
              "        vertical-align: top;\n",
              "    }\n",
              "\n",
              "    .dataframe thead th {\n",
              "        text-align: right;\n",
              "    }\n",
              "</style>\n",
              "<table border=\"1\" class=\"dataframe\">\n",
              "  <thead>\n",
              "    <tr style=\"text-align: right;\">\n",
              "      <th></th>\n",
              "      <th>year</th>\n",
              "      <th>month</th>\n",
              "      <th>Avg. Daily Pop.</th>\n",
              "    </tr>\n",
              "  </thead>\n",
              "  <tbody>\n",
              "  </tbody>\n",
              "</table>\n",
              "</div>"
            ],
            "text/plain": [
              "Empty DataFrame\n",
              "Columns: [year, month, Avg. Daily Pop.]\n",
              "Index: []"
            ]
          },
          "metadata": {
            "tags": []
          },
          "execution_count": 97
        }
      ]
    },
    {
      "cell_type": "code",
      "metadata": {
        "colab": {
          "base_uri": "https://localhost:8080/",
          "height": 459
        },
        "id": "2YrbCk8LdiQm",
        "outputId": "d5d829de-72d8-4d91-c340-1ad463f6dfbf"
      },
      "source": [
        "x = df_monthyear['month']\n",
        "y = df_monthyear['Avg. Daily Pop.']\n",
        "plt.bar(x, y)\n",
        "plt.xlabel('month')\n",
        "plt.ylabel('Avg. Daily Pop.')\n",
        "plt.show()\n",
        "# in plot below the separate lines in each bar are for each year. Will try to add color coded stacking."
      ],
      "execution_count": null,
      "outputs": [
        {
          "output_type": "display_data",
          "data": {
            "image/png": "[encoded data removed]",
            "text/plain": [
              "<Figure size 640x480 with 1 Axes>"
            ]
          },
          "metadata": {
            "tags": []
          }
        }
      ]
    },
    {
      "cell_type": "code",
      "metadata": {
        "colab": {
          "base_uri": "https://localhost:8080/",
          "height": 1000
        },
        "id": "Sa9mkCjQdluu",
        "outputId": "2694029d-479b-4ab8-ec1f-c4598657c5fd"
      },
      "source": [
        "df_dscc = df_1.groupby('DSCC Names').apply(lambda x: x.sort_values('year'))\n",
        "df_dscc.head(20)"
      ],
      "execution_count": null,
      "outputs": [
        {
          "output_type": "execute_result",
          "data": {
            "text/html": [
              "<div>\n",
              "<style scoped>\n",
              "    .dataframe tbody tr th:only-of-type {\n",
              "        vertical-align: middle;\n",
              "    }\n",
              "\n",
              "    .dataframe tbody tr th {\n",
              "        vertical-align: top;\n",
              "    }\n",
              "\n",
              "    .dataframe thead th {\n",
              "        text-align: right;\n",
              "    }\n",
              "</style>\n",
              "<table border=\"1\" class=\"dataframe\">\n",
              "  <thead>\n",
              "    <tr style=\"text-align: right;\">\n",
              "      <th></th>\n",
              "      <th></th>\n",
              "      <th>Date</th>\n",
              "      <th>DSCC Abbr.</th>\n",
              "      <th>DSCC Names</th>\n",
              "      <th>category</th>\n",
              "      <th>Avg. Daily Pop.</th>\n",
              "      <th>month</th>\n",
              "      <th>year</th>\n",
              "    </tr>\n",
              "    <tr>\n",
              "      <th>DSCC Names</th>\n",
              "      <th></th>\n",
              "      <th></th>\n",
              "      <th></th>\n",
              "      <th></th>\n",
              "      <th></th>\n",
              "      <th></th>\n",
              "      <th></th>\n",
              "      <th></th>\n",
              "    </tr>\n",
              "  </thead>\n",
              "  <tbody>\n",
              "    <tr>\n",
              "      <th rowspan=\"20\" valign=\"top\">Alternative Community Services</th>\n",
              "      <th>441</th>\n",
              "      <td>2015-01-01</td>\n",
              "      <td>ACS</td>\n",
              "      <td>Alternative Community Services</td>\n",
              "      <td>Criminal Justice Clients under Pre-Trial Services</td>\n",
              "      <td>721</td>\n",
              "      <td>01</td>\n",
              "      <td>2015</td>\n",
              "    </tr>\n",
              "    <tr>\n",
              "      <th>376</th>\n",
              "      <td>2015-12-01</td>\n",
              "      <td>ACS</td>\n",
              "      <td>Alternative Community Services</td>\n",
              "      <td>Criminal Justice Clients under Pre-Trial Services</td>\n",
              "      <td>882</td>\n",
              "      <td>12</td>\n",
              "      <td>2015</td>\n",
              "    </tr>\n",
              "    <tr>\n",
              "      <th>382</th>\n",
              "      <td>2015-11-01</td>\n",
              "      <td>ACS</td>\n",
              "      <td>Alternative Community Services</td>\n",
              "      <td>Criminal Justice Clients under Pre-Trial Services</td>\n",
              "      <td>879</td>\n",
              "      <td>11</td>\n",
              "      <td>2015</td>\n",
              "    </tr>\n",
              "    <tr>\n",
              "      <th>384</th>\n",
              "      <td>2015-10-01</td>\n",
              "      <td>ACS</td>\n",
              "      <td>Alternative Community Services</td>\n",
              "      <td>Criminal Justice Clients under Pre-Trial Services</td>\n",
              "      <td>758</td>\n",
              "      <td>10</td>\n",
              "      <td>2015</td>\n",
              "    </tr>\n",
              "    <tr>\n",
              "      <th>390</th>\n",
              "      <td>2015-09-01</td>\n",
              "      <td>ACS</td>\n",
              "      <td>Alternative Community Services</td>\n",
              "      <td>Criminal Justice Clients under Pre-Trial Services</td>\n",
              "      <td>703</td>\n",
              "      <td>09</td>\n",
              "      <td>2015</td>\n",
              "    </tr>\n",
              "    <tr>\n",
              "      <th>400</th>\n",
              "      <td>2015-08-01</td>\n",
              "      <td>ACS</td>\n",
              "      <td>Alternative Community Services</td>\n",
              "      <td>Criminal Justice Clients under Pre-Trial Services</td>\n",
              "      <td>739</td>\n",
              "      <td>08</td>\n",
              "      <td>2015</td>\n",
              "    </tr>\n",
              "    <tr>\n",
              "      <th>434</th>\n",
              "      <td>2015-02-01</td>\n",
              "      <td>ACS</td>\n",
              "      <td>Alternative Community Services</td>\n",
              "      <td>Criminal Justice Clients under Pre-Trial Services</td>\n",
              "      <td>738</td>\n",
              "      <td>02</td>\n",
              "      <td>2015</td>\n",
              "    </tr>\n",
              "    <tr>\n",
              "      <th>413</th>\n",
              "      <td>2015-06-01</td>\n",
              "      <td>ACS</td>\n",
              "      <td>Alternative Community Services</td>\n",
              "      <td>Criminal Justice Clients under Pre-Trial Services</td>\n",
              "      <td>699</td>\n",
              "      <td>06</td>\n",
              "      <td>2015</td>\n",
              "    </tr>\n",
              "    <tr>\n",
              "      <th>419</th>\n",
              "      <td>2015-05-01</td>\n",
              "      <td>ACS</td>\n",
              "      <td>Alternative Community Services</td>\n",
              "      <td>Criminal Justice Clients under Pre-Trial Services</td>\n",
              "      <td>751</td>\n",
              "      <td>05</td>\n",
              "      <td>2015</td>\n",
              "    </tr>\n",
              "    <tr>\n",
              "      <th>420</th>\n",
              "      <td>2015-04-01</td>\n",
              "      <td>ACS</td>\n",
              "      <td>Alternative Community Services</td>\n",
              "      <td>Criminal Justice Clients under Pre-Trial Services</td>\n",
              "      <td>780</td>\n",
              "      <td>04</td>\n",
              "      <td>2015</td>\n",
              "    </tr>\n",
              "    <tr>\n",
              "      <th>429</th>\n",
              "      <td>2015-03-01</td>\n",
              "      <td>ACS</td>\n",
              "      <td>Alternative Community Services</td>\n",
              "      <td>Criminal Justice Clients under Pre-Trial Services</td>\n",
              "      <td>749</td>\n",
              "      <td>03</td>\n",
              "      <td>2015</td>\n",
              "    </tr>\n",
              "    <tr>\n",
              "      <th>405</th>\n",
              "      <td>2015-07-01</td>\n",
              "      <td>ACS</td>\n",
              "      <td>Alternative Community Services</td>\n",
              "      <td>Criminal Justice Clients under Pre-Trial Services</td>\n",
              "      <td>705</td>\n",
              "      <td>07</td>\n",
              "      <td>2015</td>\n",
              "    </tr>\n",
              "    <tr>\n",
              "      <th>300</th>\n",
              "      <td>2016-12-01</td>\n",
              "      <td>ACS</td>\n",
              "      <td>Alternative Community Services</td>\n",
              "      <td>Criminal Justice Clients under Pre-Trial Services</td>\n",
              "      <td>729</td>\n",
              "      <td>12</td>\n",
              "      <td>2016</td>\n",
              "    </tr>\n",
              "    <tr>\n",
              "      <th>316</th>\n",
              "      <td>2016-10-01</td>\n",
              "      <td>ACS</td>\n",
              "      <td>Alternative Community Services</td>\n",
              "      <td>Criminal Justice Clients under Pre-Trial Services</td>\n",
              "      <td>894</td>\n",
              "      <td>10</td>\n",
              "      <td>2016</td>\n",
              "    </tr>\n",
              "    <tr>\n",
              "      <th>320</th>\n",
              "      <td>2016-09-01</td>\n",
              "      <td>ACS</td>\n",
              "      <td>Alternative Community Services</td>\n",
              "      <td>Criminal Justice Clients under Pre-Trial Services</td>\n",
              "      <td>955</td>\n",
              "      <td>09</td>\n",
              "      <td>2016</td>\n",
              "    </tr>\n",
              "    <tr>\n",
              "      <th>331</th>\n",
              "      <td>2016-07-01</td>\n",
              "      <td>ACS</td>\n",
              "      <td>Alternative Community Services</td>\n",
              "      <td>Criminal Justice Clients under Pre-Trial Services</td>\n",
              "      <td>933</td>\n",
              "      <td>07</td>\n",
              "      <td>2016</td>\n",
              "    </tr>\n",
              "    <tr>\n",
              "      <th>311</th>\n",
              "      <td>2016-11-01</td>\n",
              "      <td>ACS</td>\n",
              "      <td>Alternative Community Services</td>\n",
              "      <td>Criminal Justice Clients under Pre-Trial Services</td>\n",
              "      <td>804</td>\n",
              "      <td>11</td>\n",
              "      <td>2016</td>\n",
              "    </tr>\n",
              "    <tr>\n",
              "      <th>344</th>\n",
              "      <td>2016-05-01</td>\n",
              "      <td>ACS</td>\n",
              "      <td>Alternative Community Services</td>\n",
              "      <td>Criminal Justice Clients under Pre-Trial Services</td>\n",
              "      <td>1025</td>\n",
              "      <td>05</td>\n",
              "      <td>2016</td>\n",
              "    </tr>\n",
              "    <tr>\n",
              "      <th>340</th>\n",
              "      <td>2016-06-01</td>\n",
              "      <td>ACS</td>\n",
              "      <td>Alternative Community Services</td>\n",
              "      <td>Criminal Justice Clients under Pre-Trial Services</td>\n",
              "      <td>945</td>\n",
              "      <td>06</td>\n",
              "      <td>2016</td>\n",
              "    </tr>\n",
              "    <tr>\n",
              "      <th>366</th>\n",
              "      <td>2016-01-01</td>\n",
              "      <td>ACS</td>\n",
              "      <td>Alternative Community Services</td>\n",
              "      <td>Criminal Justice Clients under Pre-Trial Services</td>\n",
              "      <td>814</td>\n",
              "      <td>01</td>\n",
              "      <td>2016</td>\n",
              "    </tr>\n",
              "  </tbody>\n",
              "</table>\n",
              "</div>"
            ],
            "text/plain": [
              "                                         Date DSCC Abbr.  ... month   year\n",
              "DSCC Names                                                ...             \n",
              "Alternative Community Services 441 2015-01-01        ACS  ...    01   2015\n",
              "                               376 2015-12-01        ACS  ...    12   2015\n",
              "                               382 2015-11-01        ACS  ...    11   2015\n",
              "                               384 2015-10-01        ACS  ...    10   2015\n",
              "                               390 2015-09-01        ACS  ...    09   2015\n",
              "                               400 2015-08-01        ACS  ...    08   2015\n",
              "                               434 2015-02-01        ACS  ...    02   2015\n",
              "                               413 2015-06-01        ACS  ...    06   2015\n",
              "                               419 2015-05-01        ACS  ...    05   2015\n",
              "                               420 2015-04-01        ACS  ...    04   2015\n",
              "                               429 2015-03-01        ACS  ...    03   2015\n",
              "                               405 2015-07-01        ACS  ...    07   2015\n",
              "                               300 2016-12-01        ACS  ...    12   2016\n",
              "                               316 2016-10-01        ACS  ...    10   2016\n",
              "                               320 2016-09-01        ACS  ...    09   2016\n",
              "                               331 2016-07-01        ACS  ...    07   2016\n",
              "                               311 2016-11-01        ACS  ...    11   2016\n",
              "                               344 2016-05-01        ACS  ...    05   2016\n",
              "                               340 2016-06-01        ACS  ...    06   2016\n",
              "                               366 2016-01-01        ACS  ...    01   2016\n",
              "\n",
              "[20 rows x 7 columns]"
            ]
          },
          "metadata": {
            "tags": []
          },
          "execution_count": 99
        }
      ]
    },
    {
      "cell_type": "code",
      "metadata": {
        "colab": {
          "base_uri": "https://localhost:8080/",
          "height": 459
        },
        "id": "f_DUk0U2dqM2",
        "outputId": "00141f7e-b0d3-4e8f-ab26-0dab817dca74"
      },
      "source": [
        "x = df_dscc['DSCC Abbr.']\n",
        "y = df_dscc['Avg. Daily Pop.']\n",
        "plt.bar(x, y)\n",
        "plt.xlabel('DSCC Abbreviations')\n",
        "plt.ylabel('Avg. Daily Pop.')\n",
        "plt.show()\n",
        "# not sure what lines represent, could be month/year. "
      ],
      "execution_count": null,
      "outputs": [
        {
          "output_type": "display_data",
          "data": {
            "image/png": "[encoded data removed]",
            "text/plain": [
              "<Figure size 640x480 with 1 Axes>"
            ]
          },
          "metadata": {
            "tags": []
          }
        }
      ]
    },
    {
      "cell_type": "code",
      "metadata": {
        "colab": {
          "base_uri": "https://localhost:8080/"
        },
        "id": "Eoxf5sWsfZi7",
        "outputId": "fc098868-c4ff-47b3-c463-48c0d59a1c1e"
      },
      "source": [
        "df_2020 = [(df_monthyear['year'] == 2020)]\n",
        "df_2020[:]"
      ],
      "execution_count": null,
      "outputs": [
        {
          "output_type": "execute_result",
          "data": {
            "text/plain": [
              "[0     False\n",
              " 1     False\n",
              " 2     False\n",
              " 3     False\n",
              " 4     False\n",
              "       ...  \n",
              " 69    False\n",
              " 70    False\n",
              " 71    False\n",
              " 72    False\n",
              " 73    False\n",
              " Name: year, Length: 74, dtype: bool]"
            ]
          },
          "metadata": {
            "tags": []
          },
          "execution_count": 101
        }
      ]
    },
    {
      "cell_type": "code",
      "metadata": {
        "colab": {
          "base_uri": "https://localhost:8080/",
          "height": 306
        },
        "id": "XtONDs0c6t8h",
        "outputId": "3e8f8b3f-82fb-4c7d-f8e1-fe9400c2e878"
      },
      "source": [
        "df_1.head()"
      ],
      "execution_count": null,
      "outputs": [
        {
          "output_type": "execute_result",
          "data": {
            "text/html": [
              "<div>\n",
              "<style scoped>\n",
              "    .dataframe tbody tr th:only-of-type {\n",
              "        vertical-align: middle;\n",
              "    }\n",
              "\n",
              "    .dataframe tbody tr th {\n",
              "        vertical-align: top;\n",
              "    }\n",
              "\n",
              "    .dataframe thead th {\n",
              "        text-align: right;\n",
              "    }\n",
              "</style>\n",
              "<table border=\"1\" class=\"dataframe\">\n",
              "  <thead>\n",
              "    <tr style=\"text-align: right;\">\n",
              "      <th></th>\n",
              "      <th>Date</th>\n",
              "      <th>DSCC Abbr.</th>\n",
              "      <th>DSCC Names</th>\n",
              "      <th>category</th>\n",
              "      <th>Avg. Daily Pop.</th>\n",
              "      <th>month</th>\n",
              "      <th>year</th>\n",
              "    </tr>\n",
              "  </thead>\n",
              "  <tbody>\n",
              "    <tr>\n",
              "      <th>0</th>\n",
              "      <td>2021-02-01</td>\n",
              "      <td>ACS</td>\n",
              "      <td>Alternative Community Services</td>\n",
              "      <td>Criminal Justice Clients under Pre-Trial Services</td>\n",
              "      <td>325</td>\n",
              "      <td>02</td>\n",
              "      <td>2021</td>\n",
              "    </tr>\n",
              "    <tr>\n",
              "      <th>1</th>\n",
              "      <td>2021-02-01</td>\n",
              "      <td>PTSU</td>\n",
              "      <td>Pre-Trial Supervision Unit</td>\n",
              "      <td>Criminal Justice Clients under Pre-Trial Services</td>\n",
              "      <td>918</td>\n",
              "      <td>02</td>\n",
              "      <td>2021</td>\n",
              "    </tr>\n",
              "    <tr>\n",
              "      <th>2</th>\n",
              "      <td>2021-02-01</td>\n",
              "      <td>MCCF</td>\n",
              "      <td>Montgomery County Correctional Facility</td>\n",
              "      <td>Inmates in DOCR Custody</td>\n",
              "      <td>485</td>\n",
              "      <td>02</td>\n",
              "      <td>2021</td>\n",
              "    </tr>\n",
              "    <tr>\n",
              "      <th>3</th>\n",
              "      <td>2021-02-01</td>\n",
              "      <td>MCDC</td>\n",
              "      <td>Montgomery County Detention Center</td>\n",
              "      <td>Inmates in DOCR Custody</td>\n",
              "      <td>50</td>\n",
              "      <td>02</td>\n",
              "      <td>2021</td>\n",
              "    </tr>\n",
              "    <tr>\n",
              "      <th>4</th>\n",
              "      <td>2021-02-01</td>\n",
              "      <td>PRRS</td>\n",
              "      <td>Pre-Release and Re-Entry Services</td>\n",
              "      <td>Inmates in DOCR Custody</td>\n",
              "      <td>0</td>\n",
              "      <td>02</td>\n",
              "      <td>2021</td>\n",
              "    </tr>\n",
              "  </tbody>\n",
              "</table>\n",
              "</div>"
            ],
            "text/plain": [
              "        Date DSCC Abbr.  ... month   year\n",
              "0 2021-02-01        ACS  ...    02   2021\n",
              "1 2021-02-01       PTSU  ...    02   2021\n",
              "2 2021-02-01       MCCF  ...    02   2021\n",
              "3 2021-02-01       MCDC  ...    02   2021\n",
              "4 2021-02-01       PRRS  ...    02   2021\n",
              "\n",
              "[5 rows x 7 columns]"
            ]
          },
          "metadata": {
            "tags": []
          },
          "execution_count": 112
        }
      ]
    },
    {
      "cell_type": "code",
      "metadata": {
        "colab": {
          "base_uri": "https://localhost:8080/",
          "height": 204
        },
        "id": "v1OImPpA7Hug",
        "outputId": "6c67e87f-90a8-4cb1-ec73-78b33e29a110"
      },
      "source": [
        "# Rename columns\n",
        "df_1 = df_1.rename(columns = {\"DSCC Abbr.\": \"DSCC_Abbr.\", \"DSCC Names\" : \"DSCC_Names\", \"Avg. Daily Pop.\": \"ADP\"})\n",
        "df_1.head()"
      ],
      "execution_count": null,
      "outputs": [
        {
          "output_type": "execute_result",
          "data": {
            "text/html": [
              "<div>\n",
              "<style scoped>\n",
              "    .dataframe tbody tr th:only-of-type {\n",
              "        vertical-align: middle;\n",
              "    }\n",
              "\n",
              "    .dataframe tbody tr th {\n",
              "        vertical-align: top;\n",
              "    }\n",
              "\n",
              "    .dataframe thead th {\n",
              "        text-align: right;\n",
              "    }\n",
              "</style>\n",
              "<table border=\"1\" class=\"dataframe\">\n",
              "  <thead>\n",
              "    <tr style=\"text-align: right;\">\n",
              "      <th></th>\n",
              "      <th>Date</th>\n",
              "      <th>DSCC_Abbr.</th>\n",
              "      <th>DSCC_Names</th>\n",
              "      <th>category</th>\n",
              "      <th>ADP</th>\n",
              "      <th>month</th>\n",
              "      <th>year</th>\n",
              "    </tr>\n",
              "  </thead>\n",
              "  <tbody>\n",
              "    <tr>\n",
              "      <th>0</th>\n",
              "      <td>2021-02-01</td>\n",
              "      <td>ACS</td>\n",
              "      <td>Alternative Community Services</td>\n",
              "      <td>Criminal Justice Clients under Pre-Trial Services</td>\n",
              "      <td>325</td>\n",
              "      <td>02</td>\n",
              "      <td>2021</td>\n",
              "    </tr>\n",
              "    <tr>\n",
              "      <th>1</th>\n",
              "      <td>2021-02-01</td>\n",
              "      <td>PTSU</td>\n",
              "      <td>Pre-Trial Supervision Unit</td>\n",
              "      <td>Criminal Justice Clients under Pre-Trial Services</td>\n",
              "      <td>918</td>\n",
              "      <td>02</td>\n",
              "      <td>2021</td>\n",
              "    </tr>\n",
              "    <tr>\n",
              "      <th>2</th>\n",
              "      <td>2021-02-01</td>\n",
              "      <td>MCCF</td>\n",
              "      <td>Montgomery County Correctional Facility</td>\n",
              "      <td>Inmates in DOCR Custody</td>\n",
              "      <td>485</td>\n",
              "      <td>02</td>\n",
              "      <td>2021</td>\n",
              "    </tr>\n",
              "    <tr>\n",
              "      <th>3</th>\n",
              "      <td>2021-02-01</td>\n",
              "      <td>MCDC</td>\n",
              "      <td>Montgomery County Detention Center</td>\n",
              "      <td>Inmates in DOCR Custody</td>\n",
              "      <td>50</td>\n",
              "      <td>02</td>\n",
              "      <td>2021</td>\n",
              "    </tr>\n",
              "    <tr>\n",
              "      <th>4</th>\n",
              "      <td>2021-02-01</td>\n",
              "      <td>PRRS</td>\n",
              "      <td>Pre-Release and Re-Entry Services</td>\n",
              "      <td>Inmates in DOCR Custody</td>\n",
              "      <td>0</td>\n",
              "      <td>02</td>\n",
              "      <td>2021</td>\n",
              "    </tr>\n",
              "  </tbody>\n",
              "</table>\n",
              "</div>"
            ],
            "text/plain": [
              "        Date DSCC_Abbr.  ... month   year\n",
              "0 2021-02-01        ACS  ...    02   2021\n",
              "1 2021-02-01       PTSU  ...    02   2021\n",
              "2 2021-02-01       MCCF  ...    02   2021\n",
              "3 2021-02-01       MCDC  ...    02   2021\n",
              "4 2021-02-01       PRRS  ...    02   2021\n",
              "\n",
              "[5 rows x 7 columns]"
            ]
          },
          "metadata": {
            "tags": []
          },
          "execution_count": 115
        }
      ]
    },
    {
      "cell_type": "code",
      "metadata": {
        "colab": {
          "base_uri": "https://localhost:8080/"
        },
        "id": "giWhxrza6xqa",
        "outputId": "290cb3b4-58fb-4d19-a5f8-6a4d346977e9"
      },
      "source": [
        "# examine unique categories to try to isolate pre-trial from sentenced\n",
        "df_1.category.unique()"
      ],
      "execution_count": null,
      "outputs": [
        {
          "output_type": "execute_result",
          "data": {
            "text/plain": [
              "array(['Criminal Justice Clients under Pre-Trial Services',\n",
              "       'Inmates in DOCR Custody'], dtype=object)"
            ]
          },
          "metadata": {
            "tags": []
          },
          "execution_count": 116
        }
      ]
    },
    {
      "cell_type": "code",
      "metadata": {
        "colab": {
          "base_uri": "https://localhost:8080/"
        },
        "id": "RzrE5aNE7Aio",
        "outputId": "655b7fb4-b411-467e-cdf1-6f05dc5dfbc5"
      },
      "source": [
        "# examine uinque DSCC names to try to isolate pre-trial from sentenced\n",
        "df_1.DSCC_Names.unique()"
      ],
      "execution_count": null,
      "outputs": [
        {
          "output_type": "execute_result",
          "data": {
            "text/plain": [
              "array(['Alternative Community Services', 'Pre-Trial Supervision Unit',\n",
              "       'Montgomery County Correctional Facility',\n",
              "       'Montgomery County Detention Center',\n",
              "       'Pre-Release and Re-Entry Services',\n",
              "       'Intervention Program for Substance Abusers'], dtype=object)"
            ]
          },
          "metadata": {
            "tags": []
          },
          "execution_count": 117
        }
      ]
    },
    {
      "cell_type": "code",
      "metadata": {
        "colab": {
          "base_uri": "https://localhost:8080/",
          "height": 204
        },
        "id": "ElvFHV168DvN",
        "outputId": "e7c1d57d-17dc-4cd6-efde-2bbd87d79a7c"
      },
      "source": [
        "# Drop all row entries with \"Pre-Release and Re-Entry Services\" since that is post-conviction\n",
        "df_1_pretrial = df_1[df_1.DSCC_Names != 'Pre-Release and Re-Entry Services']\n",
        "df_1_pretrial.head()"
      ],
      "execution_count": null,
      "outputs": [
        {
          "output_type": "execute_result",
          "data": {
            "text/html": [
              "<div>\n",
              "<style scoped>\n",
              "    .dataframe tbody tr th:only-of-type {\n",
              "        vertical-align: middle;\n",
              "    }\n",
              "\n",
              "    .dataframe tbody tr th {\n",
              "        vertical-align: top;\n",
              "    }\n",
              "\n",
              "    .dataframe thead th {\n",
              "        text-align: right;\n",
              "    }\n",
              "</style>\n",
              "<table border=\"1\" class=\"dataframe\">\n",
              "  <thead>\n",
              "    <tr style=\"text-align: right;\">\n",
              "      <th></th>\n",
              "      <th>Date</th>\n",
              "      <th>DSCC_Abbr.</th>\n",
              "      <th>DSCC_Names</th>\n",
              "      <th>category</th>\n",
              "      <th>ADP</th>\n",
              "      <th>month</th>\n",
              "      <th>year</th>\n",
              "    </tr>\n",
              "  </thead>\n",
              "  <tbody>\n",
              "    <tr>\n",
              "      <th>0</th>\n",
              "      <td>2021-02-01</td>\n",
              "      <td>ACS</td>\n",
              "      <td>Alternative Community Services</td>\n",
              "      <td>Criminal Justice Clients under Pre-Trial Services</td>\n",
              "      <td>325</td>\n",
              "      <td>02</td>\n",
              "      <td>2021</td>\n",
              "    </tr>\n",
              "    <tr>\n",
              "      <th>1</th>\n",
              "      <td>2021-02-01</td>\n",
              "      <td>PTSU</td>\n",
              "      <td>Pre-Trial Supervision Unit</td>\n",
              "      <td>Criminal Justice Clients under Pre-Trial Services</td>\n",
              "      <td>918</td>\n",
              "      <td>02</td>\n",
              "      <td>2021</td>\n",
              "    </tr>\n",
              "    <tr>\n",
              "      <th>2</th>\n",
              "      <td>2021-02-01</td>\n",
              "      <td>MCCF</td>\n",
              "      <td>Montgomery County Correctional Facility</td>\n",
              "      <td>Inmates in DOCR Custody</td>\n",
              "      <td>485</td>\n",
              "      <td>02</td>\n",
              "      <td>2021</td>\n",
              "    </tr>\n",
              "    <tr>\n",
              "      <th>3</th>\n",
              "      <td>2021-02-01</td>\n",
              "      <td>MCDC</td>\n",
              "      <td>Montgomery County Detention Center</td>\n",
              "      <td>Inmates in DOCR Custody</td>\n",
              "      <td>50</td>\n",
              "      <td>02</td>\n",
              "      <td>2021</td>\n",
              "    </tr>\n",
              "    <tr>\n",
              "      <th>5</th>\n",
              "      <td>2021-02-01</td>\n",
              "      <td>IPSA</td>\n",
              "      <td>Intervention Program for Substance Abusers</td>\n",
              "      <td>Criminal Justice Clients under Pre-Trial Services</td>\n",
              "      <td>68</td>\n",
              "      <td>02</td>\n",
              "      <td>2021</td>\n",
              "    </tr>\n",
              "  </tbody>\n",
              "</table>\n",
              "</div>"
            ],
            "text/plain": [
              "        Date DSCC_Abbr.  ... month   year\n",
              "0 2021-02-01        ACS  ...    02   2021\n",
              "1 2021-02-01       PTSU  ...    02   2021\n",
              "2 2021-02-01       MCCF  ...    02   2021\n",
              "3 2021-02-01       MCDC  ...    02   2021\n",
              "5 2021-02-01       IPSA  ...    02   2021\n",
              "\n",
              "[5 rows x 7 columns]"
            ]
          },
          "metadata": {
            "tags": []
          },
          "execution_count": 145
        }
      ]
    },
    {
      "cell_type": "code",
      "metadata": {
        "colab": {
          "base_uri": "https://localhost:8080/",
          "height": 204
        },
        "id": "uzDKvkVt8p5p",
        "outputId": "8746a578-6143-4d5a-c92a-a9863b23166f"
      },
      "source": [
        "df_1_inmates = df_1_pretrial[df_1_pretrial.category != 'Criminal Justice Clients under Pre-Trial Services']\n",
        "df_1_inmates.head()"
      ],
      "execution_count": null,
      "outputs": [
        {
          "output_type": "execute_result",
          "data": {
            "text/html": [
              "<div>\n",
              "<style scoped>\n",
              "    .dataframe tbody tr th:only-of-type {\n",
              "        vertical-align: middle;\n",
              "    }\n",
              "\n",
              "    .dataframe tbody tr th {\n",
              "        vertical-align: top;\n",
              "    }\n",
              "\n",
              "    .dataframe thead th {\n",
              "        text-align: right;\n",
              "    }\n",
              "</style>\n",
              "<table border=\"1\" class=\"dataframe\">\n",
              "  <thead>\n",
              "    <tr style=\"text-align: right;\">\n",
              "      <th></th>\n",
              "      <th>Date</th>\n",
              "      <th>DSCC_Abbr.</th>\n",
              "      <th>DSCC_Names</th>\n",
              "      <th>category</th>\n",
              "      <th>ADP</th>\n",
              "      <th>month</th>\n",
              "      <th>year</th>\n",
              "    </tr>\n",
              "  </thead>\n",
              "  <tbody>\n",
              "    <tr>\n",
              "      <th>2</th>\n",
              "      <td>2021-02-01</td>\n",
              "      <td>MCCF</td>\n",
              "      <td>Montgomery County Correctional Facility</td>\n",
              "      <td>Inmates in DOCR Custody</td>\n",
              "      <td>485</td>\n",
              "      <td>02</td>\n",
              "      <td>2021</td>\n",
              "    </tr>\n",
              "    <tr>\n",
              "      <th>3</th>\n",
              "      <td>2021-02-01</td>\n",
              "      <td>MCDC</td>\n",
              "      <td>Montgomery County Detention Center</td>\n",
              "      <td>Inmates in DOCR Custody</td>\n",
              "      <td>50</td>\n",
              "      <td>02</td>\n",
              "      <td>2021</td>\n",
              "    </tr>\n",
              "    <tr>\n",
              "      <th>10</th>\n",
              "      <td>2021-01-01</td>\n",
              "      <td>MCDC</td>\n",
              "      <td>Montgomery County Detention Center</td>\n",
              "      <td>Inmates in DOCR Custody</td>\n",
              "      <td>53</td>\n",
              "      <td>01</td>\n",
              "      <td>2021</td>\n",
              "    </tr>\n",
              "    <tr>\n",
              "      <th>11</th>\n",
              "      <td>2021-01-01</td>\n",
              "      <td>MCCF</td>\n",
              "      <td>Montgomery County Correctional Facility</td>\n",
              "      <td>Inmates in DOCR Custody</td>\n",
              "      <td>481</td>\n",
              "      <td>01</td>\n",
              "      <td>2021</td>\n",
              "    </tr>\n",
              "    <tr>\n",
              "      <th>13</th>\n",
              "      <td>2020-12-01</td>\n",
              "      <td>MCDC</td>\n",
              "      <td>Montgomery County Detention Center</td>\n",
              "      <td>Inmates in DOCR Custody</td>\n",
              "      <td>47</td>\n",
              "      <td>12</td>\n",
              "      <td>2020</td>\n",
              "    </tr>\n",
              "  </tbody>\n",
              "</table>\n",
              "</div>"
            ],
            "text/plain": [
              "         Date DSCC_Abbr.  ... month   year\n",
              "2  2021-02-01       MCCF  ...    02   2021\n",
              "3  2021-02-01       MCDC  ...    02   2021\n",
              "10 2021-01-01       MCDC  ...    01   2021\n",
              "11 2021-01-01       MCCF  ...    01   2021\n",
              "13 2020-12-01       MCDC  ...    12   2020\n",
              "\n",
              "[5 rows x 7 columns]"
            ]
          },
          "metadata": {
            "tags": []
          },
          "execution_count": 136
        }
      ]
    },
    {
      "cell_type": "code",
      "metadata": {
        "colab": {
          "base_uri": "https://localhost:8080/"
        },
        "id": "OMXyaxun9VUB",
        "outputId": "b42e1228-7ee4-46e7-a00e-c26ce3dfcc70"
      },
      "source": [
        "df_1_inmates.count()"
      ],
      "execution_count": null,
      "outputs": [
        {
          "output_type": "execute_result",
          "data": {
            "text/plain": [
              "Date          222\n",
              "DSCC_Abbr.    222\n",
              "DSCC_Names    222\n",
              "category      222\n",
              "ADP           222\n",
              "month         222\n",
              "year          222\n",
              "dtype: int64"
            ]
          },
          "metadata": {
            "tags": []
          },
          "execution_count": 123
        }
      ]
    },
    {
      "cell_type": "code",
      "metadata": {
        "colab": {
          "base_uri": "https://localhost:8080/",
          "height": 204
        },
        "id": "Ox63D6UD9cZB",
        "outputId": "d76f53c3-e848-4b01-f4b8-4e0b948227fc"
      },
      "source": [
        "df_1_pts = df_1[df_1.category == 'Criminal Justice Clients under Pre-Trial Services']\n",
        "df_1_pts.head()"
      ],
      "execution_count": null,
      "outputs": [
        {
          "output_type": "execute_result",
          "data": {
            "text/html": [
              "<div>\n",
              "<style scoped>\n",
              "    .dataframe tbody tr th:only-of-type {\n",
              "        vertical-align: middle;\n",
              "    }\n",
              "\n",
              "    .dataframe tbody tr th {\n",
              "        vertical-align: top;\n",
              "    }\n",
              "\n",
              "    .dataframe thead th {\n",
              "        text-align: right;\n",
              "    }\n",
              "</style>\n",
              "<table border=\"1\" class=\"dataframe\">\n",
              "  <thead>\n",
              "    <tr style=\"text-align: right;\">\n",
              "      <th></th>\n",
              "      <th>Date</th>\n",
              "      <th>DSCC_Abbr.</th>\n",
              "      <th>DSCC_Names</th>\n",
              "      <th>category</th>\n",
              "      <th>ADP</th>\n",
              "      <th>month</th>\n",
              "      <th>year</th>\n",
              "    </tr>\n",
              "  </thead>\n",
              "  <tbody>\n",
              "    <tr>\n",
              "      <th>0</th>\n",
              "      <td>2021-02-01</td>\n",
              "      <td>ACS</td>\n",
              "      <td>Alternative Community Services</td>\n",
              "      <td>Criminal Justice Clients under Pre-Trial Services</td>\n",
              "      <td>325</td>\n",
              "      <td>02</td>\n",
              "      <td>2021</td>\n",
              "    </tr>\n",
              "    <tr>\n",
              "      <th>1</th>\n",
              "      <td>2021-02-01</td>\n",
              "      <td>PTSU</td>\n",
              "      <td>Pre-Trial Supervision Unit</td>\n",
              "      <td>Criminal Justice Clients under Pre-Trial Services</td>\n",
              "      <td>918</td>\n",
              "      <td>02</td>\n",
              "      <td>2021</td>\n",
              "    </tr>\n",
              "    <tr>\n",
              "      <th>5</th>\n",
              "      <td>2021-02-01</td>\n",
              "      <td>IPSA</td>\n",
              "      <td>Intervention Program for Substance Abusers</td>\n",
              "      <td>Criminal Justice Clients under Pre-Trial Services</td>\n",
              "      <td>68</td>\n",
              "      <td>02</td>\n",
              "      <td>2021</td>\n",
              "    </tr>\n",
              "    <tr>\n",
              "      <th>6</th>\n",
              "      <td>2021-01-01</td>\n",
              "      <td>ACS</td>\n",
              "      <td>Alternative Community Services</td>\n",
              "      <td>Criminal Justice Clients under Pre-Trial Services</td>\n",
              "      <td>335</td>\n",
              "      <td>01</td>\n",
              "      <td>2021</td>\n",
              "    </tr>\n",
              "    <tr>\n",
              "      <th>7</th>\n",
              "      <td>2021-01-01</td>\n",
              "      <td>PTSU</td>\n",
              "      <td>Pre-Trial Supervision Unit</td>\n",
              "      <td>Criminal Justice Clients under Pre-Trial Services</td>\n",
              "      <td>909</td>\n",
              "      <td>01</td>\n",
              "      <td>2021</td>\n",
              "    </tr>\n",
              "  </tbody>\n",
              "</table>\n",
              "</div>"
            ],
            "text/plain": [
              "        Date DSCC_Abbr.  ... month   year\n",
              "0 2021-02-01        ACS  ...    02   2021\n",
              "1 2021-02-01       PTSU  ...    02   2021\n",
              "5 2021-02-01       IPSA  ...    02   2021\n",
              "6 2021-01-01        ACS  ...    01   2021\n",
              "7 2021-01-01       PTSU  ...    01   2021\n",
              "\n",
              "[5 rows x 7 columns]"
            ]
          },
          "metadata": {
            "tags": []
          },
          "execution_count": 124
        }
      ]
    },
    {
      "cell_type": "code",
      "metadata": {
        "colab": {
          "base_uri": "https://localhost:8080/"
        },
        "id": "4ExrXxkS92iV",
        "outputId": "8d8eaaf6-0cfa-4e27-aaa9-4a4b0872ab95"
      },
      "source": [
        "df_1_pts.value_counts()"
      ],
      "execution_count": null,
      "outputs": [
        {
          "output_type": "execute_result",
          "data": {
            "text/plain": [
              "Date        DSCC_Abbr.  DSCC_Names                                  category                                           ADP  month  year \n",
              "2021-02-01  PTSU        Pre-Trial Supervision Unit                  Criminal Justice Clients under Pre-Trial Services  918  02      2021    1\n",
              "2016-12-01  ACS         Alternative Community Services              Criminal Justice Clients under Pre-Trial Services  729  12      2016    1\n",
              "2017-03-01  PTSU        Pre-Trial Supervision Unit                  Criminal Justice Clients under Pre-Trial Services  721  03      2017    1\n",
              "            IPSA        Intervention Program for Substance Abusers  Criminal Justice Clients under Pre-Trial Services  151  03      2017    1\n",
              "            ACS         Alternative Community Services              Criminal Justice Clients under Pre-Trial Services  703  03      2017    1\n",
              "                                                                                                                                           ..\n",
              "2019-01-01  ACS         Alternative Community Services              Criminal Justice Clients under Pre-Trial Services  564  01      2019    1\n",
              "2018-12-01  PTSU        Pre-Trial Supervision Unit                  Criminal Justice Clients under Pre-Trial Services  757  12      2018    1\n",
              "            IPSA        Intervention Program for Substance Abusers  Criminal Justice Clients under Pre-Trial Services  133  12      2018    1\n",
              "            ACS         Alternative Community Services              Criminal Justice Clients under Pre-Trial Services  587  12      2018    1\n",
              "2015-01-01  ACS         Alternative Community Services              Criminal Justice Clients under Pre-Trial Services  721  01      2015    1\n",
              "Length: 222, dtype: int64"
            ]
          },
          "metadata": {
            "tags": []
          },
          "execution_count": 137
        }
      ]
    },
    {
      "cell_type": "code",
      "metadata": {
        "colab": {
          "base_uri": "https://localhost:8080/"
        },
        "id": "UUYKzc17-VU-",
        "outputId": "7274ecb4-5638-44c0-b390-7a19fb13f5a7"
      },
      "source": [
        "df_1_pretrial.groupby(\"category\")[\"ADP\"].mean()"
      ],
      "execution_count": null,
      "outputs": [
        {
          "output_type": "execute_result",
          "data": {
            "text/plain": [
              "category\n",
              "Criminal Justice Clients under Pre-Trial Services    508.013514\n",
              "Inmates in DOCR Custody                              308.358108\n",
              "Name: ADP, dtype: float64"
            ]
          },
          "metadata": {
            "tags": []
          },
          "execution_count": 142
        }
      ]
    },
    {
      "cell_type": "code",
      "metadata": {
        "colab": {
          "base_uri": "https://localhost:8080/"
        },
        "id": "j4ub-X8J__YQ",
        "outputId": "0aebab7f-7b09-4b7f-8848-3053e55cf32e"
      },
      "source": [
        "df_1.groupby(\"category\")[\"ADP\"].mean()"
      ],
      "execution_count": null,
      "outputs": [
        {
          "output_type": "execute_result",
          "data": {
            "text/plain": [
              "category\n",
              "Criminal Justice Clients under Pre-Trial Services    508.013514\n",
              "Inmates in DOCR Custody                              240.644144\n",
              "Name: ADP, dtype: float64"
            ]
          },
          "metadata": {
            "tags": []
          },
          "execution_count": 143
        }
      ]
    },
    {
      "cell_type": "code",
      "metadata": {
        "colab": {
          "base_uri": "https://localhost:8080/"
        },
        "id": "AA4T6jgp-upq",
        "outputId": "1380b389-d16b-4630-dd4b-c43ffcb33bb8"
      },
      "source": [
        "df_1.groupby(\"category\")[\"ADP\"].sum()"
      ],
      "execution_count": null,
      "outputs": [
        {
          "output_type": "execute_result",
          "data": {
            "text/plain": [
              "category\n",
              "Criminal Justice Clients under Pre-Trial Services    112779\n",
              "Inmates in DOCR Custody                               53423\n",
              "Name: ADP, dtype: int64"
            ]
          },
          "metadata": {
            "tags": []
          },
          "execution_count": 129
        }
      ]
    },
    {
      "cell_type": "code",
      "metadata": {
        "colab": {
          "base_uri": "https://localhost:8080/"
        },
        "id": "Tv1ONkTmAO7u",
        "outputId": "c4a441bd-16d5-46af-811c-a5e63d682f91"
      },
      "source": [
        "df_1_pretrial.groupby(\"category\")[\"ADP\"].sum()"
      ],
      "execution_count": null,
      "outputs": [
        {
          "output_type": "execute_result",
          "data": {
            "text/plain": [
              "category\n",
              "Criminal Justice Clients under Pre-Trial Services    112779\n",
              "Inmates in DOCR Custody                               45637\n",
              "Name: ADP, dtype: int64"
            ]
          },
          "metadata": {
            "tags": []
          },
          "execution_count": 144
        }
      ]
    },
    {
      "cell_type": "code",
      "metadata": {
        "colab": {
          "base_uri": "https://localhost:8080/",
          "height": 492
        },
        "id": "WvSc1mpmABm8",
        "outputId": "39349a34-0034-404b-b4a3-9fe1ef1181a3"
      },
      "source": [
        "#PLOT 1 Average Daily Population \n",
        "import numpy as np\n",
        "import pandas as pd\n",
        "from pandas import Series, DataFrame\n",
        "import matplotlib.pyplot as plt\n",
        "\n",
        "plt.figure(figsize=(9,6)) \n",
        "plt.bar(x=df_1_pretrial['year'], \n",
        "        height=df_1_pretrial['ADP'], \n",
        "        color='blue') \n",
        "plt.xticks(rotation=45)\n",
        "plt.title('ADP by Year')"
      ],
      "execution_count": null,
      "outputs": [
        {
          "output_type": "execute_result",
          "data": {
            "text/plain": [
              "Text(0.5, 1.0, 'ADP by Year')"
            ]
          },
          "metadata": {
            "tags": []
          },
          "execution_count": 149
        },
        {
          "output_type": "display_data",
          "data": {
            "image/png": "[encoded data removed]",
            "text/plain": [
              "<Figure size 720x480 with 1 Axes>"
            ]
          },
          "metadata": {
            "tags": []
          }
        }
      ]
    },
    {
      "cell_type": "code",
      "metadata": {
        "colab": {
          "base_uri": "https://localhost:8080/",
          "height": 514
        },
        "id": "2wsHMbAJDRax",
        "outputId": "6a35ed5d-d2a0-4617-a337-a84279c68754"
      },
      "source": [
        "# Plot Comparing Pretrial services versus detention\n",
        "import numpy as np\n",
        "import pandas as pd\n",
        "from matplotlib import pyplot as plt\n",
        "import seaborn as sns\n",
        "sns.set()\n",
        "\n",
        "ax = df_1_pretrial.groupby(['year', 'category'])['ADP'].mean().unstack().plot.bar(colormap='PRGn', alpha = 0.7)\n",
        "ax.set_facecolor('white')\n",
        "plt.grid(True, linewidth=0.5, color='grey', linestyle='-')\n",
        "ax.legend(bbox_to_anchor = [1, 1])\n",
        "plt.title(\"Pre-Trial Status by Year\")\n",
        "plt.xlabel(\"Year\")\n",
        "plt.ylabel(\"Average Daily Population\")\n"
      ],
      "execution_count": null,
      "outputs": [
        {
          "output_type": "execute_result",
          "data": {
            "text/plain": [
              "Text(0, 0.5, 'Average Daily Population')"
            ]
          },
          "metadata": {
            "tags": []
          },
          "execution_count": 201
        },
        {
          "output_type": "display_data",
          "data": {
            "image/png": "[encoded data removed]",
            "text/plain": [
              "<Figure size 640x480 with 1 Axes>"
            ]
          },
          "metadata": {
            "tags": []
          }
        }
      ]
    },
    {
      "cell_type": "code",
      "metadata": {
        "colab": {
          "base_uri": "https://localhost:8080/",
          "height": 514
        },
        "id": "c4-47oOpinAg",
        "outputId": "b386b0df-7b3c-46e9-97e6-5232caad611a"
      },
      "source": [
        "sns.set_style(\"whitegrid\")\n",
        "\n",
        "ax = df_1_pretrial.groupby(['year', 'category'])['ADP'].mean().unstack().plot.bar(colormap='PRGn', alpha = 0.5)\n",
        "ax.legend(bbox_to_anchor = [1, 1])\n",
        "plt.title(\"Pre-Trial Status by Year\")\n",
        "plt.xlabel(\"Year\")\n",
        "plt.ylabel(\"Average Daily Population\")"
      ],
      "execution_count": null,
      "outputs": [
        {
          "output_type": "execute_result",
          "data": {
            "text/plain": [
              "Text(0, 0.5, 'Average Daily Population')"
            ]
          },
          "metadata": {
            "tags": []
          },
          "execution_count": 199
        },
        {
          "output_type": "display_data",
          "data": {
            "image/png": "[encoded data removed]",
            "text/plain": [
              "<Figure size 640x480 with 1 Axes>"
            ]
          },
          "metadata": {
            "tags": []
          }
        }
      ]
    },
    {
      "cell_type": "code",
      "metadata": {
        "colab": {
          "base_uri": "https://localhost:8080/",
          "height": 204
        },
        "id": "NVEvW6U5gKLQ",
        "outputId": "8efee7ba-052c-448d-d77b-59680a091b65"
      },
      "source": [
        "df_1.head()"
      ],
      "execution_count": null,
      "outputs": [
        {
          "output_type": "execute_result",
          "data": {
            "text/html": [
              "<div>\n",
              "<style scoped>\n",
              "    .dataframe tbody tr th:only-of-type {\n",
              "        vertical-align: middle;\n",
              "    }\n",
              "\n",
              "    .dataframe tbody tr th {\n",
              "        vertical-align: top;\n",
              "    }\n",
              "\n",
              "    .dataframe thead th {\n",
              "        text-align: right;\n",
              "    }\n",
              "</style>\n",
              "<table border=\"1\" class=\"dataframe\">\n",
              "  <thead>\n",
              "    <tr style=\"text-align: right;\">\n",
              "      <th></th>\n",
              "      <th>Date</th>\n",
              "      <th>DSCC_Abbr.</th>\n",
              "      <th>DSCC_Names</th>\n",
              "      <th>category</th>\n",
              "      <th>ADP</th>\n",
              "      <th>month</th>\n",
              "      <th>year</th>\n",
              "    </tr>\n",
              "  </thead>\n",
              "  <tbody>\n",
              "    <tr>\n",
              "      <th>0</th>\n",
              "      <td>2021-02-01</td>\n",
              "      <td>ACS</td>\n",
              "      <td>Alternative Community Services</td>\n",
              "      <td>Criminal Justice Clients under Pre-Trial Services</td>\n",
              "      <td>325</td>\n",
              "      <td>02</td>\n",
              "      <td>2021</td>\n",
              "    </tr>\n",
              "    <tr>\n",
              "      <th>1</th>\n",
              "      <td>2021-02-01</td>\n",
              "      <td>PTSU</td>\n",
              "      <td>Pre-Trial Supervision Unit</td>\n",
              "      <td>Criminal Justice Clients under Pre-Trial Services</td>\n",
              "      <td>918</td>\n",
              "      <td>02</td>\n",
              "      <td>2021</td>\n",
              "    </tr>\n",
              "    <tr>\n",
              "      <th>2</th>\n",
              "      <td>2021-02-01</td>\n",
              "      <td>MCCF</td>\n",
              "      <td>Montgomery County Correctional Facility</td>\n",
              "      <td>Inmates in DOCR Custody</td>\n",
              "      <td>485</td>\n",
              "      <td>02</td>\n",
              "      <td>2021</td>\n",
              "    </tr>\n",
              "    <tr>\n",
              "      <th>3</th>\n",
              "      <td>2021-02-01</td>\n",
              "      <td>MCDC</td>\n",
              "      <td>Montgomery County Detention Center</td>\n",
              "      <td>Inmates in DOCR Custody</td>\n",
              "      <td>50</td>\n",
              "      <td>02</td>\n",
              "      <td>2021</td>\n",
              "    </tr>\n",
              "    <tr>\n",
              "      <th>4</th>\n",
              "      <td>2021-02-01</td>\n",
              "      <td>PRRS</td>\n",
              "      <td>Pre-Release and Re-Entry Services</td>\n",
              "      <td>Inmates in DOCR Custody</td>\n",
              "      <td>0</td>\n",
              "      <td>02</td>\n",
              "      <td>2021</td>\n",
              "    </tr>\n",
              "  </tbody>\n",
              "</table>\n",
              "</div>"
            ],
            "text/plain": [
              "        Date DSCC_Abbr.  ... month   year\n",
              "0 2021-02-01        ACS  ...    02   2021\n",
              "1 2021-02-01       PTSU  ...    02   2021\n",
              "2 2021-02-01       MCCF  ...    02   2021\n",
              "3 2021-02-01       MCDC  ...    02   2021\n",
              "4 2021-02-01       PRRS  ...    02   2021\n",
              "\n",
              "[5 rows x 7 columns]"
            ]
          },
          "metadata": {
            "tags": []
          },
          "execution_count": 188
        }
      ]
    },
    {
      "cell_type": "code",
      "metadata": {
        "colab": {
          "base_uri": "https://localhost:8080/",
          "height": 514
        },
        "id": "iAbtH4ZhH24n",
        "outputId": "c1d04e65-0858-4ef0-e9bd-be2472d57d4e"
      },
      "source": [
        "ax = df_1_pretrial.groupby(['year', 'category'])['ADP'].mean().unstack().plot.bar(colormap='PRGn', alpha = 0.5)\n",
        "ax.set_facecolor('white')\n",
        "ax.legend(bbox_to_anchor = [1, 1])\n",
        "\n",
        "plt.title('Inmates Released versus Pre-Trial Services')\n",
        "plt.xlabel('Year')\n",
        "plt.ylabel('Total')"
      ],
      "execution_count": null,
      "outputs": [
        {
          "output_type": "execute_result",
          "data": {
            "text/plain": [
              "Text(0, 0.5, 'Total')"
            ]
          },
          "metadata": {
            "tags": []
          },
          "execution_count": 232
        },
        {
          "output_type": "display_data",
          "data": {
            "image/png": "[encoded data removed]",
            "text/plain": [
              "<Figure size 640x480 with 1 Axes>"
            ]
          },
          "metadata": {
            "tags": []
          }
        }
      ]
    },
    {
      "cell_type": "code",
      "metadata": {
        "id": "4yQC-6SsjXFb"
      },
      "source": [
        "df_categoryyear = pd.DataFrame(df_1_pretrial.groupby(['year', 'category'])['ADP'].mean())\n",
        "df_catyearplot = pd.DataFrame(round(df_categoryyear.ADP, 1))"
      ],
      "execution_count": null,
      "outputs": []
    },
    {
      "cell_type": "code",
      "metadata": {
        "colab": {
          "base_uri": "https://localhost:8080/",
          "height": 514
        },
        "id": "2UESy4OQjr4x",
        "outputId": "3a562f19-0b33-4b40-b95c-fcd8bb90809f"
      },
      "source": [
        "df_catyearplot"
      ],
      "execution_count": null,
      "outputs": [
        {
          "output_type": "execute_result",
          "data": {
            "text/html": [
              "<div>\n",
              "<style scoped>\n",
              "    .dataframe tbody tr th:only-of-type {\n",
              "        vertical-align: middle;\n",
              "    }\n",
              "\n",
              "    .dataframe tbody tr th {\n",
              "        vertical-align: top;\n",
              "    }\n",
              "\n",
              "    .dataframe thead th {\n",
              "        text-align: right;\n",
              "    }\n",
              "</style>\n",
              "<table border=\"1\" class=\"dataframe\">\n",
              "  <thead>\n",
              "    <tr style=\"text-align: right;\">\n",
              "      <th></th>\n",
              "      <th></th>\n",
              "      <th>ADP</th>\n",
              "    </tr>\n",
              "    <tr>\n",
              "      <th>year</th>\n",
              "      <th>category</th>\n",
              "      <th></th>\n",
              "    </tr>\n",
              "  </thead>\n",
              "  <tbody>\n",
              "    <tr>\n",
              "      <th rowspan=\"2\" valign=\"top\">2015</th>\n",
              "      <th>Criminal Justice Clients under Pre-Trial Services</th>\n",
              "      <td>518.9</td>\n",
              "    </tr>\n",
              "    <tr>\n",
              "      <th>Inmates in DOCR Custody</th>\n",
              "      <td>303.9</td>\n",
              "    </tr>\n",
              "    <tr>\n",
              "      <th rowspan=\"2\" valign=\"top\">2016</th>\n",
              "      <th>Criminal Justice Clients under Pre-Trial Services</th>\n",
              "      <td>583.3</td>\n",
              "    </tr>\n",
              "    <tr>\n",
              "      <th>Inmates in DOCR Custody</th>\n",
              "      <td>318.0</td>\n",
              "    </tr>\n",
              "    <tr>\n",
              "      <th rowspan=\"2\" valign=\"top\">2017</th>\n",
              "      <th>Criminal Justice Clients under Pre-Trial Services</th>\n",
              "      <td>506.9</td>\n",
              "    </tr>\n",
              "    <tr>\n",
              "      <th>Inmates in DOCR Custody</th>\n",
              "      <td>309.7</td>\n",
              "    </tr>\n",
              "    <tr>\n",
              "      <th rowspan=\"2\" valign=\"top\">2018</th>\n",
              "      <th>Criminal Justice Clients under Pre-Trial Services</th>\n",
              "      <td>505.4</td>\n",
              "    </tr>\n",
              "    <tr>\n",
              "      <th>Inmates in DOCR Custody</th>\n",
              "      <td>329.4</td>\n",
              "    </tr>\n",
              "    <tr>\n",
              "      <th rowspan=\"2\" valign=\"top\">2019</th>\n",
              "      <th>Criminal Justice Clients under Pre-Trial Services</th>\n",
              "      <td>470.3</td>\n",
              "    </tr>\n",
              "    <tr>\n",
              "      <th>Inmates in DOCR Custody</th>\n",
              "      <td>312.0</td>\n",
              "    </tr>\n",
              "    <tr>\n",
              "      <th rowspan=\"2\" valign=\"top\">2020</th>\n",
              "      <th>Criminal Justice Clients under Pre-Trial Services</th>\n",
              "      <td>475.0</td>\n",
              "    </tr>\n",
              "    <tr>\n",
              "      <th>Inmates in DOCR Custody</th>\n",
              "      <td>284.0</td>\n",
              "    </tr>\n",
              "    <tr>\n",
              "      <th rowspan=\"2\" valign=\"top\">2021</th>\n",
              "      <th>Criminal Justice Clients under Pre-Trial Services</th>\n",
              "      <td>437.3</td>\n",
              "    </tr>\n",
              "    <tr>\n",
              "      <th>Inmates in DOCR Custody</th>\n",
              "      <td>267.2</td>\n",
              "    </tr>\n",
              "  </tbody>\n",
              "</table>\n",
              "</div>"
            ],
            "text/plain": [
              "                                                           ADP\n",
              "year  category                                                \n",
              " 2015 Criminal Justice Clients under Pre-Trial Services  518.9\n",
              "      Inmates in DOCR Custody                            303.9\n",
              " 2016 Criminal Justice Clients under Pre-Trial Services  583.3\n",
              "      Inmates in DOCR Custody                            318.0\n",
              " 2017 Criminal Justice Clients under Pre-Trial Services  506.9\n",
              "      Inmates in DOCR Custody                            309.7\n",
              " 2018 Criminal Justice Clients under Pre-Trial Services  505.4\n",
              "      Inmates in DOCR Custody                            329.4\n",
              " 2019 Criminal Justice Clients under Pre-Trial Services  470.3\n",
              "      Inmates in DOCR Custody                            312.0\n",
              " 2020 Criminal Justice Clients under Pre-Trial Services  475.0\n",
              "      Inmates in DOCR Custody                            284.0\n",
              " 2021 Criminal Justice Clients under Pre-Trial Services  437.3\n",
              "      Inmates in DOCR Custody                            267.2"
            ]
          },
          "metadata": {
            "tags": []
          },
          "execution_count": 229
        }
      ]
    }
  ]
}