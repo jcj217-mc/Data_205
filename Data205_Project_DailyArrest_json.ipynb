{
  "nbformat": 4,
  "nbformat_minor": 0,
  "metadata": {
    "colab": {
      "name": "Data205_Project_DailyArrest_json.ipynb",
      "provenance": [],
      "authorship_tag": "ABX9TyP8uWzbJYTjjMm/S8zm7sS+",
      "include_colab_link": true
    },
    "kernelspec": {
      "name": "python3",
      "display_name": "Python 3"
    },
    "language_info": {
      "name": "python"
    }
  },
  "cells": [
    {
      "cell_type": "markdown",
      "metadata": {
        "id": "view-in-github",
        "colab_type": "text"
      },
      "source": [
        "<a href=\"https://colab.research.google.com/github/jcj217-mc/Data_205/blob/main/Data205_Project_DailyArrest_json.ipynb\" target=\"_parent\"><img src=\"https://colab.research.google.com/assets/colab-badge.svg\" alt=\"Open In Colab\"/></a>"
      ]
    },
    {
      "cell_type": "code",
      "metadata": {
        "id": "wSa95FUa40vi"
      },
      "source": [
        "# import packages\n",
        "import pandas as pd\n",
        "import numpy as np\n",
        "import os \n",
        "import json"
      ],
      "execution_count": 45,
      "outputs": []
    },
    {
      "cell_type": "code",
      "metadata": {
        "id": "gJwotood5BeV"
      },
      "source": [
        "# tab-separated data into pandas data frame.\n",
        "df = pd.read_json('https://data.montgomerycountymd.gov/resource/daily-arrests.json')\n",
        "# this is the revised arrest dataset which does not have tiered crime types - will use previously downloaded csv"
      ],
      "execution_count": 46,
      "outputs": []
    },
    {
      "cell_type": "code",
      "metadata": {
        "colab": {
          "base_uri": "https://localhost:8080/",
          "height": 289
        },
        "id": "4SWWy7MK5dYU",
        "outputId": "6a28d0a8-2734-424e-a5aa-3cabba87ecc1"
      },
      "source": [
        "df.head()"
      ],
      "execution_count": 47,
      "outputs": [
        {
          "output_type": "execute_result",
          "data": {
            "text/html": [
              "<div>\n",
              "<style scoped>\n",
              "    .dataframe tbody tr th:only-of-type {\n",
              "        vertical-align: middle;\n",
              "    }\n",
              "\n",
              "    .dataframe tbody tr th {\n",
              "        vertical-align: top;\n",
              "    }\n",
              "\n",
              "    .dataframe thead th {\n",
              "        text-align: right;\n",
              "    }\n",
              "</style>\n",
              "<table border=\"1\" class=\"dataframe\">\n",
              "  <thead>\n",
              "    <tr style=\"text-align: right;\">\n",
              "      <th></th>\n",
              "      <th>last_name</th>\n",
              "      <th>first_name</th>\n",
              "      <th>middle_name</th>\n",
              "      <th>age</th>\n",
              "      <th>street</th>\n",
              "      <th>city</th>\n",
              "      <th>state</th>\n",
              "      <th>arrest_date</th>\n",
              "      <th>offense</th>\n",
              "    </tr>\n",
              "  </thead>\n",
              "  <tbody>\n",
              "    <tr>\n",
              "      <th>0</th>\n",
              "      <td>HUGHES</td>\n",
              "      <td>CARLTON</td>\n",
              "      <td>CORNELL</td>\n",
              "      <td>56</td>\n",
              "      <td>600 Block Of THAYER AVENUE</td>\n",
              "      <td>SILVER SPRING</td>\n",
              "      <td>MD</td>\n",
              "      <td>2021-03-22T08:15:00.000</td>\n",
              "      <td>ATT-THEFT LESS THAN $100.00</td>\n",
              "    </tr>\n",
              "    <tr>\n",
              "      <th>1</th>\n",
              "      <td>BRYANT</td>\n",
              "      <td>WALTER</td>\n",
              "      <td>NaN</td>\n",
              "      <td>55</td>\n",
              "      <td>4000 Block Of 25TH AVE</td>\n",
              "      <td>Temple Hills</td>\n",
              "      <td>MD</td>\n",
              "      <td>2021-03-22T03:11:00.000</td>\n",
              "      <td>THEFT: $1,500 TO UNDER $25,000</td>\n",
              "    </tr>\n",
              "    <tr>\n",
              "      <th>2</th>\n",
              "      <td>LOPEZ SAC</td>\n",
              "      <td>ELMER</td>\n",
              "      <td>ELICEO</td>\n",
              "      <td>26</td>\n",
              "      <td>0 Block Of Seck Ct</td>\n",
              "      <td>TAKOMA PARK</td>\n",
              "      <td>MD</td>\n",
              "      <td>2021-03-21T23:15:00.000</td>\n",
              "      <td>ASSAULT-SECOND DEGREE</td>\n",
              "    </tr>\n",
              "    <tr>\n",
              "      <th>3</th>\n",
              "      <td>HERNANDEZ MAJANO</td>\n",
              "      <td>SANTOS</td>\n",
              "      <td>ANIBAL</td>\n",
              "      <td>45</td>\n",
              "      <td>12400 Block Of Feldon St</td>\n",
              "      <td>SILVER SPRING</td>\n",
              "      <td>MD</td>\n",
              "      <td>2021-03-21T22:10:00.000</td>\n",
              "      <td>VIOLATE PROTECTIVE ORDER</td>\n",
              "    </tr>\n",
              "    <tr>\n",
              "      <th>4</th>\n",
              "      <td>NORMAN</td>\n",
              "      <td>BRIAN</td>\n",
              "      <td>ODANA</td>\n",
              "      <td>30</td>\n",
              "      <td>8300 Block Of Navahoe Dr</td>\n",
              "      <td>SILVER SPRING</td>\n",
              "      <td>MD</td>\n",
              "      <td>2021-03-21T21:30:00.000</td>\n",
              "      <td>ASSAULT-SECOND DEGREE</td>\n",
              "    </tr>\n",
              "  </tbody>\n",
              "</table>\n",
              "</div>"
            ],
            "text/plain": [
              "          last_name  ...                         offense\n",
              "0            HUGHES  ...     ATT-THEFT LESS THAN $100.00\n",
              "1            BRYANT  ...  THEFT: $1,500 TO UNDER $25,000\n",
              "2         LOPEZ SAC  ...           ASSAULT-SECOND DEGREE\n",
              "3  HERNANDEZ MAJANO  ...        VIOLATE PROTECTIVE ORDER\n",
              "4            NORMAN  ...           ASSAULT-SECOND DEGREE\n",
              "\n",
              "[5 rows x 9 columns]"
            ]
          },
          "metadata": {
            "tags": []
          },
          "execution_count": 47
        }
      ]
    },
    {
      "cell_type": "code",
      "metadata": {
        "id": "55m_IVAq5v5i"
      },
      "source": [
        "del df['street']\n"
      ],
      "execution_count": 48,
      "outputs": []
    },
    {
      "cell_type": "code",
      "metadata": {
        "colab": {
          "base_uri": "https://localhost:8080/",
          "height": 80
        },
        "id": "iAjmMikn6JTG",
        "outputId": "2735fb28-bbad-4129-ba03-8bd604af2af7"
      },
      "source": [
        "df.head(1)"
      ],
      "execution_count": 49,
      "outputs": [
        {
          "output_type": "execute_result",
          "data": {
            "text/html": [
              "<div>\n",
              "<style scoped>\n",
              "    .dataframe tbody tr th:only-of-type {\n",
              "        vertical-align: middle;\n",
              "    }\n",
              "\n",
              "    .dataframe tbody tr th {\n",
              "        vertical-align: top;\n",
              "    }\n",
              "\n",
              "    .dataframe thead th {\n",
              "        text-align: right;\n",
              "    }\n",
              "</style>\n",
              "<table border=\"1\" class=\"dataframe\">\n",
              "  <thead>\n",
              "    <tr style=\"text-align: right;\">\n",
              "      <th></th>\n",
              "      <th>last_name</th>\n",
              "      <th>first_name</th>\n",
              "      <th>middle_name</th>\n",
              "      <th>age</th>\n",
              "      <th>city</th>\n",
              "      <th>state</th>\n",
              "      <th>arrest_date</th>\n",
              "      <th>offense</th>\n",
              "    </tr>\n",
              "  </thead>\n",
              "  <tbody>\n",
              "    <tr>\n",
              "      <th>0</th>\n",
              "      <td>HUGHES</td>\n",
              "      <td>CARLTON</td>\n",
              "      <td>CORNELL</td>\n",
              "      <td>56</td>\n",
              "      <td>SILVER SPRING</td>\n",
              "      <td>MD</td>\n",
              "      <td>2021-03-22T08:15:00.000</td>\n",
              "      <td>ATT-THEFT LESS THAN $100.00</td>\n",
              "    </tr>\n",
              "  </tbody>\n",
              "</table>\n",
              "</div>"
            ],
            "text/plain": [
              "  last_name first_name  ...              arrest_date                      offense\n",
              "0    HUGHES    CARLTON  ...  2021-03-22T08:15:00.000  ATT-THEFT LESS THAN $100.00\n",
              "\n",
              "[1 rows x 8 columns]"
            ]
          },
          "metadata": {
            "tags": []
          },
          "execution_count": 49
        }
      ]
    },
    {
      "cell_type": "code",
      "metadata": {
        "id": "9gVGP4tK6WjN"
      },
      "source": [
        "del df['last_name']"
      ],
      "execution_count": 50,
      "outputs": []
    },
    {
      "cell_type": "code",
      "metadata": {
        "colab": {
          "base_uri": "https://localhost:8080/",
          "height": 80
        },
        "id": "XfuEqAmd6Z_k",
        "outputId": "7cd07f39-ce35-4a9f-dbf3-2e4c1941c494"
      },
      "source": [
        "df.head(1)"
      ],
      "execution_count": 51,
      "outputs": [
        {
          "output_type": "execute_result",
          "data": {
            "text/html": [
              "<div>\n",
              "<style scoped>\n",
              "    .dataframe tbody tr th:only-of-type {\n",
              "        vertical-align: middle;\n",
              "    }\n",
              "\n",
              "    .dataframe tbody tr th {\n",
              "        vertical-align: top;\n",
              "    }\n",
              "\n",
              "    .dataframe thead th {\n",
              "        text-align: right;\n",
              "    }\n",
              "</style>\n",
              "<table border=\"1\" class=\"dataframe\">\n",
              "  <thead>\n",
              "    <tr style=\"text-align: right;\">\n",
              "      <th></th>\n",
              "      <th>first_name</th>\n",
              "      <th>middle_name</th>\n",
              "      <th>age</th>\n",
              "      <th>city</th>\n",
              "      <th>state</th>\n",
              "      <th>arrest_date</th>\n",
              "      <th>offense</th>\n",
              "    </tr>\n",
              "  </thead>\n",
              "  <tbody>\n",
              "    <tr>\n",
              "      <th>0</th>\n",
              "      <td>CARLTON</td>\n",
              "      <td>CORNELL</td>\n",
              "      <td>56</td>\n",
              "      <td>SILVER SPRING</td>\n",
              "      <td>MD</td>\n",
              "      <td>2021-03-22T08:15:00.000</td>\n",
              "      <td>ATT-THEFT LESS THAN $100.00</td>\n",
              "    </tr>\n",
              "  </tbody>\n",
              "</table>\n",
              "</div>"
            ],
            "text/plain": [
              "  first_name middle_name  ...              arrest_date                      offense\n",
              "0    CARLTON     CORNELL  ...  2021-03-22T08:15:00.000  ATT-THEFT LESS THAN $100.00\n",
              "\n",
              "[1 rows x 7 columns]"
            ]
          },
          "metadata": {
            "tags": []
          },
          "execution_count": 51
        }
      ]
    },
    {
      "cell_type": "code",
      "metadata": {
        "id": "EXvlOk026cgk"
      },
      "source": [
        "del df['first_name']\n",
        "del df['middle_name']\n"
      ],
      "execution_count": 54,
      "outputs": []
    },
    {
      "cell_type": "code",
      "metadata": {
        "colab": {
          "base_uri": "https://localhost:8080/",
          "height": 80
        },
        "id": "gDTTf72n7DPf",
        "outputId": "437a341c-b1e8-4633-faf0-1041ecd3d06c"
      },
      "source": [
        "df.head(1)"
      ],
      "execution_count": 55,
      "outputs": [
        {
          "output_type": "execute_result",
          "data": {
            "text/html": [
              "<div>\n",
              "<style scoped>\n",
              "    .dataframe tbody tr th:only-of-type {\n",
              "        vertical-align: middle;\n",
              "    }\n",
              "\n",
              "    .dataframe tbody tr th {\n",
              "        vertical-align: top;\n",
              "    }\n",
              "\n",
              "    .dataframe thead th {\n",
              "        text-align: right;\n",
              "    }\n",
              "</style>\n",
              "<table border=\"1\" class=\"dataframe\">\n",
              "  <thead>\n",
              "    <tr style=\"text-align: right;\">\n",
              "      <th></th>\n",
              "      <th>age</th>\n",
              "      <th>city</th>\n",
              "      <th>state</th>\n",
              "      <th>arrest_date</th>\n",
              "      <th>offense</th>\n",
              "    </tr>\n",
              "  </thead>\n",
              "  <tbody>\n",
              "    <tr>\n",
              "      <th>0</th>\n",
              "      <td>56</td>\n",
              "      <td>SILVER SPRING</td>\n",
              "      <td>MD</td>\n",
              "      <td>2021-03-22T08:15:00.000</td>\n",
              "      <td>ATT-THEFT LESS THAN $100.00</td>\n",
              "    </tr>\n",
              "  </tbody>\n",
              "</table>\n",
              "</div>"
            ],
            "text/plain": [
              "   age           city  ...              arrest_date                      offense\n",
              "0   56  SILVER SPRING  ...  2021-03-22T08:15:00.000  ATT-THEFT LESS THAN $100.00\n",
              "\n",
              "[1 rows x 5 columns]"
            ]
          },
          "metadata": {
            "tags": []
          },
          "execution_count": 55
        }
      ]
    },
    {
      "cell_type": "code",
      "metadata": {
        "colab": {
          "base_uri": "https://localhost:8080/",
          "height": 419
        },
        "id": "gvxrxKHM7bWt",
        "outputId": "753f28b8-6e08-48a0-f4ed-4951bd2edfc1"
      },
      "source": [
        "# Group by offense sum\n",
        "df_off = df.groupby(['offense'], as_index=False).agg({'offense': sum})\n",
        "df_off"
      ],
      "execution_count": 57,
      "outputs": [
        {
          "output_type": "execute_result",
          "data": {
            "text/html": [
              "<div>\n",
              "<style scoped>\n",
              "    .dataframe tbody tr th:only-of-type {\n",
              "        vertical-align: middle;\n",
              "    }\n",
              "\n",
              "    .dataframe tbody tr th {\n",
              "        vertical-align: top;\n",
              "    }\n",
              "\n",
              "    .dataframe thead th {\n",
              "        text-align: right;\n",
              "    }\n",
              "</style>\n",
              "<table border=\"1\" class=\"dataframe\">\n",
              "  <thead>\n",
              "    <tr style=\"text-align: right;\">\n",
              "      <th></th>\n",
              "      <th>offense</th>\n",
              "    </tr>\n",
              "  </thead>\n",
              "  <tbody>\n",
              "    <tr>\n",
              "      <th>0</th>\n",
              "      <td>(DRIVE, ATTEMPT DRIVE) VEH. WHILE UNDER INFLUE...</td>\n",
              "    </tr>\n",
              "    <tr>\n",
              "      <th>1</th>\n",
              "      <td>(DRIVING, ATT. TO DRIVE) VEH WHILE SO FAR IMPA...</td>\n",
              "    </tr>\n",
              "    <tr>\n",
              "      <th>2</th>\n",
              "      <td>(DRIVING, ATTEMPTING TO DRIVE) VEH. WHILE IMPA...</td>\n",
              "    </tr>\n",
              "    <tr>\n",
              "      <th>3</th>\n",
              "      <td>(DRIVING, ATTEMPTING TO DRIVE) VEHICLE WHILE U...</td>\n",
              "    </tr>\n",
              "    <tr>\n",
              "      <th>4</th>\n",
              "      <td>(DRIVING, ATTEMPTING TO DRIVE)(ATV, SNOWMOBILE...</td>\n",
              "    </tr>\n",
              "    <tr>\n",
              "      <th>...</th>\n",
              "      <td>...</td>\n",
              "    </tr>\n",
              "    <tr>\n",
              "      <th>90</th>\n",
              "      <td>TRESPASS: PUBLIC AGENCY DURING BUSINESS HOURS</td>\n",
              "    </tr>\n",
              "    <tr>\n",
              "      <th>91</th>\n",
              "      <td>UNAUTH REMOVAL OF MOTOR VEHICLE</td>\n",
              "    </tr>\n",
              "    <tr>\n",
              "      <th>92</th>\n",
              "      <td>Urinating / Defecating in Public</td>\n",
              "    </tr>\n",
              "    <tr>\n",
              "      <th>93</th>\n",
              "      <td>VIOLATE PROTECTIVE ORDERVIOLATE PROTECTIVE ORD...</td>\n",
              "    </tr>\n",
              "    <tr>\n",
              "      <th>94</th>\n",
              "      <td>WEAR, CARRY AND TRANSPORT HANDGUN UPON THEIR P...</td>\n",
              "    </tr>\n",
              "  </tbody>\n",
              "</table>\n",
              "<p>95 rows × 1 columns</p>\n",
              "</div>"
            ],
            "text/plain": [
              "                                              offense\n",
              "0   (DRIVE, ATTEMPT DRIVE) VEH. WHILE UNDER INFLUE...\n",
              "1   (DRIVING, ATT. TO DRIVE) VEH WHILE SO FAR IMPA...\n",
              "2   (DRIVING, ATTEMPTING TO DRIVE) VEH. WHILE IMPA...\n",
              "3   (DRIVING, ATTEMPTING TO DRIVE) VEHICLE WHILE U...\n",
              "4   (DRIVING, ATTEMPTING TO DRIVE)(ATV, SNOWMOBILE...\n",
              "..                                                ...\n",
              "90      TRESPASS: PUBLIC AGENCY DURING BUSINESS HOURS\n",
              "91                    UNAUTH REMOVAL OF MOTOR VEHICLE\n",
              "92                   Urinating / Defecating in Public\n",
              "93  VIOLATE PROTECTIVE ORDERVIOLATE PROTECTIVE ORD...\n",
              "94  WEAR, CARRY AND TRANSPORT HANDGUN UPON THEIR P...\n",
              "\n",
              "[95 rows x 1 columns]"
            ]
          },
          "metadata": {
            "tags": []
          },
          "execution_count": 57
        }
      ]
    }
  ]
}