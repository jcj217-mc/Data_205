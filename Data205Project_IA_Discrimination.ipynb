{
  "nbformat": 4,
  "nbformat_minor": 0,
  "metadata": {
    "colab": {
      "name": "Data205Project_IA_Discrimination.ipynb",
      "provenance": [],
      "collapsed_sections": [],
      "authorship_tag": "ABX9TyPOQ9ztioLF2dpUVKbN69Dz",
      "include_colab_link": true
    },
    "kernelspec": {
      "name": "python3",
      "display_name": "Python 3"
    },
    "language_info": {
      "name": "python"
    }
  },
  "cells": [
    {
      "cell_type": "markdown",
      "metadata": {
        "id": "view-in-github",
        "colab_type": "text"
      },
      "source": [
        "<a href=\"https://colab.research.google.com/github/jcj217-mc/Data_205/blob/main/Data205Project_IA_Discrimination.ipynb\" target=\"_parent\"><img src=\"https://colab.research.google.com/assets/colab-badge.svg\" alt=\"Open In Colab\"/></a>"
      ]
    },
    {
      "cell_type": "code",
      "metadata": {
        "id": "X8SFvf0QeAZF"
      },
      "source": [
        "# import packages\n",
        "import pandas as pd\n",
        "import numpy as np\n",
        "import os \n",
        "import json"
      ],
      "execution_count": null,
      "outputs": []
    },
    {
      "cell_type": "code",
      "metadata": {
        "id": "r31PBlxOeHcR"
      },
      "source": [
        "# .json file data imported as pandas data frame\n",
        "df = pd.read_json('https://data.montgomerycountymd.gov/resource/tkbe-6sx5.json')"
      ],
      "execution_count": null,
      "outputs": []
    },
    {
      "cell_type": "code",
      "metadata": {
        "colab": {
          "base_uri": "https://localhost:8080/"
        },
        "id": "9xapq9qHedAc",
        "outputId": "80d9317b-6777-4107-a805-cdcae432f3a3"
      },
      "source": [
        "df.info()"
      ],
      "execution_count": null,
      "outputs": [
        {
          "output_type": "stream",
          "text": [
            "<class 'pandas.core.frame.DataFrame'>\n",
            "RangeIndex: 89 entries, 0 to 88\n",
            "Data columns (total 6 columns):\n",
            " #   Column           Non-Null Count  Dtype \n",
            "---  ------           --------------  ----- \n",
            " 0   filenum          89 non-null     object\n",
            " 1   created_dt       89 non-null     object\n",
            " 2   source           89 non-null     object\n",
            " 3   allegation       89 non-null     object\n",
            " 4   incident_status  89 non-null     object\n",
            " 5   finding          76 non-null     object\n",
            "dtypes: object(6)\n",
            "memory usage: 4.3+ KB\n"
          ],
          "name": "stdout"
        }
      ]
    },
    {
      "cell_type": "code",
      "metadata": {
        "colab": {
          "base_uri": "https://localhost:8080/",
          "height": 210
        },
        "id": "ulOtfnxVefyQ",
        "outputId": "fba0b64c-8c8b-4c96-f435-4d3b3aa1ef0c"
      },
      "source": [
        "df.describe()"
      ],
      "execution_count": null,
      "outputs": [
        {
          "output_type": "execute_result",
          "data": {
            "text/html": [
              "<div>\n",
              "<style scoped>\n",
              "    .dataframe tbody tr th:only-of-type {\n",
              "        vertical-align: middle;\n",
              "    }\n",
              "\n",
              "    .dataframe tbody tr th {\n",
              "        vertical-align: top;\n",
              "    }\n",
              "\n",
              "    .dataframe thead th {\n",
              "        text-align: right;\n",
              "    }\n",
              "</style>\n",
              "<table border=\"1\" class=\"dataframe\">\n",
              "  <thead>\n",
              "    <tr style=\"text-align: right;\">\n",
              "      <th></th>\n",
              "      <th>filenum</th>\n",
              "      <th>created_dt</th>\n",
              "      <th>source</th>\n",
              "      <th>allegation</th>\n",
              "      <th>incident_status</th>\n",
              "      <th>finding</th>\n",
              "    </tr>\n",
              "  </thead>\n",
              "  <tbody>\n",
              "    <tr>\n",
              "      <th>count</th>\n",
              "      <td>89</td>\n",
              "      <td>89</td>\n",
              "      <td>89</td>\n",
              "      <td>89</td>\n",
              "      <td>89</td>\n",
              "      <td>76</td>\n",
              "    </tr>\n",
              "    <tr>\n",
              "      <th>unique</th>\n",
              "      <td>87</td>\n",
              "      <td>73</td>\n",
              "      <td>2</td>\n",
              "      <td>2</td>\n",
              "      <td>2</td>\n",
              "      <td>8</td>\n",
              "    </tr>\n",
              "    <tr>\n",
              "      <th>top</th>\n",
              "      <td>15-0195</td>\n",
              "      <td>2020-12-14T00:00:00.000</td>\n",
              "      <td>External</td>\n",
              "      <td>Discrimination/Harassment</td>\n",
              "      <td>Completed</td>\n",
              "      <td>Declined</td>\n",
              "    </tr>\n",
              "    <tr>\n",
              "      <th>freq</th>\n",
              "      <td>2</td>\n",
              "      <td>4</td>\n",
              "      <td>47</td>\n",
              "      <td>53</td>\n",
              "      <td>76</td>\n",
              "      <td>21</td>\n",
              "    </tr>\n",
              "  </tbody>\n",
              "</table>\n",
              "</div>"
            ],
            "text/plain": [
              "        filenum               created_dt  ... incident_status   finding\n",
              "count        89                       89  ...              89        76\n",
              "unique       87                       73  ...               2         8\n",
              "top     15-0195  2020-12-14T00:00:00.000  ...       Completed  Declined\n",
              "freq          2                        4  ...              76        21\n",
              "\n",
              "[4 rows x 6 columns]"
            ]
          },
          "metadata": {
            "tags": []
          },
          "execution_count": 26
        }
      ]
    },
    {
      "cell_type": "code",
      "metadata": {
        "colab": {
          "base_uri": "https://localhost:8080/",
          "height": 289
        },
        "id": "Vyad3UCAemeK",
        "outputId": "263dbaac-2f69-4604-9c59-5adaa6bedd7f"
      },
      "source": [
        "df.head()"
      ],
      "execution_count": null,
      "outputs": [
        {
          "output_type": "execute_result",
          "data": {
            "text/html": [
              "<div>\n",
              "<style scoped>\n",
              "    .dataframe tbody tr th:only-of-type {\n",
              "        vertical-align: middle;\n",
              "    }\n",
              "\n",
              "    .dataframe tbody tr th {\n",
              "        vertical-align: top;\n",
              "    }\n",
              "\n",
              "    .dataframe thead th {\n",
              "        text-align: right;\n",
              "    }\n",
              "</style>\n",
              "<table border=\"1\" class=\"dataframe\">\n",
              "  <thead>\n",
              "    <tr style=\"text-align: right;\">\n",
              "      <th></th>\n",
              "      <th>filenum</th>\n",
              "      <th>created_dt</th>\n",
              "      <th>source</th>\n",
              "      <th>allegation</th>\n",
              "      <th>incident_status</th>\n",
              "      <th>finding</th>\n",
              "    </tr>\n",
              "  </thead>\n",
              "  <tbody>\n",
              "    <tr>\n",
              "      <th>0</th>\n",
              "      <td>13-0263</td>\n",
              "      <td>2013-09-24T00:00:00.000</td>\n",
              "      <td>External</td>\n",
              "      <td>Discrimination/Harassment</td>\n",
              "      <td>Completed</td>\n",
              "      <td>Unfounded</td>\n",
              "    </tr>\n",
              "    <tr>\n",
              "      <th>1</th>\n",
              "      <td>13-0303</td>\n",
              "      <td>2013-11-07T00:00:00.000</td>\n",
              "      <td>Internal</td>\n",
              "      <td>Discrim/Race/Sex</td>\n",
              "      <td>Completed</td>\n",
              "      <td>Unfounded</td>\n",
              "    </tr>\n",
              "    <tr>\n",
              "      <th>2</th>\n",
              "      <td>14-0058</td>\n",
              "      <td>2014-03-27T00:00:00.000</td>\n",
              "      <td>Internal</td>\n",
              "      <td>Discrimination/Harassment</td>\n",
              "      <td>Completed</td>\n",
              "      <td>Administrative Closure</td>\n",
              "    </tr>\n",
              "    <tr>\n",
              "      <th>3</th>\n",
              "      <td>14-0077</td>\n",
              "      <td>2014-04-22T00:00:00.000</td>\n",
              "      <td>Internal</td>\n",
              "      <td>Discrimination/Harassment</td>\n",
              "      <td>Completed</td>\n",
              "      <td>Sustained</td>\n",
              "    </tr>\n",
              "    <tr>\n",
              "      <th>4</th>\n",
              "      <td>14-0077</td>\n",
              "      <td>2014-04-22T00:00:00.000</td>\n",
              "      <td>Internal</td>\n",
              "      <td>Discrimination/Harassment</td>\n",
              "      <td>Completed</td>\n",
              "      <td>Administrative Closure</td>\n",
              "    </tr>\n",
              "  </tbody>\n",
              "</table>\n",
              "</div>"
            ],
            "text/plain": [
              "   filenum               created_dt  ... incident_status                 finding\n",
              "0  13-0263  2013-09-24T00:00:00.000  ...       Completed               Unfounded\n",
              "1  13-0303  2013-11-07T00:00:00.000  ...       Completed               Unfounded\n",
              "2  14-0058  2014-03-27T00:00:00.000  ...       Completed  Administrative Closure\n",
              "3  14-0077  2014-04-22T00:00:00.000  ...       Completed               Sustained\n",
              "4  14-0077  2014-04-22T00:00:00.000  ...       Completed  Administrative Closure\n",
              "\n",
              "[5 rows x 6 columns]"
            ]
          },
          "metadata": {
            "tags": []
          },
          "execution_count": 27
        }
      ]
    },
    {
      "cell_type": "code",
      "metadata": {
        "colab": {
          "base_uri": "https://localhost:8080/"
        },
        "id": "ezF5WFGyeo4r",
        "outputId": "8f041654-3e4b-446a-90d9-8a29ea6efd8b"
      },
      "source": [
        "df.allegation.unique()"
      ],
      "execution_count": null,
      "outputs": [
        {
          "output_type": "execute_result",
          "data": {
            "text/plain": [
              "array(['Discrimination/Harassment', 'Discrim/Race/Sex'], dtype=object)"
            ]
          },
          "metadata": {
            "tags": []
          },
          "execution_count": 28
        }
      ]
    },
    {
      "cell_type": "code",
      "metadata": {
        "colab": {
          "base_uri": "https://localhost:8080/"
        },
        "id": "Sk3WpqV6erO2",
        "outputId": "2b34dea3-8b22-4195-9944-80c939ce033c"
      },
      "source": [
        "df.finding.unique()"
      ],
      "execution_count": null,
      "outputs": [
        {
          "output_type": "execute_result",
          "data": {
            "text/plain": [
              "array(['Unfounded', 'Administrative Closure', 'Sustained', 'Exonerated',\n",
              "       'Corrective Action Taken', 'No Corrective Action Tak',\n",
              "       'Insufficent Evidence', 'Declined', nan], dtype=object)"
            ]
          },
          "metadata": {
            "tags": []
          },
          "execution_count": 29
        }
      ]
    },
    {
      "cell_type": "code",
      "metadata": {
        "id": "Q7VnQb5kexVu"
      },
      "source": [
        "# Changing Date to datetime\n",
        "df.created_dt = pd.to_datetime(df.created_dt)"
      ],
      "execution_count": null,
      "outputs": []
    },
    {
      "cell_type": "code",
      "metadata": {
        "colab": {
          "base_uri": "https://localhost:8080/"
        },
        "id": "1P6sSYI8e0GU",
        "outputId": "57420fbe-90ed-4271-8011-a97e49d9beb1"
      },
      "source": [
        "df.info()"
      ],
      "execution_count": null,
      "outputs": [
        {
          "output_type": "stream",
          "text": [
            "<class 'pandas.core.frame.DataFrame'>\n",
            "RangeIndex: 89 entries, 0 to 88\n",
            "Data columns (total 6 columns):\n",
            " #   Column           Non-Null Count  Dtype         \n",
            "---  ------           --------------  -----         \n",
            " 0   filenum          89 non-null     object        \n",
            " 1   created_dt       89 non-null     datetime64[ns]\n",
            " 2   source           89 non-null     object        \n",
            " 3   allegation       89 non-null     object        \n",
            " 4   incident_status  89 non-null     object        \n",
            " 5   finding          76 non-null     object        \n",
            "dtypes: datetime64[ns](1), object(5)\n",
            "memory usage: 4.3+ KB\n"
          ],
          "name": "stdout"
        }
      ]
    },
    {
      "cell_type": "code",
      "metadata": {
        "colab": {
          "base_uri": "https://localhost:8080/",
          "height": 100
        },
        "id": "zT1kuDqoe1in",
        "outputId": "c71c5447-ad10-4b1f-af60-23265f1f75ee"
      },
      "source": [
        "# add a column for Year\n",
        "df['Year'] = df['created_dt'].dt.year\n",
        "df.head(1)"
      ],
      "execution_count": null,
      "outputs": [
        {
          "output_type": "execute_result",
          "data": {
            "text/html": [
              "<div>\n",
              "<style scoped>\n",
              "    .dataframe tbody tr th:only-of-type {\n",
              "        vertical-align: middle;\n",
              "    }\n",
              "\n",
              "    .dataframe tbody tr th {\n",
              "        vertical-align: top;\n",
              "    }\n",
              "\n",
              "    .dataframe thead th {\n",
              "        text-align: right;\n",
              "    }\n",
              "</style>\n",
              "<table border=\"1\" class=\"dataframe\">\n",
              "  <thead>\n",
              "    <tr style=\"text-align: right;\">\n",
              "      <th></th>\n",
              "      <th>filenum</th>\n",
              "      <th>created_dt</th>\n",
              "      <th>source</th>\n",
              "      <th>allegation</th>\n",
              "      <th>incident_status</th>\n",
              "      <th>finding</th>\n",
              "      <th>Year</th>\n",
              "    </tr>\n",
              "  </thead>\n",
              "  <tbody>\n",
              "    <tr>\n",
              "      <th>0</th>\n",
              "      <td>13-0263</td>\n",
              "      <td>2013-09-24</td>\n",
              "      <td>External</td>\n",
              "      <td>Discrimination/Harassment</td>\n",
              "      <td>Completed</td>\n",
              "      <td>Unfounded</td>\n",
              "      <td>2013</td>\n",
              "    </tr>\n",
              "  </tbody>\n",
              "</table>\n",
              "</div>"
            ],
            "text/plain": [
              "   filenum created_dt    source  ... incident_status    finding  Year\n",
              "0  13-0263 2013-09-24  External  ...       Completed  Unfounded  2013\n",
              "\n",
              "[1 rows x 7 columns]"
            ]
          },
          "metadata": {
            "tags": []
          },
          "execution_count": 32
        }
      ]
    },
    {
      "cell_type": "code",
      "metadata": {
        "colab": {
          "base_uri": "https://localhost:8080/",
          "height": 419
        },
        "id": "OLREkZ6me5-h",
        "outputId": "5d17e719-80e5-4a48-f568-fa88baeb1515"
      },
      "source": [
        "df_allegation = df.loc[:,['allegation','Year']]\n",
        "df_allegation"
      ],
      "execution_count": null,
      "outputs": [
        {
          "output_type": "execute_result",
          "data": {
            "text/html": [
              "<div>\n",
              "<style scoped>\n",
              "    .dataframe tbody tr th:only-of-type {\n",
              "        vertical-align: middle;\n",
              "    }\n",
              "\n",
              "    .dataframe tbody tr th {\n",
              "        vertical-align: top;\n",
              "    }\n",
              "\n",
              "    .dataframe thead th {\n",
              "        text-align: right;\n",
              "    }\n",
              "</style>\n",
              "<table border=\"1\" class=\"dataframe\">\n",
              "  <thead>\n",
              "    <tr style=\"text-align: right;\">\n",
              "      <th></th>\n",
              "      <th>allegation</th>\n",
              "      <th>Year</th>\n",
              "    </tr>\n",
              "  </thead>\n",
              "  <tbody>\n",
              "    <tr>\n",
              "      <th>0</th>\n",
              "      <td>Discrimination/Harassment</td>\n",
              "      <td>2013</td>\n",
              "    </tr>\n",
              "    <tr>\n",
              "      <th>1</th>\n",
              "      <td>Discrim/Race/Sex</td>\n",
              "      <td>2013</td>\n",
              "    </tr>\n",
              "    <tr>\n",
              "      <th>2</th>\n",
              "      <td>Discrimination/Harassment</td>\n",
              "      <td>2014</td>\n",
              "    </tr>\n",
              "    <tr>\n",
              "      <th>3</th>\n",
              "      <td>Discrimination/Harassment</td>\n",
              "      <td>2014</td>\n",
              "    </tr>\n",
              "    <tr>\n",
              "      <th>4</th>\n",
              "      <td>Discrimination/Harassment</td>\n",
              "      <td>2014</td>\n",
              "    </tr>\n",
              "    <tr>\n",
              "      <th>...</th>\n",
              "      <td>...</td>\n",
              "      <td>...</td>\n",
              "    </tr>\n",
              "    <tr>\n",
              "      <th>84</th>\n",
              "      <td>Discrim/Race/Sex</td>\n",
              "      <td>2021</td>\n",
              "    </tr>\n",
              "    <tr>\n",
              "      <th>85</th>\n",
              "      <td>Discrim/Race/Sex</td>\n",
              "      <td>2021</td>\n",
              "    </tr>\n",
              "    <tr>\n",
              "      <th>86</th>\n",
              "      <td>Discrim/Race/Sex</td>\n",
              "      <td>2021</td>\n",
              "    </tr>\n",
              "    <tr>\n",
              "      <th>87</th>\n",
              "      <td>Discrimination/Harassment</td>\n",
              "      <td>2021</td>\n",
              "    </tr>\n",
              "    <tr>\n",
              "      <th>88</th>\n",
              "      <td>Discrimination/Harassment</td>\n",
              "      <td>2021</td>\n",
              "    </tr>\n",
              "  </tbody>\n",
              "</table>\n",
              "<p>89 rows × 2 columns</p>\n",
              "</div>"
            ],
            "text/plain": [
              "                   allegation  Year\n",
              "0   Discrimination/Harassment  2013\n",
              "1            Discrim/Race/Sex  2013\n",
              "2   Discrimination/Harassment  2014\n",
              "3   Discrimination/Harassment  2014\n",
              "4   Discrimination/Harassment  2014\n",
              "..                        ...   ...\n",
              "84           Discrim/Race/Sex  2021\n",
              "85           Discrim/Race/Sex  2021\n",
              "86           Discrim/Race/Sex  2021\n",
              "87  Discrimination/Harassment  2021\n",
              "88  Discrimination/Harassment  2021\n",
              "\n",
              "[89 rows x 2 columns]"
            ]
          },
          "metadata": {
            "tags": []
          },
          "execution_count": 33
        }
      ]
    },
    {
      "cell_type": "code",
      "metadata": {
        "colab": {
          "base_uri": "https://localhost:8080/"
        },
        "id": "opRspXiif_cg",
        "outputId": "fe57056b-591e-4d9b-f720-d5547577fe04"
      },
      "source": [
        "df_allegation.allegation.value_counts()"
      ],
      "execution_count": null,
      "outputs": [
        {
          "output_type": "execute_result",
          "data": {
            "text/plain": [
              "Discrimination/Harassment    53\n",
              "Discrim/Race/Sex             36\n",
              "Name: allegation, dtype: int64"
            ]
          },
          "metadata": {
            "tags": []
          },
          "execution_count": 34
        }
      ]
    },
    {
      "cell_type": "code",
      "metadata": {
        "id": "9twVayg5hLWa"
      },
      "source": [
        "import numpy as np\n",
        "import pandas as pd\n",
        "from pandas import Series, DataFrame\n",
        "import matplotlib.pyplot as plt"
      ],
      "execution_count": null,
      "outputs": []
    },
    {
      "cell_type": "code",
      "metadata": {
        "colab": {
          "base_uri": "https://localhost:8080/",
          "height": 275
        },
        "id": "UnPLmK8BhfJR",
        "outputId": "27bea6d9-76ba-416b-e269-42c874d73739"
      },
      "source": [
        "harass_df = pd.DataFrame(df[(df['allegation']==\"Discrimination/Harassment\")])\n",
        "harass_df.head()"
      ],
      "execution_count": null,
      "outputs": [
        {
          "output_type": "execute_result",
          "data": {
            "text/html": [
              "<div>\n",
              "<style scoped>\n",
              "    .dataframe tbody tr th:only-of-type {\n",
              "        vertical-align: middle;\n",
              "    }\n",
              "\n",
              "    .dataframe tbody tr th {\n",
              "        vertical-align: top;\n",
              "    }\n",
              "\n",
              "    .dataframe thead th {\n",
              "        text-align: right;\n",
              "    }\n",
              "</style>\n",
              "<table border=\"1\" class=\"dataframe\">\n",
              "  <thead>\n",
              "    <tr style=\"text-align: right;\">\n",
              "      <th></th>\n",
              "      <th>filenum</th>\n",
              "      <th>created_dt</th>\n",
              "      <th>source</th>\n",
              "      <th>allegation</th>\n",
              "      <th>incident_status</th>\n",
              "      <th>finding</th>\n",
              "      <th>Year</th>\n",
              "    </tr>\n",
              "  </thead>\n",
              "  <tbody>\n",
              "    <tr>\n",
              "      <th>0</th>\n",
              "      <td>13-0263</td>\n",
              "      <td>2013-09-24</td>\n",
              "      <td>External</td>\n",
              "      <td>Discrimination/Harassment</td>\n",
              "      <td>Completed</td>\n",
              "      <td>Unfounded</td>\n",
              "      <td>2013</td>\n",
              "    </tr>\n",
              "    <tr>\n",
              "      <th>2</th>\n",
              "      <td>14-0058</td>\n",
              "      <td>2014-03-27</td>\n",
              "      <td>Internal</td>\n",
              "      <td>Discrimination/Harassment</td>\n",
              "      <td>Completed</td>\n",
              "      <td>Administrative Closure</td>\n",
              "      <td>2014</td>\n",
              "    </tr>\n",
              "    <tr>\n",
              "      <th>3</th>\n",
              "      <td>14-0077</td>\n",
              "      <td>2014-04-22</td>\n",
              "      <td>Internal</td>\n",
              "      <td>Discrimination/Harassment</td>\n",
              "      <td>Completed</td>\n",
              "      <td>Sustained</td>\n",
              "      <td>2014</td>\n",
              "    </tr>\n",
              "    <tr>\n",
              "      <th>4</th>\n",
              "      <td>14-0077</td>\n",
              "      <td>2014-04-22</td>\n",
              "      <td>Internal</td>\n",
              "      <td>Discrimination/Harassment</td>\n",
              "      <td>Completed</td>\n",
              "      <td>Administrative Closure</td>\n",
              "      <td>2014</td>\n",
              "    </tr>\n",
              "    <tr>\n",
              "      <th>6</th>\n",
              "      <td>14-0157</td>\n",
              "      <td>2014-07-21</td>\n",
              "      <td>External</td>\n",
              "      <td>Discrimination/Harassment</td>\n",
              "      <td>Completed</td>\n",
              "      <td>Corrective Action Taken</td>\n",
              "      <td>2014</td>\n",
              "    </tr>\n",
              "  </tbody>\n",
              "</table>\n",
              "</div>"
            ],
            "text/plain": [
              "   filenum created_dt    source  ... incident_status                  finding  Year\n",
              "0  13-0263 2013-09-24  External  ...       Completed                Unfounded  2013\n",
              "2  14-0058 2014-03-27  Internal  ...       Completed   Administrative Closure  2014\n",
              "3  14-0077 2014-04-22  Internal  ...       Completed                Sustained  2014\n",
              "4  14-0077 2014-04-22  Internal  ...       Completed   Administrative Closure  2014\n",
              "6  14-0157 2014-07-21  External  ...       Completed  Corrective Action Taken  2014\n",
              "\n",
              "[5 rows x 7 columns]"
            ]
          },
          "metadata": {
            "tags": []
          },
          "execution_count": 36
        }
      ]
    },
    {
      "cell_type": "code",
      "metadata": {
        "id": "SWvhu7LwhqAC"
      },
      "source": [
        "Race_Sex_df = pd.DataFrame(df[(df['allegation']==\"Discrim/Race/Sex\")])"
      ],
      "execution_count": null,
      "outputs": []
    },
    {
      "cell_type": "code",
      "metadata": {
        "colab": {
          "base_uri": "https://localhost:8080/",
          "height": 313
        },
        "id": "ATji0pFIgPpg",
        "outputId": "96581ccd-f9b9-4bd8-c613-01f0bc7454d1"
      },
      "source": [
        "#PLOT 1 Average Bond Amount between race & gender\n",
        "\n",
        "labels = df.Year\n",
        "Harass = harass_df.allegation.count()\n",
        "Race_Sex = Race_Sex_df.allegation.count()\n",
        "\n",
        "x = np.arange(len(labels))  # the label locations\n",
        "width = 0.35  # the width of the bars\n",
        "\n",
        "fig, ax = plt.subplots()\n",
        "rects1 = ax.bar(x - width/2, Harass, width, label='Harassment',color='green', alpha = 0.5)\n",
        "rects2= ax.bar(x + width/2, Race_Sex, width, label='Race_Sex_Discrimination', color='lightblue')\n",
        "\n",
        "# Add some text for labels, title and custom x-axis tick labels, etc.\n",
        "ax.set_ylabel('Total Processed')\n",
        "ax.set_title('Comparing Release versus Committment')\n",
        "ax.set_xticks(x)\n",
        "ax.set_xticklabels(labels)\n",
        "ax.legend()\n",
        "\n",
        "fig.tight_layout()\n",
        "plt.xticks(rotation=90)\n",
        "plt.show()"
      ],
      "execution_count": null,
      "outputs": [
        {
          "output_type": "display_data",
          "data": {
            "image/png": "[encoded data removed]",
            "text/plain": [
              "<Figure size 432x288 with 1 Axes>"
            ]
          },
          "metadata": {
            "tags": [],
            "needs_background": "light"
          }
        }
      ]
    },
    {
      "cell_type": "code",
      "metadata": {
        "colab": {
          "base_uri": "https://localhost:8080/",
          "height": 297
        },
        "id": "o5yo_bz2im-e",
        "outputId": "376af8b6-c201-47c8-cb63-b5ec2da045e6"
      },
      "source": [
        "plt.hist(df.allegation, facecolor='green', color = 'black', alpha=0.5, bins = 3 )\n",
        "plt.title('IA Investigation Allegation')\n",
        "plt.xlabel('Source')\n",
        "plt.ylabel('Frequency')\n",
        "plt.tight_layout()\n",
        "plt.show()"
      ],
      "execution_count": null,
      "outputs": [
        {
          "output_type": "display_data",
          "data": {
            "image/png": "[encoded data removed]",
            "text/plain": [
              "<Figure size 432x288 with 1 Axes>"
            ]
          },
          "metadata": {
            "tags": [],
            "needs_background": "light"
          }
        }
      ]
    },
    {
      "cell_type": "code",
      "metadata": {
        "colab": {
          "base_uri": "https://localhost:8080/",
          "height": 297
        },
        "id": "Ud24avFditxd",
        "outputId": "214bf642-18dd-44a1-e372-53ab5f8de448"
      },
      "source": [
        "plt.hist(df.Year, facecolor='green', color = 'black', alpha=0.5, bins = 18 )\n",
        "plt.title('IA Investigation Discrimination Allegations by Year')\n",
        "plt.xlabel('Year')\n",
        "plt.ylabel('Frequency')\n",
        "plt.tight_layout()\n",
        "plt.show()"
      ],
      "execution_count": null,
      "outputs": [
        {
          "output_type": "display_data",
          "data": {
            "image/png": "[encoded data removed]",
            "text/plain": [
              "<Figure size 432x288 with 1 Axes>"
            ]
          },
          "metadata": {
            "tags": [],
            "needs_background": "light"
          }
        }
      ]
    },
    {
      "cell_type": "code",
      "metadata": {
        "colab": {
          "base_uri": "https://localhost:8080/"
        },
        "id": "95gK8AmXk2SH",
        "outputId": "104b57ed-72cd-4f46-e5c8-4d0fc1f249e7"
      },
      "source": [
        "df_harassfinding = df.finding.value_counts()\n",
        "df_harassfinding"
      ],
      "execution_count": null,
      "outputs": [
        {
          "output_type": "execute_result",
          "data": {
            "text/plain": [
              "Declined                    21\n",
              "Administrative Closure      12\n",
              "Unfounded                   10\n",
              "No Corrective Action Tak    10\n",
              "Sustained                    8\n",
              "Insufficent Evidence         8\n",
              "Exonerated                   5\n",
              "Corrective Action Taken      2\n",
              "Name: finding, dtype: int64"
            ]
          },
          "metadata": {
            "tags": []
          },
          "execution_count": 41
        }
      ]
    },
    {
      "cell_type": "code",
      "metadata": {
        "id": "18RSkKIVlXwc"
      },
      "source": [
        "# Successfully creating excel sheet with cell output\n",
        "df_harassfinding.to_excel(\"./harassfindingdf.xlsx\")"
      ],
      "execution_count": null,
      "outputs": []
    },
    {
      "cell_type": "code",
      "metadata": {
        "id": "GpxCSbTnlzr7"
      },
      "source": [
        "df_harassfinding = pd.read_csv('harassfindingdf.csv')"
      ],
      "execution_count": null,
      "outputs": []
    },
    {
      "cell_type": "code",
      "metadata": {
        "colab": {
          "base_uri": "https://localhost:8080/",
          "height": 407
        },
        "id": "HqhC2qyAj8iq",
        "outputId": "1d8e6dac-e305-4825-d364-d11ee670ce8b"
      },
      "source": [
        "plt.bar(df_harassfinding.Finding, df_harassfinding.Count, facecolor='navy', alpha=0.5, )\n",
        "plt.title('IA Discrimination Investigation Findings')\n",
        "plt.xlabel('Finding')\n",
        "plt.ylabel('Frequency')\n",
        "plt.xticks(rotation=90)\n",
        "plt.show()"
      ],
      "execution_count": null,
      "outputs": [
        {
          "output_type": "display_data",
          "data": {
            "image/png": "[encoded data removed]",
            "text/plain": [
              "<Figure size 432x288 with 1 Axes>"
            ]
          },
          "metadata": {
            "tags": [],
            "needs_background": "light"
          }
        }
      ]
    },
    {
      "cell_type": "code",
      "metadata": {
        "colab": {
          "base_uri": "https://localhost:8080/",
          "height": 297
        },
        "id": "uppmtEQqoZ5K",
        "outputId": "a174b2bc-abbc-410a-e17c-3fa1f41b5bd6"
      },
      "source": [
        "plt.hist(df.source, facecolor='green', color = 'black', alpha=0.5, bins = 3 )\n",
        "plt.title('IA Investigation Discrimination Allegations by Year')\n",
        "plt.xlabel('Source')\n",
        "plt.ylabel('Frequency')\n",
        "plt.tight_layout()\n",
        "plt.show()"
      ],
      "execution_count": null,
      "outputs": [
        {
          "output_type": "display_data",
          "data": {
            "image/png": "[encoded data removed]",
            "text/plain": [
              "<Figure size 432x288 with 1 Axes>"
            ]
          },
          "metadata": {
            "tags": [],
            "needs_background": "light"
          }
        }
      ]
    },
    {
      "cell_type": "code",
      "metadata": {
        "colab": {
          "base_uri": "https://localhost:8080/"
        },
        "id": "fse6_U70_R3p",
        "outputId": "69285ed8-032d-4ffe-840e-6a1fb042b3c6"
      },
      "source": [
        "df.source.value_counts()"
      ],
      "execution_count": null,
      "outputs": [
        {
          "output_type": "execute_result",
          "data": {
            "text/plain": [
              "External    47\n",
              "Internal    42\n",
              "Name: source, dtype: int64"
            ]
          },
          "metadata": {
            "tags": []
          },
          "execution_count": 46
        }
      ]
    },
    {
      "cell_type": "code",
      "metadata": {
        "colab": {
          "base_uri": "https://localhost:8080/"
        },
        "id": "UiKt5JNS_VVr",
        "outputId": "c0560f78-dc05-488e-b8f6-d360b3293c0c"
      },
      "source": [
        "47+42"
      ],
      "execution_count": null,
      "outputs": [
        {
          "output_type": "execute_result",
          "data": {
            "text/plain": [
              "89"
            ]
          },
          "metadata": {
            "tags": []
          },
          "execution_count": 47
        }
      ]
    },
    {
      "cell_type": "code",
      "metadata": {
        "colab": {
          "base_uri": "https://localhost:8080/"
        },
        "id": "C0N6u1cq_Wya",
        "outputId": "080581fb-70d5-446f-fec8-4a8e73f84710"
      },
      "source": [
        "47/89 *100"
      ],
      "execution_count": null,
      "outputs": [
        {
          "output_type": "execute_result",
          "data": {
            "text/plain": [
              "52.80898876404494"
            ]
          },
          "metadata": {
            "tags": []
          },
          "execution_count": 48
        }
      ]
    },
    {
      "cell_type": "code",
      "metadata": {
        "colab": {
          "base_uri": "https://localhost:8080/"
        },
        "id": "JoWWxQd2_ZbS",
        "outputId": "6668dba2-9f4b-4c28-c838-2c7319cf4ed6"
      },
      "source": [
        "42/89 *100"
      ],
      "execution_count": null,
      "outputs": [
        {
          "output_type": "execute_result",
          "data": {
            "text/plain": [
              "47.19101123595505"
            ]
          },
          "metadata": {
            "tags": []
          },
          "execution_count": 49
        }
      ]
    }
  ]
}