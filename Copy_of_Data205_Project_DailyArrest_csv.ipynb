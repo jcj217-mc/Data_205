{
  "nbformat": 4,
  "nbformat_minor": 0,
  "metadata": {
    "colab": {
      "name": "Copy of Data205_Project_DailyArrest_csv.ipynb",
      "provenance": [],
      "collapsed_sections": [],
      "authorship_tag": "ABX9TyNuX83YM//jrATcUrjvdOCm",
      "include_colab_link": true
    },
    "kernelspec": {
      "name": "python3",
      "display_name": "Python 3"
    },
    "language_info": {
      "name": "python"
    }
  },
  "cells": [
    {
      "cell_type": "markdown",
      "metadata": {
        "id": "view-in-github",
        "colab_type": "text"
      },
      "source": [
        "<a href=\"https://colab.research.google.com/github/jcj217-mc/Data_205/blob/main/Copy_of_Data205_Project_DailyArrest_csv.ipynb\" target=\"_parent\"><img src=\"https://colab.research.google.com/assets/colab-badge.svg\" alt=\"Open In Colab\"/></a>"
      ]
    },
    {
      "cell_type": "code",
      "metadata": {
        "id": "wSa95FUa40vi"
      },
      "source": [
        "# import packages\n",
        "import pandas as pd\n",
        "import numpy as np\n",
        "import os \n",
        "import json"
      ],
      "execution_count": 1,
      "outputs": []
    },
    {
      "cell_type": "code",
      "metadata": {
        "id": "gJwotood5BeV"
      },
      "source": [
        "# tab-separated data into pandas data frame.\n",
        "df = pd.read_csv('Crime_Year_To_Date_-_2019.csv')\n",
        "# this is the revised arrest dataset which does not have tiered crime types - will use previously downloaded csv"
      ],
      "execution_count": 3,
      "outputs": []
    },
    {
      "cell_type": "code",
      "metadata": {
        "colab": {
          "base_uri": "https://localhost:8080/",
          "height": 479
        },
        "id": "4SWWy7MK5dYU",
        "outputId": "705389ff-3a7e-4193-bc4d-53d49aaa3f1c"
      },
      "source": [
        "df.head()"
      ],
      "execution_count": 4,
      "outputs": [
        {
          "output_type": "execute_result",
          "data": {
            "text/html": [
              "<div>\n",
              "<style scoped>\n",
              "    .dataframe tbody tr th:only-of-type {\n",
              "        vertical-align: middle;\n",
              "    }\n",
              "\n",
              "    .dataframe tbody tr th {\n",
              "        vertical-align: top;\n",
              "    }\n",
              "\n",
              "    .dataframe thead th {\n",
              "        text-align: right;\n",
              "    }\n",
              "</style>\n",
              "<table border=\"1\" class=\"dataframe\">\n",
              "  <thead>\n",
              "    <tr style=\"text-align: right;\">\n",
              "      <th></th>\n",
              "      <th>Incident ID</th>\n",
              "      <th>Offence Code</th>\n",
              "      <th>CR Number</th>\n",
              "      <th>Dispatch Date / Time</th>\n",
              "      <th>NIBRS Code</th>\n",
              "      <th>Victims</th>\n",
              "      <th>Crime Name1</th>\n",
              "      <th>Crime Name2</th>\n",
              "      <th>Crime Name3</th>\n",
              "      <th>Police District Name</th>\n",
              "      <th>Block Address</th>\n",
              "      <th>City</th>\n",
              "      <th>State</th>\n",
              "      <th>Zip Code</th>\n",
              "      <th>Agency</th>\n",
              "      <th>Place</th>\n",
              "      <th>Sector</th>\n",
              "      <th>Beat</th>\n",
              "      <th>PRA</th>\n",
              "      <th>Address Number</th>\n",
              "      <th>Street Prefix</th>\n",
              "      <th>Street Name</th>\n",
              "      <th>Street Suffix</th>\n",
              "      <th>Street Type</th>\n",
              "      <th>Start_Date_Time</th>\n",
              "      <th>End_Date_Time</th>\n",
              "      <th>Latitude</th>\n",
              "      <th>Longitude</th>\n",
              "      <th>Police District Number</th>\n",
              "      <th>Location</th>\n",
              "    </tr>\n",
              "  </thead>\n",
              "  <tbody>\n",
              "    <tr>\n",
              "      <th>0</th>\n",
              "      <td>201224991</td>\n",
              "      <td>2303</td>\n",
              "      <td>190004823</td>\n",
              "      <td>1/31/19 0:00</td>\n",
              "      <td>23C</td>\n",
              "      <td>1</td>\n",
              "      <td>Crime Against Property</td>\n",
              "      <td>Shoplifting</td>\n",
              "      <td>LARCENY - SHOPLIFTING</td>\n",
              "      <td>GERMANTOWN</td>\n",
              "      <td>20600 BLK  SENECA MEADOWS PKW</td>\n",
              "      <td>GERMANTOWN</td>\n",
              "      <td>MD</td>\n",
              "      <td>20876.0</td>\n",
              "      <td>MCPD</td>\n",
              "      <td>Grocery/Supermarket</td>\n",
              "      <td>M</td>\n",
              "      <td>5M1</td>\n",
              "      <td>701.0</td>\n",
              "      <td>20600.0</td>\n",
              "      <td>NaN</td>\n",
              "      <td>SENECA MEADOWS</td>\n",
              "      <td>NaN</td>\n",
              "      <td>PKW</td>\n",
              "      <td>1/31/19 0:00</td>\n",
              "      <td>NaN</td>\n",
              "      <td>39.198497</td>\n",
              "      <td>-77.256101</td>\n",
              "      <td>5D</td>\n",
              "      <td>(39.1985, -77.2561)</td>\n",
              "    </tr>\n",
              "    <tr>\n",
              "      <th>1</th>\n",
              "      <td>201224996</td>\n",
              "      <td>5404</td>\n",
              "      <td>190004825</td>\n",
              "      <td>1/31/19 1:00</td>\n",
              "      <td>90D</td>\n",
              "      <td>1</td>\n",
              "      <td>Crime Against Society</td>\n",
              "      <td>Driving Under the Influence</td>\n",
              "      <td>DRIVING UNDER THE INFLUENCE LIQUOR</td>\n",
              "      <td>MONTGOMERY VILLAGE</td>\n",
              "      <td>NaN</td>\n",
              "      <td>GAITHERSBURG</td>\n",
              "      <td>MD</td>\n",
              "      <td>20877.0</td>\n",
              "      <td>GPD</td>\n",
              "      <td>Street - In vehicle</td>\n",
              "      <td>P</td>\n",
              "      <td>6P3</td>\n",
              "      <td>419.0</td>\n",
              "      <td>NaN</td>\n",
              "      <td>E</td>\n",
              "      <td>DIAMOND</td>\n",
              "      <td>NaN</td>\n",
              "      <td>AVE</td>\n",
              "      <td>1/31/19 1:00</td>\n",
              "      <td>NaN</td>\n",
              "      <td>39.139127</td>\n",
              "      <td>-77.180281</td>\n",
              "      <td>6D</td>\n",
              "      <td>(39.1391, -77.1803)</td>\n",
              "    </tr>\n",
              "    <tr>\n",
              "      <th>2</th>\n",
              "      <td>201224993</td>\n",
              "      <td>5404</td>\n",
              "      <td>190004824</td>\n",
              "      <td>1/31/19 1:17</td>\n",
              "      <td>90D</td>\n",
              "      <td>1</td>\n",
              "      <td>Crime Against Society</td>\n",
              "      <td>Driving Under the Influence</td>\n",
              "      <td>DRIVING UNDER THE INFLUENCE LIQUOR</td>\n",
              "      <td>SILVER SPRING</td>\n",
              "      <td>NaN</td>\n",
              "      <td>SILVER SPRING</td>\n",
              "      <td>MD</td>\n",
              "      <td>20904.0</td>\n",
              "      <td>MCPD</td>\n",
              "      <td>Street - Other</td>\n",
              "      <td>I</td>\n",
              "      <td>3I1</td>\n",
              "      <td>151.0</td>\n",
              "      <td>NaN</td>\n",
              "      <td>NaN</td>\n",
              "      <td>NEW HAMPSHIRE</td>\n",
              "      <td>NaN</td>\n",
              "      <td>AVE</td>\n",
              "      <td>1/31/19 1:05</td>\n",
              "      <td>NaN</td>\n",
              "      <td>39.050660</td>\n",
              "      <td>-76.993305</td>\n",
              "      <td>3D</td>\n",
              "      <td>(39.0507, -76.9933)</td>\n",
              "    </tr>\n",
              "    <tr>\n",
              "      <th>3</th>\n",
              "      <td>201224995</td>\n",
              "      <td>1399</td>\n",
              "      <td>190004826</td>\n",
              "      <td>1/31/19 1:54</td>\n",
              "      <td>13B</td>\n",
              "      <td>1</td>\n",
              "      <td>Crime Against Person</td>\n",
              "      <td>Simple Assault</td>\n",
              "      <td>ASSAULT - 2ND DEGREE</td>\n",
              "      <td>MONTGOMERY VILLAGE</td>\n",
              "      <td>1100 BLK  WEST SIDE DR</td>\n",
              "      <td>GAITHERSBURG</td>\n",
              "      <td>MD</td>\n",
              "      <td>20878.0</td>\n",
              "      <td>MCPD</td>\n",
              "      <td>Residence -Townhouse/Duplex</td>\n",
              "      <td>P</td>\n",
              "      <td>6P1</td>\n",
              "      <td>550.0</td>\n",
              "      <td>1100.0</td>\n",
              "      <td>NaN</td>\n",
              "      <td>WEST SIDE</td>\n",
              "      <td>NaN</td>\n",
              "      <td>DR</td>\n",
              "      <td>1/31/19 1:54</td>\n",
              "      <td>NaN</td>\n",
              "      <td>39.124450</td>\n",
              "      <td>-77.203323</td>\n",
              "      <td>6D</td>\n",
              "      <td>(39.1245, -77.2033)</td>\n",
              "    </tr>\n",
              "    <tr>\n",
              "      <th>4</th>\n",
              "      <td>201224995</td>\n",
              "      <td>9106</td>\n",
              "      <td>190004826</td>\n",
              "      <td>1/31/19 1:54</td>\n",
              "      <td>90Z</td>\n",
              "      <td>1</td>\n",
              "      <td>Other</td>\n",
              "      <td>All Other Offenses</td>\n",
              "      <td>MENTAL ILLNESS</td>\n",
              "      <td>MONTGOMERY VILLAGE</td>\n",
              "      <td>1100 BLK  WEST SIDE DR</td>\n",
              "      <td>GAITHERSBURG</td>\n",
              "      <td>MD</td>\n",
              "      <td>20878.0</td>\n",
              "      <td>MCPD</td>\n",
              "      <td>Residence -Townhouse/Duplex</td>\n",
              "      <td>P</td>\n",
              "      <td>6P1</td>\n",
              "      <td>550.0</td>\n",
              "      <td>1100.0</td>\n",
              "      <td>NaN</td>\n",
              "      <td>WEST SIDE</td>\n",
              "      <td>NaN</td>\n",
              "      <td>DR</td>\n",
              "      <td>1/31/19 1:54</td>\n",
              "      <td>NaN</td>\n",
              "      <td>39.124450</td>\n",
              "      <td>-77.203323</td>\n",
              "      <td>6D</td>\n",
              "      <td>(39.1245, -77.2033)</td>\n",
              "    </tr>\n",
              "  </tbody>\n",
              "</table>\n",
              "</div>"
            ],
            "text/plain": [
              "   Incident ID  Offence Code  ...  Police District Number             Location\n",
              "0    201224991          2303  ...                      5D  (39.1985, -77.2561)\n",
              "1    201224996          5404  ...                      6D  (39.1391, -77.1803)\n",
              "2    201224993          5404  ...                      3D  (39.0507, -76.9933)\n",
              "3    201224995          1399  ...                      6D  (39.1245, -77.2033)\n",
              "4    201224995          9106  ...                      6D  (39.1245, -77.2033)\n",
              "\n",
              "[5 rows x 30 columns]"
            ]
          },
          "metadata": {
            "tags": []
          },
          "execution_count": 4
        }
      ]
    },
    {
      "cell_type": "code",
      "metadata": {
        "colab": {
          "base_uri": "https://localhost:8080/"
        },
        "id": "XgJWWZzoupQx",
        "outputId": "3a50c525-3629-4917-cd58-e99ccf5f2409"
      },
      "source": [
        "df.info()"
      ],
      "execution_count": 5,
      "outputs": [
        {
          "output_type": "stream",
          "text": [
            "<class 'pandas.core.frame.DataFrame'>\n",
            "RangeIndex: 90366 entries, 0 to 90365\n",
            "Data columns (total 30 columns):\n",
            " #   Column                  Non-Null Count  Dtype  \n",
            "---  ------                  --------------  -----  \n",
            " 0   Incident ID             90366 non-null  int64  \n",
            " 1   Offence Code            90366 non-null  int64  \n",
            " 2   CR Number               90366 non-null  int64  \n",
            " 3   Dispatch Date / Time    90366 non-null  object \n",
            " 4   NIBRS Code              90366 non-null  object \n",
            " 5   Victims                 90366 non-null  int64  \n",
            " 6   Crime Name1             90230 non-null  object \n",
            " 7   Crime Name2             90230 non-null  object \n",
            " 8   Crime Name3             90230 non-null  object \n",
            " 9   Police District Name    90366 non-null  object \n",
            " 10  Block Address           82327 non-null  object \n",
            " 11  City                    89886 non-null  object \n",
            " 12  State                   90366 non-null  object \n",
            " 13  Zip Code                90355 non-null  float64\n",
            " 14  Agency                  90366 non-null  object \n",
            " 15  Place                   90366 non-null  object \n",
            " 16  Sector                  90332 non-null  object \n",
            " 17  Beat                    90332 non-null  object \n",
            " 18  PRA                     90333 non-null  float64\n",
            " 19  Address Number          82362 non-null  float64\n",
            " 20  Street Prefix           4117 non-null   object \n",
            " 21  Street Name             90366 non-null  object \n",
            " 22  Street Suffix           1489 non-null   object \n",
            " 23  Street Type             90328 non-null  object \n",
            " 24  Start_Date_Time         90366 non-null  object \n",
            " 25  End_Date_Time           42427 non-null  object \n",
            " 26  Latitude                90366 non-null  float64\n",
            " 27  Longitude               90366 non-null  float64\n",
            " 28  Police District Number  90366 non-null  object \n",
            " 29  Location                90366 non-null  object \n",
            "dtypes: float64(5), int64(4), object(21)\n",
            "memory usage: 20.7+ MB\n"
          ],
          "name": "stdout"
        }
      ]
    },
    {
      "cell_type": "code",
      "metadata": {
        "id": "gAgoU1nUrep6"
      },
      "source": [
        "# Setting to date time and making date the index\n",
        "# df.index = pd.to_datetime(df.index, dayfirst=True)\n",
        "# df.head()"
      ],
      "execution_count": null,
      "outputs": []
    },
    {
      "cell_type": "code",
      "metadata": {
        "colab": {
          "base_uri": "https://localhost:8080/",
          "height": 334
        },
        "id": "eK0eRfcVbsGr",
        "outputId": "21ded928-fa9b-45a3-8c74-5590e5750a5e"
      },
      "source": [
        "df.describe()"
      ],
      "execution_count": 6,
      "outputs": [
        {
          "output_type": "execute_result",
          "data": {
            "text/html": [
              "<div>\n",
              "<style scoped>\n",
              "    .dataframe tbody tr th:only-of-type {\n",
              "        vertical-align: middle;\n",
              "    }\n",
              "\n",
              "    .dataframe tbody tr th {\n",
              "        vertical-align: top;\n",
              "    }\n",
              "\n",
              "    .dataframe thead th {\n",
              "        text-align: right;\n",
              "    }\n",
              "</style>\n",
              "<table border=\"1\" class=\"dataframe\">\n",
              "  <thead>\n",
              "    <tr style=\"text-align: right;\">\n",
              "      <th></th>\n",
              "      <th>Incident ID</th>\n",
              "      <th>Offence Code</th>\n",
              "      <th>CR Number</th>\n",
              "      <th>Victims</th>\n",
              "      <th>Zip Code</th>\n",
              "      <th>PRA</th>\n",
              "      <th>Address Number</th>\n",
              "      <th>Latitude</th>\n",
              "      <th>Longitude</th>\n",
              "    </tr>\n",
              "  </thead>\n",
              "  <tbody>\n",
              "    <tr>\n",
              "      <th>count</th>\n",
              "      <td>9.036600e+04</td>\n",
              "      <td>90366.000000</td>\n",
              "      <td>9.036600e+04</td>\n",
              "      <td>90366.000000</td>\n",
              "      <td>90355.000000</td>\n",
              "      <td>90333.000000</td>\n",
              "      <td>8.236200e+04</td>\n",
              "      <td>90366.000000</td>\n",
              "      <td>90366.000000</td>\n",
              "    </tr>\n",
              "    <tr>\n",
              "      <th>mean</th>\n",
              "      <td>2.012721e+08</td>\n",
              "      <td>4272.075460</td>\n",
              "      <td>1.956139e+08</td>\n",
              "      <td>1.023095</td>\n",
              "      <td>20877.005489</td>\n",
              "      <td>370.693988</td>\n",
              "      <td>8.378410e+03</td>\n",
              "      <td>38.983213</td>\n",
              "      <td>-76.922537</td>\n",
              "    </tr>\n",
              "    <tr>\n",
              "      <th>std</th>\n",
              "      <td>2.745720e+04</td>\n",
              "      <td>2860.022685</td>\n",
              "      <td>5.646916e+06</td>\n",
              "      <td>0.185062</td>\n",
              "      <td>34.102771</td>\n",
              "      <td>207.338193</td>\n",
              "      <td>1.668048e+04</td>\n",
              "      <td>1.948943</td>\n",
              "      <td>3.844305</td>\n",
              "    </tr>\n",
              "    <tr>\n",
              "      <th>min</th>\n",
              "      <td>2.012250e+08</td>\n",
              "      <td>301.000000</td>\n",
              "      <td>1.900048e+08</td>\n",
              "      <td>1.000000</td>\n",
              "      <td>20001.000000</td>\n",
              "      <td>1.000000</td>\n",
              "      <td>1.000000e+00</td>\n",
              "      <td>0.000000</td>\n",
              "      <td>-77.516753</td>\n",
              "    </tr>\n",
              "    <tr>\n",
              "      <th>25%</th>\n",
              "      <td>2.012472e+08</td>\n",
              "      <td>2305.000000</td>\n",
              "      <td>1.900323e+08</td>\n",
              "      <td>1.000000</td>\n",
              "      <td>20853.000000</td>\n",
              "      <td>189.000000</td>\n",
              "      <td>1.600000e+03</td>\n",
              "      <td>39.022084</td>\n",
              "      <td>-77.196526</td>\n",
              "    </tr>\n",
              "    <tr>\n",
              "      <th>50%</th>\n",
              "      <td>2.012739e+08</td>\n",
              "      <td>2610.000000</td>\n",
              "      <td>2.000024e+08</td>\n",
              "      <td>1.000000</td>\n",
              "      <td>20878.000000</td>\n",
              "      <td>370.000000</td>\n",
              "      <td>8.100000e+03</td>\n",
              "      <td>39.074972</td>\n",
              "      <td>-77.104467</td>\n",
              "    </tr>\n",
              "    <tr>\n",
              "      <th>75%</th>\n",
              "      <td>2.012960e+08</td>\n",
              "      <td>5404.000000</td>\n",
              "      <td>2.000288e+08</td>\n",
              "      <td>1.000000</td>\n",
              "      <td>20904.000000</td>\n",
              "      <td>519.000000</td>\n",
              "      <td>1.240000e+04</td>\n",
              "      <td>39.142200</td>\n",
              "      <td>-77.032272</td>\n",
              "    </tr>\n",
              "    <tr>\n",
              "      <th>max</th>\n",
              "      <td>2.013184e+08</td>\n",
              "      <td>9201.000000</td>\n",
              "      <td>2.100041e+08</td>\n",
              "      <td>8.000000</td>\n",
              "      <td>22181.000000</td>\n",
              "      <td>808.000000</td>\n",
              "      <td>2.090600e+06</td>\n",
              "      <td>39.342046</td>\n",
              "      <td>0.000000</td>\n",
              "    </tr>\n",
              "  </tbody>\n",
              "</table>\n",
              "</div>"
            ],
            "text/plain": [
              "        Incident ID  Offence Code  ...      Latitude     Longitude\n",
              "count  9.036600e+04  90366.000000  ...  90366.000000  90366.000000\n",
              "mean   2.012721e+08   4272.075460  ...     38.983213    -76.922537\n",
              "std    2.745720e+04   2860.022685  ...      1.948943      3.844305\n",
              "min    2.012250e+08    301.000000  ...      0.000000    -77.516753\n",
              "25%    2.012472e+08   2305.000000  ...     39.022084    -77.196526\n",
              "50%    2.012739e+08   2610.000000  ...     39.074972    -77.104467\n",
              "75%    2.012960e+08   5404.000000  ...     39.142200    -77.032272\n",
              "max    2.013184e+08   9201.000000  ...     39.342046      0.000000\n",
              "\n",
              "[8 rows x 9 columns]"
            ]
          },
          "metadata": {
            "tags": []
          },
          "execution_count": 6
        }
      ]
    },
    {
      "cell_type": "code",
      "metadata": {
        "colab": {
          "base_uri": "https://localhost:8080/"
        },
        "id": "AdBmh4nebvge",
        "outputId": "306bbd9e-766f-4906-997a-2c7324130089"
      },
      "source": [
        "df.shape"
      ],
      "execution_count": 7,
      "outputs": [
        {
          "output_type": "execute_result",
          "data": {
            "text/plain": [
              "(90366, 30)"
            ]
          },
          "metadata": {
            "tags": []
          },
          "execution_count": 7
        }
      ]
    },
    {
      "cell_type": "code",
      "metadata": {
        "id": "_IaY00qtkKNF"
      },
      "source": [
        "# make datetime - can also do it at dataframe level, put datetime in dictionary \n",
        "df.arrest_date = pd.to_datetime(df.arrest_date)\n",
        "df.head(1)"
      ],
      "execution_count": null,
      "outputs": []
    },
    {
      "cell_type": "code",
      "metadata": {
        "id": "FeComgkSkWzr"
      },
      "source": [
        "df.info()"
      ],
      "execution_count": null,
      "outputs": []
    },
    {
      "cell_type": "code",
      "metadata": {
        "id": "55m_IVAq5v5i"
      },
      "source": [
        "del df['street']\n"
      ],
      "execution_count": null,
      "outputs": []
    },
    {
      "cell_type": "code",
      "metadata": {
        "id": "iAjmMikn6JTG"
      },
      "source": [
        "df.head(1)"
      ],
      "execution_count": null,
      "outputs": []
    },
    {
      "cell_type": "code",
      "metadata": {
        "id": "9gVGP4tK6WjN"
      },
      "source": [
        "del df['last_name']"
      ],
      "execution_count": null,
      "outputs": []
    },
    {
      "cell_type": "code",
      "metadata": {
        "id": "XfuEqAmd6Z_k"
      },
      "source": [
        "df.head(1)"
      ],
      "execution_count": null,
      "outputs": []
    },
    {
      "cell_type": "code",
      "metadata": {
        "id": "EXvlOk026cgk"
      },
      "source": [
        "del df['first_name']\n",
        "del df['middle_name']\n"
      ],
      "execution_count": null,
      "outputs": []
    },
    {
      "cell_type": "code",
      "metadata": {
        "id": "gDTTf72n7DPf"
      },
      "source": [
        "df.head(1)"
      ],
      "execution_count": null,
      "outputs": []
    },
    {
      "cell_type": "code",
      "metadata": {
        "id": "gvxrxKHM7bWt"
      },
      "source": [
        "# Group by offense sum\n",
        "df_off = df.groupby(['offense'], as_index=False).agg({'offense': sum})\n",
        "df_off"
      ],
      "execution_count": null,
      "outputs": []
    },
    {
      "cell_type": "code",
      "metadata": {
        "id": "HM14079LW3JE"
      },
      "source": [
        "df_date = df[['offense', 'arrest_date']]\n",
        "df_date"
      ],
      "execution_count": null,
      "outputs": []
    },
    {
      "cell_type": "code",
      "metadata": {
        "id": "0qIjb4YuY-bQ"
      },
      "source": [
        "# Create separate columns for month day and year \n",
        "df_date.arrest_date = pd.to_datetime(df_date.arrest_date)"
      ],
      "execution_count": null,
      "outputs": []
    },
    {
      "cell_type": "code",
      "metadata": {
        "id": "FWwvndhQYaFl"
      },
      "source": [
        "df_date[['month', 'year']] = df_date.arrest_date.apply(lambda x: pd.Series(x.strftime(\"%m, %Y\").split(\",\")))\n",
        "df_date"
      ],
      "execution_count": null,
      "outputs": []
    },
    {
      "cell_type": "code",
      "metadata": {
        "id": "J-oPPMX9agAh"
      },
      "source": [
        "GB = df_date.groupby([(df_date.year),(df_date.month)]).sum()\n",
        "GB"
      ],
      "execution_count": null,
      "outputs": []
    }
  ]
}