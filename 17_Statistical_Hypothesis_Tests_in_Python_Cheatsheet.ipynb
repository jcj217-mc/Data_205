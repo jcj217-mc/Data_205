{
  "nbformat": 4,
  "nbformat_minor": 0,
  "metadata": {
    "colab": {
      "name": "17 Statistical Hypothesis Tests in Python Cheatsheet.ipynb",
      "provenance": [],
      "collapsed_sections": [],
      "authorship_tag": "ABX9TyOoLV0PjFCe4MqFM81oZVa1",
      "include_colab_link": true
    },
    "kernelspec": {
      "name": "python3",
      "display_name": "Python 3"
    },
    "language_info": {
      "name": "python"
    }
  },
  "cells": [
    {
      "cell_type": "markdown",
      "metadata": {
        "id": "view-in-github",
        "colab_type": "text"
      },
      "source": [
        "<a href=\"https://colab.research.google.com/github/jcj217-mc/Data_205/blob/main/17_Statistical_Hypothesis_Tests_in_Python_Cheatsheet.ipynb\" target=\"_parent\"><img src=\"https://colab.research.google.com/assets/colab-badge.svg\" alt=\"Open In Colab\"/></a>"
      ]
    },
    {
      "cell_type": "code",
      "metadata": {
        "id": "Rj9ahIQUfy6o"
      },
      "source": [
        "Notes from: https://machinelearningmastery.com/statistical-hypothesis-tests-in-python-cheat-sheet/ "
      ],
      "execution_count": null,
      "outputs": []
    },
    {
      "cell_type": "markdown",
      "metadata": {
        "id": "iiw7Ze3mgmyp"
      },
      "source": [
        "## **1. Normality Tests**\n",
        "\n",
        "This section lists statistical tests that you can use to check if your data has a Gaussian distribution.\n"
      ]
    },
    {
      "cell_type": "markdown",
      "metadata": {
        "id": "At59vHI_fuvZ"
      },
      "source": [
        "#### **Shapiro-Wilk Test**\n",
        "Tests whether a data sample has a Gaussian distribution.\n",
        "\n",
        "**Assumptions**\n",
        "\n",
        "Observations in each sample are independent and identically distributed (iid).\n",
        "Interpretation\n",
        "\n",
        "H0: the sample has a Gaussian distribution.\n",
        "H1: the sample does not have a Gaussian distribution."
      ]
    },
    {
      "cell_type": "code",
      "metadata": {
        "colab": {
          "base_uri": "https://localhost:8080/"
        },
        "id": "3niuD-3tffyQ",
        "outputId": "222ea177-31f4-4c9c-abbf-068bd4063d31"
      },
      "source": [
        "\n",
        "# Example of the Shapiro-Wilk Normality Test\n",
        "from scipy.stats import shapiro\n",
        "data = [0.873, 2.817, 0.121, -0.945, -0.055, -1.436, 0.360, -1.478, -1.637, -1.869]\n",
        "stat, p = shapiro(data)\n",
        "print('stat=%.3f, p=%.3f' % (stat, p))\n",
        "if p > 0.05:\n",
        "\tprint('Probably Gaussian')\n",
        "else:\n",
        "\tprint('Probably not Gaussian')"
      ],
      "execution_count": 1,
      "outputs": [
        {
          "output_type": "stream",
          "text": [
            "stat=0.895, p=0.193\n",
            "Probably Gaussian\n"
          ],
          "name": "stdout"
        }
      ]
    },
    {
      "cell_type": "markdown",
      "metadata": {
        "id": "QVlbBJN9f87-"
      },
      "source": [
        "## **D’Agostino’s K^2 Test**\n",
        "Tests whether a data sample has a Gaussian distribution.\n",
        "\n",
        "**Assumptions**\n",
        "\n",
        "Observations in each sample are independent and identically distributed (iid).\n",
        "Interpretation\n",
        "\n",
        "H0: the sample has a Gaussian distribution.\n",
        "H1: the sample does not have a Gaussian distribution.\n",
        "Python Code"
      ]
    },
    {
      "cell_type": "code",
      "metadata": {
        "colab": {
          "base_uri": "https://localhost:8080/"
        },
        "id": "LEpO1mQ-f8e6",
        "outputId": "6840f6d7-cf69-46c7-c0fd-1ab368ef9848"
      },
      "source": [
        "# Example of the D'Agostino's K^2 Normality Test\n",
        "from scipy.stats import normaltest\n",
        "data = [0.873, 2.817, 0.121, -0.945, -0.055, -1.436, 0.360, -1.478, -1.637, -1.869]\n",
        "stat, p = normaltest(data)\n",
        "print('stat=%.3f, p=%.3f' % (stat, p))\n",
        "if p > 0.05:\n",
        "\tprint('Probably Gaussian')\n",
        "else:\n",
        "\tprint('Probably not Gaussian')"
      ],
      "execution_count": 2,
      "outputs": [
        {
          "output_type": "stream",
          "text": [
            "stat=3.392, p=0.183\n",
            "Probably Gaussian\n"
          ],
          "name": "stdout"
        },
        {
          "output_type": "stream",
          "text": [
            "/usr/local/lib/python3.7/dist-packages/scipy/stats/stats.py:1535: UserWarning: kurtosistest only valid for n>=20 ... continuing anyway, n=10\n",
            "  \"anyway, n=%i\" % int(n))\n"
          ],
          "name": "stderr"
        }
      ]
    },
    {
      "cell_type": "markdown",
      "metadata": {
        "id": "NAQA-etCgK94"
      },
      "source": [
        "## **Anderson-Darling Test**\n",
        "Tests whether a data sample has a Gaussian distribution.\n",
        "\n",
        "**Assumptions**\n",
        "\n",
        "Observations in each sample are independent and identically distributed (iid).\n",
        "Interpretation\n",
        "\n",
        "H0: the sample has a Gaussian distribution.\n",
        "H1: the sample does not have a Gaussian distribution.\n",
        "Python Code"
      ]
    },
    {
      "cell_type": "code",
      "metadata": {
        "colab": {
          "base_uri": "https://localhost:8080/"
        },
        "id": "Blvor-L4gLRE",
        "outputId": "01377f94-5e95-42eb-ec9d-2bd266cb3b41"
      },
      "source": [
        "# Example of the Anderson-Darling Normality Test\n",
        "from scipy.stats import anderson\n",
        "data = [0.873, 2.817, 0.121, -0.945, -0.055, -1.436, 0.360, -1.478, -1.637, -1.869]\n",
        "result = anderson(data)\n",
        "print('stat=%.3f' % (result.statistic))\n",
        "for i in range(len(result.critical_values)):\n",
        "\tsl, cv = result.significance_level[i], result.critical_values[i]\n",
        "\tif result.statistic < cv:\n",
        "\t\tprint('Probably Gaussian at the %.1f%% level' % (sl))\n",
        "\telse:\n",
        "\t\tprint('Probably not Gaussian at the %.1f%% level' % (sl))"
      ],
      "execution_count": 3,
      "outputs": [
        {
          "output_type": "stream",
          "text": [
            "stat=0.424\n",
            "Probably Gaussian at the 15.0% level\n",
            "Probably Gaussian at the 10.0% level\n",
            "Probably Gaussian at the 5.0% level\n",
            "Probably Gaussian at the 2.5% level\n",
            "Probably Gaussian at the 1.0% level\n"
          ],
          "name": "stdout"
        }
      ]
    },
    {
      "cell_type": "markdown",
      "metadata": {
        "id": "qrBUydqwgeeK"
      },
      "source": [
        "##**2. Correlation Tests**\n",
        "\n",
        "This section lists statistical tests that you can use to check if two samples are related."
      ]
    },
    {
      "cell_type": "markdown",
      "metadata": {
        "id": "RxRvsoAxgyD2"
      },
      "source": [
        "####**Pearson’s Correlation Coefficient**\n",
        "Tests whether two samples have a linear relationship.\n",
        "\n",
        "**Assumptions**\n",
        "\n",
        "Observations in each sample are independent and identically distributed (iid).\n",
        "Observations in each sample are normally distributed.\n",
        "Observations in each sample have the same variance.\n",
        "\n",
        "**Interpretation**\n",
        "\n",
        "H0: the two samples are independent.\n",
        "H1: there is a dependency between the samples.\n",
        "Python Code"
      ]
    },
    {
      "cell_type": "code",
      "metadata": {
        "colab": {
          "base_uri": "https://localhost:8080/"
        },
        "id": "t75SXTTIgen5",
        "outputId": "e1d4473a-a47b-40f8-a76e-bc346533f7d8"
      },
      "source": [
        "# Example of the Pearson's Correlation test\n",
        "from scipy.stats import pearsonr\n",
        "data1 = [0.873, 2.817, 0.121, -0.945, -0.055, -1.436, 0.360, -1.478, -1.637, -1.869]\n",
        "data2 = [0.353, 3.517, 0.125, -7.545, -0.555, -1.536, 3.350, -1.578, -3.537, -1.579]\n",
        "stat, p = pearsonr(data1, data2)\n",
        "print('stat=%.3f, p=%.3f' % (stat, p))\n",
        "if p > 0.05:\n",
        "\tprint('Probably independent')\n",
        "else:\n",
        "\tprint('Probably dependent')"
      ],
      "execution_count": 4,
      "outputs": [
        {
          "output_type": "stream",
          "text": [
            "stat=0.688, p=0.028\n",
            "Probably dependent\n"
          ],
          "name": "stdout"
        }
      ]
    },
    {
      "cell_type": "markdown",
      "metadata": {
        "id": "O-5PK0q7hSzR"
      },
      "source": [
        "#### **Spearman’s Rank Correlation**\n",
        "Tests whether two samples have a monotonic relationship.\n",
        "\n",
        "**Assumptions**\n",
        "\n",
        "Observations in each sample are independent and identically distributed (iid).\n",
        "Observations in each sample can be ranked.\n",
        "\n",
        "**Interpretation**\n",
        "\n",
        "H0: the two samples are independent.\n",
        "H1: there is a dependency between the samples.\n",
        "Python Code"
      ]
    },
    {
      "cell_type": "code",
      "metadata": {
        "colab": {
          "base_uri": "https://localhost:8080/"
        },
        "id": "Vn2SAJiUhcJn",
        "outputId": "f5ff89cf-7cd3-4bd2-a6d6-07ff3f89f19f"
      },
      "source": [
        "# Example of the Spearman's Rank Correlation Test\n",
        "from scipy.stats import spearmanr\n",
        "data1 = [0.873, 2.817, 0.121, -0.945, -0.055, -1.436, 0.360, -1.478, -1.637, -1.869]\n",
        "data2 = [0.353, 3.517, 0.125, -7.545, -0.555, -1.536, 3.350, -1.578, -3.537, -1.579]\n",
        "stat, p = spearmanr(data1, data2)\n",
        "print('stat=%.3f, p=%.3f' % (stat, p))\n",
        "if p > 0.05:\n",
        "\tprint('Probably independent')\n",
        "else:\n",
        "\tprint('Probably dependent')"
      ],
      "execution_count": 5,
      "outputs": [
        {
          "output_type": "stream",
          "text": [
            "stat=0.855, p=0.002\n",
            "Probably dependent\n"
          ],
          "name": "stdout"
        }
      ]
    },
    {
      "cell_type": "markdown",
      "metadata": {
        "id": "k_fx9MTKhhXM"
      },
      "source": [
        "#### **Kendall’s Rank Correlation**\n",
        "Tests whether two samples have a monotonic relationship.\n",
        "\n",
        "**Assumptions**\n",
        "\n",
        "Observations in each sample are independent and identically distributed (iid).\n",
        "Observations in each sample can be ranked.\n",
        "\n",
        "**Interpretation**\n",
        "\n",
        "H0: the two samples are independent.\n",
        "H1: there is a dependency between the samples.\n",
        "\n",
        "Python Code"
      ]
    },
    {
      "cell_type": "code",
      "metadata": {
        "colab": {
          "base_uri": "https://localhost:8080/"
        },
        "id": "jh6V0EBah1Cs",
        "outputId": "6775cdbd-dcda-497a-c07f-50498592ce2e"
      },
      "source": [
        "# Example of the Kendall's Rank Correlation Test\n",
        "from scipy.stats import kendalltau\n",
        "data1 = [0.873, 2.817, 0.121, -0.945, -0.055, -1.436, 0.360, -1.478, -1.637, -1.869]\n",
        "data2 = [0.353, 3.517, 0.125, -7.545, -0.555, -1.536, 3.350, -1.578, -3.537, -1.579]\n",
        "stat, p = kendalltau(data1, data2)\n",
        "print('stat=%.3f, p=%.3f' % (stat, p))\n",
        "if p > 0.05:\n",
        "\tprint('Probably independent')\n",
        "else:\n",
        "\tprint('Probably dependent')"
      ],
      "execution_count": 6,
      "outputs": [
        {
          "output_type": "stream",
          "text": [
            "stat=0.733, p=0.002\n",
            "Probably dependent\n"
          ],
          "name": "stdout"
        }
      ]
    },
    {
      "cell_type": "markdown",
      "metadata": {
        "id": "QJinaqPkh8_n"
      },
      "source": [
        "#### **Chi-Squared Test**\n",
        "Tests whether two categorical variables are related or independent.\n",
        "\n",
        "**Assumptions**\n",
        "\n",
        "Observations used in the calculation of the contingency table are independent.\n",
        "25 or more examples in each cell of the contingency table.\n",
        "\n",
        "**Interpretation**\n",
        "\n",
        "H0: the two samples are independent.\n",
        "H1: there is a dependency between the samples.\n",
        "\n",
        "Python Code"
      ]
    },
    {
      "cell_type": "code",
      "metadata": {
        "colab": {
          "base_uri": "https://localhost:8080/"
        },
        "id": "kAMJoAL0iPJo",
        "outputId": "4672176e-9602-47aa-b575-8ea9ab79c1e9"
      },
      "source": [
        "# Example of the Chi-Squared Test\n",
        "from scipy.stats import chi2_contingency\n",
        "table = [[10, 20, 30],[6,  9,  17]]\n",
        "stat, p, dof, expected = chi2_contingency(table)\n",
        "print('stat=%.3f, p=%.3f' % (stat, p))\n",
        "if p > 0.05:\n",
        "\tprint('Probably independent')\n",
        "else:\n",
        "\tprint('Probably dependent')"
      ],
      "execution_count": 7,
      "outputs": [
        {
          "output_type": "stream",
          "text": [
            "stat=0.272, p=0.873\n",
            "Probably independent\n"
          ],
          "name": "stdout"
        }
      ]
    },
    {
      "cell_type": "markdown",
      "metadata": {
        "id": "OllZgupoiWBC"
      },
      "source": [
        "##**3. Stationary Tests**\n",
        "This section lists statistical tests that you can use to check if a time series is stationary or not.\n",
        "\n",
        "#### **Augmented Dickey-Fuller Unit Root Test**\n",
        "Tests whether a time series has a unit root, e.g. has a trend or more generally is autoregressive.\n",
        "\n",
        "**Assumptions**\n",
        "\n",
        "Observations in are temporally ordered.\n",
        "\n",
        "**Interpretation**\n",
        "\n",
        "H0: a unit root is present (series is non-stationary).\n",
        "H1: a unit root is not present (series is stationary).\n",
        "\n",
        "Python Code"
      ]
    },
    {
      "cell_type": "code",
      "metadata": {
        "colab": {
          "base_uri": "https://localhost:8080/"
        },
        "id": "0iBdDW7FigXn",
        "outputId": "8530da70-bced-4627-d212-53f5da91c991"
      },
      "source": [
        "# Example of the Augmented Dickey-Fuller unit root test\n",
        "from statsmodels.tsa.stattools import adfuller\n",
        "data = [0, 1, 2, 3, 4, 5, 6, 7, 8, 9]\n",
        "stat, p, lags, obs, crit, t = adfuller(data)\n",
        "print('stat=%.3f, p=%.3f' % (stat, p))\n",
        "if p > 0.05:\n",
        "\tprint('Probably not Stationary')\n",
        "else:\n",
        "\tprint('Probably Stationary')"
      ],
      "execution_count": 8,
      "outputs": [
        {
          "output_type": "stream",
          "text": [
            "/usr/local/lib/python3.7/dist-packages/statsmodels/tools/_testing.py:19: FutureWarning: pandas.util.testing is deprecated. Use the functions in the public API at pandas.testing instead.\n",
            "  import pandas.util.testing as tm\n"
          ],
          "name": "stderr"
        },
        {
          "output_type": "stream",
          "text": [
            "stat=0.175, p=0.971\n",
            "Probably not Stationary\n"
          ],
          "name": "stdout"
        }
      ]
    },
    {
      "cell_type": "markdown",
      "metadata": {
        "id": "qEMRLqqkisIT"
      },
      "source": [
        "#### **Kwiatkowski-Phillips-Schmidt-Shin**\n",
        "Tests whether a time series is trend stationary or not.\n",
        "\n",
        "**Assumptions**\n",
        "\n",
        "Observations in are temporally ordered.\n",
        "\n",
        "**Interpretation**\n",
        "\n",
        "H0: the time series is not trend-stationary.\n",
        "H1: the time series is trend-stationary.\n",
        "\n",
        "Python Code"
      ]
    },
    {
      "cell_type": "code",
      "metadata": {
        "colab": {
          "base_uri": "https://localhost:8080/"
        },
        "id": "gMcKLUYTi2-f",
        "outputId": "53ccaee5-f261-490b-a001-f492ace54eb0"
      },
      "source": [
        "# Example of the Kwiatkowski-Phillips-Schmidt-Shin test\n",
        "from statsmodels.tsa.stattools import kpss\n",
        "data = [0, 1, 2, 3, 4, 5, 6, 7, 8, 9]\n",
        "stat, p, lags, crit = kpss(data)\n",
        "print('stat=%.3f, p=%.3f' % (stat, p))\n",
        "if p > 0.05:\n",
        "\tprint('Probably not Stationary')\n",
        "else:\n",
        "\tprint('Probably Stationary')"
      ],
      "execution_count": 9,
      "outputs": [
        {
          "output_type": "stream",
          "text": [
            "stat=0.410, p=0.073\n",
            "Probably not Stationary\n"
          ],
          "name": "stdout"
        },
        {
          "output_type": "stream",
          "text": [
            "/usr/local/lib/python3.7/dist-packages/statsmodels/tsa/stattools.py:1685: FutureWarning: The behavior of using lags=None will change in the next release. Currently lags=None is the same as lags='legacy', and so a sample-size lag length is used. After the next release, the default will change to be the same as lags='auto' which uses an automatic lag length selection method. To silence this warning, either use 'auto' or 'legacy'\n",
            "  warn(msg, FutureWarning)\n"
          ],
          "name": "stderr"
        }
      ]
    },
    {
      "cell_type": "markdown",
      "metadata": {
        "id": "UnUqWnyKi9Zp"
      },
      "source": [
        "##**4. Parametric Statistical Hypothesis Tests**\n",
        "This section lists statistical tests that you can use to compare data samples.\n",
        "\n",
        "####**Student’s t-test**\n",
        "Tests whether the means of two independent samples are significantly different.\n",
        "\n",
        "**Assumptions**\n",
        "\n",
        "Observations in each sample are independent and identically distributed (iid).\n",
        "Observations in each sample are normally distributed.\n",
        "Observations in each sample have the same variance.\n",
        "\n",
        "**Interpretation**\n",
        "\n",
        "H0: the means of the samples are equal.\n",
        "H1: the means of the samples are unequal.\n",
        "\n",
        "Python Code"
      ]
    },
    {
      "cell_type": "code",
      "metadata": {
        "colab": {
          "base_uri": "https://localhost:8080/"
        },
        "id": "JkEMdXtdjJPX",
        "outputId": "5295cc68-5686-4263-c2c6-fa57fd05549d"
      },
      "source": [
        "# Example of the Student's t-test\n",
        "from scipy.stats import ttest_ind\n",
        "data1 = [0.873, 2.817, 0.121, -0.945, -0.055, -1.436, 0.360, -1.478, -1.637, -1.869]\n",
        "data2 = [1.142, -0.432, -0.938, -0.729, -0.846, -0.157, 0.500, 1.183, -1.075, -0.169]\n",
        "stat, p = ttest_ind(data1, data2)\n",
        "print('stat=%.3f, p=%.3f' % (stat, p))\n",
        "if p > 0.05:\n",
        "\tprint('Probably the same distribution')\n",
        "else:\n",
        "\tprint('Probably different distributions')"
      ],
      "execution_count": 10,
      "outputs": [
        {
          "output_type": "stream",
          "text": [
            "stat=-0.326, p=0.748\n",
            "Probably the same distribution\n"
          ],
          "name": "stdout"
        }
      ]
    },
    {
      "cell_type": "markdown",
      "metadata": {
        "id": "G9bWTsQ-jNcu"
      },
      "source": [
        "#### **Paired Student’s t-test**\n",
        "Tests whether the means of two paired samples are significantly different.\n",
        "\n",
        "**Assumptions**\n",
        "\n",
        "Observations in each sample are independent and identically distributed (iid).\n",
        "Observations in each sample are normally distributed.\n",
        "Observations in each sample have the same variance.\n",
        "Observations across each sample are paired.\n",
        "\n",
        "**Interpretation**\n",
        "\n",
        "H0: the means of the samples are equal.\n",
        "H1: the means of the samples are unequal.\n",
        "\n",
        "Python Code"
      ]
    },
    {
      "cell_type": "code",
      "metadata": {
        "colab": {
          "base_uri": "https://localhost:8080/"
        },
        "id": "T5lN0hQqjVTM",
        "outputId": "ae01ac8f-888d-42e1-f603-2ee07f228dac"
      },
      "source": [
        "# Example of the Paired Student's t-test\n",
        "from scipy.stats import ttest_rel\n",
        "data1 = [0.873, 2.817, 0.121, -0.945, -0.055, -1.436, 0.360, -1.478, -1.637, -1.869]\n",
        "data2 = [1.142, -0.432, -0.938, -0.729, -0.846, -0.157, 0.500, 1.183, -1.075, -0.169]\n",
        "stat, p = ttest_rel(data1, data2)\n",
        "print('stat=%.3f, p=%.3f' % (stat, p))\n",
        "if p > 0.05:\n",
        "\tprint('Probably the same distribution')\n",
        "else:\n",
        "\tprint('Probably different distributions')"
      ],
      "execution_count": 11,
      "outputs": [
        {
          "output_type": "stream",
          "text": [
            "stat=-0.334, p=0.746\n",
            "Probably the same distribution\n"
          ],
          "name": "stdout"
        }
      ]
    },
    {
      "cell_type": "markdown",
      "metadata": {
        "id": "EbNnnrN2jY1x"
      },
      "source": [
        "####**Analysis of Variance Test (ANOVA)**\n",
        "Tests whether the means of two or more independent samples are significantly different.\n",
        "\n",
        "**Assumptions**\n",
        "\n",
        "Observations in each sample are independent and identically distributed (iid).\n",
        "Observations in each sample are normally distributed.\n",
        "Observations in each sample have the same variance.\n",
        "\n",
        "**Interpretation**\n",
        "\n",
        "H0: the means of the samples are equal.\n",
        "H1: one or more of the means of the samples are unequal.\n",
        "\n",
        "Python Code"
      ]
    },
    {
      "cell_type": "code",
      "metadata": {
        "colab": {
          "base_uri": "https://localhost:8080/"
        },
        "id": "pIq0YZpjjhSO",
        "outputId": "ea35e9d2-d2cf-471d-d33e-ff1af2da7c73"
      },
      "source": [
        "# Example of the Analysis of Variance Test\n",
        "from scipy.stats import f_oneway\n",
        "data1 = [0.873, 2.817, 0.121, -0.945, -0.055, -1.436, 0.360, -1.478, -1.637, -1.869]\n",
        "data2 = [1.142, -0.432, -0.938, -0.729, -0.846, -0.157, 0.500, 1.183, -1.075, -0.169]\n",
        "data3 = [-0.208, 0.696, 0.928, -1.148, -0.213, 0.229, 0.137, 0.269, -0.870, -1.204]\n",
        "stat, p = f_oneway(data1, data2, data3)\n",
        "print('stat=%.3f, p=%.3f' % (stat, p))\n",
        "if p > 0.05:\n",
        "\tprint('Probably the same distribution')\n",
        "else:\n",
        "\tprint('Probably different distributions')"
      ],
      "execution_count": 12,
      "outputs": [
        {
          "output_type": "stream",
          "text": [
            "stat=0.096, p=0.908\n",
            "Probably the same distribution\n"
          ],
          "name": "stdout"
        }
      ]
    },
    {
      "cell_type": "markdown",
      "metadata": {
        "id": "4Czygbcyjwy4"
      },
      "source": [
        "####**Repeated Measures ANOVA Test**\n",
        "Tests whether the means of two or more paired samples are significantly different.\n",
        "\n",
        "**Assumptions**\n",
        "\n",
        "Observations in each sample are independent and identically distributed (iid).\n",
        "Observations in each sample are normally distributed.\n",
        "Observations in each sample have the same variance.\n",
        "Observations across each sample are paired.\n",
        "\n",
        "**Interpretation**\n",
        "\n",
        "H0: the means of the samples are equal.\n",
        "H1: one or more of the means of the samples are unequal.\n",
        "\n",
        "Python Code\n",
        "\n",
        "Currently not supported in Python. (As of 2018)"
      ]
    },
    {
      "cell_type": "markdown",
      "metadata": {
        "id": "eLmllvvjj3-T"
      },
      "source": [
        "##**5. Nonparametric Statistical Hypothesis Tests**\n",
        "\n",
        "####**Mann-Whitney U Test**\n",
        "Tests whether the distributions of two independent samples are equal or not.\n",
        "\n",
        "**Assumptions**\n",
        "\n",
        "Observations in each sample are independent and identically distributed (iid).\n",
        "Observations in each sample can be ranked.\n",
        "\n",
        "**Interpretation**\n",
        "\n",
        "H0: the distributions of both samples are equal.\n",
        "H1: the distributions of both samples are not equal.\n",
        "\n",
        "Python Code"
      ]
    },
    {
      "cell_type": "code",
      "metadata": {
        "colab": {
          "base_uri": "https://localhost:8080/"
        },
        "id": "__oNrRZbkH6r",
        "outputId": "0ddadaa3-4fbb-4b21-82ce-b060be1deec7"
      },
      "source": [
        "# Example of the Mann-Whitney U Test\n",
        "from scipy.stats import mannwhitneyu\n",
        "data1 = [0.873, 2.817, 0.121, -0.945, -0.055, -1.436, 0.360, -1.478, -1.637, -1.869]\n",
        "data2 = [1.142, -0.432, -0.938, -0.729, -0.846, -0.157, 0.500, 1.183, -1.075, -0.169]\n",
        "stat, p = mannwhitneyu(data1, data2)\n",
        "print('stat=%.3f, p=%.3f' % (stat, p))\n",
        "if p > 0.05:\n",
        "\tprint('Probably the same distribution')\n",
        "else:\n",
        "\tprint('Probably different distributions')"
      ],
      "execution_count": 13,
      "outputs": [
        {
          "output_type": "stream",
          "text": [
            "stat=40.000, p=0.236\n",
            "Probably the same distribution\n"
          ],
          "name": "stdout"
        }
      ]
    },
    {
      "cell_type": "markdown",
      "metadata": {
        "id": "WKVk-OQEkJHr"
      },
      "source": [
        "####**Wilcoxon Signed-Rank Test**\n",
        "Tests whether the distributions of two paired samples are equal or not.\n",
        "\n",
        "**Assumptions** \n",
        "\n",
        "Observations in each sample are independent and identically distributed (iid).\n",
        "Observations in each sample can be ranked.\n",
        "Observations across each sample are paired.\n",
        "\n",
        "**Interpretation**\n",
        "\n",
        "H0: the distributions of both samples are equal.\n",
        "H1: the distributions of both samples are not equal.\n",
        "\n",
        "Python Code"
      ]
    },
    {
      "cell_type": "code",
      "metadata": {
        "colab": {
          "base_uri": "https://localhost:8080/"
        },
        "id": "Y-34SynzkSt6",
        "outputId": "f1be314a-e30f-4a14-b92c-925caf3ece34"
      },
      "source": [
        "# Example of the Wilcoxon Signed-Rank Test\n",
        "from scipy.stats import wilcoxon\n",
        "data1 = [0.873, 2.817, 0.121, -0.945, -0.055, -1.436, 0.360, -1.478, -1.637, -1.869]\n",
        "data2 = [1.142, -0.432, -0.938, -0.729, -0.846, -0.157, 0.500, 1.183, -1.075, -0.169]\n",
        "stat, p = wilcoxon(data1, data2)\n",
        "print('stat=%.3f, p=%.3f' % (stat, p))\n",
        "if p > 0.05:\n",
        "\tprint('Probably the same distribution')\n",
        "else:\n",
        "\tprint('Probably different distributions')"
      ],
      "execution_count": 14,
      "outputs": [
        {
          "output_type": "stream",
          "text": [
            "stat=21.000, p=0.508\n",
            "Probably the same distribution\n"
          ],
          "name": "stdout"
        }
      ]
    },
    {
      "cell_type": "markdown",
      "metadata": {
        "id": "tpvxadEqkWSS"
      },
      "source": [
        "####**Kruskal-Wallis H Test**\n",
        "Tests whether the distributions of two or more independent samples are equal or not.\n",
        "\n",
        "**Assumptions**\n",
        "\n",
        "Observations in each sample are independent and identically distributed (iid).\n",
        "Observations in each sample can be ranked.\n",
        "\n",
        "**Interpretation**\n",
        "\n",
        "H0: the distributions of all samples are equal.\n",
        "H1: the distributions of one or more samples are not equal.\n",
        "\n",
        "Python Code"
      ]
    },
    {
      "cell_type": "code",
      "metadata": {
        "colab": {
          "base_uri": "https://localhost:8080/"
        },
        "id": "lOrPi9KHkfxF",
        "outputId": "e6dbcb66-9b03-43bd-cac6-0cc478e6703c"
      },
      "source": [
        "# Example of the Kruskal-Wallis H Test\n",
        "from scipy.stats import kruskal\n",
        "data1 = [0.873, 2.817, 0.121, -0.945, -0.055, -1.436, 0.360, -1.478, -1.637, -1.869]\n",
        "data2 = [1.142, -0.432, -0.938, -0.729, -0.846, -0.157, 0.500, 1.183, -1.075, -0.169]\n",
        "stat, p = kruskal(data1, data2)\n",
        "print('stat=%.3f, p=%.3f' % (stat, p))\n",
        "if p > 0.05:\n",
        "\tprint('Probably the same distribution')\n",
        "else:\n",
        "\tprint('Probably different distributions')"
      ],
      "execution_count": 15,
      "outputs": [
        {
          "output_type": "stream",
          "text": [
            "stat=0.571, p=0.450\n",
            "Probably the same distribution\n"
          ],
          "name": "stdout"
        }
      ]
    },
    {
      "cell_type": "markdown",
      "metadata": {
        "id": "jkTGCSF4kkWg"
      },
      "source": [
        "####**Friedman Test**\n",
        "Tests whether the distributions of two or more paired samples are equal or not.\n",
        "\n",
        "**Assumptions**\n",
        "\n",
        "Observations in each sample are independent and identically distributed (iid).\n",
        "Observations in each sample can be ranked.\n",
        "Observations across each sample are paired.\n",
        "\n",
        "**Interpretation**\n",
        "\n",
        "H0: the distributions of all samples are equal.\n",
        "H1: the distributions of one or more samples are not equal.\n",
        "\n",
        "Python Code"
      ]
    },
    {
      "cell_type": "code",
      "metadata": {
        "colab": {
          "base_uri": "https://localhost:8080/"
        },
        "id": "OHXxv_20ksJq",
        "outputId": "a9c5010b-1a2b-43cd-82fa-fc05d26a175e"
      },
      "source": [
        "# Example of the Friedman Test\n",
        "from scipy.stats import friedmanchisquare\n",
        "data1 = [0.873, 2.817, 0.121, -0.945, -0.055, -1.436, 0.360, -1.478, -1.637, -1.869]\n",
        "data2 = [1.142, -0.432, -0.938, -0.729, -0.846, -0.157, 0.500, 1.183, -1.075, -0.169]\n",
        "data3 = [-0.208, 0.696, 0.928, -1.148, -0.213, 0.229, 0.137, 0.269, -0.870, -1.204]\n",
        "stat, p = friedmanchisquare(data1, data2, data3)\n",
        "print('stat=%.3f, p=%.3f' % (stat, p))\n",
        "if p > 0.05:\n",
        "\tprint('Probably the same distribution')\n",
        "else:\n",
        "\tprint('Probably different distributions')"
      ],
      "execution_count": 16,
      "outputs": [
        {
          "output_type": "stream",
          "text": [
            "stat=0.800, p=0.670\n",
            "Probably the same distribution\n"
          ],
          "name": "stdout"
        }
      ]
    }
  ]
}