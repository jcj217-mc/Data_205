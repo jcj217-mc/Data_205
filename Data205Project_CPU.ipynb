{
  "nbformat": 4,
  "nbformat_minor": 0,
  "metadata": {
    "colab": {
      "name": "Data205Project_CPU.ipynb",
      "provenance": [],
      "authorship_tag": "ABX9TyOY+JVvSWmWfM3mbOEU86eU",
      "include_colab_link": true
    },
    "kernelspec": {
      "name": "python3",
      "display_name": "Python 3"
    },
    "language_info": {
      "name": "python"
    }
  },
  "cells": [
    {
      "cell_type": "markdown",
      "metadata": {
        "id": "view-in-github",
        "colab_type": "text"
      },
      "source": [
        "<a href=\"https://colab.research.google.com/github/jcj217-mc/Data_205/blob/main/Data205Project_CPU.ipynb\" target=\"_parent\"><img src=\"https://colab.research.google.com/assets/colab-badge.svg\" alt=\"Open In Colab\"/></a>"
      ]
    },
    {
      "cell_type": "code",
      "metadata": {
        "id": "ESLMnhDz8h_O"
      },
      "source": [
        "# import packages\n",
        "import pandas as pd\n",
        "import numpy as np\n",
        "import os \n",
        "import json"
      ],
      "execution_count": 2,
      "outputs": []
    },
    {
      "cell_type": "code",
      "metadata": {
        "id": "o4nR6uqP_JsR"
      },
      "source": [
        "# tab-separated data into pandas data frame.\n",
        "df = pd.read_json('https://data.montgomerycountymd.gov/resource/sari-cs3z.json')  "
      ],
      "execution_count": 3,
      "outputs": []
    },
    {
      "cell_type": "code",
      "metadata": {
        "colab": {
          "base_uri": "https://localhost:8080/",
          "height": 309
        },
        "id": "Qk5URfry_YUZ",
        "outputId": "a96e4956-2337-4af6-d083-51ff23a1953c"
      },
      "source": [
        "df.head()"
      ],
      "execution_count": 4,
      "outputs": [
        {
          "output_type": "execute_result",
          "data": {
            "text/html": [
              "<div>\n",
              "<style scoped>\n",
              "    .dataframe tbody tr th:only-of-type {\n",
              "        vertical-align: middle;\n",
              "    }\n",
              "\n",
              "    .dataframe tbody tr th {\n",
              "        vertical-align: top;\n",
              "    }\n",
              "\n",
              "    .dataframe thead th {\n",
              "        text-align: right;\n",
              "    }\n",
              "</style>\n",
              "<table border=\"1\" class=\"dataframe\">\n",
              "  <thead>\n",
              "    <tr style=\"text-align: right;\">\n",
              "      <th></th>\n",
              "      <th>month</th>\n",
              "      <th>shift_1</th>\n",
              "      <th>shift_2</th>\n",
              "      <th>shift_3</th>\n",
              "      <th>traffic</th>\n",
              "      <th>criminal</th>\n",
              "      <th>released_personal_recognizance</th>\n",
              "      <th>released_unsecured_bond</th>\n",
              "      <th>committed_with_bond</th>\n",
              "      <th>district_court_bench_warrant</th>\n",
              "      <th>district_court_arrest_warrant</th>\n",
              "      <th>on_view_arrest_soc</th>\n",
              "      <th>circuit_court_warrant</th>\n",
              "    </tr>\n",
              "  </thead>\n",
              "  <tbody>\n",
              "    <tr>\n",
              "      <th>0</th>\n",
              "      <td>2021-02-01T00:00:00.000</td>\n",
              "      <td>115</td>\n",
              "      <td>100</td>\n",
              "      <td>139</td>\n",
              "      <td>28</td>\n",
              "      <td>326</td>\n",
              "      <td>27.0</td>\n",
              "      <td>108.0</td>\n",
              "      <td>130.0</td>\n",
              "      <td>92.0</td>\n",
              "      <td>107.0</td>\n",
              "      <td>121.0</td>\n",
              "      <td>25.0</td>\n",
              "    </tr>\n",
              "    <tr>\n",
              "      <th>1</th>\n",
              "      <td>2021-01-01T00:00:00.000</td>\n",
              "      <td>123</td>\n",
              "      <td>127</td>\n",
              "      <td>135</td>\n",
              "      <td>25</td>\n",
              "      <td>360</td>\n",
              "      <td>70.0</td>\n",
              "      <td>92.0</td>\n",
              "      <td>160.0</td>\n",
              "      <td>102.0</td>\n",
              "      <td>91.0</td>\n",
              "      <td>159.0</td>\n",
              "      <td>22.0</td>\n",
              "    </tr>\n",
              "    <tr>\n",
              "      <th>2</th>\n",
              "      <td>2020-12-01T00:00:00.000</td>\n",
              "      <td>143</td>\n",
              "      <td>148</td>\n",
              "      <td>138</td>\n",
              "      <td>41</td>\n",
              "      <td>388</td>\n",
              "      <td>57.0</td>\n",
              "      <td>105.0</td>\n",
              "      <td>207.0</td>\n",
              "      <td>121.0</td>\n",
              "      <td>115.0</td>\n",
              "      <td>151.0</td>\n",
              "      <td>14.0</td>\n",
              "    </tr>\n",
              "    <tr>\n",
              "      <th>3</th>\n",
              "      <td>2020-11-01T00:00:00.000</td>\n",
              "      <td>141</td>\n",
              "      <td>113</td>\n",
              "      <td>125</td>\n",
              "      <td>39</td>\n",
              "      <td>340</td>\n",
              "      <td>53.0</td>\n",
              "      <td>108.0</td>\n",
              "      <td>162.0</td>\n",
              "      <td>129.0</td>\n",
              "      <td>74.0</td>\n",
              "      <td>145.0</td>\n",
              "      <td>15.0</td>\n",
              "    </tr>\n",
              "    <tr>\n",
              "      <th>4</th>\n",
              "      <td>2020-10-01T00:00:00.000</td>\n",
              "      <td>165</td>\n",
              "      <td>161</td>\n",
              "      <td>180</td>\n",
              "      <td>61</td>\n",
              "      <td>445</td>\n",
              "      <td>75.0</td>\n",
              "      <td>145.0</td>\n",
              "      <td>180.0</td>\n",
              "      <td>162.0</td>\n",
              "      <td>140.0</td>\n",
              "      <td>166.0</td>\n",
              "      <td>29.0</td>\n",
              "    </tr>\n",
              "  </tbody>\n",
              "</table>\n",
              "</div>"
            ],
            "text/plain": [
              "                     month  shift_1  ...  on_view_arrest_soc  circuit_court_warrant\n",
              "0  2021-02-01T00:00:00.000      115  ...               121.0                   25.0\n",
              "1  2021-01-01T00:00:00.000      123  ...               159.0                   22.0\n",
              "2  2020-12-01T00:00:00.000      143  ...               151.0                   14.0\n",
              "3  2020-11-01T00:00:00.000      141  ...               145.0                   15.0\n",
              "4  2020-10-01T00:00:00.000      165  ...               166.0                   29.0\n",
              "\n",
              "[5 rows x 13 columns]"
            ]
          },
          "metadata": {
            "tags": []
          },
          "execution_count": 4
        }
      ]
    },
    {
      "cell_type": "code",
      "metadata": {
        "colab": {
          "base_uri": "https://localhost:8080/"
        },
        "id": "D0VYAxQ5Dy6e",
        "outputId": "c73f9a80-cf79-43bb-bcf8-8f40e2cf869a"
      },
      "source": [
        "# Checking data types for each column\n",
        "print(df.dtypes)"
      ],
      "execution_count": 5,
      "outputs": [
        {
          "output_type": "stream",
          "text": [
            "month                              object\n",
            "shift_1                             int64\n",
            "shift_2                             int64\n",
            "shift_3                             int64\n",
            "traffic                             int64\n",
            "criminal                            int64\n",
            "released_personal_recognizance    float64\n",
            "released_unsecured_bond           float64\n",
            "committed_with_bond               float64\n",
            "district_court_bench_warrant      float64\n",
            "district_court_arrest_warrant     float64\n",
            "on_view_arrest_soc                float64\n",
            "circuit_court_warrant             float64\n",
            "dtype: object\n"
          ],
          "name": "stdout"
        }
      ]
    },
    {
      "cell_type": "code",
      "metadata": {
        "id": "zP2YCQc9ERK4"
      },
      "source": [
        "# Removing time from date\n",
        "df['month'] = pd.to_datetime(df['month']).dt.date"
      ],
      "execution_count": 6,
      "outputs": []
    },
    {
      "cell_type": "code",
      "metadata": {
        "colab": {
          "base_uri": "https://localhost:8080/",
          "height": 309
        },
        "id": "ulk-n9zwEVeX",
        "outputId": "7ef8983b-7497-40b0-cce6-59bef5c7d70a"
      },
      "source": [
        "df.head()"
      ],
      "execution_count": 7,
      "outputs": [
        {
          "output_type": "execute_result",
          "data": {
            "text/html": [
              "<div>\n",
              "<style scoped>\n",
              "    .dataframe tbody tr th:only-of-type {\n",
              "        vertical-align: middle;\n",
              "    }\n",
              "\n",
              "    .dataframe tbody tr th {\n",
              "        vertical-align: top;\n",
              "    }\n",
              "\n",
              "    .dataframe thead th {\n",
              "        text-align: right;\n",
              "    }\n",
              "</style>\n",
              "<table border=\"1\" class=\"dataframe\">\n",
              "  <thead>\n",
              "    <tr style=\"text-align: right;\">\n",
              "      <th></th>\n",
              "      <th>month</th>\n",
              "      <th>shift_1</th>\n",
              "      <th>shift_2</th>\n",
              "      <th>shift_3</th>\n",
              "      <th>traffic</th>\n",
              "      <th>criminal</th>\n",
              "      <th>released_personal_recognizance</th>\n",
              "      <th>released_unsecured_bond</th>\n",
              "      <th>committed_with_bond</th>\n",
              "      <th>district_court_bench_warrant</th>\n",
              "      <th>district_court_arrest_warrant</th>\n",
              "      <th>on_view_arrest_soc</th>\n",
              "      <th>circuit_court_warrant</th>\n",
              "    </tr>\n",
              "  </thead>\n",
              "  <tbody>\n",
              "    <tr>\n",
              "      <th>0</th>\n",
              "      <td>2021-02-01</td>\n",
              "      <td>115</td>\n",
              "      <td>100</td>\n",
              "      <td>139</td>\n",
              "      <td>28</td>\n",
              "      <td>326</td>\n",
              "      <td>27.0</td>\n",
              "      <td>108.0</td>\n",
              "      <td>130.0</td>\n",
              "      <td>92.0</td>\n",
              "      <td>107.0</td>\n",
              "      <td>121.0</td>\n",
              "      <td>25.0</td>\n",
              "    </tr>\n",
              "    <tr>\n",
              "      <th>1</th>\n",
              "      <td>2021-01-01</td>\n",
              "      <td>123</td>\n",
              "      <td>127</td>\n",
              "      <td>135</td>\n",
              "      <td>25</td>\n",
              "      <td>360</td>\n",
              "      <td>70.0</td>\n",
              "      <td>92.0</td>\n",
              "      <td>160.0</td>\n",
              "      <td>102.0</td>\n",
              "      <td>91.0</td>\n",
              "      <td>159.0</td>\n",
              "      <td>22.0</td>\n",
              "    </tr>\n",
              "    <tr>\n",
              "      <th>2</th>\n",
              "      <td>2020-12-01</td>\n",
              "      <td>143</td>\n",
              "      <td>148</td>\n",
              "      <td>138</td>\n",
              "      <td>41</td>\n",
              "      <td>388</td>\n",
              "      <td>57.0</td>\n",
              "      <td>105.0</td>\n",
              "      <td>207.0</td>\n",
              "      <td>121.0</td>\n",
              "      <td>115.0</td>\n",
              "      <td>151.0</td>\n",
              "      <td>14.0</td>\n",
              "    </tr>\n",
              "    <tr>\n",
              "      <th>3</th>\n",
              "      <td>2020-11-01</td>\n",
              "      <td>141</td>\n",
              "      <td>113</td>\n",
              "      <td>125</td>\n",
              "      <td>39</td>\n",
              "      <td>340</td>\n",
              "      <td>53.0</td>\n",
              "      <td>108.0</td>\n",
              "      <td>162.0</td>\n",
              "      <td>129.0</td>\n",
              "      <td>74.0</td>\n",
              "      <td>145.0</td>\n",
              "      <td>15.0</td>\n",
              "    </tr>\n",
              "    <tr>\n",
              "      <th>4</th>\n",
              "      <td>2020-10-01</td>\n",
              "      <td>165</td>\n",
              "      <td>161</td>\n",
              "      <td>180</td>\n",
              "      <td>61</td>\n",
              "      <td>445</td>\n",
              "      <td>75.0</td>\n",
              "      <td>145.0</td>\n",
              "      <td>180.0</td>\n",
              "      <td>162.0</td>\n",
              "      <td>140.0</td>\n",
              "      <td>166.0</td>\n",
              "      <td>29.0</td>\n",
              "    </tr>\n",
              "  </tbody>\n",
              "</table>\n",
              "</div>"
            ],
            "text/plain": [
              "        month  shift_1  ...  on_view_arrest_soc  circuit_court_warrant\n",
              "0  2021-02-01      115  ...               121.0                   25.0\n",
              "1  2021-01-01      123  ...               159.0                   22.0\n",
              "2  2020-12-01      143  ...               151.0                   14.0\n",
              "3  2020-11-01      141  ...               145.0                   15.0\n",
              "4  2020-10-01      165  ...               166.0                   29.0\n",
              "\n",
              "[5 rows x 13 columns]"
            ]
          },
          "metadata": {
            "tags": []
          },
          "execution_count": 7
        }
      ]
    },
    {
      "cell_type": "code",
      "metadata": {
        "id": "IIyeKdlrRFhK"
      },
      "source": [
        "# create new \"total\" column with \"traffic\" + \"criminal\"\n",
        "total = []\n",
        "for index, row in df.iterrows(): \n",
        "      total.append(row.traffic + row.criminal)"
      ],
      "execution_count": 8,
      "outputs": []
    },
    {
      "cell_type": "code",
      "metadata": {
        "id": "0URPuMzsR35V"
      },
      "source": [
        " df['total'] = total"
      ],
      "execution_count": 9,
      "outputs": []
    },
    {
      "cell_type": "code",
      "metadata": {
        "colab": {
          "base_uri": "https://localhost:8080/",
          "height": 117
        },
        "id": "kKIUlKxsRhDm",
        "outputId": "462b1263-e2bf-4960-b65d-197d7c3eebe1"
      },
      "source": [
        "df.head(1)"
      ],
      "execution_count": 10,
      "outputs": [
        {
          "output_type": "execute_result",
          "data": {
            "text/html": [
              "<div>\n",
              "<style scoped>\n",
              "    .dataframe tbody tr th:only-of-type {\n",
              "        vertical-align: middle;\n",
              "    }\n",
              "\n",
              "    .dataframe tbody tr th {\n",
              "        vertical-align: top;\n",
              "    }\n",
              "\n",
              "    .dataframe thead th {\n",
              "        text-align: right;\n",
              "    }\n",
              "</style>\n",
              "<table border=\"1\" class=\"dataframe\">\n",
              "  <thead>\n",
              "    <tr style=\"text-align: right;\">\n",
              "      <th></th>\n",
              "      <th>month</th>\n",
              "      <th>shift_1</th>\n",
              "      <th>shift_2</th>\n",
              "      <th>shift_3</th>\n",
              "      <th>traffic</th>\n",
              "      <th>criminal</th>\n",
              "      <th>released_personal_recognizance</th>\n",
              "      <th>released_unsecured_bond</th>\n",
              "      <th>committed_with_bond</th>\n",
              "      <th>district_court_bench_warrant</th>\n",
              "      <th>district_court_arrest_warrant</th>\n",
              "      <th>on_view_arrest_soc</th>\n",
              "      <th>circuit_court_warrant</th>\n",
              "      <th>total</th>\n",
              "    </tr>\n",
              "  </thead>\n",
              "  <tbody>\n",
              "    <tr>\n",
              "      <th>0</th>\n",
              "      <td>2021-02-01</td>\n",
              "      <td>115</td>\n",
              "      <td>100</td>\n",
              "      <td>139</td>\n",
              "      <td>28</td>\n",
              "      <td>326</td>\n",
              "      <td>27.0</td>\n",
              "      <td>108.0</td>\n",
              "      <td>130.0</td>\n",
              "      <td>92.0</td>\n",
              "      <td>107.0</td>\n",
              "      <td>121.0</td>\n",
              "      <td>25.0</td>\n",
              "      <td>354</td>\n",
              "    </tr>\n",
              "  </tbody>\n",
              "</table>\n",
              "</div>"
            ],
            "text/plain": [
              "        month  shift_1  ...  circuit_court_warrant  total\n",
              "0  2021-02-01      115  ...                   25.0    354\n",
              "\n",
              "[1 rows x 14 columns]"
            ]
          },
          "metadata": {
            "tags": []
          },
          "execution_count": 10
        }
      ]
    },
    {
      "cell_type": "code",
      "metadata": {
        "colab": {
          "base_uri": "https://localhost:8080/",
          "height": 117
        },
        "id": "Paq8kkeEShEs",
        "outputId": "2b1c15ac-865e-404a-856a-d22489c5559a"
      },
      "source": [
        "df.head(1)"
      ],
      "execution_count": 11,
      "outputs": [
        {
          "output_type": "execute_result",
          "data": {
            "text/html": [
              "<div>\n",
              "<style scoped>\n",
              "    .dataframe tbody tr th:only-of-type {\n",
              "        vertical-align: middle;\n",
              "    }\n",
              "\n",
              "    .dataframe tbody tr th {\n",
              "        vertical-align: top;\n",
              "    }\n",
              "\n",
              "    .dataframe thead th {\n",
              "        text-align: right;\n",
              "    }\n",
              "</style>\n",
              "<table border=\"1\" class=\"dataframe\">\n",
              "  <thead>\n",
              "    <tr style=\"text-align: right;\">\n",
              "      <th></th>\n",
              "      <th>month</th>\n",
              "      <th>shift_1</th>\n",
              "      <th>shift_2</th>\n",
              "      <th>shift_3</th>\n",
              "      <th>traffic</th>\n",
              "      <th>criminal</th>\n",
              "      <th>released_personal_recognizance</th>\n",
              "      <th>released_unsecured_bond</th>\n",
              "      <th>committed_with_bond</th>\n",
              "      <th>district_court_bench_warrant</th>\n",
              "      <th>district_court_arrest_warrant</th>\n",
              "      <th>on_view_arrest_soc</th>\n",
              "      <th>circuit_court_warrant</th>\n",
              "      <th>total</th>\n",
              "    </tr>\n",
              "  </thead>\n",
              "  <tbody>\n",
              "    <tr>\n",
              "      <th>0</th>\n",
              "      <td>2021-02-01</td>\n",
              "      <td>115</td>\n",
              "      <td>100</td>\n",
              "      <td>139</td>\n",
              "      <td>28</td>\n",
              "      <td>326</td>\n",
              "      <td>27.0</td>\n",
              "      <td>108.0</td>\n",
              "      <td>130.0</td>\n",
              "      <td>92.0</td>\n",
              "      <td>107.0</td>\n",
              "      <td>121.0</td>\n",
              "      <td>25.0</td>\n",
              "      <td>354</td>\n",
              "    </tr>\n",
              "  </tbody>\n",
              "</table>\n",
              "</div>"
            ],
            "text/plain": [
              "        month  shift_1  ...  circuit_court_warrant  total\n",
              "0  2021-02-01      115  ...                   25.0    354\n",
              "\n",
              "[1 rows x 14 columns]"
            ]
          },
          "metadata": {
            "tags": []
          },
          "execution_count": 11
        }
      ]
    },
    {
      "cell_type": "code",
      "metadata": {
        "id": "uFMKjQEgCSdU"
      },
      "source": [
        "# Change column names with rename() function\n",
        "df = df.rename(columns = {\"month\": \"date\", \"released_personal_recognizance\": \"RPR\", \"released_unsecured_bond\":\"released_bond\", \"committed_with_bond\":\"Committed\", \"district_court_bench_warrant\" : \"dc_bench_warrant\", \"district_court_arrest_warrant\": \"dc_arrest_warrant\", \"on_view_arrest_soc\": \"PC_arrest\", \"circuit_court_warrant\": 'cir_ct_warrant'})"
      ],
      "execution_count": 12,
      "outputs": []
    },
    {
      "cell_type": "code",
      "metadata": {
        "colab": {
          "base_uri": "https://localhost:8080/",
          "height": 317
        },
        "id": "ROOd9jg7CIu1",
        "outputId": "f33dcad5-b2f3-4cd3-e468-8f583af6c2ce"
      },
      "source": [
        "df.describe()"
      ],
      "execution_count": 13,
      "outputs": [
        {
          "output_type": "execute_result",
          "data": {
            "text/html": [
              "<div>\n",
              "<style scoped>\n",
              "    .dataframe tbody tr th:only-of-type {\n",
              "        vertical-align: middle;\n",
              "    }\n",
              "\n",
              "    .dataframe tbody tr th {\n",
              "        vertical-align: top;\n",
              "    }\n",
              "\n",
              "    .dataframe thead th {\n",
              "        text-align: right;\n",
              "    }\n",
              "</style>\n",
              "<table border=\"1\" class=\"dataframe\">\n",
              "  <thead>\n",
              "    <tr style=\"text-align: right;\">\n",
              "      <th></th>\n",
              "      <th>shift_1</th>\n",
              "      <th>shift_2</th>\n",
              "      <th>shift_3</th>\n",
              "      <th>traffic</th>\n",
              "      <th>criminal</th>\n",
              "      <th>RPR</th>\n",
              "      <th>released_bond</th>\n",
              "      <th>Committed</th>\n",
              "      <th>dc_bench_warrant</th>\n",
              "      <th>dc_arrest_warrant</th>\n",
              "      <th>PC_arrest</th>\n",
              "      <th>cir_ct_warrant</th>\n",
              "      <th>total</th>\n",
              "    </tr>\n",
              "  </thead>\n",
              "  <tbody>\n",
              "    <tr>\n",
              "      <th>count</th>\n",
              "      <td>56.000000</td>\n",
              "      <td>56.000000</td>\n",
              "      <td>56.000000</td>\n",
              "      <td>56.000000</td>\n",
              "      <td>56.00000</td>\n",
              "      <td>50.000000</td>\n",
              "      <td>50.000000</td>\n",
              "      <td>50.000000</td>\n",
              "      <td>50.00000</td>\n",
              "      <td>50.000000</td>\n",
              "      <td>50.000000</td>\n",
              "      <td>50.000000</td>\n",
              "      <td>56.000000</td>\n",
              "    </tr>\n",
              "    <tr>\n",
              "      <th>mean</th>\n",
              "      <td>264.464286</td>\n",
              "      <td>233.017857</td>\n",
              "      <td>298.071429</td>\n",
              "      <td>149.446429</td>\n",
              "      <td>691.87500</td>\n",
              "      <td>151.500000</td>\n",
              "      <td>179.440000</td>\n",
              "      <td>255.160000</td>\n",
              "      <td>319.52000</td>\n",
              "      <td>146.000000</td>\n",
              "      <td>265.520000</td>\n",
              "      <td>41.020000</td>\n",
              "      <td>841.321429</td>\n",
              "    </tr>\n",
              "    <tr>\n",
              "      <th>std</th>\n",
              "      <td>74.419930</td>\n",
              "      <td>61.041414</td>\n",
              "      <td>79.629793</td>\n",
              "      <td>62.904522</td>\n",
              "      <td>192.50474</td>\n",
              "      <td>59.311096</td>\n",
              "      <td>55.143657</td>\n",
              "      <td>60.466675</td>\n",
              "      <td>118.27247</td>\n",
              "      <td>34.912719</td>\n",
              "      <td>63.750227</td>\n",
              "      <td>19.302628</td>\n",
              "      <td>251.183968</td>\n",
              "    </tr>\n",
              "    <tr>\n",
              "      <th>min</th>\n",
              "      <td>90.000000</td>\n",
              "      <td>90.000000</td>\n",
              "      <td>103.000000</td>\n",
              "      <td>25.000000</td>\n",
              "      <td>257.00000</td>\n",
              "      <td>27.000000</td>\n",
              "      <td>65.000000</td>\n",
              "      <td>130.000000</td>\n",
              "      <td>77.00000</td>\n",
              "      <td>36.000000</td>\n",
              "      <td>121.000000</td>\n",
              "      <td>14.000000</td>\n",
              "      <td>283.000000</td>\n",
              "    </tr>\n",
              "    <tr>\n",
              "      <th>25%</th>\n",
              "      <td>247.250000</td>\n",
              "      <td>224.000000</td>\n",
              "      <td>289.250000</td>\n",
              "      <td>137.000000</td>\n",
              "      <td>639.25000</td>\n",
              "      <td>126.000000</td>\n",
              "      <td>145.250000</td>\n",
              "      <td>210.500000</td>\n",
              "      <td>290.25000</td>\n",
              "      <td>133.250000</td>\n",
              "      <td>248.000000</td>\n",
              "      <td>34.250000</td>\n",
              "      <td>785.500000</td>\n",
              "    </tr>\n",
              "    <tr>\n",
              "      <th>50%</th>\n",
              "      <td>288.000000</td>\n",
              "      <td>255.000000</td>\n",
              "      <td>329.000000</td>\n",
              "      <td>169.000000</td>\n",
              "      <td>717.50000</td>\n",
              "      <td>163.500000</td>\n",
              "      <td>176.000000</td>\n",
              "      <td>274.500000</td>\n",
              "      <td>365.50000</td>\n",
              "      <td>151.000000</td>\n",
              "      <td>293.000000</td>\n",
              "      <td>41.500000</td>\n",
              "      <td>897.000000</td>\n",
              "    </tr>\n",
              "    <tr>\n",
              "      <th>75%</th>\n",
              "      <td>319.500000</td>\n",
              "      <td>270.250000</td>\n",
              "      <td>348.750000</td>\n",
              "      <td>194.250000</td>\n",
              "      <td>813.50000</td>\n",
              "      <td>196.750000</td>\n",
              "      <td>213.000000</td>\n",
              "      <td>296.250000</td>\n",
              "      <td>396.00000</td>\n",
              "      <td>172.250000</td>\n",
              "      <td>307.750000</td>\n",
              "      <td>46.750000</td>\n",
              "      <td>997.750000</td>\n",
              "    </tr>\n",
              "    <tr>\n",
              "      <th>max</th>\n",
              "      <td>349.000000</td>\n",
              "      <td>310.000000</td>\n",
              "      <td>405.000000</td>\n",
              "      <td>247.000000</td>\n",
              "      <td>983.00000</td>\n",
              "      <td>261.000000</td>\n",
              "      <td>299.000000</td>\n",
              "      <td>357.000000</td>\n",
              "      <td>454.00000</td>\n",
              "      <td>203.000000</td>\n",
              "      <td>351.000000</td>\n",
              "      <td>146.000000</td>\n",
              "      <td>1230.000000</td>\n",
              "    </tr>\n",
              "  </tbody>\n",
              "</table>\n",
              "</div>"
            ],
            "text/plain": [
              "          shift_1     shift_2  ...  cir_ct_warrant        total\n",
              "count   56.000000   56.000000  ...       50.000000    56.000000\n",
              "mean   264.464286  233.017857  ...       41.020000   841.321429\n",
              "std     74.419930   61.041414  ...       19.302628   251.183968\n",
              "min     90.000000   90.000000  ...       14.000000   283.000000\n",
              "25%    247.250000  224.000000  ...       34.250000   785.500000\n",
              "50%    288.000000  255.000000  ...       41.500000   897.000000\n",
              "75%    319.500000  270.250000  ...       46.750000   997.750000\n",
              "max    349.000000  310.000000  ...      146.000000  1230.000000\n",
              "\n",
              "[8 rows x 13 columns]"
            ]
          },
          "metadata": {
            "tags": []
          },
          "execution_count": 13
        }
      ]
    },
    {
      "cell_type": "code",
      "metadata": {
        "id": "WPKEP1oI_tsC"
      },
      "source": [
        "df.drop(['shift_1', 'shift_2', 'shift_3'], axis=1, inplace=True)"
      ],
      "execution_count": 14,
      "outputs": []
    },
    {
      "cell_type": "code",
      "metadata": {
        "id": "PNeeqaz5TLj7"
      },
      "source": [
        "# Reordering columns to have total column after traffic and criminal\n",
        "df = df[['date', 'traffic', 'criminal', 'total', 'RPR', 'released_bond', 'Committed', 'dc_bench_warrant', 'dc_arrest_warrant', 'PC_arrest', 'cir_ct_warrant']]"
      ],
      "execution_count": 15,
      "outputs": []
    },
    {
      "cell_type": "code",
      "metadata": {
        "colab": {
          "base_uri": "https://localhost:8080/",
          "height": 204
        },
        "id": "OPxVxOn0AGLj",
        "outputId": "c97c64ca-fe72-49d9-f10e-3752ca5c4e79"
      },
      "source": [
        "df.head()"
      ],
      "execution_count": 16,
      "outputs": [
        {
          "output_type": "execute_result",
          "data": {
            "text/html": [
              "<div>\n",
              "<style scoped>\n",
              "    .dataframe tbody tr th:only-of-type {\n",
              "        vertical-align: middle;\n",
              "    }\n",
              "\n",
              "    .dataframe tbody tr th {\n",
              "        vertical-align: top;\n",
              "    }\n",
              "\n",
              "    .dataframe thead th {\n",
              "        text-align: right;\n",
              "    }\n",
              "</style>\n",
              "<table border=\"1\" class=\"dataframe\">\n",
              "  <thead>\n",
              "    <tr style=\"text-align: right;\">\n",
              "      <th></th>\n",
              "      <th>date</th>\n",
              "      <th>traffic</th>\n",
              "      <th>criminal</th>\n",
              "      <th>total</th>\n",
              "      <th>RPR</th>\n",
              "      <th>released_bond</th>\n",
              "      <th>Committed</th>\n",
              "      <th>dc_bench_warrant</th>\n",
              "      <th>dc_arrest_warrant</th>\n",
              "      <th>PC_arrest</th>\n",
              "      <th>cir_ct_warrant</th>\n",
              "    </tr>\n",
              "  </thead>\n",
              "  <tbody>\n",
              "    <tr>\n",
              "      <th>0</th>\n",
              "      <td>2021-02-01</td>\n",
              "      <td>28</td>\n",
              "      <td>326</td>\n",
              "      <td>354</td>\n",
              "      <td>27.0</td>\n",
              "      <td>108.0</td>\n",
              "      <td>130.0</td>\n",
              "      <td>92.0</td>\n",
              "      <td>107.0</td>\n",
              "      <td>121.0</td>\n",
              "      <td>25.0</td>\n",
              "    </tr>\n",
              "    <tr>\n",
              "      <th>1</th>\n",
              "      <td>2021-01-01</td>\n",
              "      <td>25</td>\n",
              "      <td>360</td>\n",
              "      <td>385</td>\n",
              "      <td>70.0</td>\n",
              "      <td>92.0</td>\n",
              "      <td>160.0</td>\n",
              "      <td>102.0</td>\n",
              "      <td>91.0</td>\n",
              "      <td>159.0</td>\n",
              "      <td>22.0</td>\n",
              "    </tr>\n",
              "    <tr>\n",
              "      <th>2</th>\n",
              "      <td>2020-12-01</td>\n",
              "      <td>41</td>\n",
              "      <td>388</td>\n",
              "      <td>429</td>\n",
              "      <td>57.0</td>\n",
              "      <td>105.0</td>\n",
              "      <td>207.0</td>\n",
              "      <td>121.0</td>\n",
              "      <td>115.0</td>\n",
              "      <td>151.0</td>\n",
              "      <td>14.0</td>\n",
              "    </tr>\n",
              "    <tr>\n",
              "      <th>3</th>\n",
              "      <td>2020-11-01</td>\n",
              "      <td>39</td>\n",
              "      <td>340</td>\n",
              "      <td>379</td>\n",
              "      <td>53.0</td>\n",
              "      <td>108.0</td>\n",
              "      <td>162.0</td>\n",
              "      <td>129.0</td>\n",
              "      <td>74.0</td>\n",
              "      <td>145.0</td>\n",
              "      <td>15.0</td>\n",
              "    </tr>\n",
              "    <tr>\n",
              "      <th>4</th>\n",
              "      <td>2020-10-01</td>\n",
              "      <td>61</td>\n",
              "      <td>445</td>\n",
              "      <td>506</td>\n",
              "      <td>75.0</td>\n",
              "      <td>145.0</td>\n",
              "      <td>180.0</td>\n",
              "      <td>162.0</td>\n",
              "      <td>140.0</td>\n",
              "      <td>166.0</td>\n",
              "      <td>29.0</td>\n",
              "    </tr>\n",
              "  </tbody>\n",
              "</table>\n",
              "</div>"
            ],
            "text/plain": [
              "         date  traffic  criminal  ...  dc_arrest_warrant  PC_arrest  cir_ct_warrant\n",
              "0  2021-02-01       28       326  ...              107.0      121.0            25.0\n",
              "1  2021-01-01       25       360  ...               91.0      159.0            22.0\n",
              "2  2020-12-01       41       388  ...              115.0      151.0            14.0\n",
              "3  2020-11-01       39       340  ...               74.0      145.0            15.0\n",
              "4  2020-10-01       61       445  ...              140.0      166.0            29.0\n",
              "\n",
              "[5 rows x 11 columns]"
            ]
          },
          "metadata": {
            "tags": []
          },
          "execution_count": 16
        }
      ]
    },
    {
      "cell_type": "code",
      "metadata": {
        "id": "BLh4F006TdRZ"
      },
      "source": [
        "# create new \"total released\" column with \"RPR\" + \"Released on Bond\"\n",
        "total_released = []\n",
        "for index, row in df.iterrows(): \n",
        "      total_released.append(row.RPR + row.released_bond)"
      ],
      "execution_count": 17,
      "outputs": []
    },
    {
      "cell_type": "code",
      "metadata": {
        "id": "7XMW2_3CUKV7"
      },
      "source": [
        " df['total_released'] = total_released"
      ],
      "execution_count": 18,
      "outputs": []
    },
    {
      "cell_type": "code",
      "metadata": {
        "colab": {
          "base_uri": "https://localhost:8080/",
          "height": 117
        },
        "id": "MQ8n1hkbUTm5",
        "outputId": "8f0aaf4b-7578-4468-b6d0-a28686bcb53c"
      },
      "source": [
        "df.head(1)"
      ],
      "execution_count": 19,
      "outputs": [
        {
          "output_type": "execute_result",
          "data": {
            "text/html": [
              "<div>\n",
              "<style scoped>\n",
              "    .dataframe tbody tr th:only-of-type {\n",
              "        vertical-align: middle;\n",
              "    }\n",
              "\n",
              "    .dataframe tbody tr th {\n",
              "        vertical-align: top;\n",
              "    }\n",
              "\n",
              "    .dataframe thead th {\n",
              "        text-align: right;\n",
              "    }\n",
              "</style>\n",
              "<table border=\"1\" class=\"dataframe\">\n",
              "  <thead>\n",
              "    <tr style=\"text-align: right;\">\n",
              "      <th></th>\n",
              "      <th>date</th>\n",
              "      <th>traffic</th>\n",
              "      <th>criminal</th>\n",
              "      <th>total</th>\n",
              "      <th>RPR</th>\n",
              "      <th>released_bond</th>\n",
              "      <th>Committed</th>\n",
              "      <th>dc_bench_warrant</th>\n",
              "      <th>dc_arrest_warrant</th>\n",
              "      <th>PC_arrest</th>\n",
              "      <th>cir_ct_warrant</th>\n",
              "      <th>total_released</th>\n",
              "    </tr>\n",
              "  </thead>\n",
              "  <tbody>\n",
              "    <tr>\n",
              "      <th>0</th>\n",
              "      <td>2021-02-01</td>\n",
              "      <td>28</td>\n",
              "      <td>326</td>\n",
              "      <td>354</td>\n",
              "      <td>27.0</td>\n",
              "      <td>108.0</td>\n",
              "      <td>130.0</td>\n",
              "      <td>92.0</td>\n",
              "      <td>107.0</td>\n",
              "      <td>121.0</td>\n",
              "      <td>25.0</td>\n",
              "      <td>135.0</td>\n",
              "    </tr>\n",
              "  </tbody>\n",
              "</table>\n",
              "</div>"
            ],
            "text/plain": [
              "         date  traffic  criminal  ...  PC_arrest  cir_ct_warrant  total_released\n",
              "0  2021-02-01       28       326  ...      121.0            25.0           135.0\n",
              "\n",
              "[1 rows x 12 columns]"
            ]
          },
          "metadata": {
            "tags": []
          },
          "execution_count": 19
        }
      ]
    },
    {
      "cell_type": "code",
      "metadata": {
        "id": "E5V65YK9ANkU"
      },
      "source": [
        "# creating list of just release versus detention\n",
        "df_release = df.drop(list(df)[7:11], axis=1)"
      ],
      "execution_count": 20,
      "outputs": []
    },
    {
      "cell_type": "code",
      "metadata": {
        "colab": {
          "base_uri": "https://localhost:8080/",
          "height": 204
        },
        "id": "Z_8oEfLIBw7k",
        "outputId": "2c3dca21-5d0d-41d3-d189-f9ac9774ae27"
      },
      "source": [
        "df_release.head()"
      ],
      "execution_count": 21,
      "outputs": [
        {
          "output_type": "execute_result",
          "data": {
            "text/html": [
              "<div>\n",
              "<style scoped>\n",
              "    .dataframe tbody tr th:only-of-type {\n",
              "        vertical-align: middle;\n",
              "    }\n",
              "\n",
              "    .dataframe tbody tr th {\n",
              "        vertical-align: top;\n",
              "    }\n",
              "\n",
              "    .dataframe thead th {\n",
              "        text-align: right;\n",
              "    }\n",
              "</style>\n",
              "<table border=\"1\" class=\"dataframe\">\n",
              "  <thead>\n",
              "    <tr style=\"text-align: right;\">\n",
              "      <th></th>\n",
              "      <th>date</th>\n",
              "      <th>traffic</th>\n",
              "      <th>criminal</th>\n",
              "      <th>total</th>\n",
              "      <th>RPR</th>\n",
              "      <th>released_bond</th>\n",
              "      <th>Committed</th>\n",
              "      <th>total_released</th>\n",
              "    </tr>\n",
              "  </thead>\n",
              "  <tbody>\n",
              "    <tr>\n",
              "      <th>0</th>\n",
              "      <td>2021-02-01</td>\n",
              "      <td>28</td>\n",
              "      <td>326</td>\n",
              "      <td>354</td>\n",
              "      <td>27.0</td>\n",
              "      <td>108.0</td>\n",
              "      <td>130.0</td>\n",
              "      <td>135.0</td>\n",
              "    </tr>\n",
              "    <tr>\n",
              "      <th>1</th>\n",
              "      <td>2021-01-01</td>\n",
              "      <td>25</td>\n",
              "      <td>360</td>\n",
              "      <td>385</td>\n",
              "      <td>70.0</td>\n",
              "      <td>92.0</td>\n",
              "      <td>160.0</td>\n",
              "      <td>162.0</td>\n",
              "    </tr>\n",
              "    <tr>\n",
              "      <th>2</th>\n",
              "      <td>2020-12-01</td>\n",
              "      <td>41</td>\n",
              "      <td>388</td>\n",
              "      <td>429</td>\n",
              "      <td>57.0</td>\n",
              "      <td>105.0</td>\n",
              "      <td>207.0</td>\n",
              "      <td>162.0</td>\n",
              "    </tr>\n",
              "    <tr>\n",
              "      <th>3</th>\n",
              "      <td>2020-11-01</td>\n",
              "      <td>39</td>\n",
              "      <td>340</td>\n",
              "      <td>379</td>\n",
              "      <td>53.0</td>\n",
              "      <td>108.0</td>\n",
              "      <td>162.0</td>\n",
              "      <td>161.0</td>\n",
              "    </tr>\n",
              "    <tr>\n",
              "      <th>4</th>\n",
              "      <td>2020-10-01</td>\n",
              "      <td>61</td>\n",
              "      <td>445</td>\n",
              "      <td>506</td>\n",
              "      <td>75.0</td>\n",
              "      <td>145.0</td>\n",
              "      <td>180.0</td>\n",
              "      <td>220.0</td>\n",
              "    </tr>\n",
              "  </tbody>\n",
              "</table>\n",
              "</div>"
            ],
            "text/plain": [
              "         date  traffic  criminal  ...  released_bond  Committed  total_released\n",
              "0  2021-02-01       28       326  ...          108.0      130.0           135.0\n",
              "1  2021-01-01       25       360  ...           92.0      160.0           162.0\n",
              "2  2020-12-01       41       388  ...          105.0      207.0           162.0\n",
              "3  2020-11-01       39       340  ...          108.0      162.0           161.0\n",
              "4  2020-10-01       61       445  ...          145.0      180.0           220.0\n",
              "\n",
              "[5 rows x 8 columns]"
            ]
          },
          "metadata": {
            "tags": []
          },
          "execution_count": 21
        }
      ]
    },
    {
      "cell_type": "code",
      "metadata": {
        "colab": {
          "base_uri": "https://localhost:8080/",
          "height": 117
        },
        "id": "3ZbIyx6k8mPC",
        "outputId": "39714f2e-8f55-41c8-a776-c842b5f0b5f0"
      },
      "source": [
        " # Computing Percentage\n",
        "df_release_1 = df_release\n",
        "# for cumulative percentages in the future: df_release_1['percent_RPR'] = (df_release.RPR.sum() / df_release.total.cumsum()) * 100\n",
        "df_release_1['percent_RPR'] = (df_release.RPR / df_release.total) * 100\n",
        "df_release_1['percent_bond'] = (df_release_1.released_bond / df_release_1.total ) * 100\n",
        "df_release_1['percent_committed'] = (df_release_1.Committed / df_release_1.total ) * 100\n",
        "df_release_1['percent_released'] = ((df_release_1.released_bond + df_release_1.RPR) / df_release_1.total ) * 100\n",
        "df_release_1\n",
        "df_release_1.head(1)"
      ],
      "execution_count": 22,
      "outputs": [
        {
          "output_type": "execute_result",
          "data": {
            "text/html": [
              "<div>\n",
              "<style scoped>\n",
              "    .dataframe tbody tr th:only-of-type {\n",
              "        vertical-align: middle;\n",
              "    }\n",
              "\n",
              "    .dataframe tbody tr th {\n",
              "        vertical-align: top;\n",
              "    }\n",
              "\n",
              "    .dataframe thead th {\n",
              "        text-align: right;\n",
              "    }\n",
              "</style>\n",
              "<table border=\"1\" class=\"dataframe\">\n",
              "  <thead>\n",
              "    <tr style=\"text-align: right;\">\n",
              "      <th></th>\n",
              "      <th>date</th>\n",
              "      <th>traffic</th>\n",
              "      <th>criminal</th>\n",
              "      <th>total</th>\n",
              "      <th>RPR</th>\n",
              "      <th>released_bond</th>\n",
              "      <th>Committed</th>\n",
              "      <th>total_released</th>\n",
              "      <th>percent_RPR</th>\n",
              "      <th>percent_bond</th>\n",
              "      <th>percent_committed</th>\n",
              "      <th>percent_released</th>\n",
              "    </tr>\n",
              "  </thead>\n",
              "  <tbody>\n",
              "    <tr>\n",
              "      <th>0</th>\n",
              "      <td>2021-02-01</td>\n",
              "      <td>28</td>\n",
              "      <td>326</td>\n",
              "      <td>354</td>\n",
              "      <td>27.0</td>\n",
              "      <td>108.0</td>\n",
              "      <td>130.0</td>\n",
              "      <td>135.0</td>\n",
              "      <td>7.627119</td>\n",
              "      <td>30.508475</td>\n",
              "      <td>36.723164</td>\n",
              "      <td>38.135593</td>\n",
              "    </tr>\n",
              "  </tbody>\n",
              "</table>\n",
              "</div>"
            ],
            "text/plain": [
              "         date  traffic  ...  percent_committed  percent_released\n",
              "0  2021-02-01       28  ...          36.723164         38.135593\n",
              "\n",
              "[1 rows x 12 columns]"
            ]
          },
          "metadata": {
            "tags": []
          },
          "execution_count": 22
        }
      ]
    },
    {
      "cell_type": "code",
      "metadata": {
        "colab": {
          "base_uri": "https://localhost:8080/",
          "height": 309
        },
        "id": "Zw2PxgyabKUD",
        "outputId": "182b5cde-51d9-4799-a21e-f9e44b7ea807"
      },
      "source": [
        "df_release_1['total_percent'] = (df_release_1.percent_committed + df_release_1.percent_released)\n",
        "df_release_1.head(5)"
      ],
      "execution_count": 46,
      "outputs": [
        {
          "output_type": "execute_result",
          "data": {
            "text/html": [
              "<div>\n",
              "<style scoped>\n",
              "    .dataframe tbody tr th:only-of-type {\n",
              "        vertical-align: middle;\n",
              "    }\n",
              "\n",
              "    .dataframe tbody tr th {\n",
              "        vertical-align: top;\n",
              "    }\n",
              "\n",
              "    .dataframe thead th {\n",
              "        text-align: right;\n",
              "    }\n",
              "</style>\n",
              "<table border=\"1\" class=\"dataframe\">\n",
              "  <thead>\n",
              "    <tr style=\"text-align: right;\">\n",
              "      <th></th>\n",
              "      <th>date</th>\n",
              "      <th>traffic</th>\n",
              "      <th>criminal</th>\n",
              "      <th>total</th>\n",
              "      <th>RPR</th>\n",
              "      <th>released_bond</th>\n",
              "      <th>Committed</th>\n",
              "      <th>total_released</th>\n",
              "      <th>percent_RPR</th>\n",
              "      <th>percent_bond</th>\n",
              "      <th>percent_committed</th>\n",
              "      <th>percent_released</th>\n",
              "      <th>total_percent</th>\n",
              "    </tr>\n",
              "  </thead>\n",
              "  <tbody>\n",
              "    <tr>\n",
              "      <th>0</th>\n",
              "      <td>2021-02-01</td>\n",
              "      <td>28</td>\n",
              "      <td>326</td>\n",
              "      <td>354</td>\n",
              "      <td>27.0</td>\n",
              "      <td>108.0</td>\n",
              "      <td>130.0</td>\n",
              "      <td>135.0</td>\n",
              "      <td>7.627119</td>\n",
              "      <td>30.508475</td>\n",
              "      <td>36.723164</td>\n",
              "      <td>38.135593</td>\n",
              "      <td>74.858757</td>\n",
              "    </tr>\n",
              "    <tr>\n",
              "      <th>1</th>\n",
              "      <td>2021-01-01</td>\n",
              "      <td>25</td>\n",
              "      <td>360</td>\n",
              "      <td>385</td>\n",
              "      <td>70.0</td>\n",
              "      <td>92.0</td>\n",
              "      <td>160.0</td>\n",
              "      <td>162.0</td>\n",
              "      <td>18.181818</td>\n",
              "      <td>23.896104</td>\n",
              "      <td>41.558442</td>\n",
              "      <td>42.077922</td>\n",
              "      <td>83.636364</td>\n",
              "    </tr>\n",
              "    <tr>\n",
              "      <th>2</th>\n",
              "      <td>2020-12-01</td>\n",
              "      <td>41</td>\n",
              "      <td>388</td>\n",
              "      <td>429</td>\n",
              "      <td>57.0</td>\n",
              "      <td>105.0</td>\n",
              "      <td>207.0</td>\n",
              "      <td>162.0</td>\n",
              "      <td>13.286713</td>\n",
              "      <td>24.475524</td>\n",
              "      <td>48.251748</td>\n",
              "      <td>37.762238</td>\n",
              "      <td>86.013986</td>\n",
              "    </tr>\n",
              "    <tr>\n",
              "      <th>3</th>\n",
              "      <td>2020-11-01</td>\n",
              "      <td>39</td>\n",
              "      <td>340</td>\n",
              "      <td>379</td>\n",
              "      <td>53.0</td>\n",
              "      <td>108.0</td>\n",
              "      <td>162.0</td>\n",
              "      <td>161.0</td>\n",
              "      <td>13.984169</td>\n",
              "      <td>28.496042</td>\n",
              "      <td>42.744063</td>\n",
              "      <td>42.480211</td>\n",
              "      <td>85.224274</td>\n",
              "    </tr>\n",
              "    <tr>\n",
              "      <th>4</th>\n",
              "      <td>2020-10-01</td>\n",
              "      <td>61</td>\n",
              "      <td>445</td>\n",
              "      <td>506</td>\n",
              "      <td>75.0</td>\n",
              "      <td>145.0</td>\n",
              "      <td>180.0</td>\n",
              "      <td>220.0</td>\n",
              "      <td>14.822134</td>\n",
              "      <td>28.656126</td>\n",
              "      <td>35.573123</td>\n",
              "      <td>43.478261</td>\n",
              "      <td>79.051383</td>\n",
              "    </tr>\n",
              "  </tbody>\n",
              "</table>\n",
              "</div>"
            ],
            "text/plain": [
              "         date  traffic  ...  percent_released  total_percent\n",
              "0  2021-02-01       28  ...         38.135593      74.858757\n",
              "1  2021-01-01       25  ...         42.077922      83.636364\n",
              "2  2020-12-01       41  ...         37.762238      86.013986\n",
              "3  2020-11-01       39  ...         42.480211      85.224274\n",
              "4  2020-10-01       61  ...         43.478261      79.051383\n",
              "\n",
              "[5 rows x 13 columns]"
            ]
          },
          "metadata": {
            "tags": []
          },
          "execution_count": 46
        }
      ]
    },
    {
      "cell_type": "code",
      "metadata": {
        "colab": {
          "base_uri": "https://localhost:8080/"
        },
        "id": "061PrHe0AC6G",
        "outputId": "e0336537-ff81-4622-ed29-c1b885fe3e49"
      },
      "source": [
        "# In February 2021, 89 arrests unaccounted for \n",
        "27+108+130"
      ],
      "execution_count": 43,
      "outputs": [
        {
          "output_type": "execute_result",
          "data": {
            "text/plain": [
              "265"
            ]
          },
          "metadata": {
            "tags": []
          },
          "execution_count": 43
        }
      ]
    },
    {
      "cell_type": "code",
      "metadata": {
        "colab": {
          "base_uri": "https://localhost:8080/"
        },
        "id": "8rvkf76oa8KX",
        "outputId": "f58a9202-1409-45f2-def7-66d2b180dc6a"
      },
      "source": [
        "354-265"
      ],
      "execution_count": 44,
      "outputs": [
        {
          "output_type": "execute_result",
          "data": {
            "text/plain": [
              "89"
            ]
          },
          "metadata": {
            "tags": []
          },
          "execution_count": 44
        }
      ]
    },
    {
      "cell_type": "code",
      "metadata": {
        "id": "XdCm3w1qXdsw"
      },
      "source": [
        "# Create separate columns for month day and year \n",
        "df.date = pd.to_datetime(df.date)"
      ],
      "execution_count": 24,
      "outputs": []
    },
    {
      "cell_type": "code",
      "metadata": {
        "colab": {
          "base_uri": "https://localhost:8080/",
          "height": 309
        },
        "id": "ItZI0DwHXmY6",
        "outputId": "88f3def4-05b8-4460-b36b-e62153297cc9"
      },
      "source": [
        "df[['month', 'year']] = df.date.apply(lambda x: pd.Series(x.strftime(\"%m, %Y\").split(\",\")))\n",
        "df.head()"
      ],
      "execution_count": 47,
      "outputs": [
        {
          "output_type": "execute_result",
          "data": {
            "text/html": [
              "<div>\n",
              "<style scoped>\n",
              "    .dataframe tbody tr th:only-of-type {\n",
              "        vertical-align: middle;\n",
              "    }\n",
              "\n",
              "    .dataframe tbody tr th {\n",
              "        vertical-align: top;\n",
              "    }\n",
              "\n",
              "    .dataframe thead th {\n",
              "        text-align: right;\n",
              "    }\n",
              "</style>\n",
              "<table border=\"1\" class=\"dataframe\">\n",
              "  <thead>\n",
              "    <tr style=\"text-align: right;\">\n",
              "      <th></th>\n",
              "      <th>date</th>\n",
              "      <th>month</th>\n",
              "      <th>year</th>\n",
              "      <th>traffic</th>\n",
              "      <th>criminal</th>\n",
              "      <th>total</th>\n",
              "      <th>RPR</th>\n",
              "      <th>released_bond</th>\n",
              "      <th>Committed</th>\n",
              "      <th>total_released</th>\n",
              "      <th>dc_bench_warrant</th>\n",
              "      <th>dc_arrest_warrant</th>\n",
              "      <th>PC_arrest</th>\n",
              "      <th>cir_ct_warrant</th>\n",
              "    </tr>\n",
              "  </thead>\n",
              "  <tbody>\n",
              "    <tr>\n",
              "      <th>0</th>\n",
              "      <td>2021-02-01</td>\n",
              "      <td>02</td>\n",
              "      <td>2021</td>\n",
              "      <td>28</td>\n",
              "      <td>326</td>\n",
              "      <td>354</td>\n",
              "      <td>27.0</td>\n",
              "      <td>108.0</td>\n",
              "      <td>130.0</td>\n",
              "      <td>135.0</td>\n",
              "      <td>92.0</td>\n",
              "      <td>107.0</td>\n",
              "      <td>121.0</td>\n",
              "      <td>25.0</td>\n",
              "    </tr>\n",
              "    <tr>\n",
              "      <th>1</th>\n",
              "      <td>2021-01-01</td>\n",
              "      <td>01</td>\n",
              "      <td>2021</td>\n",
              "      <td>25</td>\n",
              "      <td>360</td>\n",
              "      <td>385</td>\n",
              "      <td>70.0</td>\n",
              "      <td>92.0</td>\n",
              "      <td>160.0</td>\n",
              "      <td>162.0</td>\n",
              "      <td>102.0</td>\n",
              "      <td>91.0</td>\n",
              "      <td>159.0</td>\n",
              "      <td>22.0</td>\n",
              "    </tr>\n",
              "    <tr>\n",
              "      <th>2</th>\n",
              "      <td>2020-12-01</td>\n",
              "      <td>12</td>\n",
              "      <td>2020</td>\n",
              "      <td>41</td>\n",
              "      <td>388</td>\n",
              "      <td>429</td>\n",
              "      <td>57.0</td>\n",
              "      <td>105.0</td>\n",
              "      <td>207.0</td>\n",
              "      <td>162.0</td>\n",
              "      <td>121.0</td>\n",
              "      <td>115.0</td>\n",
              "      <td>151.0</td>\n",
              "      <td>14.0</td>\n",
              "    </tr>\n",
              "    <tr>\n",
              "      <th>3</th>\n",
              "      <td>2020-11-01</td>\n",
              "      <td>11</td>\n",
              "      <td>2020</td>\n",
              "      <td>39</td>\n",
              "      <td>340</td>\n",
              "      <td>379</td>\n",
              "      <td>53.0</td>\n",
              "      <td>108.0</td>\n",
              "      <td>162.0</td>\n",
              "      <td>161.0</td>\n",
              "      <td>129.0</td>\n",
              "      <td>74.0</td>\n",
              "      <td>145.0</td>\n",
              "      <td>15.0</td>\n",
              "    </tr>\n",
              "    <tr>\n",
              "      <th>4</th>\n",
              "      <td>2020-10-01</td>\n",
              "      <td>10</td>\n",
              "      <td>2020</td>\n",
              "      <td>61</td>\n",
              "      <td>445</td>\n",
              "      <td>506</td>\n",
              "      <td>75.0</td>\n",
              "      <td>145.0</td>\n",
              "      <td>180.0</td>\n",
              "      <td>220.0</td>\n",
              "      <td>162.0</td>\n",
              "      <td>140.0</td>\n",
              "      <td>166.0</td>\n",
              "      <td>29.0</td>\n",
              "    </tr>\n",
              "  </tbody>\n",
              "</table>\n",
              "</div>"
            ],
            "text/plain": [
              "        date month   year  ...  dc_arrest_warrant  PC_arrest  cir_ct_warrant\n",
              "0 2021-02-01    02   2021  ...              107.0      121.0            25.0\n",
              "1 2021-01-01    01   2021  ...               91.0      159.0            22.0\n",
              "2 2020-12-01    12   2020  ...              115.0      151.0            14.0\n",
              "3 2020-11-01    11   2020  ...               74.0      145.0            15.0\n",
              "4 2020-10-01    10   2020  ...              140.0      166.0            29.0\n",
              "\n",
              "[5 rows x 14 columns]"
            ]
          },
          "metadata": {
            "tags": []
          },
          "execution_count": 47
        }
      ]
    },
    {
      "cell_type": "code",
      "metadata": {
        "colab": {
          "base_uri": "https://localhost:8080/",
          "height": 117
        },
        "id": "NwgjgWODdP-J",
        "outputId": "4511d207-a3cc-4ed9-cead-20c8ab120500"
      },
      "source": [
        "df.head(1)"
      ],
      "execution_count": 26,
      "outputs": [
        {
          "output_type": "execute_result",
          "data": {
            "text/html": [
              "<div>\n",
              "<style scoped>\n",
              "    .dataframe tbody tr th:only-of-type {\n",
              "        vertical-align: middle;\n",
              "    }\n",
              "\n",
              "    .dataframe tbody tr th {\n",
              "        vertical-align: top;\n",
              "    }\n",
              "\n",
              "    .dataframe thead th {\n",
              "        text-align: right;\n",
              "    }\n",
              "</style>\n",
              "<table border=\"1\" class=\"dataframe\">\n",
              "  <thead>\n",
              "    <tr style=\"text-align: right;\">\n",
              "      <th></th>\n",
              "      <th>date</th>\n",
              "      <th>traffic</th>\n",
              "      <th>criminal</th>\n",
              "      <th>total</th>\n",
              "      <th>RPR</th>\n",
              "      <th>released_bond</th>\n",
              "      <th>Committed</th>\n",
              "      <th>dc_bench_warrant</th>\n",
              "      <th>dc_arrest_warrant</th>\n",
              "      <th>PC_arrest</th>\n",
              "      <th>cir_ct_warrant</th>\n",
              "      <th>total_released</th>\n",
              "      <th>month</th>\n",
              "      <th>year</th>\n",
              "    </tr>\n",
              "  </thead>\n",
              "  <tbody>\n",
              "    <tr>\n",
              "      <th>0</th>\n",
              "      <td>2021-02-01</td>\n",
              "      <td>28</td>\n",
              "      <td>326</td>\n",
              "      <td>354</td>\n",
              "      <td>27.0</td>\n",
              "      <td>108.0</td>\n",
              "      <td>130.0</td>\n",
              "      <td>92.0</td>\n",
              "      <td>107.0</td>\n",
              "      <td>121.0</td>\n",
              "      <td>25.0</td>\n",
              "      <td>135.0</td>\n",
              "      <td>02</td>\n",
              "      <td>2021</td>\n",
              "    </tr>\n",
              "  </tbody>\n",
              "</table>\n",
              "</div>"
            ],
            "text/plain": [
              "        date  traffic  criminal  ...  total_released  month   year\n",
              "0 2021-02-01       28       326  ...           135.0     02   2021\n",
              "\n",
              "[1 rows x 14 columns]"
            ]
          },
          "metadata": {
            "tags": []
          },
          "execution_count": 26
        }
      ]
    },
    {
      "cell_type": "code",
      "metadata": {
        "id": "R-C3zVQ4cvoG"
      },
      "source": [
        "# Reordering columns to have total column after traffic and criminal\n",
        "df = df[['date', 'month', 'year', 'traffic', 'criminal', 'total', 'RPR', 'released_bond', 'Committed', 'total_released', 'dc_bench_warrant', 'dc_arrest_warrant', 'PC_arrest', 'cir_ct_warrant']]"
      ],
      "execution_count": 27,
      "outputs": []
    },
    {
      "cell_type": "code",
      "metadata": {
        "colab": {
          "base_uri": "https://localhost:8080/",
          "height": 117
        },
        "id": "Nt7QzgrNc90M",
        "outputId": "d02cd0af-cdfd-4609-d9ba-68f9ac078bdc"
      },
      "source": [
        "df.head(1)"
      ],
      "execution_count": 28,
      "outputs": [
        {
          "output_type": "execute_result",
          "data": {
            "text/html": [
              "<div>\n",
              "<style scoped>\n",
              "    .dataframe tbody tr th:only-of-type {\n",
              "        vertical-align: middle;\n",
              "    }\n",
              "\n",
              "    .dataframe tbody tr th {\n",
              "        vertical-align: top;\n",
              "    }\n",
              "\n",
              "    .dataframe thead th {\n",
              "        text-align: right;\n",
              "    }\n",
              "</style>\n",
              "<table border=\"1\" class=\"dataframe\">\n",
              "  <thead>\n",
              "    <tr style=\"text-align: right;\">\n",
              "      <th></th>\n",
              "      <th>date</th>\n",
              "      <th>month</th>\n",
              "      <th>year</th>\n",
              "      <th>traffic</th>\n",
              "      <th>criminal</th>\n",
              "      <th>total</th>\n",
              "      <th>RPR</th>\n",
              "      <th>released_bond</th>\n",
              "      <th>Committed</th>\n",
              "      <th>total_released</th>\n",
              "      <th>dc_bench_warrant</th>\n",
              "      <th>dc_arrest_warrant</th>\n",
              "      <th>PC_arrest</th>\n",
              "      <th>cir_ct_warrant</th>\n",
              "    </tr>\n",
              "  </thead>\n",
              "  <tbody>\n",
              "    <tr>\n",
              "      <th>0</th>\n",
              "      <td>2021-02-01</td>\n",
              "      <td>02</td>\n",
              "      <td>2021</td>\n",
              "      <td>28</td>\n",
              "      <td>326</td>\n",
              "      <td>354</td>\n",
              "      <td>27.0</td>\n",
              "      <td>108.0</td>\n",
              "      <td>130.0</td>\n",
              "      <td>135.0</td>\n",
              "      <td>92.0</td>\n",
              "      <td>107.0</td>\n",
              "      <td>121.0</td>\n",
              "      <td>25.0</td>\n",
              "    </tr>\n",
              "  </tbody>\n",
              "</table>\n",
              "</div>"
            ],
            "text/plain": [
              "        date month   year  ...  dc_arrest_warrant  PC_arrest  cir_ct_warrant\n",
              "0 2021-02-01    02   2021  ...              107.0      121.0            25.0\n",
              "\n",
              "[1 rows x 14 columns]"
            ]
          },
          "metadata": {
            "tags": []
          },
          "execution_count": 28
        }
      ]
    },
    {
      "cell_type": "code",
      "metadata": {
        "colab": {
          "base_uri": "https://localhost:8080/",
          "height": 295
        },
        "id": "XBdOTgxSU3Aa",
        "outputId": "ec26eaac-081f-42c8-f743-6f8e11687bfd"
      },
      "source": [
        "# Make graph comparing total released versus committed\n",
        "import matplotlib.pyplot as plt\n",
        "\n",
        "# Declaring the points for first line plot\n",
        "X1 = df['year']\n",
        "Y1 = df['year']\n",
        "# plotting the first plot\n",
        "plt.plot(X1, Y1, label = \"plot 1\") \n",
        "# Declaring the points for second line plot\n",
        "X2 = df['Committed']\n",
        "Y2 = df['total_released']\n",
        "# plotting the second plot \n",
        "plt.plot(X2, Y2, label = \"plot 2\") \n",
        "  \n",
        "# Labeling the X-axis \n",
        "plt.xlabel('X-axis') \n",
        "# Labeling the Y-axis \n",
        "plt.ylabel('Y-axis') \n",
        "# Give a title to the graph\n",
        "plt.title('Two plots on the same graph') \n",
        "  \n",
        "# Show a legend on the plot \n",
        "plt.legend() \n",
        " \n",
        "plt.show() "
      ],
      "execution_count": 29,
      "outputs": [
        {
          "output_type": "display_data",
          "data": {
            "image/png": "[encoded data removed]",
            "text/plain": [
              "<Figure size 432x288 with 1 Axes>"
            ]
          },
          "metadata": {
            "tags": [],
            "needs_background": "light"
          }
        }
      ]
    },
    {
      "cell_type": "markdown",
      "metadata": {
        "id": "Dij-1xgKfqbj"
      },
      "source": [
        "Interesting but not what was expected!"
      ]
    },
    {
      "cell_type": "code",
      "metadata": {
        "colab": {
          "base_uri": "https://localhost:8080/",
          "height": 295
        },
        "id": "4imDEaOefuyk",
        "outputId": "52a5fcfa-dc37-4d27-c751-f3bf4ed257fc"
      },
      "source": [
        "# Make graph comparing total released versus committed\n",
        "import matplotlib.pyplot as plt\n",
        "\n",
        "# Declaring the points for first line plot\n",
        "X1 = df['year']\n",
        "Y1 = df['Committed']\n",
        "# plotting the first plot\n",
        "plt.plot(X1, Y1, label = \"plot 1\") \n",
        "# Declaring the points for second line plot\n",
        "X2 = df['year']\n",
        "Y2 = df['total_released']\n",
        "# plotting the second plot \n",
        "plt.plot(X2, Y2, label = \"plot 2\") \n",
        "  \n",
        "# Labeling the X-axis \n",
        "plt.xlabel('X-axis') \n",
        "# Labeling the Y-axis \n",
        "plt.ylabel('Y-axis') \n",
        "# Give a title to the graph\n",
        "plt.title('Two plots on the same graph') \n",
        "  \n",
        "# Show a legend on the plot \n",
        "plt.legend() \n",
        " \n",
        "plt.show() "
      ],
      "execution_count": 30,
      "outputs": [
        {
          "output_type": "display_data",
          "data": {
            "image/png": "[encoded data removed]",
            "text/plain": [
              "<Figure size 432x288 with 1 Axes>"
            ]
          },
          "metadata": {
            "tags": [],
            "needs_background": "light"
          }
        }
      ]
    },
    {
      "cell_type": "markdown",
      "metadata": {
        "id": "S5J7EIQrf3ZI"
      },
      "source": [
        "again, cool, but not quite what was expected"
      ]
    },
    {
      "cell_type": "code",
      "metadata": {
        "id": "gZCnnBU6B2ef"
      },
      "source": [
        "# Creating Dataset just based on arrest cause - Warrant or PC\n",
        "df_warrant = df.drop(list(df)[3:5], axis=1)"
      ],
      "execution_count": 31,
      "outputs": []
    },
    {
      "cell_type": "code",
      "metadata": {
        "colab": {
          "base_uri": "https://localhost:8080/",
          "height": 97
        },
        "id": "mdIo7LnZdiXN",
        "outputId": "1a7ff9c2-35b9-42ec-f2d3-6aa0237e4239"
      },
      "source": [
        "df_warrant.head(1)"
      ],
      "execution_count": 32,
      "outputs": [
        {
          "output_type": "execute_result",
          "data": {
            "text/html": [
              "<div>\n",
              "<style scoped>\n",
              "    .dataframe tbody tr th:only-of-type {\n",
              "        vertical-align: middle;\n",
              "    }\n",
              "\n",
              "    .dataframe tbody tr th {\n",
              "        vertical-align: top;\n",
              "    }\n",
              "\n",
              "    .dataframe thead th {\n",
              "        text-align: right;\n",
              "    }\n",
              "</style>\n",
              "<table border=\"1\" class=\"dataframe\">\n",
              "  <thead>\n",
              "    <tr style=\"text-align: right;\">\n",
              "      <th></th>\n",
              "      <th>date</th>\n",
              "      <th>month</th>\n",
              "      <th>year</th>\n",
              "      <th>total</th>\n",
              "      <th>RPR</th>\n",
              "      <th>released_bond</th>\n",
              "      <th>Committed</th>\n",
              "      <th>total_released</th>\n",
              "      <th>dc_bench_warrant</th>\n",
              "      <th>dc_arrest_warrant</th>\n",
              "      <th>PC_arrest</th>\n",
              "      <th>cir_ct_warrant</th>\n",
              "    </tr>\n",
              "  </thead>\n",
              "  <tbody>\n",
              "    <tr>\n",
              "      <th>0</th>\n",
              "      <td>2021-02-01</td>\n",
              "      <td>02</td>\n",
              "      <td>2021</td>\n",
              "      <td>354</td>\n",
              "      <td>27.0</td>\n",
              "      <td>108.0</td>\n",
              "      <td>130.0</td>\n",
              "      <td>135.0</td>\n",
              "      <td>92.0</td>\n",
              "      <td>107.0</td>\n",
              "      <td>121.0</td>\n",
              "      <td>25.0</td>\n",
              "    </tr>\n",
              "  </tbody>\n",
              "</table>\n",
              "</div>"
            ],
            "text/plain": [
              "        date month   year  ...  dc_arrest_warrant  PC_arrest  cir_ct_warrant\n",
              "0 2021-02-01    02   2021  ...              107.0      121.0            25.0\n",
              "\n",
              "[1 rows x 12 columns]"
            ]
          },
          "metadata": {
            "tags": []
          },
          "execution_count": 32
        }
      ]
    },
    {
      "cell_type": "code",
      "metadata": {
        "id": "1r-X9IaLdbqs"
      },
      "source": [
        "df_warrant2 = df_warrant.drop(list(df_warrant)[4:8], axis = 1)"
      ],
      "execution_count": 33,
      "outputs": []
    },
    {
      "cell_type": "code",
      "metadata": {
        "colab": {
          "base_uri": "https://localhost:8080/",
          "height": 204
        },
        "id": "VNfypEPzB-4o",
        "outputId": "7a4005df-6a2d-429d-ca57-563a12b94f6c"
      },
      "source": [
        "df_warrant2.head()"
      ],
      "execution_count": 34,
      "outputs": [
        {
          "output_type": "execute_result",
          "data": {
            "text/html": [
              "<div>\n",
              "<style scoped>\n",
              "    .dataframe tbody tr th:only-of-type {\n",
              "        vertical-align: middle;\n",
              "    }\n",
              "\n",
              "    .dataframe tbody tr th {\n",
              "        vertical-align: top;\n",
              "    }\n",
              "\n",
              "    .dataframe thead th {\n",
              "        text-align: right;\n",
              "    }\n",
              "</style>\n",
              "<table border=\"1\" class=\"dataframe\">\n",
              "  <thead>\n",
              "    <tr style=\"text-align: right;\">\n",
              "      <th></th>\n",
              "      <th>date</th>\n",
              "      <th>month</th>\n",
              "      <th>year</th>\n",
              "      <th>total</th>\n",
              "      <th>dc_bench_warrant</th>\n",
              "      <th>dc_arrest_warrant</th>\n",
              "      <th>PC_arrest</th>\n",
              "      <th>cir_ct_warrant</th>\n",
              "    </tr>\n",
              "  </thead>\n",
              "  <tbody>\n",
              "    <tr>\n",
              "      <th>0</th>\n",
              "      <td>2021-02-01</td>\n",
              "      <td>02</td>\n",
              "      <td>2021</td>\n",
              "      <td>354</td>\n",
              "      <td>92.0</td>\n",
              "      <td>107.0</td>\n",
              "      <td>121.0</td>\n",
              "      <td>25.0</td>\n",
              "    </tr>\n",
              "    <tr>\n",
              "      <th>1</th>\n",
              "      <td>2021-01-01</td>\n",
              "      <td>01</td>\n",
              "      <td>2021</td>\n",
              "      <td>385</td>\n",
              "      <td>102.0</td>\n",
              "      <td>91.0</td>\n",
              "      <td>159.0</td>\n",
              "      <td>22.0</td>\n",
              "    </tr>\n",
              "    <tr>\n",
              "      <th>2</th>\n",
              "      <td>2020-12-01</td>\n",
              "      <td>12</td>\n",
              "      <td>2020</td>\n",
              "      <td>429</td>\n",
              "      <td>121.0</td>\n",
              "      <td>115.0</td>\n",
              "      <td>151.0</td>\n",
              "      <td>14.0</td>\n",
              "    </tr>\n",
              "    <tr>\n",
              "      <th>3</th>\n",
              "      <td>2020-11-01</td>\n",
              "      <td>11</td>\n",
              "      <td>2020</td>\n",
              "      <td>379</td>\n",
              "      <td>129.0</td>\n",
              "      <td>74.0</td>\n",
              "      <td>145.0</td>\n",
              "      <td>15.0</td>\n",
              "    </tr>\n",
              "    <tr>\n",
              "      <th>4</th>\n",
              "      <td>2020-10-01</td>\n",
              "      <td>10</td>\n",
              "      <td>2020</td>\n",
              "      <td>506</td>\n",
              "      <td>162.0</td>\n",
              "      <td>140.0</td>\n",
              "      <td>166.0</td>\n",
              "      <td>29.0</td>\n",
              "    </tr>\n",
              "  </tbody>\n",
              "</table>\n",
              "</div>"
            ],
            "text/plain": [
              "        date month   year  ...  dc_arrest_warrant  PC_arrest  cir_ct_warrant\n",
              "0 2021-02-01    02   2021  ...              107.0      121.0            25.0\n",
              "1 2021-01-01    01   2021  ...               91.0      159.0            22.0\n",
              "2 2020-12-01    12   2020  ...              115.0      151.0            14.0\n",
              "3 2020-11-01    11   2020  ...               74.0      145.0            15.0\n",
              "4 2020-10-01    10   2020  ...              140.0      166.0            29.0\n",
              "\n",
              "[5 rows x 8 columns]"
            ]
          },
          "metadata": {
            "tags": []
          },
          "execution_count": 34
        }
      ]
    },
    {
      "cell_type": "code",
      "metadata": {
        "colab": {
          "base_uri": "https://localhost:8080/",
          "height": 204
        },
        "id": "p77qY6268YYy",
        "outputId": "627cd51b-2295-4fe5-8ca3-2915a5b588da"
      },
      "source": [
        "df_warrant2['percent_PC'] = (df_warrant2.PC_arrest / df_warrant2.total) * 100\n",
        "df_warrant2.head()"
      ],
      "execution_count": 36,
      "outputs": [
        {
          "output_type": "execute_result",
          "data": {
            "text/html": [
              "<div>\n",
              "<style scoped>\n",
              "    .dataframe tbody tr th:only-of-type {\n",
              "        vertical-align: middle;\n",
              "    }\n",
              "\n",
              "    .dataframe tbody tr th {\n",
              "        vertical-align: top;\n",
              "    }\n",
              "\n",
              "    .dataframe thead th {\n",
              "        text-align: right;\n",
              "    }\n",
              "</style>\n",
              "<table border=\"1\" class=\"dataframe\">\n",
              "  <thead>\n",
              "    <tr style=\"text-align: right;\">\n",
              "      <th></th>\n",
              "      <th>date</th>\n",
              "      <th>month</th>\n",
              "      <th>year</th>\n",
              "      <th>total</th>\n",
              "      <th>dc_bench_warrant</th>\n",
              "      <th>dc_arrest_warrant</th>\n",
              "      <th>PC_arrest</th>\n",
              "      <th>cir_ct_warrant</th>\n",
              "      <th>percent_PC</th>\n",
              "    </tr>\n",
              "  </thead>\n",
              "  <tbody>\n",
              "    <tr>\n",
              "      <th>0</th>\n",
              "      <td>2021-02-01</td>\n",
              "      <td>02</td>\n",
              "      <td>2021</td>\n",
              "      <td>354</td>\n",
              "      <td>92.0</td>\n",
              "      <td>107.0</td>\n",
              "      <td>121.0</td>\n",
              "      <td>25.0</td>\n",
              "      <td>34.180791</td>\n",
              "    </tr>\n",
              "    <tr>\n",
              "      <th>1</th>\n",
              "      <td>2021-01-01</td>\n",
              "      <td>01</td>\n",
              "      <td>2021</td>\n",
              "      <td>385</td>\n",
              "      <td>102.0</td>\n",
              "      <td>91.0</td>\n",
              "      <td>159.0</td>\n",
              "      <td>22.0</td>\n",
              "      <td>41.298701</td>\n",
              "    </tr>\n",
              "    <tr>\n",
              "      <th>2</th>\n",
              "      <td>2020-12-01</td>\n",
              "      <td>12</td>\n",
              "      <td>2020</td>\n",
              "      <td>429</td>\n",
              "      <td>121.0</td>\n",
              "      <td>115.0</td>\n",
              "      <td>151.0</td>\n",
              "      <td>14.0</td>\n",
              "      <td>35.198135</td>\n",
              "    </tr>\n",
              "    <tr>\n",
              "      <th>3</th>\n",
              "      <td>2020-11-01</td>\n",
              "      <td>11</td>\n",
              "      <td>2020</td>\n",
              "      <td>379</td>\n",
              "      <td>129.0</td>\n",
              "      <td>74.0</td>\n",
              "      <td>145.0</td>\n",
              "      <td>15.0</td>\n",
              "      <td>38.258575</td>\n",
              "    </tr>\n",
              "    <tr>\n",
              "      <th>4</th>\n",
              "      <td>2020-10-01</td>\n",
              "      <td>10</td>\n",
              "      <td>2020</td>\n",
              "      <td>506</td>\n",
              "      <td>162.0</td>\n",
              "      <td>140.0</td>\n",
              "      <td>166.0</td>\n",
              "      <td>29.0</td>\n",
              "      <td>32.806324</td>\n",
              "    </tr>\n",
              "  </tbody>\n",
              "</table>\n",
              "</div>"
            ],
            "text/plain": [
              "        date month   year  ...  PC_arrest  cir_ct_warrant  percent_PC\n",
              "0 2021-02-01    02   2021  ...      121.0            25.0   34.180791\n",
              "1 2021-01-01    01   2021  ...      159.0            22.0   41.298701\n",
              "2 2020-12-01    12   2020  ...      151.0            14.0   35.198135\n",
              "3 2020-11-01    11   2020  ...      145.0            15.0   38.258575\n",
              "4 2020-10-01    10   2020  ...      166.0            29.0   32.806324\n",
              "\n",
              "[5 rows x 9 columns]"
            ]
          },
          "metadata": {
            "tags": []
          },
          "execution_count": 36
        }
      ]
    },
    {
      "cell_type": "code",
      "metadata": {
        "colab": {
          "base_uri": "https://localhost:8080/",
          "height": 80
        },
        "id": "S6uTdWriZg-9",
        "outputId": "36ee120a-af66-4c61-9276-edc70e77a495"
      },
      "source": [
        "df_warrant2['percent_warrant'] = ((df_warrant2.dc_bench_warrant + df_warrant2.dc_arrest_warrant + df_warrant2.cir_ct_warrant)/ df_warrant2.total) * 100\n",
        "df_warrant2.head(1)"
      ],
      "execution_count": 39,
      "outputs": [
        {
          "output_type": "execute_result",
          "data": {
            "text/html": [
              "<div>\n",
              "<style scoped>\n",
              "    .dataframe tbody tr th:only-of-type {\n",
              "        vertical-align: middle;\n",
              "    }\n",
              "\n",
              "    .dataframe tbody tr th {\n",
              "        vertical-align: top;\n",
              "    }\n",
              "\n",
              "    .dataframe thead th {\n",
              "        text-align: right;\n",
              "    }\n",
              "</style>\n",
              "<table border=\"1\" class=\"dataframe\">\n",
              "  <thead>\n",
              "    <tr style=\"text-align: right;\">\n",
              "      <th></th>\n",
              "      <th>date</th>\n",
              "      <th>month</th>\n",
              "      <th>year</th>\n",
              "      <th>total</th>\n",
              "      <th>dc_bench_warrant</th>\n",
              "      <th>dc_arrest_warrant</th>\n",
              "      <th>PC_arrest</th>\n",
              "      <th>cir_ct_warrant</th>\n",
              "      <th>percent_PC</th>\n",
              "      <th>percent_warrant</th>\n",
              "    </tr>\n",
              "  </thead>\n",
              "  <tbody>\n",
              "    <tr>\n",
              "      <th>0</th>\n",
              "      <td>2021-02-01</td>\n",
              "      <td>02</td>\n",
              "      <td>2021</td>\n",
              "      <td>354</td>\n",
              "      <td>92.0</td>\n",
              "      <td>107.0</td>\n",
              "      <td>121.0</td>\n",
              "      <td>25.0</td>\n",
              "      <td>34.180791</td>\n",
              "      <td>63.276836</td>\n",
              "    </tr>\n",
              "  </tbody>\n",
              "</table>\n",
              "</div>"
            ],
            "text/plain": [
              "        date month   year  ...  cir_ct_warrant  percent_PC  percent_warrant\n",
              "0 2021-02-01    02   2021  ...            25.0   34.180791        63.276836\n",
              "\n",
              "[1 rows x 10 columns]"
            ]
          },
          "metadata": {
            "tags": []
          },
          "execution_count": 39
        }
      ]
    },
    {
      "cell_type": "code",
      "metadata": {
        "colab": {
          "base_uri": "https://localhost:8080/",
          "height": 114
        },
        "id": "6YSZ5KN2aENm",
        "outputId": "a07cef83-6885-4868-9d03-3c79192f9acb"
      },
      "source": [
        "df_warrant2['percent total'] = (df_warrant2.percent_PC + df_warrant2.percent_warrant)\n",
        "df_warrant2.head(1)"
      ],
      "execution_count": 40,
      "outputs": [
        {
          "output_type": "execute_result",
          "data": {
            "text/html": [
              "<div>\n",
              "<style scoped>\n",
              "    .dataframe tbody tr th:only-of-type {\n",
              "        vertical-align: middle;\n",
              "    }\n",
              "\n",
              "    .dataframe tbody tr th {\n",
              "        vertical-align: top;\n",
              "    }\n",
              "\n",
              "    .dataframe thead th {\n",
              "        text-align: right;\n",
              "    }\n",
              "</style>\n",
              "<table border=\"1\" class=\"dataframe\">\n",
              "  <thead>\n",
              "    <tr style=\"text-align: right;\">\n",
              "      <th></th>\n",
              "      <th>date</th>\n",
              "      <th>month</th>\n",
              "      <th>year</th>\n",
              "      <th>total</th>\n",
              "      <th>dc_bench_warrant</th>\n",
              "      <th>dc_arrest_warrant</th>\n",
              "      <th>PC_arrest</th>\n",
              "      <th>cir_ct_warrant</th>\n",
              "      <th>percent_PC</th>\n",
              "      <th>percent_warrant</th>\n",
              "      <th>percent total</th>\n",
              "    </tr>\n",
              "  </thead>\n",
              "  <tbody>\n",
              "    <tr>\n",
              "      <th>0</th>\n",
              "      <td>2021-02-01</td>\n",
              "      <td>02</td>\n",
              "      <td>2021</td>\n",
              "      <td>354</td>\n",
              "      <td>92.0</td>\n",
              "      <td>107.0</td>\n",
              "      <td>121.0</td>\n",
              "      <td>25.0</td>\n",
              "      <td>34.180791</td>\n",
              "      <td>63.276836</td>\n",
              "      <td>97.457627</td>\n",
              "    </tr>\n",
              "  </tbody>\n",
              "</table>\n",
              "</div>"
            ],
            "text/plain": [
              "        date month   year  ...  percent_PC  percent_warrant  percent total\n",
              "0 2021-02-01    02   2021  ...   34.180791        63.276836      97.457627\n",
              "\n",
              "[1 rows x 11 columns]"
            ]
          },
          "metadata": {
            "tags": []
          },
          "execution_count": 40
        }
      ]
    },
    {
      "cell_type": "code",
      "metadata": {
        "colab": {
          "base_uri": "https://localhost:8080/"
        },
        "id": "WSIRCy7OaXff",
        "outputId": "9390d1c7-834b-48c4-dc2d-bc009338139a"
      },
      "source": [
        "# 10 arrests are unaccounted for\n",
        "92+107+121+25"
      ],
      "execution_count": 41,
      "outputs": [
        {
          "output_type": "execute_result",
          "data": {
            "text/plain": [
              "345"
            ]
          },
          "metadata": {
            "tags": []
          },
          "execution_count": 41
        }
      ]
    }
  ]
}