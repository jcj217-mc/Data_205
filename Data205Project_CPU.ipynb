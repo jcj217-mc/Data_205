{
  "nbformat": 4,
  "nbformat_minor": 0,
  "metadata": {
    "colab": {
      "name": "Data205Project_CPU.ipynb",
      "provenance": [],
      "collapsed_sections": [],
      "authorship_tag": "ABX9TyMrLIcIgxUo1JBx5dRaMLyp",
      "include_colab_link": true
    },
    "kernelspec": {
      "name": "python3",
      "display_name": "Python 3"
    },
    "language_info": {
      "name": "python"
    }
  },
  "cells": [
    {
      "cell_type": "markdown",
      "metadata": {
        "id": "view-in-github",
        "colab_type": "text"
      },
      "source": [
        "<a href=\"https://colab.research.google.com/github/jcj217-mc/Data_205/blob/main/Data205Project_CPU.ipynb\" target=\"_parent\"><img src=\"https://colab.research.google.com/assets/colab-badge.svg\" alt=\"Open In Colab\"/></a>"
      ]
    },
    {
      "cell_type": "code",
      "metadata": {
        "id": "ESLMnhDz8h_O"
      },
      "source": [
        "# import packages\n",
        "import pandas as pd\n",
        "import numpy as np\n",
        "import os \n",
        "import json"
      ],
      "execution_count": null,
      "outputs": []
    },
    {
      "cell_type": "code",
      "metadata": {
        "id": "o4nR6uqP_JsR"
      },
      "source": [
        "# tab-separated data into pandas data frame.\n",
        "df = pd.read_json('https://data.montgomerycountymd.gov/resource/sari-cs3z.json')  "
      ],
      "execution_count": null,
      "outputs": []
    },
    {
      "cell_type": "code",
      "metadata": {
        "colab": {
          "base_uri": "https://localhost:8080/",
          "height": 309
        },
        "id": "Qk5URfry_YUZ",
        "outputId": "250e2635-41c8-493e-e52e-1ad2bb1c98f3"
      },
      "source": [
        "df.head()"
      ],
      "execution_count": null,
      "outputs": [
        {
          "output_type": "execute_result",
          "data": {
            "text/html": [
              "<div>\n",
              "<style scoped>\n",
              "    .dataframe tbody tr th:only-of-type {\n",
              "        vertical-align: middle;\n",
              "    }\n",
              "\n",
              "    .dataframe tbody tr th {\n",
              "        vertical-align: top;\n",
              "    }\n",
              "\n",
              "    .dataframe thead th {\n",
              "        text-align: right;\n",
              "    }\n",
              "</style>\n",
              "<table border=\"1\" class=\"dataframe\">\n",
              "  <thead>\n",
              "    <tr style=\"text-align: right;\">\n",
              "      <th></th>\n",
              "      <th>month</th>\n",
              "      <th>shift_1</th>\n",
              "      <th>shift_2</th>\n",
              "      <th>shift_3</th>\n",
              "      <th>traffic</th>\n",
              "      <th>criminal</th>\n",
              "      <th>released_personal_recognizance</th>\n",
              "      <th>released_unsecured_bond</th>\n",
              "      <th>committed_with_bond</th>\n",
              "      <th>district_court_bench_warrant</th>\n",
              "      <th>district_court_arrest_warrant</th>\n",
              "      <th>on_view_arrest_soc</th>\n",
              "      <th>circuit_court_warrant</th>\n",
              "    </tr>\n",
              "  </thead>\n",
              "  <tbody>\n",
              "    <tr>\n",
              "      <th>0</th>\n",
              "      <td>2021-02-01T00:00:00.000</td>\n",
              "      <td>115</td>\n",
              "      <td>100</td>\n",
              "      <td>139</td>\n",
              "      <td>28</td>\n",
              "      <td>326</td>\n",
              "      <td>27.0</td>\n",
              "      <td>108.0</td>\n",
              "      <td>130.0</td>\n",
              "      <td>92.0</td>\n",
              "      <td>107.0</td>\n",
              "      <td>121.0</td>\n",
              "      <td>25.0</td>\n",
              "    </tr>\n",
              "    <tr>\n",
              "      <th>1</th>\n",
              "      <td>2021-01-01T00:00:00.000</td>\n",
              "      <td>123</td>\n",
              "      <td>127</td>\n",
              "      <td>135</td>\n",
              "      <td>25</td>\n",
              "      <td>360</td>\n",
              "      <td>70.0</td>\n",
              "      <td>92.0</td>\n",
              "      <td>160.0</td>\n",
              "      <td>102.0</td>\n",
              "      <td>91.0</td>\n",
              "      <td>159.0</td>\n",
              "      <td>22.0</td>\n",
              "    </tr>\n",
              "    <tr>\n",
              "      <th>2</th>\n",
              "      <td>2020-12-01T00:00:00.000</td>\n",
              "      <td>143</td>\n",
              "      <td>148</td>\n",
              "      <td>138</td>\n",
              "      <td>41</td>\n",
              "      <td>388</td>\n",
              "      <td>57.0</td>\n",
              "      <td>105.0</td>\n",
              "      <td>207.0</td>\n",
              "      <td>121.0</td>\n",
              "      <td>115.0</td>\n",
              "      <td>151.0</td>\n",
              "      <td>14.0</td>\n",
              "    </tr>\n",
              "    <tr>\n",
              "      <th>3</th>\n",
              "      <td>2020-11-01T00:00:00.000</td>\n",
              "      <td>141</td>\n",
              "      <td>113</td>\n",
              "      <td>125</td>\n",
              "      <td>39</td>\n",
              "      <td>340</td>\n",
              "      <td>53.0</td>\n",
              "      <td>108.0</td>\n",
              "      <td>162.0</td>\n",
              "      <td>129.0</td>\n",
              "      <td>74.0</td>\n",
              "      <td>145.0</td>\n",
              "      <td>15.0</td>\n",
              "    </tr>\n",
              "    <tr>\n",
              "      <th>4</th>\n",
              "      <td>2020-10-01T00:00:00.000</td>\n",
              "      <td>165</td>\n",
              "      <td>161</td>\n",
              "      <td>180</td>\n",
              "      <td>61</td>\n",
              "      <td>445</td>\n",
              "      <td>75.0</td>\n",
              "      <td>145.0</td>\n",
              "      <td>180.0</td>\n",
              "      <td>162.0</td>\n",
              "      <td>140.0</td>\n",
              "      <td>166.0</td>\n",
              "      <td>29.0</td>\n",
              "    </tr>\n",
              "  </tbody>\n",
              "</table>\n",
              "</div>"
            ],
            "text/plain": [
              "                     month  shift_1  ...  on_view_arrest_soc  circuit_court_warrant\n",
              "0  2021-02-01T00:00:00.000      115  ...               121.0                   25.0\n",
              "1  2021-01-01T00:00:00.000      123  ...               159.0                   22.0\n",
              "2  2020-12-01T00:00:00.000      143  ...               151.0                   14.0\n",
              "3  2020-11-01T00:00:00.000      141  ...               145.0                   15.0\n",
              "4  2020-10-01T00:00:00.000      165  ...               166.0                   29.0\n",
              "\n",
              "[5 rows x 13 columns]"
            ]
          },
          "metadata": {
            "tags": []
          },
          "execution_count": 55
        }
      ]
    },
    {
      "cell_type": "code",
      "metadata": {
        "colab": {
          "base_uri": "https://localhost:8080/"
        },
        "id": "SxPkbkGcvWtf",
        "outputId": "1e4f9f9e-4192-4115-906e-cd2ef12dc5e7"
      },
      "source": [
        "df.shape"
      ],
      "execution_count": null,
      "outputs": [
        {
          "output_type": "execute_result",
          "data": {
            "text/plain": [
              "(56, 13)"
            ]
          },
          "metadata": {
            "tags": []
          },
          "execution_count": 56
        }
      ]
    },
    {
      "cell_type": "code",
      "metadata": {
        "colab": {
          "base_uri": "https://localhost:8080/",
          "height": 117
        },
        "id": "l57O1nI1lpGk",
        "outputId": "b4e7e0cf-59fa-42a6-bb6b-1581546595e4"
      },
      "source": [
        "# Renaming 'month' column to 'date' column\n",
        "df.rename(columns={'month': 'date'}, inplace=True)\n",
        "df.head(1)"
      ],
      "execution_count": null,
      "outputs": [
        {
          "output_type": "execute_result",
          "data": {
            "text/html": [
              "<div>\n",
              "<style scoped>\n",
              "    .dataframe tbody tr th:only-of-type {\n",
              "        vertical-align: middle;\n",
              "    }\n",
              "\n",
              "    .dataframe tbody tr th {\n",
              "        vertical-align: top;\n",
              "    }\n",
              "\n",
              "    .dataframe thead th {\n",
              "        text-align: right;\n",
              "    }\n",
              "</style>\n",
              "<table border=\"1\" class=\"dataframe\">\n",
              "  <thead>\n",
              "    <tr style=\"text-align: right;\">\n",
              "      <th></th>\n",
              "      <th>date</th>\n",
              "      <th>shift_1</th>\n",
              "      <th>shift_2</th>\n",
              "      <th>shift_3</th>\n",
              "      <th>traffic</th>\n",
              "      <th>criminal</th>\n",
              "      <th>released_personal_recognizance</th>\n",
              "      <th>released_unsecured_bond</th>\n",
              "      <th>committed_with_bond</th>\n",
              "      <th>district_court_bench_warrant</th>\n",
              "      <th>district_court_arrest_warrant</th>\n",
              "      <th>on_view_arrest_soc</th>\n",
              "      <th>circuit_court_warrant</th>\n",
              "    </tr>\n",
              "  </thead>\n",
              "  <tbody>\n",
              "    <tr>\n",
              "      <th>0</th>\n",
              "      <td>2021-02-01T00:00:00.000</td>\n",
              "      <td>115</td>\n",
              "      <td>100</td>\n",
              "      <td>139</td>\n",
              "      <td>28</td>\n",
              "      <td>326</td>\n",
              "      <td>27.0</td>\n",
              "      <td>108.0</td>\n",
              "      <td>130.0</td>\n",
              "      <td>92.0</td>\n",
              "      <td>107.0</td>\n",
              "      <td>121.0</td>\n",
              "      <td>25.0</td>\n",
              "    </tr>\n",
              "  </tbody>\n",
              "</table>\n",
              "</div>"
            ],
            "text/plain": [
              "                      date  shift_1  ...  on_view_arrest_soc  circuit_court_warrant\n",
              "0  2021-02-01T00:00:00.000      115  ...               121.0                   25.0\n",
              "\n",
              "[1 rows x 13 columns]"
            ]
          },
          "metadata": {
            "tags": []
          },
          "execution_count": 57
        }
      ]
    },
    {
      "cell_type": "code",
      "metadata": {
        "colab": {
          "base_uri": "https://localhost:8080/"
        },
        "id": "D0VYAxQ5Dy6e",
        "outputId": "99d4fea9-0f07-4ffd-a74f-e2d3d5e2b9ca"
      },
      "source": [
        "# Checking data types for each column\n",
        "print(df.dtypes)"
      ],
      "execution_count": null,
      "outputs": [
        {
          "output_type": "stream",
          "text": [
            "date                               object\n",
            "shift_1                             int64\n",
            "shift_2                             int64\n",
            "shift_3                             int64\n",
            "traffic                             int64\n",
            "criminal                            int64\n",
            "released_personal_recognizance    float64\n",
            "released_unsecured_bond           float64\n",
            "committed_with_bond               float64\n",
            "district_court_bench_warrant      float64\n",
            "district_court_arrest_warrant     float64\n",
            "on_view_arrest_soc                float64\n",
            "circuit_court_warrant             float64\n",
            "dtype: object\n"
          ],
          "name": "stdout"
        }
      ]
    },
    {
      "cell_type": "code",
      "metadata": {
        "id": "zP2YCQc9ERK4"
      },
      "source": [
        "# Converting date information to datetime from object and removing time from date\n",
        "df.date = pd.to_datetime(df.date)\n",
        "# df['date'] = pd.to_datetime(df['date']).dt.date"
      ],
      "execution_count": null,
      "outputs": []
    },
    {
      "cell_type": "code",
      "metadata": {
        "colab": {
          "base_uri": "https://localhost:8080/",
          "height": 309
        },
        "id": "ulk-n9zwEVeX",
        "outputId": "001e92c6-7479-4774-b0d1-7b535710de23"
      },
      "source": [
        "df.head()"
      ],
      "execution_count": null,
      "outputs": [
        {
          "output_type": "execute_result",
          "data": {
            "text/html": [
              "<div>\n",
              "<style scoped>\n",
              "    .dataframe tbody tr th:only-of-type {\n",
              "        vertical-align: middle;\n",
              "    }\n",
              "\n",
              "    .dataframe tbody tr th {\n",
              "        vertical-align: top;\n",
              "    }\n",
              "\n",
              "    .dataframe thead th {\n",
              "        text-align: right;\n",
              "    }\n",
              "</style>\n",
              "<table border=\"1\" class=\"dataframe\">\n",
              "  <thead>\n",
              "    <tr style=\"text-align: right;\">\n",
              "      <th></th>\n",
              "      <th>date</th>\n",
              "      <th>shift_1</th>\n",
              "      <th>shift_2</th>\n",
              "      <th>shift_3</th>\n",
              "      <th>traffic</th>\n",
              "      <th>criminal</th>\n",
              "      <th>released_personal_recognizance</th>\n",
              "      <th>released_unsecured_bond</th>\n",
              "      <th>committed_with_bond</th>\n",
              "      <th>district_court_bench_warrant</th>\n",
              "      <th>district_court_arrest_warrant</th>\n",
              "      <th>on_view_arrest_soc</th>\n",
              "      <th>circuit_court_warrant</th>\n",
              "    </tr>\n",
              "  </thead>\n",
              "  <tbody>\n",
              "    <tr>\n",
              "      <th>0</th>\n",
              "      <td>2021-02-01</td>\n",
              "      <td>115</td>\n",
              "      <td>100</td>\n",
              "      <td>139</td>\n",
              "      <td>28</td>\n",
              "      <td>326</td>\n",
              "      <td>27.0</td>\n",
              "      <td>108.0</td>\n",
              "      <td>130.0</td>\n",
              "      <td>92.0</td>\n",
              "      <td>107.0</td>\n",
              "      <td>121.0</td>\n",
              "      <td>25.0</td>\n",
              "    </tr>\n",
              "    <tr>\n",
              "      <th>1</th>\n",
              "      <td>2021-01-01</td>\n",
              "      <td>123</td>\n",
              "      <td>127</td>\n",
              "      <td>135</td>\n",
              "      <td>25</td>\n",
              "      <td>360</td>\n",
              "      <td>70.0</td>\n",
              "      <td>92.0</td>\n",
              "      <td>160.0</td>\n",
              "      <td>102.0</td>\n",
              "      <td>91.0</td>\n",
              "      <td>159.0</td>\n",
              "      <td>22.0</td>\n",
              "    </tr>\n",
              "    <tr>\n",
              "      <th>2</th>\n",
              "      <td>2020-12-01</td>\n",
              "      <td>143</td>\n",
              "      <td>148</td>\n",
              "      <td>138</td>\n",
              "      <td>41</td>\n",
              "      <td>388</td>\n",
              "      <td>57.0</td>\n",
              "      <td>105.0</td>\n",
              "      <td>207.0</td>\n",
              "      <td>121.0</td>\n",
              "      <td>115.0</td>\n",
              "      <td>151.0</td>\n",
              "      <td>14.0</td>\n",
              "    </tr>\n",
              "    <tr>\n",
              "      <th>3</th>\n",
              "      <td>2020-11-01</td>\n",
              "      <td>141</td>\n",
              "      <td>113</td>\n",
              "      <td>125</td>\n",
              "      <td>39</td>\n",
              "      <td>340</td>\n",
              "      <td>53.0</td>\n",
              "      <td>108.0</td>\n",
              "      <td>162.0</td>\n",
              "      <td>129.0</td>\n",
              "      <td>74.0</td>\n",
              "      <td>145.0</td>\n",
              "      <td>15.0</td>\n",
              "    </tr>\n",
              "    <tr>\n",
              "      <th>4</th>\n",
              "      <td>2020-10-01</td>\n",
              "      <td>165</td>\n",
              "      <td>161</td>\n",
              "      <td>180</td>\n",
              "      <td>61</td>\n",
              "      <td>445</td>\n",
              "      <td>75.0</td>\n",
              "      <td>145.0</td>\n",
              "      <td>180.0</td>\n",
              "      <td>162.0</td>\n",
              "      <td>140.0</td>\n",
              "      <td>166.0</td>\n",
              "      <td>29.0</td>\n",
              "    </tr>\n",
              "  </tbody>\n",
              "</table>\n",
              "</div>"
            ],
            "text/plain": [
              "        date  shift_1  ...  on_view_arrest_soc  circuit_court_warrant\n",
              "0 2021-02-01      115  ...               121.0                   25.0\n",
              "1 2021-01-01      123  ...               159.0                   22.0\n",
              "2 2020-12-01      143  ...               151.0                   14.0\n",
              "3 2020-11-01      141  ...               145.0                   15.0\n",
              "4 2020-10-01      165  ...               166.0                   29.0\n",
              "\n",
              "[5 rows x 13 columns]"
            ]
          },
          "metadata": {
            "tags": []
          },
          "execution_count": 60
        }
      ]
    },
    {
      "cell_type": "code",
      "metadata": {
        "colab": {
          "base_uri": "https://localhost:8080/"
        },
        "id": "gPnorgxWkrMA",
        "outputId": "f0bcda5a-a01c-47b3-b6c8-7a69b2cd8c16"
      },
      "source": [
        "df.info()"
      ],
      "execution_count": null,
      "outputs": [
        {
          "output_type": "stream",
          "text": [
            "<class 'pandas.core.frame.DataFrame'>\n",
            "RangeIndex: 56 entries, 0 to 55\n",
            "Data columns (total 13 columns):\n",
            " #   Column                          Non-Null Count  Dtype         \n",
            "---  ------                          --------------  -----         \n",
            " 0   date                            56 non-null     datetime64[ns]\n",
            " 1   shift_1                         56 non-null     int64         \n",
            " 2   shift_2                         56 non-null     int64         \n",
            " 3   shift_3                         56 non-null     int64         \n",
            " 4   traffic                         56 non-null     int64         \n",
            " 5   criminal                        56 non-null     int64         \n",
            " 6   released_personal_recognizance  50 non-null     float64       \n",
            " 7   released_unsecured_bond         50 non-null     float64       \n",
            " 8   committed_with_bond             50 non-null     float64       \n",
            " 9   district_court_bench_warrant    50 non-null     float64       \n",
            " 10  district_court_arrest_warrant   50 non-null     float64       \n",
            " 11  on_view_arrest_soc              50 non-null     float64       \n",
            " 12  circuit_court_warrant           50 non-null     float64       \n",
            "dtypes: datetime64[ns](1), float64(7), int64(5)\n",
            "memory usage: 5.8 KB\n"
          ],
          "name": "stdout"
        }
      ]
    },
    {
      "cell_type": "code",
      "metadata": {
        "id": "IIyeKdlrRFhK"
      },
      "source": [
        "# create new \"total\" column with \"traffic\" + \"criminal\"\n",
        "total = []\n",
        "for index, row in df.iterrows(): \n",
        "      total.append(row.traffic + row.criminal)"
      ],
      "execution_count": null,
      "outputs": []
    },
    {
      "cell_type": "code",
      "metadata": {
        "id": "0URPuMzsR35V"
      },
      "source": [
        " df['total'] = total"
      ],
      "execution_count": null,
      "outputs": []
    },
    {
      "cell_type": "code",
      "metadata": {
        "colab": {
          "base_uri": "https://localhost:8080/",
          "height": 117
        },
        "id": "kKIUlKxsRhDm",
        "outputId": "db49cbe0-adc7-4700-813e-38db91941d41"
      },
      "source": [
        "df.head(1)"
      ],
      "execution_count": null,
      "outputs": [
        {
          "output_type": "execute_result",
          "data": {
            "text/html": [
              "<div>\n",
              "<style scoped>\n",
              "    .dataframe tbody tr th:only-of-type {\n",
              "        vertical-align: middle;\n",
              "    }\n",
              "\n",
              "    .dataframe tbody tr th {\n",
              "        vertical-align: top;\n",
              "    }\n",
              "\n",
              "    .dataframe thead th {\n",
              "        text-align: right;\n",
              "    }\n",
              "</style>\n",
              "<table border=\"1\" class=\"dataframe\">\n",
              "  <thead>\n",
              "    <tr style=\"text-align: right;\">\n",
              "      <th></th>\n",
              "      <th>date</th>\n",
              "      <th>shift_1</th>\n",
              "      <th>shift_2</th>\n",
              "      <th>shift_3</th>\n",
              "      <th>traffic</th>\n",
              "      <th>criminal</th>\n",
              "      <th>released_personal_recognizance</th>\n",
              "      <th>released_unsecured_bond</th>\n",
              "      <th>committed_with_bond</th>\n",
              "      <th>district_court_bench_warrant</th>\n",
              "      <th>district_court_arrest_warrant</th>\n",
              "      <th>on_view_arrest_soc</th>\n",
              "      <th>circuit_court_warrant</th>\n",
              "      <th>total</th>\n",
              "    </tr>\n",
              "  </thead>\n",
              "  <tbody>\n",
              "    <tr>\n",
              "      <th>0</th>\n",
              "      <td>2021-02-01</td>\n",
              "      <td>115</td>\n",
              "      <td>100</td>\n",
              "      <td>139</td>\n",
              "      <td>28</td>\n",
              "      <td>326</td>\n",
              "      <td>27.0</td>\n",
              "      <td>108.0</td>\n",
              "      <td>130.0</td>\n",
              "      <td>92.0</td>\n",
              "      <td>107.0</td>\n",
              "      <td>121.0</td>\n",
              "      <td>25.0</td>\n",
              "      <td>354</td>\n",
              "    </tr>\n",
              "  </tbody>\n",
              "</table>\n",
              "</div>"
            ],
            "text/plain": [
              "        date  shift_1  ...  circuit_court_warrant  total\n",
              "0 2021-02-01      115  ...                   25.0    354\n",
              "\n",
              "[1 rows x 14 columns]"
            ]
          },
          "metadata": {
            "tags": []
          },
          "execution_count": 64
        }
      ]
    },
    {
      "cell_type": "code",
      "metadata": {
        "colab": {
          "base_uri": "https://localhost:8080/",
          "height": 117
        },
        "id": "Paq8kkeEShEs",
        "outputId": "9668a81c-878a-4875-87e1-1a5fb9bea1d5"
      },
      "source": [
        "df.head(1)"
      ],
      "execution_count": null,
      "outputs": [
        {
          "output_type": "execute_result",
          "data": {
            "text/html": [
              "<div>\n",
              "<style scoped>\n",
              "    .dataframe tbody tr th:only-of-type {\n",
              "        vertical-align: middle;\n",
              "    }\n",
              "\n",
              "    .dataframe tbody tr th {\n",
              "        vertical-align: top;\n",
              "    }\n",
              "\n",
              "    .dataframe thead th {\n",
              "        text-align: right;\n",
              "    }\n",
              "</style>\n",
              "<table border=\"1\" class=\"dataframe\">\n",
              "  <thead>\n",
              "    <tr style=\"text-align: right;\">\n",
              "      <th></th>\n",
              "      <th>date</th>\n",
              "      <th>shift_1</th>\n",
              "      <th>shift_2</th>\n",
              "      <th>shift_3</th>\n",
              "      <th>traffic</th>\n",
              "      <th>criminal</th>\n",
              "      <th>released_personal_recognizance</th>\n",
              "      <th>released_unsecured_bond</th>\n",
              "      <th>committed_with_bond</th>\n",
              "      <th>district_court_bench_warrant</th>\n",
              "      <th>district_court_arrest_warrant</th>\n",
              "      <th>on_view_arrest_soc</th>\n",
              "      <th>circuit_court_warrant</th>\n",
              "      <th>total</th>\n",
              "    </tr>\n",
              "  </thead>\n",
              "  <tbody>\n",
              "    <tr>\n",
              "      <th>0</th>\n",
              "      <td>2021-02-01</td>\n",
              "      <td>115</td>\n",
              "      <td>100</td>\n",
              "      <td>139</td>\n",
              "      <td>28</td>\n",
              "      <td>326</td>\n",
              "      <td>27.0</td>\n",
              "      <td>108.0</td>\n",
              "      <td>130.0</td>\n",
              "      <td>92.0</td>\n",
              "      <td>107.0</td>\n",
              "      <td>121.0</td>\n",
              "      <td>25.0</td>\n",
              "      <td>354</td>\n",
              "    </tr>\n",
              "  </tbody>\n",
              "</table>\n",
              "</div>"
            ],
            "text/plain": [
              "        date  shift_1  ...  circuit_court_warrant  total\n",
              "0 2021-02-01      115  ...                   25.0    354\n",
              "\n",
              "[1 rows x 14 columns]"
            ]
          },
          "metadata": {
            "tags": []
          },
          "execution_count": 65
        }
      ]
    },
    {
      "cell_type": "code",
      "metadata": {
        "id": "uFMKjQEgCSdU"
      },
      "source": [
        "# Change column names with rename() function\n",
        "df = df.rename(columns = {\"month\": \"date\", \"released_personal_recognizance\": \"RPR\", \"released_unsecured_bond\":\"released_bond\", \"committed_with_bond\":\"Committed\", \"district_court_bench_warrant\" : \"dc_bench_warrant\", \"district_court_arrest_warrant\": \"dc_arrest_warrant\", \"on_view_arrest_soc\": \"PC_arrest\", \"circuit_court_warrant\": 'cir_ct_warrant'})"
      ],
      "execution_count": null,
      "outputs": []
    },
    {
      "cell_type": "code",
      "metadata": {
        "colab": {
          "base_uri": "https://localhost:8080/",
          "height": 317
        },
        "id": "ROOd9jg7CIu1",
        "outputId": "bec2b62c-d29e-45f7-ebdb-7a1ed608e48f"
      },
      "source": [
        "df.describe()"
      ],
      "execution_count": null,
      "outputs": [
        {
          "output_type": "execute_result",
          "data": {
            "text/html": [
              "<div>\n",
              "<style scoped>\n",
              "    .dataframe tbody tr th:only-of-type {\n",
              "        vertical-align: middle;\n",
              "    }\n",
              "\n",
              "    .dataframe tbody tr th {\n",
              "        vertical-align: top;\n",
              "    }\n",
              "\n",
              "    .dataframe thead th {\n",
              "        text-align: right;\n",
              "    }\n",
              "</style>\n",
              "<table border=\"1\" class=\"dataframe\">\n",
              "  <thead>\n",
              "    <tr style=\"text-align: right;\">\n",
              "      <th></th>\n",
              "      <th>shift_1</th>\n",
              "      <th>shift_2</th>\n",
              "      <th>shift_3</th>\n",
              "      <th>traffic</th>\n",
              "      <th>criminal</th>\n",
              "      <th>RPR</th>\n",
              "      <th>released_bond</th>\n",
              "      <th>Committed</th>\n",
              "      <th>dc_bench_warrant</th>\n",
              "      <th>dc_arrest_warrant</th>\n",
              "      <th>PC_arrest</th>\n",
              "      <th>cir_ct_warrant</th>\n",
              "      <th>total</th>\n",
              "    </tr>\n",
              "  </thead>\n",
              "  <tbody>\n",
              "    <tr>\n",
              "      <th>count</th>\n",
              "      <td>56.000000</td>\n",
              "      <td>56.000000</td>\n",
              "      <td>56.000000</td>\n",
              "      <td>56.000000</td>\n",
              "      <td>56.00000</td>\n",
              "      <td>50.000000</td>\n",
              "      <td>50.000000</td>\n",
              "      <td>50.000000</td>\n",
              "      <td>50.00000</td>\n",
              "      <td>50.000000</td>\n",
              "      <td>50.000000</td>\n",
              "      <td>50.000000</td>\n",
              "      <td>56.000000</td>\n",
              "    </tr>\n",
              "    <tr>\n",
              "      <th>mean</th>\n",
              "      <td>264.464286</td>\n",
              "      <td>233.017857</td>\n",
              "      <td>298.071429</td>\n",
              "      <td>149.446429</td>\n",
              "      <td>691.87500</td>\n",
              "      <td>151.500000</td>\n",
              "      <td>179.440000</td>\n",
              "      <td>255.160000</td>\n",
              "      <td>319.52000</td>\n",
              "      <td>146.000000</td>\n",
              "      <td>265.520000</td>\n",
              "      <td>41.020000</td>\n",
              "      <td>841.321429</td>\n",
              "    </tr>\n",
              "    <tr>\n",
              "      <th>std</th>\n",
              "      <td>74.419930</td>\n",
              "      <td>61.041414</td>\n",
              "      <td>79.629793</td>\n",
              "      <td>62.904522</td>\n",
              "      <td>192.50474</td>\n",
              "      <td>59.311096</td>\n",
              "      <td>55.143657</td>\n",
              "      <td>60.466675</td>\n",
              "      <td>118.27247</td>\n",
              "      <td>34.912719</td>\n",
              "      <td>63.750227</td>\n",
              "      <td>19.302628</td>\n",
              "      <td>251.183968</td>\n",
              "    </tr>\n",
              "    <tr>\n",
              "      <th>min</th>\n",
              "      <td>90.000000</td>\n",
              "      <td>90.000000</td>\n",
              "      <td>103.000000</td>\n",
              "      <td>25.000000</td>\n",
              "      <td>257.00000</td>\n",
              "      <td>27.000000</td>\n",
              "      <td>65.000000</td>\n",
              "      <td>130.000000</td>\n",
              "      <td>77.00000</td>\n",
              "      <td>36.000000</td>\n",
              "      <td>121.000000</td>\n",
              "      <td>14.000000</td>\n",
              "      <td>283.000000</td>\n",
              "    </tr>\n",
              "    <tr>\n",
              "      <th>25%</th>\n",
              "      <td>247.250000</td>\n",
              "      <td>224.000000</td>\n",
              "      <td>289.250000</td>\n",
              "      <td>137.000000</td>\n",
              "      <td>639.25000</td>\n",
              "      <td>126.000000</td>\n",
              "      <td>145.250000</td>\n",
              "      <td>210.500000</td>\n",
              "      <td>290.25000</td>\n",
              "      <td>133.250000</td>\n",
              "      <td>248.000000</td>\n",
              "      <td>34.250000</td>\n",
              "      <td>785.500000</td>\n",
              "    </tr>\n",
              "    <tr>\n",
              "      <th>50%</th>\n",
              "      <td>288.000000</td>\n",
              "      <td>255.000000</td>\n",
              "      <td>329.000000</td>\n",
              "      <td>169.000000</td>\n",
              "      <td>717.50000</td>\n",
              "      <td>163.500000</td>\n",
              "      <td>176.000000</td>\n",
              "      <td>274.500000</td>\n",
              "      <td>365.50000</td>\n",
              "      <td>151.000000</td>\n",
              "      <td>293.000000</td>\n",
              "      <td>41.500000</td>\n",
              "      <td>897.000000</td>\n",
              "    </tr>\n",
              "    <tr>\n",
              "      <th>75%</th>\n",
              "      <td>319.500000</td>\n",
              "      <td>270.250000</td>\n",
              "      <td>348.750000</td>\n",
              "      <td>194.250000</td>\n",
              "      <td>813.50000</td>\n",
              "      <td>196.750000</td>\n",
              "      <td>213.000000</td>\n",
              "      <td>296.250000</td>\n",
              "      <td>396.00000</td>\n",
              "      <td>172.250000</td>\n",
              "      <td>307.750000</td>\n",
              "      <td>46.750000</td>\n",
              "      <td>997.750000</td>\n",
              "    </tr>\n",
              "    <tr>\n",
              "      <th>max</th>\n",
              "      <td>349.000000</td>\n",
              "      <td>310.000000</td>\n",
              "      <td>405.000000</td>\n",
              "      <td>247.000000</td>\n",
              "      <td>983.00000</td>\n",
              "      <td>261.000000</td>\n",
              "      <td>299.000000</td>\n",
              "      <td>357.000000</td>\n",
              "      <td>454.00000</td>\n",
              "      <td>203.000000</td>\n",
              "      <td>351.000000</td>\n",
              "      <td>146.000000</td>\n",
              "      <td>1230.000000</td>\n",
              "    </tr>\n",
              "  </tbody>\n",
              "</table>\n",
              "</div>"
            ],
            "text/plain": [
              "          shift_1     shift_2  ...  cir_ct_warrant        total\n",
              "count   56.000000   56.000000  ...       50.000000    56.000000\n",
              "mean   264.464286  233.017857  ...       41.020000   841.321429\n",
              "std     74.419930   61.041414  ...       19.302628   251.183968\n",
              "min     90.000000   90.000000  ...       14.000000   283.000000\n",
              "25%    247.250000  224.000000  ...       34.250000   785.500000\n",
              "50%    288.000000  255.000000  ...       41.500000   897.000000\n",
              "75%    319.500000  270.250000  ...       46.750000   997.750000\n",
              "max    349.000000  310.000000  ...      146.000000  1230.000000\n",
              "\n",
              "[8 rows x 13 columns]"
            ]
          },
          "metadata": {
            "tags": []
          },
          "execution_count": 67
        }
      ]
    },
    {
      "cell_type": "code",
      "metadata": {
        "id": "WPKEP1oI_tsC"
      },
      "source": [
        "df.drop(['shift_1', 'shift_2', 'shift_3'], axis=1, inplace=True)"
      ],
      "execution_count": null,
      "outputs": []
    },
    {
      "cell_type": "code",
      "metadata": {
        "id": "PNeeqaz5TLj7"
      },
      "source": [
        "# Reordering columns to have total column after traffic and criminal\n",
        "df = df[['date', 'traffic', 'criminal', 'total', 'RPR', 'released_bond', 'Committed', 'dc_bench_warrant', 'dc_arrest_warrant', 'PC_arrest', 'cir_ct_warrant']]"
      ],
      "execution_count": null,
      "outputs": []
    },
    {
      "cell_type": "code",
      "metadata": {
        "colab": {
          "base_uri": "https://localhost:8080/",
          "height": 309
        },
        "id": "OPxVxOn0AGLj",
        "outputId": "31fb0d60-9f5f-4945-f73a-2fdfd3227a95"
      },
      "source": [
        "df.head()"
      ],
      "execution_count": null,
      "outputs": [
        {
          "output_type": "execute_result",
          "data": {
            "text/html": [
              "<div>\n",
              "<style scoped>\n",
              "    .dataframe tbody tr th:only-of-type {\n",
              "        vertical-align: middle;\n",
              "    }\n",
              "\n",
              "    .dataframe tbody tr th {\n",
              "        vertical-align: top;\n",
              "    }\n",
              "\n",
              "    .dataframe thead th {\n",
              "        text-align: right;\n",
              "    }\n",
              "</style>\n",
              "<table border=\"1\" class=\"dataframe\">\n",
              "  <thead>\n",
              "    <tr style=\"text-align: right;\">\n",
              "      <th></th>\n",
              "      <th>date</th>\n",
              "      <th>traffic</th>\n",
              "      <th>criminal</th>\n",
              "      <th>total</th>\n",
              "      <th>RPR</th>\n",
              "      <th>released_bond</th>\n",
              "      <th>Committed</th>\n",
              "      <th>dc_bench_warrant</th>\n",
              "      <th>dc_arrest_warrant</th>\n",
              "      <th>PC_arrest</th>\n",
              "      <th>cir_ct_warrant</th>\n",
              "    </tr>\n",
              "  </thead>\n",
              "  <tbody>\n",
              "    <tr>\n",
              "      <th>0</th>\n",
              "      <td>2021-02-01</td>\n",
              "      <td>28</td>\n",
              "      <td>326</td>\n",
              "      <td>354</td>\n",
              "      <td>27.0</td>\n",
              "      <td>108.0</td>\n",
              "      <td>130.0</td>\n",
              "      <td>92.0</td>\n",
              "      <td>107.0</td>\n",
              "      <td>121.0</td>\n",
              "      <td>25.0</td>\n",
              "    </tr>\n",
              "    <tr>\n",
              "      <th>1</th>\n",
              "      <td>2021-01-01</td>\n",
              "      <td>25</td>\n",
              "      <td>360</td>\n",
              "      <td>385</td>\n",
              "      <td>70.0</td>\n",
              "      <td>92.0</td>\n",
              "      <td>160.0</td>\n",
              "      <td>102.0</td>\n",
              "      <td>91.0</td>\n",
              "      <td>159.0</td>\n",
              "      <td>22.0</td>\n",
              "    </tr>\n",
              "    <tr>\n",
              "      <th>2</th>\n",
              "      <td>2020-12-01</td>\n",
              "      <td>41</td>\n",
              "      <td>388</td>\n",
              "      <td>429</td>\n",
              "      <td>57.0</td>\n",
              "      <td>105.0</td>\n",
              "      <td>207.0</td>\n",
              "      <td>121.0</td>\n",
              "      <td>115.0</td>\n",
              "      <td>151.0</td>\n",
              "      <td>14.0</td>\n",
              "    </tr>\n",
              "    <tr>\n",
              "      <th>3</th>\n",
              "      <td>2020-11-01</td>\n",
              "      <td>39</td>\n",
              "      <td>340</td>\n",
              "      <td>379</td>\n",
              "      <td>53.0</td>\n",
              "      <td>108.0</td>\n",
              "      <td>162.0</td>\n",
              "      <td>129.0</td>\n",
              "      <td>74.0</td>\n",
              "      <td>145.0</td>\n",
              "      <td>15.0</td>\n",
              "    </tr>\n",
              "    <tr>\n",
              "      <th>4</th>\n",
              "      <td>2020-10-01</td>\n",
              "      <td>61</td>\n",
              "      <td>445</td>\n",
              "      <td>506</td>\n",
              "      <td>75.0</td>\n",
              "      <td>145.0</td>\n",
              "      <td>180.0</td>\n",
              "      <td>162.0</td>\n",
              "      <td>140.0</td>\n",
              "      <td>166.0</td>\n",
              "      <td>29.0</td>\n",
              "    </tr>\n",
              "  </tbody>\n",
              "</table>\n",
              "</div>"
            ],
            "text/plain": [
              "        date  traffic  criminal  ...  dc_arrest_warrant  PC_arrest  cir_ct_warrant\n",
              "0 2021-02-01       28       326  ...              107.0      121.0            25.0\n",
              "1 2021-01-01       25       360  ...               91.0      159.0            22.0\n",
              "2 2020-12-01       41       388  ...              115.0      151.0            14.0\n",
              "3 2020-11-01       39       340  ...               74.0      145.0            15.0\n",
              "4 2020-10-01       61       445  ...              140.0      166.0            29.0\n",
              "\n",
              "[5 rows x 11 columns]"
            ]
          },
          "metadata": {
            "tags": []
          },
          "execution_count": 70
        }
      ]
    },
    {
      "cell_type": "code",
      "metadata": {
        "id": "BLh4F006TdRZ"
      },
      "source": [
        "# create new \"total released\" column with \"RPR\" + \"Released on Bond\"\n",
        "total_released = []\n",
        "for index, row in df.iterrows(): \n",
        "      total_released.append(row.RPR + row.released_bond)"
      ],
      "execution_count": null,
      "outputs": []
    },
    {
      "cell_type": "code",
      "metadata": {
        "id": "7XMW2_3CUKV7"
      },
      "source": [
        " df['total_released'] = total_released"
      ],
      "execution_count": null,
      "outputs": []
    },
    {
      "cell_type": "code",
      "metadata": {
        "colab": {
          "base_uri": "https://localhost:8080/",
          "height": 117
        },
        "id": "MQ8n1hkbUTm5",
        "outputId": "a93705f0-2ac8-4888-f31a-dcfe4d9ea491"
      },
      "source": [
        "df.head(1)"
      ],
      "execution_count": null,
      "outputs": [
        {
          "output_type": "execute_result",
          "data": {
            "text/html": [
              "<div>\n",
              "<style scoped>\n",
              "    .dataframe tbody tr th:only-of-type {\n",
              "        vertical-align: middle;\n",
              "    }\n",
              "\n",
              "    .dataframe tbody tr th {\n",
              "        vertical-align: top;\n",
              "    }\n",
              "\n",
              "    .dataframe thead th {\n",
              "        text-align: right;\n",
              "    }\n",
              "</style>\n",
              "<table border=\"1\" class=\"dataframe\">\n",
              "  <thead>\n",
              "    <tr style=\"text-align: right;\">\n",
              "      <th></th>\n",
              "      <th>date</th>\n",
              "      <th>traffic</th>\n",
              "      <th>criminal</th>\n",
              "      <th>total</th>\n",
              "      <th>RPR</th>\n",
              "      <th>released_bond</th>\n",
              "      <th>Committed</th>\n",
              "      <th>dc_bench_warrant</th>\n",
              "      <th>dc_arrest_warrant</th>\n",
              "      <th>PC_arrest</th>\n",
              "      <th>cir_ct_warrant</th>\n",
              "      <th>total_released</th>\n",
              "    </tr>\n",
              "  </thead>\n",
              "  <tbody>\n",
              "    <tr>\n",
              "      <th>0</th>\n",
              "      <td>2021-02-01</td>\n",
              "      <td>28</td>\n",
              "      <td>326</td>\n",
              "      <td>354</td>\n",
              "      <td>27.0</td>\n",
              "      <td>108.0</td>\n",
              "      <td>130.0</td>\n",
              "      <td>92.0</td>\n",
              "      <td>107.0</td>\n",
              "      <td>121.0</td>\n",
              "      <td>25.0</td>\n",
              "      <td>135.0</td>\n",
              "    </tr>\n",
              "  </tbody>\n",
              "</table>\n",
              "</div>"
            ],
            "text/plain": [
              "        date  traffic  criminal  ...  PC_arrest  cir_ct_warrant  total_released\n",
              "0 2021-02-01       28       326  ...      121.0            25.0           135.0\n",
              "\n",
              "[1 rows x 12 columns]"
            ]
          },
          "metadata": {
            "tags": []
          },
          "execution_count": 73
        }
      ]
    },
    {
      "cell_type": "code",
      "metadata": {
        "id": "E5V65YK9ANkU"
      },
      "source": [
        "# creating list of just release versus detention\n",
        "df_release = df.drop(list(df)[7:11], axis=1)"
      ],
      "execution_count": null,
      "outputs": []
    },
    {
      "cell_type": "code",
      "metadata": {
        "colab": {
          "base_uri": "https://localhost:8080/",
          "height": 204
        },
        "id": "Z_8oEfLIBw7k",
        "outputId": "5b6243ad-47c1-4482-811b-bb3df28afdde"
      },
      "source": [
        "df_release.head()"
      ],
      "execution_count": null,
      "outputs": [
        {
          "output_type": "execute_result",
          "data": {
            "text/html": [
              "<div>\n",
              "<style scoped>\n",
              "    .dataframe tbody tr th:only-of-type {\n",
              "        vertical-align: middle;\n",
              "    }\n",
              "\n",
              "    .dataframe tbody tr th {\n",
              "        vertical-align: top;\n",
              "    }\n",
              "\n",
              "    .dataframe thead th {\n",
              "        text-align: right;\n",
              "    }\n",
              "</style>\n",
              "<table border=\"1\" class=\"dataframe\">\n",
              "  <thead>\n",
              "    <tr style=\"text-align: right;\">\n",
              "      <th></th>\n",
              "      <th>date</th>\n",
              "      <th>traffic</th>\n",
              "      <th>criminal</th>\n",
              "      <th>total</th>\n",
              "      <th>RPR</th>\n",
              "      <th>released_bond</th>\n",
              "      <th>Committed</th>\n",
              "      <th>total_released</th>\n",
              "    </tr>\n",
              "  </thead>\n",
              "  <tbody>\n",
              "    <tr>\n",
              "      <th>0</th>\n",
              "      <td>2021-02-01</td>\n",
              "      <td>28</td>\n",
              "      <td>326</td>\n",
              "      <td>354</td>\n",
              "      <td>27.0</td>\n",
              "      <td>108.0</td>\n",
              "      <td>130.0</td>\n",
              "      <td>135.0</td>\n",
              "    </tr>\n",
              "    <tr>\n",
              "      <th>1</th>\n",
              "      <td>2021-01-01</td>\n",
              "      <td>25</td>\n",
              "      <td>360</td>\n",
              "      <td>385</td>\n",
              "      <td>70.0</td>\n",
              "      <td>92.0</td>\n",
              "      <td>160.0</td>\n",
              "      <td>162.0</td>\n",
              "    </tr>\n",
              "    <tr>\n",
              "      <th>2</th>\n",
              "      <td>2020-12-01</td>\n",
              "      <td>41</td>\n",
              "      <td>388</td>\n",
              "      <td>429</td>\n",
              "      <td>57.0</td>\n",
              "      <td>105.0</td>\n",
              "      <td>207.0</td>\n",
              "      <td>162.0</td>\n",
              "    </tr>\n",
              "    <tr>\n",
              "      <th>3</th>\n",
              "      <td>2020-11-01</td>\n",
              "      <td>39</td>\n",
              "      <td>340</td>\n",
              "      <td>379</td>\n",
              "      <td>53.0</td>\n",
              "      <td>108.0</td>\n",
              "      <td>162.0</td>\n",
              "      <td>161.0</td>\n",
              "    </tr>\n",
              "    <tr>\n",
              "      <th>4</th>\n",
              "      <td>2020-10-01</td>\n",
              "      <td>61</td>\n",
              "      <td>445</td>\n",
              "      <td>506</td>\n",
              "      <td>75.0</td>\n",
              "      <td>145.0</td>\n",
              "      <td>180.0</td>\n",
              "      <td>220.0</td>\n",
              "    </tr>\n",
              "  </tbody>\n",
              "</table>\n",
              "</div>"
            ],
            "text/plain": [
              "        date  traffic  criminal  ...  released_bond  Committed  total_released\n",
              "0 2021-02-01       28       326  ...          108.0      130.0           135.0\n",
              "1 2021-01-01       25       360  ...           92.0      160.0           162.0\n",
              "2 2020-12-01       41       388  ...          105.0      207.0           162.0\n",
              "3 2020-11-01       39       340  ...          108.0      162.0           161.0\n",
              "4 2020-10-01       61       445  ...          145.0      180.0           220.0\n",
              "\n",
              "[5 rows x 8 columns]"
            ]
          },
          "metadata": {
            "tags": []
          },
          "execution_count": 75
        }
      ]
    },
    {
      "cell_type": "code",
      "metadata": {
        "colab": {
          "base_uri": "https://localhost:8080/",
          "height": 117
        },
        "id": "3ZbIyx6k8mPC",
        "outputId": "9c5e7a30-086e-41ed-bd16-d1d64ea84853"
      },
      "source": [
        " # Computing Percentage\n",
        "df_release_1 = df_release\n",
        "# for cumulative percentages in the future: df_release_1['percent_RPR'] = (df_release.RPR.sum() / df_release.total.cumsum()) * 100\n",
        "df_release_1['percent_RPR'] = (df_release.RPR / df_release.total) * 100\n",
        "df_release_1['percent_bond'] = (df_release_1.released_bond / df_release_1.total ) * 100\n",
        "df_release_1['percent_committed'] = (df_release_1.Committed / df_release_1.total ) * 100\n",
        "df_release_1['percent_released'] = ((df_release_1.released_bond + df_release_1.RPR) / df_release_1.total ) * 100\n",
        "df_release_1\n",
        "df_release_1.head(1)"
      ],
      "execution_count": null,
      "outputs": [
        {
          "output_type": "execute_result",
          "data": {
            "text/html": [
              "<div>\n",
              "<style scoped>\n",
              "    .dataframe tbody tr th:only-of-type {\n",
              "        vertical-align: middle;\n",
              "    }\n",
              "\n",
              "    .dataframe tbody tr th {\n",
              "        vertical-align: top;\n",
              "    }\n",
              "\n",
              "    .dataframe thead th {\n",
              "        text-align: right;\n",
              "    }\n",
              "</style>\n",
              "<table border=\"1\" class=\"dataframe\">\n",
              "  <thead>\n",
              "    <tr style=\"text-align: right;\">\n",
              "      <th></th>\n",
              "      <th>date</th>\n",
              "      <th>traffic</th>\n",
              "      <th>criminal</th>\n",
              "      <th>total</th>\n",
              "      <th>RPR</th>\n",
              "      <th>released_bond</th>\n",
              "      <th>Committed</th>\n",
              "      <th>total_released</th>\n",
              "      <th>percent_RPR</th>\n",
              "      <th>percent_bond</th>\n",
              "      <th>percent_committed</th>\n",
              "      <th>percent_released</th>\n",
              "    </tr>\n",
              "  </thead>\n",
              "  <tbody>\n",
              "    <tr>\n",
              "      <th>0</th>\n",
              "      <td>2021-02-01</td>\n",
              "      <td>28</td>\n",
              "      <td>326</td>\n",
              "      <td>354</td>\n",
              "      <td>27.0</td>\n",
              "      <td>108.0</td>\n",
              "      <td>130.0</td>\n",
              "      <td>135.0</td>\n",
              "      <td>7.627119</td>\n",
              "      <td>30.508475</td>\n",
              "      <td>36.723164</td>\n",
              "      <td>38.135593</td>\n",
              "    </tr>\n",
              "  </tbody>\n",
              "</table>\n",
              "</div>"
            ],
            "text/plain": [
              "        date  traffic  ...  percent_committed  percent_released\n",
              "0 2021-02-01       28  ...          36.723164         38.135593\n",
              "\n",
              "[1 rows x 12 columns]"
            ]
          },
          "metadata": {
            "tags": []
          },
          "execution_count": 76
        }
      ]
    },
    {
      "cell_type": "code",
      "metadata": {
        "colab": {
          "base_uri": "https://localhost:8080/",
          "height": 309
        },
        "id": "Zw2PxgyabKUD",
        "outputId": "3efb2c05-d113-4931-ccb7-546d155bab21"
      },
      "source": [
        "df_release_1['total_percent'] = (df_release_1.percent_committed + df_release_1.percent_released)\n",
        "df_release_1.head(5)"
      ],
      "execution_count": null,
      "outputs": [
        {
          "output_type": "execute_result",
          "data": {
            "text/html": [
              "<div>\n",
              "<style scoped>\n",
              "    .dataframe tbody tr th:only-of-type {\n",
              "        vertical-align: middle;\n",
              "    }\n",
              "\n",
              "    .dataframe tbody tr th {\n",
              "        vertical-align: top;\n",
              "    }\n",
              "\n",
              "    .dataframe thead th {\n",
              "        text-align: right;\n",
              "    }\n",
              "</style>\n",
              "<table border=\"1\" class=\"dataframe\">\n",
              "  <thead>\n",
              "    <tr style=\"text-align: right;\">\n",
              "      <th></th>\n",
              "      <th>date</th>\n",
              "      <th>traffic</th>\n",
              "      <th>criminal</th>\n",
              "      <th>total</th>\n",
              "      <th>RPR</th>\n",
              "      <th>released_bond</th>\n",
              "      <th>Committed</th>\n",
              "      <th>total_released</th>\n",
              "      <th>percent_RPR</th>\n",
              "      <th>percent_bond</th>\n",
              "      <th>percent_committed</th>\n",
              "      <th>percent_released</th>\n",
              "      <th>total_percent</th>\n",
              "    </tr>\n",
              "  </thead>\n",
              "  <tbody>\n",
              "    <tr>\n",
              "      <th>0</th>\n",
              "      <td>2021-02-01</td>\n",
              "      <td>28</td>\n",
              "      <td>326</td>\n",
              "      <td>354</td>\n",
              "      <td>27.0</td>\n",
              "      <td>108.0</td>\n",
              "      <td>130.0</td>\n",
              "      <td>135.0</td>\n",
              "      <td>7.627119</td>\n",
              "      <td>30.508475</td>\n",
              "      <td>36.723164</td>\n",
              "      <td>38.135593</td>\n",
              "      <td>74.858757</td>\n",
              "    </tr>\n",
              "    <tr>\n",
              "      <th>1</th>\n",
              "      <td>2021-01-01</td>\n",
              "      <td>25</td>\n",
              "      <td>360</td>\n",
              "      <td>385</td>\n",
              "      <td>70.0</td>\n",
              "      <td>92.0</td>\n",
              "      <td>160.0</td>\n",
              "      <td>162.0</td>\n",
              "      <td>18.181818</td>\n",
              "      <td>23.896104</td>\n",
              "      <td>41.558442</td>\n",
              "      <td>42.077922</td>\n",
              "      <td>83.636364</td>\n",
              "    </tr>\n",
              "    <tr>\n",
              "      <th>2</th>\n",
              "      <td>2020-12-01</td>\n",
              "      <td>41</td>\n",
              "      <td>388</td>\n",
              "      <td>429</td>\n",
              "      <td>57.0</td>\n",
              "      <td>105.0</td>\n",
              "      <td>207.0</td>\n",
              "      <td>162.0</td>\n",
              "      <td>13.286713</td>\n",
              "      <td>24.475524</td>\n",
              "      <td>48.251748</td>\n",
              "      <td>37.762238</td>\n",
              "      <td>86.013986</td>\n",
              "    </tr>\n",
              "    <tr>\n",
              "      <th>3</th>\n",
              "      <td>2020-11-01</td>\n",
              "      <td>39</td>\n",
              "      <td>340</td>\n",
              "      <td>379</td>\n",
              "      <td>53.0</td>\n",
              "      <td>108.0</td>\n",
              "      <td>162.0</td>\n",
              "      <td>161.0</td>\n",
              "      <td>13.984169</td>\n",
              "      <td>28.496042</td>\n",
              "      <td>42.744063</td>\n",
              "      <td>42.480211</td>\n",
              "      <td>85.224274</td>\n",
              "    </tr>\n",
              "    <tr>\n",
              "      <th>4</th>\n",
              "      <td>2020-10-01</td>\n",
              "      <td>61</td>\n",
              "      <td>445</td>\n",
              "      <td>506</td>\n",
              "      <td>75.0</td>\n",
              "      <td>145.0</td>\n",
              "      <td>180.0</td>\n",
              "      <td>220.0</td>\n",
              "      <td>14.822134</td>\n",
              "      <td>28.656126</td>\n",
              "      <td>35.573123</td>\n",
              "      <td>43.478261</td>\n",
              "      <td>79.051383</td>\n",
              "    </tr>\n",
              "  </tbody>\n",
              "</table>\n",
              "</div>"
            ],
            "text/plain": [
              "        date  traffic  ...  percent_released  total_percent\n",
              "0 2021-02-01       28  ...         38.135593      74.858757\n",
              "1 2021-01-01       25  ...         42.077922      83.636364\n",
              "2 2020-12-01       41  ...         37.762238      86.013986\n",
              "3 2020-11-01       39  ...         42.480211      85.224274\n",
              "4 2020-10-01       61  ...         43.478261      79.051383\n",
              "\n",
              "[5 rows x 13 columns]"
            ]
          },
          "metadata": {
            "tags": []
          },
          "execution_count": 77
        }
      ]
    },
    {
      "cell_type": "code",
      "metadata": {
        "colab": {
          "base_uri": "https://localhost:8080/"
        },
        "id": "061PrHe0AC6G",
        "outputId": "e7376e8a-5c2f-4db2-e18d-1bc7203aba63"
      },
      "source": [
        "# In February 2021, 89 arrests unaccounted for \n",
        "27+108+130"
      ],
      "execution_count": null,
      "outputs": [
        {
          "output_type": "execute_result",
          "data": {
            "text/plain": [
              "265"
            ]
          },
          "metadata": {
            "tags": []
          },
          "execution_count": 78
        }
      ]
    },
    {
      "cell_type": "code",
      "metadata": {
        "colab": {
          "base_uri": "https://localhost:8080/"
        },
        "id": "8rvkf76oa8KX",
        "outputId": "4a33eada-7680-4bba-9aef-3f2a74bd026e"
      },
      "source": [
        "354-265"
      ],
      "execution_count": null,
      "outputs": [
        {
          "output_type": "execute_result",
          "data": {
            "text/plain": [
              "89"
            ]
          },
          "metadata": {
            "tags": []
          },
          "execution_count": 79
        }
      ]
    },
    {
      "cell_type": "code",
      "metadata": {
        "id": "XdCm3w1qXdsw"
      },
      "source": [
        "# Create separate columns for month day and year \n",
        "df.date = pd.to_datetime(df.date)"
      ],
      "execution_count": null,
      "outputs": []
    },
    {
      "cell_type": "code",
      "metadata": {
        "colab": {
          "base_uri": "https://localhost:8080/",
          "height": 309
        },
        "id": "ItZI0DwHXmY6",
        "outputId": "91caffc0-1058-459b-d46e-5fd6e85d3dd7"
      },
      "source": [
        "df[['month', 'year']] = df.date.apply(lambda x: pd.Series(x.strftime(\"%m, %Y\").split(\",\")))\n",
        "df.head()"
      ],
      "execution_count": null,
      "outputs": [
        {
          "output_type": "execute_result",
          "data": {
            "text/html": [
              "<div>\n",
              "<style scoped>\n",
              "    .dataframe tbody tr th:only-of-type {\n",
              "        vertical-align: middle;\n",
              "    }\n",
              "\n",
              "    .dataframe tbody tr th {\n",
              "        vertical-align: top;\n",
              "    }\n",
              "\n",
              "    .dataframe thead th {\n",
              "        text-align: right;\n",
              "    }\n",
              "</style>\n",
              "<table border=\"1\" class=\"dataframe\">\n",
              "  <thead>\n",
              "    <tr style=\"text-align: right;\">\n",
              "      <th></th>\n",
              "      <th>date</th>\n",
              "      <th>traffic</th>\n",
              "      <th>criminal</th>\n",
              "      <th>total</th>\n",
              "      <th>RPR</th>\n",
              "      <th>released_bond</th>\n",
              "      <th>Committed</th>\n",
              "      <th>dc_bench_warrant</th>\n",
              "      <th>dc_arrest_warrant</th>\n",
              "      <th>PC_arrest</th>\n",
              "      <th>cir_ct_warrant</th>\n",
              "      <th>total_released</th>\n",
              "      <th>month</th>\n",
              "      <th>year</th>\n",
              "    </tr>\n",
              "  </thead>\n",
              "  <tbody>\n",
              "    <tr>\n",
              "      <th>0</th>\n",
              "      <td>2021-02-01</td>\n",
              "      <td>28</td>\n",
              "      <td>326</td>\n",
              "      <td>354</td>\n",
              "      <td>27.0</td>\n",
              "      <td>108.0</td>\n",
              "      <td>130.0</td>\n",
              "      <td>92.0</td>\n",
              "      <td>107.0</td>\n",
              "      <td>121.0</td>\n",
              "      <td>25.0</td>\n",
              "      <td>135.0</td>\n",
              "      <td>02</td>\n",
              "      <td>2021</td>\n",
              "    </tr>\n",
              "    <tr>\n",
              "      <th>1</th>\n",
              "      <td>2021-01-01</td>\n",
              "      <td>25</td>\n",
              "      <td>360</td>\n",
              "      <td>385</td>\n",
              "      <td>70.0</td>\n",
              "      <td>92.0</td>\n",
              "      <td>160.0</td>\n",
              "      <td>102.0</td>\n",
              "      <td>91.0</td>\n",
              "      <td>159.0</td>\n",
              "      <td>22.0</td>\n",
              "      <td>162.0</td>\n",
              "      <td>01</td>\n",
              "      <td>2021</td>\n",
              "    </tr>\n",
              "    <tr>\n",
              "      <th>2</th>\n",
              "      <td>2020-12-01</td>\n",
              "      <td>41</td>\n",
              "      <td>388</td>\n",
              "      <td>429</td>\n",
              "      <td>57.0</td>\n",
              "      <td>105.0</td>\n",
              "      <td>207.0</td>\n",
              "      <td>121.0</td>\n",
              "      <td>115.0</td>\n",
              "      <td>151.0</td>\n",
              "      <td>14.0</td>\n",
              "      <td>162.0</td>\n",
              "      <td>12</td>\n",
              "      <td>2020</td>\n",
              "    </tr>\n",
              "    <tr>\n",
              "      <th>3</th>\n",
              "      <td>2020-11-01</td>\n",
              "      <td>39</td>\n",
              "      <td>340</td>\n",
              "      <td>379</td>\n",
              "      <td>53.0</td>\n",
              "      <td>108.0</td>\n",
              "      <td>162.0</td>\n",
              "      <td>129.0</td>\n",
              "      <td>74.0</td>\n",
              "      <td>145.0</td>\n",
              "      <td>15.0</td>\n",
              "      <td>161.0</td>\n",
              "      <td>11</td>\n",
              "      <td>2020</td>\n",
              "    </tr>\n",
              "    <tr>\n",
              "      <th>4</th>\n",
              "      <td>2020-10-01</td>\n",
              "      <td>61</td>\n",
              "      <td>445</td>\n",
              "      <td>506</td>\n",
              "      <td>75.0</td>\n",
              "      <td>145.0</td>\n",
              "      <td>180.0</td>\n",
              "      <td>162.0</td>\n",
              "      <td>140.0</td>\n",
              "      <td>166.0</td>\n",
              "      <td>29.0</td>\n",
              "      <td>220.0</td>\n",
              "      <td>10</td>\n",
              "      <td>2020</td>\n",
              "    </tr>\n",
              "  </tbody>\n",
              "</table>\n",
              "</div>"
            ],
            "text/plain": [
              "        date  traffic  criminal  ...  total_released  month   year\n",
              "0 2021-02-01       28       326  ...           135.0     02   2021\n",
              "1 2021-01-01       25       360  ...           162.0     01   2021\n",
              "2 2020-12-01       41       388  ...           162.0     12   2020\n",
              "3 2020-11-01       39       340  ...           161.0     11   2020\n",
              "4 2020-10-01       61       445  ...           220.0     10   2020\n",
              "\n",
              "[5 rows x 14 columns]"
            ]
          },
          "metadata": {
            "tags": []
          },
          "execution_count": 81
        }
      ]
    },
    {
      "cell_type": "code",
      "metadata": {
        "colab": {
          "base_uri": "https://localhost:8080/"
        },
        "id": "6GWumUcqs5ug",
        "outputId": "1c52202d-e96b-4968-d60c-9163e79458a4"
      },
      "source": [
        "df.info()"
      ],
      "execution_count": null,
      "outputs": [
        {
          "output_type": "stream",
          "text": [
            "<class 'pandas.core.frame.DataFrame'>\n",
            "RangeIndex: 56 entries, 0 to 55\n",
            "Data columns (total 14 columns):\n",
            " #   Column             Non-Null Count  Dtype         \n",
            "---  ------             --------------  -----         \n",
            " 0   date               56 non-null     datetime64[ns]\n",
            " 1   traffic            56 non-null     int64         \n",
            " 2   criminal           56 non-null     int64         \n",
            " 3   total              56 non-null     int64         \n",
            " 4   RPR                50 non-null     float64       \n",
            " 5   released_bond      50 non-null     float64       \n",
            " 6   Committed          50 non-null     float64       \n",
            " 7   dc_bench_warrant   50 non-null     float64       \n",
            " 8   dc_arrest_warrant  50 non-null     float64       \n",
            " 9   PC_arrest          50 non-null     float64       \n",
            " 10  cir_ct_warrant     50 non-null     float64       \n",
            " 11  total_released     50 non-null     float64       \n",
            " 12  month              56 non-null     object        \n",
            " 13  year               56 non-null     object        \n",
            "dtypes: datetime64[ns](1), float64(8), int64(3), object(2)\n",
            "memory usage: 6.2+ KB\n"
          ],
          "name": "stdout"
        }
      ]
    },
    {
      "cell_type": "code",
      "metadata": {
        "colab": {
          "base_uri": "https://localhost:8080/",
          "height": 117
        },
        "id": "NwgjgWODdP-J",
        "outputId": "849fe43f-4c79-4ab1-d446-7b60b7b3e31e"
      },
      "source": [
        "df.head(1)"
      ],
      "execution_count": null,
      "outputs": [
        {
          "output_type": "execute_result",
          "data": {
            "text/html": [
              "<div>\n",
              "<style scoped>\n",
              "    .dataframe tbody tr th:only-of-type {\n",
              "        vertical-align: middle;\n",
              "    }\n",
              "\n",
              "    .dataframe tbody tr th {\n",
              "        vertical-align: top;\n",
              "    }\n",
              "\n",
              "    .dataframe thead th {\n",
              "        text-align: right;\n",
              "    }\n",
              "</style>\n",
              "<table border=\"1\" class=\"dataframe\">\n",
              "  <thead>\n",
              "    <tr style=\"text-align: right;\">\n",
              "      <th></th>\n",
              "      <th>date</th>\n",
              "      <th>traffic</th>\n",
              "      <th>criminal</th>\n",
              "      <th>total</th>\n",
              "      <th>RPR</th>\n",
              "      <th>released_bond</th>\n",
              "      <th>Committed</th>\n",
              "      <th>dc_bench_warrant</th>\n",
              "      <th>dc_arrest_warrant</th>\n",
              "      <th>PC_arrest</th>\n",
              "      <th>cir_ct_warrant</th>\n",
              "      <th>total_released</th>\n",
              "      <th>month</th>\n",
              "      <th>year</th>\n",
              "    </tr>\n",
              "  </thead>\n",
              "  <tbody>\n",
              "    <tr>\n",
              "      <th>0</th>\n",
              "      <td>2021-02-01</td>\n",
              "      <td>28</td>\n",
              "      <td>326</td>\n",
              "      <td>354</td>\n",
              "      <td>27.0</td>\n",
              "      <td>108.0</td>\n",
              "      <td>130.0</td>\n",
              "      <td>92.0</td>\n",
              "      <td>107.0</td>\n",
              "      <td>121.0</td>\n",
              "      <td>25.0</td>\n",
              "      <td>135.0</td>\n",
              "      <td>02</td>\n",
              "      <td>2021</td>\n",
              "    </tr>\n",
              "  </tbody>\n",
              "</table>\n",
              "</div>"
            ],
            "text/plain": [
              "        date  traffic  criminal  ...  total_released  month   year\n",
              "0 2021-02-01       28       326  ...           135.0     02   2021\n",
              "\n",
              "[1 rows x 14 columns]"
            ]
          },
          "metadata": {
            "tags": []
          },
          "execution_count": 83
        }
      ]
    },
    {
      "cell_type": "code",
      "metadata": {
        "id": "R-C3zVQ4cvoG"
      },
      "source": [
        "# Reordering columns to have total column after traffic and criminal\n",
        "df = df[['date', 'month', 'year', 'traffic', 'criminal', 'total', 'RPR', 'released_bond', 'Committed', 'total_released', 'dc_bench_warrant', 'dc_arrest_warrant', 'PC_arrest', 'cir_ct_warrant']]"
      ],
      "execution_count": null,
      "outputs": []
    },
    {
      "cell_type": "code",
      "metadata": {
        "colab": {
          "base_uri": "https://localhost:8080/",
          "height": 117
        },
        "id": "Nt7QzgrNc90M",
        "outputId": "8a0659ba-499d-4b0e-f105-5aa4309b6260"
      },
      "source": [
        "df.head(1)"
      ],
      "execution_count": null,
      "outputs": [
        {
          "output_type": "execute_result",
          "data": {
            "text/html": [
              "<div>\n",
              "<style scoped>\n",
              "    .dataframe tbody tr th:only-of-type {\n",
              "        vertical-align: middle;\n",
              "    }\n",
              "\n",
              "    .dataframe tbody tr th {\n",
              "        vertical-align: top;\n",
              "    }\n",
              "\n",
              "    .dataframe thead th {\n",
              "        text-align: right;\n",
              "    }\n",
              "</style>\n",
              "<table border=\"1\" class=\"dataframe\">\n",
              "  <thead>\n",
              "    <tr style=\"text-align: right;\">\n",
              "      <th></th>\n",
              "      <th>date</th>\n",
              "      <th>month</th>\n",
              "      <th>year</th>\n",
              "      <th>traffic</th>\n",
              "      <th>criminal</th>\n",
              "      <th>total</th>\n",
              "      <th>RPR</th>\n",
              "      <th>released_bond</th>\n",
              "      <th>Committed</th>\n",
              "      <th>total_released</th>\n",
              "      <th>dc_bench_warrant</th>\n",
              "      <th>dc_arrest_warrant</th>\n",
              "      <th>PC_arrest</th>\n",
              "      <th>cir_ct_warrant</th>\n",
              "    </tr>\n",
              "  </thead>\n",
              "  <tbody>\n",
              "    <tr>\n",
              "      <th>0</th>\n",
              "      <td>2021-02-01</td>\n",
              "      <td>02</td>\n",
              "      <td>2021</td>\n",
              "      <td>28</td>\n",
              "      <td>326</td>\n",
              "      <td>354</td>\n",
              "      <td>27.0</td>\n",
              "      <td>108.0</td>\n",
              "      <td>130.0</td>\n",
              "      <td>135.0</td>\n",
              "      <td>92.0</td>\n",
              "      <td>107.0</td>\n",
              "      <td>121.0</td>\n",
              "      <td>25.0</td>\n",
              "    </tr>\n",
              "  </tbody>\n",
              "</table>\n",
              "</div>"
            ],
            "text/plain": [
              "        date month   year  ...  dc_arrest_warrant  PC_arrest  cir_ct_warrant\n",
              "0 2021-02-01    02   2021  ...              107.0      121.0            25.0\n",
              "\n",
              "[1 rows x 14 columns]"
            ]
          },
          "metadata": {
            "tags": []
          },
          "execution_count": 85
        }
      ]
    },
    {
      "cell_type": "code",
      "metadata": {
        "colab": {
          "base_uri": "https://localhost:8080/",
          "height": 295
        },
        "id": "XBdOTgxSU3Aa",
        "outputId": "d68c12cf-7998-43f1-8de4-25970a8517c6"
      },
      "source": [
        "# Make graph comparing total released versus committed\n",
        "import matplotlib.pyplot as plt\n",
        "\n",
        "# Declaring the points for first line plot\n",
        "X1 = df['year']\n",
        "Y1 = df['year']\n",
        "# plotting the first plot\n",
        "plt.plot(X1, Y1, label = \"plot 1\") \n",
        "# Declaring the points for second line plot\n",
        "X2 = df['Committed']\n",
        "Y2 = df['total_released']\n",
        "# plotting the second plot \n",
        "plt.plot(X2, Y2, label = \"plot 2\") \n",
        "  \n",
        "# Labeling the X-axis \n",
        "plt.xlabel('X-axis') \n",
        "# Labeling the Y-axis \n",
        "plt.ylabel('Y-axis') \n",
        "# Give a title to the graph\n",
        "plt.title('Two plots on the same graph') \n",
        "  \n",
        "# Show a legend on the plot \n",
        "plt.legend() \n",
        " \n",
        "plt.show() "
      ],
      "execution_count": null,
      "outputs": [
        {
          "output_type": "display_data",
          "data": {
            "image/png": "[encoded data removed]",
            "text/plain": [
              "<Figure size 432x288 with 1 Axes>"
            ]
          },
          "metadata": {
            "tags": [],
            "needs_background": "light"
          }
        }
      ]
    },
    {
      "cell_type": "markdown",
      "metadata": {
        "id": "Dij-1xgKfqbj"
      },
      "source": [
        "Interesting but not what was expected!"
      ]
    },
    {
      "cell_type": "code",
      "metadata": {
        "colab": {
          "base_uri": "https://localhost:8080/",
          "height": 295
        },
        "id": "4imDEaOefuyk",
        "outputId": "b6e33050-1d27-4019-fdbf-52c67f4b0588"
      },
      "source": [
        "# Make graph comparing total released versus committed\n",
        "import matplotlib.pyplot as plt\n",
        "\n",
        "# Declaring the points for first line plot\n",
        "X1 = df['year']\n",
        "Y1 = df['Committed']\n",
        "# plotting the first plot\n",
        "plt.plot(X1, Y1, label = \"plot 1\") \n",
        "# Declaring the points for second line plot\n",
        "X2 = df['year']\n",
        "Y2 = df['total_released']\n",
        "# plotting the second plot \n",
        "plt.plot(X2, Y2, label = \"plot 2\") \n",
        "  \n",
        "# Labeling the X-axis \n",
        "plt.xlabel('X-axis') \n",
        "# Labeling the Y-axis \n",
        "plt.ylabel('Y-axis') \n",
        "# Give a title to the graph\n",
        "plt.title('Two plots on the same graph') \n",
        "  \n",
        "# Show a legend on the plot \n",
        "plt.legend() \n",
        " \n",
        "plt.show() "
      ],
      "execution_count": null,
      "outputs": [
        {
          "output_type": "display_data",
          "data": {
            "image/png": "[encoded data removed]",
            "text/plain": [
              "<Figure size 432x288 with 1 Axes>"
            ]
          },
          "metadata": {
            "tags": [],
            "needs_background": "light"
          }
        }
      ]
    },
    {
      "cell_type": "markdown",
      "metadata": {
        "id": "S5J7EIQrf3ZI"
      },
      "source": [
        "again, cool, but not quite what was expected"
      ]
    },
    {
      "cell_type": "code",
      "metadata": {
        "id": "gZCnnBU6B2ef"
      },
      "source": [
        "# Creating Dataset just based on arrest cause - Warrant or PC\n",
        "df_warrant = df.drop(list(df)[3:5], axis=1)"
      ],
      "execution_count": null,
      "outputs": []
    },
    {
      "cell_type": "code",
      "metadata": {
        "colab": {
          "base_uri": "https://localhost:8080/",
          "height": 117
        },
        "id": "mdIo7LnZdiXN",
        "outputId": "942eb192-1182-4618-ad2e-f086f6720c98"
      },
      "source": [
        "df_warrant.head(1)"
      ],
      "execution_count": null,
      "outputs": [
        {
          "output_type": "execute_result",
          "data": {
            "text/html": [
              "<div>\n",
              "<style scoped>\n",
              "    .dataframe tbody tr th:only-of-type {\n",
              "        vertical-align: middle;\n",
              "    }\n",
              "\n",
              "    .dataframe tbody tr th {\n",
              "        vertical-align: top;\n",
              "    }\n",
              "\n",
              "    .dataframe thead th {\n",
              "        text-align: right;\n",
              "    }\n",
              "</style>\n",
              "<table border=\"1\" class=\"dataframe\">\n",
              "  <thead>\n",
              "    <tr style=\"text-align: right;\">\n",
              "      <th></th>\n",
              "      <th>date</th>\n",
              "      <th>month</th>\n",
              "      <th>year</th>\n",
              "      <th>total</th>\n",
              "      <th>RPR</th>\n",
              "      <th>released_bond</th>\n",
              "      <th>Committed</th>\n",
              "      <th>total_released</th>\n",
              "      <th>dc_bench_warrant</th>\n",
              "      <th>dc_arrest_warrant</th>\n",
              "      <th>PC_arrest</th>\n",
              "      <th>cir_ct_warrant</th>\n",
              "    </tr>\n",
              "  </thead>\n",
              "  <tbody>\n",
              "    <tr>\n",
              "      <th>0</th>\n",
              "      <td>2021-02-01</td>\n",
              "      <td>02</td>\n",
              "      <td>2021</td>\n",
              "      <td>354</td>\n",
              "      <td>27.0</td>\n",
              "      <td>108.0</td>\n",
              "      <td>130.0</td>\n",
              "      <td>135.0</td>\n",
              "      <td>92.0</td>\n",
              "      <td>107.0</td>\n",
              "      <td>121.0</td>\n",
              "      <td>25.0</td>\n",
              "    </tr>\n",
              "  </tbody>\n",
              "</table>\n",
              "</div>"
            ],
            "text/plain": [
              "        date month   year  ...  dc_arrest_warrant  PC_arrest  cir_ct_warrant\n",
              "0 2021-02-01    02   2021  ...              107.0      121.0            25.0\n",
              "\n",
              "[1 rows x 12 columns]"
            ]
          },
          "metadata": {
            "tags": []
          },
          "execution_count": 89
        }
      ]
    },
    {
      "cell_type": "code",
      "metadata": {
        "id": "1r-X9IaLdbqs"
      },
      "source": [
        "df_warrant2 = df_warrant.drop(list(df_warrant)[4:8], axis = 1)"
      ],
      "execution_count": null,
      "outputs": []
    },
    {
      "cell_type": "code",
      "metadata": {
        "colab": {
          "base_uri": "https://localhost:8080/",
          "height": 204
        },
        "id": "VNfypEPzB-4o",
        "outputId": "63d9d627-c603-47db-f9f7-f758a5f23d16"
      },
      "source": [
        "df_warrant2.head()"
      ],
      "execution_count": null,
      "outputs": [
        {
          "output_type": "execute_result",
          "data": {
            "text/html": [
              "<div>\n",
              "<style scoped>\n",
              "    .dataframe tbody tr th:only-of-type {\n",
              "        vertical-align: middle;\n",
              "    }\n",
              "\n",
              "    .dataframe tbody tr th {\n",
              "        vertical-align: top;\n",
              "    }\n",
              "\n",
              "    .dataframe thead th {\n",
              "        text-align: right;\n",
              "    }\n",
              "</style>\n",
              "<table border=\"1\" class=\"dataframe\">\n",
              "  <thead>\n",
              "    <tr style=\"text-align: right;\">\n",
              "      <th></th>\n",
              "      <th>date</th>\n",
              "      <th>month</th>\n",
              "      <th>year</th>\n",
              "      <th>total</th>\n",
              "      <th>dc_bench_warrant</th>\n",
              "      <th>dc_arrest_warrant</th>\n",
              "      <th>PC_arrest</th>\n",
              "      <th>cir_ct_warrant</th>\n",
              "    </tr>\n",
              "  </thead>\n",
              "  <tbody>\n",
              "    <tr>\n",
              "      <th>0</th>\n",
              "      <td>2021-02-01</td>\n",
              "      <td>02</td>\n",
              "      <td>2021</td>\n",
              "      <td>354</td>\n",
              "      <td>92.0</td>\n",
              "      <td>107.0</td>\n",
              "      <td>121.0</td>\n",
              "      <td>25.0</td>\n",
              "    </tr>\n",
              "    <tr>\n",
              "      <th>1</th>\n",
              "      <td>2021-01-01</td>\n",
              "      <td>01</td>\n",
              "      <td>2021</td>\n",
              "      <td>385</td>\n",
              "      <td>102.0</td>\n",
              "      <td>91.0</td>\n",
              "      <td>159.0</td>\n",
              "      <td>22.0</td>\n",
              "    </tr>\n",
              "    <tr>\n",
              "      <th>2</th>\n",
              "      <td>2020-12-01</td>\n",
              "      <td>12</td>\n",
              "      <td>2020</td>\n",
              "      <td>429</td>\n",
              "      <td>121.0</td>\n",
              "      <td>115.0</td>\n",
              "      <td>151.0</td>\n",
              "      <td>14.0</td>\n",
              "    </tr>\n",
              "    <tr>\n",
              "      <th>3</th>\n",
              "      <td>2020-11-01</td>\n",
              "      <td>11</td>\n",
              "      <td>2020</td>\n",
              "      <td>379</td>\n",
              "      <td>129.0</td>\n",
              "      <td>74.0</td>\n",
              "      <td>145.0</td>\n",
              "      <td>15.0</td>\n",
              "    </tr>\n",
              "    <tr>\n",
              "      <th>4</th>\n",
              "      <td>2020-10-01</td>\n",
              "      <td>10</td>\n",
              "      <td>2020</td>\n",
              "      <td>506</td>\n",
              "      <td>162.0</td>\n",
              "      <td>140.0</td>\n",
              "      <td>166.0</td>\n",
              "      <td>29.0</td>\n",
              "    </tr>\n",
              "  </tbody>\n",
              "</table>\n",
              "</div>"
            ],
            "text/plain": [
              "        date month   year  ...  dc_arrest_warrant  PC_arrest  cir_ct_warrant\n",
              "0 2021-02-01    02   2021  ...              107.0      121.0            25.0\n",
              "1 2021-01-01    01   2021  ...               91.0      159.0            22.0\n",
              "2 2020-12-01    12   2020  ...              115.0      151.0            14.0\n",
              "3 2020-11-01    11   2020  ...               74.0      145.0            15.0\n",
              "4 2020-10-01    10   2020  ...              140.0      166.0            29.0\n",
              "\n",
              "[5 rows x 8 columns]"
            ]
          },
          "metadata": {
            "tags": []
          },
          "execution_count": 91
        }
      ]
    },
    {
      "cell_type": "code",
      "metadata": {
        "colab": {
          "base_uri": "https://localhost:8080/",
          "height": 204
        },
        "id": "p77qY6268YYy",
        "outputId": "15725bef-5013-4fe0-920b-b84c6808cdff"
      },
      "source": [
        "df_warrant2['percent_PC'] = (df_warrant2.PC_arrest / df_warrant2.total) * 100\n",
        "df_warrant2.head()"
      ],
      "execution_count": null,
      "outputs": [
        {
          "output_type": "execute_result",
          "data": {
            "text/html": [
              "<div>\n",
              "<style scoped>\n",
              "    .dataframe tbody tr th:only-of-type {\n",
              "        vertical-align: middle;\n",
              "    }\n",
              "\n",
              "    .dataframe tbody tr th {\n",
              "        vertical-align: top;\n",
              "    }\n",
              "\n",
              "    .dataframe thead th {\n",
              "        text-align: right;\n",
              "    }\n",
              "</style>\n",
              "<table border=\"1\" class=\"dataframe\">\n",
              "  <thead>\n",
              "    <tr style=\"text-align: right;\">\n",
              "      <th></th>\n",
              "      <th>date</th>\n",
              "      <th>month</th>\n",
              "      <th>year</th>\n",
              "      <th>total</th>\n",
              "      <th>dc_bench_warrant</th>\n",
              "      <th>dc_arrest_warrant</th>\n",
              "      <th>PC_arrest</th>\n",
              "      <th>cir_ct_warrant</th>\n",
              "      <th>percent_PC</th>\n",
              "    </tr>\n",
              "  </thead>\n",
              "  <tbody>\n",
              "    <tr>\n",
              "      <th>0</th>\n",
              "      <td>2021-02-01</td>\n",
              "      <td>02</td>\n",
              "      <td>2021</td>\n",
              "      <td>354</td>\n",
              "      <td>92.0</td>\n",
              "      <td>107.0</td>\n",
              "      <td>121.0</td>\n",
              "      <td>25.0</td>\n",
              "      <td>34.180791</td>\n",
              "    </tr>\n",
              "    <tr>\n",
              "      <th>1</th>\n",
              "      <td>2021-01-01</td>\n",
              "      <td>01</td>\n",
              "      <td>2021</td>\n",
              "      <td>385</td>\n",
              "      <td>102.0</td>\n",
              "      <td>91.0</td>\n",
              "      <td>159.0</td>\n",
              "      <td>22.0</td>\n",
              "      <td>41.298701</td>\n",
              "    </tr>\n",
              "    <tr>\n",
              "      <th>2</th>\n",
              "      <td>2020-12-01</td>\n",
              "      <td>12</td>\n",
              "      <td>2020</td>\n",
              "      <td>429</td>\n",
              "      <td>121.0</td>\n",
              "      <td>115.0</td>\n",
              "      <td>151.0</td>\n",
              "      <td>14.0</td>\n",
              "      <td>35.198135</td>\n",
              "    </tr>\n",
              "    <tr>\n",
              "      <th>3</th>\n",
              "      <td>2020-11-01</td>\n",
              "      <td>11</td>\n",
              "      <td>2020</td>\n",
              "      <td>379</td>\n",
              "      <td>129.0</td>\n",
              "      <td>74.0</td>\n",
              "      <td>145.0</td>\n",
              "      <td>15.0</td>\n",
              "      <td>38.258575</td>\n",
              "    </tr>\n",
              "    <tr>\n",
              "      <th>4</th>\n",
              "      <td>2020-10-01</td>\n",
              "      <td>10</td>\n",
              "      <td>2020</td>\n",
              "      <td>506</td>\n",
              "      <td>162.0</td>\n",
              "      <td>140.0</td>\n",
              "      <td>166.0</td>\n",
              "      <td>29.0</td>\n",
              "      <td>32.806324</td>\n",
              "    </tr>\n",
              "  </tbody>\n",
              "</table>\n",
              "</div>"
            ],
            "text/plain": [
              "        date month   year  ...  PC_arrest  cir_ct_warrant  percent_PC\n",
              "0 2021-02-01    02   2021  ...      121.0            25.0   34.180791\n",
              "1 2021-01-01    01   2021  ...      159.0            22.0   41.298701\n",
              "2 2020-12-01    12   2020  ...      151.0            14.0   35.198135\n",
              "3 2020-11-01    11   2020  ...      145.0            15.0   38.258575\n",
              "4 2020-10-01    10   2020  ...      166.0            29.0   32.806324\n",
              "\n",
              "[5 rows x 9 columns]"
            ]
          },
          "metadata": {
            "tags": []
          },
          "execution_count": 92
        }
      ]
    },
    {
      "cell_type": "code",
      "metadata": {
        "colab": {
          "base_uri": "https://localhost:8080/",
          "height": 97
        },
        "id": "S6uTdWriZg-9",
        "outputId": "fe394997-80d7-4f03-b22a-59de2c8db3b6"
      },
      "source": [
        "df_warrant2['percent_warrant'] = ((df_warrant2.dc_bench_warrant + df_warrant2.dc_arrest_warrant + df_warrant2.cir_ct_warrant)/ df_warrant2.total) * 100\n",
        "df_warrant2.head(1)"
      ],
      "execution_count": null,
      "outputs": [
        {
          "output_type": "execute_result",
          "data": {
            "text/html": [
              "<div>\n",
              "<style scoped>\n",
              "    .dataframe tbody tr th:only-of-type {\n",
              "        vertical-align: middle;\n",
              "    }\n",
              "\n",
              "    .dataframe tbody tr th {\n",
              "        vertical-align: top;\n",
              "    }\n",
              "\n",
              "    .dataframe thead th {\n",
              "        text-align: right;\n",
              "    }\n",
              "</style>\n",
              "<table border=\"1\" class=\"dataframe\">\n",
              "  <thead>\n",
              "    <tr style=\"text-align: right;\">\n",
              "      <th></th>\n",
              "      <th>date</th>\n",
              "      <th>month</th>\n",
              "      <th>year</th>\n",
              "      <th>total</th>\n",
              "      <th>dc_bench_warrant</th>\n",
              "      <th>dc_arrest_warrant</th>\n",
              "      <th>PC_arrest</th>\n",
              "      <th>cir_ct_warrant</th>\n",
              "      <th>percent_PC</th>\n",
              "      <th>percent_warrant</th>\n",
              "    </tr>\n",
              "  </thead>\n",
              "  <tbody>\n",
              "    <tr>\n",
              "      <th>0</th>\n",
              "      <td>2021-02-01</td>\n",
              "      <td>02</td>\n",
              "      <td>2021</td>\n",
              "      <td>354</td>\n",
              "      <td>92.0</td>\n",
              "      <td>107.0</td>\n",
              "      <td>121.0</td>\n",
              "      <td>25.0</td>\n",
              "      <td>34.180791</td>\n",
              "      <td>63.276836</td>\n",
              "    </tr>\n",
              "  </tbody>\n",
              "</table>\n",
              "</div>"
            ],
            "text/plain": [
              "        date month   year  ...  cir_ct_warrant  percent_PC  percent_warrant\n",
              "0 2021-02-01    02   2021  ...            25.0   34.180791        63.276836\n",
              "\n",
              "[1 rows x 10 columns]"
            ]
          },
          "metadata": {
            "tags": []
          },
          "execution_count": 93
        }
      ]
    },
    {
      "cell_type": "code",
      "metadata": {
        "colab": {
          "base_uri": "https://localhost:8080/",
          "height": 134
        },
        "id": "6YSZ5KN2aENm",
        "outputId": "36997333-5079-4bde-8cbc-bbe1a339e12c"
      },
      "source": [
        "df_warrant2['percent total'] = (df_warrant2.percent_PC + df_warrant2.percent_warrant)\n",
        "df_warrant2.head(1)"
      ],
      "execution_count": null,
      "outputs": [
        {
          "output_type": "execute_result",
          "data": {
            "text/html": [
              "<div>\n",
              "<style scoped>\n",
              "    .dataframe tbody tr th:only-of-type {\n",
              "        vertical-align: middle;\n",
              "    }\n",
              "\n",
              "    .dataframe tbody tr th {\n",
              "        vertical-align: top;\n",
              "    }\n",
              "\n",
              "    .dataframe thead th {\n",
              "        text-align: right;\n",
              "    }\n",
              "</style>\n",
              "<table border=\"1\" class=\"dataframe\">\n",
              "  <thead>\n",
              "    <tr style=\"text-align: right;\">\n",
              "      <th></th>\n",
              "      <th>date</th>\n",
              "      <th>month</th>\n",
              "      <th>year</th>\n",
              "      <th>total</th>\n",
              "      <th>dc_bench_warrant</th>\n",
              "      <th>dc_arrest_warrant</th>\n",
              "      <th>PC_arrest</th>\n",
              "      <th>cir_ct_warrant</th>\n",
              "      <th>percent_PC</th>\n",
              "      <th>percent_warrant</th>\n",
              "      <th>percent total</th>\n",
              "    </tr>\n",
              "  </thead>\n",
              "  <tbody>\n",
              "    <tr>\n",
              "      <th>0</th>\n",
              "      <td>2021-02-01</td>\n",
              "      <td>02</td>\n",
              "      <td>2021</td>\n",
              "      <td>354</td>\n",
              "      <td>92.0</td>\n",
              "      <td>107.0</td>\n",
              "      <td>121.0</td>\n",
              "      <td>25.0</td>\n",
              "      <td>34.180791</td>\n",
              "      <td>63.276836</td>\n",
              "      <td>97.457627</td>\n",
              "    </tr>\n",
              "  </tbody>\n",
              "</table>\n",
              "</div>"
            ],
            "text/plain": [
              "        date month   year  ...  percent_PC  percent_warrant  percent total\n",
              "0 2021-02-01    02   2021  ...   34.180791        63.276836      97.457627\n",
              "\n",
              "[1 rows x 11 columns]"
            ]
          },
          "metadata": {
            "tags": []
          },
          "execution_count": 94
        }
      ]
    },
    {
      "cell_type": "code",
      "metadata": {
        "colab": {
          "base_uri": "https://localhost:8080/"
        },
        "id": "WSIRCy7OaXff",
        "outputId": "2034d8b4-874a-4bfe-d77c-205d1564d8ba"
      },
      "source": [
        "# 10 arrests are unaccounted for\n",
        "92+107+121+25"
      ],
      "execution_count": null,
      "outputs": [
        {
          "output_type": "execute_result",
          "data": {
            "text/plain": [
              "345"
            ]
          },
          "metadata": {
            "tags": []
          },
          "execution_count": 95
        }
      ]
    },
    {
      "cell_type": "code",
      "metadata": {
        "colab": {
          "base_uri": "https://localhost:8080/",
          "height": 1000
        },
        "id": "VAHcfQ6xUG6h",
        "outputId": "8a60f58b-88ed-4022-88cd-b1069d6ca631"
      },
      "source": [
        "# Number of people arrested each month\n",
        "df_monthtotal = df[['date' , 'total']]\n",
        "df_monthtotal"
      ],
      "execution_count": null,
      "outputs": [
        {
          "output_type": "execute_result",
          "data": {
            "text/html": [
              "<div>\n",
              "<style scoped>\n",
              "    .dataframe tbody tr th:only-of-type {\n",
              "        vertical-align: middle;\n",
              "    }\n",
              "\n",
              "    .dataframe tbody tr th {\n",
              "        vertical-align: top;\n",
              "    }\n",
              "\n",
              "    .dataframe thead th {\n",
              "        text-align: right;\n",
              "    }\n",
              "</style>\n",
              "<table border=\"1\" class=\"dataframe\">\n",
              "  <thead>\n",
              "    <tr style=\"text-align: right;\">\n",
              "      <th></th>\n",
              "      <th>date</th>\n",
              "      <th>total</th>\n",
              "    </tr>\n",
              "  </thead>\n",
              "  <tbody>\n",
              "    <tr>\n",
              "      <th>0</th>\n",
              "      <td>2021-02-01</td>\n",
              "      <td>354</td>\n",
              "    </tr>\n",
              "    <tr>\n",
              "      <th>1</th>\n",
              "      <td>2021-01-01</td>\n",
              "      <td>385</td>\n",
              "    </tr>\n",
              "    <tr>\n",
              "      <th>2</th>\n",
              "      <td>2020-12-01</td>\n",
              "      <td>429</td>\n",
              "    </tr>\n",
              "    <tr>\n",
              "      <th>3</th>\n",
              "      <td>2020-11-01</td>\n",
              "      <td>379</td>\n",
              "    </tr>\n",
              "    <tr>\n",
              "      <th>4</th>\n",
              "      <td>2020-10-01</td>\n",
              "      <td>506</td>\n",
              "    </tr>\n",
              "    <tr>\n",
              "      <th>5</th>\n",
              "      <td>2020-09-01</td>\n",
              "      <td>425</td>\n",
              "    </tr>\n",
              "    <tr>\n",
              "      <th>6</th>\n",
              "      <td>2020-08-01</td>\n",
              "      <td>422</td>\n",
              "    </tr>\n",
              "    <tr>\n",
              "      <th>7</th>\n",
              "      <td>2020-07-01</td>\n",
              "      <td>462</td>\n",
              "    </tr>\n",
              "    <tr>\n",
              "      <th>8</th>\n",
              "      <td>2020-06-01</td>\n",
              "      <td>357</td>\n",
              "    </tr>\n",
              "    <tr>\n",
              "      <th>9</th>\n",
              "      <td>2020-05-01</td>\n",
              "      <td>392</td>\n",
              "    </tr>\n",
              "    <tr>\n",
              "      <th>10</th>\n",
              "      <td>2020-04-01</td>\n",
              "      <td>283</td>\n",
              "    </tr>\n",
              "    <tr>\n",
              "      <th>11</th>\n",
              "      <td>2020-03-01</td>\n",
              "      <td>650</td>\n",
              "    </tr>\n",
              "    <tr>\n",
              "      <th>12</th>\n",
              "      <td>2020-02-01</td>\n",
              "      <td>798</td>\n",
              "    </tr>\n",
              "    <tr>\n",
              "      <th>13</th>\n",
              "      <td>2020-01-01</td>\n",
              "      <td>870</td>\n",
              "    </tr>\n",
              "    <tr>\n",
              "      <th>14</th>\n",
              "      <td>2019-12-01</td>\n",
              "      <td>734</td>\n",
              "    </tr>\n",
              "    <tr>\n",
              "      <th>15</th>\n",
              "      <td>2019-11-01</td>\n",
              "      <td>772</td>\n",
              "    </tr>\n",
              "    <tr>\n",
              "      <th>16</th>\n",
              "      <td>2019-10-01</td>\n",
              "      <td>873</td>\n",
              "    </tr>\n",
              "    <tr>\n",
              "      <th>17</th>\n",
              "      <td>2019-09-01</td>\n",
              "      <td>834</td>\n",
              "    </tr>\n",
              "    <tr>\n",
              "      <th>18</th>\n",
              "      <td>2019-08-01</td>\n",
              "      <td>1043</td>\n",
              "    </tr>\n",
              "    <tr>\n",
              "      <th>19</th>\n",
              "      <td>2019-07-01</td>\n",
              "      <td>840</td>\n",
              "    </tr>\n",
              "    <tr>\n",
              "      <th>20</th>\n",
              "      <td>2019-06-01</td>\n",
              "      <td>826</td>\n",
              "    </tr>\n",
              "    <tr>\n",
              "      <th>21</th>\n",
              "      <td>2019-05-01</td>\n",
              "      <td>920</td>\n",
              "    </tr>\n",
              "    <tr>\n",
              "      <th>22</th>\n",
              "      <td>2019-04-01</td>\n",
              "      <td>895</td>\n",
              "    </tr>\n",
              "    <tr>\n",
              "      <th>23</th>\n",
              "      <td>2019-03-01</td>\n",
              "      <td>907</td>\n",
              "    </tr>\n",
              "    <tr>\n",
              "      <th>24</th>\n",
              "      <td>2019-02-01</td>\n",
              "      <td>907</td>\n",
              "    </tr>\n",
              "    <tr>\n",
              "      <th>25</th>\n",
              "      <td>2019-01-01</td>\n",
              "      <td>891</td>\n",
              "    </tr>\n",
              "    <tr>\n",
              "      <th>26</th>\n",
              "      <td>2018-12-01</td>\n",
              "      <td>810</td>\n",
              "    </tr>\n",
              "    <tr>\n",
              "      <th>27</th>\n",
              "      <td>2018-11-01</td>\n",
              "      <td>790</td>\n",
              "    </tr>\n",
              "    <tr>\n",
              "      <th>28</th>\n",
              "      <td>2018-10-01</td>\n",
              "      <td>985</td>\n",
              "    </tr>\n",
              "    <tr>\n",
              "      <th>29</th>\n",
              "      <td>2018-09-01</td>\n",
              "      <td>861</td>\n",
              "    </tr>\n",
              "    <tr>\n",
              "      <th>30</th>\n",
              "      <td>2018-08-01</td>\n",
              "      <td>990</td>\n",
              "    </tr>\n",
              "    <tr>\n",
              "      <th>31</th>\n",
              "      <td>2018-07-01</td>\n",
              "      <td>912</td>\n",
              "    </tr>\n",
              "    <tr>\n",
              "      <th>32</th>\n",
              "      <td>2018-06-01</td>\n",
              "      <td>898</td>\n",
              "    </tr>\n",
              "    <tr>\n",
              "      <th>33</th>\n",
              "      <td>2018-05-01</td>\n",
              "      <td>901</td>\n",
              "    </tr>\n",
              "    <tr>\n",
              "      <th>34</th>\n",
              "      <td>2018-04-01</td>\n",
              "      <td>927</td>\n",
              "    </tr>\n",
              "    <tr>\n",
              "      <th>35</th>\n",
              "      <td>2018-03-01</td>\n",
              "      <td>964</td>\n",
              "    </tr>\n",
              "    <tr>\n",
              "      <th>36</th>\n",
              "      <td>2018-02-01</td>\n",
              "      <td>897</td>\n",
              "    </tr>\n",
              "    <tr>\n",
              "      <th>37</th>\n",
              "      <td>2018-01-01</td>\n",
              "      <td>897</td>\n",
              "    </tr>\n",
              "    <tr>\n",
              "      <th>38</th>\n",
              "      <td>2017-12-01</td>\n",
              "      <td>868</td>\n",
              "    </tr>\n",
              "    <tr>\n",
              "      <th>39</th>\n",
              "      <td>2017-11-01</td>\n",
              "      <td>871</td>\n",
              "    </tr>\n",
              "    <tr>\n",
              "      <th>40</th>\n",
              "      <td>2017-10-01</td>\n",
              "      <td>958</td>\n",
              "    </tr>\n",
              "    <tr>\n",
              "      <th>41</th>\n",
              "      <td>2017-09-01</td>\n",
              "      <td>964</td>\n",
              "    </tr>\n",
              "    <tr>\n",
              "      <th>42</th>\n",
              "      <td>2017-08-01</td>\n",
              "      <td>1021</td>\n",
              "    </tr>\n",
              "    <tr>\n",
              "      <th>43</th>\n",
              "      <td>2017-07-01</td>\n",
              "      <td>929</td>\n",
              "    </tr>\n",
              "    <tr>\n",
              "      <th>44</th>\n",
              "      <td>2017-06-01</td>\n",
              "      <td>1108</td>\n",
              "    </tr>\n",
              "    <tr>\n",
              "      <th>45</th>\n",
              "      <td>2017-05-01</td>\n",
              "      <td>1126</td>\n",
              "    </tr>\n",
              "    <tr>\n",
              "      <th>46</th>\n",
              "      <td>2017-04-01</td>\n",
              "      <td>1078</td>\n",
              "    </tr>\n",
              "    <tr>\n",
              "      <th>47</th>\n",
              "      <td>2017-03-01</td>\n",
              "      <td>1143</td>\n",
              "    </tr>\n",
              "    <tr>\n",
              "      <th>48</th>\n",
              "      <td>2017-02-01</td>\n",
              "      <td>1119</td>\n",
              "    </tr>\n",
              "    <tr>\n",
              "      <th>49</th>\n",
              "      <td>2017-01-01</td>\n",
              "      <td>1130</td>\n",
              "    </tr>\n",
              "    <tr>\n",
              "      <th>50</th>\n",
              "      <td>2016-12-01</td>\n",
              "      <td>1037</td>\n",
              "    </tr>\n",
              "    <tr>\n",
              "      <th>51</th>\n",
              "      <td>2016-11-01</td>\n",
              "      <td>1036</td>\n",
              "    </tr>\n",
              "    <tr>\n",
              "      <th>52</th>\n",
              "      <td>2016-10-01</td>\n",
              "      <td>1147</td>\n",
              "    </tr>\n",
              "    <tr>\n",
              "      <th>53</th>\n",
              "      <td>2016-09-01</td>\n",
              "      <td>1173</td>\n",
              "    </tr>\n",
              "    <tr>\n",
              "      <th>54</th>\n",
              "      <td>2016-08-01</td>\n",
              "      <td>1230</td>\n",
              "    </tr>\n",
              "    <tr>\n",
              "      <th>55</th>\n",
              "      <td>2016-07-01</td>\n",
              "      <td>1190</td>\n",
              "    </tr>\n",
              "  </tbody>\n",
              "</table>\n",
              "</div>"
            ],
            "text/plain": [
              "         date  total\n",
              "0  2021-02-01    354\n",
              "1  2021-01-01    385\n",
              "2  2020-12-01    429\n",
              "3  2020-11-01    379\n",
              "4  2020-10-01    506\n",
              "5  2020-09-01    425\n",
              "6  2020-08-01    422\n",
              "7  2020-07-01    462\n",
              "8  2020-06-01    357\n",
              "9  2020-05-01    392\n",
              "10 2020-04-01    283\n",
              "11 2020-03-01    650\n",
              "12 2020-02-01    798\n",
              "13 2020-01-01    870\n",
              "14 2019-12-01    734\n",
              "15 2019-11-01    772\n",
              "16 2019-10-01    873\n",
              "17 2019-09-01    834\n",
              "18 2019-08-01   1043\n",
              "19 2019-07-01    840\n",
              "20 2019-06-01    826\n",
              "21 2019-05-01    920\n",
              "22 2019-04-01    895\n",
              "23 2019-03-01    907\n",
              "24 2019-02-01    907\n",
              "25 2019-01-01    891\n",
              "26 2018-12-01    810\n",
              "27 2018-11-01    790\n",
              "28 2018-10-01    985\n",
              "29 2018-09-01    861\n",
              "30 2018-08-01    990\n",
              "31 2018-07-01    912\n",
              "32 2018-06-01    898\n",
              "33 2018-05-01    901\n",
              "34 2018-04-01    927\n",
              "35 2018-03-01    964\n",
              "36 2018-02-01    897\n",
              "37 2018-01-01    897\n",
              "38 2017-12-01    868\n",
              "39 2017-11-01    871\n",
              "40 2017-10-01    958\n",
              "41 2017-09-01    964\n",
              "42 2017-08-01   1021\n",
              "43 2017-07-01    929\n",
              "44 2017-06-01   1108\n",
              "45 2017-05-01   1126\n",
              "46 2017-04-01   1078\n",
              "47 2017-03-01   1143\n",
              "48 2017-02-01   1119\n",
              "49 2017-01-01   1130\n",
              "50 2016-12-01   1037\n",
              "51 2016-11-01   1036\n",
              "52 2016-10-01   1147\n",
              "53 2016-09-01   1173\n",
              "54 2016-08-01   1230\n",
              "55 2016-07-01   1190"
            ]
          },
          "metadata": {
            "tags": []
          },
          "execution_count": 96
        }
      ]
    },
    {
      "cell_type": "code",
      "metadata": {
        "colab": {
          "base_uri": "https://localhost:8080/",
          "height": 422
        },
        "id": "tIddYiitn-Vo",
        "outputId": "a558fc7a-135d-4464-d612-3735430efc22"
      },
      "source": [
        "plt.figure(figsize=(9,6)) \n",
        "plt.bar(x=df_monthtotal['date'], \n",
        "        height=df_monthtotal['total'], \n",
        "        color='blue') \n",
        "plt.xticks(rotation=45)\n",
        "plt.title('Bail by Year')"
      ],
      "execution_count": null,
      "outputs": [
        {
          "output_type": "execute_result",
          "data": {
            "text/plain": [
              "Text(0.5, 1.0, 'Bail by Year')"
            ]
          },
          "metadata": {
            "tags": []
          },
          "execution_count": 97
        },
        {
          "output_type": "display_data",
          "data": {
            "image/png": "[encoded data removed]",
            "text/plain": [
              "<Figure size 648x432 with 1 Axes>"
            ]
          },
          "metadata": {
            "tags": [],
            "needs_background": "light"
          }
        }
      ]
    },
    {
      "cell_type": "code",
      "metadata": {
        "colab": {
          "base_uri": "https://localhost:8080/",
          "height": 542
        },
        "id": "c4SpqeMbphLF",
        "outputId": "2d5da8c5-4568-463e-9c12-c181d066b8cb"
      },
      "source": [
        "import plotly\n",
        "import plotly.express as px\n",
        "import plotly.graph_objs as go\n",
        "fig = go.Figure(data=go.Scatter(x=df_monthtotal['date'].astype(dtype=str), \n",
        "                        y=df_monthtotal['total'],\n",
        "                        marker_color='indianred', text=\"counts\"))\n",
        "fig.update_layout({\"title\": 'Arrest Bookings by Date',\n",
        "                   \"xaxis\": {\"title\":\"Date\"},\n",
        "                   \"yaxis\": {\"title\":\"Total\"},\n",
        "                   \"showlegend\": False})\n",
        "\n",
        "fig.show()\n"
      ],
      "execution_count": null,
      "outputs": [
        {
          "output_type": "display_data",
          "data": {
            "text/html": [
              "<html>\n",
              "<head><meta charset=\"utf-8\" /></head>\n",
              "<body>\n",
              "    <div>\n",
              "            <script src=\"https://cdnjs.cloudflare.com/ajax/libs/mathjax/2.7.5/MathJax.js?config=TeX-AMS-MML_SVG\"></script><script type=\"text/javascript\">if (window.MathJax) {MathJax.Hub.Config({SVG: {font: \"STIX-Web\"}});}</script>\n",
              "                <script type=\"text/javascript\">window.PlotlyConfig = {MathJaxConfig: 'local'};</script>\n",
              "        <script src=\"https://cdn.plot.ly/plotly-latest.min.js\"></script>    \n",
              "            <div id=\"7ed4559f-0001-4232-96c0-19b1a8c57640\" class=\"plotly-graph-div\" style=\"height:525px; width:100%;\"></div>\n",
              "            <script type=\"text/javascript\">\n",
              "                \n",
              "                    window.PLOTLYENV=window.PLOTLYENV || {};\n",
              "                    \n",
              "                if (document.getElementById(\"7ed4559f-0001-4232-96c0-19b1a8c57640\")) {\n",
              "                    Plotly.newPlot(\n",
              "                        '7ed4559f-0001-4232-96c0-19b1a8c57640',\n",
              "                        [{\"marker\": {\"color\": \"indianred\"}, \"text\": \"counts\", \"type\": \"scatter\", \"x\": [\"2021-02-01\", \"2021-01-01\", \"2020-12-01\", \"2020-11-01\", \"2020-10-01\", \"2020-09-01\", \"2020-08-01\", \"2020-07-01\", \"2020-06-01\", \"2020-05-01\", \"2020-04-01\", \"2020-03-01\", \"2020-02-01\", \"2020-01-01\", \"2019-12-01\", \"2019-11-01\", \"2019-10-01\", \"2019-09-01\", \"2019-08-01\", \"2019-07-01\", \"2019-06-01\", \"2019-05-01\", \"2019-04-01\", \"2019-03-01\", \"2019-02-01\", \"2019-01-01\", \"2018-12-01\", \"2018-11-01\", \"2018-10-01\", \"2018-09-01\", \"2018-08-01\", \"2018-07-01\", \"2018-06-01\", \"2018-05-01\", \"2018-04-01\", \"2018-03-01\", \"2018-02-01\", \"2018-01-01\", \"2017-12-01\", \"2017-11-01\", \"2017-10-01\", \"2017-09-01\", \"2017-08-01\", \"2017-07-01\", \"2017-06-01\", \"2017-05-01\", \"2017-04-01\", \"2017-03-01\", \"2017-02-01\", \"2017-01-01\", \"2016-12-01\", \"2016-11-01\", \"2016-10-01\", \"2016-09-01\", \"2016-08-01\", \"2016-07-01\"], \"y\": [354, 385, 429, 379, 506, 425, 422, 462, 357, 392, 283, 650, 798, 870, 734, 772, 873, 834, 1043, 840, 826, 920, 895, 907, 907, 891, 810, 790, 985, 861, 990, 912, 898, 901, 927, 964, 897, 897, 868, 871, 958, 964, 1021, 929, 1108, 1126, 1078, 1143, 1119, 1130, 1037, 1036, 1147, 1173, 1230, 1190]}],\n",
              "                        {\"showlegend\": false, \"template\": {\"data\": {\"bar\": [{\"error_x\": {\"color\": \"#2a3f5f\"}, \"error_y\": {\"color\": \"#2a3f5f\"}, \"marker\": {\"line\": {\"color\": \"#E5ECF6\", \"width\": 0.5}}, \"type\": \"bar\"}], \"barpolar\": [{\"marker\": {\"line\": {\"color\": \"#E5ECF6\", \"width\": 0.5}}, \"type\": \"barpolar\"}], \"carpet\": [{\"aaxis\": {\"endlinecolor\": \"#2a3f5f\", \"gridcolor\": \"white\", \"linecolor\": \"white\", \"minorgridcolor\": \"white\", \"startlinecolor\": \"#2a3f5f\"}, \"baxis\": {\"endlinecolor\": \"#2a3f5f\", \"gridcolor\": \"white\", \"linecolor\": \"white\", \"minorgridcolor\": \"white\", \"startlinecolor\": \"#2a3f5f\"}, \"type\": \"carpet\"}], \"choropleth\": [{\"colorbar\": {\"outlinewidth\": 0, \"ticks\": \"\"}, \"type\": \"choropleth\"}], \"contour\": [{\"colorbar\": {\"outlinewidth\": 0, \"ticks\": \"\"}, \"colorscale\": [[0.0, \"#0d0887\"], [0.1111111111111111, \"#46039f\"], [0.2222222222222222, \"#7201a8\"], [0.3333333333333333, \"#9c179e\"], [0.4444444444444444, \"#bd3786\"], [0.5555555555555556, \"#d8576b\"], [0.6666666666666666, \"#ed7953\"], [0.7777777777777778, \"#fb9f3a\"], [0.8888888888888888, \"#fdca26\"], [1.0, \"#f0f921\"]], \"type\": \"contour\"}], \"contourcarpet\": [{\"colorbar\": {\"outlinewidth\": 0, \"ticks\": \"\"}, \"type\": \"contourcarpet\"}], \"heatmap\": [{\"colorbar\": {\"outlinewidth\": 0, \"ticks\": \"\"}, \"colorscale\": [[0.0, \"#0d0887\"], [0.1111111111111111, \"#46039f\"], [0.2222222222222222, \"#7201a8\"], [0.3333333333333333, \"#9c179e\"], [0.4444444444444444, \"#bd3786\"], [0.5555555555555556, \"#d8576b\"], [0.6666666666666666, \"#ed7953\"], [0.7777777777777778, \"#fb9f3a\"], [0.8888888888888888, \"#fdca26\"], [1.0, \"#f0f921\"]], \"type\": \"heatmap\"}], \"heatmapgl\": [{\"colorbar\": {\"outlinewidth\": 0, \"ticks\": \"\"}, \"colorscale\": [[0.0, \"#0d0887\"], [0.1111111111111111, \"#46039f\"], [0.2222222222222222, \"#7201a8\"], [0.3333333333333333, \"#9c179e\"], [0.4444444444444444, \"#bd3786\"], [0.5555555555555556, \"#d8576b\"], [0.6666666666666666, \"#ed7953\"], [0.7777777777777778, \"#fb9f3a\"], [0.8888888888888888, \"#fdca26\"], [1.0, \"#f0f921\"]], \"type\": \"heatmapgl\"}], \"histogram\": [{\"marker\": {\"colorbar\": {\"outlinewidth\": 0, \"ticks\": \"\"}}, \"type\": \"histogram\"}], \"histogram2d\": [{\"colorbar\": {\"outlinewidth\": 0, \"ticks\": \"\"}, \"colorscale\": [[0.0, \"#0d0887\"], [0.1111111111111111, \"#46039f\"], [0.2222222222222222, \"#7201a8\"], [0.3333333333333333, \"#9c179e\"], [0.4444444444444444, \"#bd3786\"], [0.5555555555555556, \"#d8576b\"], [0.6666666666666666, \"#ed7953\"], [0.7777777777777778, \"#fb9f3a\"], [0.8888888888888888, \"#fdca26\"], [1.0, \"#f0f921\"]], \"type\": \"histogram2d\"}], \"histogram2dcontour\": [{\"colorbar\": {\"outlinewidth\": 0, \"ticks\": \"\"}, \"colorscale\": [[0.0, \"#0d0887\"], [0.1111111111111111, \"#46039f\"], [0.2222222222222222, \"#7201a8\"], [0.3333333333333333, \"#9c179e\"], [0.4444444444444444, \"#bd3786\"], [0.5555555555555556, \"#d8576b\"], [0.6666666666666666, \"#ed7953\"], [0.7777777777777778, \"#fb9f3a\"], [0.8888888888888888, \"#fdca26\"], [1.0, \"#f0f921\"]], \"type\": \"histogram2dcontour\"}], \"mesh3d\": [{\"colorbar\": {\"outlinewidth\": 0, \"ticks\": \"\"}, \"type\": \"mesh3d\"}], \"parcoords\": [{\"line\": {\"colorbar\": {\"outlinewidth\": 0, \"ticks\": \"\"}}, \"type\": \"parcoords\"}], \"pie\": [{\"automargin\": true, \"type\": \"pie\"}], \"scatter\": [{\"marker\": {\"colorbar\": {\"outlinewidth\": 0, \"ticks\": \"\"}}, \"type\": \"scatter\"}], \"scatter3d\": [{\"line\": {\"colorbar\": {\"outlinewidth\": 0, \"ticks\": \"\"}}, \"marker\": {\"colorbar\": {\"outlinewidth\": 0, \"ticks\": \"\"}}, \"type\": \"scatter3d\"}], \"scattercarpet\": [{\"marker\": {\"colorbar\": {\"outlinewidth\": 0, \"ticks\": \"\"}}, \"type\": \"scattercarpet\"}], \"scattergeo\": [{\"marker\": {\"colorbar\": {\"outlinewidth\": 0, \"ticks\": \"\"}}, \"type\": \"scattergeo\"}], \"scattergl\": [{\"marker\": {\"colorbar\": {\"outlinewidth\": 0, \"ticks\": \"\"}}, \"type\": \"scattergl\"}], \"scattermapbox\": [{\"marker\": {\"colorbar\": {\"outlinewidth\": 0, \"ticks\": \"\"}}, \"type\": \"scattermapbox\"}], \"scatterpolar\": [{\"marker\": {\"colorbar\": {\"outlinewidth\": 0, \"ticks\": \"\"}}, \"type\": \"scatterpolar\"}], \"scatterpolargl\": [{\"marker\": {\"colorbar\": {\"outlinewidth\": 0, \"ticks\": \"\"}}, \"type\": \"scatterpolargl\"}], \"scatterternary\": [{\"marker\": {\"colorbar\": {\"outlinewidth\": 0, \"ticks\": \"\"}}, \"type\": \"scatterternary\"}], \"surface\": [{\"colorbar\": {\"outlinewidth\": 0, \"ticks\": \"\"}, \"colorscale\": [[0.0, \"#0d0887\"], [0.1111111111111111, \"#46039f\"], [0.2222222222222222, \"#7201a8\"], [0.3333333333333333, \"#9c179e\"], [0.4444444444444444, \"#bd3786\"], [0.5555555555555556, \"#d8576b\"], [0.6666666666666666, \"#ed7953\"], [0.7777777777777778, \"#fb9f3a\"], [0.8888888888888888, \"#fdca26\"], [1.0, \"#f0f921\"]], \"type\": \"surface\"}], \"table\": [{\"cells\": {\"fill\": {\"color\": \"#EBF0F8\"}, \"line\": {\"color\": \"white\"}}, \"header\": {\"fill\": {\"color\": \"#C8D4E3\"}, \"line\": {\"color\": \"white\"}}, \"type\": \"table\"}]}, \"layout\": {\"annotationdefaults\": {\"arrowcolor\": \"#2a3f5f\", \"arrowhead\": 0, \"arrowwidth\": 1}, \"coloraxis\": {\"colorbar\": {\"outlinewidth\": 0, \"ticks\": \"\"}}, \"colorscale\": {\"diverging\": [[0, \"#8e0152\"], [0.1, \"#c51b7d\"], [0.2, \"#de77ae\"], [0.3, \"#f1b6da\"], [0.4, \"#fde0ef\"], [0.5, \"#f7f7f7\"], [0.6, \"#e6f5d0\"], [0.7, \"#b8e186\"], [0.8, \"#7fbc41\"], [0.9, \"#4d9221\"], [1, \"#276419\"]], \"sequential\": [[0.0, \"#0d0887\"], [0.1111111111111111, \"#46039f\"], [0.2222222222222222, \"#7201a8\"], [0.3333333333333333, \"#9c179e\"], [0.4444444444444444, \"#bd3786\"], [0.5555555555555556, \"#d8576b\"], [0.6666666666666666, \"#ed7953\"], [0.7777777777777778, \"#fb9f3a\"], [0.8888888888888888, \"#fdca26\"], [1.0, \"#f0f921\"]], \"sequentialminus\": [[0.0, \"#0d0887\"], [0.1111111111111111, \"#46039f\"], [0.2222222222222222, \"#7201a8\"], [0.3333333333333333, \"#9c179e\"], [0.4444444444444444, \"#bd3786\"], [0.5555555555555556, \"#d8576b\"], [0.6666666666666666, \"#ed7953\"], [0.7777777777777778, \"#fb9f3a\"], [0.8888888888888888, \"#fdca26\"], [1.0, \"#f0f921\"]]}, \"colorway\": [\"#636efa\", \"#EF553B\", \"#00cc96\", \"#ab63fa\", \"#FFA15A\", \"#19d3f3\", \"#FF6692\", \"#B6E880\", \"#FF97FF\", \"#FECB52\"], \"font\": {\"color\": \"#2a3f5f\"}, \"geo\": {\"bgcolor\": \"white\", \"lakecolor\": \"white\", \"landcolor\": \"#E5ECF6\", \"showlakes\": true, \"showland\": true, \"subunitcolor\": \"white\"}, \"hoverlabel\": {\"align\": \"left\"}, \"hovermode\": \"closest\", \"mapbox\": {\"style\": \"light\"}, \"paper_bgcolor\": \"white\", \"plot_bgcolor\": \"#E5ECF6\", \"polar\": {\"angularaxis\": {\"gridcolor\": \"white\", \"linecolor\": \"white\", \"ticks\": \"\"}, \"bgcolor\": \"#E5ECF6\", \"radialaxis\": {\"gridcolor\": \"white\", \"linecolor\": \"white\", \"ticks\": \"\"}}, \"scene\": {\"xaxis\": {\"backgroundcolor\": \"#E5ECF6\", \"gridcolor\": \"white\", \"gridwidth\": 2, \"linecolor\": \"white\", \"showbackground\": true, \"ticks\": \"\", \"zerolinecolor\": \"white\"}, \"yaxis\": {\"backgroundcolor\": \"#E5ECF6\", \"gridcolor\": \"white\", \"gridwidth\": 2, \"linecolor\": \"white\", \"showbackground\": true, \"ticks\": \"\", \"zerolinecolor\": \"white\"}, \"zaxis\": {\"backgroundcolor\": \"#E5ECF6\", \"gridcolor\": \"white\", \"gridwidth\": 2, \"linecolor\": \"white\", \"showbackground\": true, \"ticks\": \"\", \"zerolinecolor\": \"white\"}}, \"shapedefaults\": {\"line\": {\"color\": \"#2a3f5f\"}}, \"ternary\": {\"aaxis\": {\"gridcolor\": \"white\", \"linecolor\": \"white\", \"ticks\": \"\"}, \"baxis\": {\"gridcolor\": \"white\", \"linecolor\": \"white\", \"ticks\": \"\"}, \"bgcolor\": \"#E5ECF6\", \"caxis\": {\"gridcolor\": \"white\", \"linecolor\": \"white\", \"ticks\": \"\"}}, \"title\": {\"x\": 0.05}, \"xaxis\": {\"automargin\": true, \"gridcolor\": \"white\", \"linecolor\": \"white\", \"ticks\": \"\", \"title\": {\"standoff\": 15}, \"zerolinecolor\": \"white\", \"zerolinewidth\": 2}, \"yaxis\": {\"automargin\": true, \"gridcolor\": \"white\", \"linecolor\": \"white\", \"ticks\": \"\", \"title\": {\"standoff\": 15}, \"zerolinecolor\": \"white\", \"zerolinewidth\": 2}}}, \"title\": {\"text\": \"Arrest Bookings by Date\"}, \"xaxis\": {\"title\": {\"text\": \"Date\"}}, \"yaxis\": {\"title\": {\"text\": \"Total\"}}},\n",
              "                        {\"responsive\": true}\n",
              "                    ).then(function(){\n",
              "                            \n",
              "var gd = document.getElementById('7ed4559f-0001-4232-96c0-19b1a8c57640');\n",
              "var x = new MutationObserver(function (mutations, observer) {{\n",
              "        var display = window.getComputedStyle(gd).display;\n",
              "        if (!display || display === 'none') {{\n",
              "            console.log([gd, 'removed!']);\n",
              "            Plotly.purge(gd);\n",
              "            observer.disconnect();\n",
              "        }}\n",
              "}});\n",
              "\n",
              "// Listen for the removal of the full notebook cells\n",
              "var notebookContainer = gd.closest('#notebook-container');\n",
              "if (notebookContainer) {{\n",
              "    x.observe(notebookContainer, {childList: true});\n",
              "}}\n",
              "\n",
              "// Listen for the clearing of the current output cell\n",
              "var outputEl = gd.closest('.output');\n",
              "if (outputEl) {{\n",
              "    x.observe(outputEl, {childList: true});\n",
              "}}\n",
              "\n",
              "                        })\n",
              "                };\n",
              "                \n",
              "            </script>\n",
              "        </div>\n",
              "</body>\n",
              "</html>"
            ]
          },
          "metadata": {
            "tags": []
          }
        }
      ]
    },
    {
      "cell_type": "code",
      "metadata": {
        "colab": {
          "base_uri": "https://localhost:8080/",
          "height": 327
        },
        "id": "xh6I9BiosRw0",
        "outputId": "96f2002b-c84b-481e-f114-e082c7bbc0f3"
      },
      "source": [
        "import matplotlib.pyplot as plt \n",
        "ts1 = df['date'] # eg. \"2001-01\" and so on\n",
        "\n",
        "# Declaring the points for first line plot\n",
        "X1 = df.date\n",
        "Y1 = df.total_released \n",
        "# plotting the first plot\n",
        "plt.plot(X1, Y1, label = \"Released\") \n",
        "# Declaring the points for second line plot\n",
        "X2 = df.date\n",
        "Y2 = df.Committed\n",
        "# plotting the second plot \n",
        "plt.plot(X2, Y2, label = \"Committed\") \n",
        "  \n",
        "# Labeling the X-axis \n",
        "plt.xlabel('Date') \n",
        "\n",
        "# Labeling the Y-axis \n",
        "plt.ylabel('Total Persons Processed') \n",
        "# Give a title to the graph\n",
        "plt.title('Total Committed versus Released') \n",
        "\n",
        "# plt.xaxis.set_major_formatter(DateFormatter(\"%y-%m\")) \n",
        "plt.xticks(rotation=90)\n",
        "\n",
        "# Show a legend on the plot \n",
        "plt.legend() \n",
        " \n",
        "plt.show() "
      ],
      "execution_count": null,
      "outputs": [
        {
          "output_type": "display_data",
          "data": {
            "image/png": "[encoded data removed]",
            "text/plain": [
              "<Figure size 432x288 with 1 Axes>"
            ]
          },
          "metadata": {
            "tags": [],
            "needs_background": "light"
          }
        }
      ]
    },
    {
      "cell_type": "code",
      "metadata": {
        "colab": {
          "base_uri": "https://localhost:8080/",
          "height": 309
        },
        "id": "y4-TJOgDx6ej",
        "outputId": "9e34bb1c-4ce3-45cd-e543-496a735fe4b4"
      },
      "source": [
        "df.head()"
      ],
      "execution_count": null,
      "outputs": [
        {
          "output_type": "execute_result",
          "data": {
            "text/html": [
              "<div>\n",
              "<style scoped>\n",
              "    .dataframe tbody tr th:only-of-type {\n",
              "        vertical-align: middle;\n",
              "    }\n",
              "\n",
              "    .dataframe tbody tr th {\n",
              "        vertical-align: top;\n",
              "    }\n",
              "\n",
              "    .dataframe thead th {\n",
              "        text-align: right;\n",
              "    }\n",
              "</style>\n",
              "<table border=\"1\" class=\"dataframe\">\n",
              "  <thead>\n",
              "    <tr style=\"text-align: right;\">\n",
              "      <th></th>\n",
              "      <th>date</th>\n",
              "      <th>month</th>\n",
              "      <th>year</th>\n",
              "      <th>traffic</th>\n",
              "      <th>criminal</th>\n",
              "      <th>total</th>\n",
              "      <th>RPR</th>\n",
              "      <th>released_bond</th>\n",
              "      <th>Committed</th>\n",
              "      <th>total_released</th>\n",
              "      <th>dc_bench_warrant</th>\n",
              "      <th>dc_arrest_warrant</th>\n",
              "      <th>PC_arrest</th>\n",
              "      <th>cir_ct_warrant</th>\n",
              "    </tr>\n",
              "  </thead>\n",
              "  <tbody>\n",
              "    <tr>\n",
              "      <th>0</th>\n",
              "      <td>2021-02-01</td>\n",
              "      <td>02</td>\n",
              "      <td>2021</td>\n",
              "      <td>28</td>\n",
              "      <td>326</td>\n",
              "      <td>354</td>\n",
              "      <td>27.0</td>\n",
              "      <td>108.0</td>\n",
              "      <td>130.0</td>\n",
              "      <td>135.0</td>\n",
              "      <td>92.0</td>\n",
              "      <td>107.0</td>\n",
              "      <td>121.0</td>\n",
              "      <td>25.0</td>\n",
              "    </tr>\n",
              "    <tr>\n",
              "      <th>1</th>\n",
              "      <td>2021-01-01</td>\n",
              "      <td>01</td>\n",
              "      <td>2021</td>\n",
              "      <td>25</td>\n",
              "      <td>360</td>\n",
              "      <td>385</td>\n",
              "      <td>70.0</td>\n",
              "      <td>92.0</td>\n",
              "      <td>160.0</td>\n",
              "      <td>162.0</td>\n",
              "      <td>102.0</td>\n",
              "      <td>91.0</td>\n",
              "      <td>159.0</td>\n",
              "      <td>22.0</td>\n",
              "    </tr>\n",
              "    <tr>\n",
              "      <th>2</th>\n",
              "      <td>2020-12-01</td>\n",
              "      <td>12</td>\n",
              "      <td>2020</td>\n",
              "      <td>41</td>\n",
              "      <td>388</td>\n",
              "      <td>429</td>\n",
              "      <td>57.0</td>\n",
              "      <td>105.0</td>\n",
              "      <td>207.0</td>\n",
              "      <td>162.0</td>\n",
              "      <td>121.0</td>\n",
              "      <td>115.0</td>\n",
              "      <td>151.0</td>\n",
              "      <td>14.0</td>\n",
              "    </tr>\n",
              "    <tr>\n",
              "      <th>3</th>\n",
              "      <td>2020-11-01</td>\n",
              "      <td>11</td>\n",
              "      <td>2020</td>\n",
              "      <td>39</td>\n",
              "      <td>340</td>\n",
              "      <td>379</td>\n",
              "      <td>53.0</td>\n",
              "      <td>108.0</td>\n",
              "      <td>162.0</td>\n",
              "      <td>161.0</td>\n",
              "      <td>129.0</td>\n",
              "      <td>74.0</td>\n",
              "      <td>145.0</td>\n",
              "      <td>15.0</td>\n",
              "    </tr>\n",
              "    <tr>\n",
              "      <th>4</th>\n",
              "      <td>2020-10-01</td>\n",
              "      <td>10</td>\n",
              "      <td>2020</td>\n",
              "      <td>61</td>\n",
              "      <td>445</td>\n",
              "      <td>506</td>\n",
              "      <td>75.0</td>\n",
              "      <td>145.0</td>\n",
              "      <td>180.0</td>\n",
              "      <td>220.0</td>\n",
              "      <td>162.0</td>\n",
              "      <td>140.0</td>\n",
              "      <td>166.0</td>\n",
              "      <td>29.0</td>\n",
              "    </tr>\n",
              "  </tbody>\n",
              "</table>\n",
              "</div>"
            ],
            "text/plain": [
              "        date month   year  ...  dc_arrest_warrant  PC_arrest  cir_ct_warrant\n",
              "0 2021-02-01    02   2021  ...              107.0      121.0            25.0\n",
              "1 2021-01-01    01   2021  ...               91.0      159.0            22.0\n",
              "2 2020-12-01    12   2020  ...              115.0      151.0            14.0\n",
              "3 2020-11-01    11   2020  ...               74.0      145.0            15.0\n",
              "4 2020-10-01    10   2020  ...              140.0      166.0            29.0\n",
              "\n",
              "[5 rows x 14 columns]"
            ]
          },
          "metadata": {
            "tags": []
          },
          "execution_count": 100
        }
      ]
    },
    {
      "cell_type": "code",
      "metadata": {
        "colab": {
          "base_uri": "https://localhost:8080/",
          "height": 255
        },
        "id": "htPANeLyzfWy",
        "outputId": "769e3f40-ff81-4c0e-a9c1-53489554e0d6"
      },
      "source": [
        "df_year = df.groupby('year').mean()\n",
        "df_year.head()"
      ],
      "execution_count": null,
      "outputs": [
        {
          "output_type": "execute_result",
          "data": {
            "text/html": [
              "<div>\n",
              "<style scoped>\n",
              "    .dataframe tbody tr th:only-of-type {\n",
              "        vertical-align: middle;\n",
              "    }\n",
              "\n",
              "    .dataframe tbody tr th {\n",
              "        vertical-align: top;\n",
              "    }\n",
              "\n",
              "    .dataframe thead th {\n",
              "        text-align: right;\n",
              "    }\n",
              "</style>\n",
              "<table border=\"1\" class=\"dataframe\">\n",
              "  <thead>\n",
              "    <tr style=\"text-align: right;\">\n",
              "      <th></th>\n",
              "      <th>traffic</th>\n",
              "      <th>criminal</th>\n",
              "      <th>total</th>\n",
              "      <th>RPR</th>\n",
              "      <th>released_bond</th>\n",
              "      <th>Committed</th>\n",
              "      <th>total_released</th>\n",
              "      <th>dc_bench_warrant</th>\n",
              "      <th>dc_arrest_warrant</th>\n",
              "      <th>PC_arrest</th>\n",
              "      <th>cir_ct_warrant</th>\n",
              "    </tr>\n",
              "    <tr>\n",
              "      <th>year</th>\n",
              "      <th></th>\n",
              "      <th></th>\n",
              "      <th></th>\n",
              "      <th></th>\n",
              "      <th></th>\n",
              "      <th></th>\n",
              "      <th></th>\n",
              "      <th></th>\n",
              "      <th></th>\n",
              "      <th></th>\n",
              "      <th></th>\n",
              "    </tr>\n",
              "  </thead>\n",
              "  <tbody>\n",
              "    <tr>\n",
              "      <th>2016</th>\n",
              "      <td>201.833333</td>\n",
              "      <td>933.666667</td>\n",
              "      <td>1135.500000</td>\n",
              "      <td>NaN</td>\n",
              "      <td>NaN</td>\n",
              "      <td>NaN</td>\n",
              "      <td>NaN</td>\n",
              "      <td>NaN</td>\n",
              "      <td>NaN</td>\n",
              "      <td>NaN</td>\n",
              "      <td>NaN</td>\n",
              "    </tr>\n",
              "    <tr>\n",
              "      <th>2017</th>\n",
              "      <td>186.000000</td>\n",
              "      <td>840.250000</td>\n",
              "      <td>1026.250000</td>\n",
              "      <td>211.416667</td>\n",
              "      <td>207.583333</td>\n",
              "      <td>251.833333</td>\n",
              "      <td>419.000000</td>\n",
              "      <td>412.916667</td>\n",
              "      <td>155.166667</td>\n",
              "      <td>305.333333</td>\n",
              "      <td>49.416667</td>\n",
              "    </tr>\n",
              "    <tr>\n",
              "      <th>2018</th>\n",
              "      <td>181.500000</td>\n",
              "      <td>721.166667</td>\n",
              "      <td>902.666667</td>\n",
              "      <td>157.500000</td>\n",
              "      <td>218.500000</td>\n",
              "      <td>296.333333</td>\n",
              "      <td>376.000000</td>\n",
              "      <td>380.166667</td>\n",
              "      <td>167.000000</td>\n",
              "      <td>305.083333</td>\n",
              "      <td>42.333333</td>\n",
              "    </tr>\n",
              "    <tr>\n",
              "      <th>2019</th>\n",
              "      <td>161.000000</td>\n",
              "      <td>709.166667</td>\n",
              "      <td>870.166667</td>\n",
              "      <td>172.916667</td>\n",
              "      <td>176.750000</td>\n",
              "      <td>293.916667</td>\n",
              "      <td>349.666667</td>\n",
              "      <td>356.333333</td>\n",
              "      <td>162.166667</td>\n",
              "      <td>287.916667</td>\n",
              "      <td>40.250000</td>\n",
              "    </tr>\n",
              "    <tr>\n",
              "      <th>2020</th>\n",
              "      <td>63.583333</td>\n",
              "      <td>434.166667</td>\n",
              "      <td>497.750000</td>\n",
              "      <td>81.333333</td>\n",
              "      <td>128.166667</td>\n",
              "      <td>196.916667</td>\n",
              "      <td>209.500000</td>\n",
              "      <td>165.750000</td>\n",
              "      <td>107.500000</td>\n",
              "      <td>184.666667</td>\n",
              "      <td>35.000000</td>\n",
              "    </tr>\n",
              "  </tbody>\n",
              "</table>\n",
              "</div>"
            ],
            "text/plain": [
              "          traffic    criminal  ...   PC_arrest  cir_ct_warrant\n",
              "year                           ...                            \n",
              " 2016  201.833333  933.666667  ...         NaN             NaN\n",
              " 2017  186.000000  840.250000  ...  305.333333       49.416667\n",
              " 2018  181.500000  721.166667  ...  305.083333       42.333333\n",
              " 2019  161.000000  709.166667  ...  287.916667       40.250000\n",
              " 2020   63.583333  434.166667  ...  184.666667       35.000000\n",
              "\n",
              "[5 rows x 11 columns]"
            ]
          },
          "metadata": {
            "tags": []
          },
          "execution_count": 101
        }
      ]
    },
    {
      "cell_type": "code",
      "metadata": {
        "colab": {
          "base_uri": "https://localhost:8080/",
          "height": 316
        },
        "id": "3WCXWB2CxBmY",
        "outputId": "32bdf427-fb8e-4898-c96f-e4058969c91d"
      },
      "source": [
        "#PLOT 1 Average Bond Amount between race & gender\n",
        "\n",
        "labels = df_year.index\n",
        "committed = df_year.Committed\n",
        "released = df_year.total_released\n",
        "\n",
        "x = np.arange(len(labels))  # the label locations\n",
        "width = 0.35  # the width of the bars\n",
        "\n",
        "fig, ax = plt.subplots()\n",
        "rects1 =ax.bar(x - width/2, committed, width, label='Committed',color='green', alpha = 0.5)\n",
        "rects2= ax.bar(x + width/2, released, width, label='Released', color='lightblue')\n",
        "\n",
        "# Add some text for labels, title and custom x-axis tick labels, etc.\n",
        "ax.set_ylabel('Total Processed')\n",
        "ax.set_title('Comparing Release versus Committment at CPU')\n",
        "ax.set_xticks(x)\n",
        "ax.set_xticklabels(labels)\n",
        "ax.legend()\n",
        "\n",
        "fig.tight_layout()\n",
        "plt.xticks(rotation=90)\n",
        "plt.show()"
      ],
      "execution_count": null,
      "outputs": [
        {
          "output_type": "display_data",
          "data": {
            "image/png": "[encoded data removed]",
            "text/plain": [
              "<Figure size 432x288 with 1 Axes>"
            ]
          },
          "metadata": {
            "tags": [],
            "needs_background": "light"
          }
        }
      ]
    }
  ]
}