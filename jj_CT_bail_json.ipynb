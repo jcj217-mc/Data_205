{
  "nbformat": 4,
  "nbformat_minor": 0,
  "metadata": {
    "colab": {
      "name": " jj_CT_bail.json.ipynb",
      "provenance": [],
      "collapsed_sections": [],
      "authorship_tag": "ABX9TyPDRPEbmxyISFcQ9M/enj8X",
      "include_colab_link": true
    },
    "kernelspec": {
      "name": "python3",
      "display_name": "Python 3"
    },
    "language_info": {
      "name": "python"
    }
  },
  "cells": [
    {
      "cell_type": "markdown",
      "metadata": {
        "id": "view-in-github",
        "colab_type": "text"
      },
      "source": [
        "<a href=\"https://colab.research.google.com/github/jcj217-mc/Data_205/blob/main/jj_CT_bail_json.ipynb\" target=\"_parent\"><img src=\"https://colab.research.google.com/assets/colab-badge.svg\" alt=\"Open In Colab\"/></a>"
      ]
    },
    {
      "cell_type": "code",
      "metadata": {
        "id": "lJh6zQg4VvRb"
      },
      "source": [
        "# import packages\n",
        "import pandas as pd\n",
        "import numpy as np\n",
        "import os \n",
        "import json"
      ],
      "execution_count": null,
      "outputs": []
    },
    {
      "cell_type": "code",
      "metadata": {
        "id": "dWajxBmeV60M"
      },
      "source": [
        "# .json file data imported as pandas data frame\n",
        "df = pd.read_json('https://data.ct.gov/resource/b674-jy6w.json')"
      ],
      "execution_count": null,
      "outputs": []
    },
    {
      "cell_type": "markdown",
      "metadata": {
        "id": "dV6s6FAwkZzS"
      },
      "source": [
        ""
      ]
    },
    {
      "cell_type": "code",
      "metadata": {
        "id": "e7EO6SQna5F4"
      },
      "source": [
        "# .csv file import\n",
        "# First, check  working directory\n",
        "# os.getcwd()\n",
        "# If need to change working directory\n",
        "# os.chdir(path)\n",
        "# df_1 = pd.read_csv(\"file name\", index_col=False)"
      ],
      "execution_count": null,
      "outputs": []
    },
    {
      "cell_type": "markdown",
      "metadata": {
        "id": "Dyua3yZ8ZPyo"
      },
      "source": [
        "**Data Wrangling**"
      ]
    },
    {
      "cell_type": "code",
      "metadata": {
        "id": "el19b9VvWEB2",
        "colab": {
          "base_uri": "https://localhost:8080/",
          "height": 289
        },
        "outputId": "58ddea55-e9d7-4d70-f81b-4b5fbc177975"
      },
      "source": [
        "# Evaluating initial data \n",
        "df.head()"
      ],
      "execution_count": null,
      "outputs": [
        {
          "output_type": "execute_result",
          "data": {
            "text/html": [
              "<div>\n",
              "<style scoped>\n",
              "    .dataframe tbody tr th:only-of-type {\n",
              "        vertical-align: middle;\n",
              "    }\n",
              "\n",
              "    .dataframe tbody tr th {\n",
              "        vertical-align: top;\n",
              "    }\n",
              "\n",
              "    .dataframe thead th {\n",
              "        text-align: right;\n",
              "    }\n",
              "</style>\n",
              "<table border=\"1\" class=\"dataframe\">\n",
              "  <thead>\n",
              "    <tr style=\"text-align: right;\">\n",
              "      <th></th>\n",
              "      <th>download_date</th>\n",
              "      <th>identifier</th>\n",
              "      <th>latest_admission_date</th>\n",
              "      <th>race</th>\n",
              "      <th>gender</th>\n",
              "      <th>age</th>\n",
              "      <th>bond_amount</th>\n",
              "      <th>offense</th>\n",
              "      <th>facility</th>\n",
              "      <th>detainer</th>\n",
              "    </tr>\n",
              "  </thead>\n",
              "  <tbody>\n",
              "    <tr>\n",
              "      <th>0</th>\n",
              "      <td>2021-03-31T00:00:00.000</td>\n",
              "      <td>ZZSZEWBR</td>\n",
              "      <td>2021-02-26T00:00:00.000</td>\n",
              "      <td>WHITE</td>\n",
              "      <td>M</td>\n",
              "      <td>30</td>\n",
              "      <td>100000</td>\n",
              "      <td>POSSESSING CHILD PORNOGRAPH            F</td>\n",
              "      <td>NEW HAVEN CC</td>\n",
              "      <td>NONE</td>\n",
              "    </tr>\n",
              "    <tr>\n",
              "      <th>1</th>\n",
              "      <td>2021-03-31T00:00:00.000</td>\n",
              "      <td>ZZHHZHJE</td>\n",
              "      <td>2021-03-15T00:00:00.000</td>\n",
              "      <td>HISPANIC</td>\n",
              "      <td>M</td>\n",
              "      <td>32</td>\n",
              "      <td>2500000</td>\n",
              "      <td>MURDER                                AF</td>\n",
              "      <td>NEW HAVEN CC</td>\n",
              "      <td>NONE</td>\n",
              "    </tr>\n",
              "    <tr>\n",
              "      <th>2</th>\n",
              "      <td>2021-03-31T00:00:00.000</td>\n",
              "      <td>ZZSHWZES</td>\n",
              "      <td>2020-12-28T00:00:00.000</td>\n",
              "      <td>WHITE</td>\n",
              "      <td>M</td>\n",
              "      <td>26</td>\n",
              "      <td>50000</td>\n",
              "      <td>INJURY OR RISK OF INJURY TO MINOR      F</td>\n",
              "      <td>CORRIGAN CI</td>\n",
              "      <td>NONE</td>\n",
              "    </tr>\n",
              "    <tr>\n",
              "      <th>3</th>\n",
              "      <td>2021-03-31T00:00:00.000</td>\n",
              "      <td>ZZRZLHZZ</td>\n",
              "      <td>2020-07-10T00:00:00.000</td>\n",
              "      <td>WHITE</td>\n",
              "      <td>M</td>\n",
              "      <td>47</td>\n",
              "      <td>270000</td>\n",
              "      <td>BURGLARY, THIRD DEGREE                DF</td>\n",
              "      <td>CHESHIRE CI</td>\n",
              "      <td>NONE</td>\n",
              "    </tr>\n",
              "    <tr>\n",
              "      <th>4</th>\n",
              "      <td>2021-03-31T00:00:00.000</td>\n",
              "      <td>ZZHLRJBL</td>\n",
              "      <td>2021-03-23T00:00:00.000</td>\n",
              "      <td>WHITE</td>\n",
              "      <td>M</td>\n",
              "      <td>41</td>\n",
              "      <td>70000</td>\n",
              "      <td>FAILURE TO APPEAR, SECOND DEGREE      AM</td>\n",
              "      <td>NEW HAVEN CC</td>\n",
              "      <td>NONE</td>\n",
              "    </tr>\n",
              "  </tbody>\n",
              "</table>\n",
              "</div>"
            ],
            "text/plain": [
              "             download_date identifier  ...      facility detainer\n",
              "0  2021-03-31T00:00:00.000   ZZSZEWBR  ...  NEW HAVEN CC     NONE\n",
              "1  2021-03-31T00:00:00.000   ZZHHZHJE  ...  NEW HAVEN CC     NONE\n",
              "2  2021-03-31T00:00:00.000   ZZSHWZES  ...   CORRIGAN CI     NONE\n",
              "3  2021-03-31T00:00:00.000   ZZRZLHZZ  ...   CHESHIRE CI     NONE\n",
              "4  2021-03-31T00:00:00.000   ZZHLRJBL  ...  NEW HAVEN CC     NONE\n",
              "\n",
              "[5 rows x 10 columns]"
            ]
          },
          "metadata": {
            "tags": []
          },
          "execution_count": 4
        }
      ]
    },
    {
      "cell_type": "code",
      "metadata": {
        "colab": {
          "base_uri": "https://localhost:8080/"
        },
        "id": "sRe_qwOj_4el",
        "outputId": "2f9d0936-7acc-4942-c1f5-47747227f72e"
      },
      "source": [
        "df.info()"
      ],
      "execution_count": null,
      "outputs": [
        {
          "output_type": "stream",
          "text": [
            "<class 'pandas.core.frame.DataFrame'>\n",
            "RangeIndex: 1000 entries, 0 to 999\n",
            "Data columns (total 10 columns):\n",
            " #   Column                 Non-Null Count  Dtype \n",
            "---  ------                 --------------  ----- \n",
            " 0   download_date          1000 non-null   object\n",
            " 1   identifier             1000 non-null   object\n",
            " 2   latest_admission_date  1000 non-null   object\n",
            " 3   race                   1000 non-null   object\n",
            " 4   gender                 1000 non-null   object\n",
            " 5   age                    1000 non-null   int64 \n",
            " 6   bond_amount            1000 non-null   int64 \n",
            " 7   offense                1000 non-null   object\n",
            " 8   facility               1000 non-null   object\n",
            " 9   detainer               1000 non-null   object\n",
            "dtypes: int64(2), object(8)\n",
            "memory usage: 78.2+ KB\n"
          ],
          "name": "stdout"
        }
      ]
    },
    {
      "cell_type": "code",
      "metadata": {
        "colab": {
          "base_uri": "https://localhost:8080/"
        },
        "id": "GsTAZyPCAmvF",
        "outputId": "8250785d-c733-4384-8fbe-92e7cf00ee27"
      },
      "source": [
        "# Checking data types for each column\n",
        "print(df.dtypes)"
      ],
      "execution_count": null,
      "outputs": [
        {
          "output_type": "stream",
          "text": [
            "download_date            object\n",
            "identifier               object\n",
            "latest_admission_date    object\n",
            "race                     object\n",
            "gender                   object\n",
            "age                       int64\n",
            "bond_amount               int64\n",
            "offense                  object\n",
            "facility                 object\n",
            "detainer                 object\n",
            "dtype: object\n"
          ],
          "name": "stdout"
        }
      ]
    },
    {
      "cell_type": "code",
      "metadata": {
        "colab": {
          "base_uri": "https://localhost:8080/",
          "height": 297
        },
        "id": "AG-Ha8_a_8pe",
        "outputId": "2ffca58a-4e20-40f0-8dd4-5bf0f6fffe1f"
      },
      "source": [
        "df.describe()"
      ],
      "execution_count": null,
      "outputs": [
        {
          "output_type": "execute_result",
          "data": {
            "text/html": [
              "<div>\n",
              "<style scoped>\n",
              "    .dataframe tbody tr th:only-of-type {\n",
              "        vertical-align: middle;\n",
              "    }\n",
              "\n",
              "    .dataframe tbody tr th {\n",
              "        vertical-align: top;\n",
              "    }\n",
              "\n",
              "    .dataframe thead th {\n",
              "        text-align: right;\n",
              "    }\n",
              "</style>\n",
              "<table border=\"1\" class=\"dataframe\">\n",
              "  <thead>\n",
              "    <tr style=\"text-align: right;\">\n",
              "      <th></th>\n",
              "      <th>age</th>\n",
              "      <th>bond_amount</th>\n",
              "    </tr>\n",
              "  </thead>\n",
              "  <tbody>\n",
              "    <tr>\n",
              "      <th>count</th>\n",
              "      <td>1000.000000</td>\n",
              "      <td>1.000000e+03</td>\n",
              "    </tr>\n",
              "    <tr>\n",
              "      <th>mean</th>\n",
              "      <td>35.110000</td>\n",
              "      <td>3.565073e+05</td>\n",
              "    </tr>\n",
              "    <tr>\n",
              "      <th>std</th>\n",
              "      <td>11.545614</td>\n",
              "      <td>6.079369e+05</td>\n",
              "    </tr>\n",
              "    <tr>\n",
              "      <th>min</th>\n",
              "      <td>16.000000</td>\n",
              "      <td>1.000000e+02</td>\n",
              "    </tr>\n",
              "    <tr>\n",
              "      <th>25%</th>\n",
              "      <td>26.000000</td>\n",
              "      <td>5.000000e+04</td>\n",
              "    </tr>\n",
              "    <tr>\n",
              "      <th>50%</th>\n",
              "      <td>33.000000</td>\n",
              "      <td>1.500000e+05</td>\n",
              "    </tr>\n",
              "    <tr>\n",
              "      <th>75%</th>\n",
              "      <td>42.000000</td>\n",
              "      <td>4.000000e+05</td>\n",
              "    </tr>\n",
              "    <tr>\n",
              "      <th>max</th>\n",
              "      <td>77.000000</td>\n",
              "      <td>6.500300e+06</td>\n",
              "    </tr>\n",
              "  </tbody>\n",
              "</table>\n",
              "</div>"
            ],
            "text/plain": [
              "               age   bond_amount\n",
              "count  1000.000000  1.000000e+03\n",
              "mean     35.110000  3.565073e+05\n",
              "std      11.545614  6.079369e+05\n",
              "min      16.000000  1.000000e+02\n",
              "25%      26.000000  5.000000e+04\n",
              "50%      33.000000  1.500000e+05\n",
              "75%      42.000000  4.000000e+05\n",
              "max      77.000000  6.500300e+06"
            ]
          },
          "metadata": {
            "tags": []
          },
          "execution_count": 6
        }
      ]
    },
    {
      "cell_type": "code",
      "metadata": {
        "id": "xLb5cUGVWqBt",
        "colab": {
          "base_uri": "https://localhost:8080/"
        },
        "outputId": "1750e70e-bced-4065-8126-82ff43b6f61b"
      },
      "source": [
        "#Checking Shape\n",
        "print(df.shape)"
      ],
      "execution_count": null,
      "outputs": [
        {
          "output_type": "stream",
          "text": [
            "(1000, 10)\n"
          ],
          "name": "stdout"
        }
      ]
    },
    {
      "cell_type": "code",
      "metadata": {
        "id": "fFRhh5LXWT2z",
        "colab": {
          "base_uri": "https://localhost:8080/"
        },
        "outputId": "11e1e12f-7066-410c-a562-72ad6c08404b"
      },
      "source": [
        "# check dataframe type\n",
        "type(df)"
      ],
      "execution_count": null,
      "outputs": [
        {
          "output_type": "execute_result",
          "data": {
            "text/plain": [
              "pandas.core.frame.DataFrame"
            ]
          },
          "metadata": {
            "tags": []
          },
          "execution_count": 9
        }
      ]
    },
    {
      "cell_type": "markdown",
      "metadata": {
        "id": "p-GOU1JFBJ_-"
      },
      "source": [
        "**Checking NA/Null Values**"
      ]
    },
    {
      "cell_type": "code",
      "metadata": {
        "id": "rvWY21EOWxFj",
        "colab": {
          "base_uri": "https://localhost:8080/",
          "height": 419
        },
        "outputId": "a1861f09-f947-4241-bed7-38a0036874e4"
      },
      "source": [
        "# Check null \n",
        "df.isnull()"
      ],
      "execution_count": null,
      "outputs": [
        {
          "output_type": "execute_result",
          "data": {
            "text/html": [
              "<div>\n",
              "<style scoped>\n",
              "    .dataframe tbody tr th:only-of-type {\n",
              "        vertical-align: middle;\n",
              "    }\n",
              "\n",
              "    .dataframe tbody tr th {\n",
              "        vertical-align: top;\n",
              "    }\n",
              "\n",
              "    .dataframe thead th {\n",
              "        text-align: right;\n",
              "    }\n",
              "</style>\n",
              "<table border=\"1\" class=\"dataframe\">\n",
              "  <thead>\n",
              "    <tr style=\"text-align: right;\">\n",
              "      <th></th>\n",
              "      <th>download_date</th>\n",
              "      <th>identifier</th>\n",
              "      <th>latest_admission_date</th>\n",
              "      <th>race</th>\n",
              "      <th>gender</th>\n",
              "      <th>age</th>\n",
              "      <th>bond_amount</th>\n",
              "      <th>offense</th>\n",
              "      <th>facility</th>\n",
              "      <th>detainer</th>\n",
              "    </tr>\n",
              "  </thead>\n",
              "  <tbody>\n",
              "    <tr>\n",
              "      <th>0</th>\n",
              "      <td>False</td>\n",
              "      <td>False</td>\n",
              "      <td>False</td>\n",
              "      <td>False</td>\n",
              "      <td>False</td>\n",
              "      <td>False</td>\n",
              "      <td>False</td>\n",
              "      <td>False</td>\n",
              "      <td>False</td>\n",
              "      <td>False</td>\n",
              "    </tr>\n",
              "    <tr>\n",
              "      <th>1</th>\n",
              "      <td>False</td>\n",
              "      <td>False</td>\n",
              "      <td>False</td>\n",
              "      <td>False</td>\n",
              "      <td>False</td>\n",
              "      <td>False</td>\n",
              "      <td>False</td>\n",
              "      <td>False</td>\n",
              "      <td>False</td>\n",
              "      <td>False</td>\n",
              "    </tr>\n",
              "    <tr>\n",
              "      <th>2</th>\n",
              "      <td>False</td>\n",
              "      <td>False</td>\n",
              "      <td>False</td>\n",
              "      <td>False</td>\n",
              "      <td>False</td>\n",
              "      <td>False</td>\n",
              "      <td>False</td>\n",
              "      <td>False</td>\n",
              "      <td>False</td>\n",
              "      <td>False</td>\n",
              "    </tr>\n",
              "    <tr>\n",
              "      <th>3</th>\n",
              "      <td>False</td>\n",
              "      <td>False</td>\n",
              "      <td>False</td>\n",
              "      <td>False</td>\n",
              "      <td>False</td>\n",
              "      <td>False</td>\n",
              "      <td>False</td>\n",
              "      <td>False</td>\n",
              "      <td>False</td>\n",
              "      <td>False</td>\n",
              "    </tr>\n",
              "    <tr>\n",
              "      <th>4</th>\n",
              "      <td>False</td>\n",
              "      <td>False</td>\n",
              "      <td>False</td>\n",
              "      <td>False</td>\n",
              "      <td>False</td>\n",
              "      <td>False</td>\n",
              "      <td>False</td>\n",
              "      <td>False</td>\n",
              "      <td>False</td>\n",
              "      <td>False</td>\n",
              "    </tr>\n",
              "    <tr>\n",
              "      <th>...</th>\n",
              "      <td>...</td>\n",
              "      <td>...</td>\n",
              "      <td>...</td>\n",
              "      <td>...</td>\n",
              "      <td>...</td>\n",
              "      <td>...</td>\n",
              "      <td>...</td>\n",
              "      <td>...</td>\n",
              "      <td>...</td>\n",
              "      <td>...</td>\n",
              "    </tr>\n",
              "    <tr>\n",
              "      <th>995</th>\n",
              "      <td>False</td>\n",
              "      <td>False</td>\n",
              "      <td>False</td>\n",
              "      <td>False</td>\n",
              "      <td>False</td>\n",
              "      <td>False</td>\n",
              "      <td>False</td>\n",
              "      <td>False</td>\n",
              "      <td>False</td>\n",
              "      <td>False</td>\n",
              "    </tr>\n",
              "    <tr>\n",
              "      <th>996</th>\n",
              "      <td>False</td>\n",
              "      <td>False</td>\n",
              "      <td>False</td>\n",
              "      <td>False</td>\n",
              "      <td>False</td>\n",
              "      <td>False</td>\n",
              "      <td>False</td>\n",
              "      <td>False</td>\n",
              "      <td>False</td>\n",
              "      <td>False</td>\n",
              "    </tr>\n",
              "    <tr>\n",
              "      <th>997</th>\n",
              "      <td>False</td>\n",
              "      <td>False</td>\n",
              "      <td>False</td>\n",
              "      <td>False</td>\n",
              "      <td>False</td>\n",
              "      <td>False</td>\n",
              "      <td>False</td>\n",
              "      <td>False</td>\n",
              "      <td>False</td>\n",
              "      <td>False</td>\n",
              "    </tr>\n",
              "    <tr>\n",
              "      <th>998</th>\n",
              "      <td>False</td>\n",
              "      <td>False</td>\n",
              "      <td>False</td>\n",
              "      <td>False</td>\n",
              "      <td>False</td>\n",
              "      <td>False</td>\n",
              "      <td>False</td>\n",
              "      <td>False</td>\n",
              "      <td>False</td>\n",
              "      <td>False</td>\n",
              "    </tr>\n",
              "    <tr>\n",
              "      <th>999</th>\n",
              "      <td>False</td>\n",
              "      <td>False</td>\n",
              "      <td>False</td>\n",
              "      <td>False</td>\n",
              "      <td>False</td>\n",
              "      <td>False</td>\n",
              "      <td>False</td>\n",
              "      <td>False</td>\n",
              "      <td>False</td>\n",
              "      <td>False</td>\n",
              "    </tr>\n",
              "  </tbody>\n",
              "</table>\n",
              "<p>1000 rows × 10 columns</p>\n",
              "</div>"
            ],
            "text/plain": [
              "     download_date  identifier  ...  facility  detainer\n",
              "0            False       False  ...     False     False\n",
              "1            False       False  ...     False     False\n",
              "2            False       False  ...     False     False\n",
              "3            False       False  ...     False     False\n",
              "4            False       False  ...     False     False\n",
              "..             ...         ...  ...       ...       ...\n",
              "995          False       False  ...     False     False\n",
              "996          False       False  ...     False     False\n",
              "997          False       False  ...     False     False\n",
              "998          False       False  ...     False     False\n",
              "999          False       False  ...     False     False\n",
              "\n",
              "[1000 rows x 10 columns]"
            ]
          },
          "metadata": {
            "tags": []
          },
          "execution_count": 13
        }
      ]
    },
    {
      "cell_type": "code",
      "metadata": {
        "id": "j6_syjhSWzmU",
        "colab": {
          "base_uri": "https://localhost:8080/"
        },
        "outputId": "cf5cbdb9-8216-426c-899a-0807ec6bac6e"
      },
      "source": [
        "# Null sum\n",
        "df.isnull().sum()"
      ],
      "execution_count": null,
      "outputs": [
        {
          "output_type": "execute_result",
          "data": {
            "text/plain": [
              "download_date            0\n",
              "identifier               0\n",
              "latest_admission_date    0\n",
              "race                     0\n",
              "gender                   0\n",
              "age                      0\n",
              "bond_amount              0\n",
              "offense                  0\n",
              "facility                 0\n",
              "detainer                 0\n",
              "dtype: int64"
            ]
          },
          "metadata": {
            "tags": []
          },
          "execution_count": 14
        }
      ]
    },
    {
      "cell_type": "code",
      "metadata": {
        "id": "W4sJgIo4BCf2"
      },
      "source": [
        "# You can drop rows or columns, not single values\n",
        "# df_2.dropna() # default is row-wise\n",
        "# df2.dropna(axis = 1) #column-wise. "
      ],
      "execution_count": null,
      "outputs": []
    },
    {
      "cell_type": "code",
      "metadata": {
        "id": "DTpsR0rnBH-u"
      },
      "source": [
        "# Filling NAs\n",
        "# df.fillna(0)"
      ],
      "execution_count": null,
      "outputs": []
    },
    {
      "cell_type": "markdown",
      "metadata": {
        "id": "LMw82Cc1BSTG"
      },
      "source": [
        "**Organizing Data**"
      ]
    },
    {
      "cell_type": "code",
      "metadata": {
        "id": "afddH0VsAthl"
      },
      "source": [
        "# change column names\n",
        "# df_1 = df.rename(columns = {\"existing column name 1\": \"new column name 1\", \"existing column name 2\":\"new column name 2\"})\n",
        "# df_1.head()"
      ],
      "execution_count": null,
      "outputs": []
    },
    {
      "cell_type": "code",
      "metadata": {
        "id": "0GJ09gvCXsOO"
      },
      "source": [
        "# Create separate columns for month day and year \n",
        "# df_1.Date = pd.to_datetime(df_2.Date)\n",
        "# df_2[['month', 'year']] = df_2.Date.apply(lambda x: pd.Series(x.strftime(\"%m, %Y\").split(\",\")))\n",
        "# df_2"
      ],
      "execution_count": null,
      "outputs": []
    },
    {
      "cell_type": "code",
      "metadata": {
        "id": "UVubDJc3Xzds"
      },
      "source": [
        "# Changing Date to datetime\n",
        "# df_1.Date = pd.to_datetime(df_1.Date)"
      ],
      "execution_count": null,
      "outputs": []
    },
    {
      "cell_type": "code",
      "metadata": {
        "colab": {
          "base_uri": "https://localhost:8080/"
        },
        "id": "ukyWoJEDPM-M",
        "outputId": "b2b8bd28-e3cb-4d9b-e8db-bd9262fe7730"
      },
      "source": [
        "# Examining Offense Types\n",
        "df.nunique()"
      ],
      "execution_count": null,
      "outputs": [
        {
          "output_type": "execute_result",
          "data": {
            "text/plain": [
              "download_date               1\n",
              "identifier               1000\n",
              "latest_admission_date     464\n",
              "race                        5\n",
              "gender                      2\n",
              "age                        58\n",
              "bond_amount               347\n",
              "offense                   122\n",
              "facility                   17\n",
              "detainer                    7\n",
              "dtype: int64"
            ]
          },
          "metadata": {
            "tags": []
          },
          "execution_count": 22
        }
      ]
    },
    {
      "cell_type": "code",
      "metadata": {
        "id": "SFF8yvyGbfiy",
        "colab": {
          "base_uri": "https://localhost:8080/"
        },
        "outputId": "d9130d3d-2387-41fa-eb9e-dd8d80e42e34"
      },
      "source": [
        "# Examining Offense Types\n",
        "df.offense.nunique()"
      ],
      "execution_count": null,
      "outputs": [
        {
          "output_type": "execute_result",
          "data": {
            "text/plain": [
              "122"
            ]
          },
          "metadata": {
            "tags": []
          },
          "execution_count": 19
        }
      ]
    },
    {
      "cell_type": "code",
      "metadata": {
        "id": "ZK7PKQNQb45U",
        "colab": {
          "base_uri": "https://localhost:8080/"
        },
        "outputId": "3d79fb93-2c84-4620-ae62-280b2de893f6"
      },
      "source": [
        "# Examining Offense Types\n",
        "df.offense.unique()"
      ],
      "execution_count": null,
      "outputs": [
        {
          "output_type": "execute_result",
          "data": {
            "text/plain": [
              "array(['POSSESSING CHILD PORNOGRAPH            F',\n",
              "       'MURDER                                AF',\n",
              "       'INJURY OR RISK OF INJURY TO MINOR      F',\n",
              "       'BURGLARY, THIRD DEGREE                DF',\n",
              "       'FAILURE TO APPEAR, SECOND DEGREE      AM',\n",
              "       'VIOLATION OF PROBATION OR COND DISCHG',\n",
              "       'STRANGULATION 2ND DEGREE              DF',\n",
              "       'SEXUAL ASSAULT, FIRST DEGREE           F',\n",
              "       'SALE OF HEROIN, COC BY NON-DEPENDENT', 'CRIMINAL ATTEMPT',\n",
              "       'ROBBERY, FIRST DEGREE                 BF',\n",
              "       'CRIM VIOL OF PROTECTIVE ORDER         DF',\n",
              "       'ASSAULT, FIRST DEGREE                 BF',\n",
              "       'ARREST WITHOUT WARRANT',\n",
              "       'CRIMINAL POSS OF PISTOL/REVOLVER      DF',\n",
              "       'TAMPERING WITH OR FABRICATING EVIDNC  DF',\n",
              "       'POSSESSION OF NARCOTICS',\n",
              "       'SELLING WEAPONS TO ALIENS PROHIBITED   F',\n",
              "       'LARCENY, FIRST DEGREE                 BF',\n",
              "       'KIDNAPPING, FIRST DEGREE              AF',\n",
              "       'BURGLARY, SECOND DEGREE               CF',\n",
              "       'LARCENY, SECOND DEGREE                CF',\n",
              "       'SALE OF HALLUCIGEN/NARCOTIC SUBSTANCE  F',\n",
              "       'RECKLESS ENDANGERMENT, SECOND DEGREE  BM', 'YOUTHFUL OFFENDER',\n",
              "       'LARCENY, THIRD DEGREE                 DF',\n",
              "       'CARRYING WEAPON IN A MOTOR VEHICLE     F',\n",
              "       'BURGLARY, FIRST DEGREE                BF',\n",
              "       'ROBBERY, THIRD DEGREE                 DF',\n",
              "       'SEXUAL ASSAULT, SECOND DEGREE          F',\n",
              "       'FAILURE TO APPEAR, FIRST DEGREE       DF',\n",
              "       'BURGLARY, FIRST DEGREE: 53A101A(2)    BF',\n",
              "       'STEALING A FIREARM                    DF',\n",
              "       'ASSAULT, THIRD DEGREE                 AM',\n",
              "       'ARSON, FIRST DEGREE                   AF',\n",
              "       'MANSLAUGHTER, FIRST DEGREE            BF',\n",
              "       'OPERATE UNDER INFLU OF LIQ OR DRUGS',\n",
              "       'FORGERY, SECOND DEGREE                DF',\n",
              "       'SEXUAL ASSAULT 1ST DEGREE-AGGRVTD      F',\n",
              "       'SALE OF NARC/AMPHET BY NON-DEPENDENT   F',\n",
              "       'ASSAULT, SECOND DEGREE                 F',\n",
              "       'CRIM VIOL CIVIL PROTECTION ORDER      DF',\n",
              "       'THREATENING                           AM',\n",
              "       'HOME INVASION                         AF',\n",
              "       'DRUG PARAPHERNALIA IN DRUG FACTORY     F',\n",
              "       'ILL POSSESS CHILD PORN 3RD DEG        DF',\n",
              "       'ROBBERY, SECOND DEGREE                CF',\n",
              "       'ESCAPE, FIRST DEGREE                  CF',\n",
              "       'INTERFERING WITH AN OFFICER           AM',\n",
              "       'ASSAULT, 1ST VICTIM 60 OR OVER        BF',\n",
              "       'THREATENING 1ST DEGREE                DF',\n",
              "       'INCSTRUCTION UNLICENSED PERSON IN VEHICL',\n",
              "       'KIDNAPPING, 2ND DEGREE                BF',\n",
              "       'ROBBERY, FIRST DEGREE                BF',\n",
              "       'LARCENY, SIXTH DEGREE                 CM',\n",
              "       'ARSON, SECOND DEGREE                  BF', 'CONSPIRACY',\n",
              "       'POSSESSION OF SHOTGUN OR SILENCER     DF',\n",
              "       'CRIMINAL TRESPASS, FIRST DEGREE       AM', 'JUVENILE TRANSFER',\n",
              "       'ASSAULT ON POLICE OR FIRE OFFICER     CF',\n",
              "       'CRIM VIOL OF PROTECTIVE ORDER         AM',\n",
              "       'CRIMINAL POSSESSION OF A PISTOL       DF',\n",
              "       'INTERFERENCE WITH SEARCH',\n",
              "       'UNLAWFUL RESTRAINT, SECOND DEGREE     AM',\n",
              "       'VIO DEADLY WEAPON REGIST REQS         DF',\n",
              "       'CRIMINAL MISCHIEF, SECOND DEGREE      AM',\n",
              "       'IDENTITY THEFT 1ST DEGREE             BF',\n",
              "       'CARRYING WEAPONS WITHOUT A PERMIT      F',\n",
              "       'MANSLAUGHTER 2ND WITH MV (INTOX)      CF',\n",
              "       'CAPITAL FELONY                         F',\n",
              "       'ALTERING OR REMOVING IDENT NUMBER      F',\n",
              "       'CRIMINAL MISCHIEF, FIRST DEGREE       DF', 'ARREST WARRANT',\n",
              "       'INJURY/RISK OF INJURY TO MINOR- SEXUAL C',\n",
              "       'ILL POSSESS CHILD PORN 2ND DEG         F',\n",
              "       'STALKING, 1ST DEGREE                  DF',\n",
              "       'CRIM VIOL ST CRIM RESTR ORDER         DF',\n",
              "       'SEXUAL ASSAULT, THIRD DEGREE          DF',\n",
              "       'COMMIT SEXUAL OFF IN ANOTHER JURIS    DF',\n",
              "       'REG PERSON WHO COMM SEX VIOL OFF      DF',\n",
              "       'STRANGULATION 1ST DEGREE              CF',\n",
              "       'FLR KEEP NARC IN ORG CONTAINER         F', 'CREDIT CARD THEFT',\n",
              "       'CARRY PIST/RVOLV W/O PERMIT', 'POSS OF ASSAULT WEAPON PROHIBITED',\n",
              "       'ASSAULT 2ND, VICTIM 60 OR OVER        DF',\n",
              "       'USING MACHINE GUN IN CRIME             F',\n",
              "       'FAILURE TO OBEY AN OFFICER',\n",
              "       'INTIMIDATION BSD BIGOTRY/BIAS         DF',\n",
              "       'CRIMINAL IMPERSONATION                BM',\n",
              "       'LARCENY, FOURTH DEGREE                AM',\n",
              "       'SALE OF CONTROLLED SUBSTANCE           F',\n",
              "       'HARASSMENT 1ST DEGREE                 DF',\n",
              "       'FELONY MURDER                         AF',\n",
              "       'SEXUAL ASSAULT, FOURTH DEGREE         AM',\n",
              "       'FORGERY, FIRST DEGREE                 CF',\n",
              "       'IL POS LRG CAP MAG OBT AF 4/13        DF',\n",
              "       'DISORDERLY CONDUCT                    CM',\n",
              "       'POSSESS OF HALLUC OR 4+ OZ MARIJUANA   F',\n",
              "       'VIOLATE COND OF RELEASE-2ND DEG       AM',\n",
              "       'MANUFACTURE OF BOMBS                  BF',\n",
              "       'CRIMINAL TROVER, 1ST DEGREE            F',\n",
              "       'VIOLATION OF CONDITIONS OF RELEASE',\n",
              "       'UNLAWFUL RESTRAINT, FIRST DEGREE      DF',\n",
              "       'ILLEGAL MANUFACTUAL OR SALE OF DRUGS',\n",
              "       'IDENTITY THEFT 3RD DEGREE             DF',\n",
              "       'LEAV CHILD UNSUPERV IN PUBL/MOT VEH    C',\n",
              "       'BREACH OF PEACE                       BM',\n",
              "       'STRANGULATION 3RD DEGREE',\n",
              "       'CRIM VIOL RES ORDER                   AM',\n",
              "       'MANSLAUGHTER, SECOND DEGREE           CF',\n",
              "       'KIDNAPPING 1ST DEG W/ FIREARM         AF',\n",
              "       'PROMOTING PROSTITUTION, FIRST DEGREE  BF',\n",
              "       'ASSAULT 3RD DEGREE, VICTIM OVER 59    AM',\n",
              "       'CARRYING OR SALE OF DANGEROUS WEAPON',\n",
              "       'HINDERING PROSECUTION 2ND DEG',\n",
              "       'PUBLIC INDECENCY                      BM',\n",
              "       'FOLLOWING TOO CLOSELY', 'INTERSTATE PAROLE COMPACT',\n",
              "       'COUNTERFEITING MARKER PLATES           M',\n",
              "       'ASSAULT 2ND DEGREE WITH A FIREARM     DF'], dtype=object)"
            ]
          },
          "metadata": {
            "tags": []
          },
          "execution_count": 21
        }
      ]
    },
    {
      "cell_type": "code",
      "metadata": {
        "colab": {
          "base_uri": "https://localhost:8080/"
        },
        "id": "CJrYOVhyZB6d",
        "outputId": "d33ec441-b40d-4101-d90b-1d2885fa5113"
      },
      "source": [
        "# Group by Offense then Sum of each Type of offense\n",
        "df_offense = df['offense'].value_counts()\n",
        "df_offense.head(50)"
      ],
      "execution_count": null,
      "outputs": [
        {
          "output_type": "execute_result",
          "data": {
            "text/plain": [
              "VIOLATION OF PROBATION OR COND DISCHG       84\n",
              "CRIM VIOL OF PROTECTIVE ORDER         DF    78\n",
              "MURDER                                AF    60\n",
              "ASSAULT, FIRST DEGREE                 BF    45\n",
              "INJURY OR RISK OF INJURY TO MINOR      F    44\n",
              "ROBBERY, FIRST DEGREE                 BF    37\n",
              "SEXUAL ASSAULT, FIRST DEGREE           F    36\n",
              "LARCENY, FIRST DEGREE                 BF    28\n",
              "ASSAULT ON POLICE OR FIRE OFFICER     CF    26\n",
              "CRIMINAL ATTEMPT                            24\n",
              "CRIMINAL POSSESSION OF A PISTOL       DF    24\n",
              "FAILURE TO APPEAR, FIRST DEGREE       DF    22\n",
              "BURGLARY, THIRD DEGREE                DF    22\n",
              "CRIMINAL POSS OF PISTOL/REVOLVER      DF    21\n",
              "ASSAULT, THIRD DEGREE                 AM    21\n",
              "STEALING A FIREARM                    DF    19\n",
              "HOME INVASION                         AF    19\n",
              "LARCENY, SECOND DEGREE                CF    15\n",
              "SALE OF NARC/AMPHET BY NON-DEPENDENT   F    15\n",
              "LARCENY, THIRD DEGREE                 DF    15\n",
              "BURGLARY, FIRST DEGREE                BF    14\n",
              "ASSAULT, SECOND DEGREE                 F    13\n",
              "STRANGULATION 2ND DEGREE              DF    13\n",
              "SALE OF HALLUCIGEN/NARCOTIC SUBSTANCE  F    13\n",
              "BURGLARY, SECOND DEGREE               CF    12\n",
              "CONSPIRACY                                  11\n",
              "THREATENING                           AM    11\n",
              "INTERFERING WITH AN OFFICER           AM    10\n",
              "SEXUAL ASSAULT, SECOND DEGREE          F    10\n",
              "JUVENILE TRANSFER                            9\n",
              "SEXUAL ASSAULT 1ST DEGREE-AGGRVTD      F     9\n",
              "FAILURE TO APPEAR, SECOND DEGREE      AM     8\n",
              "ASSAULT, 1ST VICTIM 60 OR OVER        BF     8\n",
              "INJURY/RISK OF INJURY TO MINOR- SEXUAL C     8\n",
              "SALE OF HEROIN, COC BY NON-DEPENDENT         7\n",
              "DRUG PARAPHERNALIA IN DRUG FACTORY     F     7\n",
              "OPERATE UNDER INFLU OF LIQ OR DRUGS          6\n",
              "KIDNAPPING, FIRST DEGREE              AF     6\n",
              "MANSLAUGHTER, FIRST DEGREE            BF     6\n",
              "TAMPERING WITH OR FABRICATING EVIDNC  DF     6\n",
              "FELONY MURDER                         AF     5\n",
              "CRIMINAL TRESPASS, FIRST DEGREE       AM     5\n",
              "POSSESSING CHILD PORNOGRAPH            F     5\n",
              "POSSESSION OF NARCOTICS                      5\n",
              "CARRYING WEAPON IN A MOTOR VEHICLE     F     5\n",
              "ARREST WITHOUT WARRANT                       5\n",
              "YOUTHFUL OFFENDER                            4\n",
              "THREATENING 1ST DEGREE                DF     4\n",
              "FORGERY, SECOND DEGREE                DF     4\n",
              "ROBBERY, THIRD DEGREE                 DF     4\n",
              "Name: offense, dtype: int64"
            ]
          },
          "metadata": {
            "tags": []
          },
          "execution_count": 25
        }
      ]
    },
    {
      "cell_type": "code",
      "metadata": {
        "colab": {
          "base_uri": "https://localhost:8080/"
        },
        "id": "aQ_-wV0fZdgA",
        "outputId": "7011df96-9e8a-41ce-ab16-c00a4ae2186c"
      },
      "source": [
        "# Group by Offense then Sum of each Type of offense\n",
        "df_race = df['race'].value_counts()\n",
        "df_race.head()"
      ],
      "execution_count": null,
      "outputs": [
        {
          "output_type": "execute_result",
          "data": {
            "text/plain": [
              "BLACK       432\n",
              "HISPANIC    281\n",
              "WHITE       281\n",
              "ASIAN         4\n",
              "AMER IND      2\n",
              "Name: race, dtype: int64"
            ]
          },
          "metadata": {
            "tags": []
          },
          "execution_count": 27
        }
      ]
    },
    {
      "cell_type": "code",
      "metadata": {
        "colab": {
          "base_uri": "https://localhost:8080/",
          "height": 204
        },
        "id": "w_cDZ96GaICd",
        "outputId": "c315f93f-c818-481c-b5ae-791cc30bfe71"
      },
      "source": [
        "# Sum of bail amount by race\n",
        "df_racebail = df.groupby(['race'], as_index=False).agg({'bond_amount': sum})\n",
        "df_racebail.head()"
      ],
      "execution_count": null,
      "outputs": [
        {
          "output_type": "execute_result",
          "data": {
            "text/html": [
              "<div>\n",
              "<style scoped>\n",
              "    .dataframe tbody tr th:only-of-type {\n",
              "        vertical-align: middle;\n",
              "    }\n",
              "\n",
              "    .dataframe tbody tr th {\n",
              "        vertical-align: top;\n",
              "    }\n",
              "\n",
              "    .dataframe thead th {\n",
              "        text-align: right;\n",
              "    }\n",
              "</style>\n",
              "<table border=\"1\" class=\"dataframe\">\n",
              "  <thead>\n",
              "    <tr style=\"text-align: right;\">\n",
              "      <th></th>\n",
              "      <th>race</th>\n",
              "      <th>bond_amount</th>\n",
              "    </tr>\n",
              "  </thead>\n",
              "  <tbody>\n",
              "    <tr>\n",
              "      <th>0</th>\n",
              "      <td>AMER IND</td>\n",
              "      <td>900000</td>\n",
              "    </tr>\n",
              "    <tr>\n",
              "      <th>1</th>\n",
              "      <td>ASIAN</td>\n",
              "      <td>625000</td>\n",
              "    </tr>\n",
              "    <tr>\n",
              "      <th>2</th>\n",
              "      <td>BLACK</td>\n",
              "      <td>193194507</td>\n",
              "    </tr>\n",
              "    <tr>\n",
              "      <th>3</th>\n",
              "      <td>HISPANIC</td>\n",
              "      <td>97967800</td>\n",
              "    </tr>\n",
              "    <tr>\n",
              "      <th>4</th>\n",
              "      <td>WHITE</td>\n",
              "      <td>63819997</td>\n",
              "    </tr>\n",
              "  </tbody>\n",
              "</table>\n",
              "</div>"
            ],
            "text/plain": [
              "       race  bond_amount\n",
              "0  AMER IND       900000\n",
              "1     ASIAN       625000\n",
              "2     BLACK    193194507\n",
              "3  HISPANIC     97967800\n",
              "4     WHITE     63819997"
            ]
          },
          "metadata": {
            "tags": []
          },
          "execution_count": 28
        }
      ]
    },
    {
      "cell_type": "code",
      "metadata": {
        "id": "-Th13CCgYaeg"
      },
      "source": [
        "# Remove Column(s) by index number\n",
        "df_2.drop(df_2.columns[[2]], axis=1, inplace=True,)\n",
        "df_2.head(5)"
      ],
      "execution_count": null,
      "outputs": []
    },
    {
      "cell_type": "code",
      "metadata": {
        "id": "HAHYtF0LXCST"
      },
      "source": [
        "# Group by\n",
        "df_group = df_1.groupby('Column name')\n",
        "df_group.head()"
      ],
      "execution_count": null,
      "outputs": []
    },
    {
      "cell_type": "code",
      "metadata": {
        "id": "xeCWv-TgXXtX"
      },
      "source": [
        "# Group by then sort by Date\n",
        "df_3 = df_1.groupby('column name').apply(lambda x: x.sort_values('Date'))\n",
        "df_3.head(30)"
      ],
      "execution_count": null,
      "outputs": []
    },
    {
      "cell_type": "code",
      "metadata": {
        "id": "Vwu3lFS8Xoeu"
      },
      "source": [
        "# Group by Year Sum\n",
        "df_year = df_3.groupby(['year'], as_index=False).agg({'column name': sum})\n",
        "df_year.head()"
      ],
      "execution_count": null,
      "outputs": []
    },
    {
      "cell_type": "code",
      "metadata": {
        "id": "W6cHlOE6Z8Hi"
      },
      "source": [
        "# Sum of avg. daily pop by month and year\n",
        "df_monthyear = df_3.groupby(['year', 'month'], as_index=False).agg({'Column name': sum})\n",
        "df_monthyear.head(20)"
      ],
      "execution_count": null,
      "outputs": []
    },
    {
      "cell_type": "code",
      "metadata": {
        "id": "9i0KRdbCaNv1"
      },
      "source": [
        "# Changing column type to integer\n",
        "df_monthyear['column_name'].astype(int)"
      ],
      "execution_count": null,
      "outputs": []
    },
    {
      "cell_type": "markdown",
      "metadata": {
        "id": "GH7F2do2ZKDY"
      },
      "source": [
        "**Data Visualization**"
      ]
    },
    {
      "cell_type": "code",
      "metadata": {
        "id": "nBipkr6-ZIz1"
      },
      "source": [
        "# Basic Plots with Matplotlib\n",
        "import matplotlib as mpl\n",
        "import matplotlib.pyplot as plt\n",
        "plt.style.use('classic')"
      ],
      "execution_count": null,
      "outputs": []
    },
    {
      "cell_type": "code",
      "metadata": {
        "id": "cWymH38JZFkO"
      },
      "source": [
        "# matplotlib plot\n",
        "import matplotlib.pyplot as plt\n",
        "df_year.plot(x = 'year', grid=True)\n",
        "plt.xlabel('year')\n",
        "plt.ylabel('Column name')"
      ],
      "execution_count": null,
      "outputs": []
    },
    {
      "cell_type": "code",
      "metadata": {
        "id": "q-jfM9s_Zp7W"
      },
      "source": [
        "# matplotlib barplot\n",
        "import matplotlib.pyplot as plt\n",
        "x = df_year['year']\n",
        "y = df_year['Column name']\n",
        "plt.bar(x, y)\n",
        "plt.xlabel('Year')\n",
        "plt.ylabel('Column name')\n",
        "plt.show()"
      ],
      "execution_count": null,
      "outputs": []
    },
    {
      "cell_type": "markdown",
      "metadata": {
        "id": "uJUVkwwNcCXo"
      },
      "source": [
        "**Statistics**"
      ]
    },
    {
      "cell_type": "code",
      "metadata": {
        "id": "hsk3G91PcFDy"
      },
      "source": [
        "# Multiple functions\n",
        "grouped['C'].agg([np.sum, np.mean, np.std])"
      ],
      "execution_count": null,
      "outputs": []
    },
    {
      "cell_type": "code",
      "metadata": {
        "id": "rJLbp6nRcNw6"
      },
      "source": [
        "df.groupby('A').aggregate('C').mean()"
      ],
      "execution_count": null,
      "outputs": []
    },
    {
      "cell_type": "code",
      "metadata": {
        "id": "TLac9VKbcQ2E"
      },
      "source": [
        "df.groupby('A').C.mean()"
      ],
      "execution_count": null,
      "outputs": []
    },
    {
      "cell_type": "code",
      "metadata": {
        "id": "xYv6xaHhcRM5"
      },
      "source": [
        "# Bootstrapping \n",
        "bootstrap = pd.DataFrame({'name_of_sampling_df': [pop.sample(100, replace = True).VARIABLE_NAME_HERE.mean() for i in range (1000)]})"
      ],
      "execution_count": null,
      "outputs": []
    }
  ]
}