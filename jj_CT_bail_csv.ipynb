{
  "nbformat": 4,
  "nbformat_minor": 0,
  "metadata": {
    "colab": {
      "name": "jj_CT_bail_csv.ipynb",
      "provenance": [],
      "collapsed_sections": [],
      "toc_visible": true,
      "authorship_tag": "ABX9TyNbsVTlYGQvP7Y/m00WhwFW",
      "include_colab_link": true
    },
    "kernelspec": {
      "name": "python3",
      "display_name": "Python 3"
    },
    "language_info": {
      "name": "python"
    }
  },
  "cells": [
    {
      "cell_type": "markdown",
      "metadata": {
        "id": "view-in-github",
        "colab_type": "text"
      },
      "source": [
        "<a href=\"https://colab.research.google.com/github/jcj217-mc/Data_205/blob/main/jj_CT_bail_csv.ipynb\" target=\"_parent\"><img src=\"https://colab.research.google.com/assets/colab-badge.svg\" alt=\"Open In Colab\"/></a>"
      ]
    },
    {
      "cell_type": "code",
      "metadata": {
        "id": "lJh6zQg4VvRb"
      },
      "source": [
        "# import packages\n",
        "import pandas as pd\n",
        "import numpy as np\n",
        "import os \n",
        "import json"
      ],
      "execution_count": null,
      "outputs": []
    },
    {
      "cell_type": "code",
      "metadata": {
        "id": "dWajxBmeV60M"
      },
      "source": [
        "# .json file data imported as pandas data frame\n",
        "# df = pd.read_json('https://data.ct.gov/resource/b674-jy6w.json')"
      ],
      "execution_count": null,
      "outputs": []
    },
    {
      "cell_type": "markdown",
      "metadata": {
        "id": "dV6s6FAwkZzS"
      },
      "source": [
        ""
      ]
    },
    {
      "cell_type": "code",
      "metadata": {
        "id": "e7EO6SQna5F4"
      },
      "source": [
        "# .csv file import\n",
        "# First, check  working directory\n",
        "# os.getcwd()\n",
        "# If need to change working directory\n",
        "# os.chdir(path)\n",
        "df = pd.read_csv(\"Accused_Pre-Trial_Inmates_in_Correctional_Facilities.csv\", index_col=False)"
      ],
      "execution_count": null,
      "outputs": []
    },
    {
      "cell_type": "markdown",
      "metadata": {
        "id": "Dyua3yZ8ZPyo"
      },
      "source": [
        "**Data Wrangling**"
      ]
    },
    {
      "cell_type": "code",
      "metadata": {
        "id": "el19b9VvWEB2",
        "colab": {
          "base_uri": "https://localhost:8080/",
          "height": 411
        },
        "outputId": "094c0549-494b-4f82-b012-e58320d2672a"
      },
      "source": [
        "# Evaluating initial data \n",
        "df.head()"
      ],
      "execution_count": null,
      "outputs": [
        {
          "output_type": "execute_result",
          "data": {
            "text/html": [
              "<div>\n",
              "<style scoped>\n",
              "    .dataframe tbody tr th:only-of-type {\n",
              "        vertical-align: middle;\n",
              "    }\n",
              "\n",
              "    .dataframe tbody tr th {\n",
              "        vertical-align: top;\n",
              "    }\n",
              "\n",
              "    .dataframe thead th {\n",
              "        text-align: right;\n",
              "    }\n",
              "</style>\n",
              "<table border=\"1\" class=\"dataframe\">\n",
              "  <thead>\n",
              "    <tr style=\"text-align: right;\">\n",
              "      <th></th>\n",
              "      <th>DOWNLOAD DATE</th>\n",
              "      <th>IDENTIFIER</th>\n",
              "      <th>LATEST ADMISSION DATE</th>\n",
              "      <th>RACE</th>\n",
              "      <th>GENDER</th>\n",
              "      <th>AGE</th>\n",
              "      <th>BOND AMOUNT</th>\n",
              "      <th>OFFENSE</th>\n",
              "      <th>FACILITY</th>\n",
              "      <th>DETAINER</th>\n",
              "    </tr>\n",
              "  </thead>\n",
              "  <tbody>\n",
              "    <tr>\n",
              "      <th>0</th>\n",
              "      <td>05/15/2020</td>\n",
              "      <td>ZZHCZBZZ</td>\n",
              "      <td>08/16/2018</td>\n",
              "      <td>BLACK</td>\n",
              "      <td>M</td>\n",
              "      <td>27</td>\n",
              "      <td>150000</td>\n",
              "      <td>CRIMINAL POSS OF PISTOL/REVOLVER      DF</td>\n",
              "      <td>NEW HAVEN CC</td>\n",
              "      <td>NONE</td>\n",
              "    </tr>\n",
              "    <tr>\n",
              "      <th>1</th>\n",
              "      <td>05/15/2020</td>\n",
              "      <td>ZZHZZRLR</td>\n",
              "      <td>03/28/2019</td>\n",
              "      <td>HISPANIC</td>\n",
              "      <td>M</td>\n",
              "      <td>41</td>\n",
              "      <td>30100</td>\n",
              "      <td>VIOLATION OF PROBATION OR COND DISCHG</td>\n",
              "      <td>CORRIGAN CI</td>\n",
              "      <td>NONE</td>\n",
              "    </tr>\n",
              "    <tr>\n",
              "      <th>2</th>\n",
              "      <td>05/15/2020</td>\n",
              "      <td>ZZSRJBEE</td>\n",
              "      <td>04/03/2020</td>\n",
              "      <td>HISPANIC</td>\n",
              "      <td>M</td>\n",
              "      <td>21</td>\n",
              "      <td>150000</td>\n",
              "      <td>CRIMINAL ATTEMPT</td>\n",
              "      <td>CORRIGAN CI</td>\n",
              "      <td>NONE</td>\n",
              "    </tr>\n",
              "    <tr>\n",
              "      <th>3</th>\n",
              "      <td>05/15/2020</td>\n",
              "      <td>ZZHBJLRZ</td>\n",
              "      <td>01/15/2020</td>\n",
              "      <td>WHITE</td>\n",
              "      <td>M</td>\n",
              "      <td>36</td>\n",
              "      <td>50500</td>\n",
              "      <td>CRIM VIOL OF PROTECTIVE ORDER         DF</td>\n",
              "      <td>BRIDGEPORT CC</td>\n",
              "      <td>NONE</td>\n",
              "    </tr>\n",
              "    <tr>\n",
              "      <th>4</th>\n",
              "      <td>05/15/2020</td>\n",
              "      <td>ZZSRRCHH</td>\n",
              "      <td>12/26/2018</td>\n",
              "      <td>HISPANIC</td>\n",
              "      <td>M</td>\n",
              "      <td>29</td>\n",
              "      <td>100000</td>\n",
              "      <td>CRIMINAL ATTEMPT</td>\n",
              "      <td>HARTFORD CC</td>\n",
              "      <td>NONE</td>\n",
              "    </tr>\n",
              "  </tbody>\n",
              "</table>\n",
              "</div>"
            ],
            "text/plain": [
              "  DOWNLOAD DATE  ... DETAINER                                        \n",
              "0    05/15/2020  ...                                             NONE\n",
              "1    05/15/2020  ...                                             NONE\n",
              "2    05/15/2020  ...                                             NONE\n",
              "3    05/15/2020  ...                                             NONE\n",
              "4    05/15/2020  ...                                             NONE\n",
              "\n",
              "[5 rows x 10 columns]"
            ]
          },
          "metadata": {
            "tags": []
          },
          "execution_count": 152
        }
      ]
    },
    {
      "cell_type": "code",
      "metadata": {
        "colab": {
          "base_uri": "https://localhost:8080/"
        },
        "id": "sRe_qwOj_4el",
        "outputId": "02f0774c-5c68-41f3-d393-f6527a597f4c"
      },
      "source": [
        "df.info()"
      ],
      "execution_count": null,
      "outputs": [
        {
          "output_type": "stream",
          "text": [
            "<class 'pandas.core.frame.DataFrame'>\n",
            "RangeIndex: 5348669 entries, 0 to 5348668\n",
            "Data columns (total 10 columns):\n",
            " #   Column                                            Dtype \n",
            "---  ------                                            ----- \n",
            " 0   DOWNLOAD DATE                                     object\n",
            " 1   IDENTIFIER                                        object\n",
            " 2   LATEST ADMISSION DATE                             object\n",
            " 3   RACE                                              object\n",
            " 4   GENDER                                            object\n",
            " 5   AGE                                               int64 \n",
            " 6   BOND AMOUNT                                       int64 \n",
            " 7   OFFENSE                                           object\n",
            " 8   FACILITY                                          object\n",
            " 9   DETAINER                                          object\n",
            "dtypes: int64(2), object(8)\n",
            "memory usage: 408.1+ MB\n"
          ],
          "name": "stdout"
        }
      ]
    },
    {
      "cell_type": "code",
      "metadata": {
        "colab": {
          "base_uri": "https://localhost:8080/",
          "height": 297
        },
        "id": "AG-Ha8_a_8pe",
        "outputId": "74d78544-4209-4e64-da93-4ce75fdab56d"
      },
      "source": [
        "df.describe()"
      ],
      "execution_count": null,
      "outputs": [
        {
          "output_type": "execute_result",
          "data": {
            "text/html": [
              "<div>\n",
              "<style scoped>\n",
              "    .dataframe tbody tr th:only-of-type {\n",
              "        vertical-align: middle;\n",
              "    }\n",
              "\n",
              "    .dataframe tbody tr th {\n",
              "        vertical-align: top;\n",
              "    }\n",
              "\n",
              "    .dataframe thead th {\n",
              "        text-align: right;\n",
              "    }\n",
              "</style>\n",
              "<table border=\"1\" class=\"dataframe\">\n",
              "  <thead>\n",
              "    <tr style=\"text-align: right;\">\n",
              "      <th></th>\n",
              "      <th>AGE</th>\n",
              "      <th>BOND AMOUNT</th>\n",
              "    </tr>\n",
              "  </thead>\n",
              "  <tbody>\n",
              "    <tr>\n",
              "      <th>count</th>\n",
              "      <td>5.348669e+06</td>\n",
              "      <td>5.348669e+06</td>\n",
              "    </tr>\n",
              "    <tr>\n",
              "      <th>mean</th>\n",
              "      <td>3.460928e+01</td>\n",
              "      <td>2.476835e+05</td>\n",
              "    </tr>\n",
              "    <tr>\n",
              "      <th>std</th>\n",
              "      <td>1.139518e+01</td>\n",
              "      <td>4.501881e+05</td>\n",
              "    </tr>\n",
              "    <tr>\n",
              "      <th>min</th>\n",
              "      <td>1.500000e+01</td>\n",
              "      <td>1.000000e+00</td>\n",
              "    </tr>\n",
              "    <tr>\n",
              "      <th>25%</th>\n",
              "      <td>2.600000e+01</td>\n",
              "      <td>3.350000e+04</td>\n",
              "    </tr>\n",
              "    <tr>\n",
              "      <th>50%</th>\n",
              "      <td>3.300000e+01</td>\n",
              "      <td>1.000000e+05</td>\n",
              "    </tr>\n",
              "    <tr>\n",
              "      <th>75%</th>\n",
              "      <td>4.200000e+01</td>\n",
              "      <td>2.500000e+05</td>\n",
              "    </tr>\n",
              "    <tr>\n",
              "      <th>max</th>\n",
              "      <td>8.700000e+01</td>\n",
              "      <td>9.200000e+06</td>\n",
              "    </tr>\n",
              "  </tbody>\n",
              "</table>\n",
              "</div>"
            ],
            "text/plain": [
              "                AGE   BOND AMOUNT\n",
              "count  5.348669e+06  5.348669e+06\n",
              "mean   3.460928e+01  2.476835e+05\n",
              "std    1.139518e+01  4.501881e+05\n",
              "min    1.500000e+01  1.000000e+00\n",
              "25%    2.600000e+01  3.350000e+04\n",
              "50%    3.300000e+01  1.000000e+05\n",
              "75%    4.200000e+01  2.500000e+05\n",
              "max    8.700000e+01  9.200000e+06"
            ]
          },
          "metadata": {
            "tags": []
          },
          "execution_count": 154
        }
      ]
    },
    {
      "cell_type": "code",
      "metadata": {
        "id": "xLb5cUGVWqBt",
        "colab": {
          "base_uri": "https://localhost:8080/"
        },
        "outputId": "b25edb90-41e4-4b2f-8386-057cd18ff401"
      },
      "source": [
        "#Checking Shape\n",
        "print(df.shape)"
      ],
      "execution_count": null,
      "outputs": [
        {
          "output_type": "stream",
          "text": [
            "(5348669, 10)\n"
          ],
          "name": "stdout"
        }
      ]
    },
    {
      "cell_type": "code",
      "metadata": {
        "id": "fFRhh5LXWT2z",
        "colab": {
          "base_uri": "https://localhost:8080/"
        },
        "outputId": "8a5fd6c0-c4ba-4199-b795-19c28b11bfce"
      },
      "source": [
        "# check dataframe type\n",
        "type(df)"
      ],
      "execution_count": null,
      "outputs": [
        {
          "output_type": "execute_result",
          "data": {
            "text/plain": [
              "pandas.core.frame.DataFrame"
            ]
          },
          "metadata": {
            "tags": []
          },
          "execution_count": 156
        }
      ]
    },
    {
      "cell_type": "code",
      "metadata": {
        "id": "rOcCCYUmWYo9"
      },
      "source": [
        "# change column names\n",
        "# df_1 = df.rename(columns = {\"existing column name 1\": \"new column name 1\", \"existing column name 2\":\"new column name 2\"})\n",
        "# df_1.head()"
      ],
      "execution_count": null,
      "outputs": []
    },
    {
      "cell_type": "code",
      "metadata": {
        "id": "NvbZu7n3Wml8",
        "colab": {
          "base_uri": "https://localhost:8080/"
        },
        "outputId": "880a07e6-0feb-4213-d1e2-43233fbf49fa"
      },
      "source": [
        "# Checking data types for each column\n",
        "print(df.dtypes)"
      ],
      "execution_count": null,
      "outputs": [
        {
          "output_type": "stream",
          "text": [
            "DOWNLOAD DATE                                       object\n",
            "IDENTIFIER                                          object\n",
            "LATEST ADMISSION DATE                               object\n",
            "RACE                                                object\n",
            "GENDER                                              object\n",
            "AGE                                                  int64\n",
            "BOND AMOUNT                                          int64\n",
            "OFFENSE                                             object\n",
            "FACILITY                                            object\n",
            "DETAINER                                            object\n",
            "dtype: object\n"
          ],
          "name": "stdout"
        }
      ]
    },
    {
      "cell_type": "markdown",
      "metadata": {
        "id": "YikyqaxLT0Ru"
      },
      "source": [
        "**Addressing NA/Null Values**"
      ]
    },
    {
      "cell_type": "code",
      "metadata": {
        "id": "rvWY21EOWxFj",
        "colab": {
          "base_uri": "https://localhost:8080/",
          "height": 473
        },
        "outputId": "04690914-34c8-4f21-ef90-a1e758ff4798"
      },
      "source": [
        "# Check null \n",
        "df.isnull()"
      ],
      "execution_count": null,
      "outputs": [
        {
          "output_type": "execute_result",
          "data": {
            "text/html": [
              "<div>\n",
              "<style scoped>\n",
              "    .dataframe tbody tr th:only-of-type {\n",
              "        vertical-align: middle;\n",
              "    }\n",
              "\n",
              "    .dataframe tbody tr th {\n",
              "        vertical-align: top;\n",
              "    }\n",
              "\n",
              "    .dataframe thead th {\n",
              "        text-align: right;\n",
              "    }\n",
              "</style>\n",
              "<table border=\"1\" class=\"dataframe\">\n",
              "  <thead>\n",
              "    <tr style=\"text-align: right;\">\n",
              "      <th></th>\n",
              "      <th>DOWNLOAD DATE</th>\n",
              "      <th>IDENTIFIER</th>\n",
              "      <th>LATEST ADMISSION DATE</th>\n",
              "      <th>RACE</th>\n",
              "      <th>GENDER</th>\n",
              "      <th>AGE</th>\n",
              "      <th>BOND AMOUNT</th>\n",
              "      <th>OFFENSE</th>\n",
              "      <th>FACILITY</th>\n",
              "      <th>DETAINER</th>\n",
              "    </tr>\n",
              "  </thead>\n",
              "  <tbody>\n",
              "    <tr>\n",
              "      <th>0</th>\n",
              "      <td>False</td>\n",
              "      <td>False</td>\n",
              "      <td>False</td>\n",
              "      <td>False</td>\n",
              "      <td>False</td>\n",
              "      <td>False</td>\n",
              "      <td>False</td>\n",
              "      <td>False</td>\n",
              "      <td>False</td>\n",
              "      <td>False</td>\n",
              "    </tr>\n",
              "    <tr>\n",
              "      <th>1</th>\n",
              "      <td>False</td>\n",
              "      <td>False</td>\n",
              "      <td>False</td>\n",
              "      <td>False</td>\n",
              "      <td>False</td>\n",
              "      <td>False</td>\n",
              "      <td>False</td>\n",
              "      <td>False</td>\n",
              "      <td>False</td>\n",
              "      <td>False</td>\n",
              "    </tr>\n",
              "    <tr>\n",
              "      <th>2</th>\n",
              "      <td>False</td>\n",
              "      <td>False</td>\n",
              "      <td>False</td>\n",
              "      <td>False</td>\n",
              "      <td>False</td>\n",
              "      <td>False</td>\n",
              "      <td>False</td>\n",
              "      <td>False</td>\n",
              "      <td>False</td>\n",
              "      <td>False</td>\n",
              "    </tr>\n",
              "    <tr>\n",
              "      <th>3</th>\n",
              "      <td>False</td>\n",
              "      <td>False</td>\n",
              "      <td>False</td>\n",
              "      <td>False</td>\n",
              "      <td>False</td>\n",
              "      <td>False</td>\n",
              "      <td>False</td>\n",
              "      <td>False</td>\n",
              "      <td>False</td>\n",
              "      <td>False</td>\n",
              "    </tr>\n",
              "    <tr>\n",
              "      <th>4</th>\n",
              "      <td>False</td>\n",
              "      <td>False</td>\n",
              "      <td>False</td>\n",
              "      <td>False</td>\n",
              "      <td>False</td>\n",
              "      <td>False</td>\n",
              "      <td>False</td>\n",
              "      <td>False</td>\n",
              "      <td>False</td>\n",
              "      <td>False</td>\n",
              "    </tr>\n",
              "    <tr>\n",
              "      <th>...</th>\n",
              "      <td>...</td>\n",
              "      <td>...</td>\n",
              "      <td>...</td>\n",
              "      <td>...</td>\n",
              "      <td>...</td>\n",
              "      <td>...</td>\n",
              "      <td>...</td>\n",
              "      <td>...</td>\n",
              "      <td>...</td>\n",
              "      <td>...</td>\n",
              "    </tr>\n",
              "    <tr>\n",
              "      <th>5348664</th>\n",
              "      <td>False</td>\n",
              "      <td>False</td>\n",
              "      <td>False</td>\n",
              "      <td>False</td>\n",
              "      <td>False</td>\n",
              "      <td>False</td>\n",
              "      <td>False</td>\n",
              "      <td>False</td>\n",
              "      <td>False</td>\n",
              "      <td>False</td>\n",
              "    </tr>\n",
              "    <tr>\n",
              "      <th>5348665</th>\n",
              "      <td>False</td>\n",
              "      <td>False</td>\n",
              "      <td>False</td>\n",
              "      <td>False</td>\n",
              "      <td>False</td>\n",
              "      <td>False</td>\n",
              "      <td>False</td>\n",
              "      <td>False</td>\n",
              "      <td>False</td>\n",
              "      <td>False</td>\n",
              "    </tr>\n",
              "    <tr>\n",
              "      <th>5348666</th>\n",
              "      <td>False</td>\n",
              "      <td>False</td>\n",
              "      <td>False</td>\n",
              "      <td>False</td>\n",
              "      <td>False</td>\n",
              "      <td>False</td>\n",
              "      <td>False</td>\n",
              "      <td>False</td>\n",
              "      <td>False</td>\n",
              "      <td>False</td>\n",
              "    </tr>\n",
              "    <tr>\n",
              "      <th>5348667</th>\n",
              "      <td>False</td>\n",
              "      <td>False</td>\n",
              "      <td>False</td>\n",
              "      <td>False</td>\n",
              "      <td>False</td>\n",
              "      <td>False</td>\n",
              "      <td>False</td>\n",
              "      <td>False</td>\n",
              "      <td>False</td>\n",
              "      <td>False</td>\n",
              "    </tr>\n",
              "    <tr>\n",
              "      <th>5348668</th>\n",
              "      <td>False</td>\n",
              "      <td>False</td>\n",
              "      <td>False</td>\n",
              "      <td>False</td>\n",
              "      <td>False</td>\n",
              "      <td>False</td>\n",
              "      <td>False</td>\n",
              "      <td>False</td>\n",
              "      <td>False</td>\n",
              "      <td>False</td>\n",
              "    </tr>\n",
              "  </tbody>\n",
              "</table>\n",
              "<p>5348669 rows × 10 columns</p>\n",
              "</div>"
            ],
            "text/plain": [
              "         DOWNLOAD DATE  ...  DETAINER                                        \n",
              "0                False  ...                                             False\n",
              "1                False  ...                                             False\n",
              "2                False  ...                                             False\n",
              "3                False  ...                                             False\n",
              "4                False  ...                                             False\n",
              "...                ...  ...                                               ...\n",
              "5348664          False  ...                                             False\n",
              "5348665          False  ...                                             False\n",
              "5348666          False  ...                                             False\n",
              "5348667          False  ...                                             False\n",
              "5348668          False  ...                                             False\n",
              "\n",
              "[5348669 rows x 10 columns]"
            ]
          },
          "metadata": {
            "tags": []
          },
          "execution_count": 159
        }
      ]
    },
    {
      "cell_type": "code",
      "metadata": {
        "id": "j6_syjhSWzmU",
        "colab": {
          "base_uri": "https://localhost:8080/"
        },
        "outputId": "f96dc2ba-c793-4ed3-c92b-4c49ccba6c5c"
      },
      "source": [
        "# Null sum\n",
        "df.isnull().sum()"
      ],
      "execution_count": null,
      "outputs": [
        {
          "output_type": "execute_result",
          "data": {
            "text/plain": [
              "DOWNLOAD DATE                                       0\n",
              "IDENTIFIER                                          0\n",
              "LATEST ADMISSION DATE                               0\n",
              "RACE                                                0\n",
              "GENDER                                              0\n",
              "AGE                                                 0\n",
              "BOND AMOUNT                                         0\n",
              "OFFENSE                                             0\n",
              "FACILITY                                            0\n",
              "DETAINER                                            0\n",
              "dtype: int64"
            ]
          },
          "metadata": {
            "tags": []
          },
          "execution_count": 160
        }
      ]
    },
    {
      "cell_type": "code",
      "metadata": {
        "id": "_cao-sT4UDyU"
      },
      "source": [
        "# Filling NAs\n",
        "# df_2.fillna(0)"
      ],
      "execution_count": null,
      "outputs": []
    },
    {
      "cell_type": "markdown",
      "metadata": {
        "id": "-TkLfo7iT7KB"
      },
      "source": [
        "**Date/Time**"
      ]
    },
    {
      "cell_type": "code",
      "metadata": {
        "id": "0GJ09gvCXsOO"
      },
      "source": [
        "# Create separate columns for month day and year \n",
        "# df.Date = pd.to_datetime(df_2.Date)\n",
        "# df_2[['month', 'year']] = df_2.Date.apply(lambda x: pd.Series(x.strftime(\"%m, %Y\").split(\",\")))\n",
        "# df_2"
      ],
      "execution_count": null,
      "outputs": []
    },
    {
      "cell_type": "code",
      "metadata": {
        "id": "UVubDJc3Xzds"
      },
      "source": [
        "# Changing Date to datetime\n",
        "# df.Date = pd.to_datetime(df_1.Date)"
      ],
      "execution_count": null,
      "outputs": []
    },
    {
      "cell_type": "markdown",
      "metadata": {
        "id": "KK89RNDwUJP-"
      },
      "source": [
        "**Clean/Arrange Data**"
      ]
    },
    {
      "cell_type": "code",
      "metadata": {
        "id": "SFF8yvyGbfiy"
      },
      "source": [
        "# Drop rows or columns\n",
        "# df.dropna() # default is row-wise\n",
        "# df.dropna(axis = 1) #column-wise. "
      ],
      "execution_count": null,
      "outputs": []
    },
    {
      "cell_type": "code",
      "metadata": {
        "id": "-Th13CCgYaeg"
      },
      "source": [
        "# Remove Column(s) by index number\n",
        "# df.drop(df_2.columns[[2]], axis=1, inplace=True,)\n",
        "# df.head(5)"
      ],
      "execution_count": null,
      "outputs": []
    },
    {
      "cell_type": "code",
      "metadata": {
        "id": "HAHYtF0LXCST"
      },
      "source": [
        "# Group by\n",
        "# df_group = df_1.groupby('Column name')\n",
        "# df_group.head()"
      ],
      "execution_count": null,
      "outputs": []
    },
    {
      "cell_type": "code",
      "metadata": {
        "id": "xeCWv-TgXXtX"
      },
      "source": [
        "# Group by then sort by Date\n",
        "# df_3 = df_1.groupby('column name').apply(lambda x: x.sort_values('Date'))\n",
        "# df_3.head(30)"
      ],
      "execution_count": null,
      "outputs": []
    },
    {
      "cell_type": "code",
      "metadata": {
        "id": "Vwu3lFS8Xoeu"
      },
      "source": [
        "# Group by Year Sum\n",
        "# df_year = df_3.groupby(['year'], as_index=False).agg({'column name': sum})\n",
        "# df_year.head()"
      ],
      "execution_count": null,
      "outputs": []
    },
    {
      "cell_type": "code",
      "metadata": {
        "id": "W6cHlOE6Z8Hi"
      },
      "source": [
        "# Sum of avg. daily pop by month and year\n",
        "# df_monthyear = df_3.groupby(['year', 'month'], as_index=False).agg({'Column name': sum})\n",
        "# df_monthyear.head(20)"
      ],
      "execution_count": null,
      "outputs": []
    },
    {
      "cell_type": "code",
      "metadata": {
        "id": "9i0KRdbCaNv1"
      },
      "source": [
        "# Changing column type to integer\n",
        "# df_monthyear['column_name'].astype(int)"
      ],
      "execution_count": null,
      "outputs": []
    },
    {
      "cell_type": "code",
      "metadata": {
        "colab": {
          "base_uri": "https://localhost:8080/"
        },
        "id": "csk9qnUtUqst",
        "outputId": "f0814f14-288e-441e-b96b-77d0f929adf6"
      },
      "source": [
        "# Examining Unique Entries\n",
        "df.nunique()"
      ],
      "execution_count": null,
      "outputs": [
        {
          "output_type": "execute_result",
          "data": {
            "text/plain": [
              "DOWNLOAD DATE                                        1659\n",
              "IDENTIFIER                                          42292\n",
              "LATEST ADMISSION DATE                                3084\n",
              "RACE                                                    5\n",
              "GENDER                                                  2\n",
              "AGE                                                    72\n",
              "BOND AMOUNT                                          4121\n",
              "OFFENSE                                               370\n",
              "FACILITY                                               62\n",
              "DETAINER                                               12\n",
              "dtype: int64"
            ]
          },
          "metadata": {
            "tags": []
          },
          "execution_count": 171
        }
      ]
    },
    {
      "cell_type": "code",
      "metadata": {
        "colab": {
          "base_uri": "https://localhost:8080/"
        },
        "id": "CAaCDJyIUvzi",
        "outputId": "e2c80448-0130-4e68-ff8e-2157c3501fc4"
      },
      "source": [
        "# Examining Offense Types Only\n",
        "df.OFFENSE.nunique()"
      ],
      "execution_count": null,
      "outputs": [
        {
          "output_type": "execute_result",
          "data": {
            "text/plain": [
              "370"
            ]
          },
          "metadata": {
            "tags": []
          },
          "execution_count": 172
        }
      ]
    },
    {
      "cell_type": "code",
      "metadata": {
        "colab": {
          "base_uri": "https://localhost:8080/"
        },
        "id": "gs4x1lr-U-RT",
        "outputId": "d3368f94-3966-4c33-d521-eab75cbede0a"
      },
      "source": [
        "# Examining Offense Types\n",
        "offense_array = df.OFFENSE.unique()\n",
        "print(offense_array)"
      ],
      "execution_count": null,
      "outputs": [
        {
          "output_type": "stream",
          "text": [
            "['CRIMINAL POSS OF PISTOL/REVOLVER      DF'\n",
            " 'VIOLATION OF PROBATION OR COND DISCHG' 'CRIMINAL ATTEMPT'\n",
            " 'CRIM VIOL OF PROTECTIVE ORDER         DF'\n",
            " 'CRIM VIOL ST CRIM RESTR ORDER         DF'\n",
            " 'ASSAULT 2ND, VICTIM 60 OR OVER        DF'\n",
            " 'INTERFERING WITH AN OFFICER           AM'\n",
            " 'LARCENY, SECOND DEGREE                CF'\n",
            " 'MURDER                                AF'\n",
            " 'ASSAULT, SECOND DEGREE                DF' 'ARREST WARRANT'\n",
            " 'YOUTHFUL OFFENDER' 'UNLAWFUL RESTRAINT, FIRST DEGREE      DF'\n",
            " 'LARCENY, FIRST DEGREE                 BF'\n",
            " 'CRIMINAL TRESPASS, THIRD DEGREE       CM'\n",
            " 'STALKING, 1ST DEGREE                  DF'\n",
            " 'BURGLARY, THIRD DEGREE                DF'\n",
            " 'SALE OF NARC/AMPHET BY NON-DEPENDENT   F'\n",
            " 'ASSAULT 2ND DEGREE WITH A FIREARM     DF'\n",
            " 'FORGERY, FIRST DEGREE                 CF' 'JUVENILE TRANSFER'\n",
            " 'CONSPIRACY' 'SEXUAL ASSAULT, FIRST DEGREE           F'\n",
            " 'ASSAULT ON POLICE OR FIRE OFFICER     CF'\n",
            " 'FORGERY, SECOND DEGREE                DF'\n",
            " 'ASSAULT 3RD DEGREE, VICTIM OVER 59    AM'\n",
            " 'STEALING A FIREARM                    DF'\n",
            " 'SEXUAL ASSAULT, SECOND DEGREE          F'\n",
            " 'CRIMINAL POSSESSION OF A PISTOL       DF'\n",
            " 'LARCENY, THIRD DEGREE                 DF'\n",
            " 'ROBBERY, FIRST DEGREE                 BF'\n",
            " 'SEXUAL ASSAULT 1ST DEGREE-AGGRVTD      F'\n",
            " 'HOME INVASION                         AF'\n",
            " 'BURGLARY, SECOND DEGREE               CF'\n",
            " 'SALE OF HEROIN, COC BY NON-DEPENDENT'\n",
            " 'INJURY OR RISK OF INJURY TO MINOR      F'\n",
            " 'ARSON, FIRST DEGREE                   AF'\n",
            " 'INCITING INJURY TO PERSONS OR PROPTY  CF' 'STRANGULATION 3RD DEGREE'\n",
            " 'FAILURE TO APPEAR, FIRST DEGREE       DF'\n",
            " 'CARRYING WEAPONS WITHOUT A PERMIT      F'\n",
            " 'THREATENING                           AM'\n",
            " 'RECKLESS ENDANGERMENT, FIRST DEGREE   AM'\n",
            " 'ASSAULT, FIRST DEGREE                 BF'\n",
            " 'ASSAULT, 1ST VICTIM 60 OR OVER        BF'\n",
            " 'ROBBERY, THIRD DEGREE                 DF'\n",
            " 'LARCENY, FOURTH DEGREE                AM'\n",
            " 'HARASSMENT, 2ND DEGREE                CM' 'SPECIAL PAROLE'\n",
            " 'VIOLATION OF CONDITIONS OF RELEASE'\n",
            " 'IDENTITY THEFT 2ND DEGREE             CF'\n",
            " 'STRANGULATION 2ND DEGREE              DF'\n",
            " 'VIOLATE COND OF RELEASE-2ND DEG       AM' 'CRUELTY TO PERSONS'\n",
            " 'ALTERING OR REMOVING IDENT NUMBER      F'\n",
            " 'CRIM VIOL OF PROTECTIVE ORDER         AM'\n",
            " 'POSSESSING CHILD PORNOGRAPH            F'\n",
            " 'OPERATING UNDER SUSPENDED LIC OR REG.  M' 'CREDIT CARD THEFT'\n",
            " 'BURGLARY, FIRST DEGREE                BF'\n",
            " 'MANSLAUGHTER, SECOND DEGREE           CF'\n",
            " 'EVADING RESPONSIBILITY                 M'\n",
            " 'ASSAULT, THIRD DEGREE                 AM'\n",
            " 'LARCENY, FIFTH DEGREE                 BM'\n",
            " 'SALE OF HALLUCIGEN/NARCOTIC SUBSTANCE  F' 'ARREST WITHOUT WARRANT'\n",
            " 'CRIMINAL IMPERSONATION                BM'\n",
            " 'ROBBERY, SECOND DEGREE                CF' 'POSSESSION OF NARCOTICS'\n",
            " 'SEX ASLT, SPOUSE/COHAB RELATIONSHIP   BF'\n",
            " 'TAMPERING WITH OR FABRICATING EVIDNC  DF'\n",
            " 'INJURY/RISK OF INJURY TO MINOR- SEXUAL C'\n",
            " 'FAILURE TO APPEAR, SECOND DEGREE      AM'\n",
            " 'FELONY MURDER                         AF'\n",
            " 'PROBATION AND CONDITIONAL DISCHARGE'\n",
            " 'ILL POSSESS CHILD PORN 2ND DEG         F'\n",
            " 'CRIM VIOL RES ORDER                   AM'\n",
            " 'STRANGULATION 1ST DEGREE              CF'\n",
            " 'BURGLARY, FIRST DEGREE: 53A101A(2)    BF'\n",
            " 'RECKLESS ENDANGERMENT, SECOND DEGREE  BM'\n",
            " 'SELLING WEAPONS TO ALIENS PROHIBITED   F' '(REPEALED) 53-048'\n",
            " 'ESCAPE FROM CUSTODY' 'KIDNAPPING, FIRST DEGREE              AF'\n",
            " 'PERMIT TO SELL OR CARRY PISTOL'\n",
            " 'CARRYING WEAPON IN A MOTOR VEHICLE     F'\n",
            " 'CRIMINAL MISCHIEF, SECOND DEGREE      AM' '53A021'\n",
            " 'BREACH OF PEACE                       BM'\n",
            " 'CONVEY UNAUTHZD ITEMS INTO INST       DF'\n",
            " 'MANSLAUGHTER, FIRST DEGREE, FIREARM   BF'\n",
            " 'AGGAVTD SEX ASSLT-VCTM < 13YR         AF'\n",
            " 'ROBBERY, FIRST DEGREE                BF'\n",
            " 'MANSLAUGHTER 2ND WITH MV (INTOX)      CF'\n",
            " 'CARRYING OR SALE OF DANGEROUS WEAPON'\n",
            " 'CRIMINAL MISCHIEF, FIRST DEGREE       DF'\n",
            " 'ASSAULT 2ND WITH MV WHILE INTOXICATED DF'\n",
            " 'DRUG PARAPHERNALIA IN DRUG FACTORY     F'\n",
            " 'ORGANIZED RETAIL THEFT                 F'\n",
            " 'OPERATE UNDER INFLU OF LIQ OR DRUGS'\n",
            " 'CAPITAL FELONY                         F'\n",
            " 'PROMOTING MINOR IN OBSCENE PERFORMNCE BF'\n",
            " 'CRIMINAL LIABILITY FOR ANOTHER PERSON'\n",
            " 'MANSLAUGHTER, FIRST DEGREE            BF'\n",
            " 'OBSCENITY                             BM'\n",
            " 'IDENTITY THEFT 3RD DEGREE             DF'\n",
            " 'CRIMINAL TRESPASS, SECOND DEGREE      BM'\n",
            " 'ASSAULT 2ND, VICTIM 60+, WITH FIREARM DF'\n",
            " 'ESCAPE, FIRST DEGREE                  CF'\n",
            " 'PRIMARY OFFENSE NOT DETERMINED'\n",
            " 'THREATENING 1ST DEGREE                DF'\n",
            " 'NEGLG STORAGE OF A FIREARM            DF'\n",
            " 'CRIMINAL TRESPASS, FIRST DEGREE       AM'\n",
            " 'USING MOTOR VEHICLE W/O PERMISSION'\n",
            " 'DISORDERLY CONDUCT                    CM'\n",
            " 'LARCENY, SIXTH DEGREE                 CM'\n",
            " 'UNLAWFUL RESTRAINT, SECOND DEGREE     AM'\n",
            " 'BRIBERY OF WITNESS                    DF'\n",
            " 'KIDNAPPING, 2ND DEGREE                BF'\n",
            " 'SEXUAL ASSAULT, THIRD DEGREE          DF' 'CARRY PIST/RVOLV W/O PERMIT'\n",
            " 'SEXUAL ASSAULT, FOURTH DEGREE         AM'\n",
            " 'INTIMIDATING A WITNESS                CF'\n",
            " 'CUSTODIAL INTERFERENCE, FIRST DEGREE  DF'\n",
            " 'STALKING, 2ND DEGREE                  AM'\n",
            " 'MANUF OR POSSESSION OF BURGLAR TOOLS  AM'\n",
            " 'HARASSMENT 1ST DEGREE                 DF'\n",
            " 'INTIMIDATE DUE TO BIAS 3RD DEG        AM'\n",
            " 'CRIM VIOL CIVIL PROTECTION ORDER      DF'\n",
            " 'EMPLOYING MINOR IN OBSCENE PERFORMNCE AF'\n",
            " 'IDENTITY THEFT 1ST DEGREE             BF' 'VOYEURISM'\n",
            " 'KIDNAPPING 2ND DEG W/ FIREARM         BF'\n",
            " 'USING MACHINE GUN IN CRIME             F' 'FALSELY REPORTING INCIDENT'\n",
            " 'OPERATE UNDER INFLU OF LIQ OR DRUGS    M'\n",
            " 'ILLEGAL MANUFACTUAL OR SALE OF DRUGS'\n",
            " 'THEFT FROM PERSON                      F'\n",
            " 'DISSEMINATING VOYEURISTIC MATERIAL    DF'\n",
            " 'CRIMINAL MISCHIEF, THIRD DEGREE       BM'\n",
            " 'MISCONDUCT WITH A MOTOR VEHICLE       DF'\n",
            " 'IMPORTING CHILD PORNOGRAPHY            F' 'SEARCHES AND SEIZURES'\n",
            " 'POSS OF WEAPON IN A CCI               BF'\n",
            " 'SALE OF CONTROLLED SUBSTANCE           F'\n",
            " 'ARSON, THIRD DEGREE                   CF'\n",
            " 'PROHIB ACTS RE: DRUG PARAPHERNALIA'\n",
            " 'KIDNAPPING 1ST DEG W/ FIREARM         AF'\n",
            " 'RECKLESS BURNING                      DF'\n",
            " 'TAMPERING WITH WITNESS                DF'\n",
            " 'ASSAULT, ON DOC EMPLOYEE              BF'\n",
            " 'LEAV CHILD UNSUPERV IN PUBL/MOT VEH    C'\n",
            " 'TRAFFICKING IN PERSONS                BF'\n",
            " 'ARSON, SECOND DEGREE                  BF'\n",
            " 'RECKLESS DRIVING                       M'\n",
            " 'TELEPHONE FRAUD, 1ST DEGREE           BF'\n",
            " 'PUBLIC INDECENCY                      BM'\n",
            " 'IL POS LRG CAP MAG OBT AF 4/13        DF'\n",
            " 'MANUFACTURE OF BOMBS                  BF'\n",
            " 'MISREP OF SUB AS CONTROLLED SUB       DF'\n",
            " 'INTIMIDATION BSD BIGOTRY/BIAS         DF'\n",
            " 'BURGLARY, SECOND DEGREE WITH FIREARM  CF' 'CRUELTY TO ANIMALS'\n",
            " 'VIO DEADLY WEAPON REGIST REQS         DF'\n",
            " 'CRIMINAL USE OF A FIREARM             DF'\n",
            " 'REG PERSON WHO COMM OFF AGAINST MINOR DF'\n",
            " 'POSSESS OF HALLUC OR 4+ OZ MARIJUANA   F'\n",
            " 'REG PERSON WHO COMM SEX VIOL OFF      DF'\n",
            " 'INJUNCTION AND RESTRAINING ORDER'\n",
            " 'FORGERY, THIRD DEGREE                 BM'\n",
            " 'CRIMINAL TROVER, 1ST DEGREE            F' 'FAILURE TO OBEY AN OFFICER'\n",
            " 'POSS OF ASSAULT WEAPON PROHIBITED'\n",
            " 'CRIMINAL MISCHIEF, FOURTH DEGREE      CM'\n",
            " 'FAILURE TO PAY OR PLEAD                M'\n",
            " 'USE OF MACHINE GUN IN A CRIME  DELETED F'\n",
            " 'FOLLOW TOO CLOSELY W/ INTENT TO HARASS M' 'PURGE CIVIL COMMITMENT'\n",
            " 'INTERFERING WITH AN EMERGENCY CALL    AM'\n",
            " 'ABUSE OF PERSONS-1ST DEGREE           CF'\n",
            " 'PROMOTING PROSTITUTION, FIRST DEGREE  BF'\n",
            " 'DRINKING WHILE OPERATING MOTOR VEHICL CM'\n",
            " 'FLR KEEP NARC IN ORG CONTAINER         F'\n",
            " 'ILLEGAL REFUSAL OF DNA TESTING'\n",
            " 'BURGLARY, THIRD DEGREE WITH FIREARM   DF'\n",
            " 'POSSESSION OF SHOTGUN OR SILENCER     DF'\n",
            " 'HINDER PROSECUTION, FIRST DEGREE      DF' 'PROHIBITED ACTIVITIES'\n",
            " 'DRUGS NEAR PROBIBITED PLACE' 'NEGLIGENT HOMICIDE W/ MOTOR VEHICLE   BM'\n",
            " 'HINDERING PROSECUTION 2ND DEG'\n",
            " 'PROSTITUTION                          AM'\n",
            " 'POSS WEAPON ON SCHOOL GROUNDS         DF'\n",
            " 'PROMOTING PROSTITUTION, SECOND DEGREE CF'\n",
            " 'ILL AFFIX FRAUDULENT                   F'\n",
            " 'UNLAWFUL REPRODUCTION OF CREDIT CARD  DF'\n",
            " 'DRIVING WHILE LICENSE SUSP FOR DWI'\n",
            " 'ILLEGAL POSSES OF SHOP LIFTING DEVICE AM'\n",
            " 'ILLEGAL POSSESSION OF EXPLOSIVES       F'\n",
            " 'RECEIVING STOLEN PROPERTY, LARCENY     M'\n",
            " 'AFFIRMATIVE DEFENSES TO CIMINAL TRESPASS'\n",
            " 'RAPE, SECOND DEGREE                   CF'\n",
            " 'ILL POSSESS CHILD PORN 3RD DEG        DF'\n",
            " 'CRIMINALLY NEGLIGENT HOMICIDE         AM'\n",
            " 'REGULATION OF RESTRICTED SUBSTANCES' 'APPLICATION TO PURCHASE A FIREARM'\n",
            " 'FOLLOWING TOO CLOSELY' 'PROHIB ACTS RE: DRUG PARA, SCHOOL'\n",
            " 'ILLEGAL USE OF CREDIT CARD' 'ILL CARRY FIREARM-UI DRUGS/ALC'\n",
            " 'PRACTICE OF LAW BY NON-ATTORNEYS       M'\n",
            " 'MISAPPLICATION OF PROPERTY            AM'\n",
            " 'CRIMINAL CONTEMPT                      M'\n",
            " 'HINDERING PROSECUTION 3RD DEG         DF'\n",
            " 'EVADING RESPONSIBILITY, OTHER THAN MV  M'\n",
            " 'OPERATING MV W/O INSURANCE            CM' 'TEMPORARY SURRENDER'\n",
            " 'CRIM DAMAGE PROPERTY 1ST DEG          DF'\n",
            " 'STALKING, 3RD DEGREE                  BM'\n",
            " 'IMPERSONATION OF POLICE OFFICER       DF' 'INTERSTATE PAROLE COMPACT'\n",
            " 'SALE, CARRY & BRAND OF FACSIMILE'\n",
            " 'POSSESS OF LT 4 OZ MJ OR CONTROLD SUB'\n",
            " 'PERMITTING PROSTITUTION               AM' 'ISSUING A BAD CHECK'\n",
            " 'FAILURE TO PAY WAGES' 'CREATING A PUBLIC DISTURBANCE' 'SIMPLE TRESPASS'\n",
            " 'DIVERT FR STATE BENE LBR EMPLOYEES    AM'\n",
            " 'INJURY TO BAGGAGE ON PUBLIC CONVEYANCE M'\n",
            " 'TAMPERING W/AIRPORT OR AIRWAYS'\n",
            " 'PROMOTING PROSTITUTION, THIRD DEGREE  DF'\n",
            " 'INJURY TO FENCES, GATES, OTHER PROP    M'\n",
            " 'ILLEGAL GAIN FROM CREDIT CARD         AM'\n",
            " 'NOTICES IN SALES AGRREMENT           UM'\n",
            " 'FALSELY REPORTING AN INCIDENT 2ND     AM'\n",
            " 'THEFT OF POULTRY                       M' 'FAILURE TO OBEY STOP SIGN'\n",
            " '(REPEALED) 53-173' 'IL TRAFFIC IN PERSONAL ID INFO        DF'\n",
            " 'SPEEDING                               M'\n",
            " 'DRIVING IMPROPERLY ON MULTI-LANE HWY'\n",
            " 'ABUSE OF PERSONS-2ND DEGREE           DF' 'OBTAINING DRUGS ILLEGALLY'\n",
            " 'COERCION' 'COMMIT SEXUAL OFF IN ANOTHER JURIS    DF'\n",
            " 'ACT OF TERRORISM-ENHANCE SENT'\n",
            " 'ALLOWING PERSON UNDER 16 TO OPERATE MV M'\n",
            " 'FALSE STATEMENT, 2ND DEGREE           AM'\n",
            " 'INTIMIDATION BASED ON BIGOTRY/BIAS    DF' 'FORGERY RELATED'\n",
            " 'HINDER PROSECUTION DEFINED             F'\n",
            " 'ILL OP MV WO IGNITION DEVICE          CM'\n",
            " 'UNFAIR OR DECEPTIVE PRAC OR ACT'\n",
            " 'CRIMINAL MISREPRESENTATION            CF' 'STARTING OR BACKING VEHICLE'\n",
            " 'IMPROPER USE OF MARKER, LICENSE, REG   M' 'EXTRADITION'\n",
            " 'CRIM DAMAGE PROPERTY 2ND DEG          AM'\n",
            " 'PATRONIZING A PROSTITUTE              AM'\n",
            " 'ENCOURAGING THE COMMISSION OF ABORTION M'\n",
            " 'COUNTERFEITING MARKER PLATES           M'\n",
            " 'USE OF HIGHWAY BY PEDESTRIAN           M'\n",
            " 'SHOTGUNS AND RIFLES IN VEHICLE         M'\n",
            " 'FORGERY OF SYMBOLS                    AM'\n",
            " 'MONEY LAUNDERING FOURTH DEGREE        AM'\n",
            " 'SOLICITING RIDES FROM MOTOR VEHICLES   M'\n",
            " 'IDENTITY THEFT DEFINED                DF'\n",
            " 'FAILURE TO CARRY MIN INSURANCE         M'\n",
            " 'FAILURE TO OBEY TRAFFIC SIGNALS' 'OPERATING MV W/O A LICENSE'\n",
            " 'INTIMIDATION BSD BIGOTRY/BIAS, 1ST    CF' 'CHEATING AT GAMBLING'\n",
            " 'FALSE RPT INCIDNT CONCER INJ OR DEATH DF'\n",
            " 'FALSE RPT INCIDNT RESULT INJ OR DEATH DF'\n",
            " 'PART OR CONS FOR EXPORT MEANS         BF'\n",
            " 'DRIVING INPROPERLY ON A ONE WAY STREET I'\n",
            " 'CRIMINAL TROVER, 2ND DEGREE           AM'\n",
            " 'INSURANCE FRAUD                       DF'\n",
            " 'PROHIB ACTS RE: CONTROLLED SUBSTANCES'\n",
            " 'FAILURE TO DRIVE ON RIGHT HAND ROADWAY'\n",
            " 'UNLAWFUL DISCHARGE OF FIREARMS         M'\n",
            " 'EXPIRATION AND RENEWAL OF REGISTRATION M'\n",
            " 'LITTERING OR DUMPING PROHIBITED' 'ROBBERY BY CARJACKING'\n",
            " 'FALSE STATEMENT TO PROCURE CREDT CARD AM'\n",
            " 'FALSE ENTRY BY OFFICER OR PUB AGENT   AM' 'FUGITIVE FROM JUSTICE'\n",
            " 'EAVESDROPPING                         DF'\n",
            " 'TRAVELING UNREASONABLY FAST            M'\n",
            " 'DRIVING IMPROPERLY IN RIGHT HAND LANE' '53A223C'\n",
            " 'FAILURE TO CARRY DRIVERS LICENSE       M'\n",
            " 'TOWN ORDINANCE $90 OR LESS (CI)' 'PENALTY FAIL TO SUBMIT FINGERPRINTS'\n",
            " 'THEFT OF NUMBER PLATE OR INSER         M' 'CRIMINAL SIMULATION'\n",
            " 'LARCENY RELATED' 'TOWN ORDINANCE > $250 (VIOLTN)'\n",
            " 'OBSCENITY AS TO MINORS                 F'\n",
            " 'CRIMINAL LOCKOUT                      CM'\n",
            " 'POSS OF ARMS OR BURG TOOLS AT NIGHT    F'\n",
            " 'VIO MOTOR VEH RACING REQS             BM'\n",
            " 'INCEST                                 F'\n",
            " 'FRAUDULENT USE OF ATM                 CM'\n",
            " 'IMPROPER TURN/STOP NO PROPER SIGN'\n",
            " 'DESTRUCTION OF PROPERTY                M'\n",
            " 'COMPUTER CRIME FOURTH DEGREE          AM'\n",
            " 'BREACH OF PEACE 1ST DEG               DF' 'RECEIVING COMMERCIAL BRIBE'\n",
            " 'FALSELY REPORTING VEHICLE THEFT        M'\n",
            " 'MONEY LAUNDERING THIRD DEGREE         DF'\n",
            " 'REFUSAL TO DISPERSE                    M'\n",
            " 'COMPUTER CRIME FIRST DEGREE           BF'\n",
            " 'WILLFUL INJURY TO PROPERTY             M'\n",
            " 'PRODUCING CONTROLLED SUBS W/O LICENSE' 'ENTICING A MINOR'\n",
            " 'INSANITY AS DEFENSE' 'CRIMINAL VIOL. PROTECTION ORDER       AM'\n",
            " 'BRIBERY                               DF' 'ROBBERY RELATED'\n",
            " 'LARCENY DEFINED' 'FAILURE REGISTER SEXUAL PURPOSE       DF'\n",
            " 'RAPE, FIRST DEGREE                    BF' 'VIO REQ RE DISP OF DEAD BODY'\n",
            " 'INTERFERENCE WITH SEARCH' 'OP MV W/HNDHLD TEL/MOV ELC DEV'\n",
            " 'RESISTING ARREST' 'DUI .02 BAC AND UNDER 21 YRS'\n",
            " 'LOITERING ON SCHOOL GROUNDS           CM'\n",
            " 'INDECENT ASSAULT                       F'\n",
            " 'SALE/POSS/TRAN OF ASLT WEAPON          F'\n",
            " 'POSS OF UNSTAMP MARI/CONTROL SUB BY DEAL' 'LIQUOR SALES TO MINORS'\n",
            " 'THEFT OF HORSE' 'TOWN ORDINANCE=$90 OR <PARKING'\n",
            " 'FAILURE TO FURNISH TAX RETURN'\n",
            " 'ADULTERY                              AM'\n",
            " 'VIOLATION, HOME IMPROVE REGISTRATION'\n",
            " 'CONTEMPT OF COURT                      M'\n",
            " 'DISPERSION OF RIOTOUS ASSEMBLY         M' 'SELLING WITHOUT PERMIT'\n",
            " 'MANSLAUGHTER 2ND, W/FIREARM           CF'\n",
            " 'FAILURE TO CARRY AND MOUNT REFLECTORS'\n",
            " 'PISTOL AND REVOLVER PERMITS            M'\n",
            " 'CRIMINAL POSS BODY ARMOR              AM'\n",
            " 'PERJURY                               DF'\n",
            " 'ESCAPE, SECOND DEGREE                 DF'\n",
            " 'MONEY LAUNDERING 2ND DEGREE           CF'\n",
            " 'MISREP AGE TO ENTICE A MINOR          CF'\n",
            " 'OUI MV W/CHILD PSNGR                  AM'\n",
            " 'SOLIC OR ACCPT BENEFIT FOR RIGGING    AM'\n",
            " 'USE OF FORCE TO DEFEND PROPERTY' 'P19-187'\n",
            " 'THEFT OF UTILITY SERVICE FOR PROFIT   DF'\n",
            " 'UNLAWFUL ASSEMBLY                     BM' 'FEDERAL OFFENSE'\n",
            " 'SEXUAL ASSAULT, 3RD DEG W/ FIREARM    CF'\n",
            " 'FAILURE TO COMPLY W/ SEAT BELTS/SYSTEM' 'USE OF MACH GUN FOR AGGR PURP'\n",
            " '(REPEALED) 53-124' 'SALE/POSS/TRAFF OF WEAPON              F'\n",
            " 'MONEY LAUNDERING FIRST DEGREE         BF'\n",
            " 'CUSTODIAL INTERFERENCE, 2ND DEGREE    AM' 'SEX ABUSE MINOR'\n",
            " 'ASSAULT, SECOND DEGREE                 F' 'SEALED'\n",
            " 'INTENT TO INJURE WITH EXPLOSIVES       F'\n",
            " 'UNLAWFUL ENTRY INTO COIN MACHINE      AM'\n",
            " 'INCSTRUCTION UNLICENSED PERSON IN VEHICL']\n"
          ],
          "name": "stdout"
        }
      ]
    },
    {
      "cell_type": "code",
      "metadata": {
        "colab": {
          "base_uri": "https://localhost:8080/"
        },
        "id": "-DSvRSmdVjm4",
        "outputId": "29a99579-3ae1-45eb-ede5-956896903f61"
      },
      "source": [
        "# Convert Array into DataFrame\n",
        "offense_df = pd.DataFrame(offense_array, columns=['Offense_Type'])\n",
        "print(offense_df)"
      ],
      "execution_count": null,
      "outputs": [
        {
          "output_type": "stream",
          "text": [
            "                                 Offense_Type\n",
            "0    CRIMINAL POSS OF PISTOL/REVOLVER      DF\n",
            "1       VIOLATION OF PROBATION OR COND DISCHG\n",
            "2                            CRIMINAL ATTEMPT\n",
            "3    CRIM VIOL OF PROTECTIVE ORDER         DF\n",
            "4    CRIM VIOL ST CRIM RESTR ORDER         DF\n",
            "..                                        ...\n",
            "365  ASSAULT, SECOND DEGREE                 F\n",
            "366                                    SEALED\n",
            "367  INTENT TO INJURE WITH EXPLOSIVES       F\n",
            "368  UNLAWFUL ENTRY INTO COIN MACHINE      AM\n",
            "369  INCSTRUCTION UNLICENSED PERSON IN VEHICL\n",
            "\n",
            "[370 rows x 1 columns]\n"
          ],
          "name": "stdout"
        }
      ]
    },
    {
      "cell_type": "code",
      "metadata": {
        "id": "ufYKzLRqzjqp"
      },
      "source": [
        "\n"
      ],
      "execution_count": null,
      "outputs": []
    },
    {
      "cell_type": "code",
      "metadata": {
        "colab": {
          "base_uri": "https://localhost:8080/",
          "height": 204
        },
        "id": "sI47Nu6ovTd-",
        "outputId": "7e1f4823-c215-4af7-c33d-3dd675e22e2a"
      },
      "source": [
        "# Group by offense type, race, age, and bail amount\n",
        "df_3 = df.groupby(['OFFENSE'], as_index=False).agg({'BOND AMOUNT': sum})\n",
        "df_3.head()"
      ],
      "execution_count": null,
      "outputs": [
        {
          "output_type": "execute_result",
          "data": {
            "text/html": [
              "<div>\n",
              "<style scoped>\n",
              "    .dataframe tbody tr th:only-of-type {\n",
              "        vertical-align: middle;\n",
              "    }\n",
              "\n",
              "    .dataframe tbody tr th {\n",
              "        vertical-align: top;\n",
              "    }\n",
              "\n",
              "    .dataframe thead th {\n",
              "        text-align: right;\n",
              "    }\n",
              "</style>\n",
              "<table border=\"1\" class=\"dataframe\">\n",
              "  <thead>\n",
              "    <tr style=\"text-align: right;\">\n",
              "      <th></th>\n",
              "      <th>OFFENSE</th>\n",
              "      <th>BOND AMOUNT</th>\n",
              "    </tr>\n",
              "  </thead>\n",
              "  <tbody>\n",
              "    <tr>\n",
              "      <th>0</th>\n",
              "      <td>(REPEALED) 53-048</td>\n",
              "      <td>332935000</td>\n",
              "    </tr>\n",
              "    <tr>\n",
              "      <th>1</th>\n",
              "      <td>(REPEALED) 53-124</td>\n",
              "      <td>10000</td>\n",
              "    </tr>\n",
              "    <tr>\n",
              "      <th>2</th>\n",
              "      <td>(REPEALED) 53-173</td>\n",
              "      <td>274750</td>\n",
              "    </tr>\n",
              "    <tr>\n",
              "      <th>3</th>\n",
              "      <td>53A021</td>\n",
              "      <td>882974836</td>\n",
              "    </tr>\n",
              "    <tr>\n",
              "      <th>4</th>\n",
              "      <td>53A223C</td>\n",
              "      <td>425900</td>\n",
              "    </tr>\n",
              "  </tbody>\n",
              "</table>\n",
              "</div>"
            ],
            "text/plain": [
              "             OFFENSE  BOND AMOUNT\n",
              "0  (REPEALED) 53-048    332935000\n",
              "1  (REPEALED) 53-124        10000\n",
              "2  (REPEALED) 53-173       274750\n",
              "3             53A021    882974836\n",
              "4            53A223C       425900"
            ]
          },
          "metadata": {
            "tags": []
          },
          "execution_count": 175
        }
      ]
    },
    {
      "cell_type": "code",
      "metadata": {
        "colab": {
          "base_uri": "https://localhost:8080/",
          "height": 204
        },
        "id": "Wjw8F91_1I8P",
        "outputId": "cd3af14e-7259-41de-d28e-6ab2d90c17a1"
      },
      "source": [
        "df_3['Offense_Total'] = df['OFFENSE'].value_counts()\n",
        "df_3.head()"
      ],
      "execution_count": null,
      "outputs": [
        {
          "output_type": "execute_result",
          "data": {
            "text/html": [
              "<div>\n",
              "<style scoped>\n",
              "    .dataframe tbody tr th:only-of-type {\n",
              "        vertical-align: middle;\n",
              "    }\n",
              "\n",
              "    .dataframe tbody tr th {\n",
              "        vertical-align: top;\n",
              "    }\n",
              "\n",
              "    .dataframe thead th {\n",
              "        text-align: right;\n",
              "    }\n",
              "</style>\n",
              "<table border=\"1\" class=\"dataframe\">\n",
              "  <thead>\n",
              "    <tr style=\"text-align: right;\">\n",
              "      <th></th>\n",
              "      <th>OFFENSE</th>\n",
              "      <th>BOND AMOUNT</th>\n",
              "      <th>Offense_Total</th>\n",
              "    </tr>\n",
              "  </thead>\n",
              "  <tbody>\n",
              "    <tr>\n",
              "      <th>0</th>\n",
              "      <td>(REPEALED) 53-048</td>\n",
              "      <td>332935000</td>\n",
              "      <td>NaN</td>\n",
              "    </tr>\n",
              "    <tr>\n",
              "      <th>1</th>\n",
              "      <td>(REPEALED) 53-124</td>\n",
              "      <td>10000</td>\n",
              "      <td>NaN</td>\n",
              "    </tr>\n",
              "    <tr>\n",
              "      <th>2</th>\n",
              "      <td>(REPEALED) 53-173</td>\n",
              "      <td>274750</td>\n",
              "      <td>NaN</td>\n",
              "    </tr>\n",
              "    <tr>\n",
              "      <th>3</th>\n",
              "      <td>53A021</td>\n",
              "      <td>882974836</td>\n",
              "      <td>NaN</td>\n",
              "    </tr>\n",
              "    <tr>\n",
              "      <th>4</th>\n",
              "      <td>53A223C</td>\n",
              "      <td>425900</td>\n",
              "      <td>NaN</td>\n",
              "    </tr>\n",
              "  </tbody>\n",
              "</table>\n",
              "</div>"
            ],
            "text/plain": [
              "             OFFENSE  BOND AMOUNT  Offense_Total\n",
              "0  (REPEALED) 53-048    332935000            NaN\n",
              "1  (REPEALED) 53-124        10000            NaN\n",
              "2  (REPEALED) 53-173       274750            NaN\n",
              "3             53A021    882974836            NaN\n",
              "4            53A223C       425900            NaN"
            ]
          },
          "metadata": {
            "tags": []
          },
          "execution_count": 187
        }
      ]
    },
    {
      "cell_type": "markdown",
      "metadata": {
        "id": "oJjT8tLRc9i9"
      },
      "source": [
        "# You can use the python csv module.\n",
        "\n",
        "\n",
        "import csv\n",
        "import random\n",
        "\n",
        "offense_df = pd.DataFrame(offense_array, columns=['Offense_Type'])\n",
        "print(offense_df)\n",
        "\n",
        "with open('data.csv', 'w') as f:\n",
        "    writer = csv.writer(f)\n",
        "    writer.writerow(offense_df)"
      ]
    },
    {
      "cell_type": "code",
      "metadata": {
        "id": "vJY_LJbKe9_0"
      },
      "source": [
        "# Successfully creating excel sheet with cell output\n",
        "offense_df.to_excel(\"./offensedf.xlsx\")"
      ],
      "execution_count": null,
      "outputs": []
    },
    {
      "cell_type": "code",
      "metadata": {
        "id": "ui6KMrvDmHW8"
      },
      "source": [
        "# Took exported excel sheet and coded each type of offense as one of following:\n",
        "# 1. Person\n",
        "# 2. Property\n",
        "# 3. Probation\n",
        "# 4. Order (Violation of Order by Court, Police, or Municipality)\n",
        "# 5. Drugs\n",
        "# 6. Weapon\n",
        "# 7. Juvenile\n",
        "# 8. Attempt"
      ],
      "execution_count": null,
      "outputs": []
    },
    {
      "cell_type": "code",
      "metadata": {
        "colab": {
          "base_uri": "https://localhost:8080/",
          "height": 204
        },
        "id": "nlQosSFwmpmr",
        "outputId": "f0cea350-f470-4225-a309-ac6d12c1eb1a"
      },
      "source": [
        "# load newly coded .csv \n",
        "df_2 = pd.read_csv(\"offensedf.csv\", index_col=False)\n",
        "df_2.head()"
      ],
      "execution_count": null,
      "outputs": [
        {
          "output_type": "execute_result",
          "data": {
            "text/html": [
              "<div>\n",
              "<style scoped>\n",
              "    .dataframe tbody tr th:only-of-type {\n",
              "        vertical-align: middle;\n",
              "    }\n",
              "\n",
              "    .dataframe tbody tr th {\n",
              "        vertical-align: top;\n",
              "    }\n",
              "\n",
              "    .dataframe thead th {\n",
              "        text-align: right;\n",
              "    }\n",
              "</style>\n",
              "<table border=\"1\" class=\"dataframe\">\n",
              "  <thead>\n",
              "    <tr style=\"text-align: right;\">\n",
              "      <th></th>\n",
              "      <th>Offense_Type</th>\n",
              "      <th>Category</th>\n",
              "    </tr>\n",
              "  </thead>\n",
              "  <tbody>\n",
              "    <tr>\n",
              "      <th>0</th>\n",
              "      <td>CRIMINAL POSS OF PISTOL/REVOLVER      DF</td>\n",
              "      <td>Weapon</td>\n",
              "    </tr>\n",
              "    <tr>\n",
              "      <th>1</th>\n",
              "      <td>VIOLATION OF PROBATION OR COND DISCHG</td>\n",
              "      <td>Probation</td>\n",
              "    </tr>\n",
              "    <tr>\n",
              "      <th>2</th>\n",
              "      <td>CRIMINAL ATTEMPT</td>\n",
              "      <td>Attempt</td>\n",
              "    </tr>\n",
              "    <tr>\n",
              "      <th>3</th>\n",
              "      <td>CRIM VIOL OF PROTECTIVE ORDER         DF</td>\n",
              "      <td>Order</td>\n",
              "    </tr>\n",
              "    <tr>\n",
              "      <th>4</th>\n",
              "      <td>CRIM VIOL ST CRIM RESTR ORDER         DF</td>\n",
              "      <td>Order</td>\n",
              "    </tr>\n",
              "  </tbody>\n",
              "</table>\n",
              "</div>"
            ],
            "text/plain": [
              "                               Offense_Type   Category\n",
              "0  CRIMINAL POSS OF PISTOL/REVOLVER      DF     Weapon\n",
              "1     VIOLATION OF PROBATION OR COND DISCHG  Probation\n",
              "2                          CRIMINAL ATTEMPT    Attempt\n",
              "3  CRIM VIOL OF PROTECTIVE ORDER         DF      Order\n",
              "4  CRIM VIOL ST CRIM RESTR ORDER         DF      Order"
            ]
          },
          "metadata": {
            "tags": []
          },
          "execution_count": 178
        }
      ]
    },
    {
      "cell_type": "code",
      "metadata": {
        "colab": {
          "base_uri": "https://localhost:8080/",
          "height": 419
        },
        "id": "PR2CCDqCouzd",
        "outputId": "434580c6-851d-4549-a3d7-06bb84da509e"
      },
      "source": [
        "#inner join in python pandas\n",
        "\n",
        "join_df = pd.merge(offense_df, df_2, on='Offense_Type', how='inner')\n",
        "join_df"
      ],
      "execution_count": null,
      "outputs": [
        {
          "output_type": "execute_result",
          "data": {
            "text/html": [
              "<div>\n",
              "<style scoped>\n",
              "    .dataframe tbody tr th:only-of-type {\n",
              "        vertical-align: middle;\n",
              "    }\n",
              "\n",
              "    .dataframe tbody tr th {\n",
              "        vertical-align: top;\n",
              "    }\n",
              "\n",
              "    .dataframe thead th {\n",
              "        text-align: right;\n",
              "    }\n",
              "</style>\n",
              "<table border=\"1\" class=\"dataframe\">\n",
              "  <thead>\n",
              "    <tr style=\"text-align: right;\">\n",
              "      <th></th>\n",
              "      <th>Offense_Type</th>\n",
              "      <th>Category</th>\n",
              "    </tr>\n",
              "  </thead>\n",
              "  <tbody>\n",
              "    <tr>\n",
              "      <th>0</th>\n",
              "      <td>CRIMINAL POSS OF PISTOL/REVOLVER      DF</td>\n",
              "      <td>Weapon</td>\n",
              "    </tr>\n",
              "    <tr>\n",
              "      <th>1</th>\n",
              "      <td>VIOLATION OF PROBATION OR COND DISCHG</td>\n",
              "      <td>Probation</td>\n",
              "    </tr>\n",
              "    <tr>\n",
              "      <th>2</th>\n",
              "      <td>CRIMINAL ATTEMPT</td>\n",
              "      <td>Attempt</td>\n",
              "    </tr>\n",
              "    <tr>\n",
              "      <th>3</th>\n",
              "      <td>CRIM VIOL OF PROTECTIVE ORDER         DF</td>\n",
              "      <td>Order</td>\n",
              "    </tr>\n",
              "    <tr>\n",
              "      <th>4</th>\n",
              "      <td>CRIM VIOL ST CRIM RESTR ORDER         DF</td>\n",
              "      <td>Order</td>\n",
              "    </tr>\n",
              "    <tr>\n",
              "      <th>...</th>\n",
              "      <td>...</td>\n",
              "      <td>...</td>\n",
              "    </tr>\n",
              "    <tr>\n",
              "      <th>292</th>\n",
              "      <td>FAILURE TO CARRY DRIVERS LICENSE       M</td>\n",
              "      <td>Order</td>\n",
              "    </tr>\n",
              "    <tr>\n",
              "      <th>293</th>\n",
              "      <td>TOWN ORDINANCE $90 OR LESS (CI)</td>\n",
              "      <td>Order</td>\n",
              "    </tr>\n",
              "    <tr>\n",
              "      <th>294</th>\n",
              "      <td>PENALTY FAIL TO SUBMIT FINGERPRINTS</td>\n",
              "      <td>Order</td>\n",
              "    </tr>\n",
              "    <tr>\n",
              "      <th>295</th>\n",
              "      <td>THEFT OF NUMBER PLATE OR INSER         M</td>\n",
              "      <td>Property</td>\n",
              "    </tr>\n",
              "    <tr>\n",
              "      <th>296</th>\n",
              "      <td>CRIMINAL SIMULATION</td>\n",
              "      <td>Person</td>\n",
              "    </tr>\n",
              "  </tbody>\n",
              "</table>\n",
              "<p>297 rows × 2 columns</p>\n",
              "</div>"
            ],
            "text/plain": [
              "                                 Offense_Type   Category\n",
              "0    CRIMINAL POSS OF PISTOL/REVOLVER      DF     Weapon\n",
              "1       VIOLATION OF PROBATION OR COND DISCHG  Probation\n",
              "2                            CRIMINAL ATTEMPT    Attempt\n",
              "3    CRIM VIOL OF PROTECTIVE ORDER         DF      Order\n",
              "4    CRIM VIOL ST CRIM RESTR ORDER         DF      Order\n",
              "..                                        ...        ...\n",
              "292  FAILURE TO CARRY DRIVERS LICENSE       M      Order\n",
              "293           TOWN ORDINANCE $90 OR LESS (CI)      Order\n",
              "294       PENALTY FAIL TO SUBMIT FINGERPRINTS      Order\n",
              "295  THEFT OF NUMBER PLATE OR INSER         M   Property\n",
              "296                       CRIMINAL SIMULATION     Person\n",
              "\n",
              "[297 rows x 2 columns]"
            ]
          },
          "metadata": {
            "tags": []
          },
          "execution_count": 179
        }
      ]
    },
    {
      "cell_type": "code",
      "metadata": {
        "colab": {
          "base_uri": "https://localhost:8080/"
        },
        "id": "iBrswz-Lx9B1",
        "outputId": "25f9ad61-46bf-421a-da56-597e6689aa4d"
      },
      "source": [
        "join_df.info()"
      ],
      "execution_count": null,
      "outputs": [
        {
          "output_type": "stream",
          "text": [
            "<class 'pandas.core.frame.DataFrame'>\n",
            "Int64Index: 297 entries, 0 to 296\n",
            "Data columns (total 2 columns):\n",
            " #   Column        Non-Null Count  Dtype \n",
            "---  ------        --------------  ----- \n",
            " 0   Offense_Type  297 non-null    object\n",
            " 1   Category      297 non-null    object\n",
            "dtypes: object(2)\n",
            "memory usage: 7.0+ KB\n"
          ],
          "name": "stdout"
        }
      ]
    },
    {
      "cell_type": "code",
      "metadata": {
        "colab": {
          "base_uri": "https://localhost:8080/",
          "height": 204
        },
        "id": "yQqCN7dNxhNj",
        "outputId": "c4fe3a7c-5028-41fd-bea6-e072f1e46cc3"
      },
      "source": [
        "df_2['Offense_Total'] = df_2.Offense_Type.value_counts()\n",
        "df_2.head()"
      ],
      "execution_count": null,
      "outputs": [
        {
          "output_type": "execute_result",
          "data": {
            "text/html": [
              "<div>\n",
              "<style scoped>\n",
              "    .dataframe tbody tr th:only-of-type {\n",
              "        vertical-align: middle;\n",
              "    }\n",
              "\n",
              "    .dataframe tbody tr th {\n",
              "        vertical-align: top;\n",
              "    }\n",
              "\n",
              "    .dataframe thead th {\n",
              "        text-align: right;\n",
              "    }\n",
              "</style>\n",
              "<table border=\"1\" class=\"dataframe\">\n",
              "  <thead>\n",
              "    <tr style=\"text-align: right;\">\n",
              "      <th></th>\n",
              "      <th>Offense_Type</th>\n",
              "      <th>Category</th>\n",
              "      <th>Offense_Total</th>\n",
              "    </tr>\n",
              "  </thead>\n",
              "  <tbody>\n",
              "    <tr>\n",
              "      <th>0</th>\n",
              "      <td>CRIMINAL POSS OF PISTOL/REVOLVER      DF</td>\n",
              "      <td>Weapon</td>\n",
              "      <td>NaN</td>\n",
              "    </tr>\n",
              "    <tr>\n",
              "      <th>1</th>\n",
              "      <td>VIOLATION OF PROBATION OR COND DISCHG</td>\n",
              "      <td>Probation</td>\n",
              "      <td>NaN</td>\n",
              "    </tr>\n",
              "    <tr>\n",
              "      <th>2</th>\n",
              "      <td>CRIMINAL ATTEMPT</td>\n",
              "      <td>Attempt</td>\n",
              "      <td>NaN</td>\n",
              "    </tr>\n",
              "    <tr>\n",
              "      <th>3</th>\n",
              "      <td>CRIM VIOL OF PROTECTIVE ORDER         DF</td>\n",
              "      <td>Order</td>\n",
              "      <td>NaN</td>\n",
              "    </tr>\n",
              "    <tr>\n",
              "      <th>4</th>\n",
              "      <td>CRIM VIOL ST CRIM RESTR ORDER         DF</td>\n",
              "      <td>Order</td>\n",
              "      <td>NaN</td>\n",
              "    </tr>\n",
              "  </tbody>\n",
              "</table>\n",
              "</div>"
            ],
            "text/plain": [
              "                               Offense_Type   Category  Offense_Total\n",
              "0  CRIMINAL POSS OF PISTOL/REVOLVER      DF     Weapon            NaN\n",
              "1     VIOLATION OF PROBATION OR COND DISCHG  Probation            NaN\n",
              "2                          CRIMINAL ATTEMPT    Attempt            NaN\n",
              "3  CRIM VIOL OF PROTECTIVE ORDER         DF      Order            NaN\n",
              "4  CRIM VIOL ST CRIM RESTR ORDER         DF      Order            NaN"
            ]
          },
          "metadata": {
            "tags": []
          },
          "execution_count": 181
        }
      ]
    },
    {
      "cell_type": "code",
      "metadata": {
        "colab": {
          "base_uri": "https://localhost:8080/"
        },
        "id": "e4lnTQy4WxO-",
        "outputId": "df147c27-fd6f-44ca-a1c1-9d5e7fb6e271"
      },
      "source": [
        "# Sum of each Type of Offense\n",
        "df_offense = df['OFFENSE'].value_counts()\n",
        "df_offense.head(50)"
      ],
      "execution_count": null,
      "outputs": [
        {
          "output_type": "execute_result",
          "data": {
            "text/plain": [
              "VIOLATION OF PROBATION OR COND DISCHG       624533\n",
              "CRIM VIOL OF PROTECTIVE ORDER         DF    271137\n",
              "INJURY OR RISK OF INJURY TO MINOR      F    244891\n",
              "ASSAULT, FIRST DEGREE                 BF    215600\n",
              "ROBBERY, FIRST DEGREE                 BF    199344\n",
              "MURDER                                AF    181047\n",
              "BURGLARY, THIRD DEGREE                DF    161058\n",
              "SEXUAL ASSAULT, FIRST DEGREE           F    150423\n",
              "ASSAULT ON POLICE OR FIRE OFFICER     CF    127687\n",
              "CRIMINAL POSSESSION OF A PISTOL       DF    120774\n",
              "FAILURE TO APPEAR, FIRST DEGREE       DF    119256\n",
              "SALE OF NARC/AMPHET BY NON-DEPENDENT   F    118411\n",
              "CRIMINAL POSS OF PISTOL/REVOLVER      DF    115269\n",
              "HOME INVASION                         AF    114780\n",
              "CRIMINAL ATTEMPT                            109950\n",
              "ASSAULT, THIRD DEGREE                 AM    101047\n",
              "FAILURE TO APPEAR, SECOND DEGREE      AM     94738\n",
              "ASSAULT, SECOND DEGREE                DF     94226\n",
              "LARCENY, FIRST DEGREE                 BF     91796\n",
              "LARCENY, THIRD DEGREE                 DF     85770\n",
              "INTERFERING WITH AN OFFICER           AM     84315\n",
              "LARCENY, SECOND DEGREE                CF     71687\n",
              "BURGLARY, FIRST DEGREE                BF     70109\n",
              "STRANGULATION 2ND DEGREE              DF     62622\n",
              "SALE OF HALLUCIGEN/NARCOTIC SUBSTANCE  F     61971\n",
              "THREATENING                           AM     58793\n",
              "POSSESSION OF NARCOTICS                      57539\n",
              "STEALING A FIREARM                    DF     56530\n",
              "CONSPIRACY                                   56450\n",
              "BURGLARY, SECOND DEGREE               CF     51006\n",
              "ROBBERY, SECOND DEGREE                CF     49934\n",
              "SEXUAL ASSAULT, SECOND DEGREE          F     49878\n",
              "CRIM VIOL OF PROTECTIVE ORDER         AM     38441\n",
              "YOUTHFUL OFFENDER                            37936\n",
              "ROBBERY, THIRD DEGREE                 DF     35246\n",
              "FELONY MURDER                         AF     34322\n",
              "ARREST WITHOUT WARRANT                       31576\n",
              "SEXUAL ASSAULT 1ST DEGREE-AGGRVTD      F     31312\n",
              "LARCENY, SIXTH DEGREE                 CM     30649\n",
              "SALE OF HEROIN, COC BY NON-DEPENDENT         30107\n",
              "KIDNAPPING, FIRST DEGREE              AF     28465\n",
              "CRIMINAL TRESPASS, FIRST DEGREE       AM     28302\n",
              "CRIM VIOL ST CRIM RESTR ORDER         DF     27847\n",
              "CRIM VIOL RES ORDER                   AM     27229\n",
              "DRUG PARAPHERNALIA IN DRUG FACTORY     F     25182\n",
              "CARRYING WEAPON IN A MOTOR VEHICLE     F     24864\n",
              "ARSON, FIRST DEGREE                   AF     24500\n",
              "OPERATE UNDER INFLU OF LIQ OR DRUGS          23555\n",
              "ASSAULT, 1ST VICTIM 60 OR OVER        BF     22399\n",
              "MANSLAUGHTER, FIRST DEGREE            BF     21388\n",
              "Name: OFFENSE, dtype: int64"
            ]
          },
          "metadata": {
            "tags": []
          },
          "execution_count": 182
        }
      ]
    },
    {
      "cell_type": "code",
      "metadata": {
        "colab": {
          "base_uri": "https://localhost:8080/"
        },
        "id": "M_DUWoh9Zpvt",
        "outputId": "48d0cbd4-85eb-441b-d2b7-6a4b66d27619"
      },
      "source": [
        "# Group by Offense then Sum of each race\n",
        "df_race = df['RACE'].value_counts()\n",
        "df_race.head()"
      ],
      "execution_count": null,
      "outputs": [
        {
          "output_type": "execute_result",
          "data": {
            "text/plain": [
              "BLACK       375056\n",
              "WHITE       324737\n",
              "HISPANIC    242387\n",
              "ASIAN         4615\n",
              "AMER IND      2324\n",
              "Name: RACE, dtype: int64"
            ]
          },
          "metadata": {
            "tags": []
          },
          "execution_count": 58
        }
      ]
    },
    {
      "cell_type": "code",
      "metadata": {
        "colab": {
          "base_uri": "https://localhost:8080/",
          "height": 204
        },
        "id": "iSGcOuwqZ0x9",
        "outputId": "c59f6152-4471-4bfb-ee7a-c87101db14e6"
      },
      "source": [
        "# Sum of bail amount by race\n",
        "df_racebail = df.groupby(['RACE'], as_index=False).agg({'BOND AMOUNT': sum})\n",
        "df_racebail.head()"
      ],
      "execution_count": null,
      "outputs": [
        {
          "output_type": "execute_result",
          "data": {
            "text/html": [
              "<div>\n",
              "<style scoped>\n",
              "    .dataframe tbody tr th:only-of-type {\n",
              "        vertical-align: middle;\n",
              "    }\n",
              "\n",
              "    .dataframe tbody tr th {\n",
              "        vertical-align: top;\n",
              "    }\n",
              "\n",
              "    .dataframe thead th {\n",
              "        text-align: right;\n",
              "    }\n",
              "</style>\n",
              "<table border=\"1\" class=\"dataframe\">\n",
              "  <thead>\n",
              "    <tr style=\"text-align: right;\">\n",
              "      <th></th>\n",
              "      <th>RACE</th>\n",
              "      <th>BOND AMOUNT</th>\n",
              "    </tr>\n",
              "  </thead>\n",
              "  <tbody>\n",
              "    <tr>\n",
              "      <th>0</th>\n",
              "      <td>AMER IND</td>\n",
              "      <td>219506050</td>\n",
              "    </tr>\n",
              "    <tr>\n",
              "      <th>1</th>\n",
              "      <td>ASIAN</td>\n",
              "      <td>664259341</td>\n",
              "    </tr>\n",
              "    <tr>\n",
              "      <th>2</th>\n",
              "      <td>BLACK</td>\n",
              "      <td>93904391093</td>\n",
              "    </tr>\n",
              "    <tr>\n",
              "      <th>3</th>\n",
              "      <td>HISPANIC</td>\n",
              "      <td>47131683185</td>\n",
              "    </tr>\n",
              "    <tr>\n",
              "      <th>4</th>\n",
              "      <td>WHITE</td>\n",
              "      <td>42704358116</td>\n",
              "    </tr>\n",
              "  </tbody>\n",
              "</table>\n",
              "</div>"
            ],
            "text/plain": [
              "       RACE  BOND AMOUNT\n",
              "0  AMER IND    219506050\n",
              "1     ASIAN    664259341\n",
              "2     BLACK  93904391093\n",
              "3  HISPANIC  47131683185\n",
              "4     WHITE  42704358116"
            ]
          },
          "metadata": {
            "tags": []
          },
          "execution_count": 60
        }
      ]
    },
    {
      "cell_type": "code",
      "metadata": {
        "colab": {
          "base_uri": "https://localhost:8080/",
          "height": 204
        },
        "id": "NfmlcX_rbL0p",
        "outputId": "fb30efd5-fb0c-4d7f-d023-7e160be012c2"
      },
      "source": [
        "# mean of bail amount and age by race\n",
        "df_racebailmean = df.groupby(['RACE'], as_index=False).mean()\n",
        "df_racebailmean.head()"
      ],
      "execution_count": null,
      "outputs": [
        {
          "output_type": "execute_result",
          "data": {
            "text/html": [
              "<div>\n",
              "<style scoped>\n",
              "    .dataframe tbody tr th:only-of-type {\n",
              "        vertical-align: middle;\n",
              "    }\n",
              "\n",
              "    .dataframe tbody tr th {\n",
              "        vertical-align: top;\n",
              "    }\n",
              "\n",
              "    .dataframe thead th {\n",
              "        text-align: right;\n",
              "    }\n",
              "</style>\n",
              "<table border=\"1\" class=\"dataframe\">\n",
              "  <thead>\n",
              "    <tr style=\"text-align: right;\">\n",
              "      <th></th>\n",
              "      <th>RACE</th>\n",
              "      <th>AGE</th>\n",
              "      <th>BOND AMOUNT</th>\n",
              "    </tr>\n",
              "  </thead>\n",
              "  <tbody>\n",
              "    <tr>\n",
              "      <th>0</th>\n",
              "      <td>AMER IND</td>\n",
              "      <td>32.337780</td>\n",
              "      <td>94451.828744</td>\n",
              "    </tr>\n",
              "    <tr>\n",
              "      <th>1</th>\n",
              "      <td>ASIAN</td>\n",
              "      <td>34.905092</td>\n",
              "      <td>143934.851788</td>\n",
              "    </tr>\n",
              "    <tr>\n",
              "      <th>2</th>\n",
              "      <td>BLACK</td>\n",
              "      <td>32.193606</td>\n",
              "      <td>250374.320349</td>\n",
              "    </tr>\n",
              "    <tr>\n",
              "      <th>3</th>\n",
              "      <td>HISPANIC</td>\n",
              "      <td>32.865174</td>\n",
              "      <td>194448.065222</td>\n",
              "    </tr>\n",
              "    <tr>\n",
              "      <th>4</th>\n",
              "      <td>WHITE</td>\n",
              "      <td>36.398569</td>\n",
              "      <td>131504.442413</td>\n",
              "    </tr>\n",
              "  </tbody>\n",
              "</table>\n",
              "</div>"
            ],
            "text/plain": [
              "       RACE        AGE    BOND AMOUNT\n",
              "0  AMER IND  32.337780   94451.828744\n",
              "1     ASIAN  34.905092  143934.851788\n",
              "2     BLACK  32.193606  250374.320349\n",
              "3  HISPANIC  32.865174  194448.065222\n",
              "4     WHITE  36.398569  131504.442413"
            ]
          },
          "metadata": {
            "tags": []
          },
          "execution_count": 68
        }
      ]
    },
    {
      "cell_type": "code",
      "metadata": {
        "colab": {
          "base_uri": "https://localhost:8080/",
          "height": 204
        },
        "id": "lRhuTAR2b5-K",
        "outputId": "8d47c737-05f5-4869-8da9-88df41ffa00c"
      },
      "source": [
        "# median of bail amount and age by race\n",
        "df_racebailmed = df.groupby(['RACE'], as_index=False).median()\n",
        "df_racebailmed.head()"
      ],
      "execution_count": null,
      "outputs": [
        {
          "output_type": "execute_result",
          "data": {
            "text/html": [
              "<div>\n",
              "<style scoped>\n",
              "    .dataframe tbody tr th:only-of-type {\n",
              "        vertical-align: middle;\n",
              "    }\n",
              "\n",
              "    .dataframe tbody tr th {\n",
              "        vertical-align: top;\n",
              "    }\n",
              "\n",
              "    .dataframe thead th {\n",
              "        text-align: right;\n",
              "    }\n",
              "</style>\n",
              "<table border=\"1\" class=\"dataframe\">\n",
              "  <thead>\n",
              "    <tr style=\"text-align: right;\">\n",
              "      <th></th>\n",
              "      <th>RACE</th>\n",
              "      <th>AGE</th>\n",
              "      <th>BOND AMOUNT</th>\n",
              "    </tr>\n",
              "  </thead>\n",
              "  <tbody>\n",
              "    <tr>\n",
              "      <th>0</th>\n",
              "      <td>AMER IND</td>\n",
              "      <td>32</td>\n",
              "      <td>50000</td>\n",
              "    </tr>\n",
              "    <tr>\n",
              "      <th>1</th>\n",
              "      <td>ASIAN</td>\n",
              "      <td>32</td>\n",
              "      <td>50060</td>\n",
              "    </tr>\n",
              "    <tr>\n",
              "      <th>2</th>\n",
              "      <td>BLACK</td>\n",
              "      <td>29</td>\n",
              "      <td>100000</td>\n",
              "    </tr>\n",
              "    <tr>\n",
              "      <th>3</th>\n",
              "      <td>HISPANIC</td>\n",
              "      <td>31</td>\n",
              "      <td>95000</td>\n",
              "    </tr>\n",
              "    <tr>\n",
              "      <th>4</th>\n",
              "      <td>WHITE</td>\n",
              "      <td>34</td>\n",
              "      <td>50000</td>\n",
              "    </tr>\n",
              "  </tbody>\n",
              "</table>\n",
              "</div>"
            ],
            "text/plain": [
              "       RACE  AGE  BOND AMOUNT\n",
              "0  AMER IND   32        50000\n",
              "1     ASIAN   32        50060\n",
              "2     BLACK   29       100000\n",
              "3  HISPANIC   31        95000\n",
              "4     WHITE   34        50000"
            ]
          },
          "metadata": {
            "tags": []
          },
          "execution_count": 69
        }
      ]
    },
    {
      "cell_type": "markdown",
      "metadata": {
        "id": "GH7F2do2ZKDY"
      },
      "source": [
        "**Data Visualization**"
      ]
    },
    {
      "cell_type": "code",
      "metadata": {
        "id": "nBipkr6-ZIz1"
      },
      "source": [
        "# Basic Plots with Matplotlib\n",
        "import matplotlib as mpl\n",
        "import matplotlib.pyplot as plt\n",
        "plt.style.use('classic')"
      ],
      "execution_count": null,
      "outputs": []
    },
    {
      "cell_type": "code",
      "metadata": {
        "id": "cWymH38JZFkO"
      },
      "source": [
        "# matplotlib plot\n",
        "import matplotlib.pyplot as plt\n",
        "df_year.plot(x = 'year', grid=True)\n",
        "plt.xlabel('year')\n",
        "plt.ylabel('Column name')"
      ],
      "execution_count": null,
      "outputs": []
    },
    {
      "cell_type": "code",
      "metadata": {
        "id": "q-jfM9s_Zp7W"
      },
      "source": [
        "# matplotlib barplot\n",
        "import matplotlib.pyplot as plt\n",
        "x = df_year['year']\n",
        "y = df_year['Column name']\n",
        "plt.bar(x, y)\n",
        "plt.xlabel('Year')\n",
        "plt.ylabel('Column name')\n",
        "plt.show()"
      ],
      "execution_count": null,
      "outputs": []
    },
    {
      "cell_type": "markdown",
      "metadata": {
        "id": "uJUVkwwNcCXo"
      },
      "source": [
        "**Statistics**"
      ]
    },
    {
      "cell_type": "code",
      "metadata": {
        "id": "hsk3G91PcFDy"
      },
      "source": [
        "# Multiple functions\n",
        "grouped['C'].agg([np.sum, np.mean, np.std])"
      ],
      "execution_count": null,
      "outputs": []
    },
    {
      "cell_type": "code",
      "metadata": {
        "id": "rJLbp6nRcNw6"
      },
      "source": [
        "df.groupby('A').aggregate('C').mean()"
      ],
      "execution_count": null,
      "outputs": []
    },
    {
      "cell_type": "code",
      "metadata": {
        "id": "TLac9VKbcQ2E"
      },
      "source": [
        "df.groupby('A').C.mean()"
      ],
      "execution_count": null,
      "outputs": []
    },
    {
      "cell_type": "code",
      "metadata": {
        "id": "xYv6xaHhcRM5"
      },
      "source": [
        "# Bootstrapping \n",
        "bootstrap = pd.DataFrame({'name_of_sampling_df': [pop.sample(100, replace = True).VARIABLE_NAME_HERE.mean() for i in range (1000)]})"
      ],
      "execution_count": null,
      "outputs": []
    }
  ]
}